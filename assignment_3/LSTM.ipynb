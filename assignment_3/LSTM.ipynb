{
 "cells": [
  {
   "cell_type": "code",
   "execution_count": 16,
   "metadata": {},
   "outputs": [],
   "source": [
    "import numpy as np\n",
    "import matplotlib.pyplot as plt\n",
    "import random"
   ]
  },
  {
   "cell_type": "markdown",
   "metadata": {},
   "source": [
    "## Create Dataset"
   ]
  },
  {
   "cell_type": "code",
   "execution_count": 78,
   "metadata": {},
   "outputs": [
    {
     "name": "stdout",
     "output_type": "stream",
     "text": [
      "Train Data Sample:\n",
      "[('aaaaaaaaaaaaaaaabb', 0), ('aaaaaabbbbbbcccccc', 1), ('aaaaabbbbbccccc', 1), ('abbbbbbbccccccccccc', 0), ('aaaaaaabbbbbbbb', 0), ('aaaaaaaabbbccc', 0), ('aaaaaabbbbbbcccccc', 1), ('aaabbbccc', 1), ('aaabbbccc', 1), ('abc', 1), ('aaaaabbbbbccccc', 1), ('abbbbbbbbbbbbbbbccc', 0), ('', 1), ('aaaaaabbbbbbcccccc', 1), ('aaabbbccc', 1), ('aaaaaabbbbbbcccccc', 1), ('aaaaaabbbbbbcccccc', 1), ('aaaaaaaaaaaaabbbc', 0), ('aaabbbccc', 1), ('aaaaaaaaaaaaaaaaabb', 0), ('aaaaabbbbbccccc', 1), ('aaabbbbbbbbbbb', 0), ('aaaaaaaaaaaaaaaaaab', 0), ('abc', 1), ('abc', 1), ('aaaaaaaaaaaaaaaaaab', 0), ('aaaaaaabb', 0), ('aaabbbbbbbbb', 0), ('aaabbbccc', 1), ('abc', 1), ('aaaaabbbbbccccc', 1), ('abc', 1), ('aaaaabbbbbccccc', 1), ('aaaaaaaaaaaaaaaaaa', 0), ('aaaabbbbcccc', 1), ('aaaaaabbbbbbcccccc', 1), ('', 1), ('aaaaaaabbb', 0), ('aaaabbbbcccc', 1), ('aaaaaaaaaaaaabbbbbb', 0), ('abc', 1), ('aaaaaabbbbbbcccccc', 1), ('', 1), ('aaaaabbbbbccccc', 1), ('aaabbbccc', 1), ('aaaabbbbbbbbb', 0), ('aaaaaabb', 0), ('aaaaaaaaaaaaaaaaabc', 0), ('aaabbbccc', 1), ('', 1), ('aaaaaaaaaaaab', 0), ('aaaaaabbbbbbbbb', 0), ('aaaabbbbcccc', 1), ('aaaaabbbbbbbbbbbc', 0), ('aaaaaaaaaaaaaaaaaaa', 0), ('aaaaabbbbbccccc', 1), ('aaaaaaaaaaaaaaabbb', 0), ('', 1), ('abc', 1), ('aaaaaabbbbbbbbbbbb', 0), ('aaaaaaaaaabb', 0), ('aaaaabbbccccc', 0), ('abbbbbbbbbbbb', 0), ('aaaaaabbbbbbcccccc', 1), ('aaabbbbbbbbb', 0), ('aaaaaabbbbbbcccccc', 1), ('aaaabbbbcccc', 1), ('aaaaaaabbbbbbbbbbbbb', 0), ('abc', 1), ('aaaabbbbcccc', 1), ('aaaabbbbcccc', 1), ('aaaabbbbcccc', 1), ('aaabbbccc', 1), ('aaaaaabbbbbbcccccc', 1), ('aaaabbbbcccc', 1), ('abc', 1), ('aaaaabbbbbbbbbbbbb', 0), ('', 1), ('aaaaaaaaaaabbbbbbbbb', 0), ('aaaaaaaaaabbbbbb', 0), ('aaabbbbbbbbbbbbbbbbb', 0), ('aaabbbccc', 1), ('abbbbbbbbbcccccc', 0), ('aaaaaaaaaaaaabb', 0), ('aaaabbbbcccc', 1), ('aaaaaaaaaaaaaaaaabbb', 0), ('abccccccccccc', 0), ('aaaaabcccccccccccc', 0), ('aaaabbbbcccc', 1), ('', 1), ('aabbbbbccc', 0), ('aaaabbbbcccc', 1), ('aaaaaaaaaaaaaaaabbb', 0), ('aaaaaaaaaabbbbbbbcc', 0), ('aaaaaaaaabbbbbbbcc', 0), ('bbbbbbbbbbbbbb', 0), ('aaabbbccc', 1), ('aaaaaaaaaaaaaaaa', 0), ('aaaaaabbbbbbcccccc', 1), ('aaabbbccc', 1), ('aaaaabbbbbbbccccc', 0), ('aaaabbbbcccc', 1), ('aaaabbbbcccc', 1), ('aaabbbbbbbbbbbbbbbbb', 0), ('aaaaaaaabbbbbbbbbb', 0), ('aaaaaaaaaaaaabbbbbb', 0), ('aaaaaaaaaaab', 0), ('aaabbbccc', 1), ('aaaabbbbcccc', 1), ('aaaaaaaaaaaabbbbbbbb', 0), ('aaaabbbbbbbbb', 0), ('aaaaaaaaac', 0), ('aaaaaaaaaaaaabbbb', 0), ('aaabbbccc', 1), ('aaaaaabbbbbbcccccc', 1), ('aaaaaabbbbbbcccccc', 1), ('aaaaaabbbbbbbb', 0), ('aaaaaaaaaaaabb', 0), ('aaaaaaabbbbbb', 0), ('bbbb', 0), ('aaaabbbbbbbbbbbb', 0), ('aaaaaaaabbbbbbbbb', 0), ('aaaaaabbbbbbcccccc', 1), ('aaaabbbbbbbbbbbbb', 0), ('aaaaabbbbbccccc', 1), ('aaaaabbbbbccccc', 1), ('aaaaaaaaaaaaaaaaabb', 0), ('aaaaaaaaaaaaab', 0), ('aaabbbbbbbbbbbbbbbb', 0), ('aaaaaaaaaaaaaaaaaaa', 0), ('', 1), ('aaaaaaaaaaaaaaabbbb', 0), ('aaaaabbbbbccccc', 1), ('aaaaaaaaaaaaaaaab', 0), ('aaaaaaaabbb', 0), ('', 1), ('abb', 0), ('aaaaabbbbbccccc', 1), ('aaaabbbbcccc', 1), ('aaaaabbbbbccccc', 1), ('aaabbbccc', 1), ('aaaaaaaabbbbbbbbbbb', 0), ('aaaaaaaaaaaaab', 0), ('aaaaaaaaaaaaaabbbb', 0), ('aaaaaaaaaaaabbbbbb', 0), ('aaaaaaaabbbbcccc', 0), ('aaaabbbbbb', 0), ('aaaaaaaaaaaaaaaaa', 0), ('aaaabbbbbbbbbbbbb', 0), ('bbbbbbbbbbbbb', 0), ('aaaaaabbbbbbcccccc', 1), ('', 1), ('aaaaabbbbbbbbbbbbbbb', 0), ('aaaabbbbcccc', 1), ('bbbbbbbbbbbbbbbbbbbb', 0), ('aaaaaaaaaaaaabbbbb', 0), ('aaaaabbbbbccccc', 1), ('', 1), ('aaaaabbbbbbbbbbbbb', 0), ('aaaaaabbbbbbcccccc', 1), ('aaaabbbbbbbbbbbbb', 0), ('', 1), ('', 1), ('', 1), ('aaaaabbbbbccccc', 1), ('abc', 1), ('abbbbbbbbbbbb', 0), ('', 1), ('abbbbbbbbbbbbb', 0), ('aaaaaabbbbbbbbbbbbb', 0), ('aaaaaaaaaabbccccccc', 0), ('aaaaaaaaaabbbbbccc', 0), ('aaaaaaaaaaaaaaabbb', 0), ('aaaaaaaaaaaabbbccc', 0), ('aaaaaaaaaaaaaaaaaa', 0), ('aaaaaaaaaaaaaaaaa', 0), ('aaaaaaaabbbbcccc', 0), ('aaaaaabbbbbbbbbb', 0), ('aaaaaabbbbbbbbbbbbbb', 0), ('aaaaaabbbbbbcccccc', 1), ('aaaaaaaaaabbbbbbb', 0), ('aaaaaaaaaaaaaaaab', 0), ('aaaaaaaaaaaaaaab', 0), ('aaaaaaaaaaaaaaaaabb', 0), ('abc', 1), ('bbbbbbcccccccccc', 0), ('aaabc', 0), ('aaaaaabbbbbbcccccc', 1), ('aaaaabbbbbbbb', 0), ('aaabbbccc', 1), ('', 1), ('aaaabbbbcccc', 1), ('aaaaaaaaaaabbbbbbbbc', 0), ('aaaabbbbccc', 0), ('abc', 1), ('abc', 1), ('aaaaaaaaaaaabbbbb', 0), ('aaaaaaaaaaaabb', 0), ('aaaaaaaaaaaaaaaabbb', 0), ('aaaaaaaaaaaaabb', 0), ('aaaaaabbbbbbcccccc', 1), ('abbbbbbbbbbbbbbbbb', 0), ('aaaaabbbbbccccc', 1), ('aaaaaaaaaaaaaaaaabb', 0), ('aaaaabbb', 0), ('aaaaaabbbbbbcccccc', 1), ('', 1), ('abc', 1), ('aaaaaaaaaaaaaaaabbbb', 0), ('aaaaaaaaaaaaaaaaaab', 0), ('aaabbbccc', 1), ('aaabbbccc', 1), ('aaaaaaaaaaaaaaaaaabb', 0), ('aaaaabbbbbbbbbbb', 0), ('abbbbbbccccccc', 0), ('aaaabbbbcccc', 1), ('aaaaaaaaaabbbbbbb', 0), ('aaaaaabbbbbbcccccc', 1), ('aaaabbbbcccc', 1), ('aaaabbbbcccc', 1), ('aaaaaabbbbbbcccccc', 1), ('aaaab', 0), ('aaabbbccc', 1), ('aaaabbbbcccc', 1), ('aaaaaaaaaaaaabbb', 0), ('aaaaaaaaaaaaaaaaaabb', 0), ('aaaabbbbcccc', 1), ('aaaaabbb', 0), ('aaaaaaaaaaaaabb', 0), ('aabbbbbbbcccccc', 0), ('', 1), ('aaabbbccc', 1), ('aaaaaaaaaaaaaaaaaa', 0), ('aaaaabbbbbbbbbbbbbbb', 0), ('aaaabbbbbccccccccccc', 0), ('aaaaaabbbbbbcccccc', 1), ('aaaabbbbcccc', 1), ('', 1), ('', 1), ('aaaaabbbbbccccc', 1), ('abc', 1), ('', 1), ('aaaaaaaaaaaaaaaaaaa', 0), ('abbbbbbbbbbb', 0), ('aaaaaaaaaabbbbbbbbc', 0), ('aaabbbbbbbbbbbbbbbb', 0), ('aabbbbbbbbbbc', 0), ('aaaaaaaaaaaaabbbb', 0), ('aaaaabbbbbbbbbbbbb', 0), ('aaaabbbbbbb', 0), ('aaabbbbbb', 0), ('aaaaaabbbbbbcccccc', 1), ('aaaabbbbcccc', 1), ('aaaabbbbbbbb', 0), ('aaaaaaaaaaaaabbbbbbb', 0), ('aaaaaaabbb', 0), ('aaaaabbbbbccccc', 1), ('aaaaaaaaaaaaaaaabb', 0), ('', 1), ('bbbbbbbbbbbbbb', 0), ('abbbbbbbbbbbbbbbbbbc', 0), ('aaaabbbbcccc', 1), ('aaaaaaaaaaaaaabb', 0), ('aaaabbbbcccc', 1), ('', 1), ('aaaabbbbbbcccc', 0), ('abc', 1), ('', 1), ('aaaaaaaaaaaaaaaaabb', 0), ('', 1), ('aaaaaabbbbbbcccccc', 1), ('aaaaabbbbcccccccccc', 0), ('aaaaaaaaabcccc', 0), ('aaaaaaaaaaaaaaaaaac', 0), ('aabbbbbbbccccccccc', 0), ('aaabbbbbbbbb', 0), ('aaaaabbbbbccccc', 1), ('aaaabbbbcccc', 1), ('aaaaaabbbbbbcccccc', 1), ('aaabbbccc', 1), ('aaaaaaaaabbbcccccc', 0), ('aaaaaaaabbbbbbbbb', 0), ('aabbbbbbbbb', 0), ('aaaaaaaaaaaaaaaaaabb', 0), ('aaabbbccc', 1), ('aaaaaaaaaaaabbbb', 0), ('aaabbbbbbbbcccccc', 0), ('aaaaaaaaaabbbb', 0), ('aaaaaaaaaaaaaaaaaa', 0), ('aaaaaaaaaaaabbbbb', 0), ('aaaaaaaaaaaaaaaaa', 0), ('abbbbbbbbbb', 0), ('aaaaaaaaaaaaaaaaaaab', 0), ('aaaaaaaaaabbbbbbbbbb', 0), ('bccccccccccc', 0), ('aaabbbbbbcccccc', 0), ('', 1), ('aaaaaabbbbbbcccccc', 1), ('aaaabbbbcccc', 1), ('aaaaaaaaaabcccccccc', 0), ('aaaaaabbbbbbcccccc', 1), ('abc', 1), ('aaaaaabbbbbbcccccc', 1), ('', 1), ('aaaaabbbbbccccc', 1), ('aaaaaabbbbbbbbbb', 0), ('', 1), ('aaaaaabbccc', 0), ('aaaaaaaaaaaaaaaaaaab', 0), ('aaabbbccc', 1), ('aaaaaaaaaaaabbbbb', 0), ('aaabbbccc', 1), ('aaaaabbbbbbb', 0), ('aaaaaaaaaaa', 0), ('aaaabbbbcccc', 1), ('aaaaaaaaaaaaaaaab', 0), ('aaabbbccc', 1), ('aaaaabbbbbccccc', 1), ('bbbbbbccccccccccccc', 0), ('aaaaaabbbbbbcccccc', 1), ('aaaaaaaaaabb', 0), ('aaaaaaaaaaaabbbbbbbb', 0), ('aaaaaabbbbbbcccccc', 1), ('aaabbbccc', 1), ('aaaaaaaabbbb', 0), ('aaaaaabb', 0), ('aaaabbbbcccc', 1), ('aaaaaaaabcc', 0), ('aaaaaaaaaaaab', 0), ('', 1), ('aaaaabbbbbccccc', 1), ('aaaaaaaaaaaaacc', 0), ('abc', 1), ('aaaaaabbbbbbcccccc', 1), ('aaaabbbbcccc', 1), ('aaaaabbbbbccccc', 1), ('aaaabbbbcccc', 1), ('aaaaaaaaaaaaaaabb', 0), ('aaaaaaaaaaaaaaaaaaa', 0), ('aaaaaaaaaaaaaaabbbbb', 0), ('aaaaaabbbbbbcccccc', 1), ('aaaaaaaabbbccccc', 0), ('abc', 1), ('aaaaaaaabbb', 0), ('aaaabbbbcccc', 1), ('aaaaaaaaabbbbbb', 0), ('aaaaaabbbbbbcccccc', 1), ('aaabbb', 0), ('aaaaaabbbbbbcccccc', 1), ('aaabbbccc', 1), ('', 1), ('aaaaaaaaaabccccc', 0), ('aaaaaaaaaaaaaaaaab', 0), ('abc', 1), ('aaaaaabbbbbccccccccc', 0), ('abc', 1), ('aaaaaaaaaaaaaabbbb', 0), ('aaaaaabbbbbbcccccc', 1), ('aaaaaabbbbbbcccccc', 1), ('aaaaaaaaaaaaaab', 0), ('abc', 1), ('aaaaaaaaaaaaaaabbbb', 0), ('aaabbbccc', 1), ('aaaaaaaaaaaabb', 0), ('aaaaabbbbbccccc', 1), ('aaabbbbbbbbbbcccccc', 0), ('aaaaabbbbbccccc', 1), ('aaaabbbbcccc', 1), ('aaaaaaaaaaaaaaab', 0), ('abc', 1), ('aaaabbbbcccc', 1), ('aaaaaaaaaabbbbbbb', 0), ('aaaaaaaaaaaaaaaaab', 0), ('bbbbbbbbbbbbbbbbbb', 0), ('aaaaabbbbbccccc', 1), ('aaaabbbbcccc', 1), ('aaaaaabbbbbbcccccc', 1), ('aaaaabbbbbccccc', 1), ('abc', 1), ('aaaabbbbbbbbbbbb', 0), ('aaaaaaaaabbbbbbbb', 0), ('aaaabbbbcccc', 1), ('aaabbbccc', 1), ('', 1), ('', 1), ('aaaaaaaaaaaaaabbbbb', 0), ('aaaaabbbbbccccc', 1), ('', 1), ('acccccccc', 0), ('abbbbbbbcccccccccc', 0), ('aacccccccccccccccc', 0), ('aaaabbbbcccc', 1), ('abc', 1), ('abc', 1), ('aaaaaabbbbbbcccccc', 1), ('aaaabbbbcccc', 1), ('aaaabbbbcccc', 1), ('', 1), ('aaaabbbbcccc', 1), ('aaaaaaaaaaaaaaaaabbb', 0), ('', 1), ('abc', 1), ('aaaaaaaaaabbbbbbbb', 0), ('abc', 1), ('abc', 1), ('aaaaaaaaaaaaaaaaaaab', 0), ('aaaaabbbbbccccc', 1), ('', 1), ('aaaaaabbbbbbcccccc', 1), ('bbbbbbbbcccccccccc', 0), ('aaaaaabbbbbbcccccc', 1), ('aaabbbccc', 1), ('', 1), ('', 1), ('aaabbbccc', 1), ('aaaaaaaaaabcc', 0), ('aaaaaaaaaaaaaab', 0), ('aaabbbccc', 1), ('abc', 1), ('aaaaabbbbbccccc', 1), ('aaaaabbbbb', 0), ('', 1), ('aaaaabbbbbccccc', 1), ('aaaaaabbbbbbcccccc', 1), ('aaaabbbbcccc', 1), ('', 1), ('', 1), ('aaaaaaaaaaabbb', 0), ('aaaaaaaaaaaaaaaaaaa', 0), ('aaabbbccc', 1), ('aaaaaaaabbbbbbbbbbbb', 0), ('bbbbbbb', 0), ('', 1), ('', 1), ('abc', 1), ('', 1), ('aaaaaabbbbbbcccccc', 1), ('bbbbbbb', 0), ('aaaaaaaaaabb', 0), ('aaabbbccc', 1), ('aaaaaaaaabbbbb', 0), ('aaaabbbbcccc', 1), ('', 1), ('aaaaaabbbbbbcccccc', 1), ('aaaabbbbcccc', 1), ('', 1), ('aaaaabbbbbccccc', 1), ('abc', 1), ('aaaaaaaaaaaa', 0), ('aaaaaaaaaaaaaaaaabb', 0), ('aaaabbbbbbbbb', 0), ('aaaaaabbbbbbbbbbbbb', 0), ('aaabbbccc', 1), ('aaaaaabbbbbbcccccc', 1), ('aaaaaaaaaaaaaaaabc', 0), ('aaaaaaaabbbbbbbbb', 0), ('aaaaaaabbbbbbb', 0), ('aaaaaaaaaaabbbcc', 0), ('aaaaaaaaaaaaaaaaaaa', 0), ('aaaaaaaaaaaaaaabb', 0), ('aaaaaaaaaab', 0), ('aaabbbccc', 1), ('abbbbbbbbbbbbbbbbbbb', 0), ('aaabbbccc', 1), ('aaaabbbbcccc', 1), ('aaaabbbbcccc', 1), ('aaaaaaabbbbb', 0), ('aaaaaaaaaaaaabbbbbbb', 0), ('', 1), ('aaaaaaaaaaaaaaaaaabb', 0), ('', 1), ('aaaaabbbbbbbbbbb', 0), ('aaaabbbbcccc', 1), ('aaaaabbbbbbbbbbbb', 0), ('aaaaaaaabccccccccccc', 0), ('aaaaaaaaaaabbbbbbbbc', 0), ('aaaaaaaaaaaaaaabbbbb', 0), ('aaaabbbbcccc', 1), ('aaaaaaaaaabbb', 0), ('aaaaaaaaaaaaaaaab', 0), ('aaaaaabbbbbbbbbcc', 0), ('aaaaaaaaaaaaaaaaaaa', 0), ('aaaaaaaaaaaaaaaaaab', 0), ('bbbbbbbbbbb', 0), ('aaaaaaaaaaaaaaaab', 0), ('aaaaaabbbbbbcccccc', 1), ('aaaabbbbbbbbbbbbbbbb', 0), ('aaaaaaaaaaaaaabbb', 0), ('aaaaabbbbbccccc', 1), ('aaaaaaaaabbb', 0), ('aaaaaaaaaaaaaaaaaaa', 0), ('aaaaaaaaaaaaabbbbbb', 0), ('aaabbbccc', 1), ('bbbbbbbbbbbbbbbbbbb', 0), ('aaaaaaaaaaaacccccc', 0), ('aaaaaaaabbbccccccc', 0), ('abc', 1), ('aaabbbccc', 1), ('aaaaaaaaaaaaaaaabbbb', 0), ('aaaaaabbbbbbcccccc', 1), ('aaaaaaaaaaaaaaaaab', 0), ('aaaaaaaaaaaabbbbbb', 0), ('aaaaaaaaaaaaaaaaaa', 0), ('aabbbbbbbbbc', 0), ('', 1), ('aaabbbccc', 1), ('aaaaabbbbbccccc', 1), ('aaaabbbb', 0), ('aaaaaaaaaabbbbbbbbcc', 0), ('aaaaabbbbbccccc', 1), ('aaaaaabbbbbbcccccc', 1), ('aaaaabbbbbbbbbbbbbb', 0), ('aaabbbccc', 1), ('aaaabbbbcccc', 1), ('aaaaaaaaaaaaaaabbbbb', 0), ('abc', 1), ('abc', 1), ('aaaaabbbbbbbbbbbb', 0), ('aaaaaaaaaaaaaaaaaaab', 0), ('aaaaaaaaabbbbb', 0), ('aaaaaaaaaaaaaaaabbb', 0), ('', 1), ('aaabbbccc', 1), ('aaaaaabbbbbbcccccc', 1), ('abc', 1), ('abc', 1), ('aaaabbbbcccc', 1), ('aaaaaaaaaaaaaabb', 0), ('aaaabbbbcccc', 1), ('aaaaaaaabbbbbbbbbbb', 0), ('', 1), ('', 1), ('aaaaabbbbbbbbbccc', 0), ('aaabbbccc', 1), ('aaabbbccc', 1), ('aaaaaabbbbbbcccccc', 1), ('aaaaaaaaabbccccccc', 0), ('aaabbbccc', 1), ('aaaaaaaaaaaaaabbbbbb', 0), ('aaaaaaaaaaaaaaaaa', 0), ('abc', 1), ('aaaaabbbbbccccc', 1), ('aaaaaabbbbbbcccccc', 1), ('aaaaaaaaaaaaaaaaabb', 0), ('aaabbbbbbbc', 0), ('aaaaabbbbbccccc', 1), ('aaaabbbbbbbccccc', 0), ('aaaabbbbbbbbbb', 0), ('aaaabbbbbbccc', 0), ('', 1), ('aaaaaabbbbbbcccccc', 1), ('bbbbbbbbbbbbbbbbbb', 0), ('aaabbbccc', 1), ('aaaaaaaaaaaaaaaa', 0), ('aaaaaaaaaaaaaaaaab', 0), ('aaaabbbbcccc', 1), ('aaaaaaaaaaaaaaaaaaa', 0), ('aaabbbbbbbbbbbbbbb', 0), ('aaaaaabbbbbbcccccc', 1), ('aaabbbccc', 1), ('abc', 1), ('aaaabbbbbccccccccc', 0), ('abc', 1), ('aaaaabbbbbccccc', 1), ('abc', 1), ('aaaaaaaaaaaaaaaabb', 0), ('aaaaaaaaaaaaaabbbb', 0), ('aaaaaaaaaaabbb', 0), ('aaaaaaaaaaaaaaaaaaab', 0), ('aaabbbb', 0), ('', 1), ('aaaaaaaaaaabbbbbbbbc', 0), ('aaaaaaaabbbbbbbbb', 0), ('aaa', 0), ('aaaaaabbbbbbbbbbbbbb', 0), ('aaaaabbbbbccccc', 1), ('aaaaaaabbbbbb', 0), ('bbbbbbbbbb', 0), ('aaaaabbbbbccccc', 1), ('aaaaabbbbbccccc', 1), ('aaabbbccc', 1), ('aaaaaabbbbbbbbbbbbcc', 0), ('bbbbbbbbbbbbb', 0), ('', 1), ('aaabbbccc', 1), ('aaaaaaaaaaaaaaaaabbb', 0), ('aaaaaabbbbbbcccccc', 1), ('bbbbbbbbcc', 0), ('aaaaabbbbbccccc', 1), ('', 1), ('aaabbbbbbbbbbbbbbbb', 0), ('aaaaaaaabbcccccccc', 0), ('abc', 1), ('aaaaaabbbbbbcccccc', 1), ('aaaaaaaaaaaabbbb', 0), ('aaaabbbbcccc', 1), ('aaaaabbbbbccccc', 1), ('aabbbbbbbbbbbccccc', 0), ('aaaabbccccccc', 0), ('', 1), ('aaaabbcccc', 0), ('aaaaaaaaaaaaaabb', 0), ('aaaaaaaaaaaaaabbbb', 0), ('aaaaabbcccccccccccc', 0), ('aaabbbbbbbbbbbbbbbbb', 0), ('aaaaaaaaaaaaaabccc', 0), ('bbbbbbbccccccccccc', 0), ('aaaaabbbbbbbbbcc', 0), ('aaabbbccc', 1), ('aaacccc', 0), ('aaaaabbbbbccccc', 1), ('aaabbbccc', 1), ('aaabbbccc', 1), ('aaaabbbbcccc', 1), ('', 1), ('aaaaabbbbbbbb', 0), ('aaabccccccc', 0), ('abc', 1), ('', 1), ('aaaaabbbbbccccc', 1), ('aaaabbbbcccc', 1), ('', 1), ('aaabbbccc', 1), ('aaaaaaaaabbbbbbbbbbb', 0), ('aaaaaaaaaaaaaaaabbbb', 0), ('aaaaaaaaaaaaaabc', 0), ('aaabbbccc', 1), ('aaaaaaaaabbbbbbbbbbb', 0), ('aaaaaaaaaaaaaaabbb', 0), ('abc', 1), ('aaaaaaaaaaaabbbbbb', 0), ('aaaaaaaaaaabbbb', 0), ('acccccccc', 0), ('aaabbbccc', 1), ('aaaaaaaaaaaaaaaaaabb', 0), ('aaaabbbbbbbbbbbbbb', 0), ('aaaaaaaaaaaaaaaaaab', 0), ('aaaabbbbcccc', 1), ('aaaaaaaaaaaaaa', 0), ('', 1), ('', 1), ('aaaabbbbcccc', 1), ('aaaaaaaabbbbbbcccccc', 0), ('aaaaabbbbbccccc', 1), ('aaabbbccc', 1), ('aaaaaabbbbbbcccccc', 1), ('aaaaabbbbbccccc', 1), ('', 1), ('aaabbbccc', 1), ('aaaaabbbbbccccc', 1), ('', 1), ('aaaaabbbbbccccc', 1), ('aaaaaaaaaabbbbbb', 0), ('aaaaaaaaaaaaaaacccc', 0), ('aaaaaaaaaaabbbb', 0), ('aaaaaabbbbbbcccccc', 1), ('aaabbbccc', 1), ('aaaabbbbcccc', 1), ('aaaabbbbbcccccccc', 0), ('aaaaabbbbbccccc', 1), ('aaaabbbbcccc', 1), ('aaaaaabbbbbbcccccc', 1), ('aaaabbbbbbbb', 0), ('abc', 1), ('bbbbbbbbbbb', 0), ('aaaabbbbcccc', 1), ('aaaaaaaaaaaaaaaaaab', 0), ('aaaaabbbbbccccc', 1), ('aaaaaaabbbb', 0), ('', 1), ('abc', 1), ('aaaaabbbbbbbbbbbb', 0), ('aaabbbccc', 1), ('abbbbbbbbbbbbbbb', 0), ('', 1), ('aaaaaabbbbbbcccccc', 1), ('aaaaaabbbbbbcccccc', 1), ('bbbbbbbbbbbbbbbbbb', 0), ('aaaaaaaaaaaabcccccc', 0), ('bbbbbbbbbbbcccc', 0), ('aaaaaabbbbbbcccccc', 1), ('aaaaaabbbbbbcccccc', 1), ('aabbbbbbbbbbccccccc', 0), ('aaabbbccc', 1), ('aaaabbbbbbbbbc', 0), ('aaaaaaaaaaaabbbbb', 0), ('aaaaaaaaaabbbbbbbb', 0), ('', 1), ('aaaaaabbbbbbcccccc', 1), ('aaaaaaaaaaaaaaaaaaa', 0), ('aaaaaaaaaaaaaaabbbb', 0), ('aaaaabbbbbbbbb', 0), ('aaaaabbbbbbcccccc', 0), ('aaabbbccc', 1), ('aaaaaaaaaab', 0), ('aaaabbbbcccc', 1), ('aaaaaaaaaaaaaaaabb', 0), ('aaaaaaaaacccccccccc', 0), ('aaaaaabbbbbbcccccc', 1), ('abc', 1), ('aaaaaaaaaacccccccccc', 0), ('aabbbbbbbbbccc', 0), ('aaaaaaaaaaaaabbbbb', 0), ('aaaaaaaaaaaaaaaaaaa', 0), ('aaaaabbbbbccccc', 1), ('aaaaaabbbbbbcccccc', 1), ('aaaabbbbcccc', 1), ('', 1), ('aaaaaabbbbbb', 0), ('aaabcccccc', 0), ('abbbbbbbbbbbbbbbb', 0), ('abc', 1), ('aaaaaaaaaaaaaaaaabbb', 0), ('abc', 1), ('aaaaaaaabbb', 0), ('aaaabbbbcccc', 1), ('aaabbbccc', 1), ('aaaabbbbcccc', 1), ('abc', 1), ('aaaaaaaaaaaaaaaabb', 0), ('aaaaaaaabbbbbbbbbbbb', 0), ('aaaaaaaaabbb', 0), ('aaaaabbbccccc', 0), ('aaaaaaaaaaaaaaaaaaa', 0), ('abc', 1), ('aaabbbccc', 1), ('aaaaaaabbbbbbbbb', 0), ('aaaabbbbcccc', 1), ('aaaaaabbbbbbcccccc', 1), ('', 1), ('aaaaabbbbbccccc', 1), ('aaaaaaaaaaaaaaa', 0), ('aaaaabbbbbccccc', 1), ('aaaabb', 0), ('aaaaaaaaaaaaaab', 0), ('aaaaaaaaabbbbb', 0), ('', 1), ('aaaaaabbbbbbcccccc', 1), ('aaaa', 0), ('abbbbbbbbbbbcccc', 0), ('aaaaaabbbbbbcccccc', 1), ('aaaaaaaaaaaaaaaaaaab', 0), ('aaaaaabbbbbbcccccc', 1), ('aaaaaaaaaaaaaaaaab', 0), ('aabbbbbbbbccccccccc', 0), ('aaaaabbbbbccccc', 1), ('abc', 1), ('aaaaaaaaaaaaaaaaa', 0), ('aaaabcccccccc', 0), ('aaaaaabbbbbbcccccc', 1), ('', 1), ('aaaaaaaaaaaaabbbb', 0), ('aaaaaaaaaaaaaaa', 0), ('aaaaaaaaaaaaaabbbb', 0), ('aaaaaaaaaaaaaabcc', 0), ('', 1), ('aaaaaabbbbbbcccccc', 1), ('aaaaaabbbbbbbbbbb', 0), ('aaaaaaaaabbbbbbb', 0), ('abbccccccccccccc', 0), ('aaaaaaaaaaaaaaaaaa', 0), ('aaaaabbbbbccccc', 1), ('aaaaaaaaaaaaaaaaabbb', 0), ('aaabbbccc', 1), ('aaaabbbbcccc', 1), ('aaaaabbbbbccccc', 1), ('abc', 1), ('', 1), ('abbbcccccccccccccccc', 0), ('aaaaaaaaaaaaaaaaaab', 0), ('aaabbbccc', 1), ('abbbbbbb', 0), ('aaaabbbbcccc', 1), ('aaaaaaabbbbbbbbbbbbb', 0), ('aaaaaaaaaaaaaaaaaaab', 0), ('aaaaaaaaaaaaab', 0), ('aaabbbccc', 1), ('aaaabbbbcccc', 1), ('aaabbbccc', 1), ('aaaaaaaabbbcccccccc', 0), ('bbbbbbbbbbbbbbbbbbbb', 0), ('aaaaaabbbbbbcccccc', 1), ('aaaaaaaaaaaaaaaaaaab', 0), ('', 1), ('abc', 1), ('aaabbbccc', 1), ('aaaaaaabccccc', 0), ('aaaaaaaaaaaaabbbbbbb', 0), ('', 1), ('aaaaaabbbbbbcccccc', 1), ('aaaabbbbbbbbbcccc', 0), ('aaaaaaaaaaaaaaaaabb', 0), ('aaaaaaaaaaaaaaaaaaab', 0), ('aaaabbbbcccc', 1), ('aaabbbbbbbbb', 0), ('aaaaaaaaaaaabbb', 0), ('aaabbbccc', 1), ('abc', 1), ('aaaabbbbcccc', 1), ('aaaaaaaabbbbbbbbbbb', 0), ('abc', 1), ('abc', 1), ('aaaabbbbbbbbbbb', 0), ('aaaaaabbbbbbcccccc', 1), ('aaaaaaaaaaaaabbbbbb', 0), ('aaabbbccc', 1), ('aaaaaabbbbbbcccccc', 1), ('aaaaaaaaaaaaabbbbbbb', 0), ('aaaaaaaaaaaaaaab', 0), ('aaaaaabbbbbbbbcccccc', 0), ('aaaaaabbbbbbcccccc', 1), ('aaaaabbbbbccccc', 1), ('aaaaaaaaaaaaabcc', 0), ('aaaaabbbbbccccc', 1), ('aaaabbbbcccc', 1), ('aaaaaaaaaaaaaaaaa', 0), ('aaaaaaabbbbbc', 0), ('aaaaaaabbbbbbbbb', 0), ('aaabbbbb', 0), ('aaaaaaaaaaaaaaaaabc', 0), ('aaaaaaaaaaaaaaaaabb', 0), ('aaaabbbbcccc', 1), ('aaaaaabbbbbbcccccc', 1), ('abc', 1), ('', 1), ('aaaaabbbbbccccc', 0), ('aaaaaabbbbbbcccccc', 1), ('aaaaaabb', 0), ('aaaaaaabcc', 0), ('aaaaaaaaabbbbbccc', 0), ('aaaaaaaaaaaaaab', 0), ('aaaabbbbbbbbbbb', 0), ('aaabbbccc', 1), ('aaaaaaaaaa', 0), ('abc', 1), ('abc', 1), ('aaaaaaaaaaaaabbccc', 0), ('aaaabbbbcccc', 1), ('bbbbbbbbbbbbbbbbbbb', 0), ('aaaaabcccccccccccc', 0), ('aaaabbbbcccc', 1), ('aaaaaaaaaaaaaaaaaabb', 0), ('aaaaabbbbbbbbbb', 0), ('aaaaaabbbbbbcccccc', 1), ('aaaaaaaaaabbbbbcccc', 0), ('aaaaaaabbbccccccccc', 0), ('aaaaaaaaaaaaaabbbbb', 0), ('aaaaaabbbbbbcccccc', 1), ('aaaaaabbbbbbcccccc', 1), ('', 1), ('aaaaabbbbbccccc', 1), ('abbbbbbbbbbbbbbb', 0), ('abc', 1), ('', 1), ('abc', 1), ('aaaaaaaaaaaaabbbbb', 0), ('aaaaaaaaaabbbbbbb', 0), ('aaaaaaaaaaaaaaaaa', 0), ('aaaaaaaaaa', 0), ('aaaa', 0), ('aaabbbccc', 1), ('aaaaaabbbbbcc', 0), ('aaaaaaaaaaaaaaaaa', 0), ('aaabbbccc', 1), ('aaaaaaaaaaaaaaaaaabb', 0), ('aaaaaabbbbbbbbbbcc', 0), ('aaaaaabbbbbbb', 0), ('aaaabbb', 0), ('abc', 1), ('aaaabbbbcccc', 1), ('aaaabbbbcccc', 1), ('aaaaaaaaaaaaaaaaab', 0), ('aaaaaab', 0), ('aaabbbccc', 1), ('abbbbbbbbbbb', 0), ('aaaabbbbcccc', 1), ('aaabbbbb', 0), ('aaabbbccc', 1), ('aaaabbbbcccc', 1), ('aaaaaabbbbbbcccccc', 1), ('aaaaaabbbbbbcccccc', 1), ('aaaaaaabcccccccc', 0), ('aaaaaabbbbbbcccccc', 1), ('abc', 1), ('aaaaaaaaaabbbbbbbbbb', 0), ('aaaabbbbcccc', 1), ('aaaaabbbbbccccc', 1), ('aaaaaaaaaaaaaaaaaaa', 0), ('aaaaaaaabbbbbbbbbbbb', 0), ('aaaaabbbbbccccc', 1), ('aaaabbbbcccc', 1), ('', 1), ('aaabbbbbbbbbcc', 0), ('', 1), ('aaaaaabbbbbbcccccc', 1), ('aaabbbccc', 1), ('', 1), ('aaaaabbbbbccccc', 1), ('aaaaaaaaaaaaaaaaaabb', 0), ('aabbbbbbbbbbbbbbb', 0), ('aaaaabbbbbccccc', 1), ('aaaaaaaaaaaaaaabb', 0), ('aaaaabbbbbb', 0), ('aaabbbccc', 1), ('aaaaaaaaabbbbbbbb', 0), ('aaaaaaaaaaaaaaaaa', 0), ('aaaaaabbbbbbcccccc', 1), ('aaabbbbbbbbb', 0), ('aaaaaaaab', 0), ('aaaaaaaaaabbccccc', 0), ('aaabbbccc', 1), ('aaaaaaaaaabbbc', 0), ('aaaaabbbbbccccc', 1), ('aaaaaaaabbbbbbbbb', 0), ('abc', 1), ('aaaaaaaaaaaaaaaaabbb', 0), ('aaaaabbbbbccccc', 1), ('aaaaaabbbbbbcccccc', 1), ('aabbbbbbbbbbbbbbbbbb', 0), ('aaaaaabbbbbbcccccc', 1), ('aaaaaaaaaaaaaa', 0), ('aaaaaaabbb', 0), ('aaaabbbbcccc', 1), ('abc', 1), ('aaabbbccc', 1), ('aaaaaaaaaaaaaaaaaaab', 0), ('aaabbbccc', 1), ('aaaaabbbbbccccc', 1), ('aaaaaaaaaaaa', 0), ('aaaabbbbcccc', 1), ('aaaaaaaaaa', 0), ('aaaaaab', 0), ('aaaaabbbbbbbbb', 0), ('aaaaaaabbbbbbbbbbbbb', 0), ('aaaaaaaaaaaaaaaaa', 0), ('aaaaaabbbbbbcccccc', 1), ('bbbbbbbbbbbbbbb', 0), ('aaaabbbbcccc', 1), ('aaaaaabbbbbbcccccc', 1), ('aaaaaaaaaaaaaaaabbbb', 0), ('aaabbbccc', 1), ('abc', 1), ('aaaaabbbbbbbbbbbbbbb', 0), ('abbbbbcccccccc', 0), ('aaaaaaaaaaaaaaaaa', 0), ('aaaaabbbbbbbbb', 0), ('aaaaabbbbbccccc', 1), ('aaaaabbbbbccccc', 1), ('aaaaaaaaabbbbbbbbbb', 0), ('aaaaaaabbbbbbbbbbbbb', 0), ('aaaabbbbcccc', 1), ('aaaaaabbbbbbcccccc', 1), ('abc', 1), ('abc', 1), ('aaaaaabbbbbbcccccc', 1), ('aaaaaabbbbbbcccccc', 1), ('aaaaaabbbbbbb', 0), ('aaaaaabcccccc', 0), ('aaabbbccc', 1), ('aaaabbbbcccc', 1), ('aaaaaaaaaaaaaaaaaabb', 0), ('aaaabbbbcccc', 1), ('aaabbbccc', 1), ('', 1), ('aaabbbccc', 1), ('aaaaaaaaaaaaacccc', 0), ('abbbbbbbbb', 0), ('aaaaaaaabbbbbbbbbb', 0), ('aaabbbccc', 1), ('', 1), ('aaaaaaaaaaaaaabbbbbb', 0), ('aaabbbccc', 1), ('bbbbbbbbbbbbbbbb', 0), ('', 1), ('aaaaaabbbbbbcccccc', 1), ('aaaaaaaaaaabbbb', 0), ('aaaaaabbbbbbcccccc', 1), ('abbbbbbbbb', 0), ('aaaaabbbbbccccc', 1), ('aaabcccccccc', 0), ('', 1), ('aaaaabbbbbccccc', 1), ('aaaaaaaaaaabccccc', 0), ('aaaaaabbbbbbcccccc', 1), ('aaaabbbbcccc', 1), ('aaaaaaaaaaaaabbbbbb', 0), ('aaaaabbbbbccccc', 1), ('', 1), ('aaaaabbbbbccccc', 1), ('aaaaaaaaabbbbbbbbbbb', 0), ('aaaaaaaaaaaaaaaaaaa', 0), ('aaaaaaaaaaaabbbbb', 0), ('aaabbbccc', 1), ('aaaaabbbbbccccc', 1), ('aaaabbbbcccc', 1), ('aaaaaaaaaaaaaaaaaaa', 0), ('aaaaaaaaaaaaaaaaaaab', 0), ('aaabbbccc', 1), ('abc', 1), ('aabbbbbbbccccc', 0)]\n",
      "Average Sentence Length:\n",
      "12.878\n",
      "Val Data Sample:\n",
      "[('aaaaaaaaaaaaaaaaaaa', 0), ('aabbcc', 1), ('aabbcc', 1), ('aabbcc', 1), ('aabbcc', 1), ('aaaabbbbbbbbb', 0), ('aabbcc', 1), ('aabbcc', 1), ('aaaaaaaaaaaaaaaaabbb', 0), ('aabbcc', 1), ('aaaaaabbbbbbbbbbb', 0), ('aabbcc', 1), ('bbbb', 0), ('aaaaaaaaaaaaaabbbbb', 0), ('aaaaaaaaaaaaabbbbb', 0), ('aaaaaaaaaaaaaaaaaaa', 0), ('aabbcc', 1), ('aaaabbcccc', 0), ('aabbcc', 1), ('aabbcc', 1), ('aaaaaaaaaaabbbbbbccc', 0), ('aaaaaaaaaaaaaaabb', 0), ('aabbcc', 1), ('aaaaabbbbbbbbbbbbbbb', 0), ('aaaaaaabbbbbbbbbbbb', 0), ('aabbcc', 1), ('aabbcc', 1), ('aac', 0), ('aaaabbbbbbbbb', 0), ('aabbcc', 1), ('abbbbbbbbbbbbbbccc', 0), ('aaaabbbbbbbbbb', 0), ('aaaaaaaaaaaaaaaaaaa', 0), ('aaaaaaaaaaaaaaaaaa', 0), ('aaaaaabbcccc', 0), ('aabbcc', 1), ('aabbcc', 1), ('bbbc', 0), ('aabbcc', 1), ('aaaaaaaaaaaaaaabb', 0), ('aaaaaaaaaaaaaaabb', 0), ('aabbcc', 1), ('aabbcc', 1), ('aaaaaaaaaaaaabbb', 0), ('aabbcc', 1), ('aaaaaaaaaaaaaaaaaaa', 0), ('aabbcc', 1), ('aabbcc', 1), ('aabbcc', 1), ('aabbcc', 1), ('aabbcc', 1), ('aaaaaaaaabbbbbbbbc', 0), ('aaaaaaaabbcc', 0), ('aabbcc', 1), ('aabbcc', 1), ('aaaaaaaaabbbbbbb', 0), ('aabbcc', 1), ('aabbcc', 1), ('aabbcc', 1), ('aaaaaaaaaaaaaaaaa', 0), ('aaaaaaaaaaaaaabbbb', 0), ('aabbcc', 1), ('aaaaaaaaaaaaaaabbbbb', 0), ('aabbcc', 1), ('aaaacccccccccc', 0), ('aaaaaaaaaaab', 0), ('aaaaaaaaaaabbbbbbbbb', 0), ('aaaaaaaaaaaaaaaaab', 0), ('aaabbbbbbbbbbbbbbbbb', 0), ('aabbcc', 1), ('aabbcc', 1), ('aabbcc', 1), ('abbbbbbbbbbbbb', 0), ('aabbcc', 1), ('aabbcc', 1), ('aabbcc', 1), ('aabbcc', 1), ('aabbcc', 1), ('aabbbbcccccccccccccc', 0), ('bbbbbbbbbbbbbbbb', 0), ('aaaaaaaaaaabb', 0), ('aaaabbbbbbbb', 0), ('aabbcc', 1), ('aabbcc', 1), ('aabbcc', 1), ('abbbbbbbbbbbbccc', 0), ('aabbcc', 1), ('aaaaaaaaaaaaabbbbbb', 0), ('aaaaabbbbbbbbbbcccc', 0), ('aaaaaaaaaacc', 0), ('aabbcc', 1), ('aaaaaaaaaaaaaaaab', 0), ('aabbcc', 1), ('bbbbbbbbbbbcccccc', 0), ('aaaaaaaaaaaaaabbbcc', 0), ('aabbcc', 1), ('aaaaaaaaaaaaaaaaabb', 0), ('aaaaaaaaaaaaaaaaaab', 0), ('aabbcc', 1), ('aaaaaaaaaaaaaaaabbbb', 0), ('aaaaaaabbbbbbbb', 0), ('aabbcc', 1), ('aabbcc', 1), ('aabbcc', 1), ('aabbcc', 1), ('aabbcc', 1), ('aabbcc', 1), ('aaaaaaaaaaaaaaaaaaab', 0), ('aaaaaaabbbbbbbccccc', 0), ('aabbcc', 1), ('aaaaaaaaaaaaaaaab', 0), ('aabbcc', 1), ('abbbbbbbbbbbb', 0), ('aaaaaaaaaaaaaaabb', 0), ('aabbcc', 1), ('abbbbbbbbbbbbbbbb', 0), ('abbbbbbbbbbbbbbbcccc', 0), ('aabbcc', 1), ('aabbcc', 1), ('aaaaaaaaaaaaaa', 0), ('aaaaaaabbbbbbbbbbb', 0), ('aaaaaaaaaaaaabcc', 0), ('aabbcc', 1), ('aaaaaaaabbbbbbbbbb', 0), ('aaaaaaaaabbbbbbbb', 0), ('aabbcc', 1), ('abbbbbbbbbbbbb', 0), ('aabbcc', 1), ('aabbcc', 1), ('aabbcc', 1), ('aaaaaaaaaaaaaaaaaaab', 0), ('aaaaaaaaaaabbbbbbbb', 0), ('aaaaaaaaaaaaaaaabc', 0), ('aaaaaaaaaaabcccccccc', 0), ('aaaaaaaaabbc', 0), ('aabbcc', 1), ('aaaabbbbbbbbbbbb', 0), ('bbbbbbbbbbbb', 0), ('aabbcc', 1), ('aaaaaabbbbbbbbbbbbb', 0), ('aabbcc', 1), ('aaaaaaaaaabbbbbbbbbb', 0), ('aaaaaaaaaaaaaaaabbb', 0), ('aaaaaaaaaaaaaaaa', 0), ('aabbcc', 1), ('aabbcc', 1), ('aabbcc', 1), ('aaaaaaaaaaabbbbbb', 0), ('aabbcc', 1), ('aabbcc', 1), ('aabbcc', 1), ('aaaaaaaaaaaaaaaaabcc', 0), ('abbbbbbbbbbbbbbbbbbb', 0), ('aaaabbbbbbbbbbbb', 0), ('aabbcc', 1), ('aaaaaaaaaaaaaaaaa', 0), ('aabbbbbbbbbbbbbbbbb', 0), ('aabbcc', 1), ('aabbcc', 1), ('aabbcc', 1), ('aabbcc', 1), ('aabbcc', 1), ('aabbcc', 1), ('aabbcc', 1), ('aabbbb', 0), ('aaaaaaaaabbbbbbbb', 0), ('aaaabbbbbbbbbbb', 0), ('aaaaaaaaaaabbbbbbb', 0), ('aaabbbbbbbbbbbbbbbb', 0), ('aaaaaaaaaaaaaaaa', 0), ('aaaabbbbbbbbbbbbbbb', 0), ('aabbcc', 1), ('aabbcc', 1), ('aabbcc', 1), ('aabbcc', 1), ('aabbcc', 1), ('bbbbbbbbbbbbbbbbbcc', 0), ('aaaaaaaaaaaaaab', 0), ('aabbcc', 1), ('accccccccccccccc', 0), ('aaaaaaaaabb', 0), ('aabbcc', 1), ('aaaaaaaaaaaaaaab', 0), ('aabbcc', 1), ('aabbbbbbbbbbbbbbbbb', 0), ('aaaaaaaaaaaa', 0), ('aabbcc', 1), ('aaaaaaaaaaaaaaaabbb', 0), ('aaaaaaaaabbbbbbbbb', 0), ('aabbcc', 1), ('aaaaaaaaabbbbb', 0), ('aaaaabbbbccccccc', 0), ('aaaaaaaaaaaaaaaabb', 0), ('aaaaaaaaaaaaabbb', 0), ('aabbcc', 1), ('aaaaaaaaaaaabbbb', 0), ('aabbcc', 1), ('aaaaaaaaaaaaaaabbbb', 0), ('aaaaaaaaaaaaabbbbb', 0), ('aaaaaaaaaaaaaaaaa', 0), ('aaaaaaaaaaaaabbbbbbb', 0), ('aabbcc', 1), ('aaaaaaaaaaaaaaaaaaab', 0), ('aabbcc', 1), ('aaaaaaaaabbbbbbbbccc', 0), ('aaaaaaaaaaabbbbbbbb', 0), ('aabbcc', 1), ('aabbcc', 1), ('aabbcc', 1), ('aabbcc', 1), ('aabbcc', 1), ('aabbcc', 1), ('aabbcc', 1), ('aabbcc', 1), ('aaaaaaaaaaaaaabcc', 0), ('aaaaaaaaaaaaaabb', 0), ('aabbcc', 1), ('aabbcc', 1), ('aaaaaaaaaaaabbbbbb', 0), ('aaaaaaaaaabbbccc', 0), ('aabbcc', 1), ('aabbcc', 1), ('aaaaaaaaaaaaaaaaaabb', 0), ('aaccccccc', 0), ('aabbcc', 1), ('aaaaaabbbbbbcccccc', 0), ('aaaaabcccccc', 0), ('abbbbbbbbbbb', 0), ('aaaaaaaaabbbbb', 0), ('aabbcc', 1), ('aabbcc', 1), ('aaaaaaaaaa', 0), ('aaaaaaaaaabb', 0), ('aabbcc', 1), ('aaaaaaaaabbbbbbb', 0), ('aabbcc', 1), ('aabbcc', 1), ('aabbcc', 1), ('aaaaaaaaaaaaaaaaaa', 0), ('aabbcc', 1), ('aabbcc', 1), ('aabbcc', 1), ('aaaaaaaaaaaaa', 0), ('aaaaaaaaaaaaaaabbbb', 0), ('aabbcc', 1), ('aaaaaaaaaaaaaaaaacc', 0), ('aabbcc', 1), ('aaaaaaabbb', 0), ('aabbcc', 1), ('aabbcc', 1), ('aaaaaaaaaaaaaaaaaaab', 0), ('aabbcc', 1), ('aabbcc', 1), ('aabbcc', 1), ('aabbcc', 1), ('aaaaaaaaaaaaaaabbbbb', 0), ('aabbcc', 1), ('aaabbbbbbbbbbbbb', 0), ('aaaaaaaaaaaabbbb', 0), ('aabbcc', 1), ('aabbcc', 1), ('aabbcc', 1), ('aaaaaaaaaaaaabb', 0), ('aabbcc', 1), ('aabbcc', 1), ('aaaaaaaaabbbbcccccc', 0), ('aabbcc', 1), ('aabbccccccccccccccc', 0), ('aaaaaaaaaaabbbb', 0), ('aabbcc', 1), ('aabbcc', 1), ('aabbcc', 1), ('aabbcc', 1), ('aaaaaaaaaaaaaaaaccc', 0), ('aabbcc', 1), ('aabbcc', 1), ('aaaaaaaaaaaaaaaacccc', 0), ('aaabbbb', 0), ('aabbcc', 1), ('aaaaaaaaaaaaabbbbb', 0), ('aaaaaaaaaaaaaabbbbb', 0), ('aaaaaabbbbb', 0), ('aaaaaaaaaaaaaaaab', 0), ('aabbcc', 1), ('aaaaaaaaaaaabbb', 0), ('aaaaaaaaaaaaaaaaaaab', 0), ('aabbcc', 1), ('aabbcc', 1), ('aabbcc', 1), ('aaaaaaaabbbbbbbbbbb', 0), ('aabbcc', 1), ('aabbcc', 1), ('aabbcc', 1), ('aaaaaaaaaaaaaaaaab', 0), ('aaaaaaaaaaaaaaaaa', 0), ('aaabbbbbbbbbcc', 0), ('aaaaaaaaaaaaaaaaab', 0), ('aabbcc', 1), ('aaaaaaaab', 0), ('aaaaaaaaaaaaaabbbbbb', 0), ('aabbcc', 1), ('aabbcc', 1), ('aaaaaaaaaaaaaaaaaab', 0), ('aabbcc', 1), ('aaaaaaabbbbc', 0), ('aabbb', 0), ('aaaaaabbbbbbbbbbbbbb', 0), ('aabbcc', 1), ('aaaaaabbbbbbbbbbcccc', 0), ('aabbcc', 1), ('aabbcc', 1), ('aaaaaaabbbbbbbc', 0), ('aabbcc', 1), ('aabbcc', 1), ('aabbcc', 1), ('aaaaaaaaaaabbbbb', 0), ('aaaaaaaaaaaaabbbbbb', 0), ('aabbcc', 1), ('aabbcc', 1), ('aabbcc', 1), ('aaaaaaaaaaa', 0), ('aabbbbbbbbbbbbbbbb', 0), ('aaaaaaaaaaaaabbb', 0), ('aabbcc', 1), ('aabbcc', 1), ('aaaaaaaaaaabbbbbbbb', 0), ('aabbbbbbbbbbbb', 0), ('aabbcc', 1), ('aabbcc', 1), ('aaaaabbbbbbbbbbbbbbb', 0), ('aabbcc', 1), ('aabbcc', 1), ('aaaaaaaaaaaaaaab', 0), ('aaaaaaaaaaaaabbbbb', 0), ('aaaabbbbbbbbbb', 0), ('aabbcc', 1), ('aaaaaaaaaaaaabbbbbbb', 0), ('aaaaaaaaaaaaaabbbb', 0), ('aabbcc', 1), ('aabbcc', 1), ('aabbcc', 1), ('aabbcc', 1), ('aaaaaaaaabbbb', 0), ('aaabbbbbbbbbbc', 0), ('aabbcc', 1), ('aabbcc', 1), ('aaaaaaaaaaaaabbbb', 0), ('aabbbbbbbbbbbb', 0), ('aaaaaaabbbbbbbbbbbbb', 0), ('aaaaaaaaaaaaaaaab', 0), ('aaaaaaaaaaaaaa', 0), ('aaaaaaaaaaaaaaabbb', 0), ('aabbcc', 1), ('aaabbbbbbbbbbbbbbccc', 0), ('aabbcc', 1), ('aaaaaaaaaabbbccccc', 0), ('aabbcc', 1), ('aaaaaaaaaaaaabbbbb', 0), ('aabbcc', 1), ('aabbcc', 1), ('aaaaaaaaaaaaaaaaaab', 0), ('aaaaaaaabbbbbbbbbcc', 0), ('aabbbbbbbbbbbbbbbbbb', 0), ('aaaaaaaaaaaaaaaaaccc', 0), ('aabbcc', 1), ('aaaaaaaaabbbbb', 0), ('aaaaaabbbbbbbb', 0), ('aaaaaaaaaabbbbb', 0), ('aabbcc', 1), ('aaaaaaaaaaaaaaabbbbb', 0), ('aabbcc', 1), ('aaaabbbbbbbbbbbbbbb', 0), ('aabbcc', 1), ('aaaaaaaaaaaaaaaaaa', 0), ('aabbcc', 1), ('aaaaaaaaaaabbb', 0), ('aaaaaaaaaaaaaaaabbb', 0), ('aabbcc', 1), ('aabbcc', 1), ('aabbcc', 1), ('aaaaaaaabb', 0), ('aaaaaaaaaaaaaaa', 0), ('aabbcc', 1), ('aabbcc', 1), ('aaaaaaaaaaabbbbbbbbb', 0), ('aaaaaaaaaabbbbbbccc', 0), ('aabbcc', 1), ('aabbcc', 1), ('aabbcc', 1), ('aaaaaaabbbbbbbbb', 0), ('aabbcc', 1), ('aabbcc', 1), ('aabbcc', 1), ('aabbcc', 1), ('bbbbbbbbbb', 0), ('aaaaaaaaaaaaaaabb', 0), ('aabbcc', 1), ('aaaaaaaaabbbbbbb', 0), ('aaaabbbbbcccccccc', 0), ('aaaaaaaaaaabbbcccc', 0), ('aabbcc', 1), ('aabbcc', 1), ('aabbcc', 1), ('aaaaaaaaaaaaaaaabbbb', 0), ('aaaaaaaaaaaaaaaaaaab', 0), ('aabbcc', 1), ('aabbcc', 1), ('aaaaacccccccccccc', 0), ('aabbcc', 1), ('aaaaaaaaaa', 0), ('aaaaaaaaaaaaaaaaaaa', 0), ('bbbbbbbbb', 0), ('aabbcc', 1), ('aabbcc', 1), ('aaaaabbbbbbbbb', 0), ('aabbbbbbbbbbbbbbb', 0), ('aabbcc', 1), ('aabbcc', 1), ('aaaaaaaabbbbbb', 0), ('aabbcc', 1), ('aaaaaaaaaaaaaaaaaabb', 0), ('aaaaaaaaaaaaaaabbbb', 0), ('aaaaaaaaaaabbbbbb', 0), ('aabbcc', 1), ('aabbcc', 1), ('aabbcc', 1), ('aaabbbbbbbbbb', 0), ('aaaaaaaaaaaaaaaaabb', 0), ('aabbcc', 1), ('aabbcc', 1), ('aaaaaabbbbbbbccc', 0), ('aabbcc', 1), ('aabbcc', 1), ('aabbcc', 1), ('aaaaaaaabbbbbb', 0), ('aaaaaaaaaabbbbbbbb', 0), ('aaaaaaaaaaaaaaaabbbb', 0), ('aaaaaaaaabbbb', 0), ('aabbcc', 1), ('aabbcc', 1), ('aabbcc', 1), ('aaaaaabccccc', 0), ('aaaaaaaaaabbbbbbbbb', 0), ('bbbbbbbbc', 0), ('aabbcc', 1), ('aabbcc', 1), ('aabbcc', 1), ('aabbcc', 1), ('aaabbbbbbbbbbbbbbbb', 0), ('aabbcc', 1), ('bbcccc', 0), ('aaaaaabbbbbbbb', 0), ('aabbcc', 1), ('aaaaaaaaaaabbb', 0), ('aabbcc', 1), ('aabbcc', 1), ('aaaaaaaaaaaaaaaaabbb', 0), ('aabbcc', 1), ('aabbcc', 1), ('aaaaaaaaaaabbbbb', 0), ('aabbcc', 1), ('aabbcc', 1), ('aaaaaaabbbbbbbb', 0), ('aaaaabbbbbbbbccccc', 0), ('aabbcc', 1), ('aabbcc', 1), ('aabbcc', 1), ('aaaaaaaaaaaaaabbbb', 0), ('aaaaaaaaaaaaaaaaa', 0), ('aabbcc', 1), ('aaaaaaaaaaaaaaaaab', 0), ('aabbcc', 1), ('aaaaaaaaaaabbbbbcc', 0), ('aabbcc', 1), ('aabbcc', 1), ('aabbcc', 1), ('aaaaaaaaabbbbbb', 0), ('aabbbbbbbbbbb', 0), ('aaaaaaaaaaaaaabbbb', 0), ('aabbcc', 1), ('aabbcc', 1), ('aabbcc', 1), ('aaaaaaaaaaaabbb', 0), ('aaaaaaaaaaaabbbbb', 0), ('aabbcc', 1), ('aabbcc', 1), ('aabbcc', 1), ('aaaaaaabbbbbbbbbbbbb', 0), ('aabbcc', 1), ('bcccccccc', 0), ('aabbcc', 1), ('aabbcc', 1), ('aabbcc', 1), ('aabbcc', 1), ('aaaaaaaa', 0), ('aaaaaaaaaaaaaa', 0), ('aabbcc', 1), ('aaaaabbbb', 0), ('aaaaaaaaaaaaaaaaabc', 0), ('aabbbbbbbbbbbbbbbbbb', 0), ('aabbbbbbbbbbbb', 0), ('aabbbbcccccccccccc', 0), ('aaaaaaaaaaaaaaaaaacc', 0), ('aabbcc', 1), ('aabbcc', 1), ('aaaaaabbbbbbbbb', 0), ('aabbcc', 1), ('aaaaaaaaaaaaaaaabbcc', 0), ('aaaaaaaaaaaabbb', 0), ('aaaaaaaaabbbbbbbb', 0), ('aabbcc', 1), ('aabbbbbb', 0), ('aaaaaaaaaaaaaaaaaacc', 0), ('aabbcc', 1), ('aaaaaaaaaaaaaacccc', 0), ('aabbcccccccccc', 0), ('aabbcc', 1), ('aabbcc', 1), ('aabbcc', 1), ('bbbbccc', 0), ('aabbcc', 1), ('aabbcc', 1), ('aaaaaaaaaaaab', 0), ('aabbcc', 1), ('aaaaaaaaaaaaaaaabb', 0), ('aaaaabbbb', 0), ('aaaaaaaaaaaaaaaaaaab', 0), ('aabbcc', 1), ('aabbcc', 1), ('aaaaaaaaaaaaaaab', 0), ('aabbcc', 1), ('aaaaaaaaaaaaa', 0), ('aabbcc', 1), ('aabbcc', 1), ('aaaaaaaaaaaaabbbbbb', 0), ('aabbcc', 1), ('aaaaaaaabbbccccccc', 0), ('aabbcc', 1), ('aaaaaaaaaaaaaaaaaaab', 0), ('aabbcc', 1), ('aabbcc', 1), ('aabbbbbbbbbbbbbbb', 0), ('bbbbbbbbbbbbb', 0), ('aabbcc', 1), ('aabbcc', 1), ('aaaaaaaaaaaaaaaaaab', 0), ('aaaaaaaaaabc', 0), ('aaaaaaaaaaaaaaaabbbb', 0), ('abbbbbcccccccccccc', 0), ('abbbbbbbbbbbbcccc', 0), ('aabbbbbbbbbbbbb', 0), ('aaaaaaaaaaaaaaabbbbb', 0), ('aabbcc', 1), ('aaaaaaaaaaaaabbb', 0), ('aabbbbbbbbbbbbbbbbbb', 0), ('aaaaaabb', 0), ('aaaaaaaaaaaaaaaaaaab', 0), ('aaaaaaaaaaaaaaab', 0), ('ccccc', 0), ('aaaaaaaaaabbbbbbbbb', 0), ('aabbcc', 1), ('aaaaaaaabbbbbbbbbbb', 0), ('aabbcc', 1), ('aabbcc', 1), ('aabbcc', 1), ('aaaaaaaaaaaaaaaaaab', 0), ('aaaaaaaaaaaaaaaaaaa', 0), ('aabbcc', 1), ('aabbcc', 1), ('aabbcc', 1), ('aabbcc', 1), ('aabbcc', 1), ('aabbcc', 1), ('aaaaaaaaaaaaaaaaaaab', 0), ('aaaaaaaaaaabbbbbbb', 0), ('aaaaaaaaabbbbbbb', 0), ('aaaaaaaabbbbbbbbbbbb', 0), ('aabbcc', 1), ('aaaaaaaaaaaaaaaaa', 0), ('aaaaaaaaaaaaaaabbb', 0), ('aabbcc', 1), ('aaab', 0), ('aabbcc', 1), ('aaaaaaaaaaaaaabbb', 0), ('aabbcc', 1), ('aabbcc', 1), ('aabbcc', 1), ('aabbcc', 1), ('aabbcc', 1), ('aaaaaabbbbbbbbbc', 0), ('abbbbbbb', 0), ('aaaaaaaaaaaabbbbbb', 0), ('aaaaaaaaaaaaaaaab', 0), ('aabbcc', 1), ('aaabbbbbbbb', 0), ('aabbcc', 1), ('aaaaaaaaaaaaaaabbbbb', 0), ('aabbcc', 1), ('aaaaaaaaaabbb', 0), ('aaaaaaaaaaaabccccccc', 0), ('aabbcc', 1), ('aabbcc', 1), ('aaaaaaaaaaaaaaaabbbb', 0), ('aaaaaaaaabccc', 0), ('aabbcc', 1), ('aaaaaaaaabbbbbbbb', 0), ('aaaaaaabbbbbbbbbbb', 0), ('aaab', 0), ('aabbcc', 1), ('aaabbccccccccccccccc', 0), ('aabbbbbbbbbbbbbbbb', 0), ('aabbcc', 1), ('aaaaaaaaaaaaaaaaaab', 0), ('aaaaaabbbbbbbbbbbbb', 0), ('aabbcc', 1), ('aabbcc', 1), ('aabbcc', 1), ('aabbcc', 1), ('aaaaaaaaaaaaaaaa', 0), ('aabbcc', 1), ('aabbcc', 1), ('aabbcc', 1), ('aabbcc', 1), ('aaaaaaaabb', 0), ('aaaaaaabbbbbbbb', 0), ('aaaaabbbbbbbbbbbbb', 0), ('aabbcc', 1), ('aabbcc', 1), ('aabbcc', 1), ('aabbcc', 1), ('aaaaaaaaaaaaaaaabbcc', 0), ('aabbcc', 1), ('aaaaaaaaaaaaaabbbb', 0), ('aaaaaaaaaaaaaaabbbb', 0), ('aabbcc', 1), ('aaaaaaaaaaaaaaaa', 0), ('aabbcc', 1), ('aaaaabbcccccccccccc', 0), ('aaaaaaab', 0), ('aaaaaabbbbbbbbbbbbbb', 0), ('aaaaabbbccccccccccc', 0), ('aabbcc', 1), ('aaaaaabbbbbbbbccc', 0), ('aaaaaaabc', 0), ('aabbcc', 1), ('aabbcc', 1), ('aaaaaaaaabbbbbbb', 0), ('aaaaaaaaaaccccccc', 0), ('bbbbbbbbbbbbbbbbb', 0), ('aaaaaaaaaa', 0), ('aabbcc', 1), ('aabbbbbbbbbbbbbbbbbb', 0), ('aaaabbbbbbbbbbbbbbb', 0), ('aabbcc', 1), ('aabbcc', 1), ('aaaaaaabbb', 0), ('aabbcc', 1), ('aabbcc', 1), ('aabbcc', 1), ('aabbcc', 1), ('aaaaaaaaaaaaaaaaaaab', 0), ('aabbcc', 1), ('aabbcc', 1), ('aabbcc', 1), ('aabbcc', 1), ('aaaaaaaaaaabbbbbbbb', 0), ('aaaabbbb', 0), ('aaaaaaaaaabbb', 0), ('aabbcc', 1), ('aabbcc', 1), ('aaaaaaaaaaaaaaabbc', 0), ('aaaaaaaaabbbbbbbbbbb', 0), ('aaaaaabbbbbcc', 0), ('aaaaaaaaaaabbbbbb', 0), ('aabbcc', 1), ('aabbcc', 1), ('aabbcc', 1), ('aabbcc', 1), ('aaaaaaaaaaaaaaabbb', 0), ('aabbcc', 1), ('aabbcc', 1), ('aabbcc', 1), ('aaaaaaaaaabbb', 0), ('aaaaabbcccccccc', 0), ('aaaabbbbcc', 0), ('aabbcc', 1), ('aabbcc', 1), ('aaaaaaaaaaaaaaaaabb', 0), ('aabbcc', 1), ('aaaaaaaaaaabbb', 0), ('aaabbbbbbbbbbbbbbbbb', 0), ('aabbcc', 1), ('aabbcc', 1), ('aaaabbbbbbbbbbbbb', 0), ('aaaaaaaaaaccccccccc', 0), ('aaaaaabbbbbc', 0), ('aabbcc', 1), ('aaabbbbbbbbbbbbbbbbb', 0), ('aabbcc', 1), ('aabbcc', 1), ('aabbcc', 1), ('aabbcc', 1), ('aaaaabbbbbbbbb', 0), ('aaaaaaaaaaaaaaaaa', 0), ('aabbcc', 1), ('aabbcc', 1), ('aaaaaaaaaaaaaaaabbb', 0), ('aabbcc', 1), ('aabbcc', 1), ('aabbcc', 1), ('bbbbbbbbbbb', 0), ('aabbcc', 1), ('abbbbbbbbbbbbbbbb', 0), ('aabbcc', 1), ('aabbcc', 1), ('aaaaaaaaaaaaaaaa', 0), ('aaaaaaaaaaaaaaaaaaab', 0), ('aaaaaaaaaaaaaaaaaab', 0), ('aabbcc', 1), ('aaaaaaaaaaaaaaaaaaab', 0), ('aabbcc', 1), ('aaaaaaaab', 0), ('aabbcc', 1), ('aabbcc', 1), ('aaaaaabbbb', 0), ('aabbcc', 1), ('aaaaaaaaabbbccccccc', 0), ('aabbcc', 1), ('aaaaaaaaaaaaaaaaaabb', 0), ('aabbcc', 1), ('aaaaaabbbbbbbbbbbbb', 0), ('aabbcc', 1), ('aabbbbbbbcccccccc', 0), ('aabbcc', 1), ('bbbbbbbbbbbbbcccccc', 0), ('aaaaaaaaaaaabbbbbb', 0), ('aabbcc', 1), ('aabbcc', 1), ('aabbcc', 1), ('aaaaaaabbbbbbbbbbbbb', 0), ('aabbcc', 1), ('aabbcc', 1), ('aabbcc', 1), ('aabbcc', 1), ('aabbcc', 1), ('aabbcc', 1), ('aabbcc', 1), ('aabbcc', 1), ('aaaaaabbbbbbbbbb', 0), ('aabbcc', 1), ('aabbcc', 1), ('aaaaabbbbbbbbbb', 0), ('aabbcc', 1), ('aaaaaabbbbbbbbbbbbb', 0), ('aabbcc', 1), ('aabbcc', 1), ('aaaaaaaaaaaaaaaaaaa', 0), ('aaaaaaaaabbbbbbbbbbb', 0), ('aabbbbbbbbc', 0), ('bbbbbbbbbcccccccc', 0), ('aabbcc', 1), ('aaaaaaaaaaaaaaaaa', 0), ('aabbbbbbbbbbbbb', 0), ('aaaaaaaaaaaaaaaaaaa', 0), ('aabbcc', 1), ('aabbcc', 1), ('aabbcc', 1), ('aabbcc', 1), ('bbbbbbbbbbbbbbbbbbbb', 0), ('aabbbbbbb', 0), ('aaaaaaaabbbcc', 0), ('aabbcc', 1), ('aaaabbbbbbbbb', 0), ('aabbcc', 1), ('aaaaaaaaaabbbbbbb', 0), ('aabbcc', 1), ('aabbcc', 1), ('aabbcc', 1), ('aabbcc', 1), ('aaaaaaaaaaaaabbbbb', 0), ('aabbcc', 1), ('aabbcc', 1), ('aaaaaaaaaaaaaaa', 0), ('aaaaaaaaaaabbbbbcc', 0), ('aaaaaaabbbbbbbb', 0), ('aaaaaaaaaaab', 0), ('aabbcc', 1), ('aaaaaaaaaaaaaaaabbbb', 0), ('aabbcc', 1), ('aabbcc', 1), ('aaaaaaaaaaaaaabbbbb', 0), ('aabbcc', 1), ('aaaaaaaaaaaabbcc', 0), ('aabbcc', 1), ('aaaaaaaaaaaaaaaaabbb', 0), ('abbbbbbbbbbbbbb', 0), ('aaaaaaaabbbb', 0), ('aabbcc', 1), ('aabbcc', 1), ('aabbcc', 1), ('aabbcc', 1), ('aabbcc', 1), ('aaaaaaaa', 0), ('aabbcc', 1), ('aabbcc', 1), ('aaabbbbbbbbbbbbbbb', 0), ('aaaaaaaabbbbbbbbbbb', 0), ('aaaaaaaaaaaaaaaaaaab', 0), ('aabbcc', 1), ('aaaaaaaaaaaaaaaaaa', 0), ('aabbcc', 1), ('aabbcc', 1), ('aaaaaaaaaaaaaabbbbbb', 0), ('aaaaaaaaabbbbbbbbb', 0), ('aaaaaaaaaaaaaaaaaaa', 0), ('aabbcc', 1), ('aabbcc', 1), ('aabbcc', 1), ('aaaaaaaaaabbb', 0), ('aabbcc', 1), ('aaaaaabbbbbbbbccccc', 0), ('aaaaaaaaaabbbbbbbb', 0), ('aaaaaaaaaaaaaaa', 0), ('aabbcc', 1), ('aabbcc', 1), ('aaaaaaaaaaaa', 0), ('aaaaaabbbbbbbbbbcccc', 0), ('aaaaaaaaaaabbb', 0), ('aaaaaaaaaaaaa', 0), ('aaaaaaabbbbbbbbbb', 0), ('aaaaaaaaaaaabbbb', 0), ('aabbcc', 1), ('aabbcc', 1), ('aabbcc', 1), ('aaaaaaaaaaaaaabbb', 0), ('aabbcc', 1), ('aaaaaaaaaaaabbbbbb', 0), ('aabbcc', 1), ('aaaaaaaaaaaccccc', 0), ('aabbcc', 1), ('aabbcc', 1), ('aaaaaaaaaaaaaaaaaaac', 0), ('aaaaabcccc', 0), ('aaabbbbccccccccccccc', 0), ('aabbcc', 1), ('aabbcc', 1), ('aabbcc', 1), ('aaaaaaabbbbbbbbccc', 0), ('aabbcc', 1), ('abbbbbbbbbbbbbbbb', 0), ('bbbbbbbb', 0), ('aabbcc', 1), ('aabbcc', 1), ('aaaaaaaaaaaaaab', 0), ('aaaaaaabbbbbbbcc', 0), ('aabbcc', 1), ('aabbcc', 1), ('aaaaaaaaabbbbbbbbb', 0), ('aabbcc', 1), ('aaaaaaaaaaaaaabbbb', 0), ('aaaaaaaaaaaaaaaaaab', 0), ('aabbcc', 1), ('aaaaaabbbbbbbbbb', 0), ('aaaaaaaaaabbbbbbbbb', 0), ('aaaaaaabbbbb', 0), ('aabbcc', 1), ('aabbcc', 1), ('aaaaaaabbbbccccc', 0), ('aabbcc', 1), ('aabbcc', 1), ('aabbcc', 1), ('aabbcc', 1), ('aabbcc', 1), ('aabbcc', 1), ('aabbcc', 1), ('aabbcc', 1), ('aaaaaaaaaaabbbbbbbb', 0), ('abbbccccccccccccc', 0), ('aaaaaaaaaaaaaaaaa', 0), ('aabbcc', 1), ('aabbcc', 1), ('aabbcc', 1), ('bbbbbbbbbbbccccccc', 0), ('aabbcc', 1), ('aaaaaaabbbbbbbcccccc', 0), ('aabbbbbbb', 0), ('aabbcc', 1), ('aabbcc', 1), ('aabbcc', 1), ('aabbcc', 1), ('bbbbbbbbbbbbbbbb', 0), ('aabbcc', 1), ('aaaaaabbbbbbbbbbb', 0), ('aabbcc', 1), ('aabbcc', 1), ('aaaaabbbbbbbbbb', 0), ('aaaaaaaaaaaaaaabbbb', 0), ('aaaaaaaaaaaaaab', 0), ('aabbcc', 1), ('aaaaaaaaaaaabbbb', 0), ('aaaaaaaaaaabbbb', 0), ('aaaaaaaaabb', 0), ('aabbcc', 1), ('aabbcc', 1), ('aabbcc', 1), ('aaaaaaaaaaaaaaaaaab', 0), ('aabbcc', 1), ('aaaaaaaaaaaaaaaaaab', 0), ('bbbbbbbbbbbbbbbbb', 0), ('aabbcc', 1), ('aabbcc', 1), ('aabbcc', 1), ('aabbcc', 1), ('aabbcc', 1), ('aaaaaab', 0), ('abbbbbbbbbbbbbbbbbbb', 0), ('aabbcc', 1), ('aabbcc', 1), ('aaaaaaaaaaabbbbbb', 0), ('aabbbbbbbbbbbbb', 0), ('aabbcc', 1), ('aabbcc', 1), ('aabbcc', 1), ('aaaaaaaaaaaabbb', 0), ('abbbbbbbbbbbbbbbbc', 0), ('aaaaaaaaaaaaaaaaabbb', 0), ('aabbcc', 1), ('aaabbbbbbbbbbbbbb', 0), ('aabbcc', 1), ('aabbcc', 1), ('aaaaaaaaaaaaaaab', 0), ('aabbcc', 1), ('aabbcc', 1), ('aabcccccccccccccc', 0), ('aabbcc', 1), ('aabbcc', 1), ('aaabcccc', 0), ('aaaabbbbbbbbbbbbbbbb', 0), ('aaaaaaaaaaaaaaaaabbb', 0), ('aaaaaaaaaaaabbbbbbb', 0), ('aabbcc', 1), ('aaaaabbbbbb', 0), ('aabbcc', 1), ('aaaaaac', 0), ('aaaaaaaaaaaabbbbbbbb', 0), ('cc', 0), ('aabbcc', 1), ('aaaaaaaaaaaaa', 0), ('aaaaaaabbbbbbbbbb', 0), ('aabbbbbbbbbbb', 0), ('bbbbbbbbbbbbbbbbbb', 0), ('aaaaaaaaaaaaaaaaabbb', 0), ('bbbbbbbbbbc', 0), ('aabbcc', 1), ('aabbcc', 1), ('aaaaaaaaaa', 0), ('aabbcc', 1), ('aabbcc', 1), ('aabbcc', 1), ('aabbcc', 1), ('aaaaaaaaaaaaaaaabbb', 0), ('aaaaaaaaaabbbbb', 0), ('aabbcc', 1), ('aabbcc', 1), ('aaaaaaaaaaaabbbbb', 0), ('aaaaaaaaaaaaaaabbb', 0), ('aabbcc', 1), ('aaabbb', 0), ('aaaaaaaaaaaaaaabbb', 0), ('aaaaaaaaaaaaabb', 0), ('aabbcc', 1), ('aabbcc', 1), ('aabbcc', 1), ('aaaaaaaaaaaaaaaabb', 0), ('aaaaaaaaaaaaaaaabbbb', 0), ('aabbcc', 1), ('aaaaaaaaaaaaaaab', 0), ('aabbcc', 1), ('aabbcc', 1), ('aaaaaaaaaaaaa', 0), ('aaaaaaaaaaaaaaab', 0), ('aabbbbbbbbbbbbbbb', 0), ('aabbcc', 1), ('aaaaaaaaaaaabbbbbbb', 0), ('aabbcc', 1), ('aaaaaaaaaaaaaaaabbb', 0), ('aaaaaaaaaaaaaaaaaaa', 0), ('aaaaaaaaaaaaaaaaaac', 0), ('aaaaaaaaaaaaaaaaaabb', 0), ('aaaaaaaaaaaaaaabbb', 0), ('aabbcc', 1), ('aaaaaaaaaaaaaaaaaaab', 0), ('aabbcc', 1), ('aabbcc', 1), ('aabbcc', 1), ('aabbcc', 1), ('aaaaaaaaaaaaabbccc', 0), ('aabbcc', 1), ('aaaaaaaaaaabbbccc', 0), ('aaaaaaaaaaaabbbbbbbb', 0)]\n",
      "Average Sentence Length:\n",
      "11.12\n",
      "Test Data Sample:\n",
      "[('aaaaaaaaaaaaaaaaaaaaaabcccccccccccccccccccccccccccccccccccccccccccccccccccccccccccccccc', 0), ('aaaaaaaaaaaaaaaaaaaaaaaaaaaaaaaaaaaaaaaaaaaaaaaaaaaaaaaaaaaaaaaaaaaaaaaaaaaaaaaaaaaaaaaaaaaaaab', 0), ('aaaaaaaaaaaaaaaaaaaaaaaaaaaaaaaaaaaaaaaaaaaaaaaaaaaaaaaaaaaaaaaaaaaaaaaaaaaaaaaaa', 0), ('aaaaaaaaaaaaaaaaaaaaaaaaaaaaaaaaabbbbbbbbbbbbbbbbbbbbbbbbbbbbbbbbbccccccccccccccccccccccccccccccccc', 1), ('aaaaaaaaabbbbbbbbbccccccccc', 1), ('aaaaaaaaaaaaaaaaaaaaaaaaaaaaaaaaaaaaaaaaaaaaaaaaaaaaaaaaaaaaaabbbbbbbbbbbbbbbbbbbbbbbbbbbbbbbbbbbbbb', 0), ('aaaaaaaaaaaaaaaaaaaaaabbbbbbbbbbbbbbbbbbbbbbcccccccccccccccccccccc', 1), ('aaaaaaaabbbbbbbbbbbbbbbbbcccccccccccccccccc', 0), ('aaaaaaaaaaaaaaaaaaaaabbbbbbbbbbbbbbbbbbbbbccccccccccccccccccccc', 1), ('aaaaaaaaaaaaaaaaaaaaaaaaaaaaaaaaaaaaaaaaaaaaaaaaaaaaaaaaabbbbbbbbbbb', 0), ('aaaaaaaaaaaabbbbbbbbbbbbcccccccccccc', 1), ('aaaaaaaaaaaaaaaaaaaaaaaaaaaaaaaaaaaaaaaaaaaaaaaaaaaaaaabccccccccccccccccccccccccccccccccccccccccccc', 0), ('aaaaaaaaaaaaaaabbbbbbbbbbbbbbbccccccccccccccc', 1), ('aaaaaaaaaaaaaaaaaaaaaaaaaaaaaabbbbbbbbbbbbbbbbbbbbbbbbbbbbbbcccccccccccccccccccccccccccccc', 1), ('aaaaaaaaaaaaabbbbbbbbbbbbbccccccccccccc', 1), ('aaaaaaaaaaaabbbbbbbcccccccccccccccccccccccccccccccccccccccccccccccccccccccccccccccccc', 0), ('aaaaaaaaaaaaaaaaaaaaaaaaaaaaaaaaaaabbbbbbbbbbbbbbbbbbbbbbbbbbbbbbbbbbbbbbbbbbbbbbbbbbbbb', 0), ('aaaaaaaaaaaaaaaaaaaaaaaaaaaaaaaaaaaaaaaaaaabbbbbbbbbbbbbbbbbbbbbbbbbbbbbbbbbbbbbbbbb', 0), ('aaaaaaaaaaaaaaaaaaaaaaaaaaaaaaaaaaaaaaaaaaaaaaaaaaaaaaaaaaaaaaaaabbbbbbbbbbbbbbbbbbbbbbbbbbbbbbbbbb', 0), ('aaaaaaaaaaabbbbbbbbbbbccccccccccc', 1), ('aaaaaaaaaaabbbbbbbbbbbccccccccccc', 1), ('aaaaaaaaaaaaaaaaaaaaaabbbbbbbbbbbbbbbbbbbbbbcccccccccccccccccccccc', 1), ('bbbbbbbbbbbbbbbbbbbbbbbbbbbbbbbbbbbbbbbbbbbbbbbbbbbbbbbbbbbbbbbbb', 0), ('aaaaaaaaaaaaaaaaaaaaaaaaaaaaaaaaaaaaaaaaaaaaaaaaaaaaaaaaaaaaaaaaaaaaaaaaaaaaabbbbbbbbb', 0), ('aaaaaaaaaaaaaaaaaaabbbbbbbbbbbbbbbbbbbccccccccccccccccccc', 1), ('aaaaaaaaaaaaaaaaaaaaaaaaaaaaaaabbbbbbbbbbbbbbbbbbbbbbbbbbbbbbbccccccccccccccccccccccccccccccc', 1), ('aaaaaaaaaaaaaaaaaaaaaaaaaaaaaaaaaaaaaaaaaaaaaabbbbbbbbbbbbbbbbbbbbbbbbbbbbbbbbbb', 0), ('aaaaaaaabbbbbbbccccccccccccccccccccccccccccccc', 0), ('aaaaaaaaaaaaaaaaabbbbbbbbbbbbbbbbbccccccccccccccccc', 1), ('aaaaaaaaaaaaaaaaaaaaaaaaaaaaaaaaaaaaaaaaaaabbbbbbbbbbcccccccccccc', 0), ('aaaaaaaaaaaaaaaaaaaaaaaaaaaaaaaabbbbbbbbbbbbbbbbbbbbbbbbbbbbbbbbcccccccccccccccccccccccccccccccc', 1), ('aaaaaaaaaaaaaaaaaaaaaaaaaaaaaaaaaaaaaaaaaaaaaaaaaaaaaaaaaaaaaaaaaaaaaaaaaaaaaaaaaaaaaaaaaaaaaaaaabbb', 0), ('aaaaaaaaaaaaaaaaaaabbbbbbbbbbbbbbbbbbbccccccccccccccccccc', 1), ('aaaaaaaaabbbbbbbbbccccccccc', 1), ('aaaaaaaaaaaaaaaaaaaaaabbbbbbbbbbbbbbbbbbbbbbcccccccccccccccccccccc', 1), ('aaaaaaaaaaaaaaaaaaaaaaaaaaaaaaaaaaaaaaaaaaaaaaaaaaaaabbbbbbbbbbbbbbbbbbbbbbbbbbbbbbbbbbbbbbbbbbbbbbb', 0), ('aaaaaaaaaaaaaaaaaaaaaabbbbbbbbbbbbbbbbbbbbbbcccccccccccccccccccccc', 1), ('aaaaaaaaaaaaaaaaaaaaaaabbbbbbbbbbbbbbbbbbbbbbbccccccccccccccccccccccc', 1), ('aaaaaaaaaaaaaaaaaaaaaaaaaabbbbbbbbbbbbbbbbbbbbbbbbbbcccccccccccccccccccccccccc', 1), ('aaaaaaaaaaaaaaaaaaaaaaaaaaaaaaaaaaaaaaaaaaaaaaaaaaaaaaaaaaaaaaaaaaaaaaaaabcccccccccccccccccccccccc', 0), ('aaaaaaaaaaaaaaaaaaaaaaaaaaaaaabbbbbbbbbbbbbbbbbbbbbbbbbbbbbbcccccccccccccccccccccccccccccc', 1), ('aaaaaaaaaaaaaaaaaaaaaaaaaaaaaaaaabbbbbbbbbbbbbbbbbbbbbbbbbbbbbbbbbccccccccccccccccccccccccccccccccc', 1), ('aaaaaaaaabbbbbbbbbccccccccc', 1), ('aaaaaaaaaaaaaaaaaaaaaaaaaaaaaabbbbbbbbbbbbbbbbbbbbbbbbbbbbbbcccccccccccccccccccccccccccccc', 1), ('aaaaaaaaaaaaaaaaaaaaaaaaaaaaaaaaaaaaaaaaaaaaaaaaaabbbbbbbbbbbbbbbbbbbbbbbccccc', 0), ('aaaaaaaaaaaaaaaaaaaaaaaaaaaaaaaaaaaaaaaaaaaaaaaaaaaaaaaaaaaaabbbbbbbbbbbbcccccccccccccccccccccc', 0), ('aaaaaaaaaaabbbbbbbbbbbccccccccccc', 1), ('aaaaaaaaabbbbbbbbbbbbbbbbbbbbbbbbbbbbbbbbbbbbbbbbbbbbbbbbbbbbbbbbbbbbbbbbbbbbb', 0), ('aaaaaaaaaaaaaaaaaaaaaaaaaaaaaaaaaaaaaaaaaaaaaaaaaaaaaaaaaaaaaaaaaaaaaaaaaaaaaaaaaaaaaaaaaaaaaaaab', 0), ('aaaaaaaaaaaaaaaaaaaaaaaabbbbbbbbbbbbbbbbbbbbbbbbcccccccccccccccccccccccc', 1), ('aaaaaaaabbbbbbbbcccccccc', 1), ('aaaaaaaaaaaaaaaaaaaaaaaaaaaaabbbbbbbbbbbbbbbbbbbbbbbbbbbbbccccccccccccccccccccccccccccc', 1), ('aaaaaaaaaaaaaaaaaaaaaaaaaaaaaaaaaaaaaaaaaaaaaaaaaaaaaaaaaaaaaaaaaaaaaaaaaaaaaaaaaaaaaaaaaaaaaaaaabbb', 0), ('aaaaaaaaaaaaaaaaaabbbbbbbbbbbbbbbbbbcccccccccccccccccc', 1), ('aaaaaaaaaaaaaaaaaaaaaaaaaaaaaaaaaaaaaaaaaaaaaaaaaaaaaaaaaaaaaaaaaaaaaaaaaaaaaaaaaaaaaaaabbbbbbbbbb', 0), ('aaaaaaaaaaaaaaaaaaaaabbbbbbbbbbbbbbbbbbbbbbbbbbbbbbbbbbbbbcccccccccccccccccccccccc', 0), ('aaaaaaaaaaaaaaaaaaaaaaaaaaaaaabbbbbbbbbbbbbbbbbbbbbbbbbbbbbbbbbbbbbbbbbbbbbbbbb', 0), ('aaaaaaaaaaaaaabbbbbbbbbbbbbbcccccccccccccc', 1), ('aaaaaaaaaaaaaaaaaaaaaaaaaaaaaaaaaaaaaaaaaaaaaaaaaaaaaaaaaaaaaaaaaaaaaaaaaaaaaaaaaaaabbbbbb', 0), ('aaaaaaaaaaaaaaaaaaaaaaaaaaaaaaaaaaaaaaaaaaaaaaaaaaaaaaaaaaaaaaaabbbbbbbbbbbbbbbbbbbbbbbbbbbb', 0), ('aaaaaaaaaaaaaaaaaaaabbbbbbbbbbbbbbbbbbbbcccccccccccccccccccc', 1), ('aaaaaaaaaaaaabbbbbbbbbbbbbbbbbbbbbbbbbbbbbbbbbbbbbbbbbbbbbbbbbbbbbbbbbbbbbbbbbbbbbbbbbbbbbbbbbbbb', 0), ('aaaaaaaaaabbbbbbbbbbcccccccccc', 1), ('aaaaaaaaaaaaaaaaaaaaaaaaaaaaaaaaaaaaaaaaaaaaaaaaaaaaaaaaaaaaaaaaaaabccccccccccccccc', 0), ('aaaaaaaaaaaaaaaaaaaaaaaaaaaaaaaaaaaaaaaaaaabbbbbbbbbbbbbbbbbbbbbbbbbbbbbbbbbbbbbbbbbbbbbbb', 0), ('aaaaaaaaaaaaaaabbbbbbbbbbbbbbbccccccccccccccc', 1), ('aaaaaaaaaaaaaaaaaaaaaabbbbbbccccccccccccccccccccccccccccccccccccccccccccccccccc', 0), ('aaaaaaaaaaaaaaabbbbbbbbbbbbbbbccccccccccccccc', 1), ('aaaaaaaaaaaaaaaaaaaaaaaaaaaaaaaaaaaaaaaaaaaaaaaaaaaaaaaaaaaaaaaaaaaaaaaaaaaaaaaaaaaaaaaaaaaabbbbbbb', 0), ('aaaaaaaaaaaaaaaaaaaaaaaaaaabbbbbbbbbbbbbbbbbbbbbbbbbbbccccccccccccccccccccccccccc', 1), ('aaaaaaabbbbbbbbbcccccccccccccccccccccccccccccccccccc', 0), ('aaaaaaaaaaabbbbbbbbbbbccccccccccc', 1), ('aaaaaaaaaaaaaaaaaaabbbbbbbbbbbbbbbbbbbccccccccccccccccccc', 1), ('aaaaaaaaaaaaaaaaaaaaaaaaaaaaaaaaaaaaaaaaaaaaaaaaaaaaaaaaaaaaaaaabbbbcccccccccccccc', 0), ('aaaaaaaaaaaaaaaaaaaaaaaaaaaaaaaaaaaaaaaaaaaaaaaaaaaaaaaaaaaaaaaaabbbbbbbbbbbb', 0), ('aaaaaaaaaaaaaaaaaaaaaaaaaaaabbbbbbbbbbbbbbbbbbbbbbbbbbbbcccccccccccccccccccccccccccc', 1), ('aaaaaaaabbbbbbbbcccccccc', 1), ('aaaaaaaaaaaaaaaaaaaaaaaaaaaaaaaaabbbbbbbbbbbbbbbbbbbbbbbbbbbbbbbbbbbbbbbbbbbbbbbbbbbbbbb', 0), ('aaaaaaaaaaaaaaaaaaaaaaaaaaaaaaaaabbbbbbbbbbbbbbbbbbbbbbbbbbbbbbbbbccccccccccccccccccccccccccccccccc', 1), ('aaaaaaaaaaaaaaaaaaaaaaaaaaaaaaaaaaaaaaaaaaaaaaaaaaaaaaaaaaaaaaaaaaaaaaaaaaaaaaaaaaaaabbbbbbbbbccccc', 0), ('aaaaaaabbbbbbbccccccc', 1), ('aaaaaaaaaaaaaaaaaaaaaaaaaaaaaabbbbbbbbbbbbbbbbbbbbbbbbbbbbbbcccccccccccccccccccccccccccccc', 1), ('aaaaaaaaaaaaaaaaaaaaaaaaaaaaaaaaaaaaaaaaaaaaaaaaaaaaaaaaaaaaaaaaaaaaaaabbbbbbbbbbbbbbbbbbbbbbbb', 0), ('aaaaaaaaaaaaaaaaaaaaaaaaaaaaaabbbbbbbbbbbbbbbbbbbbbbbbbbbbbbbbbbb', 0), ('aaaaaaaaaaaaaaaaaaaaaaaaaaaaaaaaaaaaaaaaaaaaaaaaaaaaaaaaaaaaaaaaaaaabbbbbbbbbbbbbbbbbbbbbbbbbbbbbb', 0), ('aaaaaaaaaaaaaaaaaaaaaaaaaaaaaaaaaaaaaaaaaaaaaaaaaaaaaaaaaaaabbbbbcccccccccccccccccc', 0), ('aaabbbbbbbbbbbbbbbbbbbbbbbbbbbbbbbbbbbbbbbbbbbbbbbbbbcccccccccccccccccccccccccccccccccccccc', 0), ('aaaaaaaaaaaaaaaaaaaaaaaaaaaaaaaaaaaaaaaaaaaaaaaaaaaaaaaaaaaaaaaaaaaaaaabbbbbbbbbbbbbb', 0), ('aabbbbbbbbbbbbbbbbbbbbbbbbbbbbbbbbbbbbbbbbbbbbbbbbbbbbcccccccccccccccccccccccccccccccccccccccccccccc', 0), ('aaaaaaaaaaaaaaaaaabbbbbbbbbbbbbbbbbbcccccccccccccccccc', 1), ('aaaaaaaaaaaaaaaaaaaaaaaaaaaaaaaaaaaaaaaaaaaaaaaaaabbbbbbbbbbbbbbbbbbbbbbbbbbbbbbbbbbbbbbbbbbbbbbbb', 0), ('aaaaaaaaaaaaaaaaaaaaaabbbbbbbbbbbbbbbbbbbbbbcccccccccccccccccccccc', 1), ('aaaaaaaaaabbbbbbbbbbcccccccccc', 1), ('aaaaaaaaaaaaaabbbbbbbbbbbbbbcccccccccccccc', 1), ('aaaaaaaaaaaaabcccccccccccccccccccccccccccccccccccccccccccccccccccccccccccccccccccccccccccccccccc', 0), ('aaaaaaaaaaaaaaaaaabbbbbbbbbbbbbbbbbbcccccccccccccccccc', 1), ('aaaaaaaaaaaaaaaaaaaaaaaaaaaaaaaaaaaaaaabbbbbbbbcccccccccccccccccccccccccccccccccccccc', 0), ('aaaaaaaaaaaaaaaaaaaaaabbbbbbbbbbbbbbbbbbbbbbbbbbbbbbbbbbbbbbbbbbbbbbbbbbbbbbbbbbbbbb', 0), ('aaaaaaaaaaaaabbbbbbbbbbbbbccccccccccccc', 1), ('aaaaaaaaaaaaaaaaaaaaaaaaaaaaaaaaaaaaaabbbbbbbbbbbbbbbbbbbbbbbbbbbbbbbbbbbbbbbb', 0), ('aaaaaaaaaaaaaaaaaaaaaaaaaaaaaaaaaaaaaaaaaaaaaabbbbbbbbbbbbbbbbbbbbbbbbbbbbbbbbbbbbbbbbbb', 0), ('aaaaaaaaaaaaaaaaaaaabbbbbbbbbbbbbbbbbbbbcccccccccccccccccccc', 1), ('aaaaaaaaaaaaaaaaaaaaaaaaaaaaaaaaaaaaaaaaaaaaaaaaaaaaaaaaaaaaaaaaaaaaaaaabccccccccccccccccccccccccc', 0), ('bbbbbbbbbbbbbbbbbbbbbbbbbbbbbbccccccccccccccccccccc', 0), ('aaaaaaaaaaaaaaaaaaaaaaaaaabbbbbbbbbbbbbbbbbbbbbbbbbbcccccccccccccccccccccccccc', 1), ('aaaaaaaaaaaaaaaaaaaaaabbbbbbbbbbbbbbbbbbbbbbcccccccccccccccccccccc', 1), ('aaaaaaaaaaaaaaaaaaaaaaaaaaaaaaaaaaaaaaaaaaaaaaaaaaaaaaaaaaaaaaaaaaaaaaaaaaaaaaaaab', 0), ('aaaaaaaaaaaaaaaaaaaaaaaaaaabbbbbbbbbbbbbbbbbbbbbbbbbbbccccccccccccccccccccccccccc', 1), ('aaaaaaaaaaaaaaabbbbbbbbbbbbbbbccccccccccccccc', 1), ('aaaaaaabbbbbbbccccccc', 1), ('aaaaaaaaaaaaaaaaaaaaaaaaaaabbbbbbbbbbbbbbbbbbbbbbbbbbbccccccccccccccccccccccccccc', 1), ('aaaaaaaaaaaaaaaaaaaabbbbbbbbbbbbbbbbbbbbcccccccccccccccccccc', 1), ('aaaaaaaaaaaaaaaaaaaabbbbbbbbbbbbbbbbbbbbcccccccccccccccccccc', 1), ('aaaaaaaaaaaaaaaaaaaaaaaaaaaaaaaaaaaaaaaaaaaaaaaaaaaaaaaaaaaaaaabbbbbbbbbbbbbbbbbbbb', 0), ('aaaaaaaaaaaaaaaabbbbbbbbbbbbbbbbcccccccccccccccc', 1), ('aaaaaaaaaaaaaaaaaaaaaaabbbbbbbbbbbbbbbbbbbbbbbbbbbbbbbbbbbbbbbbbbbbbbbbbbbbbbbbbbbbbbbbbbbbbbbbbbbb', 0), ('aaaaaaabbbbbbbccccccc', 1), ('aaaaaaaaaaaaaaaaaaaaaabbbbbbbbbbbbbbbccccccccccccc', 0), ('aaaaaaaaaaaaaaaaaaaaaaaaaaaaaaabbbbbbbbbbbbbbbbbbbbbbbbbbbbbbbccccccccccccccccccccccccccccccc', 1), ('aaaaaaaaaaaaaaaaaaaaaaaaabbbbbbbbbbbbbbbbbb', 0), ('aaaaaaaaaaaaaaaaaaaaaaaaaaaaaaaaaaaaaaaaaabbbbbbbbbbbbbbbbbbbbbbbbbbbbbbbbbbbbbbbbbbbbbbbbbbbbbb', 0), ('aaaaaaaaaaaaaaaaaaabbbbbbbbbbbbbbbbbbbccccccccccccccccccc', 1), ('aaaaaaaaaaaaaaaaaaaaaaaaaaaaaabbbbbbbbbbbbbbbbbbbbbbbbbbbbbbbbbbbbbbccccccccccccccccccc', 0), ('aaaaaaaaaaaaaaaaaaaaaaaaaaabbbbbbbbbbbbbbbbbbbbbbbbbbbccccccccccccccccccccccccccc', 1), ('aaaaaaaaaaaaaaaaaaabbbbbbbbbbbbbbbbbbbbbbbbbbbbbbbbbbbbbbbbbbbbbbbbbb', 0), ('aaaaaaaaaaaaaaaaaaaaaaaaaaaaaaaaaabbbbbbbbbbbbbbbbbbbbbbbbbbbbbbbbbbbbbbbbbbbbbbbbb', 0), ('aaaaaaaaaaaaaaaabbbbbbbbbbbbbbbbbbbbbbbbbbbbbbbbbbbbbbbbbbbbbbbbbbbbbbbbbbbbbbbbbbbbbbbbbbbb', 0), ('aaaaaaaaaaaaaaaaaaaabbbbbbbbbbbbbbbbbbbbcccccccccccccccccccc', 1), ('aaaaaaaaaaaaaaaaaaaaaaabbbbbbbbbbbbbbbbbbbbbbbccccccccccccccccccccccc', 1), ('aaaaaaaaaaaaaaaaaaaaaaaaaaaaaaabbbbbbbbbbbbbbbbbbbbbbbbbbbbbbbbbbbbbbbbbb', 0), ('aaaaaaaaaaaaaaaaaaaaaaaaaaaaaaaabbbbbbbbbbbbbbbbbbbbbbbbbbbbbbbbcccccccccccccccccccccccccccccccc', 1), ('aaaaaaaaaaaaaaaaaaaaaaaaaaaaaaaaaaaaaaaaaaaaaaaaaaaaaaaaaaaaaaaaaaaaaaaaaaaaaaaaaaaaaabbbbbbbbbbbbbb', 0), ('aaaaaaaaaaaaaaaaaaaaaaaaaaaaaaaaabbbbbbbbbbbbbbbbbbbbbbbbbbbbbbbbbccccccccccccccccccccccccccccccccc', 1), ('aaaaaaaaaaaaaaaaaaaaaaaaaaaaaaaaaaaaaaaaaaaaaaaaaaaaaaaaaaaabbbbbbbbbbbbbbbbbbbbbbbccccccc', 0), ('aaaaaaaaaaaaaaaaaaaaaaaaaaaaaaaaaaaaaaaaaaaaaaaaaaaaaaaaaaaaaaaaaaaabbbbbbbbbbbbbbbbbbbbbbbbbb', 0), ('aaaaaaaaaaaaaaaaaaaaaaaaaaaaaaaaaaaaaaaaaaaaaaaaaaaaaaaaaaaaaaaaaaabbcccccccccccccccccccccccccc', 0), ('aaaaaaaaaaaaaaaaaaaaaaaaaaaaaaaaaaaaaaaaaaaaaaaaaaaaaaaaaaaaabbbbbbbbbbbbbbbbbbb', 0), ('aaaaaaaaaaaaaaaaaaaaaaaaaaaaaaaaaaaaaaaaaaaaaaaaaaaaaaaaaaaabbbbbbbbbbbbbbb', 0), ('aaaaaaaaaaaaaaaaaaaaaabbbbbbbbbbbbbbbbbbbbbbcccccccccccccccccccccc', 1), ('aaaaaaaaaaaaaaaaaaaaaaaaaaaaaaaaaaaaaaaaaaaaaaaaaaaaaaaaaaaaaaaaaaaaaaaaaaaaaabbbbbbbbbbbbbbbbcc', 0), ('aaaaaaaabbbbbbbbcccccccc', 1), ('aaaaaaaaaaaaaaaaaaaaaaaaaaaaaaaaaaaaaaaaaaaaaaaaaaaaaaaaaaaaaaaaaaaaaaaaaaaaaabbbbbbbbbbbbbbbbbbb', 0), ('aaaaaaaaaaaaabbbbbbbbbbbbbbbbbbbbbbbbbbbbbbbbbbccccccc', 0), ('aaaaaaaaaaaaaaaaaaaaaaaaaaaaaaaaaaaaaaaaaaaaaaaaaaaaaaaaaaaaaaaaaaaaaaaaaaaabbbbbbbbbbbbbbbbbbbb', 0), ('aaaabbbbbbbbbbbbbbbbbbbbbbbbbbbbbbbbbbbbbbbbbbbbbbbbbbbbbbbbbbbbbbbccccccccccc', 0), ('aaaaaaaaaaaaaaaaaaaaaaabbbbbbbbbbbbbbbbbbbbbbbccccccccccccccccccccccc', 1), ('aaaaaaaaaaaaaaaaaaaaaaaaaaaaaaaaaaaaaaaaaaaaaaaaaaaaaaabbbbbbbbbbbbbbbbbbbbbbbbbbbbbb', 0), ('aaaaaaaaaaaaaaaaaaaaaaaaaaabbbbbbbbbbbbbbbbbbbbbbbbbbbccccccccccccccccccccccccccc', 1), ('aaaaaaaaaaaaaaaaaaabbbbbbbbbbbbbbbbbbbccccccccccccccccccc', 1), ('aaaaaaaaaaaaaaaaaaaabbbbbbbbbbbbbbbbbbbbcccccccccccccccccccc', 1), ('aaaaaaaaaaaaaaaaaaaaaaaaaaaaaaaaaaaaaaaaaaaaaaaaaaaaaaaaaaaaaaaaaaaaaaaaaaaaaaaaaaaaaaaaaaaaaaaaabbb', 0), ('aaaaaaaaaaaaaaaaaaaaaaaabbbbbbbbbbbbbbbbbbbbbbbbcccccccccccccccccccccccc', 1), ('aaaaaaaaaaaaaaaaabbbbbbbbbbbbbbbbbccccccccccccccccc', 1), ('aaaaaaaaaaaaaaaaaaaaaaaaabbbbbbbbbbbbbbbbbbbbbbbbbccccccccccccccccccccccccc', 1), ('aaaaaaaaaabbbbbbbbbbbbbbbbbbcccccccccccccccccccccccccccccccccccccccccccccccccccccccccccccccccccccc', 0), ('aaaaaaaaaabbbbbbbbbbcccccccccc', 1), ('aaaaaaaaaaaaaaaaaaaaaaaaaaaaaaaaaaaaaaaaaaaaaaaaaabbbbbbbbbbbbbbbbbbbbbbbbbbbbbbbbbbbbbbbbbbbbbbbbb', 0), ('aaaaaaaaaaaaaaaaaaaaaaaaaaaaaaaaaaaaaaaaaaaaaaaaaaaaaaaaaaaaaaaaaaaaaaaaaaaaabbb', 0), ('aaaaaaaaaaaaaaaaabbbbbbbbbbbbbbbbbccccccccccccccccc', 1), ('aaaaaaaaaaaaaaaaaaaaaaaaaaabbbbbbbbbbbbbbbbbbbbbbbbbbbccccccccccccccccccccccccccc', 1), ('aaaaaaaaaaaaaaaaaaaaaaaaaaaaaaaaaaaaaaaaaaaaaaaaaaaaaaaaaaaaaaaaaaaaaaaaaaaaaaaaaabbbbbbbbbbbbbb', 0), ('aaaaaaaaaaaaaaaaaaaaaaaaaaaaaaaaaaaaaaaaaaaaaaaaaaaaaaaaaaaaaaaaaaaaaaaaaaaaaaaaaaaaaaaaaaaabbb', 0), ('aaaaaaaaaaaaaaaaaaaaaaaaaaaaaaaaaaaaaaaaaaaaaaaaaaaaaaaaaaaaaabbbbbbbbb', 0), ('aaaaaaaaaaaaaaaaaaaaaaaaaaaaaaaaaaaaaaaaaaaaaaaaaaaaaaaaaaaaaaaaaaaa', 0), ('aaaaaaaaabbbbbbbbbccccccccc', 1), ('aaaaaaaaaaaaaabbbbbbbbbbbbbbcccccccccccccc', 1), ('aaaaaaaaaaaaaaaaaaaaaaaaaaaaaaaabbbbbbbbbbbbbbbbbbbbbbbbbbbbbbbbcccccccccccccccccccccccccccccccc', 1), ('aaaaaaaaaaaaaaaaaaaaaaaaaaaaaaaaaaaaaaaaaaaaaaaaaaaaaaaaaaaaaaaaaaaaabbbbbbbbbbbbbbbbbb', 0), ('aaaaaaaaaabbbbbbbbbbcccccccccc', 1), ('aaaaaaaaaaaaaaabbbbbbbbbbbbbbbccccccccccccccc', 1), ('aaaaaaaaaabbbbbbbbbbcccccccccc', 1), ('aaaaaaaaaaaaaaaaaaaaaaaaaaaaaaaaaaaaaaaaaaaaaaaaaaaaaaaaaaaaaaaaaaaaaaaaaaaaaaaaaaaaaaaaaaaaaaaaab', 0), ('aaaaaaaaaaaaaaaaaaaaaabbbbbbbbbbbbbbbbbbbbbbcccccccccccccccccccccc', 1), ('aaaaaaaaaaabbbbbbbbbbbccccccccccc', 1), ('abbbbbbbbbbbbbbbbbbbbbbbbbbbbbbbbbbbbbbbbbbbbbbbbbbbbbbbbbbbbbbbbcccccccccccccccccccccccccccccccc', 0), ('aaaaaaaaaaaaaaabbbbbbbbbbbbbbbccccccccccccccc', 1), ('aaaaaaaaaaaaaaaaaaaaaaaaaaaaaaaaaaaaaaaaaaaaaaaaaaaaaaaaaaaaaaaaaaaaaaaaaaaaaaa', 0), ('aaaaaaaaaaaabbbbbbbbbbbbbbbbbbbbbbbbbbbbbb', 0), ('aaaaaaaaaaaaaaabbbbbbbbbbbbbbbccccccccccccccc', 1), ('aaaaaaaaaaaaaaaaaaaaaaaaaaaaaaaaaaaaaaaaaaaaaaaaaaaaaaaaaaaaaaaaaaaaaaaaaaaaaaaaaaaaaaaaaabbbccccccc', 0), ('aaaaaaaaabbbbbbbbbccccccccc', 1), ('aaaaaaaaaaabbbbbbbbbbbccccccccccc', 1), ('aaaaaaaaaaaaaaaaaaaaaaaaaaaaaaaaaaaaaaaaaaaaaaaaaaaaaaaaaaaaaaaaaaaaaaaaaaaaaaaaaaaaaaaaaaaaabb', 0), ('aaaaaaaaaaaaaaaabbbbbbbbbbbbbbbbcccccccccccccccc', 1), ('aaaaaaaaaaaaaaaaabbbbbbbbbbbbbbbbbccccccccccccccccc', 1), ('aaaaaaaaaaaaaaaaaabbbbbbbbbbbbbbbbbbcccccccccccccccccc', 1), ('aaaaaaaaaaaaaaaaaaaaaaaaaaaaaaaaaaaaaaaaaaaaaaaaaaaaaaaaaaaaaaaaaaaaaaaaaaaabbbbbbbbbbbbbb', 0), ('aaaaaaaaaaaaaaaaaaaaaaaaaaaaaaaabbbbbbbbbbbbbbbbbbbbbbbbbbbbbbbbcccccccccccccccccccccccccccccccc', 1), ('aaaaaaaaaaaaaaaaabbbbbbbbbbbbbbbbbccccccccccccccccc', 1), ('aaaaaaaaaaaaaaaaaaaaaaaaaaaaaaaaaaaaaaaaaaaaaaaaaaaaaaaaaaaaaaaaaaaaaaaaaaaaaaaaaaaaaaaaaabbbcccc', 0), ('aaaaaaaaaaaaaaaaaaaaaaaaaaaaaaaaaaaaaaaaaaaaaaaaaaaaaaaaaaaaaaaaaaaaaaaaaaabbbbbb', 0), ('aaaaaaaaaaaabbbbbbbbbbbbcccccccccccc', 1), ('aaaaaaaaaaaaaaaaaaaaaaabbbbbbbbbbbbbbbbbbbbbbbbbbbbbbbbbbbbbbbbbbbbb', 0), ('aaaaaaaaaaaaaaaaaaaaaaaaaaaaaaabbbbbbbbbbbbbbbbbbbbbbbbbbbbbbbccccccccccccccccccccccccccccccc', 1), ('aaaaaaaaabbbbbbbbbccccccccc', 1), ('aaaaaaabbbbbbbccccccc', 1), ('aaaaaaaaaaaaaaaaabbbbbbbbbbbbbbbbbccccccccccccccccc', 1), ('aaaaaaaaaaaaaaabbbbbbbbbbbbbbbccccccccccccccc', 1), ('aaaaaaaaaaaaaaaaaaaaaaaaaaaaaaaaaaaaaaaaaaaaaaaaaaaaaaaaaaaaaaaaaaaaaaaaaaaaaaaaaaaaaaaaaaaaaaaaab', 0), ('aaaaaaaaaaaaaabbbbbbbbbbbbbbbbbbbbbbbbbbbbbbbbbbbbbbbbbbbbbbbbbbbbbbbbbbbbbbbbbbbbbbbcc', 0), ('aaaaaaaaaaaaaaaaaaaaaaaaaabbbbbbbbbbbbbbbbbbbbbbbbbbcccccccccccccccccccccccccc', 1), ('aaaaaaaaaaaaaaaaaaaaaaaaaaaaaaabbbbbbbbbbbbbbbbbbbbbbbbbbbbbbbccccccccccccccccccccccccccccccc', 1), ('aaaaaaaaabbbbbbbbbccccccccc', 1), ('aaaaaaaaaaaaaaaaaaabbbbbbbbbbbbbbbbbbbccccccccccccccccccc', 1), ('aaaaaaaaaaaaaaaabbbbbbbbbbbbbbbbcccccccccccccccc', 1), ('aaaaaaaaaaaaaaaaaaaaaaaaaaaaaaaaaaaaaaaaaaaaaaaaaaaaaaaaaaaaaaaaaaaaaaaaaaaaaaaaaaaabbbbbbbbbb', 0), ('aaaaaaaaaabbbbbbbbbbbbbbbbbbbbbbbbbbbbbbbbbbbbbbbbbbbbbbbbbbbbbbbbbbbbbbbbbbbbbbbbbbbbbbbb', 0), ('aaaaaaaaaaaaaaaaaaaaaaaaaaaabbbbbbbbbbbbbbbbbbbbbbbbbbbbcccccccccccccccccccccccccccc', 1), ('aaaaaaaaaaaaaaaaaabbbbbbbbbbbbbbbbbbcccccccccccccccccc', 1), ('aaaaaaaaaaaaaaaaaaaaaaaaaaaaaaaaaaaaaaaaaaaaaaaaaaaaaaaaaaaaaaaaaaaaaaaaaaaaaaaaaaaaaaaaaaaaaabbbbbb', 0), ('aaaaaaaaaaaaaaaaaaaaaaaaaaaaaaaaaaaaaaaaaaaaaaaaaaaaaaaaaaaaaaaaaaaaaaaaaaaaaaaaaaaaaaaaaaaaaaaaaaa', 0), ('aaaaaaaaaaaaaaaaaaaaaaaaaaaabbbbbbbbbbbbbbbbbbbbbbbbbbbbcccccccccccccccccccccccccccc', 1), ('aaaaaaaaaaaaaaaaaaaaaaaaaaaaaaaaaaaabbbbbbbbbbbbbbbbbbbbbbbbbbbbbbbbbccccccccccccccccccccccccccccccc', 0), ('aaaaaaaaaaaaaaaaaaaaaaaaaaaaaaaaaaaaaaaaaaaaaaaaaaaaaaaaaaaaaaaaaaaaaaaaaaabbbbbbbbbbb', 0), ('aaaaaaaaaaaaabbbbbbbbbbbbbccccccccccccc', 1), ('aaaaaaaaaaaaaaaaaaaaaaaaaaaaaaaaabbbbbbbbbbbbbbbbbbbbbbbbbbbbbbbbbccccccccccccccccccccccccccccccccc', 1), ('aaaaaaaabbbbbbbbbbbbbbbbbbbbbbbbbbbbbbbbbbbbbbbbbbbbbbbbb', 0), ('aaaaaaaaaaaaaaaaaaaaaaaaaaaaaaaaaaaaaaaaaaaaaabbbbbbbbbbbbbbbbbbb', 0), ('aaaaaaaaaaaaaaaaaaaaaaaaaaaaabbbbbbbbb', 0), ('aaaaaaaaaaaaaaaaaaaabbbbbbbbbbbbbbbbbbbbcccccccccccccccccccc', 1), ('aaaaaaaaaaaaaaaaaaaaaaaaaaaaaaaaaaaaaaaaaaaaaaaaaaaaabbbbbbbbbbbbbbbbbbbbb', 0), ('aaaaaaaaaaaaaaaaaaaaaaaaaaaaabbbbbbbbbbbbbbbbbbbbbbbbbbbbbbbbbbbbbbbbbbbbbbbbbbbbbbbbbbbbbcc', 0), ('aaaaaaaaaaaaaaaaaaaaaaaaabbbbbbbbbbbbbbbbbbbbbbbbbccccccccccccccccccccccccc', 1), ('aaaaaaaaaaaaaaaaaaaaaaaaaaaaaaaaaaaaaaaaaaaaaaabbbbbbbbbbbbbbbbbbcccccccc', 0), ('aaaaaaaaaaaaaaaaaaaaaabbbbbbbbbbbbbbbbbbbbbbcccccccccccccccccccccc', 1), ('aaaaaaaaaaaaaaaaaaaaaaaaaaaaaabbbbbbbbbbbbbbbbbbbbbbbbbbbbbbcccccccccccccccccccccccccccccc', 1), ('aaaaaaabbbbbbbccccccc', 1), ('aaaaaaaaaaaaaaaaaaaaaaaaabbbbbbbbbbbbbbbbbbbbbbbbbccccccccccccccccccccccccc', 1), ('aaaaaaaaaaaaaaaaaaaaaaaaaaaaaaaaaaaaaaaaaaaaaaaaaaaaaaaaaaaaaaaaaaaaaaaaaaaaaaaaaabbbbbb', 0), ('aaaaaaaaaaaaaaaaaaaabbbbbbbbbbbbbbbbbbbbcccccccccccccccccccc', 1), ('aaaaaaaaaaaaaaaaaaaaaaabbbbbbbbbbbbbbbbbbbbbbbccccccccccccccccccccccc', 1), ('aaaaaaaaaaaaaaaaaaaaaaaabbbbbbbbbbbbbbbbbbbbbbbbcccccccccccccccccccccccc', 1), ('aaaaaaaaaaaaaaaaaaaaaaaaaaaaaaabbbbbbbbbbbbbbbbbbbbbbbbbbbbbbbbbbbbbbbbbbbbcccc', 0), ('aaaaaaaaaaaaaaaaaaaaaaaaabbbbbbbbbbbbbbbbbbbbbbbbbbbbbbbbbbbbbbbbbbbbbbbbbbbbb', 0), ('aaaaaaaaabbbbbbbbbccccccccc', 1), ('aaaaaaaaaaaaaaaaaaaaaaaaaaaaabbbbbbbbbbbbbbbbbbbbbbbbbbbbbbbbbbbbbb', 0), ('aaaaaaaaaaaaaaaaaaaaaaaaaaaaaaabbbbbbbbbbbbbbbbbbbbbbbbbbbbbbbccccccccccccccccccccccccccccccc', 1), ('aaaaaaaaaaaaaaaaaaaaaabbbbbbbbbbbbbbbbbbbbbbcccccccccccccccccccccc', 1), ('aaaaaaaaaaaaaaaaaaaaaaaaaaaaaaaaaaaaaaaaaaaaaaaaaaaaaaaaaaaaaaaaaaaaaaaaaaaaaaaaaaaaabbb', 0), ('aaaaaaaaaaaaaaaaaaaaaaaaaaaaabbbbbbbbbbbbbbbbbbbbbbbbbbbbbccccccccccccccccccccccccccccc', 1), ('aaaaaaaaaaaaaaaaaaaaaaaaaaaaaabbbbbbbbbbbbbbbbbbbbbbbbbbbbbbcccccccccccccccccccccccccccccc', 1), ('aaaaaabbbbbbbbbbbbbbbbbbbbbbbbbbbbbbbbbbbbbbbbbbbbbbbbbbbbbbcccccccccccccccccccccccccccccccccccccc', 0), ('aaaaaaaaaaaaaaaaaaaaaaaabbbbbbbbbbbbbbbbbbbbbbbbcccccccccccccccccccccccc', 1), ('aaaaaaaaaaaaaaaaaaaaaaaaaaaaaaaabbbbbbbbbbbbbbbbbbbbbbbbbbbbbbbbbbbbbbbbbbbbbbbbbb', 0), ('aaaaaaaaaaaaaaaaaaaaaaaabbbbbbbbbbbbbbbbbbbbbbbbcccccccccccccccccccccccc', 1), ('aaaaaaaaaabbbbbbbbbbbbbbbbbbbbbbbbbbccccccccccccccccccccc', 0), ('aaaaaaaaaaaaaaaaaaaaabbbbbbbbbbbbbbbbbbbbbccccccccccccccccccccc', 1), ('aaaaaaaaaaaaaaaaaaaaaabbbbbbbbbbbbbbbbbbbbbbcccccccccccccccccccccc', 1), ('aaaaaaaaaaaaaaaaabbbbbbbbbbbbbbbbbccccccccccccccccc', 1), ('aaaaaaaaaaaaaaaaaaaaaaaaabbbbbbbbbbbbbbbbbbbbbbbbbbbbbbbbbbbbbbbbbbbbbbbbbbbbbbbbbbb', 0), ('aaaaaaaaaaaaaaaabbbbbbbbbbbbbbbbcccccccccccccccc', 1), ('aaaaaaaaaaaaaaaabbbbbbbbbbbbbbbbcccccccccccccccc', 1), ('aaaaaaaaaaaaaaaaaaaaaaabbbbbbbbbbbbbbbbbbbbbbbbbbbbbbbbbbbbbbbbbbbbbbbbbbbbbbbbbbbbbbbbb', 0), ('aaaaaaaaaaabbbbbbbbbbbccccccccccc', 1), ('aaaaaaaaaaaaaaaaaaaaaaaaaaaaaaaaaaaaaaaaaaaaaaaaaaaabbcccccccccccccccccccccccccccccccccccccc', 0), ('aaaaaaaaaaaaaaaaaaaaaaaaaaaaaaaaaaaabbbbbbbbbbbbbbbbbbbbbbbbbbbbbbbbbbbbbbbbbbbbb', 0), ('aaaaaaaaaaaaaaaaaaaaaaaaabbbbbbbbbbbbbbbbbbbbbbbbbccccccccccccccccccccccccc', 1), ('aaaaaaaaaaaaaaaaabbbbbbbbbbbbbbbbbccccccccccccccccc', 1), ('aaaaaaaaaaabbbbbbbbbbbccccccccccc', 1), ('aaaaaaaaaaaaabbbbbbbbbbbbbccccccccccccc', 1), ('aaaaaaaaaaaaaaaaaaaaaaaaaaaaaaaaaaaaaaaaaaaaaaaaaaaaaaaaaaaaaaaaaaaaaaaaaaaaaaaaaaaaaaaabbbbbbbbbbbb', 0), ('aaaaaaaaaaaaaaaaaaaaaaaaaaaaaaaaaaaaaaaabbbbbbbbbbbbbbbbbbbbbccc', 0), ('aaaaaaaaaaaaaaaaaaaaaaabbbbbbbbbbbbbbbbbbbbbbbccccccccccccccccccccccc', 1), ('aaaaaaaaaaaaaaaabbbbbbbbbbbbbbbbcccccccccccccccc', 1), ('aaaaaaaaaaaaaaaaaaaaaaaaaaaaabbbbbbbbbbbbbbbbbbbbbbbbbbbbbccccccccccccccccccccccccccccc', 1), ('aaaaaaaaaaaaaaaaaaaaaaaaaaaaaaaaaaaaaaaaaaaaaaaaaaaaaaaaaaaaaaaaaaaaaaaaaaaaaaaaaaaaabb', 0), ('aaaaaaaaaaaaaaaaaaaaaaaaaaaaaaaaaaaaaaaaaaaaaaaaaaaaaaaaaaaabbbbbbbbbbbbbb', 0), ('aaaaaaaaaaaaaaaaaaaaaaaaaaaaaaaaaaaaaaaaaaaaaaaaaaabbbbbbbbbbbbbbbbccccccccccccccccccc', 0), ('aaaaaaaaaaaaaaaaaaaaaaabbbbbbbbbbbbbbbbbbbbbbbccccccccccccccccccccccc', 1), ('aaaaaaaaaaaaaaaaaaaaaaaaaaaaaaaaaaaaaaaaaaaaaaaaaaaaaaaaaaaaaaaaaaaaaaaaaaaaaaaaaaaaaaaaaaaabbbbbc', 0), ('aaaaaaaaaaaaaaaaaaaaaaaaaaaaaaaaaaaaaaaaabbbbbbbbbbbbbbbbbbbbbbbbbbbbbbbbbbbbbbbbbbbbbbbbbbbbbbb', 0), ('aaaaaaaaaaaaaaaaaaaaaaaaaaaaabbbbbbbbbbbbbbbbbbbbbbbbbbbbbccccccccccccccccccccccccccccc', 1), ('aaaaaaaaaaaaaaaaaaaaaaaaaaaaaaaaaaaaaaaaaaaaaaaaaaaaaaaaaaaabbbbbbbbbbbbbbbbbbbbbbbbbbbbbbbbbbbb', 0), ('aaaaaaaaaaaaaaaaaaaaaaabbbbbbbbbbbbbbbbbbbbbbbbbcccccccccccccccc', 0), ('aaaaaaaaaaaaaaaaaaaaaaaaaaaaaaaaaaaaaaaaaaaaaaaaaaaaaaaaaaaaaaaaaaaaaaaaaaaaaaaaaaaaaaaaaaaabbbbbbbb', 0), ('aaaaaaaaaaaaaaabbbbbbbbbbbbbbbbbbbbccccccccccccc', 0), ('aaaaaaaaaaaaaaaaaaaaaaaaaaaaaaaaaaaaaaaaaaaaaaaaaaaaaaaaaaaaaaaaaaaaaaaaaaaaaaaaaaaaaaaabbbbcccccc', 0), ('aaaaaaaaaaaaaaaaaaaaaaaaaaaabbbbbbbbbbbbbbbbbbbbbbbbbbbbcccccccccccccccccccccccccccc', 1), ('aaaaaaaaaaaaaaaaaaaaaabbbbbbbbbbbbbbbbbbbbbbcccccccccccccccccccccc', 1), ('aaaaaaaaaaaaaaaaaaaabbbbbbbbbbbbbbbbbbbbcccccccccccccccccccc', 1), ('aaaaaaaaaaaabbbbbbbbbbbbbbbbbbbbbbbbbbbbbbbbbbbbbbbbbbbbbbbbbbbbbbbbbbbbb', 0), ('aaaaaaaaaaaaaaaaaaaaaaaaaaaaaaaaaaaaaaaaaaaaaaaaaaaaaaaabbbbbbbbbbbbbbbbbbbbbbbbbbbbbbbbbbbbbbbb', 0), ('aaaaaaaaaaaaaaabbbbbbbbbbbbbbbccccccccccccccc', 1), ('aaaaaaaaaaaaaaaaaaaaaaaaaaaaaaaaabbbbbbbbbbbbbbbbbbbbbbbbbbbbbbbbbccccccccccccccccccccccccccccccccc', 1), ('aaaaaaaabbbbbbbbcccccccc', 1), ('aaaaaaaaaaaaaaaaaabbbbbbbbbbbbbbbbbbcccccccccccccccccc', 1), ('aaaaaaaaaaaaaaaaaaaaaaaaaaaaaaaaaaaaaaaaaaaaaaaaaaaaaaaaaaaaaaaaaaaaaaaaaaaaaaaaaaaaaaaaaaaaaaaaaaab', 0), ('aaaaaaaaaaaaaaaaabbbbbbbbbbbbbbbbbbbbbbbbbbbbbbbbbbbbbbbbbbbbbbbbbbbbbbbbbbbbbbbbbbbbbbbbbbbbbb', 0), ('aaaaaaaaaaaaaaaaaaaaaaaaaaaaaaabbbbbbbbbbbbbbbbbbbbbbbbbbbbbbbbbbbbbbbbbbbbbbbbbbbbbbbbbbbbbbbbbbb', 0), ('aaaaaaaaaaaaaaaaaaaaaaaaaaaaaaabbbbbbbbbbbbbbbbbbbbbbbbbbbbbbbccccccccccccccccccccccccccccccc', 1), ('aaaaaaaaaaaaaaaaaaaaaaabbbbbbbbbbbbbbbbbbbbbbbccccccccccccccccccccccccccc', 0), ('aaaaaaaaaaaaaaaaaaaaaaaaaaabbbbbbbbbbbbbbbbbbbbbbbbbbbccccccccccccccccccccccccccc', 1), ('aaaaaaaaaabbbbbbbbbbcccccccccc', 1), ('aaaaaaaaaaaaaaaaaaaaaaaaaaaaaaaaaaaaaaaaaaaaaaaaaaaaaaaaaaaaaaaaaaaaaaaaaaaaaaaaaabbbbb', 0), ('aaaaaaaaaaaaaaaaaaaaaaaaaabbbbbbbbbbbbbbbbbbbbbbbbbbcccccccccccccccccccccccccc', 1), ('aaaaaaabbbbbbbccccccc', 1), ('aaaaaaaabbbbbbbbcccccccc', 1), ('aaaaaaaaaaaaaaaaaaaaaabbbbbbbbbbbbbbbbbbbbbbcccccccccccccccccccccc', 1), ('aaaaaaaaaaaaaaaaaaaaaaaaaaaaaabbbbbbbbbbbb', 0), ('aaaaaaaaaaaaaaaabbbbbbbbbbbbbbbbcccccccccccccccc', 1), ('aaaaaaaaaaaaaaaaaaabbbbbbbbbbbbbbbbbbbccccccccccccccccccc', 1), ('aaaaaaaaaaaaaaaaaaaabbbbbbbbbbbbbbbbbbbbcccccccccccccccccccc', 1), ('aaaaaaaaaaaaaaaabbbbbbbbbbbbbbbbbbbbbbbbbbbbbbbbbbbbbbbbbbbbbbbbcccccccccccccccccc', 0), ('aaaaaaaaaaaaaaaaaaaaaaaaaaaabbbb', 0), ('aaaaaaaaaaabbbbbbbbbbbbbbbbbbbccccccccccccccc', 0), ('aaaaaaaaaaaaaaaabbbbbbbbbbbbbbbbbbbbbbbbbbbbbbbbbbbbbbbbbbbbbbbbbccc', 0), ('aaaaaaaaaaaaaaaaaaaaaaaaaaaaaaaaaaaaaaaaaaaaaaaaaaaaaaaaaaaaaaaaaaaaaaaaaaaaaaaaaaaaaaaaaaaabbb', 0), ('aaaaabbbbbbbbbbbbbbbbbbbbbbbbbbbbbbbbbbbbbbbbbbbbbbbbbbbbbbbbbbbbbbbbbbbbbbbbbbbbbbbbbbbbbbbbbb', 0), ('aaaaaaaaaaaaaaaaaaaaaaaaaaaaaaaaaaaaaabbbbbbbbbbbbbbbbbbbbbbcc', 0), ('aaaaaaaaaaaaaaaaaaaaaaaaaaaaaaaaaaaaaaaaaaaaaaaaaaaaaaaaaaaaaaaaaaaaaaaaaaabbbbcccccccccccccc', 0), ('aaaaaaaaaaaaaaaaaabbbbbbbbbbbbbbbbbbcccccccccccccccccc', 1), ('aaaaaaaaaaaaaaaaaaaaaaaaaaaaaaaabbbbbbbbbbbbbbbbbbbbbbbbbbbbbbbbbbb', 0), ('aaaaaaaaaaaaaaaaaaaaabbbbbbbbbbbbbbbbbbbbbccccccccccccccccccccc', 1), ('aaaaaaaaaaaaaaaaaaaabbbbbbbbbbbbbbbbbbbbcccccccccccccccccccc', 1), ('aaaaaaaaaaaaaaabbbbbbbbbbbbbbbccccccccccccccc', 1), ('aaaaaaaaaaaaaaaaaaaaaaaaaaaaaaaaaaaaaaaaaaabbbb', 0), ('aaaaaaaaaaaaaaaaaaaaaaaaaaaaaaaaaaaaaabbbbbbbbbbbbbbbbbbbbbbbbbbbbbbbbbbbbbb', 0), ('aaaaaaaaaaaabbbbbbbbbbbbcccccccccccc', 1), ('aaaaaaaaaaaaaaaaaaaaaaaaaaaaaaaaaaaaaaaaaaaaaaaaaaaaaaaaaaaaaaaaabbbbbbbbbbbbbbbbccccccccccccccccc', 0), ('aaaaaaaaaaaaaaaaaaaaaaaaaaaaaaaaaaaaaaaaaaaabbbbbbbbbbbbbbb', 0), ('aaaaaaaaaaaaaaaaaabbbbbbbbbbbbbbbbbbcccccccccccccccccc', 1), ('aaaaaaaaaaaaaaaaaaaaaabbbbbbbbbbbbbbbbbbbbbbcccccccccccccccccccccc', 1), ('aaaaaaaaaaaaaaaaaaaaaaaaaaaaaaaabbbbbbbbbbbbbbbbbbbbbbbbbbbbbbbbcccccccccccccccccccccccccccccccc', 1), ('aaaaaaaabbbbbbbbcccccccc', 1), ('aaaaaaaaaaaaaaaaaaaaaaaaaaaaaaaaaaaaabbbbbbbbbbbbbbbbbbbbbbbbbbbccccccccccccccccccccccccccc', 0), ('aaaaaaaaaabbbbbbbbbbcccccccccc', 1), ('aaaaaaaaaaaaaaaaaabbbbbbbbbbbbbbbbbcccccccccccccccccccccccccccccccccccccccccc', 0), ('aaaaaaaaaaaaaaaaaaaaaaaaaaaaaaaaaaaaaaaaaaaaaaaaaaaaaaaaaaaaaaaaaaaaaaaaaaaabbbbbbbbbbbbbbbb', 0), ('aaaaaaaaaaaaaaaaaaaaaaaaaaaaabbbbbbbbbbbbbbbbbbbbbbbbbbbbbccccccccccccccccccccccccccccc', 1), ('aaaaaaaaabbbbbbbbbccccccccc', 1), ('aaaaaaabbbbbbbccccccc', 1), ('aaaaaaaaaaaaaaaaaaaaaaaaaaaaaaabbbbbbbbbbbbbbbbbbbbbbbbbbbbbbbccccccccccccccccccccccccccccccc', 1), ('aaaaaaaaaaaaaaaaaaaaaaaaaaaaaaaaaaaaaaaaaaaaabbbbbbbbbbbbbbbb', 0), ('aaaaaaaaaaaaaaaaaaaaaaaaaaaaaaaaaaaaaaaaaaaaaaaaaaaaaaaaaaaaabbbbbbbbbb', 0), ('aaaaaaaaaabbbbbbbbbbcccccccccc', 1), ('aaaaaaaaaaaaabbbbbbbbbbbbbccccccccccccc', 1), ('aaaaaaaaaaaaaaaaaaaaaaaaaaaaaaaaaaaaaaaaaaaaaaaaaaaaaaaaaaaaaaaaaaaaaaaaaaaaaaaaabbbbbbbbb', 0), ('aaaaaaaaaaaaaaaaaaaaaaaaabbbbbbbbbbbbbbbbbbbbbbbbbccccccccccccccccccccccccc', 1), ('aaaaaaaaaaaaaaaaaaaaaabbbbbbbbbbbbbbbbbbbbbbcccccccccccccccccccccc', 1), ('aaaaaaaaaaaaaaaaaaaaabbbbbbbbbbbbbbbbbbb', 0), ('aaaaaaaaaaaaaaabbbbbbbbbbbbbbbccccccccccccccc', 1), ('aaaaaaaaaaaaaaaaaaaaaaaaaabbbbbbbbbbbbbbbbbbbbbbbbbbcccccccccccccccccccccccccc', 1), ('aaaaaaaaaaaaaaaaaaaaaaaaabbbbbbbbbbbbbbbbbbbbbbbbbccccccccccccccccccccccccc', 1), ('aaaaaaaaaaaaabbbbbbbbbbbbbccccccccccccc', 1), ('aaaaaaaaaaaaaaaaaaaabbbbbbbbbbb', 0), ('aaaaaaaaaaaaaaaaaaaaabbbbbbbbbbbbbbbbbbbbbccccccccccccccccccccc', 1), ('aaaaaaaaaaaaaaaaaaaaaaaaaaaaaaaaaaaaaaaaaaaaaaaaaaaaaaaaaaaaaaaaabbbbbbbbbbbbbbbbbbbbbbccc', 0), ('aaaaaaabbbbbbbccccccc', 1), ('aaaaaaaaaaaaaaaaaaaaaaaaaaaaaaaaaaaaaaaaaaaaaaaaaaabbbbbbbbbbbbbbbbbbbbcccccccccc', 0), ('aaaaabbbbbcccccccccccccccccccccccccccccccc', 0), ('aaaaaaaaaaaaaaaaaaaaaaaaaaaaaaaaabbbbbbbb', 0), ('aaaaaaaaaaaabbbbbbbbbbbbcccccccccccc', 1), ('aaaaaaaaaaaaaaaaaaaaaaabbbbbbbbbbbbbbbbbbbbbbbbbbbbbbbbbbbbbbbbbbbbbbbbbbbbbbbbbbbbbbbbbbbbbbb', 0), ('aaaaaaaaaaaaaaaaaaaaaaaaaaaabbbbbbbbbbbbbbbbbbbbbbbbbbbbcccccccccccccccccccccccccccc', 1), ('aaaaaaaaaaaaaaaaaaaaaaaaaaabbbbbbbbbbbbbbbbbbbbbbbbbbbccccccccccccccccccccccccccc', 1), ('aaaaaaaaaaaaaaaaaaaaaaaaaaaaaaaaaaaaaaaaaaaaaaaaaaaaaaaaaaaaaaabbbbbbbbbbbbbbbbbbbbbbbbbbbbb', 0), ('aaaaaaaaaaaaaaaaaaaaaaaaaaaaaaaaaaaaabbbbbbbbbbbbbbbbbbbbbbbbbbbbbbbbbbbbbbbbbbbbbbbbbbbb', 0), ('aaaaaaaaaabbbbbbbbccc', 0), ('aaaaaaaaaaaaaaaaaaaaaaaaaaaaaaaaaaaaaaaaaaaaaaaaaaaaaaaaaaaaaaaaaaaaaaaaaaaaaaaaaaaaaaaaaaabbbbbbbbb', 0), ('aaaaaaaaaaaaaaaaaaaaaaaaaaaaabbbbbbbbbbbbbbbbbbbbbbbbbbbbbccccccccccccccccccccccccccccc', 1), ('aaaaaaaaaaaaaaaaaaaaaaaaaaaaaaaaaaaaabbbbbbbbbbbbbbbbbbbbbbbbbbbbbbbbbbbbbbbbbbbbbbbbbbbbbbb', 0), ('aaaaaaaaaabbbbbbbbbbcccccccccc', 1), ('aaaaaaaaaaaaaaaaaaaaaaaaaaaaaaaaaaaaaaaaaaaaaaaaaaaaaaabbbbbbbbbbbb', 0), ('aaaaaaaaaaaabbbbbbbbbbbbcccccccccccc', 1), ('aaaaaaaaaaaaaaaaaaaaaaaaaaaaaaabbbbbbbbbbbbbbbbbbbbbbbbbbbbbbbbbbbbbbbbbbbbbbbbbbbbbbbbbbbbbb', 0), ('aaaaaaaaaaaaaaaaaabbbbbbbbbbbbbbbbbbcccccccccccccccccc', 1), ('aaaaaaaaaaaaabbbbbbbbbbbbbbbbbbbbbbbbbbbbbbbbbbbbcccccccccccccccccccccccc', 0), ('aaaaaaaaaabbbbbbbbbbcccccccccc', 1), ('aaaaaaaaaaaaaaaaaaaaaaaaaaaaaaaaaaaaaaaaaaaaaaaaaaaaaaaaaaaabbbbbbbbbbbbbbbbbbbbbbbbb', 0), ('aaaaaaaaaaaaaaaaaaaaaaaaaaaabbbbbbbbbbbbbbbbbbbbbbbbbbbbbbbbbbbbbbbbbbbbbbbbbbbbbbb', 0), ('aaaaaaaaaaaaaaaaaaaaaaaaaaaaaaaaabbbbbbbbbbbbbbbbbb', 0), ('aaaaaaaaaaaaaaaaaaaaaaaaaaaaaaaaaaaaaaaaaaaaaaaaaaaaaaaabbbbbbbbbbbbbbbbbbbbbbbbbb', 0), ('aaaaaaaaaaaaaaaaaaaaaaaaaaaaaaaaaaaaaaaaaaaaaabbbbbbbbccc', 0), ('aaaaaaaaaaaaaaaaaaaaaaaaaaaaaaabbbbbbbbbbbbbbbbbbbbbbbbbbbbbbbbbbbbbbbbbbbbbbbbbbbbbbbbbbbbbbbbbbbbb', 0), ('aaaaaaaaabbbbbbbbbbbbbbbbbbbbbbbbbbbbbbbbbbbbbbbbbbbbbbbbbcccccccccccccccc', 0), ('aaaaabbbbbbbbbbbbbbbbbbbbbbcccccccccccccccccccccccccccccccccccccccccccccc', 0), ('aaaaaaaaaaaaaaaaaaaaabbbbbbbbbbbbbbbbbbbbbbbbbbbbbbbbbbbbbbbbbbbbbbbbbbbbbbbbbbbbbbbbbbbbbbbb', 0), ('aaaaaaaaaaaaaaabbbbbbbbbbbbbbbccccccccccccccc', 1), ('aaaaaaaaaaaaaaaaaaaaaaaaaaabbbbbbbbbbbbbbbbbbbbbbbbbbbccccccccccccccccccccccccccc', 1), ('aaaaaaaaaaaaaaaaaaaaaaaaaaaaaaaaaaaaaaaaaaaaaaaaaaaaaaaaaabbbbbbbbbbbbbbbbbbbbbbb', 0), ('aaaaaaaaaaaaaaaaaaaabbbbbbbbbbbbbbbbbbbbcccccccccccccccccccc', 1), ('aaaaaaaaabbbbbbbbbccccccccc', 1), ('aaaaaaaaaaaaaaaaaaaaaaaaaaaaaaaaaaaaaaaaaaaaaaaaaaaaaaaaaaaaaaaaaaaaaaaaaaaaaaaaaaaaaabbbbbbbbb', 0), ('aaaaaaaaaaaaabbcccccccccccccccccccccccccccccccccccccccccccccccccccccccccccccccccc', 0), ('aaaaaaaaaaaaaaaaaaaaaaaaaaaaaaaaaaaaaaaaaaaaaabbbbbbbb', 0), ('aaaaaaaaaabbbbbbbbbbbbbbbbbbbbcccccccccccccccccccccccccccccccccccccccc', 0), ('aaaaaaaaaaaaaaaaaabbbbbbbbbbbbbbbbbbcccccccccccccccccc', 1), ('aaaaaaaaaaaaaaaaaaaaaaaaaabbbbbbbbbbbbbbbbbbbbbbbbbbcccccccccccccccccccccccccc', 1), ('aaaaaaaaaabbbbbbbbbbcccccccccc', 1), ('aaaaaaaaaaaaaaaaaaaaaaabbbbbbbbbbbbbbbbbbbbbbbccccccccccccccccccccccc', 1), ('aaabbbbbbbbbbbbbbbbbbbbbbbbbbbbbbbbbbbbbbbbbbbbbbbbbbbbbbbbbbbbbbbbbbbbbbbbbbbbbbbbbbbbbbbbbbbbbbbbb', 0), ('aaaaaaaaaabbbbbbbbbbbbbbbbbbbbbbbbbbbbbbbbbbbbbbbbbbbbbbbbbbbbbbbbbbbbbbbbbbbbbbbbbbbbbbbbbbbbbbbbbb', 0), ('aaaaaaaaaaaaaaaaaaaaaaaaaaaaaabbbbbbbbbbbbbbbbbbbbbbbbbbbbbbcccccccccccccccccccccccccccccc', 1), ('aaaaaaaaaaaabbbbbbbbbbbbcccccccccccc', 1), ('aaaaaaaaaaaaaaaaaaaaaaabbbbbbbbbbbbbbbbbbbbbbbccccccccccccccccccccccc', 1), ('aaaaaaaaaaabbbbbbbbbbbbcccccccccccccccccccccccccccccccccccccccccccccccccccccccccccccccccccccccc', 0), ('aaaaaaaaaaaaaaaaaaaaaaaaaaaaabbbbbbbbbbbbbbbbbbbbbbbbbbbbbccccccccccccccccccccccccccccc', 1), ('aaaaaaaaaaaaaaaaaaaaabbbbbbbbbbbbbbbbbbbbbbbbbbbbbbbbbb', 0), ('aaaaaaaaaaaaaaaaaaaaaaaaaaaaaaaaaaaaaaaaaaaaaaaaaaaaaaaaaaaaaaaaaaaaaaaaaaaaaaaaaaaaaccccc', 0), ('aaaaaaaaaaaaaaaaaaaaaaaaaaaaaaaaaabbbbbbbbbbbbbbbbbbbbbbbbbbbbbbbbbbbbbbb', 0), ('aaaaaaaaaaaaaaaaabbbbbbbbbbbbbbbbbccccccccccccccccc', 1), ('aaaaaaaaaaaaaaaabbbbbbbccccccccccccccccccccccccccc', 0), ('aaaaaaaaaaaabbbbbbbbbbbbcccccccccccc', 1), ('aaaaaaaaaaabbbbbbbbbbbccccccccccc', 1), ('aaaaaaaaaaaaaaaaaaaaabbbbbbbbbbbbbbbbbbbbbbbbbbbbbbbbbbbbbbbbbbbbbbbbbbbbbcccccccccccccccc', 0), ('aaaaaaaaaaaaaaaaaaaaaaaaaaabbbbbbbbbbbbbbbbbbbbbbbbbbbccccccccccccccccccccccccccc', 1), ('aaaaaaaaaaaaaaaaaaaaaaaaaaaaaaaaaaaaaaaaaaaaaaaaaaaaaaaaaaaaaaaaaabbbbbbbbbbbbbbbcccccccc', 0), ('aaaaaaaaaaaaaaaaaaaaaaaaaaaaaaaaaaaaaaaaaaaaaaaaaaaaaaaaaaaaaaaaaaaaaaaaaaaaaaaaaaaaaaaaa', 0), ('aaaaaaaaaaaaaaaaaaaaaaaaaaaaaaaabbbbbbbbbbbbbbbbbbbbbbbbbbbbbbbbbbbbbbbbbbbbbbbbbbbbbbbbbbb', 0), ('aaaaaaaaaaaaaaaaaaaaaaaaaaaaaaaaaaaaaaaaaaaaaaaaaaaaaaaaaaaaabbbbbbbbbbbbbbbbbbbbbbbbbbbbbbbbbbbb', 0), ('aaaaaaaaaaabbbbbbbbbbbbbbbbbbbbbbbbbbbbbbbbbbbbbbbbbcccccccccccccccccc', 0), ('aaaaaaaaaaaaaaaaaaaaaaaaaaabbbbbbbbbbbbbbbbbbbbbbbbbbbccccccccccccccccccccccccccc', 1), ('aaaaaaaaaaaaaaaaaaaaaaaaaabbbbbbbbbbbbbbbbbbbbbbbbbbcccccccccccccccccccccccccc', 1), ('aaaaaaaaaaaaaaaaaaaaaaaaaaaaaaaaaaaaaaaaaaaaaaaaaaaaaaaaaaaaaaaaabbbbbbbb', 0), ('aaaaaaaaaaaaabbbbbbbbbbbbbccccccccccccc', 1), ('aaaaaaaaaaaaaaaaaaaaabbbbbbbbbbbbbbbbbbbbbccccccccccccccccccccc', 1), ('aaaaaaaaaaaaaaaaaaaaaaaaaaaaaaaaaaaaaaaaaaaaaaaaaaaaaaaaaaaaaaaaaaaaaaaaaaaaaaaaaaaabbbbbbbb', 0), ('aaaaaaaaaaaaaaaaaaaaaaaaaaaaaaaaaaaaaaaaaaaaaaaaaaaaaaaaaaaaaaaaaaaaaaaaaaaaaaaaabbbbbb', 0), ('aaaaaaaaaaaaaaaaaaaaaaaaaaaaaaaaabbbbbbbbbbbbbbbbbbbbbbbbbbbbbbbbbccccccccccccccccccccccccccccccccc', 1), ('aaaaaaaaaaaaaaaaaaaaaaaaabbbbbbbbbbbbbbbbbbbbbbbbbccccccccccccccccccccccccc', 1), ('aaaaaaaaaaaaaaaaaaaaaaaaaaaabbbbbbbbbbbbbbbbbbbbbbbbbbbbcccccccccccccccccccccccccccc', 1), ('aaaaaaaaaaaaaaaaaabbbbbbbbbbbbbbbbbbcccccccccccccccccc', 1), ('aaaaaaaaaaaaaaaaaaaaaaaaabbbbbbbbbbbbbbbbbbbbbbbbbccccccccccccccccccccccccc', 1), ('aaaaaaaaaaaaaaaaaaaaaaaaaaaaaaaaaaaaaaaaaaaaaaaaaaaaaaaaaaaaaaaaaaaaaaaaaaaaaaaaaaaaaaaabbbbbbbbb', 0), ('aaaaaaaaaaaaaaaaaaaaaaaaaaaaaaaaaaaaaaabbbbbbbccccccccccccccccccccccccccccccccccccccccccccccccccccc', 0), ('aaaaaaaaaaaaaaaaaaaaaaaaaaaaaaaaaaaaaaaaaaaaaaaaaaaaaaaaaaaaaaaaaaaaaaaaaaaaaaaaaaaaaa', 0), ('aaaaaaabbbbbbbccccccc', 1), ('aaaaaaaaaaaaaaaaaaaaaaaaaaaaaaaaaaaaaaaaaaaaaaaaaaaaaaaaaaaaaaaaaaaaaaaaaaaaaaaaaaaaaaabb', 0), ('aaaaaaaaaaaaaaaaaaaaaaaaabbbbbbbbbbbbbbbbbbbbbbbbbbbbbbbbbbbbbbbbbbbbbbbbbbbbbbbbbbbbbbbbbbbbb', 0), ('aaaaaaaaaaaaaaaaaaaaaaaaaabbbbbbbbbbbbbbbbbbbbbbbbbbcccccccccccccccccccccccccc', 1), ('aaaaaaaaaaaaaaaaaaaaaaaaaabbbbbbbbbbbbbbbbbbbbbbbbbbcccccccccccccccccccccccccc', 1), ('aaaaaaaaaaaaaaaaaaaaaaaaaaaaaaaaaaaaaaaaaaaaaaaaaaaaaabbbbbbbbbbbbb', 0), ('aaaaaaaaaaaaaaaaaaaaaaaaabbbbbbbbbbbbbbbbbbbbbbbbbccccccccccccccccccccccccc', 1), ('aaaaaaaaaaaaaaaaaaaaaaaaaaaaaaaaaaaaaaaaaaaaaaaaaaaaaaaaaaaaaaaaaaaaaaaaaaaaaaaaaaaaaaaaaabbbbbbbbbb', 0), ('aaaaaaaaaaaaaaaaaaaaaaaabbbbbbbbbbbbbbbbbbbbbbbbcccccccccccccccccccccccc', 1), ('aaaaaaaaaaaaaaaaaaaaaaaaaaaabbbbbbbbbbbbbbbbbbbbbbbbbbbbbbbbbbbbbbbbbbbbbbbbbbbbbbbbbbbbbbbbbbbbbbbb', 0), ('aaaaaaaaaaaaaaaaaaaaaaaaabbbbbbbbbbbbbbbbbbbbbbbbbccccccccccccccccccccccccc', 1), ('abbbbbbbbbbbbbbbbbbbbbbbbbbbbbbbbbbbbbbbbbbbbbbbbbbbbbbbbbbbbbbbbbbbbbcccccccccccccccccc', 0), ('aaaaaaaaaaaaaaaaaabbbbbbbbbbbbbbbbbbcccccccccccccccccc', 1), ('aaaaaaaaaaaaaaaaaaaaaaaaaaabbbbbbbbbbbbbbbbbbbbbbbbbbbccccccccccccccccccccccccccc', 1), ('aaaaaaaaaaaaaaaaaaaaaaaaaaaabbbbbbbbbbbbbbbbbbbbbbbbbbbbcccccccccccccccccccccccccccc', 1), ('aaaaaaaaaaaaaaaaaaaaaaaaaaaaaaaabbbbbbbbbbbbbbbbbbbbbbbbbbbbbbbbcccccccccccccccccccccccccccccccc', 1), ('aaaaabbbbbbbbbbbbbbbbbccccccccccccccccccccccccccccccccccccccccccccccccccccccccccccc', 0), ('aaaaaaaaaaaaaaaaaaaaaaaabbbbbbbbbbbbbbbbbbbbbbbbcccccccccccccccccccccccc', 1), ('aaaaaaaaaaaaaaaabbbbbbbbbbbbbbbbcccccccccccccccc', 1), ('aaaaaaaaaaaaaaaaaaaaaaaaabbbbbbbbbbbbbbbbbbbbbbbbbccccccccccccccccccccccccc', 1), ('aaaaaaaaaaaaaaaaaaaaaaaaaaaaaaaaaaaaaaabbbbbbbbbbbbbbbbbbbbbbbbbbbbbbbbbbbbbbbbbbbbbbbbbbbbb', 0), ('aaaaaaaaaaaaaaaaaaaaaaaaaaaaaaaaaaaaaaaaaaaaaaaaaaaaaaaaaabbbbbbbbbbbbbbbbbbbbbbbbbbbbbb', 0), ('aaaaaaaaaaaaaaaabbbbbbbbbbbbbbbbbbbbbbbbbbbbbbbbbbbbbbbbbbbbbbbbbbbbbbbbbbbbbbbbbbbbbbbbbbbbbbb', 0), ('aaaaaaaaaaaaaaaaaaaaaaaaaaaaaaaabbbbbbbbbbbbbbbbbbbbbbbbbbbbbbbbcccccccccccccccccccccccccccccccc', 1), ('aaaaaaaaaaaaaaaaaaaaaaaaaaaaaaaabbbbbbbbbbbbbbbbbbbbbbbbbbbbbbbbbbbbbbbbbbbbbbbbbbbbbbbbbb', 0), ('aaaaaaaaaaaaaaaaaaaaaaaaaaaaaaabbbbbbbbbbbbbbbbbbbbbbbbbbbbbbbbbbbbbbbbbbbbbbbbbbbbb', 0), ('aaaaaaaaaaaaaaaaaaaaaaaaaaaaabbbbbbbbbbbbbbbbbbbbbbbbbbbbbccccccccccccccccccccccccccccc', 1), ('aaaaaaaaaaaaaaaabbbbbbbbbbbbbbbbcccccccccccccccc', 1), ('aaaaaaaaaaaaaaaaaaabbbbbbbbbbbbbbbbbbbccccccccccccccccccc', 1), ('aaaaaaaaaaaaaabbbbbbbbbbbbbbcccccccccccccc', 1), ('aaaaaaaaaaaaaaaaaaaaaaaaaaaaabbbbbbbbbbbbbbbbbbbbbbbbbbbbbccccccccccccccccccccccccccccc', 1), ('aaaaaaaabbbbbbbbcccccccc', 1), ('aaaaaaaaaaaaaaaaaaaaaaaaaabbbbbbbbbbbbbbbbbbbbbbbbbbcccccccccccccccccccccccccc', 1), ('aaaaaaaaaaabbbbbbbbbbbbbbbbbbbbbbbbbbbbbbbbbbbbbbbbbbbbbbbbbbbbbbbbbbbbbbbbbbbb', 0), ('aaaaaaaaaaaaaaaaaaaaaaaaaaabbbbbbbbbbbbbbbbbbbbbbbbbbbbbbbbbbbbbbbbbbbbbbbbb', 0), ('aaaaaaaaaaaaaaaaaaaabbbbbbbbbbbbbbbbbbbbbbbbbbbbbbbbbbbbbbbbbbccccccccccccccccccccccccccccccc', 0), ('aaaaaaaaaaaaaaaabbbbbbbbbbbbbbbbcccccccccccccccc', 1), ('aaaaaaaaaaaaaaaaaaaaaaaaaaaaaaaaaaaaaaaaaaaaaaaaaaaaaaaaaaaaaaaaaaaaabbbbbbbbbbbbbbbbbbbbbbbbbbbbbb', 0), ('aaaaaaaaaaabbbbbbbbbbbccccccccccc', 1), ('aaaaaaaaaaaaaaaaaabbbbbbbbbbbbbbbbbbcccccccccccccccccc', 1), ('aaaaaaaaaaaabbbbbbbbbbbbcccccccccccc', 1), ('aaaaaaaaaaaaaaaaaaaaaaaaaaaaaaaaaaaaaaaaaaaaaaaaaaaaaaaaaaaaaaaaaaaaaaaaaaaaaaaaaaabbbbbbbbb', 0), ('aaaaaaaaaaaaaaaaaaaaaabbbbbbbbbbbbbbbbbbbbbbcccccccccccccccccccccc', 1), ('aaaaaaabbbbbbbccccccc', 1), ('aaaaaaaaaaaaaaaaaaaaaaaaaaaaaaaaaaaaaaaaaaaaaaaaaaaaabbbbbbbbbbbbbbbbbbbbbbbbb', 0), ('aaaaaaaaaaaaaaaaaaaaaaaaaaaaaaaaaaaaaaaaaaaaaaaaaaaaaaaaaaaaaaaaaaaaaaaaaaaabbccccccccc', 0), ('aaaaaaaaaaaaaaabbbbbbbbbbbbbbbccccccccccccccc', 1), ('aaaaaaaaaaaaaaaaaaaaaaaaaaaaaaaaaaaaaaaaaaaaaaaaaaaaaaaaaaaaaaaaaaaaaaaaaaaaaaaabbbbbbbbbbbbbbbbbbc', 0), ('aaaaaaaaaaaaaaaaaaaabbbbbbbbbbbbbbbbbbbbcccccccccccccccccccc', 1), ('aaaaaaaaaaaaaaaaaaaaaaaaaaaaaaaaaaaaaabbbbbbbbbbbbbbbbbbbbbbbbbbbbbbbbbbbbbbbb', 0), ('aaaaaaaaaaaabbbbbbbbbbbbcccccccccccc', 1), ('aaaaaaaaabbbbbbbbbccccccccc', 1), ('aaaaaaabbbbbbbbbbbbbbbbbbbbbbbbbbbbcccccc', 0), ('aaaaaaaaaaaaaaaabbbbbbbbbbbbbbbbcccccccccccccccc', 1), ('aaaaaaaaabbbbbbbbbbbbbbbbbbbbbcccccccccccccccccccccccccccccccccccccccccccccccccccccc', 0), ('aaaaaaaaaaaaaaaaaaaaaaaaaaabbbbbbbbbbbbbbbbbbbbbbbbbbbccccccccccccccccccccccccccc', 1), ('aaaaaaaaaaaaaaabbbbbbbbbbbbbbbbbbbbbbbbbbbbbbbbbbbbbbbbbbbbbbbbbbbbbbbbbcccccccccccccccccccccccccc', 0), ('aaaaaaaaaaaaaaaaaaabbbbbbbbbbbbbbbbbbbccccccccccccccccccc', 1), ('aaaaaaaaaaaaaaaaaaaaaaaaaabbbbbbbbbbbbbbbbbbbbbbbbbbcccccccccccccccccccccccccc', 1), ('aaaaaaaaaaaaaaaaaaaaaaaabbbbbbbbbbbbbbbbbbbbbbbbcccccccccccccccccccccccc', 1), ('aaaaaaaaaaaaaaaaaaaaaaaaaaaaaaaaaaaaaaaaaaaaaaaaaaaaaaaaaaaaaaaaaaaaaaaaaaaaaaaaaaaaaaaaaabbbbbb', 0), ('aaaaaaaaaaaaaaaaaaaaaaaaaaaaaaaaaaaaaaaaaaaaaaaaaaaaaaaabbbbbbbbbbbbbbbbbbbbbbbbbbbbbbbbbbbbbb', 0), ('aaaaaaaaaaaaaaaaaabbbbbbbbbbbbbbbbbbbbbbbbbcc', 0), ('aaaaaaaaaaaaaabbbbbbbbbbbbbbcccccccccccccc', 1), ('aaaaaaaaaaaaaaaaaaaaaaaaaaaaaaaaaaaaaaaaaaaaaaaaaaaaaaaaaaaaaaabbbbbbbbbbbbbccccccc', 0), ('aaaaaaaaaaaaaaaaaaaaaaaaabbbbbbbbbbbbbbbbbbbbbbbbbccccccccccccccccccccccccc', 1), ('aaaaaaaaaaaaaaaaaaaaaaaaaaaaaaaaaaaaaaaaaaaaaaaaaaaaaaaaaaaaaaaaaaaaaaaaaaaaaaaaaaaaaaaaaaa', 0), ('aaaaaaaaaaaaaaaaaaaaaaaaaabbbbbbbbbbbbbbbbbbbbbbbbbbbbbbbbbbbbbbbbbbbbccccccccccccccccccccccc', 0), ('aaaaaaaaaaaaaaaaaabbbbbbbbbbbbbbbbbbcccccccccccccccccc', 1), ('aaaaaaaaaaaaaaaaaaaaaaaaaabbbbbbbbbbbbbbbbbbbbbbbbbbcccccccccccccccccccccccccc', 1), ('aaaaaaaaaabbbbbbbbbbcccccccccc', 1), ('aaaaaaaaaaaaaaaaaaaaaaaabbbbbbbbbbbbbbbbbbbbbbbbcccccccccccccccccccccccc', 1), ('aaaaaaaaaaaaaaaaaaaaaaaaaaaaaaaabbbbbbbbbbbbbbbbbbbbbbbbbbbbbbbbcccccccccccccccccccccccccccccccc', 1), ('aaaaaaaaaaaaaaaaaabbbbbbbbbbbbbbbbbbcccccccccccccccccc', 1), ('aaaabbbbbbbbbbbbbbbbbbbbbbbbbbbbbbbbbbbbbbbbbbbbbbbbbbbbbbbbbbbbbbbbbbbb', 0), ('bbbbbbbbbbbbbbbbbbbbbbbbbbbbbbbbbbbbbbbbbbbbbbbbbbbbbbbbbbbbbbbbbbbbbbbbbbbbbbbbb', 0), ('aaaaaaaaaaaabbbbbbbbbbbbcccccccccccc', 1), ('aaaaaaaaaaaaaaaaaaaaaaaaaaaaaaaaaaaaaaaaaaaaaaaaaaaaaaaaaaaaaaaaaaaaaaaaaaaaaaaaaaaaaaaaaaaaaaabb', 0), ('aaaaaaaaaaaaaaaaaaaaaaabbbbbbbbbbbbbbbbbbbbbbbccccccccccccccccccccccc', 1), ('aaaaaaaaaaaaaaaaaaaaaaaaaaaaaaaaaaaaaaaaaaaaaaaaaaaaaaaaaaaaaaaaaaaaaaabbbbbbbbbbbbbbbbbbbbbbbbbbb', 0), ('aaaaaaaaaaaaaaaaaaaaaaaaaaaaaaaaabbbbbbbbbbbbbbbbbbbbbbbbbbbbbbbbbccccccccccccccccccccccccccccccccc', 1), ('aaaaaaaaaaaaaaaaaaaaaaaaaaaaaaaaaaaaaaaaaaaaaaaaaaaaaaaaaaaaaaaaaaaaaaaaaaaaaaaaaaaaaaaaaaaaaaaaaa', 0), ('aaaaaaaaaaaaaaaaaaaaaaaaaaaaaaaaaaaaaaaaaaaaaaaaaaaaaaaaaaaaaaaaaaaabbbbbbbbbbbbbbbbbbbbbbbbbbbbbb', 0), ('aaaaaaaaaaaaaaaaaaaabbbbbbbbbbbbbbbbbbbbcccccccccccccccccccc', 1), ('aaaaaaaaaaaaaaaaaaaaaaaaaaaaaaaaaaaaaaaaaaaaaaaaaaaaaaaaaaaaaaaaaaabbbbbbbbbbbbbbbbbbbbbbbbbbbbbb', 0), ('aaaaaaaaaaaaaaaaabbbbbbbbbbbbbbbbbbbbbbbbbbbbbbbbbbbbbbbbbbbbbbbbbbbbbbbbbbbbbbbbbbbbbbbbbbbb', 0), ('aaaaaaaaaaaaaaaaaaaaaaaaabbbbbbbbbbbbbbbbbcccccccccccccccccccccccccccccc', 0), ('aaaaaaaaaaaaaaaaaaaaaaaaaaaaaaaaaaaaaaaaaaaaaaaaaaaaaaaaaaaaaaaaaaaaaaaaaaaaaaaaaaaaaaaaaaaaaa', 0), ('aaaaaaaaaaaaaaaaaaaaaaaaaaaaaaaaaaaaaaaaaaaaaaaaaaaaaaabbbbbbbbbbbbbbbbbb', 0), ('aaaaaaaaaaaaaaaaaaaaaaaaaaaaaaaaaaaaaaaaaaaaaaaaaaaaaaaaaaaaaaaaaaaaaaaaaaaaaaaaaaaaaaabbbb', 0), ('aaaaaaaaaaaaaaaaaaaaaaaaaaaaaaaaaaaaaaaaaaaaaaaaaabbbbbbbbbbbbbbbbbbbbbbbbbbbbbbbbbbbbb', 0), ('aaaaaaaaaaaaaaaaaaaaaaaaaaaabbbbbbbbbbbbbbbbbbbbbbbbbbbbbbbbb', 0), ('aaaaaaaaaaaaaaaaaaaaaaaaaabbbbbbbbbbbbbbbbbbbbbbbbbbcccccccccccccccccccccccccc', 1), ('aaaaaaaaabbbbbbbbbccccccccc', 1), ('aaaaaaaaaaaaaaaaaaaaaaaaaaaaaaaaaaaaaaaaaaaaaaaaaaaaaaaaaaaaaaaaaaaaaaaaaaaaaaaaaaaaaaaaaaaaabbbbbb', 0), ('aaaaaaaaaaaaaaaaaaaaaaaaaaaaaaaaaaaaaaaaaaaaaaaaaaaaaaaaaaaaaaaaaaaaaaaaaaaaaaaaaaaaaaaaaaaaaaaaaabb', 0), ('aaaaaaaaaaaaaaaaaaaaaaaaaaaaabbbbbbbbbbbbbbbbbbbbbbbbbbbbbccccccccccccccccccccccccccccc', 1), ('aabbbbbbbbbbbbbbbbbbbbbbbbbbbbbbbcccccccccccccccccccccccccccccc', 0), ('aaaaaaaaaaaaaaaaaaaaaaaaaaaaaaabbbbbbbbbbbbbbbbbbbbbbbbbbbbbbbccccccccccccccccccccccccccccccc', 1), ('aaaaaaaaaaaaaaaaaaaaaaaaaaaaaaaaabbbbbbbbbbbbbbbbbbbbbbbbbbbbbbbbbccccccccccccccccccccccccccccccccc', 1), ('aaaaaaaabbbbbbbbcccccccc', 1), ('aaaaaaaaaaabbbbbbbbbbbccccccccccc', 1), ('aaaaaabbbbbbbbbbbbbbbbbbbbbbbbbbbbbbbbbbbbbbbbbbbcccccc', 0), ('aaaaaaaaaaaaaaaaaaaaaaaaaaaaaaaaaaaaaaaaaaaaaaaaaaaaaaaaaaaaaaaaaaaaaaaaaaaaaaaaabbbbbbbbbbbb', 0), ('aaaaaaaaaaaaaabbbbbbbbbbbbbbcccccccccccccc', 1), ('aaaaaaaaaaaaaaaaaaaaaaaaaaaaaaaabbbbbbbbbbbbbbbbbbbbbbbbbbbbbbbbcccccccccccccccccccccccccccccccc', 1), ('aaaaaaaaaaaaaaaabbbbbbbbbbbbbbbbcccccccccccccccc', 1), ('aaaaaaaabbbbbbbbcccccccc', 1), ('aaaaaaaaaaaaaaaaaaaaaaaaaaaaaaaaaaaaaaaaaaaaaaaaaaaaaaaaaaaaaaaaaaaaaaaaaaaaaaabbbbbbbbbbbbbbbbb', 0), ('aaaaaaaaaaaaaaaaaaaaaaaaaaaaaaaaaaaaaaabbbbbbbbbbbbbbbbbbbbbbbbbbbbbbbbbbbbbb', 0), ('aaaaaaaaaaaaaaaaaaaaaaaaaaaaaaaaaaaaaaaaaaaaaaaaaaaaabbbbbbbbbbbbbbbbbbbb', 0), ('aaaaaaaaaaaaaaaaaaaaaaaaaaaaaaaabbbbbbbbbbbbbbbbbbbbbbbbbbbbbbbbbbbbbbbbbbbbbbbbccc', 0), ('aaaaaaaaaaaaaaabbbbbbbbbbbbbbbccccccccccccccc', 1), ('aaaaaaaaaaaabbbbbbbbbbbbcccccccccccc', 1), ('aaaaaaaaaaaaaaaaaaaaaaaaaaaaabbbbbbbbbbbbbbbbbbbbbbbbbbbbbccccccccccccccccccccccccccccc', 1), ('aaaaaaaaaaaaaaaaaaaaaaaaaaaaaaaaaaaaabbbbbbbbbbbbbbbbbbbbbbbbbbbbbbbbbbbbbbbbbbbbbbbbbbbbbbbbbbb', 0), ('aaaaaaaaaaaaaaaaaaaaaaaaaabbbbbbbbbbbbbbbbbbbbbbbbbbcccccccccccccccccccccccccc', 1), ('aaaaaaaaabbbbbbbbbccccccccc', 1), ('aaaaaaaaaaaaaaaaaaaaaabbbbcccccccccccccccccccccccccccccc', 0), ('aaaaaaaaaaaaaaaaaaaaaaaaaaaaaaaaaaaaaaaaaaaaaaaaaaaaaaaaaaaaaaaaaaaaaaaaaaaaaaaaaaaaaaaaaaaaaaab', 0), ('aaaaaaabbbbbbbccccccc', 1), ('aaaaaaaaaaaaaaaaaaaaaaaaaaaaaaaaaaaaaaaaaaaaaaaaaaaaaaaaaaaaaaaaaaaaaaaaaaaaaaaaaaaaaaaaaaaaaaaaaabb', 0), ('aaaaaaaaaaaaaaaaaaaaaaaaabbbbbbbbbbbbbbbbbbbbbbbbbccccccccccccccccccccccccc', 1), ('aaaaaaaaaaaaaaaaaaaaaaaaaaaaaaaaaaaaaaaaaaaaaaaaaabbbbbbbbbccccccccccccccccccccccccccccccccccc', 0), ('aaaaaaaaaaaaaaaaaaaaaaaaaaaaaaaaaaaaaaaabbbbbbbbbbbbbbbbbbbbbbbbbbbbbbbbb', 0), ('aaaaaaaaaaaaaaaaaaaaaaaaaaaaaaaaaaaaaaaabbbbbbbbbbbbbbbbbb', 0), ('aaaaaaaaaaaaaaaaaaaaaaaaaaaaaaaaaaaaaabbbbbbbbbbbbbbbbbbbbbbbbbbbbbbbbbbbbbbbbbbbbbbbbbb', 0), ('aaaaaaabbbbbbbccccccc', 1), ('aaaaaaaaaaaaaaaabbbbbbbbbbbbbbbbcccccccccccccccc', 1), ('aaaaaaaaaaaaaaaaaaaaabbbbbbbbbbbbbbbbbbbbbccccccccccccccccccccc', 1), ('aaaaaaaaaaaaaaaaaaaaabbbbbbbbbbbbbbbbbbbbbccccccccccccccccccccc', 1), ('aaaaaaaaaaaaaaaaaaaaaaabbbbbbbbbbbbbbbbbbbbbbbccccccccccccccccccccccc', 1), ('aaaaaaaaaaaaaaaabccccccccccc', 0), ('aaaaaaaaaaaaaaaaaaaaaaaaaaaaabbbbbbbbbbbbbbbbbbbbbbbbbbbbbccccccccccccccccccccccccccccc', 1), ('aaaaaaaaaaaaaaaaaaaaaaaaaaaaaaaaaaaaaaaaaaaaaaaaaaaaaaaaaaaaaaaaaaaaaaaaaaaabbbcccccccc', 0), ('aaaaaaaaaaaaaaaaaabbbbbbbbbbbbbbbbbbcccccccccccccccccc', 1), ('aaaaaaaaaaaaaaaaaaaaaaaaaaaaaaaaaaaaaaaaaaaaaaaaaaaaaaaaaaaaaaaaaaaaaaaaaaaaaaaaaabbbbbbbbbb', 0), ('aaaaaaaaaaaaaaaaaaaaaaaaaaaaaaaaaaaaabbbbbbbbbbbbbbbbbbbbbbbbbbbbbbbbbbbbbbbbbbbbbb', 0), ('aaaaaaaaaaaaaaaaaaaaaaaaaaaaaaaaaaaaaaaaaaaaaaaaaaaaaaaaaaaaaaaaaaaaaaaaaaaaaaaaaaaabbbbbbbbbbbbbbbb', 0), ('aaaaaaaaaaaaaaaaaaaaaaaaaaaabbbbbbbbbbbbbbbbbbbbbbbbbbbbcccccccccccccccccccccccccccc', 1), ('aaaaaaaaaaaaaaaaaaaaaaaaaaaabbbbbbbbbbbbbbbbbbbbbbbbbbbbcccccccccccccccccccccccccccc', 1), ('aaaaaaaaaaaaaaaaaaaaaaaaaaaaaaaaaaaaaabbbbbbbbbbbbbbbbbbbbbbbbbbbbbbbbb', 0), ('aaaaaaaaaaaaaaaaaaaaaaaaaaaaaaaaaaaabbbbbbbbbbbbbbbbbbbbbbbbbbbbbbbbbbbbbbbbccccccccccccccccc', 0), ('aaaaaaaaaaaaabbbbbbbbbbbbbccccccccccccc', 1), ('aaaaaaaaaaaaaaaaaaaaaaaaaaaabbbbbbbbbbbbbbbbbbbbbbbbbbbbcccccccccccccccccccccccccccc', 1), ('aaaaaaaaaaaaaaaaaaaaaaaaaaaaaaaaaaaaaaaaaaaabbbbbbbbbbbbbbbbbbbbbb', 0), ('aaaaaaaaaaaaaaaaaaaaaaaaaaaaaabbbbbbbbbbbbbbbbbbbbbbbbbbbbbbcccccccccccccccccccccccccccccc', 1), ('aaaaaaaaaaaaaaaaaaaaaaaaaaaaaaaaaaaaaaabbbbcccccccccccccccccccccccccccccccccccccccccccccccccccc', 0), ('aaaaaaaaaaaaaaaaaaaaaaaaaaaaabbbbbbbbbbbbbbbbbbbbbbbbbbbbbbbbbbbbbbbbbbbbbbbbbbbbbbbbbbbbbbbbb', 0), ('aaaaaaaaaaaaaaaaaaaaaaaaaaaaaaaaaaaaaaaaaaaaabbbbbbbbbbbbbbbbbbbbbbbbbbbbbbbbbbbbbbbbbbbbbbcc', 0), ('aaaaaaaaaaaaaaaaaaaaaaaaaaaaabbbbbbbbbbbbbbbbbbbbbbbbbbbbbccccccccccccccccccccccccccccc', 1), ('aaaaaaaaaaaaaaaaaaaaaaaaaaaaaaaaaaaaaaaaaaaaaaaaaaaaaaaaaaaaaaaaaaaaaaaaaaaaaaaaaaaaabbbbbbbbbbbbb', 0), ('aaaaaaaaaaaaaaaaaaaaaaaaaaaaaaaaaaaaaaaaaaaaaaaabbbbbbbbbbbbbbbbbbbbb', 0), ('aaaaaaaaaaaaaaaaaaaaaaaabbbbbbbbbbbbbbbbbbbbbbbbcccccccccccccccccccccccc', 1), ('aaaaaaaaaaaaaaaaabbbbbbbbbbbbbbbbbccccccccccccccccc', 1), ('aaaaaaaaaaaaaaaaaaabbbbbbbbbbbbbbbbbbbccccccccccccccccccc', 1), ('aaaaaaaaaaaaaaaabbbbbbbbbbbbbbbbcccccccccccccccc', 1), ('aaaaaaaaaaaaaaaaaaaaaaaaaaaaaaaaaaaaaabbbbbbbbbbbbbbbbbbbbbbbbbbbbbbbbbbb', 0), ('aaaaaaaaaabbbbbbbbbbbbbbbbbbbbbbbbbbbbbbbbbbbbbb', 0), ('aaaaaaaaaaabbbbbbbbbbbbbbbbbbbbbbbbbbbbbbbbbbbbbbbbbbbbbbbbbbbbbbbbbbbb', 0), ('aaaaaaaaaaaaaaaaaaaaaaaaaaaaaaaaaaaaaaaaaaaaaaaabbbbbbbbbbbbbbbbbbbbbbbbbbbbbbbbbbbbbbbbbbbbbbbbbbb', 0), ('aaaaaaaaaaabbbbbbbbbbbccccccccccc', 1), ('aaaaaaaaaaaaaaaaaaaaaaaaaaaaaabbbbbbbbbbbbbbbbbbbbbbbbbbbbbbcccccccccccccccccccccccccccccc', 1), ('aaaaaaaaaaaaaaaaaaaaaaaaaaaaaaaaaaabbbbbcccccccccccccccccccccccccccccccccccccc', 0), ('aaaaaaaaaaaaaaaaaaaaaaabbbbbbbbbbbbbbbbbbbbbbbccccccccccccccccccccccc', 1), ('aaaaaaaaaaaaaaaaaaaaaaabbbbbbbbbbbbbbbbbbbbbbbccccccccccccccccccccccc', 1), ('aaaaaaaaaaabbbbbbbbbbbccccccccccc', 1), ('aaaaaaaaaaaaaaaaaaaaaaaaaaaaaaaaaaaaaaaaaaaaaaaaaaaaaaaaaaaaaaaaaaaaaaaaaaaaaaaaaaaaaaaaaab', 0), ('aaaaaaabbbbbbbccccccc', 1), ('aaaaaaaaaaaaaaaaaaaaaaaaabbbbbbbbbbbbbbbbbbbbbbbbbccccccccccccccccccccccccc', 1), ('aaaaaaaaaaaaaaaaaaaaaaaaaaaaabbbbbbbbbbbbbbbbbbbbbbbbbbbbbccccccccccccccccccccccccccccc', 1), ('aaaaaaaaaaaaabbbbbbbbbbbbbccccccccccccc', 1), ('aaaaaaaaaaaaaaaaaaaaaaabbbbbbbbbbbbbbbbbbbbbbbccccccccccccccccccccccc', 1), ('aaaaaaaaaaaaaaaaaaaaaaaaaaaaaaaaaaaaaaaaaaaaaaaaaaaaabbbbbbbbbbbb', 0), ('aaaaaaabbbbbbbccccccc', 1), ('aaaaaaaaaaaaaaaaaaaaaaaaaaaaaaaaaaaaaaaaaaaaaaaaaccccccccccccccccccccccccccccccccccccccccc', 0), ('aaaaaaaaaaaaaaaaaabbbbbbbbbbbbbbbbbbcccccccccccccccccc', 1), ('aaaaaaaaaaaaaaaaaaaaaaaaaaaaaaaaaaaaaaaabbbbbbbbbbbbbbbbbbbbbbbbbbbbbbbbbbbbbbbbbbbbbbbbbbbbb', 0), ('aaaaaaaabbbbbbbbcccccccc', 1), ('aaaaaaaaaaaaaaaaaaaaaaaaaaaaaaaaaaaaaaaaaaaaaaaaaaaaaaaaaaaaaaaaaaaaaaaaaaaaaaaaaaaaaaaaaaaabbbb', 0), ('aaaaaaaaaaaaaaaaaaaaaaaaaaaabbbbbbbbbbbbbbbbbbbbbbbbbbbbcccccccccccccccccccccccccccc', 1), ('aaaaaaaaaaaabbbbbbbbbbbbcccccccccccc', 1), ('aaaaaaaaaaaaaaaaabbbbbbbbbbbbbbbbbbbbbbbbbbbbbbbbbbbbbbbbbbbbbbbbbbbbbbbbbbbbbbbbbbbbbbbbbbcccc', 0), ('aaaaaaaaabbbbbbbbbccccccccc', 1), ('aaaaaaaaaabbbbbbbbbbbbbbbbbbbbbbbbbbbbbbbbbbbbbbbbbbbbbbbbbbbbbbbbbbbbbbbbbbbbbbbb', 0), ('aaaaaaaaaaaaaaaaaaaaaaaaaaaaaaaaaaaaaaaaaaaaaaaaaaaaaaaaaaaaaaaaaaaaaaaaaaabbbbbbbbbbbbbbbbbbbbbbbbb', 0), ('aaaaaaaaaaaaaaaaaaaaaaaaaaaaaaaaabbbbbbbbbbbbbbbbbbbbbbbbbbbbbbbbbccccccccccccccccccccccccccccccccc', 1), ('aaaaaaaaaaaaaaaaaaaaaaaaaaaaabbbbbbbbbbbbbbbbbbbbbbbbbbbbbccccccccccccccccccccccccccccc', 1), ('aaaaaaaaaaaaaaaaaaaaaaaabbbbbbbbbbbbbbbbbbbbbbbbcccccccccccccccccccccccc', 1), ('aaaaaaaaaaaabbbbbbbbbbbbcccccccccccc', 1), ('aaaaaaaaaaaaaaaaaaaaabbbbbbbbbbbbbbbbbbbbbccccccccccccccccccccc', 1), ('aaaaaaaaaaaaaaaaaaaaaaaaabbbbbbbbbbbbbbbbbbbbbbbbbccccccccccccccccccccccccc', 1), ('aaaaaaaaaaaaaaaaaaaaabbbbbbbbbbbbbbbbbbbbbccccccccccccccccccccc', 1), ('aaaaaaaaaaaaaaaaaaaaaaaaaaaaaaaaaaaaaaaaaaaaaaaaaaaaaaaaaaaaaaaaaaaaaaaaaaaaaaaaabbbbbbbbbbbbbbb', 0), ('aaaaaaaaaaaaaaaaaaaaaaaaaaaaaaaaaaaaaaaaaaaaaaaaaaaaaaaaaaaaabbbbbbbbbbbbbbbbbbbbbbbbbbbbbb', 0), ('aaaaaaaaaaaaaaaaaaaaaaaaaaaaaaaaaaaaaaaaaaaaaabbbbbbbbbbbbbbbbbbbbbbbbbb', 0), ('aaaaaaaaaaaaaaaaaaaaaaaaaaaaaaaaaaaaaaaaaaaaaaaaaaaaaaaaaaaaaabbbbbbbbbbbbbc', 0), ('aaaaaaaaaaaaaaaaaaaaabbbbbbbbbbbbbbbbbbbbbccccccccccccccccccccc', 1), ('aaaaaaaaaaaaaaaaaaaaaaaaaaaaaaaaaaaaaaaaaaaabbbbbbbbbbbbbbbbbbbbbbbbbccccccccccccccccc', 0), ('aaaaaaaaaaaaaaaaaaaaaaaaaaaaaaaaaaaaaaaaaaaaaaaaaaaaaaaaaaaaaaaaaaaaaaaaaabbb', 0), ('aaaaaaaaaabbbbbbbbbcccccccccc', 0), ('aaaaaaaaaaabbbbbbbbbbbccccccccccc', 1), ('aaaaaaaaaaaaaaaaaaaaaaaaaaaaaaaaaaaaaaaaaaaaaaaaaaaaaaaaaaaaaaaaaaaaaabbbbbbbbbbbbbbbbbbbbbbbb', 0), ('aaaaaaaaaaaaaaaaaaaaaaaaaaaaaaaaaaaaaaaaaaaaaaaaaaaaaabbbbbbb', 0), ('aaaaaaaaaaaaaaaabbbbbbbbbbbbbbbbcccccccccccccccc', 1), ('aaaaaaaaaaaaaaaaaaaaaaaaaaaaaaaaaaaaaaaaaaaaaaaaaaaaaaaaaaaaaaaaaabbbbbbbbbbbbbbb', 0), ('aaaaaaaaaaaaaaaabbbbbbbbbbbbbbbbcccccccccccccccc', 1), ('aaaaaaaaaaaaaaaaaaaaaaaaaaaaaabbbbbbbbbbbbbbbbbbbbbbbbbbbbbbcccccccccccccccccccccccccccccc', 1), ('aaaaaaaaaaaaaaaaaaaaaaaaaaaaaaaaaaaaaaaaaaaaaaaaaaaaaaaaaaaaaaaaaaaaaaaaaaaaaaaaaaab', 0), ('aaaaaaaaaaaaaaaaaaaaaaaaaaaaaaaaabbbbbbbbbbbbbbbbbbbbbbbbbbbbbbbbbccccccccccccccccccccccccccccccccc', 1), ('aaaaaaaaaaaaaaaaaaabbbbbbbbbbbbbbbbbbbccccccccccccccccccc', 1), ('aaaaaaaaaaaaaaaaaaaaaaaaaaaaaaaaaaaaaaaaaaaaaaaaaaaaaaaaaaaabbbbbbbb', 0), ('aaaaaaaaaaaaaaaaaaaabbbbbbbbbbbbbbbbbbbbcccccccccccccccccccc', 1), ('aaaaaaaaaaaaaaaaaaaaaaaaaaaaaaaaaaaaaaaaaaaaaaaaaaaaaaaaaaaaaaaaaaaaaaaaaaaaaaaaaaaaaaaabbbbbbbbbb', 0), ('aaaaaaaaaaaaaaaaaaaaaaaaaaaaaaaaaaaaaaaaaaaaaaaaaaaaaaaaaaaaaaaaaaaaaaaaaaaaaaaaaaaaaaaaaa', 0), ('aaaaaaaaaaaaaaaaaaaaaaaaaaaaaaaaaaaaaaaaaaaaaaaaaabbbccc', 0), ('aaaaaaaaaaaaaaaabbbbbbbbbbbbbbbbcccccccccccccccc', 1), ('aaaaaaaaaaaaaaaaaaaaaaaaaaaaaaaaaaaaaaaaaaaaaaaaaaaaaaaaaaaaaaaaaaaaaaaaaaaaaaaaaaaaaaabbbbccc', 0), ('aaaaabbbbbbbbbbbbbbbbbbbbbbbbbbbbbbbbbbbbbbbbbbbbbbbbbbbbbbbbbbbbbbbbbbbbbbbbbbbbbbbbbbbbbbbbbbbbbb', 0), ('aaaaaaaaaaaaaaaaaaaaaabbbbbbbbbbbbbbbbbbbbbbcccccccccccccccccccccc', 1), ('aaaaaaaaaaaaaaaaaaaaaaaaaaaaaaaaaaaaaaaaaaccccccccccccccccccccccccccccccccccccccccccccccccc', 0), ('aaaaaaaaaaaaaaaaaaaaaaaaaaaaaaaaaaaaaaaaaaaaaaaaaabbbbbbbbbbbbbbccccccccccccccccccc', 0), ('aaaaaaaaaaaaaaaaaaaaaaaaaaaaabbbbbbbbbbbbbbbbbbbbbbbbbbbbbccccccccccccccccccccccccccccc', 1), ('aaaaaaaaaaaaaaaaaaaaaaaaaaaabbbbbbbbbbbbbbbbbbbbbbbbbbbbcccccccccccccccccccccccccccc', 1), ('aaaaaaaaaaaaaaaaaaaaaaaaaaaaaaaaaaaaaaaaaaaaaaaaaaaaaaaaaaaaaaaaaaabbbbbb', 0), ('aaaaaaaaabbbbbbbbbbbbbbbbbbbbbbbbbbbbbbbbbbbbbbbbbbbbbbbbbbbbbbbbbb', 0), ('aaaaaaaaaaaaaaaaaaaaaaaaaaaaaaaaaaaaaaaaaaaaaaaaaaaaaaaaaaaaaaaaaaaaaaaaaaaaaaaaaaaaaaaaaaaaaaaaaaab', 0), ('aaaaaaaaaaaaaabbbbbbbbbbbbbbcccccccccccccc', 1), ('aaaaaaaaaaaaaaaaaaaaaaaaaaaaaaaabbbbbbbbbbbbbbbbbbbbbbbbbbbbbbbbcccccccccccccccccccccccccccccccc', 1), ('aaaaaaaaaaaaaaaaaaaaaaaaaaabbbbbbbbbbbbbbbbbbbbbbbbbbbccccccccccccccccccccccccccc', 1), ('aaaaaaaaabbbbbbbbbccccccccc', 1), ('aaaaaaaaaaaaaaaaaaaaaaabbbbbbbbbbbbbbbbbbbbbbbccccccccccccccccccccccc', 1), ('aaaaaaaaaaaaabbbbbbbbbbbbbbbbbbbbbbbbbbbbbbbbbbbbbbbbbbbbbbbbbbbbbbbbbbbbbbb', 0), ('aaaaaaaaaaaaaaaaaaaabbbbbbbbbbbbbbbbbbbbcccccccccccccccccccc', 1), ('aaaaaaaaaaaaaaaaaaaaaaaaaaaaaaaaaaaaaaaaaaaaaaaaaaaaaaaaaaaaaaaaaaaaaaaaaaaaaaaaabbb', 0), ('aaaaaaaaaaaaaaaaaaaaaaaaaabbbbbbbbbbbbbbbbbbbbbbbbbbcccccccccccccccccccccccccc', 1), ('aaaaaaaaaaaaabbbbbbbbbbbbbccccccccccccc', 1), ('aaaaaaaaaaaaaaaaaaaaaaaaaaaaaaaaabbbbbbbbbbbbbbbbbbbbbbbbbbbbbbbbbccccccccccccccccccccccccccccccccc', 1), ('aaaaaaaaaaaaaaaaaaaaaaaaaaaaaaaaaaaaaaaaabbbbbbbbbbbbbbbbbbbbbbbbbbbbbbbbbbbbb', 0), ('aaaaaaaaaaaaaaaaaaaaaaaaaaaaaaaaaaaaaaaaaaaaaaaaaaaaaaaaaaaaaaaaaaaaaaaaaaaaaaaaaaaaaaaaaaaaabbbb', 0), ('aaaaaaaaaaaaaabbbbbbbbbbbbbbcccccccccccccc', 1), ('aaaaaaaabbbbbbbbcccccccc', 1), ('aaaaaaaaaaaaaaaaaaaaaaaaaaaaaaaaaaaaaaaaaaaaaaaaaaaaaaaaaaaaaaaaaaaaaaaaaaaaaaaaabbbbbbbbbbbbbbbbbbb', 0), ('aaaaaaaaaaaaaaaabbbbbbbbbbbbbbbbcccccccccccccccc', 1), ('aaaaaaaaaaaaaaaaaaaaaaabbbbbbbbbbbbbbbbbbbbbbbccccccccccccccccccccccc', 1), ('aaaaaaaaaaaaaaaaaaaaaaaaaaaaaaaaaaaabbbbbbbbb', 0), ('aaaaaaaaaaaaaaaaabbbbbbbbbbbbbbbbbccccccccccccccccc', 1), ('aaaaaaaaaaaabbbbbbbbbbbbcccccccccccc', 1), ('aaaaaaaaaaaaaaaaaaaaaaaaaaaaaaaaaaaaaabbbbbbbbbbbbbbbbbbb', 0), ('aaaaaaaaaaaaaaaaaabbbbbbbbbbbbbbbbbbbbbbbbbbbbbbbbbbbbbbbbbbbbbbbbbbbbbbbbbbbbccccccccccccc', 0), ('aaaaaaaaaaaaaaaaaaaaaaaaaaaaaaaaabbbbbbbbbbbbbbbbbbbbbbbbbbbbbbbbbccccccccccccccccccccccccccccccccc', 1), ('aaaaaaaaaaaaaaaaaaaaaaaaaaaaaaaaaaaaaaaaaaaaaaaaaaaaaaaaaaaaaaaaaaaaaaaaaaaabbbbbbbbbbbbb', 0), ('aaaaaaaaaabbbbbbbbbbcccccccccc', 1), ('aaaaaaaaaaaaaaaaaaaaaaaaabbbbbbbbbbbbbbbbbbbbbbbbbccccccccccccccccccccccccc', 1), ('aaaaaaaaaaaaaaaaaaaaaaaaaaaaaaaaaaaaaaaaaaaaaaaabbbbbbbbbbbbbbbbbbbbbbbbb', 0), ('aaaaaaaaaaaaaaaaaaaaabbbbbbbbbbbbbbbbbbbbbccccccccccccccccccccc', 1), ('aaaaaaaaaaaaaaaaaaaaaaaaabbbbbbbbbbbbbbbbbbbbbbbbbccccccccccccccccccccccccc', 1), ('bbbbbbbbccccccccccccccccccccccccccccccccccccccccccccccccccccccccccccccccccccccccccccccccccccccccccc', 0), ('aaaaaaaaaaaaaaaaaaaaaaaabbbbbbbbbbbbbbbbbbbbbbbbcccccccccccccccccccccccc', 1), ('aaaaaaaaaaaaaaaaaaaaaaaaaaaaaaaaaaaaaaaaaaaaaaaaaaaaaaaaaaaaaaaaaaabbbbbbbbbbbbb', 0), ('aaaaaaaaaaaabbbbbbbbbbbbbbbbbbbbbbbbbbbbbbbbbbbbbbbbbbbbbbbbbbbbbbbbbbbbbbbbbb', 0), ('aaaaaaabbbbbbbbbbbbbbbbbbbbbbbbbbbbbbbbbbbbbbbbbbbbbbbbbbbbbbbbbbbbbbbbbbbbbbbbbbbbb', 0), ('aaaaaaaaaaaaaaaaaaaabbbbbbbbbbbbbbbbbbbbcccccccccccccccccccc', 1), ('aaaaaaaaaaaaaaaaaaaaaabbbbbbbbbbbbbbbbbbbbbbcccccccccccccccccccccc', 1), ('aaaaaaaaaaaaaaaaabbbbbbbbbbbbbbbbbbbbbbbbbbbbbbbbbbbbb', 0), ('aaaaaaaaaaaaaaaaabbbbbbbbbbbbbbbbbccccccccccccccccc', 1), ('bbbbbbbbbbbbbbbbbbbbbbbbbbbbbbbbbbbbbbbbbbbbbbbbbbbbbbbbbccccccccccccccccccccccccccccccccccccccccccc', 0), ('aaaaaaaaaaaaaaaaaaaaaaaaaaaaaaaaaaaaaaaaaaaaaaabbbbbbbbbbbbbbbbbbbbbbbbbbbbbbbbbbbbbbbbbbbbbbbbbb', 0), ('aaaaaaaaaaaaaaaaaaaaaaabbbbbbbbbbbbbbbbbbbbbbbccccccccccccccccccccccc', 1), ('aaaaaaaaaaaaaaaabbbbbbbbbbbbbbbbcccccccccccccccc', 1), ('aaaaaaaaaaaaaaaaaaaaaaaaaaaaaaaaabbbbbbbbbbbbbbbbbbbbbbbbbbbbbbbbbbbbbbbbbbbbccccccccccccc', 0), ('aaaaaaaaaaaaaaaaaaaaaaaaaaaaaaaaaaaaaaaaaaaabbbbbbbbbbbbbbbbbbbbbbbbbbbbbbbbbbbbccccccccccccccccc', 0), ('aaaaaaaaaaaaaaaaaaaaaaaaaaaaaaaaaaaaaaaaaaaaaaaaaaaaaaaaaaaaaaaaaaaaaaaaaaaaaaaaaaaaaaaaaaaaaaaaaab', 0), ('aaaaaaaaaaaaaaaaaaaabbbbbbbbbbbbbbbbbbbbcccccccccccccccccccc', 1), ('aaaaaaaaaaaaaaaaaaaaaaaaaaaaabbbbbbbbbbbbbbbbbbbbbbbbbbbbbccccccccccccccccccccccccccccc', 1), ('aaaaaaaaaaabbbbbbbbbbbccccccccccc', 1), ('aaaaaaaaaaaaaaaaaaaaaaaaaaaaaaaaaaaaaaaaaaaaaaaaaaaaaaaaaaaaaaaaaaaaaaaaaaaaaaaaaaaaaaaaaaaaaaaaaaab', 0), ('aaaaaaaaaaaaabbbbbbbbbbbbbbbbbbbbbbbbbbbbbbbbbbbbbbbbbbbbbbbbbbbb', 0), ('aaaaaaabbbbbbbccccccc', 1), ('aaaaaaaaaaaaaaaaaaaaaaaabbbbbbbbbbbbbbbbbbbbbbbbcccccccccccccccccccccccc', 1), ('aaaaaaaaaaaaaaaaaaaaaaaaaaaaaaaaaaaaaaaaaaaaaaaaaaaaaaaaaaaaaaaaaabbbbbbbbbbbbbbbcccccccccc', 0), ('aaaaaaaaaaaaaabbbbbbbbbbbbbbcccccccccccccc', 1), ('aaaaaaaaaaaaaaaaaaaaaaabbbbbbbbbbbbbbbbbbbbbbbccccccccccccccccccccccc', 1), ('aaaaaaaaaaaaaaaaaaaaaaaaaaaaaaaaaaaaaaaaaaaaaaaaaaaaaaaaaaaaaaaaabbbbbbbbbbb', 0), ('aaaaaaaaaaaaaaaaaaaaaaabbbbbbbbbbbbbbbbbbbbbbbccccccccccccccccccccccc', 1), ('aaaaaaabbbbbbbccccccc', 1), ('aaaaaaaaaaaaaaaabbbbbbbbbbbbbbbbcccccccccccccccc', 1), ('aaaaaaaaaaaaaaaaaaaaaaaaaaaaaaaaaaaaaaaaaaaaaaaaaaaaaabbbbbbbbbbbbbbbbbbbbbbbbbbbbbbbb', 0), ('aaaaaaaaaaaaaaaaaaaaaaaaaaabbbbbbbbbbbbbbbbbbbbbbbbbbbccccccccccccccccccccccccccc', 1), ('aaaaaaaaaaaaaaaaaaaaaaaaaaaaaaaaaaaaaaaaaaaaaabbbbbbbbbbbbbbbbbbbbbbbbb', 0), ('aaaaaaaaaaaaaaaaaaaaaaaaaaaaaaaaaaaaaaaaaaaaaaaabbbbbbbbbbbbbbbbbbbbbbbbbbbbbbbbccccccccccccccc', 0), ('aaaaaaaaaaaaaaabbbbbbbbbbbbbbbccccccccccccccc', 1), ('aaaaaaaaaaaaaaaaaaaaaaaaaaaaaaaaaaaaaaaaaaaaaaaaaaaaaaaaaaaaaaaaaaaaaaaaaaaaaaaaaaaaabbb', 0), ('aaaaaaaaaaaaaaaaaaaaaaaaaaaaaaaaabbbbbbbbbbbbbbbbbbbbbbbbbbbbbbbbbccccccccccccccccccccccccccccccccc', 1), ('aaaaaaaaaaaaaaaaaaaaaaaaaaaaaaaaaaaaaaaaaaaaaaaaaaaaaaaaaaaaaaaaaaaaaaaaaaaaaaaaaaaaaaaabb', 0), ('aaaaaaaaaaabbbbbbbbbbbccccccccccc', 1), ('aaaaaaaaaaaaaaaaaaaaaaaabbbbbbbbbbbbbbbbbbbbbbbbcccccccccccccccccccccccc', 1), ('aaaaaaabbbbbbbccccccc', 1), ('aaaaaaaabbbbbbbbcccccccc', 1), ('aaaaaaaaaaaaaaaabbbbbbbbbbbbbbbbcccccccccccccccc', 1), ('aaaaaaaaaaaaaaaaaaaaaaaaaaaaaaaaaaaaaaaaaaaaaaaaaaaaaaaaaaaaaaaaaaaaaaaaaaaaaaaaaaaaaabbbbbbbbbbbbbb', 0), ('aaaaaaaaaaaaaaaaaaaaaaaaaaaaaaaaaaaaaaaaaaaaaaaaaaaaaaaaaabbbbbbbbbbbbbbbbbbbbbbbbbbbbbbbbbbbbbbbbbb', 0), ('aaaaaaaaaaaaaaaaaaaaaaaaaaaaaaaaaaaaaaaaaaaaaaaaaaaaaaaaaaaaabbbbbbbbbbbbbbbbb', 0), ('aaaaaaaaaaaaaaaaaaaaaaaaaaaaabbbbbbbbbbbbbbbbbbbbbbbbbbbbbccccccccccccccccccccccccccccc', 1), ('aaaaaaaaaaaaaabbbbbbbbbbbbbbcccccccccccccc', 1), ('aaaaaaaaabbbbbbbbbccccccccc', 1), ('aaaaaaaaaaaaaaaaaaaaaaaaaaaaaaaaaaaaaaaaaaaaaaaaaaaaaaaaaaaaaaaaaaaaaaaaaaaaaaaaaaaaaabbbbbbbb', 0), ('aaaaaaaaaaaaaaaaaaaaaaabbbbbbbbbbbbbbbbbbbbbbbccccccccccccccccccccccc', 1), ('aaaaaaaaaaaaaaaaaaaaaaaaaaaaaaaaaaaaaaaaaaaaaaaaaaaaaaaaaaaaaaaaaaaaaaaaaaabbbbbbbbbbbbbbb', 0), ('aaaaaaaaaaaaaaaaaaaaaaaaaaaaaaabbbbbbbbbbbbbbbbbbbbbbbbbbbbbbbccccccccccccccccccccccccccccccc', 1), ('aaaaaaaaaaaaaaaaaaaaaaaaaaaaaaabbbbbbbbccccccccccccccccccccccccccccccccccccccccccccccccccccc', 0), ('aaaaaaaaaaaaaaaaaaaaaaaaaaaaaaaaaaaaaaaaaaaaaaaaaaaaaaaaaaaaaaaaaaaaaaaaaaaaaaaaaaaaaaaaaaaaaaa', 0), ('aaaaaaaaaaaaaaaaaabbbbbbbbbbbbbbbbbbcccccccccccccccccc', 1), ('aaaaaaaaaaaaaaaaaaaaaaaaaaaaaaabbbbbbbbbbbbbbbbbbbbbbbbbbbbbbbccccccccccccccccccccccccccccccc', 1), ('aaaaaaaaaaaaaaaaaaaaaaaaaaaaaaaaaaaaaaaaaaaaaaaaaaaaaaaaaaaaaaaaaaaaaaaaaaaaaaaaaaaaaaaaaaaaaaaaaabb', 0), ('aaaaaaaaaaaaaaaaaaaaaaaaaaaaaaaaaaaaaaaaaaaaaaaaaaaaaaaaaaaaaaaaaaaaaaaaaaaaaaaaaaaaaaaaaaaaaabb', 0), ('aaaaaaaaaaaaaaaaaaaaaaaaaaaaaaaaaaaaaaaaaaaaaaaaaaaaaaaaaaaaaaaaaaaaaaaaaaaaaaaaaaaaaaaaaaaaaaaabbb', 0), ('aaaaaaaaaaaaaaaaaaaabbbbbbbbbbbbbbbbbbbbcccccccccccccccccccc', 1), ('aaaaabbbbbbbbbbbbbbbbbbbbbbbbbbbbbbbbbbbbbbbbbbbbbbbbbbbbbbbbbbbbbbbbbbbbbbbbbbbbbbb', 0), ('aaaaaaaaaaaaaaaaaabbbbbbbbbbbbbbbbbbcccccccccccccccccc', 1), ('aaaaaaaaaaaaaaaaaaaaaaaaaaaaaaaabbbbbbbbbbbbbbbbbbbbbbbbbbbbbbbbcccccccccccccccccccccccccccccccc', 1), ('aaaaaaaaaaaaaaaaaaaaaaaaaaaaaaaaaaaaaaaaaaaaaaabbcccccccc', 0), ('aaaaaaaaaaaaaaaaaaaaaaaaaabbbbbbbbbbbbbbbbbbbbbbbbbbcccccccccccccccccccccccccc', 1), ('aaaaaaaaaaaaaaaaaaaabbbbbbbbbbbbbbbbbbbbbcccccccccccccccccccccccccccccccccccccccccccccccccccccccccc', 0), ('aaaaaaaaaaaaaaaaaaaaaaaaaaaaaaaaaaaaaaaaaaaaaaaaaaaaabbbbbbbbbbbbbbbbbbbbbbbbbbbb', 0), ('aaaaaaaaaaaaaaaaaaaaaaaaaaaaaaaaaaaaaaaaaaaaaaaaaaaaaaaaaaaaaaaaaaaaaaaaaaaaaaaaaaaaabbbb', 0), ('aaaaaaaaaaaaaaabbbbbbbbbbbbbbbccccccccccccccc', 1), ('aaaaaaaaaaaaaaaaaaaaabbbbbbbbbbbbbbbbbbbbbbbbbbbbbbbbbbbbbcccccccccccccccccccccccccccccccc', 0), ('aaaaaaaaaaaaaaaaaaaaaaaaaaaaaaaaaaaaaaaaaaaaaaaaaaaaaaaaaaabbbbbbbbbbbbbbbbbbbbbbbbbbbbbbbbbbbb', 0), ('aaaaaaaaaaaaaaaaabbbbbbbbbbbbbbbbbccccccccccccccccc', 1), ('aaaaaaaaaaaaaaaaaaaaaaaaaaaaaaaaaaaabbbbbbbbbbbbbbbbbbbbbbbbbbbbbbbbbbbbbbbbbbbbbbbbbbbb', 0), ('aaaaaaaaaaaaaaaaaaaaaaaaaaaaaaaaabbbbbbbbbbbbbbbbbbbbbbbbbbbbbbbbbccccccccccccccccccccccccccccccccc', 1), ('aaaaaaaaaaaaaaaaaaaaaaaaaaaaaaaaaaaaaaaaaaaaaaaaaaaaaaaabbbbbbbbbbbbbbbbbbbbbbbbbbbbbbbbbbbbbbb', 0), ('aaaaaaaaaaaaaaaabbbbbbbbbbbbbbbbbbbbbbbbbbbbcccccccc', 0), ('aaaaaaaaabbbbbbbbbccccccccc', 1), ('aaaaaaaaaaaaaaaaaaaaaaabbbbbbbbbbbbbbbbbbbbbbbbbbbbbbbbbbbbbbbbbbbbbbbbbbbbbbbbbbbbbbb', 0), ('aaaaaaaaaaaaaaaaaaaaaaaaaaaaaaaaaaaaaaaaaaaaaaaaaaaaaaaaaaaaaaaaaaaaaaaaaaaaaaaaaaaaaaaaab', 0), ('aaaaaaaaaaaaaaaaaabbbbbbbbbbbbbbbbbbcccccccccccccccccc', 1), ('aaaaaaaaaaaabbbbbbbbbbbbcccccccccccc', 1), ('aaaaaaaaaaaaaaaaaaaaaabbbbbbbbbbbbbbbbbbbbbbcccccccccccccccccccccc', 1), ('aaaaaaaabbbbbbbbcccccccc', 1), ('aaaaaaaaaaaaaaaaaaaaaaaaaaaaaaaaaaaaaaaaaaaaaaaaaaaaaaaaaaaaaaaaaaaaaaaaaaaaaaaaaaaaaaaabcc', 0), ('aaaaaaaaabbbbbbbbbccccccccc', 1), ('aaaaaaabbbbbbbccccccc', 1), ('aaaaaaaaaaaaaaaaaaaaaaaaaaaaaaaaaaaaaaaaaaaaaaaaaaaaaaaaaaaaaaaaaaaaaaaaaaaaaaaaabbbbb', 0), ('aaaaaaaaaaaaaaaaaaabbbbbbbbbbbbbbbbbbbccccccccccccccccccc', 1), ('aaaaaaaaaaaaaaaaaaaaaaaaaaaaaaaaaaaaaaaaaaaaaaaaaaabbbbbbbbbbbbbbbbbbbbbbbbbbbbbbbbbbbbbb', 0), ('aaaaaaaaabbbbbbbbbccccccccc', 1), ('aaaaaaaaaaaaaaaaaaaaaaaaaaaaaaaaaaaaaaaaaabbbbbbbbbbbbbbbbbbbcccccccccccccccccccccccccccccccccccccc', 0), ('aaaaaaaaaaaaaaaaaaaaaaaaaaaaaaaaaaaaaaabbbbbbbbbbbbbbbbbbcccccccccccccccccccccccccccccc', 0), ('aaaaaaaaaaaaaaaaaaaaabbbbbbbbbbbbbbbbbbbbbccccccccccccccccccccc', 1), ('aaaaaaaaaaaaaaaaaaaaaaaaaaaaaaaaabbbbbbbbbbbbbbbbbbbbbbbbbbbbbbbbbccccccccccccccccccccccccccccccccc', 1), ('aaaaaaaaaaaaaaaaaabbbbbbbbbbbbbbbbbbcccccccccccccccccc', 1), ('aaaaaaaaaaaaaaaaaaaaaaaaaaaaaaaaaaaaaaaaaaaaaaaaaaaaaaaaaaaaaaaaaaaaaaaaaaaaaaaaaaaaaaaaaaaaaaaaaabb', 0), ('aaaaaaaaaaaaabbbbbbbbbbbbbbbbbbbbbbbbbbbbbbbbbbbbbbbbbbbbbbbbbbbbbbbbbbbbbbbccccccccccccccccccc', 0), ('aaaaaaaaaabbbbbbbbbbbbbbbbbbbbbbbbbbbbbbbbbbbbbbbbbbbbbbbbbbbbbbbbbbbbbbbbbbbbbbbbbbbbbbbbbbbbbbbbbb', 0), ('aaaaaaaaaaaaaaaabbbbbbbbbbbbbbbbcccccccccccccccc', 1), ('aaaaaaaaaaaaaaaabbbbbbbbbbbbbbbbcccccccccccccccc', 1), ('aaaaaaaaaaaaaaaabbbbbbbbbbbbbbbbcccccccccccccccc', 1), ('aaaaaaaaaaaaaabbbbbbbbcccccccccccccccccccc', 0), ('aaaaaaaaaaaaabbbbbbbbbbbbbbbbbbbbbbbbbbbbb', 0), ('abbbbbbbbbbbbbbbbbbbbbbbbbbbbbbbbbbbbbbbbbbbbbbbbbbbbbbbbbbbbbbbbbbbbbbbbbbbbbbbbbbb', 0), ('aaaaaaaabbbbbbbbcccccccc', 1), ('aaaaaaaaaaaaaaaaaaaaaaaaaaaaaaaaaaaaaaaaaaaaaaaabbbbbbbb', 0), ('aaaaaaaaaaaaaaaaaaaaaaabbbbbbbbbbbbbbbbbbbbbbbccccccccccccccccccccccc', 1), ('aaaaaaaaaaaaaaaaaaaaaaaaaaaaaaaaaaaaaaaaaaaaaaaaaaaaaaaaaaaaaaaaaaaaaaaaaaaaaaabbbbbbbbb', 0), ('aaaaaaaaaaaaaaaaaaaaaaaaaaaaaaaaaaaaaaaaaaaaaaaaaaaaaaaaaaaaabbbbbbbbbbbbbbbbbbbbbbbbbbbbbbbbbbbbbbb', 0), ('aaaaaaaaaaaaaaaabbbbbbbbbbbbbbbbcccccccccccccccc', 1), ('aaaaaaaaaaaaaaaaaaaaaaaaaaaaaaaaaaaaaaaaaaaaaaaaaaaaaabb', 0), ('aaaaaaaaaaaaaaaaaaaaaaaaaaaaabbbbbbbbbbbbbbbbbbbbbbbbbbbbbccccccccccccccccccccccccccccc', 1), ('aaaaaaaaaaaaaaaaaaaaaaaaaaaaaabbbbbbbbbbbbbbbbbbbbbbbbbbbbbbcccccccccccccccccccccccccccccc', 1), ('aaaaaaaaaaaaaaaaaaaaaaaaaaaaaaaaaabbbbbbbbbbbbbbbbbbbbbbbbbbbbbbbbbbbbbbbbbbbbbbbbbbbbbbbb', 0), ('aaaaaaaaaaaaaaaaaaaaaaaaaaaaaaaaaaaaaaaaaaaaaaaaaaaaaaaaaabbbbbbbbbbbbbbbbbbbbbbbbbbbbbbbbbbb', 0), ('aaaaaaaaaaaaaaaaaaaaaaaaaaaaaaaaaaaaaaaaaaaaabbbbbbbbbbbbccccccccccccccccccccccccccc', 0), ('aaaaaaaaaaaaaaaaaaaaaaaaaaaaaabbbbbbbbbbbbbbbbbbbbbbbbbbbbbbcccccccccccccccccccccccccccccc', 1), ('aaaaaaaaaaaaaaaaaaaaaaaaaaaaaaaaaaaaaaaaaaaaaaaaaaaaaabbbbbbbbbbbbbbbbbbbbbbbbb', 0), ('aaaaaaaaaaaaaaaaaaaaaaaaabbbbbbbbbbbbbbbbbbbbbbbbbbbbbbbbbbbbbbbbbbbbbbbbbbbbbbbbbbbb', 0), ('aaaaaaaaaaaaaaaaaaaaaaaaaaaaaaaaaaaaaaaaaaaaaaaaaaaaaaaaaaaabbbbbbbbbbbbbbbccccccccccccccccccccccccc', 0), ('aaaaaaaaaaaaaaaaaaaaaaaaaaaaaaaaaaaaaaaaaaaaaaaaaaaaaaaaaaaaaaaaaaabbbbbbbbbbbbbbbbbbbbbbbb', 0), ('aaaaaaaaabbbbbbbbbccccccccc', 1), ('aaaaaaaabbbbbbbbcccccccc', 1), ('aaaaaaaaaaaaaaaabbbbbbbbbbbbbbbbbbbbbbbbbbbbbbbbbbbbbbbbbbbbbbbbbcccccccccccccc', 0), ('aaaaaaaabbbbbbbbcccccccc', 1), ('aaaaaaaabbbbbbbbcccccccc', 1), ('aaaaaaaaaaaaaaaaaaaaaaaaaaaaaaaaaaaaaaaaaaaaaaaaaaaaaaaaaaaaaaaaaaaaaaaaaaaaaaaaaaaaaaaaaaaa', 0), ('aaaaaaaaaaaaaaaaaaaaaaaaaaaaaaaaaaaaaaaaaaaaaaaaaaaaaaaaaaaaaaaaaaaaaaaaaaaaaaaaaaaaaaaaaaaa', 0), ('aaaaaaaaaaaaaaaaaaaaaaaaaaaaaabbbbbbbbbbbbbbbbbbbbbbbbbbbbbbcccccccccccccccccccccccccccccc', 1), ('aaaaaaaaaaaaaaaaaaaaaaaaaaaaaaaaaaaaaaaaaaaaaaaaaaaaaaaaaaaaaaaaaaaaaaaaaaaaaaaaaaaaaaaaaaaaaaaabbbb', 0), ('aaaaaaaaaaaaaaaaaaaaaaaaaaaaaaaaaaaaaaaaaaaaaaaaaaaaaaaaaaaaaaaaaaaaaaaaaaaaaaaaaaaaaabbb', 0), ('aaaaaaaaaaaaaaaaaaaaaaaabbbbbbbbbbbbbbbbbbbbbbbbcccccccccccccccccccccccc', 1), ('aaaaaaaaaaaaaaaaaaaaaaaaaaaaaaabbbbbbbbbbbbbbbbbbbbbbbbbbbbbbbccccccccccccccccccccccccccccccc', 1), ('aaaaaaaaaaaaaaaaaaaaaaaaaaaabbbbbbcccccccccccccccccccccccccccccccccccccccccccccccccccccccccccc', 0), ('aaaaaaaaaaaaaaaaaaaaaaaaaaaaaaaaaaaaaaaaaaaaaaaaaaaaaaaaaaaaaaaaaaaaaaaaaaaaaaaaaaaaaaaaaaaa', 0), ('aaaaaaaaaaaaaaaaaaaaaaaaaaaaaaaaaaaaaaaaaaaaaaaaaaaaaaaaabbbbbbbbbbbbbbbbbbbbbbbb', 0), ('aaaaaaaaaaaaaaaaaaaaaaaaaaaaabbbbbbbbbbbcccccccccccccccccccccccccccccccccccccccccccccccccccccccc', 0), ('aaaaaaaaaaaaaaaaaaaaaaaaaaaaaaaaaaaaaaaaaaaaaaaaabbbbbbbbbbbbcccccccccccccccccccccccccccccc', 0), ('aaaaaaaabbbbbbbbcccccccc', 1), ('aaaaaaaaaaaaaaaaaaaaaaaaaaaaaaaaaaaaaaaaaaaaaaaaaaaaaaaaaaaaaaabbbbb', 0), ('aaaaaaaaabbbbbbbbbccccccccc', 1), ('aaaaaaaaaaaaaaaaaaaaabbbbbbbbbbbbbbbbbbbbbbbbbbbbbbbbbbbbbbb', 0), ('aaaaaaaaaaaaaaaaaaaaaabbbbbbbbbbbbbbbbbbbbbbbbbbbbbbbbbbbbbbbbbbbbbbbbbbbbbb', 0), ('aaaaaaaaaaaaaaaaaaaaaaaaaaaaaaaaaaaaaaaaaaaaaaaaaaaaaaaaaaaaaaaaaaaaaaaaaaaaaaaaaaaaaaaaaaaaaaaaaab', 0), ('aaaaaaaaaaaaaaaaaaaaabbbbbbbbbbbbbbbbbbbbbbbbbbbbbbbbbbbbbbbbbbbbbbbbbbbbbbbbbbbbbbbbbbbbb', 0), ('aaaaaaaaaaaaaaaaaaaaaaaaaaaaaaaaaaaaaaaabbbbbbbbbbbbbbbbbbbbbbbbbbbbbbbbbbbbbbbbbbbbbbbbbbbbbbb', 0), ('aaaaaaaabbbbbbbbcccccccc', 1), ('aaaaaaaaaaaaaaaaaaaaaaaaaaaaaaaaaaaaaaaaaaaaabbbbbbbbbbbbbbbbbbbbbbbbbbbbbbbbbccc', 0), ('aaaaaaaaaaaaaaaaaaaaaaaabbbbbbbbbbbbbbbbbbbbbbbbcccccccccccccccccccccccc', 1), ('aaaaaaaaaaaaaaaaaaaaaaaaaaaaaaabbbbbbbbbbbbbbbbbbbbbbbbbbbbbbbccccccccccccccccccccccccccccccc', 1), ('aaaaaaaaaaaaaaaaaaaaaaaaaaaaaaaaaaaaaaaaaaaaaaaaaaaabbbbbbbbbbbbbbbbbbbbbbbbbbbbbb', 0), ('aaaaaaaaaaaaaaaaaaaaaabbbbbbbbbbbbbbbbbbbbbbcccccccccccccccccccccc', 1), ('aaaaaaaaaaaaaaaaaaaaaaaaaaaaaaaaaaaaaaaaaaaaaaaaaaaaaabbbbbbcccccccccccccccccccccc', 0), ('aaaaaaaaaaaaaaaaaaaaaaaaaaaaaaaaaaaaaaaaaaaaaaaaaaaaaaaaaaaaaaaaaabbbbbbbbbbbbbbbbbbbbbbbbbbb', 0), ('aaaaaaaaaaaaaaaaaabbbbbbbbbbbbbbbbbbcccccccccccccccccc', 1), ('aaaaaaaaaabbbbbbbbbbcccccccccc', 1), ('aaaaaaaaaaaaaaaabbbbbbbbbbbbbbbbcccccccccccccccc', 1), ('aaaaaaaaaaaaaaaaaaaaaaaaaabbbbbbbbbbbbbbbbbbbbbbbbbbcccccccccccccccccccccccccc', 1), ('aaaaaaaaaaaaaaaaaaaaaaaaaaaaabbbbbbbbbbbbbbbbbbbbbbbbbbbbbccccccccccccccccccccccccccccc', 1), ('aaaaaaaaaaaaaaaaaaaaaaaaaaaaaaaabbbbbbbbbbbbbbbbbbbbbbbbbbbbbbbbcccccccccccccccccccccccccccccccc', 1), ('aaaaaaaaaaaaaaaaaaaaaaaaaaaaaaaaaaaaaaaaaaaaaaaaaaaaaaaaaaaaaaaaaaaaaaaaaaaaaaaaabbbbbbbb', 0), ('aaaaaaaaaaaaaaaaaaaaaaaaaaaaabbbbbbbbbbbbbbbbbbbbbbbbbbbbbbbbbbbbbbbbbbbbbbbbbbbbbbbbbbbcccccccccccc', 0), ('aaaaaaaaaaaaaaabbbbbbbbbbbbbbbccccccccccccccc', 1), ('aaaaaaaaaaaaaaaaaaaaaaaaaabbbbbbbbbbbbbbbbbbbbbbbbbbcccccccccccccccccccccccccc', 1), ('aaaaaaaaaaaaaaaaaaaaaaaaaaaaaaaaaabbbbbbcccc', 0), ('aaaaaaaaaaaaaaaaaaaaaaaaaaaaaaaaaaaabbbbbbbbbbbbbbbbbbbbbbbbbbbbbbbbbbbbbbcccccc', 0), ('aaaaaaabbbbbbbccccccc', 1), ('aaaaaaaaaaaaaaaaaaaaaaaaaaaaaabbbbbbbbbbbbbbbbbbbbbbbbbbbbbbcccccccccccccccccccccccccccccc', 1), ('aaaaaaaaaaaaaaaaaaaaaaaaaaaaaaabbbbbbbbbbbbbbbbccc', 0), ('aaaaaaaaaaaaaaaaaaaaaaaaaaaaaaaaaaaaaaaaaaaaaaaaaaaaaaaaaaaaaaaaaaaaaaaabbbbbbbbbbbbbccccc', 0), ('aaaaaaaaaaaaaaaaaaaaaaaaaaabbbbbbbbbbbbbbbbbbbbbbbbbbbccccccccccccccccccccccccccc', 1), ('aaaaaaaaaaaaaaaaaaaaaaaaaaaaaaaaaaaaaaaaaaaaaaaaaaaaaaaaaaaaaaaaaaaaaaaaaaaaaaaaaaaaaaaaaabb', 0), ('aaaaaaaaaaaaaaaaaaaaaaaaaaaabbbbbbbbbbbbbbbbbbbbbbbbbbbbcccccccccccccccccccccccccccc', 1), ('aaaaaaaaaaaaaaaabbbbbbbbbbbbbbbbcccccccccccccccc', 1), ('aaaaaaaaaaaaaaaaaaaaaaaaaaaaaaaaaaaaaaaaaaaaaabbbbbbbbbbbbbbbbbcccccccccccccccccccc', 0), ('aaaaaaaaaaaaaaaaaaaaabbbbbbbbbbbbbbbbbbbbbccccccccccccccccccccc', 1), ('aaaaaaaaaaaaaaaaaaaaaaaaaaaaaaaaaaaaaaaaaaaaaaaaaaaaaaaaaaaaaaabbbbbbbbbbbbbbb', 0), ('aaaaaaaaaaaaaaaaaaaaaaabbbbbbbbbbbbbbbbbbbbbbbbbbbbbbbbbbbbbbbbbbbbbbbbbbbbbbbbbbb', 0), ('aaaaaaaaaaaaaaaaaaaaaaaaaaaaaaaaaaaaaaaaaaaaaccccccccccccccccccccccccc', 0), ('aaaaaabbbbbbbbbbbbbbbbbbbbbbbbbbbbbbbbbbbbbbbbbbbbbbbbbbbbbbbbbbbbbbbbbbbbbbbbbbbbbbbbbbbbbbbb', 0), ('aaaaaaaaaaaaaaaaaaaaaaaaaaaaaaaaaaaaaaaaaaaaaaaaaaaaaaabbbbbbbbbbbbbbbbbbbbbbbbbbbbbbbbbb', 0), ('aaaaaaaaaaaaaaaaaaaaaaaaaaaaaaabbbbcccccccccccccccccccccccccccc', 0), ('aaaaaaaaaaaaaaaaaaaaaabbbbbbbbbbbbbbbbbbbbcccc', 0), ('aaaaaaaaaaaaaaaaaaaaaaaaaaaaaabbbbbbbbbbbbbbbbbbbbbbbbbbbbbbcccccccccccccccccccccccccccccc', 1), ('aaaaaaaaabbbbbbbbbccccccccc', 1), ('aaaaaaaaaabbbbbbbbbbcccccccccc', 1), ('aaaaabbbbbbbbbbbbbbbbbbbbbbbbbbbbbbbbbbbbbbbbbbbbbbbbbbbbccccccccccccccccccccccccc', 0), ('aaaaaaaaaaaaaaaaaaaaaaaaaaaaaaaaaaaaaaaaaaaaaaabbb', 0), ('aaaaaaaaaaaaaaaaaaaaaaaaabbbbbbbbbbbbbbbbbbbbbbbbbccccccccccccccccccccccccc', 1), ('aaaaaaaaaaaaaaaaaaaaaaaaaaaaaaaaaaaaaaaaaaaaaaaaaaaaaaaaaaaaabbbbbbbbbbbbbbbbbbbbbbbb', 0), ('aaaaaaaaaaaaabbbbbbbbbbbbbccccccccccccc', 1), ('aaaaaaabbbbbbbccccccc', 1), ('aaaaaaaaaaaaaaaaaaaaaaaaaaaaaaaaaaaaaaaaaaaaaaaaaaaaaaaaaabbbbbbbbbbbbbbbbbbbbbbbbbbbbbbbbbcccccc', 0), ('aaaaaaaaaaaaaaaaaaaaaaaaaaaaaaabbbbbbbbbbbbbbbbbbbbbbbbbbbbbbbccccccccccccccccccccccccccccccc', 1), ('aaaaaaaaaaaaaaaaaaabbbbbbbbbbbbbbbbbbbccccccccccccccccccc', 1), ('aaaaaaaaaaaaaaaaaaaaaabbbbbbbbccccccccccccccccccccccccccccccccccccccccccccccccccccccccccccccccccccc', 0), ('aaaaaaaaaabbbbbbbbbbcccccccccc', 1), ('aaaaaaaaaabbbbbbbbbbcccccccccc', 1), ('aaaaaaaaaaaaaaaaaabbbbbbbbbbbbbbbbbbcccccccccccccccccc', 1), ('aaaaaaaaaaaaaaaaaaaaabbbbbbbbbbbbbbbbbbbbbccccccccccccccccccccc', 1), ('aaaaaaaaaaaaaaaaaaaabbbbbbbbbbbbbbbbbbbbbbbbbbbbbbbbbbbbbbbbbbbbbbbbbbbbbbbbbbbb', 0), ('aaaaaaaaaaaaaaaaaaabbbbbbbbbbbbbbbbbbbccccccccccccccccccc', 1), ('aaaaaaaaaaaaaaaaaaaaaaaaaaaaaaaaaaaaaaaaaaaaaaaaaaaaaaaaaaaaaaaaaaaaaaaaaaaaaaaaaaaaaaaaaaaaab', 0), ('aaaaaaaaaaaaaaaaaaaaaaaaaaaaaabbbbbbbbbbbbbbbbbbbbbbbbbbbbbbcccccccccccccccccccccccccccccc', 1), ('aaaaaaaaaaaaaaaabbbbbbbbbbbbbbbbcccccccccccccccc', 1), ('aaaaaaaaaaaaaaaaaaaaaaaaaaaaaaaaaaaaaaaaaaaaaaaaaaaaaaaaaaaaaaaaaaaaaaaaaaaaaaaaaaaaaaaaaaaaabb', 0), ('aaaaaaaaaaaaaaaaaaaaaaaaaaaaaaaaaaaaaaaaaaaaaaaaaaaaaaaaaaaaaaaaaaaaaaaaaaaaaaaaaaabbbbb', 0), ('aaaaaaabbbbbbbccccccc', 1), ('aaaaaaaaaaaaaaaaaaaaaaaaaaaaaaaaaaaaaaaaaaaaaaaaaaaaaaaaaabbbbbbbbbbbbbbbbbccccccccc', 0), ('aaaaaaaaaaaaabbbbbbbbbbbbbccccccccccccc', 1), ('aaaaaaaaaaaaaaaaaaaaaaaaaaaaaaaaabbbbbbbbbbbbbbbbbbbbbbbbbbbbbbbbbccccccccccccccccccccccccccccccccc', 1), ('aaaaaaaaaaaaaaaaaaaaaaaaaaaaaaaaaaaaaaaaaaaaaaaaabbbbbbbbbbbbbbbbbbbccccccccccccccccccccccc', 0), ('aaaaaaaaaaaaaaabbbbccccccccccccccccccccccccccccccccccccccccccccccccccccccccccc', 0), ('aaaaaaaaaaaaaaaaaaaaaaaaaaaaaaaaaaaaaaaaabbbbbbbbbbbbbbbbbbbbbbbbbbbbbbbbbbbbbccccccc', 0), ('aaaaaaaaaaaaaaaaaaaaaaaabbbbbbbbbbbbbbbbbbbbbbbbcccccccccccccccccccccccc', 1), ('aaaaaaaaaaaaaaaaaaaaaaaaaaaaaaaaaaaaaaaaaaaaaaaaaaaaaaabbbbbbbbbbbbbbbbbbbbbbbbbbbbbbbbbbbbbbbbbbb', 0), ('aaaaaaaaaaaaaaaaaaaaaaaaaaaaaaaaaaaaaaaaabbbbbbbbbbbbbbbbbbbbbbbbbbbbbbbbbbbbbbbbb', 0), ('aaaaaaaaaaaaaaaaabbbbbbbbbbbbbbbbbbbbbbbbbbbbbbbbbbbbbbbbbbbbbbbbbbbbbbbbbbbbbbbbbbbbbbbbbb', 0), ('aaaaaaaaaaaaaaaaaaaaaaaaaaaaaaaaaaaaabbbbbbbbbbbbbbbbbbbbbbbbbbbbbbbbbbbbbbbbbbbbbbbbbbbbbbbb', 0), ('aaaaaaaaaaaaaaaaaaaaaaaaaaaaaaaaaaaaaaaaaaaaaaaaabbbbbbbbbbbbbbbbccccccccc', 0), ('aaaaaaaaaaaaaaaaaaabbbbbbbbbbbbbbbbbbbccccccccccccccccccc', 1), ('aaaaaaaaaaaaaaaaaaaaaaaaaaaaaaaaaaaaaaaaaaabbbbbbbbbbbbbbbbbbbbccccccccccccccccccccccc', 0), ('aaaaaaaaaaaaaaaaaaaaaaaaaaaaaaaaaaaaaaaaaaaaaaaaaaaaaaaaaaaaaaaaaaaaaaaaaaaaaaaaaaaaabbccc', 0), ('aaaaaaaaaaaaaaaaaaaaaaaaaaaaaaaaaaaaaaaaaaaaaaaaaaaaaaaaaaaaaaaaaaaaaaaaaaaaaaaaaaaaaaaaaaaabbbbbb', 0), ('aaaaaaaaaaaaaaaaaaaaaaabbbbbbbbbbbbbbbbbbbbbbbccccccccccccccccccccccc', 1), ('aaaaaaaaaaaaaaaaaaaaaaaaaaaaaaaaaaaaaaaaaaaaaaaaaaaaaaaaaaaaaaaaaaaaaabbbbbbbbbbbbbbbbbbbbbbbbbbbbb', 0), ('aaaaaaaaaaaaaaaaaaaaaaaaaaaaabbbbbbbbbbbbbbbbbbbbbbbbbbbbbccccccccccccccccccccccccccccc', 1), ('aaaaaaaaaaaaaaaaaaaaaaaaaaaaaaaaaaaaaaaaaaaaaaaaaaaaaaaaaaaaaaaaaaaaaaaaaaaaaaaaaaabbbbbbbbbbbbbbb', 0), ('aaaaaaaaaaaaaaaaaaaaaaaaaaaaaaaaaaaaaabbbbbbbbbbbbbbbbbbbbbbbbbbbbbbbbbbbbbbbbbbbcc', 0), ('aaaaaaaabbbbbbbbcccccccc', 1), ('aaaaaaaaabbbbbbbbbccccccccc', 1), ('aaaaaaaaaaaaaaaabbbbbbbbbbbbbbbbcccccccccccccccc', 1), ('aaaaaaaaaaaaaaaaaaaaabbbbbbbbbbbbbbbbbbbbbccccccccccccccccccccc', 1), ('aaaaaaaabbbbbbbbcccccccc', 1), ('aaaaaaaaaabbbbbbbbbbcccccccccc', 1), ('aaaaaaaaaaaaaaaaaaaabbbbbbbbbbbbbbbbbbbbcccccccccccccccccccc', 1), ('aaaaaaaaaaaaaaaaaaaaabbbbbbbbbbbbbbbbbbbbbccccccccccccccccccccc', 1), ('aaaaaaaaaaaaaaaaaaaaaaaaaaaaaaaaaaaaaaaaaaaaaaaaaaaaaaaaaaaaaaaaabbbbbbbbbbbbbbb', 0), ('aaaaaaaaaaabbbbbbbbbbbccccccccccc', 1), ('aaaaaaaaaaaaaabbbbbbbbbbbbbbcccccccccccccc', 1), ('aaaaaaaaaaaaaaaaaaaaaaaaaaaaaaaaaaaaaaaaaaaaaaaaaaaaaaaaaaaaaaaaaaaaaaabbbbbbbbbbbbbbbbbbbbbbbbbbbb', 0), ('aaaaaaaaaaaaaaaaaaaaaaaaaaaaaaaaaaaaaaaaaaaaaaaaaaaaaaaaaaaaaaaaaaaaaaaaaaaaaaaaaaaaaaaaaaaaaaaaacc', 0), ('aaaaaaaaaaaaaaaaaaaaabbbbbbbbbbbbbbbbbbbbbbbbbbbbbbbbbbbbbbbbbbb', 0), ('aaaaaaaaaaaaaaaaaaaaaaaaaaaaaaaaaaaaaaaaaaaaaaaaaaaaaaaaaaaaabbbbbbbbbbbb', 0), ('aaaaaaaaaaaaaaaaaaaaaaaaaaaaaaaabbbbbbbbbbbbbbbbbbbbbbbbbbbbbbbbcccccccccccccccccccccccccccccccc', 1), ('aaaaaaaaaaaaaaaaaabbbbbbcccccccccccccccccccccccccccccccc', 0), ('aaaaaaaaaaaaaaaaaaaaaaaaaaaaaaaaaaaaaaaaaaaaaaaaaaaaaaaaaaaaaaaaaaabbbbbbbbbbbbbbbbbbbbbbb', 0), ('aaaaaaaaaaaaaaaaaaaaaaaaaaaaaaaaaaaaaaaaaaaaaaaaaaaaaaaaaaaaaaaaaaaaaaaaaaaaabbbbbbbbbbbb', 0), ('aaaaaaaaaaaaaaaaaaaaaaaaabbbbbbbbbbbbbbbbbbbbbbbbbccccccccccccccccccccccccc', 1), ('aaaaaaaaaaaaaaaaaaaaabbbbbbbbbbbbbbbbbbbbbccccccccccccccccccccc', 1), ('aaaaaaaaaaabbbbbbbbbbbbbbbbbbbbbbbbbbbbbbbbbbbbbbbbbb', 0), ('aaaaaaaaaaaaaabbbbbbbbbbbbbbcccccccccccccc', 1), ('aaaaaaaaaaaaaaaaaaaaaaaaaaabbbbbbbbbbbbbbbbbbbbbbbbbbbbbbbbbbbbbbbbbbbbbbbbbbbbbbbbbbbbbbbbbbbb', 0), ('aaaaaaaaaaaaaaaaabbbbbbbbbbbbbbbbbccccccccccccccccc', 1), ('aaaaaaaaaaaaaaaaabbbbbbbbbbbbbbbbbcccccccccccccccccccccccccccccccccccccccccccccccccccc', 0), ('aaaaaaaaaaaaaaaaaaaaaaaaaaaaaaaaaaaaaaaaaaaaaaaaaaaaaaaaaabbbbbbbbbbbbbbbbbbbbbbbbbbbbbbbbbbbbbb', 0), ('aaaaaaaaaaaaaaaaaaaaaaaaaaaaaaaaaaaaaaaaaaaaaaaaaaaaaaaaaaabbbbbbbbbbbccccccccccccccccccccc', 0), ('aaaaaaaaaaaaaaaaaaaaaaaaaaaabbbbbbbbbbbbbbbbbbbbbbbbbbbbbbbbbbbbbbbbbbbbbbbbbbbbbbbbbbb', 0), ('aaaaaaaaaaaaaaaaaaaaaaaaaaaaaaaaaabbbbccccccccccccccccccccccccccccccccccccccccccccccccc', 0), ('aaaaaaaaaaaaaaaaaaaaaaaaaaaaaaaaaaaaaaaaaaaaaaaaaaaaaaaaaaaaaaaaaaabbbbbbbbb', 0), ('aaaaaaaaaaaabbbbbbbbbbbbcccccccccccc', 1), ('aaaaaaaaaaaaaaaaaaaaaaaaaaaaaaaaaaaaaaaaaaaaaaaaaaaaaaaaaaaaabbbbbbbbbbbbbbbbbbbcccccccccccccccccc', 0), ('aaaaaaaaaaaaaaaaaaaaaaaaaaaaaaaaaaaaaaaaaaaaaaaaaaaaaaaaaaaaaaaaaaaaaaaaaaaaaaaaaaaaaaaaaaaaaaaaaa', 0), ('aaaaaaaaaaaaaaaaaaaaaaaaaaaaaaaaaaaaaaaaaaaaaaaaaaaaaaaaaaaaaaaaaaaaaaaaaaaaaaaaaaaaaaabbbbbb', 0), ('aaaaaaaaaaaaaaaaaaaaaaaaaaaaaaaabbbbbbbbbbbbbbbbbbbbbbbbbbbbbbbbcccccccccccccccccccccccccccccccc', 1), ('aaaaaaaaaaaaaaaaaaaaaaaaaaaaaaaaaaaaaaaaaaaaaaaaaaaaaaaaaaaaaaaaaaabbbbbbccccccccccccccc', 0), ('aaaaaaaaaaaaaaaaaaaaaaaaaaaaaaaaaaaaaaaaaaaaaaaaaaaaaaaaaaaaaaaaaaaaaaaaaaaaaaaaaaaaaaaaaaaaabbb', 0), ('aaaaaaaaaaaaaaaabbbbbbbbbbbbbbbbcccccccccccccccc', 1), ('aaaaaaaaaaaaaaaaaaaaaaaaaaaaaaaaaaaaaaaaaaaaaaaaaaaaaaaaaaaaaaaaaaaaaaaaaaabbbbbbb', 0), ('aaaaaaaaaaaaaaaaaaaaaaaaaaaaaaaaaaaaaaaaaaaaaaaaaaaaaaaaaaaaaaaaabbbbbbbbbbbbbbbbbbb', 0), ('aaaaaaaaaaaabbbbbbbbbbbbcccccccccccc', 1), ('aaaaaaaaaaaaaaaaaaaaabbbbbbbbbbbbbbbbbbbbbccccccccccccccccccccc', 1), ('aaaaaaaaaaaaaaaaaaaaaaaaaaaaaaaaaaaaaabbbb', 0), ('aaaaaaaaaaaaabbbbbbbbbbbbbbbbbbbbbbbbbbbbbbbbbbbbbbbbbbbbbbbbbbbbbbbbbbbbbbbbbbbbbbbbbbbbbbbb', 0), ('aaaaaaaaaaaaaaaaaaaaaaaaaaaaaaaaaaaaaaaaaaaaaaaaaaaaaaaaaaaaaaaabbbbbbbbbbbbbbbbbbbbbbbbbbbbbbbbbbbb', 0), ('aaaaaaaaaaabbbbbbbbbbbccccccccccc', 1), ('aaaaaaaaaaaaaaaaaaaaaaaaaaaaaaaaaaaaaaaaaaaaaaaaaaaaaaaaaaaaaaaaaacccccc', 0), ('aaaaaaaaaaaaaaaaaaaaaaaaaaaaaaaaaaaaaaaaaaaaaabbbbbbbbbbbbbbbbbbbbbbbbbbbbbbbbbbbbbbbb', 0), ('aaaaaaaaaaaaaaaaaaaaaaaaaaaaaaaaaaaaaaaaaaaaaaaaaaaaaaaaaaaaaaaaaaaaaaaaaaaabbbbbbbbbbbbbb', 0), ('aaaaaaaaaaaaaaaaaaaaaaaaaaaaaaaaaaaaaaaaaaaaaaaaaaaaaaaaaaaaaaaaaaaaaaaaaaaaaaaaaaaabbbbbbbb', 0), ('aaaaaaabbbbbbbccccccc', 1), ('aaaaaaaaaaaaaaaaaaaaaaaaaaaaaaaaaaaaaaaaaaabbbbbbbbbbbbbbbbbbbbbbbbbbbbbbbbbbbbbbbbbbbbbbbb', 0), ('aaaaaaaaaaaaaabbbbbbbbbbbbbbcccccccccccccc', 1), ('aaaaaaaaaaaaaabbbbbbbbbbbbbbcccccccccccccc', 1), ('aaaaaaaaaaaaaaaaaaaaaabbbbbbbbbbbbbbbbbbbbbbcccccccccccccccccccccc', 1), ('aaaaaaaaaaaaaaaaaaaaaaaaaaaaaabbbbbbbbbbbbbbbbbbbbbbbbbbbbbbcccccccccccccccccccccccccccccc', 1), ('aaaaaaabbbbbbbbbbbbbbcccccccccccccccccccccccccccccccccccccccccccccccccccccccccccc', 0), ('aaaaaaaaaaaaaaaaaaaaaaaaaaaaaaaaaaaaaaaaaabbbbbbb', 0), ('aaaaaaaaaaaaaaaaaaaaaaaaaaaaaaaaaaaaaaaaaaaaaaaaaaaaaaaaaaaaaaaaaaaaaaaaaaaaaaaaaaaaaaaaaaaaaab', 0), ('aaaaaaaaaaaaaaaaaaaaaaaaaaabbbbbbbbbbbbbbbbbbbbbbbbbbbbbbb', 0), ('aaaaaaaaaaaaaaaaaaaaaaaaaaaaaaaaaaaaaaaaaaaaabbbbbbbbbbbbbbbbb', 0), ('aaaaaaaaaaaaaaaaaaaaabbbbbbbbbbbbbbbbbbbbbccccccccccccccccccccc', 1), ('aaaaaaaaaaaaaaaaaaaaaaaaaaaaaaaaaaaaaaaaaaaaaaaaaaaaaaaaaaaaaaaaaaaaaaaaaaaaaaaaaaaaaaaaaaaaaaaaa', 0), ('aaaaaaaaaaaaaaaaaaaaaaaaaaaaaaaaaaaaaaaaaaaaaaaaaaaaaaaaaaaaaaaaaaaaaaabbbbbbbbbbbbbbbbbbbbbb', 0), ('aaaaaaaaaaaaaaaaaaaaaaaaaaaaabbbbbbbbbbbbbbbbbbbbbbbbbbbbbccccccccccccccccccccccccccccc', 1), ('aaaaaaaaaaaaaaaaaaaaaaaaaaaaaaaaaaaaaaaaaaaaaaaaaaaaaaaaaaaaaaaaaaaaaaaaaaaaaaaaaaaaaaaaaaaaabbbbb', 0), ('aaaaaaaaaaaaaaaaaaaaabbbbbbbbbbbbbbbbbbbbbccccccccccccccccccccc', 1), ('aaaaaaabbbbbbbccccccc', 1), ('aaaaaaaaaaaaaaaaaaaaaaaaaaaaaaaaaaaaaaaaaaaaaaaaaaaaaaaabbbbbbbbbbbbbbbbbbbb', 0), ('aaaaaaaaaaaaaaaaaaaaaaaaaaaaaaaabbbbbbbbbbbbbbbbbbbbbbbbbbbbbbbbcccccccccccccccccccccccccccccccc', 1), ('aaaaaaaaaaaaaaaaaaaaaabbbbbbbbbbbbbbbbbbbbbbcccccccccccccccccccccc', 1), ('aaaaaaaaaaaaaaaaaaaaaaaaaaaaaaaaaaaaaaaaaaaaaaaaaaaaaaaaaaaaaaaaaaaaaaaaaaaaaaaaaaaabbbbbbbbbbbbbb', 0), ('aaaaaaaaaaaaaaaaaaaaaabbbbbbbbbbbbbbbbbbbbbbcccccccccccccccccccccc', 1), ('aaaaaaaaaaaaaaaaaaaaaaaaaaaaaaaaaaaaaaaaaaaaaaaaaaaaaaaaaaaaaaaaaaaaaaaaaaaaaaaaaaaaabbbbbbbbbbbbbbb', 0), ('aaaaaaaaaaaaaaaaaaaaaaaaaaaaaaaaaaaaabbbbbbbbbbbbbbbbbbbbbbbbbbbbbbbbbcc', 0), ('aaaaaaaaaaaaaaaaaaaaaaaaaaaaaaaaaaaaaaaaaaaaaaaabbbbbbbbbbbbbbbbbbbbbbbbbbbbbbbbbbbbbbbbbbbbbbbb', 0), ('aaaaaaaaaaaaaaaaaaaaaaaaaaaaaaaaaaaaaaaaaaaaaaaaaaaaaabbbbbbbbbbbbbbbbbbbbbbbbbbbbbccccccccccccc', 0), ('aaaaaaaaaaaaaaaaaaabbbbbbbbbbbbbbbbbbbccccccccccccccccccc', 1), ('aaaaaaaaaaaaaaaaaaaaaaaaaaaaaaaaaaaaaaaaaaaaaaaaaaaaaaaaaaaaaaaaaaaaaaaaaaaaaaaaabbbbbbbbbbbb', 0), ('aaaaaaaaaaaaaaabbbbbbbbbbbbbbbbbbbbbbbbbbbbbbbbbbbbbbbbbbbbbbbbbbbbbbb', 0), ('aaaaaaaaaaaaaaaaaaaaaaabbbbbbbbbbbbbbbbbbbbbbbccccccccccccccccccccccc', 1), ('aaaaaaaaaaaaaaaaaaaaaaaaaaaaaaaaaaaaaaaaaaaaaaaaaaaaaaaaaaaaaaaaaaaaaaaaaaaaaaaaaaaaaabbb', 0), ('aaaaaaaaaaaaaaaaaaaaaaaaaaaaaabbbbbbbbbbbbbbbbbbbbbbbbbbbbbbcccccccccccccccccccccccccccccc', 1), ('aaaaaaaaaaaaaaaaaaaaaaaaaaaaaaaaaaabbbbbbbbbbbbbbbbbbbbbbbbbbbbbbbbbbbbbbbbbbb', 0), ('aaaaaaaaaaaaaaaaaaaaaaaabbbbbbbbbbbbbbbbbbbbbbbbcccccccccccccccccccccccc', 1), ('aaaaaaaaaaaaaaaaaaaaaaaaaaaaaaaaaaaaaaaaaaaaaaaaaaaaaaaaaabbbbbbbbbbbbbbb', 0)]\n",
      "Average Sentence Length:\n",
      "70.957\n"
     ]
    }
   ],
   "source": [
    "def generate_sentence(min_len=0, max_len=20, pos=True):\n",
    "    if pos:\n",
    "        n = np.random.randint(np.ceil(min_len / 3), np.ceil((max_len) / 3))\n",
    "        sentence = n*\"a\" + n*\"b\" + n*\"c\"\n",
    "        return sentence, len(sentence)\n",
    "    else:\n",
    "        n_0 = np.random.randint(0, max_len)\n",
    "        n_1 = np.random.randint(0, max_len - n_0 + 1)\n",
    "        n_2 = np.random.randint(min_len - n_0 - n_1, max_len - n_0 - n_1 + 1)\n",
    "        sentence = n_0 * \"a\" + n_1 * \"b\" + n_2 * \"c\"\n",
    "        return sentence, len(sentence)\n",
    "\n",
    "def create_data(size=10000, balance=0.1, min_len=0, max_len=20, train=True):\n",
    "    data = []\n",
    "    sentence_lengths = []\n",
    "\n",
    "    for i in range(int(size*balance)):\n",
    "        sentence, sentence_length = generate_sentence(min_len=min_len, max_len=max_len, pos=True)\n",
    "        while sentence == \"aabbcc\" and train:\n",
    "            sentence, sentence_length = generate_sentence(min_len=min_len, max_len=max_len, pos=True)\n",
    "        if not train:\n",
    "            sentence, sentence_length = \"aabbcc\", 6\n",
    "        data.append((sentence, 1))\n",
    "        sentence_lengths.append(sentence_length)\n",
    "    for i in range(int((size - (size*balance)))):\n",
    "        sentence, sentence_length = generate_sentence(min_len=min_len, max_len=max_len, pos=False)\n",
    "        data.append((sentence, 0))\n",
    "        sentence_lengths.append(sentence_length)\n",
    "    \n",
    "    random.shuffle(data)\n",
    "    average_length = sum(sentence_lengths) / len(sentence_lengths)\n",
    "    return data, average_length\n",
    "\n",
    "train_data, avg_sent_length_train = create_data(size=1000, balance=0.5, min_len=0, max_len=20, train=True)\n",
    "val_data, avg_sent_length_val = create_data(size=1000, balance=0.5, min_len=0, max_len=20, train=False)\n",
    "test_data, avg_sent_length_test = create_data(size=1000, balance=0.5, min_len=21, max_len=100, train=True)\n",
    "\n",
    "print(f\"Train Data Sample:\\n{train_data}\")\n",
    "print(f\"Average Sentence Length:\\n{avg_sent_length_train}\")\n",
    "print(f\"Val Data Sample:\\n{val_data}\")\n",
    "print(f\"Average Sentence Length:\\n{avg_sent_length_val}\")\n",
    "print(f\"Test Data Sample:\\n{test_data}\")\n",
    "print(f\"Average Sentence Length:\\n{avg_sent_length_test}\")\n"
   ]
  },
  {
   "cell_type": "code",
   "execution_count": 79,
   "metadata": {},
   "outputs": [],
   "source": [
    "# Dependencies\n",
    "import torch\n",
    "import torch.nn as nn\n",
    "import torch.optim as optim"
   ]
  },
  {
   "cell_type": "code",
   "execution_count": 80,
   "metadata": {},
   "outputs": [],
   "source": [
    "# Encoding data\n",
    "char_to_index = {'a':[1,0,0], 'b':[0,1,0], 'c':[0,0,1]}\n",
    "#index_to_char = {v: k for k, v in char_to_index.items()}\n",
    "\n",
    "def creat_tensors(data, max_l):\n",
    "    X = []\n",
    "    y = []\n",
    "    ml = 0\n",
    "\n",
    "    for sent, label in data:\n",
    "        X.append([char_to_index[char] for char in sent])\n",
    "        y.append(label)\n",
    "\n",
    "    # Padding to be able to convert to tensor\n",
    "    X = [sent + [[0,0,0]] * (max_l - len(sent)) for sent in X]\n",
    "\n",
    "    X = torch.tensor(X, dtype=torch.float32)\n",
    "    y = torch.tensor(y, dtype=torch.float32)\n",
    "\n",
    "    return X, y\n",
    "\n",
    "X_train, y_train = creat_tensors(train_data, max_l=100)\n",
    "X_test, y_test = creat_tensors(test_data, max_l=100)\n",
    "X_val, y_val = creat_tensors(val_data, max_l=100)"
   ]
  },
  {
   "cell_type": "code",
   "execution_count": 81,
   "metadata": {},
   "outputs": [],
   "source": [
    "from torch.utils.data import TensorDataset, DataLoader\n",
    "\n",
    "BATCH_SIZE = 64\n",
    "train_set = TensorDataset(X_train, y_train)\n",
    "val_set = TensorDataset(X_val, y_val)\n",
    "testset = TensorDataset(X_test, y_test)\n",
    "\n",
    "train_set, val_same_set = torch.utils.data.random_split(train_set, [900, 100])\n",
    "\n",
    "\n",
    "train_loader = DataLoader(train_set, BATCH_SIZE, shuffle=True)\n",
    "val_loader = DataLoader(val_set, BATCH_SIZE, shuffle=True)\n",
    "val_same_loader = DataLoader(val_same_set, BATCH_SIZE, shuffle=True)\n",
    "test_loader = DataLoader(testset, BATCH_SIZE, shuffle=True)"
   ]
  },
  {
   "cell_type": "markdown",
   "metadata": {},
   "source": [
    "## Train and define model"
   ]
  },
  {
   "cell_type": "code",
   "execution_count": 82,
   "metadata": {},
   "outputs": [
    {
     "name": "stdout",
     "output_type": "stream",
     "text": [
      "GPU State: cpu\n"
     ]
    }
   ],
   "source": [
    "# Set device\n",
    "if torch.cuda.is_available():\n",
    "    device = 'cuda:0'\n",
    "elif torch.backends.mps.is_available():\n",
    "    device = 'mps:0'\n",
    "else:\n",
    "    device = 'cpu'\n",
    "print('GPU State:', device)"
   ]
  },
  {
   "cell_type": "code",
   "execution_count": 83,
   "metadata": {},
   "outputs": [],
   "source": [
    "class LSTM(nn.Module):\n",
    "    def __init__(self, embedding_dim, hidden_dim, hidden_depth) -> None:\n",
    "        super().__init__()\n",
    "\n",
    "        self.lstm = nn.LSTM(embedding_dim, hidden_dim, hidden_depth, batch_first=True)\n",
    "        self.classification= nn.Sequential(\n",
    "            nn.Linear(hidden_dim, 1),\n",
    "            nn.Sigmoid()\n",
    "        )\n",
    "    \n",
    "    def forward(self, x):\n",
    "        output, (hn, cn) = self.lstm(x)\n",
    "        logits = self.classification(output[:,-1,:])\n",
    "        #print(logits.size())\n",
    "        return torch.squeeze(logits)"
   ]
  },
  {
   "cell_type": "code",
   "execution_count": 96,
   "metadata": {},
   "outputs": [
    {
     "name": "stdout",
     "output_type": "stream",
     "text": [
      "Epoch [10/200], Loss: 0.6937\n",
      "Epoch [20/200], Loss: 0.6929\n",
      "Epoch [30/200], Loss: 0.6927\n",
      "Epoch [40/200], Loss: 0.6932\n",
      "Epoch [50/200], Loss: 0.6927\n",
      "Epoch [60/200], Loss: 0.6935\n",
      "Epoch [70/200], Loss: 0.6933\n",
      "Epoch [80/200], Loss: 0.6927\n",
      "Epoch [90/200], Loss: 0.6939\n",
      "Epoch [100/200], Loss: 0.6931\n",
      "Epoch [110/200], Loss: 0.6931\n",
      "Epoch [120/200], Loss: 0.6939\n",
      "Epoch [130/200], Loss: 0.6926\n",
      "Epoch [140/200], Loss: 0.6934\n",
      "Epoch [150/200], Loss: 0.6939\n",
      "Epoch [160/200], Loss: 0.6933\n",
      "Epoch [170/200], Loss: 0.6928\n",
      "Epoch [180/200], Loss: 0.6927\n",
      "Epoch [190/200], Loss: 0.6931\n",
      "Epoch [200/200], Loss: 0.6925\n"
     ]
    }
   ],
   "source": [
    "input_size = X_train.shape[2]\n",
    "hidden_size = 10\n",
    "hidden_depth = 1\n",
    "num_epochs = 200\n",
    "lr=0.001\n",
    "\n",
    "model = LSTM(input_size, hidden_size, hidden_depth)\n",
    "criterion = nn.BCELoss()\n",
    "optimizer = torch.optim.Adam(model.parameters(), lr=lr)\n",
    "\n",
    "for epoch in range(num_epochs):\n",
    "    model.train()\n",
    "    epoch_loss = 0\n",
    "\n",
    "    for batch_idx, (inputs, targets) in enumerate(train_loader):\n",
    "        #inputs = inputs.unsqueeze(-1)  # Add input_size dimension\n",
    "        # Forward pass\n",
    "        #print(inputs.shape)\n",
    "        outputs = model(inputs)\n",
    "        #print(outputs.shape)\n",
    "        #print(outputs)\n",
    "        loss = criterion(outputs, targets)\n",
    "        \n",
    "        # Backward pass and optimization\n",
    "        optimizer.zero_grad()\n",
    "        loss.backward()\n",
    "        \n",
    "        optimizer.step()\n",
    "        \n",
    "        epoch_loss += loss.item()\n",
    "    \n",
    "    if (epoch + 1) % 10 == 0:\n",
    "        print(f'Epoch [{epoch + 1}/{num_epochs}], Loss: {epoch_loss / len(train_loader):.4f}')\n",
    "\n",
    "# for param in model.parameters():\n",
    "#     print(param5"
   ]
  },
  {
   "cell_type": "code",
   "execution_count": 97,
   "metadata": {},
   "outputs": [
    {
     "name": "stdout",
     "output_type": "stream",
     "text": [
      "Test Error: \n",
      " Accuracy: 50.0%, F1-score: 0.6666666865348816, Avg loss: 0.693524 \n",
      "\n"
     ]
    }
   ],
   "source": [
    "from torcheval.metrics import BinaryF1Score\n",
    "\n",
    "def test_loop(dataloader, model, loss_fn):\n",
    "    # Set the model to evaluation mode - important for batch normalization and dropout layers\n",
    "    # Unnecessary in this situation but added for best practices\n",
    "    model.eval()\n",
    "    size = len(dataloader.dataset)\n",
    "    num_batches = len(dataloader)\n",
    "    test_loss, correct = 0, 0\n",
    "    \n",
    "    metric = BinaryF1Score()\n",
    "\n",
    "    # Evaluating the model with torch.no_grad() ensures that no gradients are computed during test mode\n",
    "    # also serves to reduce unnecessary gradient computations and memory usage for tensors with requires_grad=True\n",
    "    with torch.no_grad():\n",
    "        for X, y in dataloader:\n",
    "            pred = model(X)\n",
    "            metric.update(pred, y)\n",
    "            #print(pred)\n",
    "            #print(y)\n",
    "            #print(\"\\n\")\n",
    "\n",
    "            test_loss += loss_fn(pred, y).item()\n",
    "            correct += (torch.round(pred) == y).type(torch.float).sum().item()\n",
    "            \n",
    "\n",
    "\n",
    "    test_loss /= num_batches\n",
    "    \n",
    "    correct /= size\n",
    "    print(f\"Test Error: \\n Accuracy: {(100*correct):>0.1f}%, F1-score: {metric.compute()}, Avg loss: {test_loss:>8f} \\n\")\n",
    "    \n",
    "loss_fn = nn.BCELoss()\n",
    "optimizer = torch.optim.Adam(model.parameters(), lr=lr)\n",
    "\n",
    "\n",
    "test_loop(val_loader, model, loss_fn)"
   ]
  },
  {
   "cell_type": "code",
   "execution_count": 98,
   "metadata": {},
   "outputs": [
    {
     "name": "stdout",
     "output_type": "stream",
     "text": [
      "Test Error: \n",
      " Accuracy: 50.0%, F1-score: 0.6666666865348816, Avg loss: 0.694829 \n",
      "\n"
     ]
    }
   ],
   "source": [
    "test_loop(test_loader, model, loss_fn)"
   ]
  },
  {
   "cell_type": "code",
   "execution_count": 99,
   "metadata": {},
   "outputs": [
    {
     "name": "stdout",
     "output_type": "stream",
     "text": [
      "Test Error: \n",
      " Accuracy: 46.0%, F1-score: 0.6301369667053223, Avg loss: 0.695775 \n",
      "\n"
     ]
    }
   ],
   "source": [
    "test_loop(val_same_loader, model, loss_fn)"
   ]
  },
  {
   "cell_type": "code",
   "execution_count": 100,
   "metadata": {},
   "outputs": [
    {
     "name": "stderr",
     "output_type": "stream",
     "text": [
      "WARNING:root:Warning: Some classes do not exist in the target. F1 scores for these classes will be cast to zeros.\n",
      "WARNING:root:Warning: Some classes do not exist in the target. F1 scores for these classes will be cast to zeros.\n",
      "WARNING:root:Warning: Some classes do not exist in the target. F1 scores for these classes will be cast to zeros.\n",
      "WARNING:root:Warning: Some classes do not exist in the target. F1 scores for these classes will be cast to zeros.\n",
      "WARNING:root:Warning: Some classes do not exist in the target. F1 scores for these classes will be cast to zeros.\n",
      "WARNING:root:Warning: Some classes do not exist in the target. F1 scores for these classes will be cast to zeros.\n",
      "WARNING:root:Warning: Some classes do not exist in the target. F1 scores for these classes will be cast to zeros.\n"
     ]
    },
    {
     "name": "stdout",
     "output_type": "stream",
     "text": [
      "Test Error: \n",
      " Accuracy: 50.0%, F1-score: 0.6666666865348816, Avg loss: 0.694451 \n",
      "\n"
     ]
    },
    {
     "data": {
      "text/plain": [
       "[<matplotlib.lines.Line2D at 0x7f064829c050>]"
      ]
     },
     "execution_count": 100,
     "metadata": {},
     "output_type": "execute_result"
    },
    {
     "data": {
      "image/png": "[encoded data removed]",
      "text/plain": [
       "<Figure size 640x480 with 1 Axes>"
      ]
     },
     "metadata": {},
     "output_type": "display_data"
    }
   ],
   "source": [
    "from torcheval.metrics import BinaryF1Score\n",
    "\n",
    "def get_plot(dataloader, model, loss_fn):\n",
    "    # Set the model to evaluation mode - important for batch normalization and dropout layers\n",
    "    # Unnecessary in this situation but added for best practices\n",
    "    model.eval()\n",
    "    size = len(dataloader.dataset)\n",
    "    num_batches = len(dataloader)\n",
    "    test_loss, correct = 0, 0\n",
    "    \n",
    "    metric = BinaryF1Score()\n",
    "\n",
    "    metric_per_len = [BinaryF1Score() for i in range(21, 101)]\n",
    "    #print(len(metric_per_len))\n",
    "    # Evaluating the model with torch.no_grad() ensures that no gradients are computed during test mode\n",
    "    # also serves to reduce unnecessary gradient computations and memory usage for tensors with requires_grad=True\n",
    "    with torch.no_grad():\n",
    "        for X, y in dataloader:\n",
    "            pred = model(X)\n",
    "            metric.update(pred, y)\n",
    "            #print(pred)\n",
    "            #print(y)\n",
    "            #print(\"\\n\")\n",
    "            for i in range(X.shape[0]):\n",
    "                sent_len = int(X[i].flatten().sum().item())\n",
    "                metric_per_len[sent_len - 21].update(pred, y)\n",
    "\n",
    "            test_loss += loss_fn(pred, y).item()\n",
    "            correct += (torch.round(pred) == y).type(torch.float).sum().item()\n",
    "            \n",
    "\n",
    "\n",
    "    test_loss /= num_batches\n",
    "    \n",
    "    correct /= size\n",
    "    print(f\"Test Error: \\n Accuracy: {(100*correct):>0.1f}%, F1-score: {metric.compute()}, Avg loss: {test_loss:>8f} \\n\")\n",
    "    \n",
    "    return metric_per_len\n",
    "\n",
    "loss_fn = nn.BCELoss()\n",
    "optimizer = torch.optim.Adam(model.parameters(), lr=lr)\n",
    "\n",
    "metrics = get_plot(test_loader, model, loss_fn)\n",
    "\n",
    "f1_scores = [metric.compute() for metric in metrics]\n",
    "f1_scores\n",
    "\n",
    "plt.plot(range(21, 101), f1_scores)\n"
   ]
  },
  {
   "cell_type": "markdown",
   "metadata": {},
   "source": [
    "## Parameter sweep"
   ]
  },
  {
   "cell_type": "code",
   "execution_count": 12,
   "metadata": {},
   "outputs": [
    {
     "name": "stdout",
     "output_type": "stream",
     "text": [
      "{'method': 'random',\n",
      " 'metric': {'goal': 'minimize', 'name': 'loss'},\n",
      " 'parameters': {'hidden_depth': {'values': [1, 2, 3]},\n",
      "                'hidden_size': {'values': [3, 5, 10, 20]},\n",
      "                'lr': {'values': [0.01, 0.001, 0.0001]},\n",
      "                'num_epochs': {'values': [100, 200, 300]}}}\n"
     ]
    }
   ],
   "source": [
    "sweep_config = {\n",
    "    'method': 'random',\n",
    "}\n",
    "\n",
    "metric = {\n",
    "    'name': 'loss',\n",
    "    'goal': 'minimize'   \n",
    "    }\n",
    "\n",
    "sweep_config['metric'] = metric\n",
    "\n",
    "parameters_dict = {\n",
    "    'hidden_size': {\n",
    "        'values': [3, 5, 10, 20]\n",
    "    },\n",
    "    'hidden_depth': {\n",
    "        'values': [1, 2, 3]\n",
    "    },\n",
    "    'lr': {\n",
    "        'values': [1e-2, 1e-3, 1e-4]\n",
    "    },\n",
    "    'num_epochs': {\n",
    "        'values': [100, 200, 300]\n",
    "    },\n",
    "}\n",
    "\n",
    "sweep_config['parameters'] = parameters_dict\n",
    "\n",
    "import pprint\n",
    "\n",
    "pprint.pprint(sweep_config)"
   ]
  },
  {
   "cell_type": "code",
   "execution_count": 13,
   "metadata": {},
   "outputs": [
    {
     "name": "stderr",
     "output_type": "stream",
     "text": [
      "Failed to detect the name of this notebook, you can set it manually with the WANDB_NOTEBOOK_NAME environment variable to enable code saving.\n"
     ]
    },
    {
     "name": "stdout",
     "output_type": "stream",
     "text": [
      "Create sweep with ID: azo0igm3\n",
      "Sweep URL: https://wandb.ai/jarlku/lstm-sweep/sweeps/azo0igm3\n"
     ]
    }
   ],
   "source": [
    "import wandb\n",
    "sweep_id = wandb.sweep(sweep_config, project='lstm-sweep')"
   ]
  },
  {
   "cell_type": "code",
   "execution_count": 14,
   "metadata": {},
   "outputs": [],
   "source": [
    "\n",
    "def train_wandb(config=None):\n",
    "    with wandb.init(config=config):\n",
    "        config = wandb.config\n",
    "        \n",
    "        train_loader = DataLoader(train_set, BATCH_SIZE, shuffle=True)\n",
    "        val_loader = DataLoader(val_set, BATCH_SIZE, shuffle=True)\n",
    "        \n",
    "        model = LSTM(input_size, config.hidden_size, config.hidden_depth)\n",
    "        optimizer = torch.optim.Adam(model.parameters(), lr=config.lr)\n",
    "        criterion = nn.BCELoss()\n",
    "        \n",
    "\n",
    "        for epoch in range(config.num_epochs):\n",
    "            model.train()\n",
    "            epoch_loss = 0\n",
    "\n",
    "            for batch_idx, (inputs, targets) in enumerate(train_loader):\n",
    "                #inputs = inputs.unsqueeze(-1)  # Add input_size dimension\n",
    "                # Forward pass\n",
    "                outputs = model(inputs)\n",
    "                #print(outputs)\n",
    "                loss = criterion(outputs, targets)\n",
    "                \n",
    "                # Backward pass and optimization\n",
    "                optimizer.zero_grad()\n",
    "                loss.backward()\n",
    "                optimizer.step()\n",
    "                \n",
    "                epoch_loss += loss.item()\n",
    "            \n",
    "            wandb.log({'loss': epoch_loss / len(train_loader)})\n",
    "            if (epoch + 1) % 10 == 0:\n",
    "                print(f'Epoch [{epoch + 1}/{config.num_epochs}], Loss: {epoch_loss / len(train_loader):.4f}')\n",
    "        \n",
    "        metric = BinaryF1Score()\n",
    "        for inputs, targets in val_loader:\n",
    "            outputs = model(inputs)\n",
    "            loss = criterion(outputs, targets)\n",
    "            wandb.log({'val_loss': loss})\n",
    "            metric.update(outputs, targets)\n",
    "            wandb.log({'val_f1': metric.compute()})\n",
    "            \n",
    "            "
   ]
  },
  {
   "cell_type": "markdown",
   "metadata": {},
   "source": [
    "wandb.agent(sweep_id, train, count=5)"
   ]
  },
  {
   "cell_type": "code",
   "execution_count": 15,
   "metadata": {},
   "outputs": [
    {
     "name": "stderr",
     "output_type": "stream",
     "text": [
      "\u001b[34m\u001b[1mwandb\u001b[0m: Agent Starting Run: as1vowmx with config:\n",
      "\u001b[34m\u001b[1mwandb\u001b[0m: \thidden_depth: 1\n",
      "\u001b[34m\u001b[1mwandb\u001b[0m: \thidden_size: 5\n",
      "\u001b[34m\u001b[1mwandb\u001b[0m: \tlr: 0.01\n",
      "\u001b[34m\u001b[1mwandb\u001b[0m: \tnum_epochs: 200\n",
      "Failed to detect the name of this notebook, you can set it manually with the WANDB_NOTEBOOK_NAME environment variable to enable code saving.\n",
      "\u001b[34m\u001b[1mwandb\u001b[0m: Currently logged in as: \u001b[33mjarlsoeren\u001b[0m (\u001b[33mjarlku\u001b[0m). Use \u001b[1m`wandb login --relogin`\u001b[0m to force relogin\n"
     ]
    },
    {
     "data": {
      "text/html": [
       "wandb version 0.17.0 is available!  To upgrade, please run:\n",
       " $ pip install wandb --upgrade"
      ],
      "text/plain": [
       "<IPython.core.display.HTML object>"
      ]
     },
     "metadata": {},
     "output_type": "display_data"
    },
    {
     "data": {
      "text/html": [
       "Tracking run with wandb version 0.16.6"
      ],
      "text/plain": [
       "<IPython.core.display.HTML object>"
      ]
     },
     "metadata": {},
     "output_type": "display_data"
    },
    {
     "data": {
      "text/html": [
       "Run data is saved locally in <code>/home/jarl/UniStuff/ADL/ADL/assignment_3/wandb/run-20240527_110636-as1vowmx</code>"
      ],
      "text/plain": [
       "<IPython.core.display.HTML object>"
      ]
     },
     "metadata": {},
     "output_type": "display_data"
    },
    {
     "data": {
      "text/html": [
       "Syncing run <strong><a href='https://wandb.ai/jarlku/lstm-sweep/runs/as1vowmx' target=\"_blank\">gentle-sweep-1</a></strong> to <a href='https://wandb.ai/jarlku/lstm-sweep' target=\"_blank\">Weights & Biases</a> (<a href='https://wandb.me/run' target=\"_blank\">docs</a>)<br/>Sweep page: <a href='https://wandb.ai/jarlku/lstm-sweep/sweeps/azo0igm3' target=\"_blank\">https://wandb.ai/jarlku/lstm-sweep/sweeps/azo0igm3</a>"
      ],
      "text/plain": [
       "<IPython.core.display.HTML object>"
      ]
     },
     "metadata": {},
     "output_type": "display_data"
    },
    {
     "data": {
      "text/html": [
       " View project at <a href='https://wandb.ai/jarlku/lstm-sweep' target=\"_blank\">https://wandb.ai/jarlku/lstm-sweep</a>"
      ],
      "text/plain": [
       "<IPython.core.display.HTML object>"
      ]
     },
     "metadata": {},
     "output_type": "display_data"
    },
    {
     "data": {
      "text/html": [
       " View sweep at <a href='https://wandb.ai/jarlku/lstm-sweep/sweeps/azo0igm3' target=\"_blank\">https://wandb.ai/jarlku/lstm-sweep/sweeps/azo0igm3</a>"
      ],
      "text/plain": [
       "<IPython.core.display.HTML object>"
      ]
     },
     "metadata": {},
     "output_type": "display_data"
    },
    {
     "data": {
      "text/html": [
       " View run at <a href='https://wandb.ai/jarlku/lstm-sweep/runs/as1vowmx' target=\"_blank\">https://wandb.ai/jarlku/lstm-sweep/runs/as1vowmx</a>"
      ],
      "text/plain": [
       "<IPython.core.display.HTML object>"
      ]
     },
     "metadata": {},
     "output_type": "display_data"
    },
    {
     "name": "stdout",
     "output_type": "stream",
     "text": [
      "Epoch [10/200], Loss: 0.6934\n",
      "Epoch [20/200], Loss: 0.2405\n",
      "Epoch [30/200], Loss: 0.2043\n",
      "Epoch [40/200], Loss: 0.2157\n",
      "Epoch [50/200], Loss: 0.1797\n",
      "Epoch [60/200], Loss: 0.2603\n",
      "Epoch [70/200], Loss: 0.1857\n",
      "Epoch [80/200], Loss: 0.2588\n",
      "Epoch [90/200], Loss: 0.2297\n",
      "Epoch [100/200], Loss: 0.2273\n",
      "Epoch [110/200], Loss: 0.2271\n",
      "Epoch [120/200], Loss: 0.2544\n",
      "Epoch [130/200], Loss: 0.2525\n",
      "Epoch [140/200], Loss: 0.2316\n",
      "Epoch [150/200], Loss: 0.2297\n",
      "Epoch [160/200], Loss: 0.2581\n",
      "Epoch [170/200], Loss: 0.2272\n",
      "Epoch [180/200], Loss: 0.2268\n",
      "Epoch [190/200], Loss: 0.2609\n",
      "Epoch [200/200], Loss: 0.2294\n"
     ]
    },
    {
     "data": {
      "text/html": [
       "<style>\n",
       "    table.wandb td:nth-child(1) { padding: 0 10px; text-align: left ; width: auto;} td:nth-child(2) {text-align: left ; width: 100%}\n",
       "    .wandb-row { display: flex; flex-direction: row; flex-wrap: wrap; justify-content: flex-start; width: 100% }\n",
       "    .wandb-col { display: flex; flex-direction: column; flex-basis: 100%; flex: 1; padding: 10px; }\n",
       "    </style>\n",
       "<div class=\"wandb-row\"><div class=\"wandb-col\"><h3>Run history:</h3><br/><table class=\"wandb\"><tr><td>loss</td><td>███▂▁▃▁▁▁▁▁▂▁▂▁▂▂▂▂▂▂▂▂▂▂▂▂▂▂▂▂▂▂▂▂▂▂▂▂▂</td></tr><tr><td>val_f1</td><td>█▅▁▅▅▄▃▃▅▆▇█▇█▇▇</td></tr><tr><td>val_loss</td><td>▄▅█▂▄▆▇▄▁▂▃▁▅▂█▄</td></tr></table><br/></div><div class=\"wandb-col\"><h3>Run summary:</h3><br/><table class=\"wandb\"><tr><td>loss</td><td>0.22936</td></tr><tr><td>val_f1</td><td>0.92421</td></tr><tr><td>val_loss</td><td>0.23335</td></tr></table><br/></div></div>"
      ],
      "text/plain": [
       "<IPython.core.display.HTML object>"
      ]
     },
     "metadata": {},
     "output_type": "display_data"
    },
    {
     "data": {
      "text/html": [
       " View run <strong style=\"color:#cdcd00\">gentle-sweep-1</strong> at: <a href='https://wandb.ai/jarlku/lstm-sweep/runs/as1vowmx' target=\"_blank\">https://wandb.ai/jarlku/lstm-sweep/runs/as1vowmx</a><br/> View project at: <a href='https://wandb.ai/jarlku/lstm-sweep' target=\"_blank\">https://wandb.ai/jarlku/lstm-sweep</a><br/>Synced 6 W&B file(s), 0 media file(s), 0 artifact file(s) and 0 other file(s)"
      ],
      "text/plain": [
       "<IPython.core.display.HTML object>"
      ]
     },
     "metadata": {},
     "output_type": "display_data"
    },
    {
     "data": {
      "text/html": [
       "Find logs at: <code>./wandb/run-20240527_110636-as1vowmx/logs</code>"
      ],
      "text/plain": [
       "<IPython.core.display.HTML object>"
      ]
     },
     "metadata": {},
     "output_type": "display_data"
    },
    {
     "name": "stderr",
     "output_type": "stream",
     "text": [
      "\u001b[34m\u001b[1mwandb\u001b[0m: Agent Starting Run: msgvj3ie with config:\n",
      "\u001b[34m\u001b[1mwandb\u001b[0m: \thidden_depth: 3\n",
      "\u001b[34m\u001b[1mwandb\u001b[0m: \thidden_size: 3\n",
      "\u001b[34m\u001b[1mwandb\u001b[0m: \tlr: 0.001\n",
      "\u001b[34m\u001b[1mwandb\u001b[0m: \tnum_epochs: 300\n",
      "Failed to detect the name of this notebook, you can set it manually with the WANDB_NOTEBOOK_NAME environment variable to enable code saving.\n"
     ]
    },
    {
     "data": {
      "text/html": [
       "wandb version 0.17.0 is available!  To upgrade, please run:\n",
       " $ pip install wandb --upgrade"
      ],
      "text/plain": [
       "<IPython.core.display.HTML object>"
      ]
     },
     "metadata": {},
     "output_type": "display_data"
    },
    {
     "data": {
      "text/html": [
       "Tracking run with wandb version 0.16.6"
      ],
      "text/plain": [
       "<IPython.core.display.HTML object>"
      ]
     },
     "metadata": {},
     "output_type": "display_data"
    },
    {
     "data": {
      "text/html": [
       "Run data is saved locally in <code>/home/jarl/UniStuff/ADL/ADL/assignment_3/wandb/run-20240527_110658-msgvj3ie</code>"
      ],
      "text/plain": [
       "<IPython.core.display.HTML object>"
      ]
     },
     "metadata": {},
     "output_type": "display_data"
    },
    {
     "data": {
      "text/html": [
       "Syncing run <strong><a href='https://wandb.ai/jarlku/lstm-sweep/runs/msgvj3ie' target=\"_blank\">radiant-sweep-2</a></strong> to <a href='https://wandb.ai/jarlku/lstm-sweep' target=\"_blank\">Weights & Biases</a> (<a href='https://wandb.me/run' target=\"_blank\">docs</a>)<br/>Sweep page: <a href='https://wandb.ai/jarlku/lstm-sweep/sweeps/azo0igm3' target=\"_blank\">https://wandb.ai/jarlku/lstm-sweep/sweeps/azo0igm3</a>"
      ],
      "text/plain": [
       "<IPython.core.display.HTML object>"
      ]
     },
     "metadata": {},
     "output_type": "display_data"
    },
    {
     "data": {
      "text/html": [
       " View project at <a href='https://wandb.ai/jarlku/lstm-sweep' target=\"_blank\">https://wandb.ai/jarlku/lstm-sweep</a>"
      ],
      "text/plain": [
       "<IPython.core.display.HTML object>"
      ]
     },
     "metadata": {},
     "output_type": "display_data"
    },
    {
     "data": {
      "text/html": [
       " View sweep at <a href='https://wandb.ai/jarlku/lstm-sweep/sweeps/azo0igm3' target=\"_blank\">https://wandb.ai/jarlku/lstm-sweep/sweeps/azo0igm3</a>"
      ],
      "text/plain": [
       "<IPython.core.display.HTML object>"
      ]
     },
     "metadata": {},
     "output_type": "display_data"
    },
    {
     "data": {
      "text/html": [
       " View run at <a href='https://wandb.ai/jarlku/lstm-sweep/runs/msgvj3ie' target=\"_blank\">https://wandb.ai/jarlku/lstm-sweep/runs/msgvj3ie</a>"
      ],
      "text/plain": [
       "<IPython.core.display.HTML object>"
      ]
     },
     "metadata": {},
     "output_type": "display_data"
    },
    {
     "name": "stdout",
     "output_type": "stream",
     "text": [
      "Epoch [10/300], Loss: 0.6912\n",
      "Epoch [20/300], Loss: 0.6936\n",
      "Epoch [30/300], Loss: 0.6927\n",
      "Epoch [40/300], Loss: 0.5559\n",
      "Epoch [50/300], Loss: 0.2685\n",
      "Epoch [60/300], Loss: 0.2097\n",
      "Epoch [70/300], Loss: 0.2281\n",
      "Epoch [80/300], Loss: 0.1879\n",
      "Epoch [90/300], Loss: 0.2207\n",
      "Epoch [100/300], Loss: 0.1805\n",
      "Epoch [110/300], Loss: 0.1763\n",
      "Epoch [120/300], Loss: 0.1752\n",
      "Epoch [130/300], Loss: 0.1713\n",
      "Epoch [140/300], Loss: 0.2125\n",
      "Epoch [150/300], Loss: 0.1822\n",
      "Epoch [160/300], Loss: 0.1810\n",
      "Epoch [170/300], Loss: 0.2600\n",
      "Epoch [180/300], Loss: 0.2582\n",
      "Epoch [190/300], Loss: 0.2857\n",
      "Epoch [200/300], Loss: 0.2274\n",
      "Epoch [210/300], Loss: 0.2542\n",
      "Epoch [220/300], Loss: 0.2269\n",
      "Epoch [230/300], Loss: 0.2202\n",
      "Epoch [240/300], Loss: 0.2259\n",
      "Epoch [250/300], Loss: 0.2241\n",
      "Epoch [260/300], Loss: 0.2238\n",
      "Epoch [270/300], Loss: 0.2076\n",
      "Epoch [280/300], Loss: 0.2001\n",
      "Epoch [290/300], Loss: 0.1619\n",
      "Epoch [300/300], Loss: 0.2382\n"
     ]
    },
    {
     "data": {
      "text/html": [
       "<style>\n",
       "    table.wandb td:nth-child(1) { padding: 0 10px; text-align: left ; width: auto;} td:nth-child(2) {text-align: left ; width: 100%}\n",
       "    .wandb-row { display: flex; flex-direction: row; flex-wrap: wrap; justify-content: flex-start; width: 100% }\n",
       "    .wandb-col { display: flex; flex-direction: column; flex-basis: 100%; flex: 1; padding: 10px; }\n",
       "    </style>\n",
       "<div class=\"wandb-row\"><div class=\"wandb-col\"><h3>Run history:</h3><br/><table class=\"wandb\"><tr><td>loss</td><td>█████▆▃▂▂▁▁▁▂▁▁▂▁▁▂▁▁▁▂▂▂▂▂▂▂▃▂▂▂▂▂▂▁▁▁▂</td></tr><tr><td>val_f1</td><td>▁█▇▇▇██▇▇▇▇██▇██</td></tr><tr><td>val_loss</td><td>█▁▄▄▃▃▃▆▄▅▅▂▄▄▁▃</td></tr></table><br/></div><div class=\"wandb-col\"><h3>Run summary:</h3><br/><table class=\"wandb\"><tr><td>loss</td><td>0.23819</td></tr><tr><td>val_f1</td><td>0.93897</td></tr><tr><td>val_loss</td><td>0.17922</td></tr></table><br/></div></div>"
      ],
      "text/plain": [
       "<IPython.core.display.HTML object>"
      ]
     },
     "metadata": {},
     "output_type": "display_data"
    },
    {
     "data": {
      "text/html": [
       " View run <strong style=\"color:#cdcd00\">radiant-sweep-2</strong> at: <a href='https://wandb.ai/jarlku/lstm-sweep/runs/msgvj3ie' target=\"_blank\">https://wandb.ai/jarlku/lstm-sweep/runs/msgvj3ie</a><br/> View project at: <a href='https://wandb.ai/jarlku/lstm-sweep' target=\"_blank\">https://wandb.ai/jarlku/lstm-sweep</a><br/>Synced 6 W&B file(s), 0 media file(s), 0 artifact file(s) and 0 other file(s)"
      ],
      "text/plain": [
       "<IPython.core.display.HTML object>"
      ]
     },
     "metadata": {},
     "output_type": "display_data"
    },
    {
     "data": {
      "text/html": [
       "Find logs at: <code>./wandb/run-20240527_110658-msgvj3ie/logs</code>"
      ],
      "text/plain": [
       "<IPython.core.display.HTML object>"
      ]
     },
     "metadata": {},
     "output_type": "display_data"
    },
    {
     "name": "stderr",
     "output_type": "stream",
     "text": [
      "\u001b[34m\u001b[1mwandb\u001b[0m: Agent Starting Run: kmzexcw2 with config:\n",
      "\u001b[34m\u001b[1mwandb\u001b[0m: \thidden_depth: 2\n",
      "\u001b[34m\u001b[1mwandb\u001b[0m: \thidden_size: 3\n",
      "\u001b[34m\u001b[1mwandb\u001b[0m: \tlr: 0.001\n",
      "\u001b[34m\u001b[1mwandb\u001b[0m: \tnum_epochs: 300\n",
      "Failed to detect the name of this notebook, you can set it manually with the WANDB_NOTEBOOK_NAME environment variable to enable code saving.\n"
     ]
    },
    {
     "data": {
      "text/html": [
       "wandb version 0.17.0 is available!  To upgrade, please run:\n",
       " $ pip install wandb --upgrade"
      ],
      "text/plain": [
       "<IPython.core.display.HTML object>"
      ]
     },
     "metadata": {},
     "output_type": "display_data"
    },
    {
     "data": {
      "text/html": [
       "Tracking run with wandb version 0.16.6"
      ],
      "text/plain": [
       "<IPython.core.display.HTML object>"
      ]
     },
     "metadata": {},
     "output_type": "display_data"
    },
    {
     "data": {
      "text/html": [
       "Run data is saved locally in <code>/home/jarl/UniStuff/ADL/ADL/assignment_3/wandb/run-20240527_110736-kmzexcw2</code>"
      ],
      "text/plain": [
       "<IPython.core.display.HTML object>"
      ]
     },
     "metadata": {},
     "output_type": "display_data"
    },
    {
     "data": {
      "text/html": [
       "Syncing run <strong><a href='https://wandb.ai/jarlku/lstm-sweep/runs/kmzexcw2' target=\"_blank\">serene-sweep-3</a></strong> to <a href='https://wandb.ai/jarlku/lstm-sweep' target=\"_blank\">Weights & Biases</a> (<a href='https://wandb.me/run' target=\"_blank\">docs</a>)<br/>Sweep page: <a href='https://wandb.ai/jarlku/lstm-sweep/sweeps/azo0igm3' target=\"_blank\">https://wandb.ai/jarlku/lstm-sweep/sweeps/azo0igm3</a>"
      ],
      "text/plain": [
       "<IPython.core.display.HTML object>"
      ]
     },
     "metadata": {},
     "output_type": "display_data"
    },
    {
     "data": {
      "text/html": [
       " View project at <a href='https://wandb.ai/jarlku/lstm-sweep' target=\"_blank\">https://wandb.ai/jarlku/lstm-sweep</a>"
      ],
      "text/plain": [
       "<IPython.core.display.HTML object>"
      ]
     },
     "metadata": {},
     "output_type": "display_data"
    },
    {
     "data": {
      "text/html": [
       " View sweep at <a href='https://wandb.ai/jarlku/lstm-sweep/sweeps/azo0igm3' target=\"_blank\">https://wandb.ai/jarlku/lstm-sweep/sweeps/azo0igm3</a>"
      ],
      "text/plain": [
       "<IPython.core.display.HTML object>"
      ]
     },
     "metadata": {},
     "output_type": "display_data"
    },
    {
     "data": {
      "text/html": [
       " View run at <a href='https://wandb.ai/jarlku/lstm-sweep/runs/kmzexcw2' target=\"_blank\">https://wandb.ai/jarlku/lstm-sweep/runs/kmzexcw2</a>"
      ],
      "text/plain": [
       "<IPython.core.display.HTML object>"
      ]
     },
     "metadata": {},
     "output_type": "display_data"
    },
    {
     "name": "stdout",
     "output_type": "stream",
     "text": [
      "Epoch [10/300], Loss: 0.7029\n",
      "Epoch [20/300], Loss: 0.6940\n",
      "Epoch [30/300], Loss: 0.6934\n",
      "Epoch [40/300], Loss: 0.6932\n",
      "Epoch [50/300], Loss: 0.6931\n",
      "Epoch [60/300], Loss: 0.3870\n",
      "Epoch [70/300], Loss: 0.2567\n",
      "Epoch [80/300], Loss: 0.2889\n",
      "Epoch [90/300], Loss: 0.2188\n",
      "Epoch [100/300], Loss: 0.2095\n",
      "Epoch [110/300], Loss: 0.2137\n",
      "Epoch [120/300], Loss: 0.2043\n",
      "Epoch [130/300], Loss: 0.1994\n",
      "Epoch [140/300], Loss: 0.1991\n",
      "Epoch [150/300], Loss: 0.1993\n",
      "Epoch [160/300], Loss: 0.2361\n",
      "Epoch [170/300], Loss: 0.2960\n",
      "Epoch [180/300], Loss: 0.2411\n",
      "Epoch [190/300], Loss: 0.2415\n",
      "Epoch [200/300], Loss: 0.2022\n",
      "Epoch [210/300], Loss: 0.2001\n",
      "Epoch [220/300], Loss: 0.1980\n",
      "Epoch [230/300], Loss: 0.1947\n",
      "Epoch [240/300], Loss: 0.1942\n",
      "Epoch [250/300], Loss: 0.1919\n",
      "Epoch [260/300], Loss: 0.2265\n",
      "Epoch [270/300], Loss: 0.1980\n",
      "Epoch [280/300], Loss: 0.1961\n",
      "Epoch [290/300], Loss: 0.1921\n",
      "Epoch [300/300], Loss: 0.2245\n"
     ]
    },
    {
     "data": {
      "text/html": [
       "<style>\n",
       "    table.wandb td:nth-child(1) { padding: 0 10px; text-align: left ; width: auto;} td:nth-child(2) {text-align: left ; width: 100%}\n",
       "    .wandb-row { display: flex; flex-direction: row; flex-wrap: wrap; justify-content: flex-start; width: 100% }\n",
       "    .wandb-col { display: flex; flex-direction: column; flex-basis: 100%; flex: 1; padding: 10px; }\n",
       "    </style>\n",
       "<div class=\"wandb-row\"><div class=\"wandb-col\"><h3>Run history:</h3><br/><table class=\"wandb\"><tr><td>loss</td><td>███████▆▃▂▂▁▁▁▁▁▂▁▁▁▁▂▇▂▁▁▁▁▁▁▂▁▁▁▁▁▁▁▂▁</td></tr><tr><td>val_f1</td><td>▇█▁▂▂▂▁▃▄▄▅▅▅▄▄▄</td></tr><tr><td>val_loss</td><td>▂▃█▂▆▃▅▁▁▂▁▄▂▇▄▃</td></tr></table><br/></div><div class=\"wandb-col\"><h3>Run summary:</h3><br/><table class=\"wandb\"><tr><td>loss</td><td>0.22445</td></tr><tr><td>val_f1</td><td>0.94518</td></tr><tr><td>val_loss</td><td>0.17353</td></tr></table><br/></div></div>"
      ],
      "text/plain": [
       "<IPython.core.display.HTML object>"
      ]
     },
     "metadata": {},
     "output_type": "display_data"
    },
    {
     "data": {
      "text/html": [
       " View run <strong style=\"color:#cdcd00\">serene-sweep-3</strong> at: <a href='https://wandb.ai/jarlku/lstm-sweep/runs/kmzexcw2' target=\"_blank\">https://wandb.ai/jarlku/lstm-sweep/runs/kmzexcw2</a><br/> View project at: <a href='https://wandb.ai/jarlku/lstm-sweep' target=\"_blank\">https://wandb.ai/jarlku/lstm-sweep</a><br/>Synced 6 W&B file(s), 0 media file(s), 0 artifact file(s) and 0 other file(s)"
      ],
      "text/plain": [
       "<IPython.core.display.HTML object>"
      ]
     },
     "metadata": {},
     "output_type": "display_data"
    },
    {
     "data": {
      "text/html": [
       "Find logs at: <code>./wandb/run-20240527_110736-kmzexcw2/logs</code>"
      ],
      "text/plain": [
       "<IPython.core.display.HTML object>"
      ]
     },
     "metadata": {},
     "output_type": "display_data"
    },
    {
     "name": "stderr",
     "output_type": "stream",
     "text": [
      "\u001b[34m\u001b[1mwandb\u001b[0m: Agent Starting Run: oh5ssg2r with config:\n",
      "\u001b[34m\u001b[1mwandb\u001b[0m: \thidden_depth: 2\n",
      "\u001b[34m\u001b[1mwandb\u001b[0m: \thidden_size: 20\n",
      "\u001b[34m\u001b[1mwandb\u001b[0m: \tlr: 0.001\n",
      "\u001b[34m\u001b[1mwandb\u001b[0m: \tnum_epochs: 100\n",
      "Failed to detect the name of this notebook, you can set it manually with the WANDB_NOTEBOOK_NAME environment variable to enable code saving.\n"
     ]
    },
    {
     "data": {
      "text/html": [
       "wandb version 0.17.0 is available!  To upgrade, please run:\n",
       " $ pip install wandb --upgrade"
      ],
      "text/plain": [
       "<IPython.core.display.HTML object>"
      ]
     },
     "metadata": {},
     "output_type": "display_data"
    },
    {
     "data": {
      "text/html": [
       "Tracking run with wandb version 0.16.6"
      ],
      "text/plain": [
       "<IPython.core.display.HTML object>"
      ]
     },
     "metadata": {},
     "output_type": "display_data"
    },
    {
     "data": {
      "text/html": [
       "Run data is saved locally in <code>/home/jarl/UniStuff/ADL/ADL/assignment_3/wandb/run-20240527_110806-oh5ssg2r</code>"
      ],
      "text/plain": [
       "<IPython.core.display.HTML object>"
      ]
     },
     "metadata": {},
     "output_type": "display_data"
    },
    {
     "data": {
      "text/html": [
       "Syncing run <strong><a href='https://wandb.ai/jarlku/lstm-sweep/runs/oh5ssg2r' target=\"_blank\">ethereal-sweep-4</a></strong> to <a href='https://wandb.ai/jarlku/lstm-sweep' target=\"_blank\">Weights & Biases</a> (<a href='https://wandb.me/run' target=\"_blank\">docs</a>)<br/>Sweep page: <a href='https://wandb.ai/jarlku/lstm-sweep/sweeps/azo0igm3' target=\"_blank\">https://wandb.ai/jarlku/lstm-sweep/sweeps/azo0igm3</a>"
      ],
      "text/plain": [
       "<IPython.core.display.HTML object>"
      ]
     },
     "metadata": {},
     "output_type": "display_data"
    },
    {
     "data": {
      "text/html": [
       " View project at <a href='https://wandb.ai/jarlku/lstm-sweep' target=\"_blank\">https://wandb.ai/jarlku/lstm-sweep</a>"
      ],
      "text/plain": [
       "<IPython.core.display.HTML object>"
      ]
     },
     "metadata": {},
     "output_type": "display_data"
    },
    {
     "data": {
      "text/html": [
       " View sweep at <a href='https://wandb.ai/jarlku/lstm-sweep/sweeps/azo0igm3' target=\"_blank\">https://wandb.ai/jarlku/lstm-sweep/sweeps/azo0igm3</a>"
      ],
      "text/plain": [
       "<IPython.core.display.HTML object>"
      ]
     },
     "metadata": {},
     "output_type": "display_data"
    },
    {
     "data": {
      "text/html": [
       " View run at <a href='https://wandb.ai/jarlku/lstm-sweep/runs/oh5ssg2r' target=\"_blank\">https://wandb.ai/jarlku/lstm-sweep/runs/oh5ssg2r</a>"
      ],
      "text/plain": [
       "<IPython.core.display.HTML object>"
      ]
     },
     "metadata": {},
     "output_type": "display_data"
    },
    {
     "name": "stdout",
     "output_type": "stream",
     "text": [
      "Epoch [10/100], Loss: 0.6934\n",
      "Epoch [20/100], Loss: 0.6080\n",
      "Epoch [30/100], Loss: 0.5894\n",
      "Epoch [40/100], Loss: 0.6267\n",
      "Epoch [50/100], Loss: 0.5989\n",
      "Epoch [60/100], Loss: 0.6081\n",
      "Epoch [70/100], Loss: 0.5936\n",
      "Epoch [80/100], Loss: 0.5990\n",
      "Epoch [90/100], Loss: 0.6002\n",
      "Epoch [100/100], Loss: 0.5943\n"
     ]
    },
    {
     "data": {
      "text/html": [
       "<style>\n",
       "    table.wandb td:nth-child(1) { padding: 0 10px; text-align: left ; width: auto;} td:nth-child(2) {text-align: left ; width: 100%}\n",
       "    .wandb-row { display: flex; flex-direction: row; flex-wrap: wrap; justify-content: flex-start; width: 100% }\n",
       "    .wandb-col { display: flex; flex-direction: column; flex-basis: 100%; flex: 1; padding: 10px; }\n",
       "    </style>\n",
       "<div class=\"wandb-row\"><div class=\"wandb-col\"><h3>Run history:</h3><br/><table class=\"wandb\"><tr><td>loss</td><td>▆▆▆▆▆▁█▅▄▄▄▄▄▄▄▄▄▄▄▄▄▄▄▄▄▄▄▄▅▄▄▄▄▄▄▄▅▄▄▄</td></tr><tr><td>val_f1</td><td>▁▁▁▁▁▁▁▁▁▁▁▁▁▁▁▁</td></tr><tr><td>val_loss</td><td>▁▆▂▃▂█▃▂▅▂▄▃▂▅▁▄</td></tr></table><br/></div><div class=\"wandb-col\"><h3>Run summary:</h3><br/><table class=\"wandb\"><tr><td>loss</td><td>0.5943</td></tr><tr><td>val_f1</td><td>0.0</td></tr><tr><td>val_loss</td><td>0.76798</td></tr></table><br/></div></div>"
      ],
      "text/plain": [
       "<IPython.core.display.HTML object>"
      ]
     },
     "metadata": {},
     "output_type": "display_data"
    },
    {
     "data": {
      "text/html": [
       " View run <strong style=\"color:#cdcd00\">ethereal-sweep-4</strong> at: <a href='https://wandb.ai/jarlku/lstm-sweep/runs/oh5ssg2r' target=\"_blank\">https://wandb.ai/jarlku/lstm-sweep/runs/oh5ssg2r</a><br/> View project at: <a href='https://wandb.ai/jarlku/lstm-sweep' target=\"_blank\">https://wandb.ai/jarlku/lstm-sweep</a><br/>Synced 6 W&B file(s), 0 media file(s), 0 artifact file(s) and 0 other file(s)"
      ],
      "text/plain": [
       "<IPython.core.display.HTML object>"
      ]
     },
     "metadata": {},
     "output_type": "display_data"
    },
    {
     "data": {
      "text/html": [
       "Find logs at: <code>./wandb/run-20240527_110806-oh5ssg2r/logs</code>"
      ],
      "text/plain": [
       "<IPython.core.display.HTML object>"
      ]
     },
     "metadata": {},
     "output_type": "display_data"
    },
    {
     "name": "stderr",
     "output_type": "stream",
     "text": [
      "\u001b[34m\u001b[1mwandb\u001b[0m: Sweep Agent: Waiting for job.\n",
      "\u001b[34m\u001b[1mwandb\u001b[0m: Job received.\n",
      "\u001b[34m\u001b[1mwandb\u001b[0m: Agent Starting Run: hljxwpqe with config:\n",
      "\u001b[34m\u001b[1mwandb\u001b[0m: \thidden_depth: 1\n",
      "\u001b[34m\u001b[1mwandb\u001b[0m: \thidden_size: 10\n",
      "\u001b[34m\u001b[1mwandb\u001b[0m: \tlr: 0.001\n",
      "\u001b[34m\u001b[1mwandb\u001b[0m: \tnum_epochs: 200\n",
      "Failed to detect the name of this notebook, you can set it manually with the WANDB_NOTEBOOK_NAME environment variable to enable code saving.\n"
     ]
    },
    {
     "data": {
      "text/html": [
       "wandb version 0.17.0 is available!  To upgrade, please run:\n",
       " $ pip install wandb --upgrade"
      ],
      "text/plain": [
       "<IPython.core.display.HTML object>"
      ]
     },
     "metadata": {},
     "output_type": "display_data"
    },
    {
     "data": {
      "text/html": [
       "Tracking run with wandb version 0.16.6"
      ],
      "text/plain": [
       "<IPython.core.display.HTML object>"
      ]
     },
     "metadata": {},
     "output_type": "display_data"
    },
    {
     "data": {
      "text/html": [
       "Run data is saved locally in <code>/home/jarl/UniStuff/ADL/ADL/assignment_3/wandb/run-20240527_110839-hljxwpqe</code>"
      ],
      "text/plain": [
       "<IPython.core.display.HTML object>"
      ]
     },
     "metadata": {},
     "output_type": "display_data"
    },
    {
     "data": {
      "text/html": [
       "Syncing run <strong><a href='https://wandb.ai/jarlku/lstm-sweep/runs/hljxwpqe' target=\"_blank\">woven-sweep-5</a></strong> to <a href='https://wandb.ai/jarlku/lstm-sweep' target=\"_blank\">Weights & Biases</a> (<a href='https://wandb.me/run' target=\"_blank\">docs</a>)<br/>Sweep page: <a href='https://wandb.ai/jarlku/lstm-sweep/sweeps/azo0igm3' target=\"_blank\">https://wandb.ai/jarlku/lstm-sweep/sweeps/azo0igm3</a>"
      ],
      "text/plain": [
       "<IPython.core.display.HTML object>"
      ]
     },
     "metadata": {},
     "output_type": "display_data"
    },
    {
     "data": {
      "text/html": [
       " View project at <a href='https://wandb.ai/jarlku/lstm-sweep' target=\"_blank\">https://wandb.ai/jarlku/lstm-sweep</a>"
      ],
      "text/plain": [
       "<IPython.core.display.HTML object>"
      ]
     },
     "metadata": {},
     "output_type": "display_data"
    },
    {
     "data": {
      "text/html": [
       " View sweep at <a href='https://wandb.ai/jarlku/lstm-sweep/sweeps/azo0igm3' target=\"_blank\">https://wandb.ai/jarlku/lstm-sweep/sweeps/azo0igm3</a>"
      ],
      "text/plain": [
       "<IPython.core.display.HTML object>"
      ]
     },
     "metadata": {},
     "output_type": "display_data"
    },
    {
     "data": {
      "text/html": [
       " View run at <a href='https://wandb.ai/jarlku/lstm-sweep/runs/hljxwpqe' target=\"_blank\">https://wandb.ai/jarlku/lstm-sweep/runs/hljxwpqe</a>"
      ],
      "text/plain": [
       "<IPython.core.display.HTML object>"
      ]
     },
     "metadata": {},
     "output_type": "display_data"
    },
    {
     "name": "stdout",
     "output_type": "stream",
     "text": [
      "Epoch [10/200], Loss: 0.6952\n",
      "Epoch [20/200], Loss: 0.6932\n",
      "Epoch [30/200], Loss: 0.6933\n",
      "Epoch [40/200], Loss: 0.6937\n",
      "Epoch [50/200], Loss: 0.6934\n",
      "Epoch [60/200], Loss: 0.6936\n",
      "Epoch [70/200], Loss: 0.6931\n",
      "Epoch [80/200], Loss: 0.3022\n",
      "Epoch [90/200], Loss: 0.2015\n",
      "Epoch [100/200], Loss: 0.1955\n",
      "Epoch [110/200], Loss: 0.1772\n",
      "Epoch [120/200], Loss: 0.1410\n",
      "Epoch [130/200], Loss: 0.1227\n",
      "Epoch [140/200], Loss: 0.1123\n",
      "Epoch [150/200], Loss: 0.0954\n",
      "Epoch [160/200], Loss: 0.0944\n",
      "Epoch [170/200], Loss: 0.0624\n",
      "Epoch [180/200], Loss: 0.0428\n",
      "Epoch [190/200], Loss: 0.0550\n",
      "Epoch [200/200], Loss: 0.0456\n"
     ]
    },
    {
     "data": {
      "text/html": [
       "<style>\n",
       "    table.wandb td:nth-child(1) { padding: 0 10px; text-align: left ; width: auto;} td:nth-child(2) {text-align: left ; width: 100%}\n",
       "    .wandb-row { display: flex; flex-direction: row; flex-wrap: wrap; justify-content: flex-start; width: 100% }\n",
       "    .wandb-col { display: flex; flex-direction: column; flex-basis: 100%; flex: 1; padding: 10px; }\n",
       "    </style>\n",
       "<div class=\"wandb-row\"><div class=\"wandb-col\"><h3>Run history:</h3><br/><table class=\"wandb\"><tr><td>loss</td><td>███████████████▅▃▃▃▃▃▂▂▂▂▂▂▂▂▂▂▁▂▁▁▁▂▁▁▁</td></tr><tr><td>val_f1</td><td>▅▃▅▃▁▃▅▅▆▇▆▇██▇▇</td></tr><tr><td>val_loss</td><td>▄▃▂▆▅▂▁▄▂▁▅▁▁▃▃█</td></tr></table><br/></div><div class=\"wandb-col\"><h3>Run summary:</h3><br/><table class=\"wandb\"><tr><td>loss</td><td>0.04555</td></tr><tr><td>val_f1</td><td>0.97847</td></tr><tr><td>val_loss</td><td>0.19299</td></tr></table><br/></div></div>"
      ],
      "text/plain": [
       "<IPython.core.display.HTML object>"
      ]
     },
     "metadata": {},
     "output_type": "display_data"
    },
    {
     "data": {
      "text/html": [
       " View run <strong style=\"color:#cdcd00\">woven-sweep-5</strong> at: <a href='https://wandb.ai/jarlku/lstm-sweep/runs/hljxwpqe' target=\"_blank\">https://wandb.ai/jarlku/lstm-sweep/runs/hljxwpqe</a><br/> View project at: <a href='https://wandb.ai/jarlku/lstm-sweep' target=\"_blank\">https://wandb.ai/jarlku/lstm-sweep</a><br/>Synced 6 W&B file(s), 0 media file(s), 0 artifact file(s) and 0 other file(s)"
      ],
      "text/plain": [
       "<IPython.core.display.HTML object>"
      ]
     },
     "metadata": {},
     "output_type": "display_data"
    },
    {
     "data": {
      "text/html": [
       "Find logs at: <code>./wandb/run-20240527_110839-hljxwpqe/logs</code>"
      ],
      "text/plain": [
       "<IPython.core.display.HTML object>"
      ]
     },
     "metadata": {},
     "output_type": "display_data"
    },
    {
     "name": "stderr",
     "output_type": "stream",
     "text": [
      "\u001b[34m\u001b[1mwandb\u001b[0m: Agent Starting Run: flr2ccq6 with config:\n",
      "\u001b[34m\u001b[1mwandb\u001b[0m: \thidden_depth: 1\n",
      "\u001b[34m\u001b[1mwandb\u001b[0m: \thidden_size: 3\n",
      "\u001b[34m\u001b[1mwandb\u001b[0m: \tlr: 0.001\n",
      "\u001b[34m\u001b[1mwandb\u001b[0m: \tnum_epochs: 100\n",
      "Failed to detect the name of this notebook, you can set it manually with the WANDB_NOTEBOOK_NAME environment variable to enable code saving.\n"
     ]
    },
    {
     "data": {
      "text/html": [
       "wandb version 0.17.0 is available!  To upgrade, please run:\n",
       " $ pip install wandb --upgrade"
      ],
      "text/plain": [
       "<IPython.core.display.HTML object>"
      ]
     },
     "metadata": {},
     "output_type": "display_data"
    },
    {
     "data": {
      "text/html": [
       "Tracking run with wandb version 0.16.6"
      ],
      "text/plain": [
       "<IPython.core.display.HTML object>"
      ]
     },
     "metadata": {},
     "output_type": "display_data"
    },
    {
     "data": {
      "text/html": [
       "Run data is saved locally in <code>/home/jarl/UniStuff/ADL/ADL/assignment_3/wandb/run-20240527_110900-flr2ccq6</code>"
      ],
      "text/plain": [
       "<IPython.core.display.HTML object>"
      ]
     },
     "metadata": {},
     "output_type": "display_data"
    },
    {
     "data": {
      "text/html": [
       "Syncing run <strong><a href='https://wandb.ai/jarlku/lstm-sweep/runs/flr2ccq6' target=\"_blank\">flowing-sweep-6</a></strong> to <a href='https://wandb.ai/jarlku/lstm-sweep' target=\"_blank\">Weights & Biases</a> (<a href='https://wandb.me/run' target=\"_blank\">docs</a>)<br/>Sweep page: <a href='https://wandb.ai/jarlku/lstm-sweep/sweeps/azo0igm3' target=\"_blank\">https://wandb.ai/jarlku/lstm-sweep/sweeps/azo0igm3</a>"
      ],
      "text/plain": [
       "<IPython.core.display.HTML object>"
      ]
     },
     "metadata": {},
     "output_type": "display_data"
    },
    {
     "data": {
      "text/html": [
       " View project at <a href='https://wandb.ai/jarlku/lstm-sweep' target=\"_blank\">https://wandb.ai/jarlku/lstm-sweep</a>"
      ],
      "text/plain": [
       "<IPython.core.display.HTML object>"
      ]
     },
     "metadata": {},
     "output_type": "display_data"
    },
    {
     "data": {
      "text/html": [
       " View sweep at <a href='https://wandb.ai/jarlku/lstm-sweep/sweeps/azo0igm3' target=\"_blank\">https://wandb.ai/jarlku/lstm-sweep/sweeps/azo0igm3</a>"
      ],
      "text/plain": [
       "<IPython.core.display.HTML object>"
      ]
     },
     "metadata": {},
     "output_type": "display_data"
    },
    {
     "data": {
      "text/html": [
       " View run at <a href='https://wandb.ai/jarlku/lstm-sweep/runs/flr2ccq6' target=\"_blank\">https://wandb.ai/jarlku/lstm-sweep/runs/flr2ccq6</a>"
      ],
      "text/plain": [
       "<IPython.core.display.HTML object>"
      ]
     },
     "metadata": {},
     "output_type": "display_data"
    },
    {
     "name": "stdout",
     "output_type": "stream",
     "text": [
      "Epoch [10/100], Loss: 0.6932\n",
      "Epoch [20/100], Loss: 0.6933\n",
      "Epoch [30/100], Loss: 0.6929\n",
      "Epoch [40/100], Loss: 0.6934\n",
      "Epoch [50/100], Loss: 0.6931\n",
      "Epoch [60/100], Loss: 0.6932\n",
      "Epoch [70/100], Loss: 0.6933\n",
      "Epoch [80/100], Loss: 0.6932\n",
      "Epoch [90/100], Loss: 0.6931\n",
      "Epoch [100/100], Loss: 0.6931\n"
     ]
    },
    {
     "data": {
      "text/html": [
       "<style>\n",
       "    table.wandb td:nth-child(1) { padding: 0 10px; text-align: left ; width: auto;} td:nth-child(2) {text-align: left ; width: 100%}\n",
       "    .wandb-row { display: flex; flex-direction: row; flex-wrap: wrap; justify-content: flex-start; width: 100% }\n",
       "    .wandb-col { display: flex; flex-direction: column; flex-basis: 100%; flex: 1; padding: 10px; }\n",
       "    </style>\n",
       "<div class=\"wandb-row\"><div class=\"wandb-col\"><h3>Run history:</h3><br/><table class=\"wandb\"><tr><td>loss</td><td>█▅▁▃▂▂▂▂▁▂▂▂▂▂▁▂▂▂▃▂▂▂▂▂▂▂▂▂▃▁▆▂▂▂▃▂▂▂▂▂</td></tr><tr><td>val_f1</td><td>▁▁▁▁▁▁▁▁▁▁▁▁▁▁▁▁</td></tr><tr><td>val_loss</td><td>▆▁▂▂▂█▄▆█▁▃▄▃▃▅▂</td></tr></table><br/></div><div class=\"wandb-col\"><h3>Run summary:</h3><br/><table class=\"wandb\"><tr><td>loss</td><td>0.69312</td></tr><tr><td>val_f1</td><td>0.0</td></tr><tr><td>val_loss</td><td>0.69236</td></tr></table><br/></div></div>"
      ],
      "text/plain": [
       "<IPython.core.display.HTML object>"
      ]
     },
     "metadata": {},
     "output_type": "display_data"
    },
    {
     "data": {
      "text/html": [
       " View run <strong style=\"color:#cdcd00\">flowing-sweep-6</strong> at: <a href='https://wandb.ai/jarlku/lstm-sweep/runs/flr2ccq6' target=\"_blank\">https://wandb.ai/jarlku/lstm-sweep/runs/flr2ccq6</a><br/> View project at: <a href='https://wandb.ai/jarlku/lstm-sweep' target=\"_blank\">https://wandb.ai/jarlku/lstm-sweep</a><br/>Synced 6 W&B file(s), 0 media file(s), 0 artifact file(s) and 0 other file(s)"
      ],
      "text/plain": [
       "<IPython.core.display.HTML object>"
      ]
     },
     "metadata": {},
     "output_type": "display_data"
    },
    {
     "data": {
      "text/html": [
       "Find logs at: <code>./wandb/run-20240527_110900-flr2ccq6/logs</code>"
      ],
      "text/plain": [
       "<IPython.core.display.HTML object>"
      ]
     },
     "metadata": {},
     "output_type": "display_data"
    },
    {
     "name": "stderr",
     "output_type": "stream",
     "text": [
      "\u001b[34m\u001b[1mwandb\u001b[0m: Agent Starting Run: 1t8bakg3 with config:\n",
      "\u001b[34m\u001b[1mwandb\u001b[0m: \thidden_depth: 2\n",
      "\u001b[34m\u001b[1mwandb\u001b[0m: \thidden_size: 3\n",
      "\u001b[34m\u001b[1mwandb\u001b[0m: \tlr: 0.0001\n",
      "\u001b[34m\u001b[1mwandb\u001b[0m: \tnum_epochs: 300\n",
      "Failed to detect the name of this notebook, you can set it manually with the WANDB_NOTEBOOK_NAME environment variable to enable code saving.\n"
     ]
    },
    {
     "data": {
      "text/html": [
       "wandb version 0.17.0 is available!  To upgrade, please run:\n",
       " $ pip install wandb --upgrade"
      ],
      "text/plain": [
       "<IPython.core.display.HTML object>"
      ]
     },
     "metadata": {},
     "output_type": "display_data"
    },
    {
     "data": {
      "text/html": [
       "Tracking run with wandb version 0.16.6"
      ],
      "text/plain": [
       "<IPython.core.display.HTML object>"
      ]
     },
     "metadata": {},
     "output_type": "display_data"
    },
    {
     "data": {
      "text/html": [
       "Run data is saved locally in <code>/home/jarl/UniStuff/ADL/ADL/assignment_3/wandb/run-20240527_110915-1t8bakg3</code>"
      ],
      "text/plain": [
       "<IPython.core.display.HTML object>"
      ]
     },
     "metadata": {},
     "output_type": "display_data"
    },
    {
     "data": {
      "text/html": [
       "Syncing run <strong><a href='https://wandb.ai/jarlku/lstm-sweep/runs/1t8bakg3' target=\"_blank\">effortless-sweep-7</a></strong> to <a href='https://wandb.ai/jarlku/lstm-sweep' target=\"_blank\">Weights & Biases</a> (<a href='https://wandb.me/run' target=\"_blank\">docs</a>)<br/>Sweep page: <a href='https://wandb.ai/jarlku/lstm-sweep/sweeps/azo0igm3' target=\"_blank\">https://wandb.ai/jarlku/lstm-sweep/sweeps/azo0igm3</a>"
      ],
      "text/plain": [
       "<IPython.core.display.HTML object>"
      ]
     },
     "metadata": {},
     "output_type": "display_data"
    },
    {
     "data": {
      "text/html": [
       " View project at <a href='https://wandb.ai/jarlku/lstm-sweep' target=\"_blank\">https://wandb.ai/jarlku/lstm-sweep</a>"
      ],
      "text/plain": [
       "<IPython.core.display.HTML object>"
      ]
     },
     "metadata": {},
     "output_type": "display_data"
    },
    {
     "data": {
      "text/html": [
       " View sweep at <a href='https://wandb.ai/jarlku/lstm-sweep/sweeps/azo0igm3' target=\"_blank\">https://wandb.ai/jarlku/lstm-sweep/sweeps/azo0igm3</a>"
      ],
      "text/plain": [
       "<IPython.core.display.HTML object>"
      ]
     },
     "metadata": {},
     "output_type": "display_data"
    },
    {
     "data": {
      "text/html": [
       " View run at <a href='https://wandb.ai/jarlku/lstm-sweep/runs/1t8bakg3' target=\"_blank\">https://wandb.ai/jarlku/lstm-sweep/runs/1t8bakg3</a>"
      ],
      "text/plain": [
       "<IPython.core.display.HTML object>"
      ]
     },
     "metadata": {},
     "output_type": "display_data"
    },
    {
     "name": "stdout",
     "output_type": "stream",
     "text": [
      "Epoch [10/300], Loss: 0.6937\n",
      "Epoch [20/300], Loss: 0.6936\n",
      "Epoch [30/300], Loss: 0.6928\n",
      "Epoch [40/300], Loss: 0.6935\n",
      "Epoch [50/300], Loss: 0.6941\n",
      "Epoch [60/300], Loss: 0.6931\n",
      "Epoch [70/300], Loss: 0.6935\n",
      "Epoch [80/300], Loss: 0.6931\n",
      "Epoch [90/300], Loss: 0.6926\n",
      "Epoch [100/300], Loss: 0.6935\n",
      "Epoch [110/300], Loss: 0.6931\n",
      "Epoch [120/300], Loss: 0.6931\n",
      "Epoch [130/300], Loss: 0.6929\n",
      "Epoch [140/300], Loss: 0.6929\n",
      "Epoch [150/300], Loss: 0.6929\n",
      "Epoch [160/300], Loss: 0.6934\n",
      "Epoch [170/300], Loss: 0.6929\n",
      "Epoch [180/300], Loss: 0.6931\n",
      "Epoch [190/300], Loss: 0.6933\n",
      "Epoch [200/300], Loss: 0.6929\n",
      "Epoch [210/300], Loss: 0.6932\n",
      "Epoch [220/300], Loss: 0.6931\n",
      "Epoch [230/300], Loss: 0.6930\n",
      "Epoch [240/300], Loss: 0.6930\n",
      "Epoch [250/300], Loss: 0.6931\n",
      "Epoch [260/300], Loss: 0.6929\n",
      "Epoch [270/300], Loss: 0.6924\n",
      "Epoch [280/300], Loss: 0.6925\n",
      "Epoch [290/300], Loss: 0.6915\n",
      "Epoch [300/300], Loss: 0.6862\n"
     ]
    },
    {
     "data": {
      "text/html": [
       "<style>\n",
       "    table.wandb td:nth-child(1) { padding: 0 10px; text-align: left ; width: auto;} td:nth-child(2) {text-align: left ; width: 100%}\n",
       "    .wandb-row { display: flex; flex-direction: row; flex-wrap: wrap; justify-content: flex-start; width: 100% }\n",
       "    .wandb-col { display: flex; flex-direction: column; flex-basis: 100%; flex: 1; padding: 10px; }\n",
       "    </style>\n",
       "<div class=\"wandb-row\"><div class=\"wandb-col\"><h3>Run history:</h3><br/><table class=\"wandb\"><tr><td>loss</td><td>█▇▇▇▇▇▆▇▇▇▇▇▇▇▆▇▇▇▇▇▇▇▇▇▇▇▇▇▇▇▇▇▇▇▇▇▆▆▅▁</td></tr><tr><td>val_f1</td><td>▁▁▁▁▁▁▁▁▁▁▁▁▁▁▁▁</td></tr><tr><td>val_loss</td><td>▄▆▂▅▇██▃▃▁▂▅▁▄▅▇</td></tr></table><br/></div><div class=\"wandb-col\"><h3>Run summary:</h3><br/><table class=\"wandb\"><tr><td>loss</td><td>0.68621</td></tr><tr><td>val_f1</td><td>0.0</td></tr><tr><td>val_loss</td><td>0.68876</td></tr></table><br/></div></div>"
      ],
      "text/plain": [
       "<IPython.core.display.HTML object>"
      ]
     },
     "metadata": {},
     "output_type": "display_data"
    },
    {
     "data": {
      "text/html": [
       " View run <strong style=\"color:#cdcd00\">effortless-sweep-7</strong> at: <a href='https://wandb.ai/jarlku/lstm-sweep/runs/1t8bakg3' target=\"_blank\">https://wandb.ai/jarlku/lstm-sweep/runs/1t8bakg3</a><br/> View project at: <a href='https://wandb.ai/jarlku/lstm-sweep' target=\"_blank\">https://wandb.ai/jarlku/lstm-sweep</a><br/>Synced 6 W&B file(s), 0 media file(s), 0 artifact file(s) and 0 other file(s)"
      ],
      "text/plain": [
       "<IPython.core.display.HTML object>"
      ]
     },
     "metadata": {},
     "output_type": "display_data"
    },
    {
     "data": {
      "text/html": [
       "Find logs at: <code>./wandb/run-20240527_110915-1t8bakg3/logs</code>"
      ],
      "text/plain": [
       "<IPython.core.display.HTML object>"
      ]
     },
     "metadata": {},
     "output_type": "display_data"
    },
    {
     "name": "stderr",
     "output_type": "stream",
     "text": [
      "\u001b[34m\u001b[1mwandb\u001b[0m: Sweep Agent: Waiting for job.\n",
      "\u001b[34m\u001b[1mwandb\u001b[0m: Job received.\n",
      "\u001b[34m\u001b[1mwandb\u001b[0m: Agent Starting Run: vvb9qu40 with config:\n",
      "\u001b[34m\u001b[1mwandb\u001b[0m: \thidden_depth: 3\n",
      "\u001b[34m\u001b[1mwandb\u001b[0m: \thidden_size: 20\n",
      "\u001b[34m\u001b[1mwandb\u001b[0m: \tlr: 0.001\n",
      "\u001b[34m\u001b[1mwandb\u001b[0m: \tnum_epochs: 300\n",
      "Failed to detect the name of this notebook, you can set it manually with the WANDB_NOTEBOOK_NAME environment variable to enable code saving.\n"
     ]
    },
    {
     "data": {
      "text/html": [
       "wandb version 0.17.0 is available!  To upgrade, please run:\n",
       " $ pip install wandb --upgrade"
      ],
      "text/plain": [
       "<IPython.core.display.HTML object>"
      ]
     },
     "metadata": {},
     "output_type": "display_data"
    },
    {
     "data": {
      "text/html": [
       "Tracking run with wandb version 0.16.6"
      ],
      "text/plain": [
       "<IPython.core.display.HTML object>"
      ]
     },
     "metadata": {},
     "output_type": "display_data"
    },
    {
     "data": {
      "text/html": [
       "Run data is saved locally in <code>/home/jarl/UniStuff/ADL/ADL/assignment_3/wandb/run-20240527_110952-vvb9qu40</code>"
      ],
      "text/plain": [
       "<IPython.core.display.HTML object>"
      ]
     },
     "metadata": {},
     "output_type": "display_data"
    },
    {
     "data": {
      "text/html": [
       "Syncing run <strong><a href='https://wandb.ai/jarlku/lstm-sweep/runs/vvb9qu40' target=\"_blank\">scarlet-sweep-8</a></strong> to <a href='https://wandb.ai/jarlku/lstm-sweep' target=\"_blank\">Weights & Biases</a> (<a href='https://wandb.me/run' target=\"_blank\">docs</a>)<br/>Sweep page: <a href='https://wandb.ai/jarlku/lstm-sweep/sweeps/azo0igm3' target=\"_blank\">https://wandb.ai/jarlku/lstm-sweep/sweeps/azo0igm3</a>"
      ],
      "text/plain": [
       "<IPython.core.display.HTML object>"
      ]
     },
     "metadata": {},
     "output_type": "display_data"
    },
    {
     "data": {
      "text/html": [
       " View project at <a href='https://wandb.ai/jarlku/lstm-sweep' target=\"_blank\">https://wandb.ai/jarlku/lstm-sweep</a>"
      ],
      "text/plain": [
       "<IPython.core.display.HTML object>"
      ]
     },
     "metadata": {},
     "output_type": "display_data"
    },
    {
     "data": {
      "text/html": [
       " View sweep at <a href='https://wandb.ai/jarlku/lstm-sweep/sweeps/azo0igm3' target=\"_blank\">https://wandb.ai/jarlku/lstm-sweep/sweeps/azo0igm3</a>"
      ],
      "text/plain": [
       "<IPython.core.display.HTML object>"
      ]
     },
     "metadata": {},
     "output_type": "display_data"
    },
    {
     "data": {
      "text/html": [
       " View run at <a href='https://wandb.ai/jarlku/lstm-sweep/runs/vvb9qu40' target=\"_blank\">https://wandb.ai/jarlku/lstm-sweep/runs/vvb9qu40</a>"
      ],
      "text/plain": [
       "<IPython.core.display.HTML object>"
      ]
     },
     "metadata": {},
     "output_type": "display_data"
    },
    {
     "name": "stdout",
     "output_type": "stream",
     "text": [
      "Epoch [10/300], Loss: 0.6933\n",
      "Epoch [20/300], Loss: 0.6940\n",
      "Epoch [30/300], Loss: 0.2129\n",
      "Epoch [40/300], Loss: 0.2356\n",
      "Epoch [50/300], Loss: 0.3057\n",
      "Epoch [60/300], Loss: 0.1951\n",
      "Epoch [70/300], Loss: 0.1771\n",
      "Epoch [80/300], Loss: 0.2398\n",
      "Epoch [90/300], Loss: 0.2088\n",
      "Epoch [100/300], Loss: 0.2393\n",
      "Epoch [110/300], Loss: 0.2311\n",
      "Epoch [120/300], Loss: 0.2290\n",
      "Epoch [130/300], Loss: 0.2013\n",
      "Epoch [140/300], Loss: 0.1933\n",
      "Epoch [150/300], Loss: 0.2251\n",
      "Epoch [160/300], Loss: 0.2077\n",
      "Epoch [170/300], Loss: 0.2225\n",
      "Epoch [180/300], Loss: 0.1876\n",
      "Epoch [190/300], Loss: 0.2510\n",
      "Epoch [200/300], Loss: 0.1662\n",
      "Epoch [210/300], Loss: 0.1539\n",
      "Epoch [220/300], Loss: 0.2089\n",
      "Epoch [230/300], Loss: 0.2378\n",
      "Epoch [240/300], Loss: 0.2355\n",
      "Epoch [250/300], Loss: 0.2198\n",
      "Epoch [260/300], Loss: 0.2156\n",
      "Epoch [270/300], Loss: 0.2131\n",
      "Epoch [280/300], Loss: 0.2486\n",
      "Epoch [290/300], Loss: 0.2114\n",
      "Epoch [300/300], Loss: 0.1963\n"
     ]
    },
    {
     "data": {
      "text/html": [
       "<style>\n",
       "    table.wandb td:nth-child(1) { padding: 0 10px; text-align: left ; width: auto;} td:nth-child(2) {text-align: left ; width: 100%}\n",
       "    .wandb-row { display: flex; flex-direction: row; flex-wrap: wrap; justify-content: flex-start; width: 100% }\n",
       "    .wandb-col { display: flex; flex-direction: column; flex-basis: 100%; flex: 1; padding: 10px; }\n",
       "    </style>\n",
       "<div class=\"wandb-row\"><div class=\"wandb-col\"><h3>Run history:</h3><br/><table class=\"wandb\"><tr><td>loss</td><td>████▂▂▃▁▂▂▂▁▂▂▂▂▂▂▁▂▂▂▁▂▁▂▁▁▂▂▂▂▂▂▂▂▂▃▂▂</td></tr><tr><td>val_f1</td><td>█▅▃▃▄▃▃▃▂▂▂▁▁▁▁▁</td></tr><tr><td>val_loss</td><td>▁▅▇▄▂▆▅▅▆▆▆█▅▇▄▂</td></tr></table><br/></div><div class=\"wandb-col\"><h3>Run summary:</h3><br/><table class=\"wandb\"><tr><td>loss</td><td>0.19627</td></tr><tr><td>val_f1</td><td>0.93897</td></tr><tr><td>val_loss</td><td>0.11064</td></tr></table><br/></div></div>"
      ],
      "text/plain": [
       "<IPython.core.display.HTML object>"
      ]
     },
     "metadata": {},
     "output_type": "display_data"
    },
    {
     "data": {
      "text/html": [
       " View run <strong style=\"color:#cdcd00\">scarlet-sweep-8</strong> at: <a href='https://wandb.ai/jarlku/lstm-sweep/runs/vvb9qu40' target=\"_blank\">https://wandb.ai/jarlku/lstm-sweep/runs/vvb9qu40</a><br/> View project at: <a href='https://wandb.ai/jarlku/lstm-sweep' target=\"_blank\">https://wandb.ai/jarlku/lstm-sweep</a><br/>Synced 6 W&B file(s), 0 media file(s), 0 artifact file(s) and 0 other file(s)"
      ],
      "text/plain": [
       "<IPython.core.display.HTML object>"
      ]
     },
     "metadata": {},
     "output_type": "display_data"
    },
    {
     "data": {
      "text/html": [
       "Find logs at: <code>./wandb/run-20240527_110952-vvb9qu40/logs</code>"
      ],
      "text/plain": [
       "<IPython.core.display.HTML object>"
      ]
     },
     "metadata": {},
     "output_type": "display_data"
    },
    {
     "name": "stderr",
     "output_type": "stream",
     "text": [
      "\u001b[34m\u001b[1mwandb\u001b[0m: Agent Starting Run: 3d6z2a3p with config:\n",
      "\u001b[34m\u001b[1mwandb\u001b[0m: \thidden_depth: 3\n",
      "\u001b[34m\u001b[1mwandb\u001b[0m: \thidden_size: 20\n",
      "\u001b[34m\u001b[1mwandb\u001b[0m: \tlr: 0.0001\n",
      "\u001b[34m\u001b[1mwandb\u001b[0m: \tnum_epochs: 100\n",
      "Failed to detect the name of this notebook, you can set it manually with the WANDB_NOTEBOOK_NAME environment variable to enable code saving.\n"
     ]
    },
    {
     "data": {
      "text/html": [
       "wandb version 0.17.0 is available!  To upgrade, please run:\n",
       " $ pip install wandb --upgrade"
      ],
      "text/plain": [
       "<IPython.core.display.HTML object>"
      ]
     },
     "metadata": {},
     "output_type": "display_data"
    },
    {
     "data": {
      "text/html": [
       "Tracking run with wandb version 0.16.6"
      ],
      "text/plain": [
       "<IPython.core.display.HTML object>"
      ]
     },
     "metadata": {},
     "output_type": "display_data"
    },
    {
     "data": {
      "text/html": [
       "Run data is saved locally in <code>/home/jarl/UniStuff/ADL/ADL/assignment_3/wandb/run-20240527_111050-3d6z2a3p</code>"
      ],
      "text/plain": [
       "<IPython.core.display.HTML object>"
      ]
     },
     "metadata": {},
     "output_type": "display_data"
    },
    {
     "data": {
      "text/html": [
       "Syncing run <strong><a href='https://wandb.ai/jarlku/lstm-sweep/runs/3d6z2a3p' target=\"_blank\">vivid-sweep-9</a></strong> to <a href='https://wandb.ai/jarlku/lstm-sweep' target=\"_blank\">Weights & Biases</a> (<a href='https://wandb.me/run' target=\"_blank\">docs</a>)<br/>Sweep page: <a href='https://wandb.ai/jarlku/lstm-sweep/sweeps/azo0igm3' target=\"_blank\">https://wandb.ai/jarlku/lstm-sweep/sweeps/azo0igm3</a>"
      ],
      "text/plain": [
       "<IPython.core.display.HTML object>"
      ]
     },
     "metadata": {},
     "output_type": "display_data"
    },
    {
     "data": {
      "text/html": [
       " View project at <a href='https://wandb.ai/jarlku/lstm-sweep' target=\"_blank\">https://wandb.ai/jarlku/lstm-sweep</a>"
      ],
      "text/plain": [
       "<IPython.core.display.HTML object>"
      ]
     },
     "metadata": {},
     "output_type": "display_data"
    },
    {
     "data": {
      "text/html": [
       " View sweep at <a href='https://wandb.ai/jarlku/lstm-sweep/sweeps/azo0igm3' target=\"_blank\">https://wandb.ai/jarlku/lstm-sweep/sweeps/azo0igm3</a>"
      ],
      "text/plain": [
       "<IPython.core.display.HTML object>"
      ]
     },
     "metadata": {},
     "output_type": "display_data"
    },
    {
     "data": {
      "text/html": [
       " View run at <a href='https://wandb.ai/jarlku/lstm-sweep/runs/3d6z2a3p' target=\"_blank\">https://wandb.ai/jarlku/lstm-sweep/runs/3d6z2a3p</a>"
      ],
      "text/plain": [
       "<IPython.core.display.HTML object>"
      ]
     },
     "metadata": {},
     "output_type": "display_data"
    },
    {
     "name": "stdout",
     "output_type": "stream",
     "text": [
      "Epoch [10/100], Loss: 0.6986\n",
      "Epoch [20/100], Loss: 0.6939\n",
      "Epoch [30/100], Loss: 0.6930\n",
      "Epoch [40/100], Loss: 0.6931\n",
      "Epoch [50/100], Loss: 0.6932\n",
      "Epoch [60/100], Loss: 0.6926\n",
      "Epoch [70/100], Loss: 0.6926\n",
      "Epoch [80/100], Loss: 0.6918\n",
      "Epoch [90/100], Loss: 0.4074\n",
      "Epoch [100/100], Loss: 0.3101\n"
     ]
    },
    {
     "data": {
      "text/html": [
       "<style>\n",
       "    table.wandb td:nth-child(1) { padding: 0 10px; text-align: left ; width: auto;} td:nth-child(2) {text-align: left ; width: 100%}\n",
       "    .wandb-row { display: flex; flex-direction: row; flex-wrap: wrap; justify-content: flex-start; width: 100% }\n",
       "    .wandb-col { display: flex; flex-direction: column; flex-basis: 100%; flex: 1; padding: 10px; }\n",
       "    </style>\n",
       "<div class=\"wandb-row\"><div class=\"wandb-col\"><h3>Run history:</h3><br/><table class=\"wandb\"><tr><td>loss</td><td>█████████████████████████████████▇▄▃▂▂▁▁</td></tr><tr><td>val_f1</td><td>▁▄▆▇▇▆█▇▇▆▆▄▅▅▆▆</td></tr><tr><td>val_loss</td><td>█▃▄▁▂▆▂▆▅▅▇█▄▂▆▁</td></tr></table><br/></div><div class=\"wandb-col\"><h3>Run summary:</h3><br/><table class=\"wandb\"><tr><td>loss</td><td>0.31008</td></tr><tr><td>val_f1</td><td>0.92851</td></tr><tr><td>val_loss</td><td>0.27106</td></tr></table><br/></div></div>"
      ],
      "text/plain": [
       "<IPython.core.display.HTML object>"
      ]
     },
     "metadata": {},
     "output_type": "display_data"
    },
    {
     "data": {
      "text/html": [
       " View run <strong style=\"color:#cdcd00\">vivid-sweep-9</strong> at: <a href='https://wandb.ai/jarlku/lstm-sweep/runs/3d6z2a3p' target=\"_blank\">https://wandb.ai/jarlku/lstm-sweep/runs/3d6z2a3p</a><br/> View project at: <a href='https://wandb.ai/jarlku/lstm-sweep' target=\"_blank\">https://wandb.ai/jarlku/lstm-sweep</a><br/>Synced 6 W&B file(s), 0 media file(s), 0 artifact file(s) and 0 other file(s)"
      ],
      "text/plain": [
       "<IPython.core.display.HTML object>"
      ]
     },
     "metadata": {},
     "output_type": "display_data"
    },
    {
     "data": {
      "text/html": [
       "Find logs at: <code>./wandb/run-20240527_111050-3d6z2a3p/logs</code>"
      ],
      "text/plain": [
       "<IPython.core.display.HTML object>"
      ]
     },
     "metadata": {},
     "output_type": "display_data"
    },
    {
     "name": "stderr",
     "output_type": "stream",
     "text": [
      "\u001b[34m\u001b[1mwandb\u001b[0m: Agent Starting Run: s4eb49mq with config:\n",
      "\u001b[34m\u001b[1mwandb\u001b[0m: \thidden_depth: 2\n",
      "\u001b[34m\u001b[1mwandb\u001b[0m: \thidden_size: 5\n",
      "\u001b[34m\u001b[1mwandb\u001b[0m: \tlr: 0.001\n",
      "\u001b[34m\u001b[1mwandb\u001b[0m: \tnum_epochs: 200\n",
      "Failed to detect the name of this notebook, you can set it manually with the WANDB_NOTEBOOK_NAME environment variable to enable code saving.\n"
     ]
    },
    {
     "data": {
      "text/html": [
       "wandb version 0.17.0 is available!  To upgrade, please run:\n",
       " $ pip install wandb --upgrade"
      ],
      "text/plain": [
       "<IPython.core.display.HTML object>"
      ]
     },
     "metadata": {},
     "output_type": "display_data"
    },
    {
     "data": {
      "text/html": [
       "Tracking run with wandb version 0.16.6"
      ],
      "text/plain": [
       "<IPython.core.display.HTML object>"
      ]
     },
     "metadata": {},
     "output_type": "display_data"
    },
    {
     "data": {
      "text/html": [
       "Run data is saved locally in <code>/home/jarl/UniStuff/ADL/ADL/assignment_3/wandb/run-20240527_111116-s4eb49mq</code>"
      ],
      "text/plain": [
       "<IPython.core.display.HTML object>"
      ]
     },
     "metadata": {},
     "output_type": "display_data"
    },
    {
     "data": {
      "text/html": [
       "Syncing run <strong><a href='https://wandb.ai/jarlku/lstm-sweep/runs/s4eb49mq' target=\"_blank\">hardy-sweep-10</a></strong> to <a href='https://wandb.ai/jarlku/lstm-sweep' target=\"_blank\">Weights & Biases</a> (<a href='https://wandb.me/run' target=\"_blank\">docs</a>)<br/>Sweep page: <a href='https://wandb.ai/jarlku/lstm-sweep/sweeps/azo0igm3' target=\"_blank\">https://wandb.ai/jarlku/lstm-sweep/sweeps/azo0igm3</a>"
      ],
      "text/plain": [
       "<IPython.core.display.HTML object>"
      ]
     },
     "metadata": {},
     "output_type": "display_data"
    },
    {
     "data": {
      "text/html": [
       " View project at <a href='https://wandb.ai/jarlku/lstm-sweep' target=\"_blank\">https://wandb.ai/jarlku/lstm-sweep</a>"
      ],
      "text/plain": [
       "<IPython.core.display.HTML object>"
      ]
     },
     "metadata": {},
     "output_type": "display_data"
    },
    {
     "data": {
      "text/html": [
       " View sweep at <a href='https://wandb.ai/jarlku/lstm-sweep/sweeps/azo0igm3' target=\"_blank\">https://wandb.ai/jarlku/lstm-sweep/sweeps/azo0igm3</a>"
      ],
      "text/plain": [
       "<IPython.core.display.HTML object>"
      ]
     },
     "metadata": {},
     "output_type": "display_data"
    },
    {
     "data": {
      "text/html": [
       " View run at <a href='https://wandb.ai/jarlku/lstm-sweep/runs/s4eb49mq' target=\"_blank\">https://wandb.ai/jarlku/lstm-sweep/runs/s4eb49mq</a>"
      ],
      "text/plain": [
       "<IPython.core.display.HTML object>"
      ]
     },
     "metadata": {},
     "output_type": "display_data"
    },
    {
     "name": "stdout",
     "output_type": "stream",
     "text": [
      "Epoch [10/200], Loss: 0.6863\n",
      "Epoch [20/200], Loss: 0.3578\n",
      "Epoch [30/200], Loss: 0.5462\n",
      "Epoch [40/200], Loss: 0.2770\n",
      "Epoch [50/200], Loss: 0.2932\n",
      "Epoch [60/200], Loss: 0.2151\n",
      "Epoch [70/200], Loss: 0.2119\n",
      "Epoch [80/200], Loss: 0.1978\n",
      "Epoch [90/200], Loss: 0.2245\n",
      "Epoch [100/200], Loss: 0.2123\n",
      "Epoch [110/200], Loss: 0.2498\n",
      "Epoch [120/200], Loss: 0.2245\n",
      "Epoch [130/200], Loss: 0.1622\n",
      "Epoch [140/200], Loss: 0.1602\n",
      "Epoch [150/200], Loss: 0.2643\n",
      "Epoch [160/200], Loss: 0.1498\n",
      "Epoch [170/200], Loss: 0.1458\n",
      "Epoch [180/200], Loss: 0.1390\n",
      "Epoch [190/200], Loss: 0.1660\n",
      "Epoch [200/200], Loss: 0.1311\n"
     ]
    },
    {
     "data": {
      "text/html": [
       "<style>\n",
       "    table.wandb td:nth-child(1) { padding: 0 10px; text-align: left ; width: auto;} td:nth-child(2) {text-align: left ; width: 100%}\n",
       "    .wandb-row { display: flex; flex-direction: row; flex-wrap: wrap; justify-content: flex-start; width: 100% }\n",
       "    .wandb-col { display: flex; flex-direction: column; flex-basis: 100%; flex: 1; padding: 10px; }\n",
       "    </style>\n",
       "<div class=\"wandb-row\"><div class=\"wandb-col\"><h3>Run history:</h3><br/><table class=\"wandb\"><tr><td>loss</td><td>██▇▅▄▃▅▃▃▂▂▃▃▂▂▂▂▂▂▂▂▁▂▂▂▁▂▁▁▂▂▁▁▁▁▁▁▁▁▁</td></tr><tr><td>val_f1</td><td>▇█▃▄▄▅▃▃▃▂▂▁▁▂▂▃</td></tr><tr><td>val_loss</td><td>▄▁▇▃▄▃▇▄▄▆▃█▄▃▁▂</td></tr></table><br/></div><div class=\"wandb-col\"><h3>Run summary:</h3><br/><table class=\"wandb\"><tr><td>loss</td><td>0.13112</td></tr><tr><td>val_f1</td><td>0.94787</td></tr><tr><td>val_loss</td><td>0.10487</td></tr></table><br/></div></div>"
      ],
      "text/plain": [
       "<IPython.core.display.HTML object>"
      ]
     },
     "metadata": {},
     "output_type": "display_data"
    },
    {
     "data": {
      "text/html": [
       " View run <strong style=\"color:#cdcd00\">hardy-sweep-10</strong> at: <a href='https://wandb.ai/jarlku/lstm-sweep/runs/s4eb49mq' target=\"_blank\">https://wandb.ai/jarlku/lstm-sweep/runs/s4eb49mq</a><br/> View project at: <a href='https://wandb.ai/jarlku/lstm-sweep' target=\"_blank\">https://wandb.ai/jarlku/lstm-sweep</a><br/>Synced 6 W&B file(s), 0 media file(s), 0 artifact file(s) and 0 other file(s)"
      ],
      "text/plain": [
       "<IPython.core.display.HTML object>"
      ]
     },
     "metadata": {},
     "output_type": "display_data"
    },
    {
     "data": {
      "text/html": [
       "Find logs at: <code>./wandb/run-20240527_111116-s4eb49mq/logs</code>"
      ],
      "text/plain": [
       "<IPython.core.display.HTML object>"
      ]
     },
     "metadata": {},
     "output_type": "display_data"
    }
   ],
   "source": [
    "wandb.agent(sweep_id, train_wandb, count=10)"
   ]
  },
  {
   "cell_type": "code",
   "execution_count": null,
   "metadata": {},
   "outputs": [],
   "source": []
  },
  {
   "cell_type": "code",
   "execution_count": null,
   "metadata": {},
   "outputs": [],
   "source": []
  }
 ],
 "metadata": {
  "kernelspec": {
   "display_name": "torch",
   "language": "python",
   "name": "python3"
  },
  "language_info": {
   "codemirror_mode": {
    "name": "ipython",
    "version": 3
   },
   "file_extension": ".py",
   "mimetype": "text/x-python",
   "name": "python",
   "nbconvert_exporter": "python",
   "pygments_lexer": "ipython3",
   "version": "3.12.3"
  }
 },
 "nbformat": 4,
 "nbformat_minor": 2
}
