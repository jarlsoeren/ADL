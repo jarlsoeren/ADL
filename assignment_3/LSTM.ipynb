{
 "cells": [
  {
   "cell_type": "code",
   "execution_count": 2,
   "metadata": {},
   "outputs": [],
   "source": [
    "import numpy as np\n",
    "import matplotlib.pyplot as plt\n",
    "import random"
   ]
  },
  {
   "cell_type": "markdown",
   "metadata": {},
   "source": [
    "## Create Dataset"
   ]
  },
  {
   "cell_type": "code",
   "execution_count": 3,
   "metadata": {},
   "outputs": [
    {
     "name": "stdout",
     "output_type": "stream",
     "text": [
      "Train Data Sample:\n",
      "[('abc', 1), ('aaaaabbbbbccccc', 1), ('aaaabbbbcccc', 1), ('aaaaaaaabbbb', 0), ('bbbbbc', 0), ('aaaaaabbbbbb', 0), ('aaaabbbbcccc', 1), ('abbcccc', 0), ('aaaaaaaaaaaaaabbbb', 0), ('aaaaaabbbbbbcccccc', 1), ('aaaaaabbbbbbcccccc', 1), ('aaaabbbbcccc', 1), ('aaabbbccc', 1), ('aaaaabbbb', 0), ('aaaaaaaaaaaaaaaaaaab', 0), ('aaaaaaaabb', 0), ('aaabbbccc', 1), ('aaaaaabbbbbbbbb', 0), ('aaaaaaaaabbbbb', 0), ('bbbbbbbbbb', 0), ('aaaaaabbbbbbcccccc', 1), ('aaaabbbbcccc', 1), ('aaaaabbbbbbbbbbbbbb', 0), ('abc', 1), ('aaaaabbbbbccccc', 1), ('aabbbbbbbbbbbbbb', 0), ('aaaaaabbbbbbcccccc', 1), ('aaaaabbbbbccccc', 1), ('abc', 1), ('aaaabbbbbbbbbbbbbb', 0), ('aaaaaaabbb', 0), ('aaaabbbbcccc', 1), ('aaaaaaaaaaaaaaaaaab', 0), ('aaaaaabbbbbbcccccc', 1), ('aaaaaaabbbbbb', 0), ('aaaabbbbcccc', 1), ('', 1), ('aaaabbbbcccc', 1), ('', 1), ('aaaabbbbcccc', 1), ('aaaaaaaaaaaaaabbbbbb', 0), ('aaaaaaaaaaaabbcccc', 0), ('', 1), ('aaaaaaaabbbb', 0), ('', 1), ('aaaaaaaaaabbbc', 0), ('aaaaaabbbbbbbbbbb', 0), ('aaaaaaaaaaaaaaaac', 0), ('aaabbbccc', 1), ('', 1), ('aaaaaaaaaaaaaab', 0), ('aaaaaaaaaaabbcccc', 0), ('abc', 1), ('abc', 1), ('aaaaaabbbbbbcccccc', 1), ('aaabbbbbbbbbbbbbbbc', 0), ('aaaaabbbbbccccc', 1), ('aaabbbccc', 1), ('aaaabbbbcccc', 1), ('', 1), ('aaaaaaaabbbbbbbbbbbb', 0), ('aaaaaaaaaaaaaaaaa', 0), ('aaaaaabbbbbbcccccc', 1), ('bbbbbbbbbbcccc', 0), ('aaaaaabbbbbbcccccc', 1), ('aaaaaaaaaab', 0), ('aaaaaabbbbbbbbbbbbbb', 0), ('abc', 1), ('aabbbbbbbbbbbbbbbbb', 0), ('aaaaaaaaaaaaaaabbbb', 0), ('aaaaaaaaaaaaaaaaaabb', 0), ('aabbbbbbbbbbbbbbbbb', 0), ('aaaaaaaaaaaaaaaaaaab', 0), ('abc', 1), ('aaaaaaaaaaaaaaaabbbb', 0), ('aaaaaabbbbbbbbbbbbbb', 0), ('', 1), ('aaaabbbbcccc', 1), ('aaaaaaaaaaaabbbbbbb', 0), ('aaaaaaabbbbb', 0), ('aaaaaaabbbb', 0), ('aaaaaabbbbbbcccccc', 1), ('abbbbbbbbbbbb', 0), ('aaaaabbbbbccccc', 1), ('abc', 1), ('aaaabbbbcccc', 1), ('aaaaabbbbbbbb', 0), ('aaaaaaaaaaaaaaaaaaab', 0), ('abc', 1), ('aaaaaaaaaaaaaaaaabbb', 0), ('', 1), ('', 1), ('', 1), ('abc', 1), ('aaabbbccc', 1), ('aaaabbbbcccc', 1), ('aaaabccccccccccccc', 0), ('aaaaabbbbbccccc', 1), ('aaaaaaabcccc', 0), ('aaabbbccc', 1), ('', 1), ('aaaaabbbbbccccc', 1), ('aaaaabbbbbccccc', 1), ('aaaabbbbcccc', 1), ('abc', 1), ('abc', 1), ('abc', 1), ('aaaaaaaaaaaaabbbbbbb', 0), ('aabbb', 0), ('aaabbbbbbbbbbbb', 0), ('aaaabbbbcccc', 1), ('aaaaaaabbbbbbbbbbbb', 0), ('', 1), ('aaaaabbbbbccccc', 1), ('', 1), ('aaaabbbbcccc', 1), ('aaabbbccc', 1), ('aaaaaaaaaaaabbbbbb', 0), ('aaaaaaaaaaacccccc', 0), ('aaaabbbbb', 0), ('aabbbbbb', 0), ('aaaaabbbbbccccc', 1), ('aabbbbbbbbbc', 0), ('aaaaaaaaabbbbb', 0), ('aaaaaaaaaaaaaaa', 0), ('bbbbbbbbbbbbbbbbbbbb', 0), ('aaaaaaaaaaabb', 0), ('aaaaaaaaaabbbbbbbb', 0), ('aaaaaaaabbbbbbbbbb', 0), ('aaaaaaaaaaabbbbbcc', 0), ('ab', 0), ('aaaaabbbbbccccc', 1), ('', 1), ('aaaaaaaabbbbbbbbbb', 0), ('aaaabbbbbbb', 0), ('aaaaaaaaaaaaaaaaab', 0), ('aaabbbbb', 0), ('aaaaaaaaaaaaaaabbbbb', 0), ('aaaaaaaaaaaaaaa', 0), ('aaaaabbbbbccccc', 1), ('aaaaaaaaaaaaaccccc', 0), ('aaaabbbbbbbbbbbbcccc', 0), ('', 1), ('aaaabbbbcccc', 1), ('aaabbbccc', 1), ('', 1), ('aaaaaabbbbbbcccccc', 1), ('abc', 1), ('aaaaaaaaaaaaaaaabbbb', 0), ('abc', 1), ('abc', 1), ('aaaaaaaaaaaaaaaaaaa', 0), ('abc', 1), ('aaaaaaaaaaaaaaaaab', 0), ('aaaaaaaaaabbbbbbbbbb', 0), ('aaaaaaaaaaaaaaaabbbb', 0), ('aaaaaaaaaaaaaa', 0), ('aaaaaabbbbbbcccccc', 1), ('aaaaaaaaabbbbbbbbbbb', 0), ('aaaaabbbbbccccc', 1), ('bbbbbbbbbbbbbbbbbbbb', 0), ('abc', 1), ('aaaaaaaaaaaaabbbbbbb', 0), ('aaaaaabbbbbbcccccc', 1), ('aaaaaaaaaaabbbbb', 0), ('aaabbbccc', 1), ('aaabbbccc', 1), ('aaaaaabbbbbbcccccc', 1), ('aaaaaabbbbbbcccccc', 1), ('aaabbbccc', 1), ('aaaaaaaaabbbbbc', 0), ('aaaaabbbbbccccc', 1), ('aaaaaaaaaaaaaa', 0), ('aaaabbbbcccc', 1), ('aaaaabbbbbccccc', 1), ('aaaaabbbbbccccc', 1), ('aaaaaabbbbbbcccccc', 1), ('aaaabbbbcccc', 1), ('aabbbbbcccccc', 0), ('aaaabbbbcccc', 1), ('', 1), ('', 1), ('aaaaaaaabcccc', 0), ('abbbbbbbbbbbbbbbbbbb', 0), ('bbbbbbbbbbbbb', 0), ('aaaaaaaaabbb', 0), ('abc', 1), ('aaaaaaaaaaaaaaabbb', 0), ('aaaabbbbcccc', 1), ('aaaaaabbbbbbcccccc', 1), ('aaaaaaccc', 0), ('', 1), ('aaaaaaaaaaaaaabb', 0), ('aaabbbccc', 1), ('aaabbbccc', 1), ('aaabbbccc', 1), ('abc', 1), ('aaaaaaaaaaaaab', 0), ('aaaaaabbbbbbcccccc', 1), ('aaabbbccc', 1), ('aaaaaabbbbbbbbc', 0), ('aaaaaaaaabbbbb', 0), ('aaaabbbbbbbbbbbbbb', 0), ('aaaaabbbbbccccc', 1), ('abbbbbbbbbbbcccccccc', 0), ('abc', 1), ('aaaaabbbbbccccc', 1), ('aaaabbbbcccc', 1), ('aaaaaaaaaaaabbbbbbb', 0), ('abc', 1), ('abc', 1), ('aaaaaabbbbbbcccccc', 1), ('aaaaaabbbbbb', 0), ('aaabbbccc', 1), ('', 1), ('', 1), ('aaabbbbbbbb', 0), ('aaaaaaaaaaaaaaaaaabb', 0), ('aaaaaaabbbbbbbbb', 0), ('aaaaabbbbbccccc', 1), ('aaaabbbbcccc', 1), ('aaaaaaaaa', 0), ('aaaaaaaaaaaaaaaaabbb', 0), ('', 1), ('aaaaaaaaaaaaaaabbb', 0), ('aaaaaaaaaaaaabbbbbbb', 0), ('', 1), ('aaaaaaaaabbbc', 0), ('aaaaaaaaaaaaaaabb', 0), ('aaaaaaabbbbb', 0), ('abc', 1), ('aaaaaaaaaabcccccccc', 0), ('aaaaaaaaaaaaabcccc', 0), ('aaaaaabb', 0), ('aaaabbbbbbbbbbbb', 0), ('', 1), ('aaaaaabbbbbbcccccc', 1), ('', 1), ('aaabbbccc', 1), ('aaabbbccc', 1), ('abc', 1), ('aaabbbbbbbbbbbbbbbbb', 0), ('aaaabbbbbbbbb', 0), ('aaaaabbbbbccccc', 1), ('abbbbbbbbbbbbccccc', 0), ('aaaaabbbbbccccc', 1), ('aabbbbbbbccccccccccc', 0), ('aaaaabbbbbccccc', 1), ('aaaaaaaaaacccc', 0), ('aaaaaaaaaaaaaaaab', 0), ('aaaaabbbbbbb', 0), ('abc', 1), ('aaaabbbbb', 0), ('aaaaaabbbbbbcccccc', 1), ('aaaaaabbbbbbcccccc', 1), ('aaaaaabbbbbbbbbbbbbb', 0), ('abc', 1), ('aaaabbbbcccc', 1), ('aaaaaaaaaaaaaaabb', 0), ('aaaaaabbbbbbcccccc', 1), ('aaaaaaaaaaaaaaab', 0), ('aaaaabbbbbccccc', 1), ('aaaaabbbbbccccc', 1), ('bbbbbbbbbbb', 0), ('aaabbbbbbbbcccccc', 0), ('aaaaabbbbbccccc', 1), ('aaaaaabbbbbbcccccc', 1), ('abc', 1), ('', 1), ('aaaaaaaaaaaaab', 0), ('aaaaaaaaaaaaaaaaab', 0), ('aaaaaaaaaaaabbbbb', 0), ('aaaaabbbbbccccc', 1), ('aaaaaaaaaaaaabb', 0), ('aaaabbbbcccc', 1), ('aaaaaaaaaaaaaaaabbb', 0), ('abc', 1), ('aaaaaabbbbbbcccccc', 1), ('aabbbbbbbbbbbbb', 0), ('aabb', 0), ('aaaaaaabbbbbbbbbbbbb', 0), ('aaabbbccc', 1), ('', 1), ('aaaaaaaaaabccc', 0), ('aaabbbccc', 1), ('aaaaabbcccc', 0), ('aaabbbccc', 1), ('aaaaabbbbbccccc', 1), ('aaaaaaccccccccccccc', 0), ('aaaaaaaaaaaaaabbbbb', 0), ('aaaaaabbbbbbcccccc', 1), ('aaaaabbbbbccccc', 1), ('aaaaaaaaaaaaaabbbb', 0), ('bbbbbbbbbcccccc', 0), ('aaaaabbbbbbb', 0), ('aaaaaaaaaaaaaaaaaabb', 0), ('aaaaaabbbbbbcccccc', 1), ('aaaaabbbbbccccc', 1), ('aaaaaabbbbbbcccccc', 1), ('aaaaabbbbbccccc', 1), ('aaaabbbbbbbbbbbb', 0), ('aaaaaaaaaaaaaaaaaab', 0), ('aaaaaabbbbbbcccccc', 1), ('aaaabbbbcccc', 1), ('aaaaaabbbbbbcccccc', 1), ('abc', 1), ('aaaaaaaaaaaaabbbbbbb', 0), ('abc', 1), ('aaaaaaaaaaaaaaaaaab', 0), ('abc', 1), ('aaabbbccc', 1), ('aaaaaabbbbbbcccccc', 1), ('aaaabbbbcccc', 1), ('aaaaaaaaaaaaabbbbb', 0), ('abc', 1), ('aaaaabbbc', 0), ('abc', 1), ('aaaabbbbcccc', 1), ('', 1), ('aaaaaaaaaaaa', 0), ('abc', 1), ('aaaaabbbbbccccc', 1), ('aaaaaaaaaaaaabbbbb', 0), ('aaaaabbbbbccccc', 1), ('aaacc', 0), ('', 1), ('aaaaabbbbbccccc', 1), ('aaaaaaaaaaaaaaabbccc', 0), ('aaaaaaaaaaaaaaaaaab', 0), ('abc', 1), ('aaaaaaaaabbbbbbbbb', 0), ('aaabbbbbbbbbc', 0), ('aaaabbbbbbbbbbbb', 0), ('aaabbbbbbccccccccc', 0), ('aaaaaabbbbbbcccccc', 1), ('aaabbbccc', 1), ('aaaaaaaaaaaabbbbbb', 0), ('aaabbbccc', 1), ('aaaaaaaaaaaaaaaaaaa', 0), ('aaabbbccc', 1), ('aaaaaaaaaabbbbbbbbb', 0), ('aaaaabbbbbccccc', 1), ('aaabbbccc', 1), ('aaaaabbbbbccccc', 1), ('aaabbbccc', 1), ('aaaaabbbbbccccc', 1), ('aaaaaabbbbbbcccccc', 1), ('aaabbbccc', 1), ('aaaabbbbcccc', 1), ('aaaaaaaaaaaaaaaaaab', 0), ('aaaaabb', 0), ('abc', 1), ('aab', 0), ('aaaaabbbbbbbbbbbbbbb', 0), ('aaaabbbcccccc', 0), ('aaaaaaaabccccccccccc', 0), ('aabccccc', 0), ('aaaaaaaaaaaaaabbbbb', 0), ('aaaaaaa', 0), ('aaaaaabbbbbbcccccc', 1), ('aaaaaaabbbbbb', 0), ('abc', 1), ('aaaaabbbbbccccc', 1), ('', 1), ('aaaaaaaaaaaaaaaabbc', 0), ('aaaabbbbcccc', 1), ('aaaaaaaaaaaaabbbbbb', 0), ('aaaaaaaaaaaabbbbbb', 0), ('aaabbbccc', 1), ('abbbbbbbbbbbbb', 0), ('aaaaabbbbbccccc', 1), ('aaaaaabbbbbbcccccc', 1), ('aaabbbccc', 1), ('aaaaaaaaaaaaaaaaaab', 0), ('aaaaaaaaaaaaaaaaaab', 0), ('aaaabbbbcccc', 1), ('aaaaaabbbbbbcccccc', 1), ('aaaabbbbbbbbbcc', 0), ('aaabbbccc', 1), ('aaaaabbbbbccccc', 1), ('aaaaaaaaaaaaaabbbbb', 0), ('aaaaaaaaaaaaabbbbbb', 0), ('aaabbbccc', 1), ('aabbbbbbbbbbb', 0), ('abc', 1), ('aaaaaaaaaaaaaaabbb', 0), ('aaaaaaaaaaaaabbbb', 0), ('aaaaaaaaaaaabbbbbbbb', 0), ('aaaaaaaaaacccc', 0), ('aaaaaaaaaaaaab', 0), ('aaaaaaaaaaaab', 0), ('aaabbbccc', 1), ('aaaaabbbbbccccc', 1), ('aaaabbbbbbbbbbbbbb', 0), ('aaabbbccc', 1), ('', 1), ('aaaaaaaaaacccc', 0), ('aaabbbccc', 1), ('aaaaaaaaaaaaaaaaaaa', 0), ('', 1), ('aaaabbbbcccc', 1), ('', 1), ('aaaaaabbbbbbcccccc', 1), ('', 1), ('aaaaaaaaaaaaaaaaaaab', 0), ('bbbbbbbbbbbbbb', 0), ('aaaaabbbbbccccc', 1), ('aaaaabbbbbccccc', 1), ('aaaaaaaaaaaccccccccc', 0), ('aaabbbccc', 1), ('ab', 0), ('aaabbbccc', 1), ('aaaaaaaaaaaaaaaaa', 0), ('aaaaaaaaaaaaaaabbbbb', 0), ('aaaaaaaaaaaaaaaaabbb', 0), ('aabbbbbbbbbbbbbbb', 0), ('aaaaaabbbbbbcccccc', 1), ('', 1), ('aaaabbbbbbbbbb', 0), ('aaabbbccc', 1), ('aabcccc', 0), ('aaaaabbbbbccccc', 1), ('', 1), ('aaaaaabbbbbbcccccc', 1), ('aaaaabbbbbccccc', 1), ('aaaabbbbcccc', 1), ('aaabbbccc', 1), ('aaaaaaaaaaaaaaaaaaa', 0), ('aaaaabbbbbccccc', 1), ('aaabbbccc', 1), ('aaaaaaaaaaaaaaabbbbb', 0), ('aaaaaaaaaaaaaaaaabb', 0), ('aaa', 0), ('aaabbbbbbbbbbcc', 0), ('abbbbbbbbbbbb', 0), ('aaaaabbbbbbbbbbbbbb', 0), ('aaaaaaaaaaaabbbbbbbb', 0), ('aaaabbbbcccc', 1), ('aaaaaaaaaaabbbc', 0), ('', 1), ('', 1), ('aaaaaabbbbbbcccccc', 1), ('aaaabbbbcccc', 1), ('aaaabbbbcccc', 1), ('aaaaaabbbbbbb', 0), ('aacc', 0), ('aaaaaaaaaaaabbbbbb', 0), ('aaaaaabbbb', 0), ('aaaaaabbbbbcccc', 0), ('aaaabbbbcccc', 1), ('aaaaaaaaaaaaaaabbbb', 0), ('abbbbbbbbb', 0), ('', 1), ('', 1), ('aaaaaaaaaaaaaaaaabbb', 0), ('aaaaaaaaabbbbbbbbbcc', 0), ('aaaabbbbcccc', 1), ('', 1), ('aaaaabbbbbccccc', 1), ('aaaaaaaaaaaaaaaabbbb', 0), ('aaaaaaaaaaaaabbcccc', 0), ('aaabbbccc', 1), ('', 1), ('aaaabbbbbbbbbbbbbbb', 0), ('aaabbbbbbbbbbbbb', 0), ('aabbbbbbbbbbbbbbbbb', 0), ('abbbbbbbbbbbbbbbbbb', 0), ('abc', 1), ('aaabbbbbbbbb', 0), ('aaabbbccc', 1), ('', 1), ('aabbbbbbbbbbbbbbbbb', 0), ('aaaaaaaaaaaaaaaaaaa', 0), ('abc', 1), ('aaaaabbbbbbb', 0), ('aaabbbccc', 1), ('aaabbbccc', 1), ('aaaaaaaaaaaaaaaaab', 0), ('aaaaaaaac', 0), ('aaaaaaaaaaaaaabb', 0), ('aaabbbccc', 1), ('', 1), ('aaaaaaaaaaaaaaaaabcc', 0), ('aaaabbbbcccc', 1), ('aaabbbbbbbbbbbbbbbb', 0), ('abbbbbbbbbcccccccccc', 0), ('abc', 1), ('aaaaaaaaaaaabccc', 0), ('aaabbbccc', 1), ('aaaaaabbbbbbcccccc', 1), ('aaaaaabbbbbbcccccc', 1), ('aaaaaabbbbbbcccccc', 1), ('aaaaaaaaaaaaaaaaaa', 0), ('aaaaaaaabbbbbbbbbbb', 0), ('abcc', 0), ('abc', 1), ('abc', 1), ('aaaaabbbbbbbbbb', 0), ('', 1), ('aaaaabbbbbccccc', 1), ('aaaaaaaaaaaaaacccc', 0), ('aaaaaaaaaaaaaaaabbbb', 0), ('aaaabbbccc', 0), ('', 1), ('aaaaaaaaaaaaaaaaaaa', 0), ('aaaaaaaaaaaaaaabbbb', 0), ('aaabbbccc', 1), ('aaaaaaaaaaaaaaaaabbb', 0), ('aabbbbbbbbbb', 0), ('aaaabbbbcccc', 1), ('aaaabbbbcccc', 1), ('aaaaaaaaaaaaaaaaaaab', 0), ('aaabbbccc', 1), ('abbbbbbbbbbbbbbbb', 0), ('aaaabbbbcccc', 1), ('aaaabbbbcccc', 1), ('aaabbbccc', 1), ('aaabbbccc', 1), ('aaaaaaaaaaaaaabbbbb', 0), ('aaabbbccc', 1), ('aaaaaaaaaaabbb', 0), ('aaaaaaaaabbbbbbbbb', 0), ('aaaabbbbbbbbbbbbbbbb', 0), ('aaaabbbbbbbbb', 0), ('abbbcccccccccccccc', 0), ('aaaaaaaaaaaaabbbbb', 0), ('aaaaaaaaaaaaaaaab', 0), ('aaaabbbbcccc', 1), ('aaaaaabbbbbcccccc', 0), ('aaaaaabbbbbbcccccc', 1), ('abc', 1), ('aaaaaaaaaaabb', 0), ('aaaaaaaabbbbbbb', 0), ('abc', 1), ('aaaaaaaaaaabbbbbbb', 0), ('aaabbbccc', 1), ('aaabbbccc', 1), ('abc', 1), ('aaaaaaaaaaaaaaaaabb', 0), ('aaabbbbbbb', 0), ('aaaabbbbcccc', 1), ('aabbc', 0), ('aaaabbbbbbbbbbb', 0), ('', 1), ('aaaabbbbcccc', 1), ('', 1), ('', 1), ('', 1), ('aaaaaaaaaaaaab', 0), ('aaaaaaaaaaaaabbbbbbb', 0), ('aaaabbbbcccc', 1), ('aaaabbbbcccc', 1), ('aaaaaaaaaaabbbbbbbb', 0), ('aaabbbbbbbbbbbb', 0), ('aaaaabbbbbccccc', 1), ('aaaaabbbbbccccc', 1), ('abc', 1), ('abbcccccccc', 0), ('aaabbbccc', 1), ('aaaaaabbbbbbcccccc', 1), ('', 1), ('aaaabbbbcccc', 1), ('aaaaaabbbbbbcccccc', 1), ('aaaaaaaaaaabbbbbbbbb', 0), ('bbbbbbbbbbbbbb', 0), ('', 1), ('aaabbbccc', 1), ('aaaaaaaaaaaaaaabcccc', 0), ('aaabbbccc', 1), ('', 1), ('aaaaaaaaaaaaaaaaaaac', 0), ('aaaabbbbcccc', 1), ('aaaabbbbcccc', 1), ('aaaaaaaaaaaaabbbbbbb', 0), ('aaabbbccc', 1), ('aaaabbbbcccc', 1), ('aaaabbbbcccc', 1), ('aaaaaaaaaaabb', 0), ('', 1), ('aaaaaaaaabbbbbbb', 0), ('abc', 1), ('aaabbbbbbbbbbbbb', 0), ('aaaaabbbbbbbbbbbbcc', 0), ('aaaaaaaaabbbbbbc', 0), ('aaaaaaaaaaaaaaaaabbb', 0), ('aaaaaaaabbbbbb', 0), ('aaaaabbbbbccccc', 1), ('aaaaaaaaaaaaaaaaaaa', 0), ('aaaaaaaaaaaaaaaaa', 0), ('aaaaaaaaaaaaaabbb', 0), ('abc', 1), ('abc', 1), ('aaccccccc', 0), ('aaaabbbbcccc', 1), ('aaaaaaaaaaaab', 0), ('aaaabbbbcccc', 1), ('aaaaaaaaaabbbbbbbb', 0), ('abc', 1), ('aaabbbbbb', 0), ('aaabbbccc', 1), ('aaaaaabbbbbbcccccc', 1), ('aaaaaaaaaaaabbbccc', 0), ('aaaaabbbbbccccc', 1), ('', 1), ('', 1), ('aaaaaaaaaaaaaaaabbbb', 0), ('aaaabbbbcccc', 1), ('aaaaaaaaaaabbbbb', 0), ('aaaaabbbbbb', 0), ('abbbbbbbbbb', 0), ('aaaabbbbcccc', 1), ('aaaaabbbbbccccc', 1), ('aaabbbccc', 1), ('aaaabbbbbbbbbb', 0), ('', 1), ('aaaaaaaaaaaabbb', 0), ('aaaaaaaaabbbbbbbbb', 0), ('aaaaaaaaaaaaaaaa', 0), ('aaaaabccccccccc', 0), ('aaaaaaabbbbbbbbbc', 0), ('aaaaaaaaaaaab', 0), ('aaaabbbbcccc', 1), ('aaaaabbbbbbbbbbbbb', 0), ('aaaaaaaaaaaaaaaab', 0), ('aaaaaaaaaaaaaaaaaab', 0), ('aaaabbbbbbbbbbbbbb', 0), ('aaaaabbbbbbbbbbbbbb', 0), ('', 1), ('', 1), ('aaabbbccc', 1), ('aaaabbbbcccc', 1), ('aaaaabbbbbccccc', 1), ('aaaaaaaaaaabbbb', 0), ('aaaaaaaaaaaaaaa', 0), ('aaaaaaaaaaabb', 0), ('aaabbbccc', 1), ('aaaaaaaaaaaaaaaaab', 0), ('aaaaaaaaaaaaaabc', 0), ('aaaaaabbbbbbcccccc', 1), ('aaaaabbbbbccccc', 1), ('aaaaaaaaaaaaaaaaaccc', 0), ('abc', 1), ('abc', 1), ('aaabbbccc', 1), ('bbbbbbbbbbbbbbbbbb', 0), ('aaabbbccc', 1), ('aaaaabbbbbccccc', 1), ('aaaabbbbcccc', 1), ('abbbbbbbbbbccc', 0), ('aaaaabbbbbccccc', 1), ('aaaaaaaabbbbbbbbb', 0), ('aaabbbccc', 1), ('aaaaabbbbbccccc', 1), ('aaaaaaaaaaaaaaaaaaa', 0), ('aaabbbccc', 1), ('aaaaabbbbbccccc', 1), ('aaaaabbbbbccccc', 1), ('aaaabbbbcccc', 1), ('abbbbbbbbbbbbbbbbbbb', 0), ('aaaabbbbcccc', 1), ('', 1), ('abc', 1), ('aaaaabbbbbcccc', 0), ('aaabbbccc', 1), ('aabbbbbccc', 0), ('aaaaaaaabbbbbbbbbbb', 0), ('aaaaaaaaaabbbb', 0), ('aaaaabbbbbccccc', 1), ('aaaaaaaaaaaaaabbbbb', 0), ('aaaaaaaaaaabbb', 0), ('aaaaaaaaaaaaaaaaaaab', 0), ('aaaaaabbbbbbcccccc', 1), ('aaaabbbbcccc', 1), ('aaaabbbbcccc', 1), ('aaaabbbbcccc', 1), ('aaaabbbbcccc', 1), ('aaaaabbbbbccccc', 1), ('aaaaaabbbbbbcccccc', 1), ('aaaaaaaaaaaaaaaaab', 0), ('aaaaaaaaaaaabbbbbbbb', 0), ('', 1), ('aaaabccccccccccccc', 0), ('aaaaaaaaaaaaaaaaaab', 0), ('abc', 1), ('aaaabbbbcccc', 1), ('aabbccccccc', 0), ('abbbbbbbbbbcccccc', 0), ('aaabbbccc', 1), ('aaaaaabbbbbbcccccc', 1), ('aaaaaaaaabbbbb', 0), ('aaaaaaaaaaaaaaaacccc', 0), ('aaaaaaaaaaaaaaaaaab', 0), ('aaaaaabbbbcccccc', 0), ('aaabbbccc', 1), ('abc', 1), ('aaaaaaaaaaaaaaaa', 0), ('aaaaaaaaaabbbbbb', 0), ('aaaaaaaaaaaaaaaaaa', 0), ('aaabbbccc', 1), ('aaaaaaaaaabbbbbbbbbb', 0), ('aaabbbccc', 1), ('abc', 1), ('aaaa', 0), ('abc', 1), ('aaaaaaaaaaaabbbcccc', 0), ('aabccccccc', 0), ('aaaaaabbbbbbcccccc', 1), ('aaaaaaaaaaabbbb', 0), ('aaaaaaaaaaaaaaaaaaab', 0), ('aaaaaaabbb', 0), ('aaaaaacccccccccccccc', 0), ('aaaaaaaaaabbbbbbbbbb', 0), ('aaabbbccc', 1), ('aaaaaaaaaaaaaaaaaa', 0), ('aaaaaaaaaabbbbb', 0), ('aaaaaabbbbbbcccccc', 1), ('', 1), ('aaaaaabbbbbbcccccc', 1), ('abc', 1), ('aaaaaaaaaaaabbbbbbb', 0), ('aaaaaaaaabbbb', 0), ('aaaaaaaaaaaaaaaaabb', 0), ('aaabbbbbbb', 0), ('aaaaaaaaaaaaaaaaaaab', 0), ('aaaaaaaaaaaaabbbcccc', 0), ('aaaabbbbbbbbbbbbb', 0), ('aaaaaaaaaaaabbbb', 0), ('aaaaaaaaaaaaaaaaabbb', 0), ('', 1), ('aaabbbbbbbbbbb', 0), ('aaabbbccc', 1), ('aaabbbccc', 1), ('bbbbbbbbbbbbbbb', 0), ('aaaaaaaaaabbbbbccccc', 0), ('aaaaaaaaaaaaaaaaaaa', 0), ('aaaaaabbbbbbcccccc', 1), ('aaaaaaaaaaaaaabbb', 0), ('aaaaaaaaaaaaaaaaaab', 0), ('aaaaabbbbbccccc', 1), ('aaaaaaaaaaaabbbbb', 0), ('aaaaabbbbbccccc', 1), ('aaaaaabbbbbbcccccc', 1), ('aaabbbccc', 1), ('aaaaabbbbbccccc', 1), ('aaabbbccc', 1), ('aaaaaabbbbbbcccccc', 1), ('aaaaaaaaaabbbbb', 0), ('aaabbbccc', 1), ('aaaaabbbbbccccc', 1), ('abc', 1), ('', 1), ('', 1), ('aaaaaaaaaaaaaaaaaaab', 0), ('bbbbbbbbbbbb', 0), ('bbbbbbbbbbbbbbbbbbbb', 0), ('aaaaaaaaaaaaaaaabb', 0), ('', 1), ('bbbbcccccccccccccc', 0), ('abc', 1), ('aaaaaaaaaabbbbbb', 0), ('aabbbbbbbbbbbbbb', 0), ('aaaaaaaaab', 0), ('aaaaaaaaaaabbbbbbb', 0), ('aaaaaaaaaaaabb', 0), ('aaaabbbbcccc', 1), ('aabbbbbbbbbb', 0), ('aaaaaabbbbbbcccccc', 1), ('aaaaaaaaaaaaaaaaaab', 0), ('bbbbbbbbbbbbbbbbbbbb', 0), ('aaaabbbcccccccccccc', 0), ('aaabbbccc', 1), ('abbbbbbbb', 0), ('abbbbbbbbbbbb', 0), ('', 1), ('aaaaaaaaaabbbccccc', 0), ('aaaaaabbbbbbcccccc', 1), ('aaaaaaaabbbbbcccc', 0), ('abc', 1), ('aaabbbbbbbbbbbbbbbbb', 0), ('aaabbbccc', 1), ('aaaaaabbbbbbcccccc', 1), ('aaaaaaaaaaaaaaaab', 0), ('aaaaaaaaaaaaaaab', 0), ('aaaaaaaaaaaaaaaaabbb', 0), ('aaaaaaaaaaabbbbbbbb', 0), ('abc', 1), ('aabbbbbbbbbbbbbbb', 0), ('aaaabbbbcccc', 1), ('aaaaaaaaaaaaaaaaaaa', 0), ('aaaaaaaaaaaaaaaaaab', 0), ('aaaaaaaaaaaabbbbbb', 0), ('aaabbbccc', 1), ('aaabbbbbbbbb', 0), ('aaabbbccc', 1), ('bbb', 0), ('aaaaaaaaaabbbbbbbbb', 0), ('aaaaaaaaaaabbbbbbbb', 0), ('aaaaaaaaaabbbbbbb', 0), ('aaaaaaaaaabbbbbbbbbb', 0), ('aaaaaabbbbbbcccccc', 1), ('aaaaaaaaabbbbbbbbbb', 0), ('aaaaaaaaaaaaaabbbb', 0), ('aaaaaaabbbbbbbbbbbbb', 0), ('aaaaaaaaaaaaaaaaaabb', 0), ('aaaaaaaaaaaaaaaaaabb', 0), ('aaaaaaaaaaaaaaaaaaab', 0), ('aaaaaaaaaaabbb', 0), ('aaaabbbbbb', 0), ('aaaaabbbbbccccc', 1), ('aaabbbccc', 1), ('abcccccc', 0), ('aaaaaaaaaaaaaaaaab', 0), ('aaaabbbbcccc', 1), ('abc', 1), ('abc', 1), ('aaaaaaaaaaaaaaaabbb', 0), ('aaaaaaabbbbbbbcccc', 0), ('aaabbbccc', 1), ('aaabbbbbb', 0), ('aaabbbbbbbbbbbbbbb', 0), ('aabbbbbbccc', 0), ('abc', 1), ('aaaaaaaaaaaaabbbbbb', 0), ('aaaaabbbbbccccc', 1), ('aaaaaabbbbbbcccccc', 1), ('aaaaabbbbbccccc', 1), ('aaaaabbbbbccccc', 1), ('aaaaaaaaaaabbbb', 0), ('aaaabbbbcccc', 1), ('abc', 1), ('aaaaaaaaaaaaaaaabbbb', 0), ('aaaabbbbcccc', 1), ('aabbbbbbbbbbbbbbbbb', 0), ('aaaaabbbbbccccc', 1), ('abc', 1), ('aaaaaaaaabbbbbcccccc', 0), ('aaaaaaaaaaabcccccc', 0), ('aaaaaaaaaaaaaaaaab', 0), ('abc', 1), ('aaaabbbbcccc', 1), ('aaaaabbbbbccccc', 1), ('aaaaaaaaaaaaaaaaaaab', 0), ('aaaaaaaabbbbbcccc', 0), ('aaaaaaaaaaaaaaaaaabb', 0), ('aaaaaaaaaaaaaaaaabc', 0), ('aaaaaabbbbbbcccccc', 1), ('aaaaaaaaaaaaaaaaaabb', 0), ('aaaaaabbbbbbcccccc', 1), ('abc', 1), ('aaaaaaaaaaaaab', 0), ('aaaaaaabbbbbbbbbbbb', 0), ('bbbccc', 0), ('aaabbbccc', 1), ('abbbbbbbbccccc', 0), ('aaaaaaaaaaaaaaaaaabb', 0), ('', 1), ('aaaaaaaaaaaabbbbbbb', 0), ('aaaaaabbbbbbcccccc', 1), ('aaabbbbbbbbc', 0), ('aaaaaaaaaaabbb', 0), ('aaaaaaaaaaabbbbbbc', 0), ('aaaaaaaaaaaaaab', 0), ('bbbbbbbbbbbbb', 0), ('aaaabbbbcccc', 1), ('aaaaabbbbbccccc', 1), ('aaaaaaaab', 0), ('bbbbbb', 0), ('aaaaaaaabbbbbbbbbb', 0), ('aaaaaaaaaaaaaaaaaab', 0), ('aaabbbccc', 1), ('aaaaabbbbbccccccccc', 0), ('aaaaabb', 0), ('', 1), ('aaaaaaaaaabbbbbbb', 0), ('aaaaaabbbbbbcccccc', 1), ('', 1), ('aaaaaaaaaaaaaaaaaaab', 0), ('aaaaaaaaaabbbbbbbbb', 0), ('aaaaaabbbbcccccc', 0), ('aaaaaabb', 0), ('aaaaabbbbbccccc', 1), ('', 1), ('aaaaaaaaaaaabbbbbbbb', 0), ('aaaabbbbbbbb', 0), ('aaaaaabbbbbbcccccc', 1), ('aaaaaaaaaaa', 0), ('aaaaaaaaaaaaaaaabbb', 0), ('abc', 1), ('', 1), ('abc', 1), ('aaaaaaabbbbbbbbb', 0), ('aaabbbccc', 1), ('aaaaabbbbbccccc', 1), ('abc', 1), ('aaaaaaaaaaaaaaaaaaa', 0), ('aaaabbbbcccc', 1), ('aaaaaaaaaabbbbbccccc', 0), ('aaaaabbbbbccccc', 1), ('aaaaaabbbbbbcccccc', 1), ('aaabbbccc', 1), ('aaaaabbbbbccccc', 1), ('aabbbbbbbbbbbbbbbbbb', 0), ('aaaaaaaaaaabb', 0), ('aaaaaabbbbbbcccccc', 1), ('aabbbbbcccccccc', 0), ('aaaaaaaaaaaaaaaaaaab', 0), ('', 1), ('', 1), ('aaaaabbbbbccccc', 1), ('aaabbbccc', 1), ('aaaaaaaaaaaaaaa', 0), ('abc', 1), ('aaaabbcc', 0), ('abc', 1), ('aaaaaaaaaaaaaaaabbb', 0), ('aaaabbbbcccc', 1), ('aaaabbbbcccc', 1), ('aaaaaaaaaaaaaaaabbbb', 0), ('aaaaaaaaaaaaaaaaabb', 0), ('abc', 1), ('aaaaaaaaaaaaaaaaab', 0), ('aaaaaaaaaaaaaaaaa', 0), ('aaaaaaaaaaaaaaaaaab', 0), ('aaaaaaaaabbbbbbbbbbb', 0), ('aaaaaabbbbbbcccccc', 1), ('aaaaaabbbbbbcccccc', 1), ('aaaaaaaaaaaaaaaabbc', 0), ('aaaaabbbbbbbbbb', 0), ('aaaaaaabbbbbbbbb', 0), ('aaaabbbbcccc', 1), ('', 1), ('aaaaaaaaaaaaaaaaac', 0), ('aaaaaaaaaaaaabbbbbcc', 0), ('', 1), ('aaaaaaaaabbbbbbbb', 0), ('aaaaaaaaaaaaabb', 0), ('aaaaaaabbbbbbbbbbbbb', 0), ('aaabbbccc', 1), ('aaaaaaaaaaaaaaaabbbb', 0), ('', 1), ('aaaaabbbbbccccc', 1), ('aaaabbbbcccc', 1), ('aaabbbbbcccc', 0), ('aaaaaabbbbbbcccccc', 1), ('aaaaaaaaaaaaaaaaaaab', 0), ('aaabbbccc', 1), ('aaaaaaaaaabbbbbbbbb', 0), ('abc', 1), ('abc', 1), ('abc', 1), ('aaaaaaaaaaaaabbb', 0), ('abc', 1), ('aaaab', 0), ('aaabbbccc', 1), ('aaaaabbbbbccccc', 1), ('aaaaaaaaaaaaaaabbbbb', 0), ('aaaaaabbbbbbcccccc', 1), ('abc', 1), ('aaaaaaaaaaaaaaaaabbb', 0), ('aaaabbbbcccc', 1), ('abbbbbbbbbbbbbbbbbb', 0), ('aaaaaaaaaaaaaaaaaaab', 0), ('aaaaaaaabbbbbbbbb', 0), ('aaaaaaaaaaaaaaaccccc', 0), ('aaaabbbbcccc', 1), ('aaaaaabbbbbbcccccc', 1), ('aaaaa', 0), ('', 1), ('aaabbbbbbb', 0), ('', 1), ('aaaaaabbbbbbcccccc', 1), ('aaaabbbbcccc', 1), ('abc', 1), ('aaaaaaaaaaa', 0), ('aabbbbcccccc', 0), ('abbbbbbbbbbbbbbbbb', 0), ('aaabbbccc', 1), ('aaabbbccc', 1), ('aaaaaaaaaabb', 0), ('aaabbbccc', 1), ('aaaabbbbcccc', 1), ('aaaaaaabbbbbbbbbccc', 0), ('aaaaaaaaaaaaaaaaaa', 0), ('abc', 1), ('aaaabbbbcccc', 1), ('aaaaaabbbbbbcccccc', 1), ('abc', 1), ('aaaaaaaaaaaaabbbbbb', 0), ('aaaaaaaaaaabbbbbb', 0), ('aaaaabbbbbccccc', 1), ('aaaaaaaaaaaaccc', 0), ('aaaaaaaaaabbbb', 0), ('aaaabbbbcccc', 1), ('aaabbbccc', 1), ('aaaabbbbcccc', 1), ('aaaaaaaaaaabbbbbc', 0), ('aaaaaaaaaaaaaaabbb', 0), ('aaaaaaaabbb', 0), ('abc', 1), ('aaaabbbbcccc', 1)]\n",
      "Average Sentence Length:\n",
      "12.702\n",
      "Val Data Sample:\n",
      "[('aabbcc', 1), ('aabbcc', 1), ('aabbcc', 1), ('aaaaaabbbcccc', 0), ('aaaabbbbbbbbbbbbc', 0), ('aabbcc', 1), ('aabbcc', 1), ('aaaaaaaa', 0), ('aaaaaaaaaaaaabbb', 0), ('aaaaaaaaaaaaaabbbbbb', 0), ('aabbcc', 1), ('aabbcc', 1), ('aaaaaaaaaaaaaaaaaaab', 0), ('aaaaaaaaaaaaaaaaaabb', 0), ('aaaaaaaaaaaaaaaaaaab', 0), ('aabbcc', 1), ('bbbb', 0), ('aabbcc', 1), ('aaaaaaaaaaaaaaaab', 0), ('aaaaaaaabbcccccccc', 0), ('aabbcc', 1), ('aabbcc', 1), ('aabbcc', 1), ('aabbcc', 1), ('aabbcc', 1), ('aaaabbbbbb', 0), ('aabbcc', 1), ('aabbcc', 1), ('aaaaaaaaaaaaaaaaaab', 0), ('aabbcc', 1), ('aaabbb', 0), ('aabbcc', 1), ('aaaaabbbbbbbbbbbbbbb', 0), ('aaaaaaaaaaaaaaaaaab', 0), ('aabbcc', 1), ('aabbcc', 1), ('aabbcc', 1), ('aaaaaaaaaaaaaaaaabbb', 0), ('aabbcc', 1), ('aaaaaaaaaaaaaabbbbbb', 0), ('aabbcc', 1), ('aaaabbbbbbbbbbbbbbb', 0), ('aaaaaaabbbb', 0), ('aaaaabbbbbbbcccccc', 0), ('aaaaaaaaaabbbbbbbb', 0), ('aabbcc', 1), ('aabbcc', 1), ('aaaaaaaaaaaaabbbb', 0), ('aaaaabbbbbbbbbb', 0), ('aaabbbbbbbbb', 0), ('aabbcc', 1), ('aaaaaaaaaaaaaaabbbb', 0), ('aabbcc', 1), ('aabbcc', 1), ('aabbcc', 1), ('aaaaaaab', 0), ('aaaaaabbbbb', 0), ('aabbcc', 1), ('aabbcc', 1), ('aaaaaaaaaaaaabccc', 0), ('aaaaaaaaaaaaaaaaab', 0), ('aaaaaaaaaaaaaaaaaaab', 0), ('aabbcc', 1), ('aaaaaaaaaaabbbbb', 0), ('aabbcc', 1), ('aaaaaaaaaaaaaaaaaabb', 0), ('abbbbbbbbbbbbbb', 0), ('aaaaaaaabbbbbbbbbccc', 0), ('aaaaaaaaaabbbbbbbbc', 0), ('aaaaaaaaaaaaaaaabbb', 0), ('aabbcc', 1), ('bbbbbbbbbbbbbb', 0), ('aaaaaaaaaabbbbbb', 0), ('aaaaaaaaaaaaabbbbbb', 0), ('aabbbbbbbbbbbbbbc', 0), ('aaaaaaaaaaaaaaaaabb', 0), ('aaaaaaab', 0), ('bbbbbbbbb', 0), ('aabbcc', 1), ('aabbcc', 1), ('bbbbbcccccccccccc', 0), ('aaaaaaaaaaaaabbccccc', 0), ('aaaaaaaaaaaabbbbbbb', 0), ('aaaabbbbbbbbbbbbbbb', 0), ('aabbcc', 1), ('aaaaaaaaaabb', 0), ('aaaaaabbbbb', 0), ('aaaabbccccc', 0), ('aabbcc', 1), ('aabbcc', 1), ('aaaaaaaaaaaabbbbb', 0), ('aabbbbbbbbbbbb', 0), ('aabbcc', 1), ('aaaaaa', 0), ('aabbcc', 1), ('aabc', 0), ('aabbcc', 1), ('aabbcc', 1), ('aaaaaaaaaaaaaaaabbbc', 0), ('aabbcc', 1), ('aabbcc', 1), ('aabbcc', 1), ('aaaaaaaaaaabbbcc', 0), ('aaaabbbbbbbbbbbbbbc', 0), ('aabbcc', 1), ('aabbcc', 1), ('aaaaaaaaaabbb', 0), ('aabbcc', 1), ('aaaaaaabbbb', 0), ('aabbcc', 1), ('aaaaabbcc', 0), ('aabbcc', 1), ('aabbcc', 1), ('aaaaaaaaaabbbbbb', 0), ('aabbcc', 1), ('aabbcc', 1), ('aabbcc', 1), ('aabbcc', 1), ('aabbbbccccccccc', 0), ('aabbcc', 1), ('bbbbbbbbbbbbbbbbbbbb', 0), ('abbbbbbbbbbbbbbb', 0), ('aabbcc', 1), ('aabbcc', 1), ('aabbcc', 1), ('aabbcc', 1), ('aabbcc', 1), ('aaaaaaaaaaabcccccccc', 0), ('aabbcc', 1), ('abbbbbbbbbbbbbbbbb', 0), ('aabbcc', 1), ('aaaaabccccccccccccc', 0), ('aabbcc', 1), ('aaaaaaaaaaaaaabbbbb', 0), ('aabbcc', 1), ('abbbbbbbbbbbbbbbbccc', 0), ('bbcccccccc', 0), ('aabbcc', 1), ('aaaaaabbbbbbbbbb', 0), ('aaaaaaaaaaaaaaaaab', 0), ('aaaaaaabbbbbbb', 0), ('aaaaaabbbbbbbbbbbbb', 0), ('aabbcc', 1), ('aaaaaaaaaaaabbbbb', 0), ('aabbcc', 1), ('a', 0), ('aaaaaaaaaa', 0), ('aabbcc', 1), ('aabbcc', 1), ('aabbcc', 1), ('aaaaaaaaaaaaaaaab', 0), ('aabbcc', 1), ('bbbbbbbbbbbbbb', 0), ('aabbcc', 1), ('aaaaabbbbbbbbbbcc', 0), ('aabbcc', 1), ('aaaaaaaaaaaaaaaaabbb', 0), ('aaaaaaaaaaaaaabb', 0), ('aabbcc', 1), ('aabbbbbbbbbbbb', 0), ('aabbbbbbbbbbbc', 0), ('aaaaaaaaaaabb', 0), ('aabbcc', 1), ('aabbcc', 1), ('aaaaaaaaaaabbb', 0), ('aabbcc', 1), ('aabbcc', 1), ('aabbcc', 1), ('aabbcc', 1), ('aabbcc', 1), ('aaaaabbbbbbbbbbbbbbb', 0), ('aabbcc', 1), ('aabbcc', 1), ('aabbcc', 1), ('aaaaaaaaaaabbbccc', 0), ('aaaaaaaaaaaaaaabbb', 0), ('aaaaaaaaaaaaaaabb', 0), ('aabbcc', 1), ('aabbcc', 1), ('aabbcc', 1), ('aabbcc', 1), ('aabbcc', 1), ('aabbcc', 1), ('aaaaaaaaabbbbbbbbb', 0), ('aabbcc', 1), ('aabbcc', 1), ('aaaaabbbbbbbbbbbbb', 0), ('aaaaaaaaaaaaaaaaaa', 0), ('aabbcc', 1), ('aabbcc', 1), ('aaaaaaab', 0), ('aabbcc', 1), ('abbbbbbbbbbbbbbbbbb', 0), ('aaaaaaaabbbbbb', 0), ('aabbcc', 1), ('aabbcc', 1), ('aaaaaaaaaaaaaaabb', 0), ('aabbcc', 1), ('aabbcc', 1), ('aabbcc', 1), ('bccc', 0), ('aabbcc', 1), ('aabbccccc', 0), ('bbbbbbbbbbbbbbbb', 0), ('aaaaaaaaaaaaaaaaaaab', 0), ('aaaaaaaaaaaaaaaac', 0), ('aabbcc', 1), ('aabbcc', 1), ('aaaaaaaaaaaaaabcccc', 0), ('aabbbbb', 0), ('aaaaabbbbbbbb', 0), ('aabbcc', 1), ('aabbcc', 1), ('aabbcc', 1), ('aabbcc', 1), ('aabbcc', 1), ('aaaaaaaaaaaaaaaaaaab', 0), ('aaaaaaaaaaaabbb', 0), ('aabbcc', 1), ('aaaaaaaaaaaaaaabbccc', 0), ('bbbbbcccccccccccccc', 0), ('bbbbbbbbbbbbbcc', 0), ('aabbcc', 1), ('aabbcc', 1), ('aabbcc', 1), ('aabbcc', 1), ('aaaaaaaaaaaaabbbbbbb', 0), ('aaaaaaaaaaaaaaaaabbb', 0), ('aaaaaaaaaaaaaaaaa', 0), ('aaaaaaaaabbbbbbbbccc', 0), ('aaaaaaaaaaaaaaaaaaab', 0), ('aabbcc', 1), ('aaaaaaaaaaaaaaabb', 0), ('aaaaaaaaaaaabbbb', 0), ('aabbcc', 1), ('aabbcc', 1), ('aaaaabbbcccc', 0), ('aabbcc', 1), ('aaaaaaaabbbbbbbbbb', 0), ('aaaaaaaaaaabbb', 0), ('aaaaaaaaabbbbbbbbb', 0), ('aabbcc', 1), ('aabbcc', 1), ('aabbcc', 1), ('aabbcc', 1), ('aaaaaaaaabbbbb', 0), ('aaaaaaaabccccc', 0), ('aabbcc', 1), ('aabbcc', 1), ('aabbcc', 1), ('aabbcc', 1), ('aaaaabbbbbbbccc', 0), ('aabbcc', 1), ('aaaaaaaaaaaaaaabbb', 0), ('aabbcc', 1), ('aaaaaaaaaa', 0), ('aaaaaaaaaaaaaaaaaa', 0), ('aaaaaaaaaaaaaabbbc', 0), ('aabbcc', 1), ('aaaaaaaaaaabbbbbbbcc', 0), ('aaaabbbbbbbbbbb', 0), ('aabbcc', 1), ('aaaaaaabb', 0), ('aaaaaaaaaaaaaabbbbbb', 0), ('aabbcc', 1), ('aaaaaaaaaaaaaaaaa', 0), ('aaaaaaabbbbbbbbbb', 0), ('aaaaaaaaaaaaaaaaaaa', 0), ('aaaabbbbbbbbbbbbbbbb', 0), ('aaaaaaaaaaaabbbbbb', 0), ('aabbcc', 1), ('aabbcc', 1), ('aabbcc', 1), ('aabbcc', 1), ('aabbcc', 1), ('aabbcc', 1), ('aabbcc', 1), ('aaaaaaaaaaaaabbbbb', 0), ('aaaaaaaaaaaaaaaaaabb', 0), ('aaaaaaaaaaaaaaaaaaa', 0), ('aabbcc', 1), ('bbbbbbbbbbbbbbbbb', 0), ('aaaaaaaaaaaaaaaaab', 0), ('aaaaaaaaaaaaaabbbbcc', 0), ('aabbcc', 1), ('aaaaaaaaaaaaaaaabbbb', 0), ('aabbcc', 1), ('aabbcc', 1), ('aabbcc', 1), ('aabbcc', 1), ('aaaaabbbbbbbbbcccccc', 0), ('bb', 0), ('aabbcc', 1), ('aaaaaaaaaaaaaaabcc', 0), ('aabbcc', 1), ('aabbcc', 1), ('aabbcc', 1), ('aabbcc', 1), ('aabbcc', 1), ('bbbbbbbbbbbbbc', 0), ('aabbcc', 1), ('aabbcc', 1), ('aabbcc', 1), ('aabbcc', 1), ('aaaaaaaaabbbbbb', 0), ('aabbcc', 1), ('abbbbbbbccccccccccc', 0), ('aabbcc', 1), ('aabbcc', 1), ('aabbcc', 1), ('aabbcc', 1), ('aabbcc', 1), ('aabbcc', 1), ('aabbcc', 1), ('aaaabbbbbbbbbbbbbbb', 0), ('aabbcc', 1), ('aaaaaaaaaaaaaabbbbb', 0), ('aabbcc', 1), ('aaaaaaaabb', 0), ('aabbcc', 1), ('aabbcc', 1), ('aaaaabbbbbbbbbbb', 0), ('aabbcc', 1), ('aaaaaaaabbb', 0), ('aaaaaaabbbbbbbb', 0), ('aaaaaaaaaaabbbbbbbbb', 0), ('aabbcc', 1), ('aabbcc', 1), ('aaaaaaaaaaabcccc', 0), ('aaaaaaaaaaaaaaaaaaa', 0), ('aabbcc', 1), ('abbbbbbbbbbbb', 0), ('aaaaaaabbbbbbbbbbbbb', 0), ('aaaaaaabbbb', 0), ('aaaaaaaaaaaaaaaabbb', 0), ('aabbcc', 1), ('aaaaaaaaaabbbbbb', 0), ('aaaaaaaaabbbbb', 0), ('aabbcc', 1), ('aabbcc', 1), ('aabbcc', 1), ('aaaaaaaaaaaaaaaaaaa', 0), ('aaaaaaabbb', 0), ('abbbbbbbbbbbbbbbb', 0), ('aabbcc', 1), ('aabbcc', 1), ('aaaaaaaabbbbbbbbbbbb', 0), ('abbbbbbbbbbb', 0), ('aaaaaaaaaaaaaabcc', 0), ('aabbcc', 1), ('aabbcc', 1), ('aabbcc', 1), ('aaaaaabbbcc', 0), ('aabbcc', 1), ('aaaaaaaaaaaaaaabbbbb', 0), ('aaaaaaaaabbbb', 0), ('aaaaaaabbbbbbbbcc', 0), ('aabbcc', 1), ('aabbcc', 1), ('aaaaaaaaaaaaaaaaaabb', 0), ('aaaaabbbbbbb', 0), ('aabbcc', 1), ('aabbcc', 1), ('bbbbbbbbbbbbbbbbbb', 0), ('aabbcc', 1), ('aaaaaaaaaaaaaaaaaaab', 0), ('aabbcc', 1), ('aabbcc', 1), ('aabbcc', 1), ('aabbcc', 1), ('aaaaabbccccccccccccc', 0), ('aaaabbbbbbbbbbb', 0), ('aabbcc', 1), ('aabbcc', 1), ('aabbcc', 1), ('aabbcc', 1), ('aabbcc', 1), ('aabbcc', 1), ('aaaaaaaabbbbbbbbcccc', 0), ('aabbcc', 1), ('aaaaaaaaaaaaaaaaaaac', 0), ('aabbcc', 1), ('aaaaaabbbbbcccccc', 0), ('abbbbbbbbbbbbbb', 0), ('aabbcc', 1), ('aaaaaaaaaaaaaaaaab', 0), ('aaaaaaaaaaaaa', 0), ('aaabbbbbbbbbbbcccc', 0), ('aabbcc', 1), ('aaaaaaaaaaaaaaaaa', 0), ('aabbcc', 1), ('aaaaaaabbb', 0), ('aabbcc', 1), ('aabbcc', 1), ('aabbcc', 1), ('aabbcc', 1), ('aabbcc', 1), ('aabbcc', 1), ('aabbcc', 1), ('aabbbbbbbbb', 0), ('aabbcc', 1), ('aabbb', 0), ('aabbcc', 1), ('aaacccccccccc', 0), ('aaaaaaaaaaaabbbbbccc', 0), ('aaaaaaaaaaaaaaaaaab', 0), ('aabbcc', 1), ('aaaaaaaaaaaaaab', 0), ('aabbcc', 1), ('aabbcc', 1), ('aabbcc', 1), ('aabbcc', 1), ('aaaaaaaaaaaaaaaab', 0), ('aaabbbbbbbbbbbbbbbbb', 0), ('aabbcc', 1), ('aaaaaaaaaaaaaaaaac', 0), ('aabbcc', 1), ('aaaaaaaaaaaaaaaaaaab', 0), ('aabbcc', 1), ('aabbcc', 1), ('aabbcc', 1), ('aaaaaaaaaaaaabbbb', 0), ('aabbbbbbbbbbbbbbbbb', 0), ('aabbcc', 1), ('bbbbbbbbbbcccccccc', 0), ('aaaaaaaaabbbbbbbbbbb', 0), ('aaacccccccccccccccc', 0), ('aaaaaaaaaabbb', 0), ('aaaaaaaaaaabbbb', 0), ('aabbcc', 1), ('aaaabbbbbbbcccccccc', 0), ('aabbcc', 1), ('aaaaaaaaaaaaaaaabbbc', 0), ('aaaaaaabccccccccccc', 0), ('aaaaaaaaaaaaabbbb', 0), ('aabbcc', 1), ('aabbcc', 1), ('aabbcc', 1), ('aabbcc', 1), ('aaaaaabbbbbbb', 0), ('aabbcc', 1), ('aaaaaaaaaaaaabbb', 0), ('aaaaaaaaaaaabbbbbbb', 0), ('bbbbbbbbbbb', 0), ('aaaaaaaaabbcccc', 0), ('aaaaaaaaaaaaaaaaaa', 0), ('aaaaaaaaaaaaabbbb', 0), ('aaaaaaaaaaaabbbbbbb', 0), ('aabbcc', 1), ('aaaaaaaaaaaaaaaaaaa', 0), ('abbbbbbbbcccccccccc', 0), ('aaaaaaaaaaab', 0), ('aabbcc', 1), ('aaaaaaaaaaaaaaaabb', 0), ('aabbcc', 1), ('aabbcc', 1), ('aabbcc', 1), ('aabbcc', 1), ('aabbcc', 1), ('aabbcc', 1), ('aaaaaaaaaabbbbbbbbbb', 0), ('aabbcc', 1), ('aabbcc', 1), ('aabbcc', 1), ('aaaaaaaaaaaabbbbbbbb', 0), ('aabbcc', 1), ('aabbcc', 1), ('aabbcc', 1), ('aabbcc', 1), ('aabbcc', 1), ('aabbcc', 1), ('aabbcc', 1), ('aabbcc', 1), ('aaaaaaaaaaaaaaaaaa', 0), ('aabbcc', 1), ('aabbcc', 1), ('aabbcc', 1), ('aaabcccccc', 0), ('aaaaaaaaaaaacccccccc', 0), ('aabbcc', 1), ('aaaaaaaaaaaaabbbb', 0), ('aabbcc', 1), ('abbbbcccccccc', 0), ('aaaaaaaaaaaabbbbb', 0), ('aaaaaaabbbbb', 0), ('aaaaaabbbbbbbbbb', 0), ('aaaaaaaaaaaaaabbbbbb', 0), ('aabbcc', 1), ('aabbcc', 1), ('bbbbbccccccc', 0), ('aabbcc', 1), ('aabbcc', 1), ('aabbcc', 1), ('aabbcc', 1), ('aabbcc', 1), ('aaaaabbbbbbb', 0), ('aaaabbbbbbbbbbb', 0), ('aaaaaaaaaaaaabbbb', 0), ('aabbcc', 1), ('aaaaaaaaabbbb', 0), ('aabbcc', 1), ('aabbcc', 1), ('aabbcc', 1), ('aabbcc', 1), ('aaaaaaaaaaaaaaaaaaa', 0), ('aaaaaaaaaaaaaaaaabbb', 0), ('aabbcc', 1), ('aaaaaaaaaaaaaaaaaab', 0), ('aaaaaaaaaaaaaaaaaabb', 0), ('aabbcc', 1), ('aaaaaaaaaaaaaabbbbbb', 0), ('abbbbbbbbbbbbbbbbbb', 0), ('aaaabbbbccc', 0), ('aabbbbbbbccccc', 0), ('aaaaaaaaaaabbbb', 0), ('aabbcc', 1), ('aabbcc', 1), ('aaaaaab', 0), ('aabbcc', 1), ('aabbcc', 1), ('aaaaaaabbbbbbbbbbb', 0), ('aaaaaaaaaaaaaaaaabbb', 0), ('aaaaaaaaaaaaaabbc', 0), ('aabbcc', 1), ('aaaaaaaaaaaabbbb', 0), ('aabbcc', 1), ('aabbcc', 1), ('aabbcc', 1), ('aabbcc', 1), ('aabbcc', 1), ('aaaaaaaaaaaabbb', 0), ('aaaaaaaaaabbb', 0), ('aaaaaaaaaaaaaaaaabc', 0), ('aabbcc', 1), ('aabbcc', 1), ('aaaabbccccccccccc', 0), ('aabbcc', 1), ('aaaaaaaaaaaaaaaaaa', 0), ('aabbcc', 1), ('aabbcc', 1), ('aaaaaaaaaaaaaaaa', 0), ('aabbcc', 1), ('aaaaabbbbbbbb', 0), ('aabbcc', 1), ('aabbcc', 1), ('aaaaaaabbbbb', 0), ('aabbcc', 1), ('aabbcc', 1), ('aabbcc', 1), ('aabbcc', 1), ('aaaaaaaaaaaaaaaaaa', 0), ('aaaaaaaaaaaaaaaabbb', 0), ('aabbcc', 1), ('aaaaaaaaaaaaaaaabb', 0), ('aabbbbbbbbbbbbcccc', 0), ('aabbcc', 1), ('aaaaaaaaaaaaaabb', 0), ('aaaaaaaaaaaaaaabbbbb', 0), ('aaaaaaaaaaabbbccc', 0), ('aaaaaaaaaaaabbb', 0), ('aabbcc', 1), ('aaaaaaaaaaaaab', 0), ('aabbcc', 1), ('aaaaaaaaaaaaaaaab', 0), ('aaaaaaaaab', 0), ('aabbcc', 1), ('aabbcc', 1), ('aabbcc', 1), ('aabbcc', 1), ('aabbcc', 1), ('aaaaaaaabbbbbbbbbb', 0), ('aaaaaaaaaaaaaaaaa', 0), ('aaaaaaaaaaaaaaaaaab', 0), ('aabbcc', 1), ('aaaaaaaaaaabbbbbbbb', 0), ('aaaaaaaaaaaaaa', 0), ('aabbcc', 1), ('aabbcc', 1), ('aabbcc', 1), ('aa', 0), ('aabbcc', 1), ('aabbcc', 1), ('aaaaaaaaaaaaaaaaaccc', 0), ('aabbcc', 1), ('abbbccccccccccccc', 0), ('aaaabbbbcccccccccccc', 0), ('aaaaabbbbbbbbbbbbb', 0), ('aaaaaaaaaaaaaaaaaaa', 0), ('aabbcc', 1), ('aabbcc', 1), ('aaaaaaaaaaaaaabbbbbb', 0), ('aaaaaaaaaaaaabbbb', 0), ('aabbcc', 1), ('aaaaaaaaaaaaaaaabbbb', 0), ('aaaaaaaaaaaaabbbbb', 0), ('aaaaaaaaaaaaaaaaab', 0), ('aabbcc', 1), ('aabbcc', 1), ('aabbbbcccccc', 0), ('aaaaaaaaaaaaaaaaaab', 0), ('aabbcc', 1), ('aaaaaaaaaaaaabbbbb', 0), ('aabbcc', 1), ('aaaaaaaaaaaabccc', 0), ('aabbcc', 1), ('aaaaaaaaabbbbcc', 0), ('aaaaabbbbbbbcccc', 0), ('aaaaaaaaaaaabbb', 0), ('aaaaaaaaaaaaaaaaabbb', 0), ('aabbcc', 1), ('aabbcc', 1), ('aaaaaaaaaaaaaaaabb', 0), ('aaaaaabbbbbbbb', 0), ('aaaaaaaaaabbbbb', 0), ('aaaaaaaaaaaaaaaaaaab', 0), ('aaaaaaabbbbbbbbbb', 0), ('aabbcc', 1), ('aaaaaaaabbc', 0), ('aabbcc', 1), ('aaaaaaaaaaaaaaabbbbb', 0), ('aaaaaaabbbbbbbbccccc', 0), ('aabbcc', 1), ('aaabbbbbbbbbbbbbcc', 0), ('aaaaaaaaaaaaaaaab', 0), ('aabbcc', 1), ('aaaaaabbbbbb', 0), ('aabbcc', 1), ('aabbcc', 1), ('aaaaaaaabbbbb', 0), ('aabbcc', 1), ('aabbcc', 1), ('aaaaabbbbbbbbbbbbbb', 0), ('aaaaaaaabbbbbbbbbbb', 0), ('aaaaaaaaaaaabcccccc', 0), ('aabbcc', 1), ('aabbcc', 1), ('aaaaabbbbbbbbbbbbbb', 0), ('aaaaaaaaaabbbbbcccc', 0), ('aabbcc', 1), ('aabbcc', 1), ('aaaaaaaaaaaaaaaab', 0), ('aaaaaaaaaaaaaaaabb', 0), ('aabbcc', 1), ('aabbcc', 1), ('aabbcc', 1), ('aabbcc', 1), ('aabbcc', 1), ('aaaaaabbbbbbbbbbbbbb', 0), ('aabbcc', 1), ('aabbcc', 1), ('aaaaabbbb', 0), ('aabbcc', 1), ('aaaaaabbbbbbbbbb', 0), ('aaaaaaaaaaaaabbb', 0), ('aaaabbb', 0), ('aaaaaaaaaaaaaaaaab', 0), ('aabbcc', 1), ('aabbcc', 1), ('aaaaaaaaaaaaaaaaaaa', 0), ('aaabbbbbcccccc', 0), ('aabbbbbb', 0), ('aabbcc', 1), ('aacccccccccc', 0), ('aaaaaaaaaaaaaaabbbbb', 0), ('aabbcc', 1), ('aaaaaaaaaaaaaaaabb', 0), ('aabbcc', 1), ('aabbcc', 1), ('aaaaaaaaaaaabbbbbbbb', 0), ('aabbcc', 1), ('aabbcc', 1), ('aaaaaaabbbc', 0), ('aabbcc', 1), ('aabbcc', 1), ('aabbcc', 1), ('aabbcc', 1), ('aabbcc', 1), ('aabbcc', 1), ('aabbcc', 1), ('aaaabbbbbbbbb', 0), ('aabbcc', 1), ('aabbcc', 1), ('aaabbbbbbbbbbbbbbbbc', 0), ('aaaaaaaaaaaaaaaa', 0), ('aabbbbbbbbbbbbccccc', 0), ('aaaaaaaaaaaaaaaaaaa', 0), ('aaaaaaaaaaaaaabbbbbb', 0), ('aaaaaaaaaaabbbccccc', 0), ('aaaaaaaaaaaaaaabbb', 0), ('aabbcc', 1), ('aabbcc', 1), ('accccccc', 0), ('aaaaaabbbbbbbbb', 0), ('aaabbbbbcccccccccccc', 0), ('aaaaaaabbbbbbb', 0), ('aaabbbbbbbbb', 0), ('aabbcc', 1), ('aaaaaaaaaaaaaaaaaaa', 0), ('aaaaaabbbbb', 0), ('aaaaaaabbbbbbbbc', 0), ('aabbcc', 1), ('aaaaaaab', 0), ('aabbcc', 1), ('aaaaaaaaaabbbbbbbbb', 0), ('bbbbbbbbbbbbbbbbbbb', 0), ('aaaaaaaaaaaabbbbbb', 0), ('aabbcc', 1), ('aabbcc', 1), ('aaaaaaaaaaaaaab', 0), ('aabbcc', 1), ('aaaabbb', 0), ('aabbcc', 1), ('bbbbbbbcccccc', 0), ('aaaaaaaaabbbbbc', 0), ('aaaaaaaaaaaaaaab', 0), ('aabbcc', 1), ('aabbcc', 1), ('ccc', 0), ('bbbbcccccccccccc', 0), ('aabbcc', 1), ('aaaaabbbbbccccc', 0), ('aaaaaaaaaabb', 0), ('aabbcc', 1), ('aaaaaaaaaaaaaaaaaaa', 0), ('aaaaaa', 0), ('aabbcc', 1), ('aabbcc', 1), ('aabbcc', 1), ('aaaaaaaaaabbbbbbbbb', 0), ('aaaaaaaaaaaaaaaaa', 0), ('aaaaaaaaaaaaaaaaaaab', 0), ('aaaaaabbbbbcccccccc', 0), ('aabbcc', 1), ('aabbcc', 1), ('aabbcc', 1), ('aabbcc', 1), ('aabbcc', 1), ('aabbcc', 1), ('aabbcc', 1), ('aaaaaaaaaabbbbbbbbb', 0), ('aabbcc', 1), ('aabbcc', 1), ('aaaaabbbbbbbbbbccc', 0), ('aabbcc', 1), ('aabbcc', 1), ('aabbcc', 1), ('aabbcc', 1), ('aabbcc', 1), ('abbbbbbbbbbbbbbbbbbb', 0), ('aabbcc', 1), ('aaaaaaaabbbccccccccc', 0), ('aaaaaaaaaaaaaaa', 0), ('aabbcc', 1), ('bbbbbbbbbbbbbbbbbbbb', 0), ('aaaaaabbbbbbccccccc', 0), ('aaabbbbbbbbbbbbbbbbb', 0), ('aabbcc', 1), ('aaaaaaaaabbbb', 0), ('aabbcc', 1), ('aabbcc', 1), ('aabbcc', 1), ('aabbcc', 1), ('aaaabbbbbbbbbbbbbb', 0), ('aaaaaaaaabbbbbbb', 0), ('aabbcc', 1), ('aaaaaaaaaaaaaaaaaaac', 0), ('aabbcc', 1), ('aabbcc', 1), ('aaaaaaaaaaaaaaaabbbb', 0), ('aaaaaaaaaaaaaaaaaaab', 0), ('aabbcc', 1), ('aaaaaaaaa', 0), ('aabbcc', 1), ('aabbcc', 1), ('aaaaaaaaaaaaaaab', 0), ('aabbcc', 1), ('aabbcc', 1), ('aaaaaaaaaaaaaaaaaabb', 0), ('aabbcc', 1), ('bbbbbbbbbbbbbb', 0), ('aabbcc', 1), ('aaaaaaaaaaabbbbbbc', 0), ('aabbcc', 1), ('aabbcc', 1), ('aaaaaaaaaaaaaaabbbbb', 0), ('aaaaaaaaaaaaaaaaaa', 0), ('aabbcc', 1), ('aaaaaaaaaaaabbbbbcc', 0), ('aabbcc', 1), ('aaaaaaaaaaaaaaaaab', 0), ('aabbcc', 1), ('aaaaaaaaaaaaaaaaaabb', 0), ('aabbcc', 1), ('aabbcc', 1), ('aaaaaaaaaaaaaaaaaabc', 0), ('aabbcc', 1), ('abbbbbbcccccccccc', 0), ('aaaaaaaaaaaaaaaaa', 0), ('aaaaaaaaaaaaaaaacccc', 0), ('bbbbbbbbbbbbbbcccccc', 0), ('aaaaabbbbbbbbb', 0), ('aabbcc', 1), ('aabbcc', 1), ('aabbcc', 1), ('aaaaaaaaaaaaabbb', 0), ('aaaaaaaaaaaabbbb', 0), ('aaaaaaaaaaaaa', 0), ('aaaabbbbbbbbbbbb', 0), ('aabbcc', 1), ('bbbbbbccccccccccc', 0), ('aaaaaabbbbbb', 0), ('aaaaaaaaaaaaaaaabbbb', 0), ('aabbcc', 1), ('aaaaaaaaaaabbbbbbb', 0), ('aabbcc', 1), ('aabbcc', 1), ('aaaaaaaaaaaaaaaabbb', 0), ('aaaaaaaaaabbbb', 0), ('aabbcc', 1), ('aabbcc', 1), ('aaaaaaaaabbbbbbbbbbb', 0), ('aabbcc', 1), ('aabbcc', 1), ('aaaaaaaaaaaaaaaabbcc', 0), ('aaaaaaaaaaaabb', 0), ('aaaaaaaaaaaaaaaaaaab', 0), ('aabbcc', 1), ('aaaaaaaaaaa', 0), ('aaaaaaaaaaabbbcc', 0), ('aaaaaaaaaaaab', 0), ('aabbcc', 1), ('aaabbbbbbbbbbbbbcc', 0), ('aabbcc', 1), ('aabbcc', 1), ('aaaaaaaaaaaabbbb', 0), ('aabbcc', 1), ('aaaaaaaaaaaabbbbbbbb', 0), ('aabbcc', 1), ('aaaaaaaaaaaaabcc', 0), ('aaaaaaabbbbbbb', 0), ('aabbcc', 1), ('aabbcc', 1), ('aaaaaaaaaaabbbbb', 0), ('aabbcc', 1), ('aabbcc', 1), ('aaaabbbbbbcccccc', 0), ('aabbcc', 1), ('aabbcc', 1), ('aaaaaaaaaaabbbbbbbbb', 0), ('aaaaaaaaaaabbbb', 0), ('aabbcc', 1), ('aaabbbbbbbbbbbbb', 0), ('aabbcc', 1), ('aabbcc', 1), ('aabbcc', 1), ('aaaaaaaaaabbb', 0), ('aabbcc', 1), ('aaaaaaaaaaaaaaaaab', 0), ('aabbcc', 1), ('aaaaaaaaa', 0), ('abbbbb', 0), ('aaaaaaaaaaaabb', 0), ('aaaaabbb', 0), ('aaaaaaaaaaaaaab', 0), ('aaaaaaaaaaaaaaaabbb', 0), ('aabbcc', 1), ('aaaaaaaaaaaaaaaabb', 0), ('aabbcc', 1), ('aaaaabbbbbbbbbb', 0), ('aabbcc', 1), ('aaaaaaaaaaaaaaaaaab', 0), ('aaaaaaaaaaaabb', 0), ('aabbcc', 1), ('aabbcc', 1), ('aabbcc', 1), ('aaaaaaaaaaaaabb', 0), ('aaaaaaaaaaaabbbbbccc', 0), ('aaaaaaabbbbbbbbbb', 0), ('aaaaaaaaaaaaaabc', 0), ('aabbcc', 1), ('aabbcc', 1), ('aabbcc', 1), ('aabbcc', 1), ('aabbcc', 1), ('aaaaaaaaaaaaabbb', 0), ('aabbcc', 1), ('aabbcc', 1), ('aaaaaaaaaaaaaaabb', 0), ('aaaaaaaaaaaaaaaaabbc', 0), ('aabbcc', 1), ('aabbcc', 1), ('aaaaaaaaaaaaabbbbb', 0), ('aabbcc', 1), ('abbbbbbbbbbbbb', 0), ('aabbcc', 1), ('aabbcc', 1), ('aabbcc', 1), ('aabbcc', 1), ('aabbcc', 1), ('aaaaaaaaaaabbbbb', 0), ('bbbbbbbbbbbbbbbbbbb', 0), ('aabbcc', 1), ('aabbcc', 1), ('aabbcc', 1), ('aaaaaaaaaaaaaaabbbb', 0), ('abbbbbbbbbbbbbb', 0), ('aaaaaaaaaaaaaaabbb', 0), ('aaaaabc', 0), ('abbbbbbbbbbbbbbbbbbb', 0), ('aaaaaaaaaaaaaabbbccc', 0), ('aaaaaaaaabbbb', 0), ('aabbcc', 1), ('aabbcc', 1), ('aabbcc', 1), ('aaaaaaaabbbb', 0), ('aabbcc', 1), ('aabbcc', 1), ('aaaaaaaaaaaaaab', 0), ('aaaaaaaaaaaaaaaabb', 0), ('aabbcc', 1), ('aabbcc', 1), ('aaaaaaaaaabbbbbbbbbb', 0), ('aaabbbbbbbbbbbbbbb', 0), ('aabbcc', 1), ('aaaaaaaaaaaaaaaabbbb', 0), ('aaaaaaaaaaaaaccc', 0), ('aabbcc', 1), ('aaaaaaaaaaaabbbbccc', 0), ('aabbcc', 1), ('aabbcc', 1), ('aaaaaaaaaaaaaaaaaabb', 0), ('aaaaaaaaaaaaaaaaaaa', 0), ('abbbbbbbbbbbbbbbb', 0), ('aaaaaaaaaaaaaa', 0), ('aabbcc', 1), ('aaaaaaaaaaaaab', 0), ('aaaaaaaabbb', 0), ('aaaaaaaa', 0), ('aaaaaaaaaaaaabbbbb', 0), ('aaaaaaaaaaaaaaa', 0), ('aabbcc', 1), ('aabbcc', 1), ('aabbcc', 1), ('abbbbbccccccc', 0), ('aabbcc', 1), ('aabbcc', 1), ('aaabbbbbbbbbb', 0), ('aaaaaaaabbbbbbbbbbbb', 0), ('aabbcc', 1), ('aaaaabbbbbbbbbbbbb', 0), ('aaaaaaaaaaaaab', 0), ('aabbcc', 1), ('aaaaaaaabbbbbbbbbb', 0), ('aabbcc', 1), ('aabbcc', 1), ('aabbcc', 1), ('aaaaaaaaaaaaaaabbb', 0), ('aaaaaaaaaaaabbb', 0), ('aabbcc', 1), ('aabbcc', 1), ('aaaaaaaaaaa', 0), ('aaaaaaaaabbbbbbbbbbb', 0), ('aaabbbbbbbbbbccccc', 0), ('aaaaaaaaaaaaaaaa', 0), ('aaabbbbbbbbbbbb', 0), ('aaaaaaaaabbbbb', 0), ('aabbcc', 1), ('aaaaaaaaaaaaabbbbccc', 0), ('aaaaaaaaaaabbbbb', 0), ('aabbcc', 1), ('aaaaaaaaaaaaaaaaab', 0), ('aabbcc', 1), ('aaaaaaabbbbbbbbbbbb', 0), ('aabbcc', 1), ('aabbcc', 1), ('aaaaaaaaaaaaaaaaaaa', 0), ('aaabbb', 0), ('bbbbbbbbcccccccccccc', 0), ('aabbcc', 1), ('aaaaaabbb', 0), ('aabbcc', 1), ('aaaaaabbbbbbbbbbbb', 0), ('aabbcc', 1), ('aabbcc', 1), ('aaaabccccccccc', 0), ('aabbcc', 1), ('bbbbbbbbbbbbbcccccc', 0), ('aabbcc', 1), ('aabbcc', 1), ('aabbcc', 1), ('aaaaaaaaaaaaaaaaaaa', 0), ('aabbcc', 1), ('aaaaaaaaaaaabbbb', 0), ('aaaaaaabbcccccccccc', 0), ('aabbcc', 1), ('aabbcc', 1), ('aaaaaaaaaaaaaaaab', 0), ('aabbcc', 1), ('aaabbbbbbbbbbbbb', 0), ('aaaaaaaaaaaaaa', 0)]\n",
      "Average Sentence Length:\n",
      "11.086\n",
      "Test Data Sample:\n",
      "[('aaaaaaaaaabbbbbbbbbbcccccccccc', 1), ('aaaaaaaaaaaaaabbbbbbbbbbbbbbbbbcccccc', 0), ('aaaaaaaaaaaabbbbbbbbbbbbcccccccccccc', 1), ('aaaaaaaaaaaaaaaaaaaaabbbcccccccccccc', 0), ('aaaaaaabbbbbbbbbbbbbbbbbbcccccccccccc', 0), ('aaaaaaaaaabbbbbbbbbbcccccccccc', 1), ('aaaaaaaaaaaaaaaaaaaaabbbbbbbbbbbbbccccc', 0), ('aaaaaaaaaaaaaaaaaaaabbbbbbbbbbbbb', 0), ('aaaaaaaaabbbbbbbbbccccccccc', 1), ('aaaaaaaaaaaabbbbbbbbbbbbcccccccccccc', 1), ('aaaaaaaaaabbbbbbbbbbcccccccccc', 1), ('aaaaaaaaaaaaaaaaaaaaaaaaabbbbbbb', 0), ('aaaaaaaaaabbbbbbbbbbbbbbbbb', 0), ('aaaaaaaaaaabbbbbbbbbbbccccccccccc', 1), ('aaaaaaabbbbbbbccccccc', 1), ('aaaabbbbbbbbbccccccccccccccccccc', 0), ('aaaaaaaaaaaaaaaaaaaaaaaaaaaaaaaaabbb', 0), ('aaaaaaaaaabbbbbbbbbbcccccccccc', 1), ('aaaaaaabbbbbbbccccccc', 1), ('aaaaaabbbbbbbbbccccccccccccccccccc', 0), ('aaaaaaaaaaaaaaaaaaaaaaabbbbccccccccccc', 0), ('aaaaaaaaaabbbbbbbbbbcccccccccc', 1), ('aaaacccccccccccccccccccccccccccccccccc', 0), ('aaaaaaaaabbbbbbbbbccccccccc', 1), ('aaaaaaaaaaaaaaaaaaaaaaaaaaaabb', 0), ('aaaaaaaaaaaabbbbbbbbbbbbcccccccccccc', 1), ('aaaaaaaaaaaaaaaaaaaaabcccccccccccccccc', 0), ('aaaaaaabbbbbbbccccccc', 1), ('aaaaaaacccccccccccccccccccccc', 0), ('abbbbbbbbccccccccccccccccccccccccccc', 0), ('aaaaaaaabbbbbbbbcccccccc', 1), ('aaaaaaaaabbbccccccccccccccccc', 0), ('aaaaaaaaaabbbbbbbbbbcccccccccc', 1), ('aaaaaaaaaaaaaaaaabbbbcccccccccccc', 0), ('aaaaaaaaabbbbbbbbbccccccccc', 1), ('aaaaaaaaaaaaaaaaaaaaaaaaaaaaaaaabbbbb', 0), ('aaaaaaaaaaabbbbbbbbbbcccccccccccc', 0), ('aaaaaaaaaaaaaaaaaaaaaaaaaaacccccc', 0), ('aaaaaaaaaaaaaaaaaaaaaaaaaaaaaaaabbbbbbbb', 0), ('aaaaaaaaaabbbbbbbbbbcccccccccc', 1), ('aaaaaaaaaaaaaaaaaaaaabbbbbbbbbbbbbbbbbbb', 0), ('aaaaaaaaaabbbbbbbbbbcccccccccc', 1), ('aaaaaabbbbcccccccccccccccccccccccccccc', 0), ('aaaaaaaaaaaabbbbbbbbbbbbcccccccccccc', 1), ('aaaaaaabbbbbbbccccccc', 1), ('aaaaaaaaaabbbbbbbbbbcccccccccc', 1), ('abbbbbbbbbbbbbbbbbbbbbbbbbbbbbbbbbbbbbb', 0), ('aaaaaaaaaabbbbbbbbbbcccccccccc', 1), ('aaaaaaaaaaaaaaaaaaaaaaaaaaaaaabbbbbbbbbb', 0), ('aaaaaaaaaaaabbbbbbbbbbbbcccccccccccc', 1), ('aaaaaaaaaaaaaaaaaaaaaaaaaaaaaaaaaaab', 0), ('aaaaaaaaaaaaaaaaaaaaaaaaaaaaaaaaaaaab', 0), ('aaaaaaaaaaaaaaabbbbbbbbc', 0), ('aaaaaaaaaabbbbbbbbbbccccccccccccccccccc', 0), ('aaaaaaaaaabbbbbbbbbbcccccccccc', 1), ('aaaaaaaaaaaaaabbbbbbbbbbbbbbbbbbbbbbb', 0), ('aaaaaaaaaaaabbbbbbbbbbbbcccccccccccc', 1), ('aaaaaaaaaabbbbbbbbbbcccccccccc', 1), ('aaaaaaaaaaaaaaaaaaaaaaaaaaaabbbbbbb', 0), ('aaaaaaaaaabbbbbbbbbbcccccccccc', 1), ('aaaaaaaaaaaaaaaaaaaaaaaaaaaaaaaaabbbbb', 0), ('aaaaaaaaabbbbbbbbbccccccccc', 1), ('aaaaaaabbbbbbbccccccc', 1), ('aaaaaaaaaaaaaaaaaaaaaaabbbcccccccccc', 0), ('aaaabbbbbbbbbbbbbbbbbbbbbbbbbbbbbbbbbb', 0), ('aaaaaaabbbbbbbccccccc', 1), ('aaaaaaaaaaaaaaaaaaaaaaaaaaaaaaaaaaaaaaa', 0), ('aabbbbbbbbbbbbbbbbbbbbbbbbbbbbbbbbbbb', 0), ('abbbbccccccccccccccccccccccccccccccc', 0), ('aaaaaaaaaabbbbbbbbbbcccccccccc', 1), ('aaaaaaaaaaaabbbbccccccccccccc', 0), ('aaaaaaaaaaaaaaaaaaaaaaaaabbbb', 0), ('aaaaaaaaaabbbbbbbbbbcccccccccc', 1), ('aaaaaaaaaaaaaaaaaaaaaaaaaaaaaaaaaaabbbbb', 0), ('aaaaaaaaaabbbbbbbbbbcccccccccc', 1), ('aaaaaaaabbbbbbbbcccccccc', 1), ('aaaaaaaaaaaabbbbbbbbbbbbcccccccccccc', 1), ('aaaaaaaabbbbbbbbbbbbbbbcccc', 0), ('aaaaaaaaaaabbbbbbbbbbbccccccccccc', 1), ('aaaaaaaaaaaaaaaabbbbbbbbbbbb', 0), ('aaaaaaaabbbbbbbbcccccccc', 1), ('aaaaaaaabbbbbbbbcccccccc', 1), ('aaaaaaaaaabbbbbbbbbbcccccccccc', 1), ('aaaaaaaaaaaabbbbbbbbbbbbcccccccccccc', 1), ('aaaaaaaabbbbbbbbcccccccc', 1), ('aaaaaaaaaaaabbbbbbbbbbbbbbbbbbbbbbbb', 0), ('aaaaaaaaabbbbbbbbbccccccccc', 1), ('aaaaaaaaaaaabbbbbccccccccccccccccccccccc', 0), ('aaaaaaaaaaabbbbbbbbbbbbbcccccccccccc', 0), ('aaaaaaaaaaaabbbbbbbbbbbbbbbb', 0), ('aaaaaaaaaabbbbbbbbbbcccccccccc', 1), ('aaaaaaaaaaaabbbbbbbbbbbbcccccccccccc', 1), ('aaaaaaaaaaaaaaaaaaaaaaaaaabbbbbbbbbbbb', 0), ('aaaaaaaaaaaaaaaaaaaaaaaaaaaaaaabbbbbb', 0), ('aaaaaaaaaaaaaaaaaaaaaaabbbbbbbb', 0), ('aaaaaaaabbbbbbbbcccccccc', 1), ('aaaaaaaaaaaaaabbbbbbbbbbbbbbbbbbbbbbcc', 0), ('aaaaaaaaabbbbbbbbbccccccccc', 1), ('aaaaaaaaaaabbbcccccccccccccccccccc', 0), ('aaaaaaaaaaabbbbbbbbbbbccccccccccc', 1), ('aaaaaaaaaaaaaaaaaaaaaaaaabbbbbbbbbbbbcc', 0), ('aaaaaaaaaaaabbbbbbbbbbbbcccccccccccc', 1), ('aaaaaaaaaaaaaaaaaabcccccccccccccccccc', 0), ('aaaaaaaaaaaaabbbbbbbbbbbbbccccccccccccc', 1), ('aaaaaaaaaaaaaaaaaaaaaaaaaaaaabbbbccccc', 0), ('aaaaaaaaaaabbbbbbbbbbbccccccccccc', 1), ('aaaaaaaaaabbbbbbbbbbcccccccccc', 1), ('aaaaaaaaaaaaaaaaaaaaaaaaaaaaaaaabbb', 0), ('aaaaaaaaaabbbbbbbbbbcccccccccc', 1), ('aaaaaaaaaaaaabbbbbbbbbbbbbbbbbbbbbbbbbb', 0), ('aaaaaaaaaabbbbbbbbbbcccccccccc', 1), ('aaaaabbbbbbbbbbbbbbbbbbbbbccc', 0), ('aaaaaaaaaaaaaaaaaaaaaaaaaaaaaaaaaaaab', 0), ('aaaaaaaaabbbbbbbbbccccccccc', 1), ('aaaaaaaaaaaaaaaaaaaaaaaaaaaaaaaab', 0), ('aaaaaaaaaaabbbbbbbbbbbccccccccccc', 1), ('aaaaaaaaaaaaaaaaaabbbbbbbbbbbbbbbbbc', 0), ('aaaaaaabbbbbbbccccccc', 1), ('aaaaaaaaabbbbbbbbbccccccccc', 1), ('aaaaaaabbbbbbbccccccc', 1), ('aaaaaaaaaabbbbbbbbbbcccccccccc', 1), ('aaaaaaaaaaaaaaaaaaaaaaaaaaaaaaaabbbbbbbb', 0), ('aaaaaaaaaabbbbbbbbbbbbbbbbbbbbbb', 0), ('aaaaaaaabbbbbbbbcccccccc', 1), ('aaaaaaaaabbbbbbbbbccccccccc', 1), ('aaaaaaaaaaabbbbbccccccccccccccccccccccc', 0), ('aaaaaaaabbbbbbbbcccccccc', 1), ('aaaaaaaaaabbbbbbbbbbcccccccccc', 1), ('aaaaaaaaaaaaaaaaaaaaaaaaacc', 0), ('aaaaaaaaaabbbbbbbbbbcccccccccc', 1), ('aaaaaaaaaaaaabbbbbbbbbbbbbccccccccccccc', 1), ('aaaaaaaaaaaaaaaaabbbbbbbbbbbbccccccccccc', 0), ('abbbbbbbbbbbbbbbbbbbbbbbbbbbbbbbbbbccccc', 0), ('aaaaaaabbbbbbbccccccc', 1), ('aaaaaaaaabbbbbbbbbbbbbbbbb', 0), ('aaaaaaaaaaaaaaaaaaaaaaaaabbbbbbbbbb', 0), ('aaaaaaaaaabbbbbbbbbbcccccccccc', 1), ('aaaaaaaaaaaaabbbbbbbbbbbbbccccccccccccc', 1), ('aaaaaaaaaaaaabbbbbbbbbbbbbccccccccccccc', 1), ('aaaaaaabbbbbbbccccccc', 1), ('aaaaaaaaaaaabbbbbbbbbbbbcccccccccccc', 1), ('aaabbbbbbbbbbbbbbbbbbbbbbbbbbbbbbbbbbbb', 0), ('aaaaaaaabbbbbbbbcccccccc', 1), ('aaaaaaaaaaaaaaaaaaaaaaaaaaaaaaaab', 0), ('aaaaaaaaaaaabbbbbbbbbbbbcccccccccccc', 1), ('aaaaaaaaaaabbbbbbbbbbbbbbbbbbbbbbbb', 0), ('aaaaaaabbbbbbbccccccc', 1), ('aaaaaaaaaaaaaaaaaaaaaaaaaaaaaaaaaaaaaabc', 0), ('aaaaaaaaaaaaaaaaaaaaaaaaaaaaabbbb', 0), ('aaaaaaaaaaaaaaaaaaaaaaaaaaabbb', 0), ('aaaaaaaaaaaaaaaaaabbbbbbcccccccccccccc', 0), ('bbbbbbbbbbbbbbbbbbbbbbbbbbbbbcccccc', 0), ('aaaaaaaaaaaaaaaaaaaaaaaaaaaaaaaaaaaaaa', 0), ('aaaaaaaabbbbbbbbcccccccc', 1), ('aaaaabbbbbbbbccccccccccc', 0), ('aaaaaaaaaaaaabbbbbbbbbbbbbccccccccccccc', 1), ('aaaaaaaaaaaaaaaaaaaaaaaaaaaaaaaaaaabb', 0), ('aaaaaaaaaaaaabbbbbbbbbbbbbccccccccccccc', 1), ('aaaaaaaaaaaaaaaaaaabbbc', 0), ('aaaaaaaaaaaaaaabbbccccccccccccccccccccc', 0), ('aaaaaaaaaaaaaaaaaaaaaaaaabbbbbbbbbbcccc', 0), ('aaaaaaaaaaaaaaaaaaaaaaaaaaaaaaaaaaabbbb', 0), ('aaaaaaaaaabbbbbbbbbbcccccccccc', 1), ('aaaaaaabbbbbbbccccccc', 1), ('aaaaaaaaaaaaaaaaaaaaaabbbbbbbbbbb', 0), ('aaaaaaaaaabbbbbbbbbbcccccccccc', 1), ('aaaaaaaaaaaaabbbbbbbbbbbbbccccccccccccc', 1), ('aaaaaaaaaaaabbbbbbbbbbbbcccccccccccc', 1), ('aaaaaaabbbbbbbccccccc', 1), ('aaaaaaaaabbbbbbbbbccccccccc', 1), ('aaaaaaabbbbbbbccccccc', 1), ('aaabbbbbbbbbbbbbbbbbbbbbbbbbbbbb', 0), ('aaaaaaabbbbbbbccccccc', 1), ('aaaaaaaaaaaaaaaaaaaaaaaaaaabc', 0), ('aaaaaaaaaabbbbbbcccccccccccccccccccccccc', 0), ('aaaaaaaaabbbbbbbbbccccccccc', 1), ('aaaaaaabbbbbbbbbbbbbbbbbbbbbbbbbbbbbbbbb', 0), ('aaaaaaaaaaaabbbbbbbbbbbbcccccccccccc', 1), ('aaaaaaabbbbbbbccccccc', 1), ('aaaaaaaaaaaaabbbbbbbbbbbbbccccccccccccc', 1), ('aaaaaaaaaaaaaaaaaaaaaaaabbbbbbbbbbbbbbbb', 0), ('aaaaaaaaaaaaaaaaaaaaaaaaaaaaaaaaaaaaaaab', 0), ('aaaaaaaaaabbbbbbbbbbcccccccccc', 1), ('aaaaaaaaaaaaaaaaaaaaaaaaaaaaaaaaaabbcccc', 0), ('aaaaaaaaaaaaaaaaaaabbbbbbbbbbbb', 0), ('aaaaaaaaaaaaaaaaaaaaaaaaaaaaaaaaaaa', 0), ('aaaaaaaabbbbbbbbcccccccc', 1), ('aaaaaaabbbbbbbccccccc', 1), ('aaaaaaaaaabbbbbbbbbbcccccccccc', 1), ('aaaaaaaaaaaabbbbbbbbbbbbcccccccccccc', 1), ('aaaaaaabbbbbbbccccccc', 1), ('aaaaaaaaaaaaabbbbbbbbbbbbbccccccccccccc', 1), ('aaaaaaaaaaaaaabbbbbbbbcccccccc', 0), ('aaaaaaaaaaaaaaaaaaaaaaaaaaaaaaaaaaaa', 0), ('aaaaaaaaaaaaabbbbbbbbbbbbbccccccccccccc', 1), ('aaaaaaaaaaaabbbbbbbbbbbbcccccccccccc', 1), ('aaaaaaaaaaaaaaaaaaaaaaaaaaaaaaaaaabbbb', 0), ('aaaaaaabbbbbbbccccccc', 1), ('aaaaaaabbbbbbbbbbbbbbbbbbbbbbbbbbbbbbb', 0), ('aaaaaabbbbbbbbbbbbbbbbc', 0), ('aaaaaaaaaaaaaaaaaaabbbbbbbbbbbbbbbbcccc', 0), ('aaaaaaaaaaaaaaaaaaaaaaaabbbbbbcccccccc', 0), ('aaaaaaaaaaaabbbbbbbbbbbbcccccccccccc', 1), ('aaaaaaaaaaaabbbbbbbbbbbbcccccccccccc', 1), ('aaaaaaabbbbbbbccccccc', 1), ('aaaaaaaaaaaabbbbbbbbbbbbcccccccccccc', 1), ('aaaaaaaaaaaaaaaaaaaaaaaaaaaaaabbbc', 0), ('aaaaaaaabbbbbbbbcccccccc', 1), ('aaaaaaabbbbbbbbbbcccccccc', 0), ('aaaaaaaaaaaaaaaaaabbbbbbbbbbbbbbbbbbbccc', 0), ('aaaaaaabbbbbbbccccccc', 1), ('aaaaaaaaabbbbbbbbbccccccccc', 1), ('aaaaaaaaabbbbbbbbbccccccccc', 1), ('aaaaaaaaaabbbbbbbbbbcccccccccc', 1), ('aaaaaaaaaabbbbbbbbbbbbbbbbbcccccccccccc', 0), ('aaaaaaaaaaaaabbbbbbbbbbbbbccccccccccccc', 1), ('aaaaaaaabbbbbbbbbbbbbbbbbbbbbbbbbbb', 0), ('aaaaaaaaabbbbbbbbbccccccccc', 1), ('aaaaaaaaaaaaaaaabbbbbbbbbbbbbbbbb', 0), ('aaaaaaaaaaaaaaaaaaaaaabbbbbbbbbbbbbbbb', 0), ('aaaaaaaaaaabbbbbbbbbbccccccccccccccc', 0), ('aaaaaaaaaaaabbbbbbbbbbbbcccccccccccc', 1), ('aaaaaaaaaaaaabbbbbbbbbbbbbccccccccccccc', 1), ('aaaaaaaaaaaabbbbbbbbbbbbcccccccccccc', 1), ('aaaaaaaaaaaaabbbbbbbbbbbbbccccccccccccc', 1), ('aaaabbbbbccccccccccccccccccccccccccc', 0), ('aaaaaaaaaaaaaaaaaaaaaaaaaaaabcccccc', 0), ('aaaaaaaaaaabbbbbbbbbbbbbbbbbbbbbbbbbbc', 0), ('aaaaaaaaabbbbbbbbbccccccccc', 1), ('aaaaaaaaaaaaabbbbbbbbbbbbbccccccccccccc', 1), ('aaaaaaabbbbbbbccccccc', 1), ('aaaaaaabbbbbbbccccccc', 1), ('aaaaaaaaaaaaaaaaaabbbbbbbbbbbbbbbbbbccc', 0), ('aaaaaaaaaaaaaaaaaaaaaaaaaaaaaaaaaaab', 0), ('aaaaaaaaaabbbbbbbbbbcccccccccc', 1), ('aaaaaaaaaaaaabbbbbbbbbbbbbccccccccccccc', 1), ('aaaaaaaaaaaaabbbbbbbbbbbbbccccccccccccc', 1), ('aaaaaaaaaaabbbbbbbbbbcc', 0), ('aaaaaaaaabbbbbbbbbccccccccc', 1), ('aaaaaaaaaaaaaabbbbbbbb', 0), ('aaaaaaaaabbbbbbbbbccccccccc', 1), ('aaaabbbbbbbbbbbbbbbbbbbbbbbbbbbb', 0), ('aaaaaaaaaaaaaaaaaaaaaabbbbbbbbbbbbbbccc', 0), ('aaaaaaaaaabbbbbbbbbbcccccccccc', 1), ('aaaaaaaabbbbbbbbcccccccc', 1), ('aaaaaaaaaaaabbbbbbbbbbbbcccccccccccc', 1), ('aaaaaaaaaaaaaaaaaaaaaaaaabbbbbbbb', 0), ('aaaaaaaaaabbbbbbbbbbcccccccccc', 1), ('aaaaaaaaabbbbbbbbbccccccccc', 1), ('aaaaaaaabbbbbbbbcccccccc', 1), ('aaaaaaabbbbbbbccccccc', 1), ('aabbbbbbbbbbbbbbbbbbbb', 0), ('aaaaaaaaaaaaaaaaaaaaaaaaaaaaaaaaaaaaaaa', 0), ('aaaaaaaaaabbbbbbbbbbcccccccccc', 1), ('aaaaaaabbbbbbbccccccc', 1), ('aaaaaaaabbbbbbbbbbbbbbbbbbc', 0), ('aaaaaaaaaaaaaaaaaaaaaaaaaaaaaaaaaabbbbb', 0), ('aaaaaaabbbbbbbccccccc', 1), ('aaaaaaaaaaaaaaaaaaaaaaaaaaaaaaaaaaaaaa', 0), ('aaaaaaaabbbbbbbbcccccccc', 1), ('aaabbbbbbbbbbbbbbbbbbbbbbbbccc', 0), ('aaaaaaaaaabbbbbbbbbbcccccccccc', 1), ('aaaaaaaaaaabbbbbbbbbbbccccccccccc', 1), ('aaaaaaaaaaaabbbbbbbbbbbbcccccccccccc', 1), ('aaaaaaabbbbbbbccccccc', 1), ('aaaaaaaaabbbbbbbbbccccccccc', 1), ('aaaaaaabbbbbbbccccccc', 1), ('aaaabbbbbbbbbbbbbbbbbbbbbbbbb', 0), ('aaaaaaaabbbbbbbbcccccccc', 1), ('aaaaaaaaaaaaabbbbbbbbbbbbbccccccccccccc', 1), ('aaaaaaabbbbbbbbbccccccccccccc', 0), ('aaaaaaaaaaaaaaabbbbbbbbbbbbbbb', 0), ('aaaaaaaaaaabbbbbbbbbbbccccccccccc', 1), ('aaaaaaaaaaaabbbbbbbbbbbbcccccccccccc', 1), ('aaaaaaaaaaaaaaaaaaaaaaaaaaaaaaaaaaaaaab', 0), ('aaaaaaaaaaaaaaaaaaaaabbbbbbbbbbbbbbbb', 0), ('aaaaaaaaaaabbbbbbbbbbbccccccccccc', 1), ('aaaaaaaaaabcccccccccccccccccccc', 0), ('aaaaaaaaaaaaaaaaaaaaabcccccc', 0), ('aaaaaaaaaaaaaaaaaaaaaaaaaaaaaaaaaaabcccc', 0), ('aaaaaaaaaaaaaaaaaaaaaaaaaaaaaaaaabbb', 0), ('aaaaaaaaaaaaaabccccccccccccccccccccccccc', 0), ('aaaaaaaaabbbbbbbbbccccccccc', 1), ('aaaaaaaaaaabbbbbbbbbbbccccccccccc', 1), ('aaaaaaaaabbbbbbbbbccccccccc', 1), ('aaaaaaaaaaaaaaaaaaaaaaaaaaaaaaaaa', 0), ('aaaaaaaaaaabbbbbbbbbbbccccccccccc', 1), ('aaaaaaaaaaaabbbbbbbbbbbbcccccccccccc', 1), ('aaaaaaaaaabbbbbbbbbbcccccccccc', 1), ('aaaaaaaaaaaaaaaaaaaaaaaaaaaaaaaab', 0), ('aaaaaaabbbbbbbccccccc', 1), ('aaaaaaaaaabbbbbbbbbbcccccccccc', 1), ('aaaaaaaaaaaaaaaaaaaabbbbbbbbbbbb', 0), ('aaaaaaaaaaaaaaaaaaaaaaaaaaaabbbbbbb', 0), ('aaaaaaaaaaaaaaaaaaaaaaaabbbbbbbbbbccccc', 0), ('aaaaaaaaaaaaaaaaabccc', 0), ('aaaaaaaaaaaabbbbbbbbbbbbcccccccccccc', 1), ('aaaaaaaaaaaaabbbbbbbbbbbbbbbbbbbbbbbbbbb', 0), ('aaaaaaaaaaabbbbbbbbbbbccccccccccc', 1), ('aaaaaaaaaaabbbbbbbbbbbccccccccccc', 1), ('aaaaaaaabbbbbbbbbbbbbbbbbbbbbbbbbb', 0), ('aaaaaaaaaaaaabbbbbbbbbbbbbccccccccccccc', 1), ('aaaaaaaaaaaaaaaaaaaaaaaaaaaaaaaaaaaaab', 0), ('aaaaaaaaaaaabbbbbbbbbbbbbbbbbbc', 0), ('abbbbbbbbbbbbbbbbbbbbbbbbbbbbbbbbbbbbb', 0), ('aaaaaaabbbbbbbccccccc', 1), ('aaaaaaaaabbbbbbbbbccccccccc', 1), ('aaaaaabbbbbbbbbbbbbbbbbbbbbbbbb', 0), ('aaaaaaabbbbbbbbccccccccccccccc', 0), ('aaaaaaaaaaaaaaaaaaaaaaaaaaaaaaaaaaaaaaa', 0), ('aaaaaaaaaaaaaaaaaaaaaaabbbbbb', 0), ('aaaaaaaaaaabbbbbbbbbbbccccccccccc', 1), ('aaaaaaabbbbbbbccccccc', 1), ('aaaaaaaaaaaabbbbbbbbbbbbcccccccccccc', 1), ('aaaaaaaaaabbbbbbbbbbbbbbbbbbc', 0), ('aaaaaaaaabbbbbbbbbccccccccc', 1), ('aaaaaaaaabbbbbbbbbbbbbbbbbbbbbbbbbcccc', 0), ('aaaaaaaaaaabbbbbbbbbbbccccccccccc', 1), ('aaaaaaaabbbbbbbbcccccccc', 1), ('aaaaaaaaaabbbbbbbbbbcccccccccc', 1), ('aaaaaaaaaaaaaaaaaaaaaaaaaaaaaaaaaaaaaaa', 0), ('aaaaaaaaaaaabbbbbbbbbbbbcccccccccccc', 1), ('aaaaaaaaaaabbbbbbbbbbbccccccccccc', 1), ('aaaaaaaaaaaaaaaaaaaabbbbbb', 0), ('aaaaaaaaaaaaabbbbbbbbbbbbbccccccccccccc', 1), ('aaaaaaaaaaaaabbbbbbbbbbbbccccccccccccccc', 0), ('aaaaaaaaaaaabbbbbbbbbbbbcccccccccccc', 1), ('aaaaaaaaaaaabbbbbbbbbbbbcccccccccccc', 1), ('aaaaabbbbbbbbbbbbbbbccccccc', 0), ('aaaaaaaaaaabbbbbbbbbbbccccccccccc', 1), ('aaaaaaaaaaaabbbbbbbbbbbbcccccccccccc', 1), ('aaaaaaaaaabbbbbbbbbbcccccccccc', 1), ('aaaaaaaaaaaaaaaaaaaaaaaaaaaaaaaaaaabbccc', 0), ('aaaaaaaaaaaaaaaaaaaaaaaaaaaaaabcccc', 0), ('aaaaaaaaaaaaaaaaaaaaaaaaaaaaaaaaaabbb', 0), ('aaaaaaaaaabbbbbbbbbbcccccccccc', 1), ('aaaaaaaaaaaaaaaaaaaaaaaaaaaaaaaaaaab', 0), ('aaaaaaaaaaaaabbbbbbbbbbbbbccccccccccccc', 1), ('aaccccccccccccccccccccccccccccc', 0), ('abbbbbbbbccccccccccccccccccccccccccc', 0), ('aaaaaaaaaaaaabbbbbbbbbbbbbccccccccccccc', 1), ('aaaaaaaabbbbbbbbcccccccc', 1), ('aaaaaaaaaaaaaaaaaaaaaaaaaaabbbbbbbb', 0), ('aaaaaaaaaaaaaaaaaaaaaaaaaaaabbbbbbbbbbbb', 0), ('aaaaaaaaaaaaaaaaaaaaaaaaaaaaaaaabbbbcc', 0), ('aaaaaaaaaaaaaaaaaaaaaaabbb', 0), ('aaaaaaaaaaaaaaaaabbbbccccc', 0), ('aaaaaaabbbbbbbccccccc', 1), ('aaaaaaaaaaaabbbbbbbbbbbbcccccccccccc', 1), ('aaaaaaaaaaaaaaaaaaaaaaabbbccccc', 0), ('aaaaaaaaaabbbbbbbbbbbbbbbbbbbbbcccccc', 0), ('aaaaaaaaaaaabbbbbbbbbbbbcccccccccccc', 1), ('aaaaaaaaaaaaaaaaaaaaaaaaaaaaaaaaaaaaaab', 0), ('aaaaaaaaaaaabbbbbbbbbbbbcccccccccccc', 1), ('aaaaaaaaaaabbbbbbbbbbbccccccccccc', 1), ('aaaaaaaaaaaaabbccccccccccccccccccc', 0), ('aaaaaaaaaaaabbbbbbbbbbbbbbbbbbbbbbbbbbbb', 0), ('aaaabbbbbbbbbbbbbcccccccccccccccccc', 0), ('aaaaaaaaaaaaaaaaaaaaaaaaaaaaaaaaaaaaaaab', 0), ('aaaaaaaaaaaaaaaaaaaaaaabbbbbbbbbbbb', 0), ('aaaaaaaaaaaaaaaaaaaaaaabbbbbbb', 0), ('aaaaaaaaaaaaaaaaaaaaaabbbccccccc', 0), ('aaaaaaaabbbbbbbbcccccccc', 1), ('aaaaaaabbbbbbbccccccc', 1), ('aaaaaaaaaaaaaaaaaabbccccccccc', 0), ('aaaaaaaabbbbbbbbcccccccc', 1), ('aaaaaaaaaaaabbbbbbbbbbbbcccccccccccc', 1), ('aaaaaaaabbbbbbbbcccccccc', 1), ('aaaaaaabbbbbbccccccccccccccc', 0), ('aaaaaaabbbbbbbccccccc', 1), ('aaaaaabcccccccccccccccccccc', 0), ('aaaaaaaaaaaaaaaaaaacc', 0), ('aaaaaaaaaaaabbbbbbbbbbbbcccccccccccc', 1), ('aaaaaaaaaabbbbbbbbbbcccccccccc', 1), ('aaaaaaaaaaaaaaaaaaaaaaaaabbbbbbbbbcc', 0), ('aaaaaaaaaaabbbbbbcccccccccccccccccccccc', 0), ('aaaaaaaaaaabbbbbbbbbbbccccccccccc', 1), ('aaaaaaaaaaaabbbbbbbbbbbbcccccccccccc', 1), ('aaaaaaaaaaaabbbbbbbbbbbbcccccccccccc', 1), ('aaaaaaabbbbbbbccccccc', 1), ('aaaaaaaaaaaaaaaaaaaaabbbbbbbc', 0), ('aaaaaaaaaaaaaaaaaaaaaaaaaaaabccccc', 0), ('aaaaaaaaaaaaabbbbbbbbbbbbbccccccccccccc', 1), ('aaaaaaaaaaaaaaaaaaabbbbbbbbcc', 0), ('aaaaaaaaaaaaabbbbbbbbbbbbbccccccccccccc', 1), ('aaaabbbbbbbbbbbccccccccccc', 0), ('abbbbbbbbbbbbbbbbbbbbbbbbbbbccccc', 0), ('aaaaaaaaaaaaaaaabbbbbbbbbbbbbcccccc', 0), ('aaaaaaaaaaaabbbbbbbbbbbbbbbbccccccccc', 0), ('aaaaaaaaaaaaaaaaaaaaaaaaaaaaaaa', 0), ('aaaaaaaaaaabbbbbbbbbbbccccccccccc', 1), ('aaaaaaaaaabbbbbbbbbbcccccccccc', 1), ('aaaaaaabbbbbbbccccccc', 1), ('aaaaaaaaaaaaaaaaaaaaaaaaaaaaaaaaaaaaaaab', 0), ('aaaaaaabbbbbbbbbbbbbbbbbbbbbbbbbbbbbbbbb', 0), ('aaaaaaaaaaaaaaaaaaaaaaaaaaabbbbbbbbbbbb', 0), ('aaaaaaaaabbbbbbbbbccccccccc', 1), ('aaaaaaaaaaaaaaaaaaaaaaaaaaaaaaab', 0), ('aaaaaaaaabbbbbbbbbccccccccc', 1), ('aaaaaaaaaaaaaaaaaaaaaabbbbbbbbbbbccccccc', 0), ('aaaaaaaabbbbbbbbcccccccc', 1), ('aaaaaaabbbbbbbccccccc', 1), ('aaaaaaaabbbbbbbbcccccccc', 1), ('bbbbbbbbbbbbbbbbbbbbbccccccccccccccc', 0), ('aaaaaaaaaaaaaaaaaaaaaaaaaaaaaaaaaaaaaaa', 0), ('aaaaaaaaaabbbbbbbbbbbbbbccc', 0), ('aaaaaaaaabbbbbbbbbbbbbbbbbbbbbb', 0), ('aaaaaaaaabbbbbbbbbccccccccc', 1), ('aaaaaaabbbbbbbccccccc', 1), ('aaaaaaaaaaaaaaaaaaaaaaaaaaabbbb', 0), ('aaaaaaaaabbbbbbbbbccccccccc', 1), ('aaaaaaabbbbbbbbbbbbbbbbbbbbb', 0), ('aaaaaaabbbbbbbbbbbcccccccccccc', 0), ('aaaaaaaaaaaabbbbbbbbbbbbcccccccccccc', 1), ('aaaaaaaaaabbbbbbbbbbcccccccccc', 1), ('aaaaaaabcccccccccccccccccccccc', 0), ('aaaaaaaaaaaaaaaaaaaaaaaaaaaaaaaaaaaaaa', 0), ('aaaaaaaaaaaabbbbbbbbbbbbcccccccccccc', 1), ('aaaaaaaaaaaaaaaaaaaaaabbbbbbbbbbbbbbbbbb', 0), ('aaaaaaaaaabbbbbbbbbbcccccccccc', 1), ('aaaaaaaaaaabbbbbbbbbbbccccccccccc', 1), ('aaaaaaaaaaaabbbbbbbbbbbbcccccccccccc', 1), ('aaaaaaaaaaaaabbbbbbbbbbbbbccccccccccccc', 1), ('aaaaaaaaaaabbbbbbbbbbbccccccccccc', 1), ('aaaaaaaaaaabbbbbbbbbbbccccccccccc', 1), ('bbbbbbbbbbbbbbbbbbcccccccccccccc', 0), ('aaaaaaaaaaaaaaaaaaaaaaaaaaaaaaaaabbbbbbb', 0), ('aaaaaaaaaaaaaaaaaaaaaaaaaaaaaaaaaaaaabbb', 0), ('aaaaaaaaaaaaaaabbcccccc', 0), ('aaaaaaaaaaaaaaaaaaaaaaaaaaaaaaaa', 0), ('aaaaaaaaaaaaaaaaaaaaaaaaaaaaaaaaaaaaa', 0), ('abbbbbbbbbbbbbbbbbbbbbbbbbbbb', 0), ('aaaaaaaaaabbbbbbbbbbcccccccccc', 1), ('aaaaaaaaaaaaaaaaaaaaaaaaaaaaabbbbbbbbb', 0), ('aaaaaaaaaaabbbbbbbbbbbccccccccccc', 1), ('aaaaaaabbbbbbbccccccc', 1), ('aaaaaaaaaaaaaaaaaaaaaaaaaaaabbbbbbbb', 0), ('aaaaaaaaaaaabbbbbbbbbbbbcccccccccccc', 1), ('aaaaaaaaaaaaabbbbbbbbbbbbbccccccccccccc', 1), ('aaaaaaaabbbbbbbbbbbbbbbbbbbbbbbbcccccc', 0), ('aaaaaaabbbbbbbccccccc', 1), ('aaaaaaaaabbbbbbbbbccccccccc', 1), ('aaaaaaaaaaaaaaaaabbbbbbbbbbbbbbbbbbb', 0), ('aaaaaaaaaaabbbbbbbbbbbccccccccccc', 1), ('aaaaaaaaaaaaaaaaaaaaaaaabbbbbbbbbbbc', 0), ('aaaaaaaaaaaaaaaaaaaaaaaaaaaaaaaaaaaaaaab', 0), ('aaaaaaaaaaaaaaabbbbbbbbbbbbcccccccccccc', 0), ('aaaaaabbbbbbbbbbbbbbbbbbbbcccccccccc', 0), ('aaaaaaaaaabbbbbbbbbbcccccccccc', 1), ('aaaaaaaaaaaabbbbbbbbbbbbcccccccccccc', 1), ('aaaaaaaaaabbbbbbbbbbcccccccccc', 1), ('aaaaaaaaaaaabbbbbbbbbbbbcccccccccccc', 1), ('aaaaaaaaaabbbbbbbbbbcccccccccc', 1), ('aaaaaaaaaaaaaaaaaaaaaaaaaaaaaaaccccccc', 0), ('aaaaaaaaaabbbbbbbbbbcccccccccc', 1), ('aaaaaaaaaaaabbbbbbbbbbbbcccccccccccc', 1), ('aaaaaaaabbbbbbbbcccccccc', 1), ('aaaaaaaaaabbbbbbbbbbcccccccccc', 1), ('aaaaaaaaabbbbbbbbbbbbbbbbbbbcc', 0), ('aaaaaaaaaaabbbbbbbbbbbccccccccccc', 1), ('aaaaaaaaaaaaabbbbbbbbbbbbbccccccccccccc', 1), ('aaaaaaaaabbbbbbbbbccccccccc', 1), ('aaaaaaaaaaaabbbbbbbbbbbbcccccccccccc', 1), ('aaaaaaaaaabbbbbbbbbbcccccccccc', 1), ('aaaaaaaaaaabbbbbbbbbbbbbbbbbbbbbbbbbbbb', 0), ('aaaaaaabbbbbbbbbbbbbbbbbb', 0), ('aaaaaaaaaaaaabbbbbbbbbbbbbccccccccccccc', 1), ('aaaaaaaaaabbbbbbbbbbcccccccccc', 1), ('aaaaaaaabbbbbbbbcccccccc', 1), ('aaaaaaaaabbbbbbbbbccccccccc', 1), ('aaaaaaaaaaaabbbbbbbbbbbbcccccccccccc', 1), ('aaaaaaaaaaaabbbbbbbbbbbbcccccccccccc', 1), ('aaaaaaaaaaaaaaaaaaaabbbbbbbbbbbbbbbbbb', 0), ('abbbbbbccccccccccccccc', 0), ('aaaaaaaaaaaabbbbbbbbbbbbbbbbbbbbbbbb', 0), ('aaabbbbbbbbbcccccccccccccccc', 0), ('aaaaaaaaabbbbbbbbbccccccccc', 1), ('aaaaaaaaaaaaaabbbbccccccccccccc', 0), ('aaaaaaaaabbbbbbbbbccccccccc', 1), ('aaaaaaaaaaaaaaaaaaaaaaaaaaaaaaaaaaaa', 0), ('aaaaaaaaabbbbbbbbbbbbbbbbbbbbbbbbbbbb', 0), ('aaaaaaaaaaaaaaaaaaaaaaaaaaaaaaa', 0), ('aaaaaaaaaaaabbbbbbbbbbbbc', 0), ('aaaaaaaaaabbbbbbbbbbcccccccccc', 1), ('aaaaaaaaaaabbbbbbbbbbbccccccccccc', 1), ('aaaaabcccccccccccccccc', 0), ('aaabbbbbbbbbbbbbbbbbbbbbbbbbbbbbccccccc', 0), ('aaaaaaaaaaaaaaaaaaaaaaaaaaaaaaacc', 0), ('aaaaaaaaaaaaaaaaaaaaaaaaaaaaaaaaaaaaaa', 0), ('aaaaaaaaabbbbbbbbbccccccccc', 1), ('aaaaaaaaaaaaaaaaaaaaaaaaaaaaaaaaabbbbc', 0), ('aaaaaaabbbbbbbccccccc', 1), ('aaaaaaabbbbbbbccccccc', 1), ('aaaaaaaaabbbbbbbbbccccccccc', 1), ('aaaaaaaabbbbbbbbcccccccc', 1), ('aaaaaaaaabbbbbbbbbccccccccc', 1), ('aaaaaaaaaabbbbbbbbbbcccccccccc', 1), ('aaaaaaaaaaaaaaaaaaaaaaaaaaaaabbbbbbbb', 0), ('aaaaaaaaaaaaaaaaaaaaaaabbbbbbbbb', 0), ('aaabbbbbbbbbbbbbbbbbbbbbbbcccccccccc', 0), ('aaaaaaaaaaaaaaaaaabbbbbbbbbbbbbbbbbbbbb', 0), ('aaaaaaaaaaabbbbbbbbbbbccccccccccc', 1), ('aaaaaaaaaaaaaaaaaaaaaaaaaabbbbbbbbbbbbbb', 0), ('aaaaaaaaaaaaaaaaaaaaaaaaaaabbbbbbbbbbbb', 0), ('aaaaaaabbbbbbbbbbbbbbbbccccccccccccc', 0), ('aaaaaaaaaaabbbbbbbbbccc', 0), ('aaaaaaaaaaaabbbbbbbbbbbbcccccccccccc', 1), ('aaaaaaaaaabbbbbbbbbbcccccccccc', 1), ('aaaaaaabbbbbbbccccccc', 1), ('aaaaaaaaaaabbbbbbccccccccccccccccccc', 0), ('aaaaaaaaaaaaaaaaabbcccccccc', 0), ('aaaaaabbbbbbbbbbbbbbcc', 0), ('aaaaaaaaaabbbbbbbbbbcccccccccc', 1), ('aaaaaaaaaaaaaaaaaaaaaaaaaaaaaaaaaaaaaa', 0), ('aaaaaaaaabbbbbbbbbccccccccc', 1), ('aaaaaaabbbbbbbccccccc', 1), ('aaaaaaaabbbbbbbbcccccccc', 1), ('aaaaaaaaaaaaaaaaaaabbbbbbbbbbbbbbbbbbb', 0), ('aaaabbbbbbbbbbbbbbbbbbcccccccc', 0), ('aaaaaabbbbbbbbbbbbbbbbbbbbbbbbbbbbbbbbbb', 0), ('aaaaaaaabbbbbbbbcccccccc', 1), ('aaaaaaaaaaaabbbbbbbbbbbbcccccccccccc', 1), ('aaaaaaaaaaaaaaaaaaaaaaaaaaaaaaaaaaaaabbb', 0), ('aaaaaaaaaabbbbbbbbbbcccccccccc', 1), ('aaaaaaaaaaaaaaaaaaaaaaaaaa', 0), ('aaaaaaaaaaaaabbbbbbbbbbbbbccccccccccccc', 1), ('aaaaaaaaaaaaabbbbbbbbbbbbbccccccccccccc', 1), ('aaaaaaaaaaaaabbbbbbbbbcccc', 0), ('aaaaaaabbbbbbbccccccc', 1), ('aaaaaaaaaaaaaaaaaaaaaaaaaaaaabbbbbb', 0), ('aaaaaaaaaabbbbbbbbbbcccccccccc', 1), ('aaaaaaaaaaaaaaaaabbccc', 0), ('aaaaaaaaaaaaaaaaaaaaaaaaaaaaaaaaa', 0), ('aaaabbbbbbbbbbbbbbbbbbbbbbbbbbcc', 0), ('aaaaaaaaaaaaaaaabbbbbbbbbbbccccccccc', 0), ('aaaaaaabbbbbbbccccccc', 1), ('aaaaaaaaaaaaaaaaaaaaaaaaaaaaaaaabbcc', 0), ('aaaaaaaaaaaaaaabbbbbbccc', 0), ('aaaaaaaabbbbbbbbcccccccc', 1), ('aaaaaaaaaaaaaabbbbbccccccccccc', 0), ('bbbbbbbbbbbbbbbbbbbbbbbbbbbbbbbbbccccc', 0), ('aaaaaaaaaaabbbbbbbbbbbccccccccccc', 1), ('aaaaaaaaaaaaabbbbbbbbbbbbbccccccccccccc', 1), ('aaaaaaaaaabbbbbbbbbbcccccccccc', 1), ('aaaaaaabbbbbbbccccccc', 1), ('aaaaaaaaaaaaaaaaaaaaaaaaaaaaaaaaaabb', 0), ('aaaaaaabbbbbbbccccccc', 1), ('aaaaaaaabbbbbbbbcccccccc', 1), ('aaaaaaaaaaaaaaaaaaaaaaaaaaaaaaaaaaaabb', 0), ('aaaaaaaaaaaaabbbbbbbbbbbbbccccccccccccc', 1), ('aaaaaaabbbbbbbccccccc', 1), ('aaaaaaaabbbbbbbbcccccccc', 1), ('aaaaaaaaaaabbbbbbbbbbbccccccccccc', 1), ('bbbbbbbbbbbbbbbbbbbbbbbbbbbbbbbb', 0), ('aaaaaaaaaaaaaabbbbbbbbbccccccc', 0), ('aaaaaaaaaaaaaaaaaaaaaaaaaabbbbbbbbbbbb', 0), ('aaaaaaaaaaaabbbbbbbbbbbbbbbbbbbbbbbbb', 0), ('aaaaaaaaaaaaaaaaaaaaaaaaaaaaaabbbbbb', 0), ('aaaaaaabbbbbbbccccccc', 1), ('aaaaaaaaabbbbbbbbbbbbbbbbbbbbbbbbb', 0), ('aaaaaaaaaaaaaaaaaaaaaaaaaaaaaaaaaaa', 0), ('aaaaaaaaaaaaaaaaaaaaaaaaaaaaaaaab', 0), ('aaaaaaaaaaaaaaaaaaaaaabbbbccccc', 0), ('aaaaaaaaaaaaaaaccccccccccccccccccccccccc', 0), ('aaaaaaaaaaaaabbbbbbbbbbbbbccccccccccccc', 1), ('aaaaaaaaaabbbbbbbbbbcccccccccc', 1), ('aaaaaaaaaaaaaaaaaaaaaaaaaaaaaaaaaaaaaabb', 0), ('aaaaaaaaaaaaabbbbbbbbbbbbbccccccccccccc', 1), ('aaaaaaaabbbbbbbbcccccccc', 1), ('aaaaaaaaaaaaaaaaaaaaaaaaaaaaaaaaaaaabb', 0), ('aaaaaaaaaaaaaaaaaaaaaaaaaaaaaaaaaaaaaa', 0), ('aaaaaaabbbbbbbccccccc', 1), ('aaaaaaaaaaaaaabbbbbccccccccccccccccccc', 0), ('aaaaaaaaaaaaaaaaaaaaaaaaabbbbbbc', 0), ('aaaaaaaaaaaaaaaaaaaaaaaaaaccccc', 0), ('aaaaaaaaaaaaaaaaaaaaaaaaaaaaaaaaaaaaaa', 0), ('aaaaaabbbbbbbbbbbbbbbbbbbbbbbbccccccc', 0), ('aaaaaaaaaaabbbbbbbbbbbccccccccccc', 1), ('aaaaaaaaaaaaaaaaaaabbbbbbbbbbbbbbbbbcc', 0), ('aaaaaaaaaaaaaaaaaaaaaaabbbbbbcc', 0), ('aaaaaaaabbbbbbbbcccccccc', 1), ('aaaaaaabbbbbbbccccccc', 1), ('aaaaaaaaaaaaaaaaaaaaaaaaaaccccc', 0), ('aaaaaaaabbbbbbbbcccccccc', 1), ('aaaaaaaaaaaaabbbbbbbbbbbbbccccccccccccc', 1), ('aaaaaaaaaaabbbbbbbbbbbccccccccccc', 1), ('aaaaaaaaaaaaaaaaabbbbbbbbbbbccccc', 0), ('aaaaaaaaaaaaaaaaaaaaaaaaaaaaaaaaaaaaaabb', 0), ('aaaaaaaaaaaaabbbbbbbbbbbb', 0), ('aaaaaaaaabbbbbbbbbbbbbbbbbbbbbbb', 0), ('aaaaaaabbbbbbbccccccc', 1), ('aaaaaaaaaabbbbbbbbbbcccccccccc', 1), ('aaaaaabbbbbbbbbbbbbbb', 0), ('aaaaaaaabbbbbbbbcccccccc', 1), ('aaaaaaaaaabbbbbbbbbbcccccccccc', 1), ('aaaaaaaaaaaaaaabbbbbbbbbbbbbbbbb', 0), ('aaaaaaaaaaaaaaaaaaaaaaaaaaaaaaaaaaaabbb', 0), ('aaaaaaaaaaaaabbbbbbbbbbbbbccccccccccccc', 1), ('aaaaaaaaabbbbbbbbbccccccccc', 1), ('abbbbbbbbbbbbbbbbbbbbbbbbbccccc', 0), ('aaaaaaaaaaabbbbbbbbbbbccccccccccc', 1), ('aaaaaaaabbbbbbbbbbbbbbbbbbbbbbbccc', 0), ('aaaaaaaaaaabbbbbbbbbbbbbbbbbbbbbbbbbb', 0), ('aaaaaaaaaacccccccccccccccccccccccccccc', 0), ('aaaaaaabbbbbbbccccccc', 1), ('aaaaaaaaaabbbbbbbbbbcccccccccc', 1), ('aaaaaaaaaaaaaaaaaaaaaaaaaaaaaaaaaaaaaaa', 0), ('aaaaaaaaaabbbbbbbbbbcccccccccc', 1), ('aaaaaaaaaaabbbbbbbbbbbccccccccccc', 1), ('aaaaaaaaaaabbbbbbbbbbbccccccccccc', 1), ('aaaaaaaaaabbbbbbbbbbcccccccccc', 1), ('aaaaaaabbbbbbbccccccc', 1), ('aaaaaaaaaaabbbbbbbbbbbccccccccccc', 1), ('aaaaaaaaabbbbbbbbbccccccccc', 1), ('aaaaaaaaabbbbbbbbbccccccccc', 1), ('aaaaaabbbbbbbccccccccccccccccccccccccc', 0), ('aaaaaaaaaaaaaaaaaaaaaaaaaaaabbbbbbbbbbb', 0), ('aaaaaaaaaaaaaaaaaaaaaaaaaaaaaaabbbbbbb', 0), ('aaaaaaaaaaabbbbbbbbbbbccccccccccc', 1), ('aaaaaaaaaaaaaaaaabbbbbbbbbbccccccccccc', 0), ('aaaaaaaaaaaaaaaaaaaaaaabbbbbbbbbbbb', 0), ('aaaaaaaaaaabbbbbbbbbbbbbbbbbbbbccccccccc', 0), ('aaaaaaaaaaaaaaaabbbbbbbbbbbbb', 0), ('aaaaaaaabbbbbbbbcccccccc', 1), ('aaaaaaabbbbbbbccccccc', 1), ('aaaaaaaaaabbbbbbbbbbcccccccccc', 1), ('aaaaaaaaaaaabbbbbbbbbbbbcccccccccccc', 1), ('aaaaaaaaaabbbbbbbbbbcccccccccc', 1), ('aaaaaaaaaaabbbbbbbbbbbccccccccccc', 1), ('aaaaaaaaaaaaabbbbbbbbbbbbbccccccccccccc', 1), ('aaaaaaaabbbbbbbbcccccccc', 1), ('aaaaaaaaaabbbbbbbbbbcccccccccc', 1), ('aaaaaaabbbbbbbccccccc', 1), ('aaaaaaaaaaaaaaaaaaaaaaaaabbbbb', 0), ('aaaaaaaaaaaaaaaaaaaaaaaaaaaaaaaaaabbb', 0), ('aaaaaaaaaabbbbbbbbbbcccccccccc', 1), ('aaaaaaaaaaabbbbbbbbbbbccccccccccc', 1), ('aaaaaaaaabbbbbbbbbccccccccc', 1), ('aaaaaaaaaaaaabbbbbbbbbbbbbccccccccccccc', 1), ('aaaaaaaaaaaaaabbbbbbbbbb', 0), ('aaaaaaaaaaaaabbbbbbbbbbbbbccccccccccccc', 1), ('aaaaaaaaaabbbbbbbbbbcccccccccc', 1), ('aaaaaaaaaaaaaaaaaaaaaaaaaaaaaaaaaaab', 0), ('aaaaaabbbbbbbbbbbbbbbbbbbbbbbbcccccccc', 0), ('aaaaabbbbbbbbbbbbbbcccccccccccccc', 0), ('aaaaaaaaaaaaaaaaaaaaaaaaaaaaabcccc', 0), ('abbbbbbbbbbbbbbbbbbbbbcccc', 0), ('aaaaaaaaabbbbbbbbbccccccccc', 1), ('aaaaaaaaaaaaaaaaaaaaaaaaaabbbbbbbbbbbb', 0), ('aaaaaaaaaaaaaabccccccccccccccccccc', 0), ('aaaaaaaaaabbbbbbbbbbcccccccccc', 1), ('aaaaaaaaabbbbbbbbbbbbbbbbbbbbbbcccccc', 0), ('aaaaaaabbbbbbbccccccc', 1), ('aaaaaaabbbbbbbccccccc', 1), ('aaaaaaaaaaaaaaaaaaaaaaaaaaaaaaaaaa', 0), ('aaaaaaabbbbbbccccccccccccccccccccccccccc', 0), ('aaaaaaaaaaaabbbbbbbbbbbbbbbbbbbbbbbb', 0), ('aaaaaaaabbbbbbbbcccccccc', 1), ('abbbbbbbbbbbbbbbbbbbbbbbbbbbbbbbbccccccc', 0), ('aaaaaaaaaaaabbbbbbbbbbbbcccccccccccccc', 0), ('aaaaaaaaaaaaaaaabccccccccc', 0), ('aaabbbbbbbbbbbbbbbbbbbbbbbbbccccccccccc', 0), ('aaabbbbbbcccccccccccccccccc', 0), ('aaaaaaabbbbbbbccccccc', 1), ('aaaaaaaabbcccccccccccc', 0), ('aaaaaaaaaaaaaaaaaaaaaaaaaccccccccccccc', 0), ('aaaaaaaaaabbbbbbbbbbcccccccccc', 1), ('aaaaaaabbbbbbbccccccc', 1), ('aaaaaaaaaaaaaaaaaaaaaaaaaaaaaaab', 0), ('aaaaaaabbbbbbbbbbbbbbbbbbbccccccc', 0), ('aaaaaaaaaaaaaaaaaaaaaaaaaaaaaaabbbbbbb', 0), ('abbbbbbbbbbbbbbbbbbbbbbbbcc', 0), ('aaaaaaabbbbbbbccccccc', 1), ('aaaaaaaaaaaaaaaaabbbbbbbbbbbbbc', 0), ('aaaaaaaaaaaaabbbbbbcccccccc', 0), ('aaaaaaaaabbbbbbbbbccccccccc', 1), ('aaaaaaabbbbbbbccccccc', 1), ('aaaaaaaaaaaaaaaaaaaaaaaaaaabbbbbbbbbbbbb', 0), ('aaaaaaaaaaaabbbbbbbbbbbbcccccccccccc', 1), ('aaaaaaaaaaaaaaaaaaaaaaaaaaaaaaaaaaaaaabb', 0), ('aaaaaaaaaaabbbbbbbbbbbccccccccccc', 1), ('aaaaaaaaaabbbbbbbbbbcccccccccc', 1), ('aaaaaaaaaaaaaaaaaabcccccccccc', 0), ('aaaaaaabbbbbbbccccccc', 1), ('aaaaaaabbbbbbbccccccc', 1), ('aaaaaaaaaaaaaaaabbbbbbbc', 0), ('aaaaaaaaaaaaaaaaaaaaaaaaaaabbbbbbbbbbcc', 0), ('aaaaaaaaaaaabbbbbbbbbbbbcccccccccccc', 1), ('aaaaaaaaaaaaabbbbbbbbbbbbbccccccccccccc', 1), ('aaaaaaaaaaaaaaaaaaaaaaaaaaabbbbbbbbbb', 0), ('aaaaaaaaabbbbbbbbbccccccccc', 1), ('aaaaaaaaaaabbbbbbbbbbbccccccccccc', 1), ('aaaaaaaaaaaaaabbbbbbbbbbbb', 0), ('aaaaaaaaaaaaaaaaaaaaaaaaabbcccccccc', 0), ('aaaaaaaaaaaaaaaaaaaaaaaaaaaaaaaaaaabbb', 0), ('aaaaaaaaaaaaaaaaaaabbbbbbbbccccccccccc', 0), ('aaaaaaaaaaabbbbbbbbbbbccccccccccc', 1), ('aaaaaaaaaaaaaaabbbbbbbccccccccccccccc', 0), ('aaabbbbbbbbbbbbbbbbbbbbbbb', 0), ('aaaaaaaaaaaaaaaaaaaaaaaaabbbbbbbbbbbbbb', 0), ('aaaaaaaaabbbbbbbbbbbbbbbbbbbbbbbb', 0), ('aaaaaaaaaaaaaaaaaaaaaaaaaaaaaaaaaabcc', 0), ('aaaaaaaaaaaaaaaaaaaabbbbbbbbbbbbbbbbbbb', 0), ('aaaaaaaaaaaaaaaaaaaaaaaaaaaaaaaaaaabbbb', 0), ('aaaaaaabbbbbbbccccccc', 1), ('aaaaaaaabbbbbbbbbbbbbbbbbbbbbbbbbbbbbbb', 0), ('aaaaaaaaaabbbbbbbbbbbbbbbbbbbbbbbbbbb', 0), ('aaaaaaabbbbbccccccccccccccccccccccc', 0), ('aaaaaaaaaaaabbbbccccccccc', 0), ('aaaaaaaaaaaaaaaaaaaaaabbbbbbb', 0), ('aaaaaaabbbbbbbccccccc', 1), ('aaaaaaaaaabbbbbbbbbbbbbbbbbbbbbbbb', 0), ('aaaaaaaaaaaabbbbbbbbbbbbbbbbbbbbbbbbbbbb', 0), ('aaaabbbbbbbbbbbbbbbbbbbbbbbbbbbbbbbbbbb', 0), ('aaaaaaaaaaaabbbbbbbbbbbbcccccccccccc', 1), ('aaabbbbbbbbbbbbbbbbbbbbbbbbbbbbbbccc', 0), ('aaaaaabbbbbbbbbbbbbbbbbbbbbbbbbbbbc', 0), ('aaaaaaaaaaaaabbbbbbbbbbbbbccccccccccccc', 1), ('aaaaaaaaaaaaaabbbbbbbbbbccccccccccccc', 0), ('aaaaaaabbbbbbbccccccc', 1), ('aabbbbbbcccccccccccccccc', 0), ('aaaaaaaaaaabbbbbbbbbbbccccccccccc', 1), ('aaaaaaaabbbbbbbbbbbbbbbbbbbbbbbbbbbbbbbb', 0), ('aaaaaaaaaaaaaaaaaaaaaabbbbbbbbbbbbbcccc', 0), ('aaaaaaaaaaaaaaaabbbbc', 0), ('aaaaaaaaaaabbbbbbbbbbbccccccccccc', 1), ('aaaaaaaaaaaaaaaaaaaaaaaabbbbbbbbbbbb', 0), ('aaaaaaaaaaabbbbbbbbbbbccccccccccc', 1), ('aaaaaaaaaaaaaaaaaaaaaaaaaaaaaaaaabc', 0), ('aabbbbbbbbbbbbbbbbbbbbbccccccccc', 0), ('aaaaaaaaabbbbbbbbbccccccccc', 1), ('bbbbbbbbbbbbbbbbbbbbbbbbbbbbbbbbbbbbbbb', 0), ('aaaaaaabbbbbbbccccccc', 1), ('aaaaaaaabbbbbbbbcccccccc', 1), ('aaaaaaaaaaaabbbbbbbbbbbbcccccccccccccccc', 0), ('aaaaaaaaaaaaabbbbbbbbbbbbbccccccccccccc', 1), ('aaaaaaaabbbbbbbbcccccccc', 1), ('aaaaaaaaaaaaaaaaaaaaaaaaaaaaaaaaaaabbb', 0), ('aaaaaaabbbbbbbccccccc', 1), ('aaaaaaaaaaaaabbbbbbbbbbbbbccccccccccccc', 1), ('aaaaaaaaaaaaaaaaaaaaaaaaaaaaaaaaaaaaa', 0), ('aaaaaaaaaabbbbbbbbbbcccccccccc', 1), ('aaaaaaaaabbbbbbbbbccccccccc', 1), ('aaaaaaaaaaaabbbbbbbbbbbbcccccccccccc', 1), ('aaaaaaaaaaaaaaaaaaaaaaaaaaabbbbbbbccc', 0), ('aaaaabbbbbbbccccccccccccc', 0), ('aaaaaaaabbbbbbbbcccccccc', 1), ('aaaaaaaaaaaaaaaaaaaaaaaaaaaaaaaaaaabbb', 0), ('aaaaaaaaaaaabbbbbbbbbbbbcccccccccccc', 1), ('aaaaaaaaaaaaaaaaaaabbbbccccccc', 0), ('aaaaaaaaaaaabbbbbbbbbbbbcccccccccccc', 1), ('aaaaaaaaaaaaaaaaaaaaaabbbbbbcccccccccccc', 0), ('aaaaaaaaaaabbbbbbbbbbbccccccccccc', 1), ('aaaaaaaaaaaaaaaaaaaaaaaaaaaaabbbbb', 0), ('aaaaaaaaaaaaaaaaaaaaaaaaaaaaaaaaaaaaaabb', 0), ('aaaaabbbbbbbbbbbbbbbbbbbbbbbbbbbbbbbbbbb', 0), ('aaaaaaaaaaaaaaaaaaaaaaaaaaaabbbbbbbbbbc', 0), ('aaaaaaaaaaaaaaabbccccccccccc', 0), ('aaaaaaaaaaaaaaaaaabbbbbbbbbbbbbbbbbbbb', 0), ('aaaaaaaaaaaaaaaaaaaaaaaaaaaaaaaabbc', 0), ('aaaaaaaaaaaaaaaaaaaaaaaaaaaacccccc', 0), ('bbbbbbbbbbbbbbbbbbbbbbbbbbbbbbbbb', 0), ('aaaaaaaaaaaaaaaaaaaaaaaaaaabbb', 0), ('aaaaaaaaaaaaabbbbbbbbbbbbbbbbbbbbbbbbbbb', 0), ('aaaaaaaaaaaaaaaabbbbbbbbbbbb', 0), ('aaaaaaaaaaaaabbbbbbbbbbbbbbbbbbbb', 0), ('aaaaaaaaaaabbbbbbbbbbbccccccccccc', 1), ('aaaaaaaaaaaabbbbbbbbbbbbbbbbbbbbbbbbbbbb', 0), ('aaaaaaaaaaaaaaaaaaaaaaaaaaaaaaaaabbb', 0), ('aaaaaaaaaaaaaaaaaaaaaaaaaaaaaaaaaaaaabb', 0), ('aaaaaaaaaaaabbbbbbbbbbbbcccccccccccc', 1), ('aaaaaaaaaaaaaaaaaaaaaabbbbbbbbcc', 0), ('aaaaaaaaaaaaaaaaaaabbbbbbbbbbcccccccc', 0), ('aaaaaaaaaaaabbbbbbbbbbbbcccccccccccc', 1), ('aaaaaaaaaabbbbbbbbbbcccccccccc', 1), ('aaaaaaaaaaabbbbbbbbbbbccccccccccc', 1), ('aaaaaaaaaaaaabbbbbbbbbbbbbccccccccccccc', 1), ('aaaaaaaaaabbbbbbbbbbcccccccccc', 1), ('aaaaaaaaaaaabbbbbbbbbbbbcccccccccccc', 1), ('aaaaaaaaaaabbbbbbbbbbbccccccccccc', 1), ('aaaaaaaaaabbbbbbbbbbcccccccccc', 1), ('aaaaaaaaaabbbbbbbbbbcccccccccc', 1), ('aaaaaaaaabbbbbbbbbccccccccc', 1), ('aaaaaaabbbbbbbccccccc', 1), ('aaaaaaaaaaabbbbbbbbbbbccccccccccc', 1), ('aaaaaaaaaaaaaaaaaaaaaaaaabbbbbbbbbb', 0), ('aaaaaaaaaaaaaabbbbbbbbbbccccccccccccc', 0), ('aaaaaaaaaaaaaaaaaaaaaaaaaaaaaaaaaaaaab', 0), ('aaaaaaaaaaabbbbbbbbbbbccccccccccc', 1), ('aaaaaaaaaabbbbbbbbbbbbbbbbbbbbbbbbbb', 0), ('aaaaaaaaaaaaaaaaaaaabbbbbbbbbbbbb', 0), ('aaaaaaaaaaaaaaaaaaaaaaaaaaaaaaaaaaaaaab', 0), ('aaaabbbbbbbbbbbbbbbbbbbbbbbbbbbbb', 0), ('aaaaaabbbbbbbbbcccccccc', 0), ('aaaaaaabbbbbbbccccccc', 1), ('aaaaaaaaaaabbbbbbbbbbbccccccccccc', 1), ('aaaaaaaaaaaaaaaaaaaaaaaaaaabbcccc', 0), ('aaaaaaaabbbbbbbbcccccccc', 1), ('aaaaaaaaaabbbbbbbbbbcccccccccc', 1), ('aaaaaaabbbbbbbccccccc', 1), ('aaaaaaaaabbbbbbbbbccccccccc', 1), ('aaaaaaabbbbbbbccccccc', 1), ('aaaaaaaaaaaabbbbbbbbbbbbcccccccccccc', 1), ('aaaaaaaaaaaaaaaaaaaaaaaaaaaaaabbbbb', 0), ('aaaaaaaaaaabbbbbbbbbbbccccccccccc', 1), ('aaaaaaaaaaaaabbbbbbbbbbbbbccccccccccccc', 1), ('aaaaaaaaaaaaaaaaaaaaaaaaaaaaaabb', 0), ('aaaaaaaaaaaaaaaaaaaaaaaaaaaacccc', 0), ('aaaaaaaaaaaaaaabbbbbbbbbbbbbbbbbbbbbbbb', 0), ('bbbbbbbbbbbbbbbbbbbbbbbbbbbbbbbbbb', 0), ('aaaaaaaaaabbbbbbbbbbcccccccccc', 1), ('abbbbbbbbbbbbbbbbbbbbbbbbbbbbbbbbbbb', 0), ('aaaaaaaaaaaabbbbbbbbbbbbcccccccccccc', 1), ('aaaaaaaaaaaaaaaaaabbbbbbbbbbbbbbbbb', 0), ('aaaaaaaaaaaaabbbbbbbbbbbbbccccccccccccc', 1), ('aaaaaaaaaaaabbbbbbbbbbbbbbbbbbbbbbbbbbb', 0), ('aaaaaaaaaabbbbbbbbbbcccccccccc', 1), ('aaaaaaaabbbbbbbbcccccccc', 1), ('aaaaaaaaabbbbbbbbbccccccccc', 1), ('aaaaaaaaaaaaaaaaaaaaaaaaaaaabbbbbb', 0), ('aaaaaaaaaaaaaaaaaaaaaaaaaabbb', 0), ('aaaaaaaaaaaaaaaaaaaaaaaaaaaaaaaaabbbb', 0), ('aaaaaaaaabbbbbbbbbccccccccc', 1), ('aaaaaaabbbbbbbccccccc', 1), ('aaaaaaaaabbbbbbbbbccccccccc', 1), ('aaaaaaaaaaaaaaaaaaaaaaaaaaaaaaaab', 0), ('aaaaabbbbbbbbbbbbbbbbbbbbbbbbbbc', 0), ('aaaaaaaaaaaaaaaaaaaaaaaaaaabbbbbbbb', 0), ('aaaaaaaaaaabbbbbbbbbbbccccccccccc', 1), ('aaaaaaaaaaabbbbbbbbbbbccccccccccc', 1), ('aaaaaaabbbbbbbccccccc', 1), ('aaaaaaaaaabbbbbbbbbbcccccccccc', 1), ('aaaaaaaaaaabbbbbbbbbbbccccccccccc', 1), ('aaaaaaaabbbbbbbbcccccccc', 1), ('aaaaaaaaabbbbbbbbbccccccccc', 1), ('aaaaabbcccccccccccccccccccccc', 0), ('bbbbbbbbbbbbbbbbbbbbbbbbbbbbbbbbbbbb', 0), ('aaaabbbbbbbbbbbbbbbbbbbbbbbbbbbbbbbbbb', 0), ('aaaaaaaaaaaaaaaaaaaaaabbccccccccccccc', 0), ('aaaaaaaaaabbbbbbbbbbcccccccccc', 1), ('aaaaaaaaaaaaaaaaaaabbbbbbbbbbbbbbbbbbbbb', 0), ('aaaaaaabbbbbbbccccccc', 1), ('aaaaaaaaaaaaaaaaaaaaaaaaaaaaaaaaaaaaaaab', 0), ('aaaaaaaaaaaaaaaaaaaaaaaaaaaaaaaaaaaaaaab', 0), ('aaaaaaaaaaaaaaaaaaaaaaaaaaaaaaaaaaabbb', 0), ('aaaaaaaaaaaabbbbbbbbbbbbcccccccccccc', 1), ('aaaaaaaaaaaabbbbbbbbbbbbcccccccccccc', 1), ('aaaaaaaaaaaaaaaaaaaaaaaaaaaaaaaaaaaaaaa', 0), ('aaaaaaaaaaaabbbbbbbbbbbbbbbbbbbbb', 0), ('aaaaaaaaaaaaabbbbbbbbbbbbbccccccccccccc', 1), ('aaaaaaaaaaaaabbbbbbbbbbbbbccccccccccccc', 1), ('aaaaaaaaaaaaabbbbbbbbbbbbbccccccccccccc', 1), ('aaaaaaaaaaaaaaaaaaaaaaaaaabcccccc', 0), ('aaaaaaaaaaaaabbbbbbbbbbbbbbbbbb', 0), ('aaaaaaaaaaaaaaaaaaaaaaaabbbbbb', 0), ('aaaaaaabbbbbbbccccccc', 1), ('aaaaaaaaaaabbbbbbbbbbbccccccccccc', 1), ('aaaaaaaaaabbbbbbbbbbcccccccccc', 1), ('aaaaaaaaaaaaaaaaaaaaaaaaaaaaaabbbbbbbbb', 0), ('aaaaaaaaabbbbbbbbbccccccccc', 1), ('aaabbbbbbbbbbbccccccccccccc', 0), ('aaaaaaaaaaaaaaaaaaaaaaaaaaaaaaaa', 0), ('aaaaaaaaaaabbbbbbbbbbbccccccccccc', 1), ('aaaaaaaaaaaaaaaaaaaaaaaabbbbb', 0), ('aaaaaaaaaaaabbbbbbbbbbbbcccccccccccc', 1), ('aaaaaaaabbbbbbbbcccccccc', 1), ('aaaaaaaaaaaaaaaaaaaaaaaaaabbbb', 0), ('aaaaaaaabbbbbbbbcccccccc', 1), ('aaaaaaaaaaabbbbbbbbbbbccccccccccc', 1), ('aaaaaaabbbbbbbccccccc', 1), ('aaaaaaaaaabbbbbbbbbbcccccccccc', 1), ('aaaaaaaaaaaaaaaaaaaaaaaaaaaaabbbbbbb', 0), ('aaaaaaaaaaaaaaaaaaaaaaaaaaaaaaaaaaaabbbb', 0), ('aaaaaaaaaabbbbbbbbbbcccccccccc', 1), ('aaaaaaaaaaaaaaaaaaaaaaaaaaaabcc', 0), ('aaaaaaaaabbbbbbbbbccccccccc', 1), ('aabbbbbbbbbbbbbbbbbbbbbbbbbcccccccccccc', 0), ('aaaaaaaaaabbbbbbbbbbbbbbbbbbbcc', 0), ('aaaaaaaaaaaaaaaaaaaaaaaaaaaaaaaabbbbbbb', 0), ('aaaaaaaaaaaaaaaaaaaaaaaaaaaaaabbccccc', 0), ('aaaaaaabbbbbbbccccccc', 1), ('aaaaaaaaabbbbbbbbbccccccccc', 1), ('aaaaaaaaaaaaaaaaabbbcccccccccccc', 0), ('aaaaaaaabbbbbbbbcccccccccccc', 0), ('aaaaaaaaaaaaaaaaaaaaaaaaaaaaaaaaaaaaaaab', 0), ('aaaaaaabbbbbbbccccccc', 1), ('aaaaaaaaabbbbbbbbbccccccccc', 1), ('aaaaaaaaaaabbbbbbbbbbbccccccccccc', 1), ('aaaaaaaaaaaabbbbbbbbbbbbcccccccccccc', 1), ('aaaaaaaaabbbbbbbbbccccccccc', 1), ('aaaaaaaaaabbbbbbbbbbcccccccccc', 1), ('aaaaaaaaaaaaaaaaaaaaaaaaaaaaaaaccccccccc', 0), ('aaaaaaaaaaaaaaaaaaaaaaaaaaaaaaabbbbbbb', 0), ('aaaaaaaaaaaaaaaaaaaaaaaaabbbbbbbbbb', 0), ('aaaaaaaaaaaaaaaaaaaaaaaaaabbbbb', 0), ('aaaaaaaaaabbbbbbbbbbcccccccccc', 1), ('aaaaaaaaabbbbbbbbbbbbbbbbbbbbbbb', 0), ('aaaaaaaaaaaaaaaaaaaaaaaaaaaaaaaaaaaaaaab', 0), ('aaaaaaabbbbbbbccccccc', 1), ('aaaaaaaabbbbbbbbcccccccc', 1), ('aaaaaaaaaaabbbbbbbbbbbccccccccccc', 1), ('aaaaaaaaaaaaaaaaaaaaaaaaaaaaaaaaaaaaaaa', 0), ('aaaaaaabbbbbbbccccccc', 1), ('aaaaaaaaaabbbbbbbbbbcccccccccc', 1), ('bbbccccccccccccccccccccccccccc', 0), ('aaaaaaaaaaaaaaaaaaaaaaaaaaaabbbbbbb', 0), ('aaaaaaaabbbbbbbbcccccccc', 1), ('aaaaaaaaaaaaaaaaaaaaaaabbbbbbbbbbbbbbbc', 0), ('aaaaaaaaaaaaaaaaaaaaaaaaaaaaaaabbbbbbbb', 0), ('aaaaaaaabbbbbbbbcccccccc', 1), ('aaaaaaaaaabbbbbbbbbbcccccccccc', 1), ('aaaaaaaaaaaaaaabbbbbbbbbbbbbbbbbbbbbbb', 0), ('aaaaaaaaaaabbbbbbbbbbbccccccccccc', 1), ('aaaaaaaabbbbbbbbcccccccc', 1), ('aaaaaaaaaabbbbbbbbbbcccccccccc', 1), ('aaaaaaaaaaaaaaaaaaaaaaaaaaaaaaaaaaaaab', 0), ('aaaaaaaaaaaaaaaaaaaaaaaaaaaaaaaaaabb', 0), ('aaaaaaaabbbbbbbbcccccccc', 1), ('aaaaaaaaaaaaaaaaaaaaaaaabbbbbbbbbbbbbbbb', 0), ('aaaaaaaaaabbbbbbbbbbcccccccccc', 1), ('aaaaaaaaaaaaaaaabbbbbbbbbbbbbbbbbbbbbb', 0), ('aaaaaaaaaaaaaaaaaaaaaaaaaaaaaaaaaabbbccc', 0), ('aaaaaaaaaaabbbbbbbbbbbccccccccccc', 1), ('aaaaaaaaaaaaaaaaaaaaaaaaaaaabb', 0), ('aabbbbbbbbbbbbbbbccccccc', 0), ('aaaaaaaaaabbbbbbbbbbcccccccccc', 1), ('aaaaaaaaaaaaaaaaaaaaaaaabbbbbbbbbbbbbb', 0), ('aaaaaaaabbbbbbbbcccccccc', 1), ('aaaaaaaaaaaabbbbbbbbbbbbcccccccccccc', 1), ('aaaaaaaaaabbbbbbbbbbcccccccccc', 1), ('aaaaaaaabbbbbbbbcccccccc', 1), ('aaaaaaabbbbbbbccccccc', 1), ('aaaaaaaaaaaaaabbbbbbbbbbbbbbbbbbbbbbb', 0), ('aaaaaaaaaaaaabbbbbbbbbbbbbccccccccccccc', 1), ('aaaaaaaaaaaaaaaaabbbbcccccccccccccccc', 0), ('aaaaaaaaaabbbbbbbbbbbbbbbbbbbbbbbbcc', 0), ('aaaaaaaabbbbbbbbcccccccc', 1), ('aaaaaaaaaaaaaaaaaaaaaaaabbbbbbbbbbbb', 0), ('aaaaaaaaaaaaaaaaaaaaccccccccccccc', 0), ('aaaaaaaabbbbbbbbbbbccccccc', 0), ('aaaaaaaaaaaaabbbbbbbbbbbbbccccccccccccc', 1), ('aaaaaaaabbbbbbbbbbbbbcccccc', 0), ('abbbbbbbbbbbbbbbbbbbbbbbcccccccccccccc', 0), ('aaaaaaaaabbbbbbbbbccccccccc', 1), ('aaaaaaaaabbbbbbbbbccccccccc', 1), ('aaaaaaaaaaaaaaaaaaaaaaaaaaaaaaaaaaabb', 0), ('aaaaaaaaaaaaaaaaaaabbbbbbccccccc', 0), ('abbbccccccccccccccccccccccccccccccccccc', 0), ('aaaaaaaaaaabbbbbbbbbbbccccccccccc', 1), ('aaaaaaaaaaabbbbbbbbbbbccccccccccc', 1), ('aaaaaaaaaaaaaaaaaaaabbccccccccccc', 0), ('aaaaaaaaaabbbbbbbbbbcccccccccc', 1), ('aaaaaaaaaaaaaaaaaaaaaabbbbbbbbbbbb', 0), ('aaaaaaaaaaaaaaaaaaaaaaaaaaaaaaaaaaaaaabb', 0), ('aaaaaaaabbbbbbbbcccccccc', 1), ('aaaaaaaaaaaaaaaaaaaaaaaaaaaaaaaaaaaaaabb', 0), ('aaaaaaaaaabbbbbbbbbbcccccccccc', 1), ('aaaaaaaaaaaaaaaaaaaaaaaaaaaaaaaaaabb', 0), ('aaaaaaaabbbbbbbbcccccccc', 1), ('aaaaaaabbbbbbbccccccc', 1), ('aaaaaaaaaaabbbbbbbbbbbccccccccccc', 1), ('aaaaaaaaaaaaabbbbbbbbbbbbbbbbbbbbcc', 0), ('aaaaaaaaaaaaaaaaaaaaaaaaaaabbbbb', 0), ('aaaaaaaaabbbbbbbbbccccccccc', 1), ('aaaaaaaaaaaaaaaaaaaaaaaaaaaaaaaaaaaab', 0), ('aaaaaaaaaaaaabbbbbbbbbbbbbccccccccccccc', 1), ('aaaaaaaabbbbbbbbcccccccc', 1), ('aaaaaaaaaaabbbbbbbbbbbccccccccccc', 1), ('aaaaaaaaaaaaaaaaaaabbbbbbbbbbbbbbbbb', 0), ('aaaaaaaaabbbbbbbbbccccccccc', 1), ('aaaaaaaaabbbbbbbbbccccccccc', 1), ('aaaaaaaaaaaaaaaaaaaaabcccccccccccc', 0), ('aaaabbbbbbbbbbbbbbbbbbbbbbbbbbbbbbbbbbbb', 0), ('aaaaabbbbbbbbbbbbccccccc', 0), ('aaaaaaabbbbbbbccccccc', 1), ('aaaaaaaabbbbbbbbcccccccc', 1), ('aaaaaaaaaaaaaaaabbbbbbbbb', 0), ('aaaaaaaaabbbbbbbbbbbbbbbbccccc', 0), ('aaaaaaaaaaaaaaaaaaaaaaaaaaaaaaabbbbbbbbb', 0), ('aaaaaaaabbbbbbbbcccccccc', 1), ('aaaabbbbbbbbbbbbbbbbbbbbbbbbbbbbbbbbbbbb', 0), ('aaaabbbbbbbbbbbbbbbbbbbbbbbcc', 0), ('aaaaaaaaaaabbbbbbbbbbbccccccccccc', 1), ('aaaaaaaaaaaabbbbbbbbbbbbcccccccccccc', 1), ('aaaaaaabbbbbbbccccccc', 1), ('aaaaaaaaabbbbbbbbbccccccccc', 1), ('aaaaaaaaaaaabbbbbbbbbbbbcccccccccccc', 1), ('aaaaaaaaaaaaabbbbbbbbbbbbbccccccccccccc', 1), ('aaaaaaaaaaabbbbbbbbbbbccccccccccc', 1), ('aaaaaaaaaaaaaaaaaaaaaaaaaaaaaabbb', 0), ('aaaaaaaaaaaaabbbbbbbbbbbbbccccccccccccc', 1), ('aaaaaaaaaaaaabbbbbbbbbbbbbccccccccccccc', 1), ('aaaaaaaaabbbbbbbbbccccccccc', 1), ('aaaaaaaaaaaaabbbbbbbbbbbbbccccccccccccc', 1), ('aaaaaaaaaaaaabbbbbbbbbbbbbccccccccccccc', 1), ('aaaaaaaaaaaaaaaaaaaaaaaaaaaaaaaa', 0), ('aaaaaaabbbbbbbccccccc', 1), ('aaaaaaaabbbbbbbbbbbbbbbbbbbbbbb', 0), ('aaaaaaaaaaabbbbbbbbbbbccccccccccc', 1), ('aaaaaaaaaaaaabbbbbbbbbbbbbbbbbbbbbcccccc', 0)]\n",
      "Average Sentence Length:\n",
      "31.995\n"
     ]
    }
   ],
   "source": [
    "def generate_sentence(min_len=0, max_len=20, pos=True):\n",
    "    if pos:\n",
    "        n = np.random.randint(np.ceil(min_len / 3), np.ceil((max_len) / 3))\n",
    "        sentence = n*\"a\" + n*\"b\" + n*\"c\"\n",
    "        return sentence, len(sentence)\n",
    "    else:\n",
    "        n_0 = np.random.randint(0, max_len)\n",
    "        n_1 = np.random.randint(0, max_len - n_0 + 1)\n",
    "        n_2 = np.random.randint(min_len - n_0 - n_1, max_len - n_0 - n_1 + 1)\n",
    "        sentence = n_0 * \"a\" + n_1 * \"b\" + n_2 * \"c\"\n",
    "        return sentence, len(sentence)\n",
    "\n",
    "def create_data(size=10000, balance=0.1, min_len=0, max_len=20, train=True):\n",
    "    data = []\n",
    "    sentence_lengths = []\n",
    "\n",
    "    for i in range(int(size*balance)):\n",
    "        sentence, sentence_length = generate_sentence(min_len=min_len, max_len=max_len, pos=True)\n",
    "        while sentence == \"aabbcc\" and train:\n",
    "            sentence, sentence_length = generate_sentence(min_len=min_len, max_len=max_len, pos=True)\n",
    "        if not train:\n",
    "            sentence, sentence_length = \"aabbcc\", 6\n",
    "        data.append((sentence, 1))\n",
    "        sentence_lengths.append(sentence_length)\n",
    "    for i in range(int((size - (size*balance)))):\n",
    "        sentence, sentence_length = generate_sentence(min_len=min_len, max_len=max_len, pos=False)\n",
    "        data.append((sentence, 0))\n",
    "        sentence_lengths.append(sentence_length)\n",
    "    \n",
    "    random.shuffle(data)\n",
    "    average_length = sum(sentence_lengths) / len(sentence_lengths)\n",
    "    return data, average_length\n",
    "\n",
    "train_data, avg_sent_length_train = create_data(size=1000, balance=0.5, min_len=0, max_len=20, train=True)\n",
    "val_data, avg_sent_length_val = create_data(size=1000, balance=0.5, min_len=0, max_len=20, train=False)\n",
    "test_data, avg_sent_length_test = create_data(size=1000, balance=0.5, min_len=21, max_len=40, train=True)\n",
    "\n",
    "print(f\"Train Data Sample:\\n{train_data}\")\n",
    "print(f\"Average Sentence Length:\\n{avg_sent_length_train}\")\n",
    "print(f\"Val Data Sample:\\n{val_data}\")\n",
    "print(f\"Average Sentence Length:\\n{avg_sent_length_val}\")\n",
    "print(f\"Test Data Sample:\\n{test_data}\")\n",
    "print(f\"Average Sentence Length:\\n{avg_sent_length_test}\")\n"
   ]
  },
  {
   "cell_type": "code",
   "execution_count": 4,
   "metadata": {},
   "outputs": [],
   "source": [
    "# Dependencies\n",
    "import torch\n",
    "import torch.nn as nn\n",
    "import torch.optim as optim"
   ]
  },
  {
   "cell_type": "code",
   "execution_count": 5,
   "metadata": {},
   "outputs": [],
   "source": [
    "# Encoding data\n",
    "char_to_index = {'a':[1,0,0], 'b':[0,1,0], 'c':[0,0,1]}\n",
    "#index_to_char = {v: k for k, v in char_to_index.items()}\n",
    "\n",
    "def creat_tensors(data, max_l):\n",
    "    X = []\n",
    "    y = []\n",
    "    ml = 0\n",
    "\n",
    "    for sent, label in data:\n",
    "        X.append([char_to_index[char] for char in sent])\n",
    "        y.append(label)\n",
    "\n",
    "    # Padding to be able to convert to tensor\n",
    "    X = [sent + [[0,0,0]] * (max_l - len(sent)) for sent in X]\n",
    "\n",
    "    X = torch.tensor(X, dtype=torch.float32)\n",
    "    y = torch.tensor(y, dtype=torch.float32)\n",
    "\n",
    "    return X, y\n",
    "\n",
    "X_train, y_train = creat_tensors(train_data, max_l=40)\n",
    "X_test, y_test = creat_tensors(test_data, max_l=40)\n",
    "X_val, y_val = creat_tensors(val_data, max_l=40)"
   ]
  },
  {
   "cell_type": "code",
   "execution_count": 6,
   "metadata": {},
   "outputs": [],
   "source": [
    "from torch.utils.data import TensorDataset, DataLoader\n",
    "\n",
    "BATCH_SIZE = 64\n",
    "train_set = TensorDataset(X_train, y_train)\n",
    "val_set = TensorDataset(X_val, y_val)\n",
    "testset = TensorDataset(X_test, y_test)\n",
    "\n",
    "train_set, val_same_set = torch.utils.data.random_split(train_set, [900, 100])\n",
    "\n",
    "\n",
    "train_loader = DataLoader(train_set, BATCH_SIZE, shuffle=True)\n",
    "val_loader = DataLoader(val_set, BATCH_SIZE, shuffle=True)\n",
    "val_same_loader = DataLoader(val_same_set, BATCH_SIZE, shuffle=True)\n",
    "test_loader = DataLoader(testset, BATCH_SIZE, shuffle=True)"
   ]
  },
  {
   "cell_type": "markdown",
   "metadata": {},
   "source": [
    "## Train and define model"
   ]
  },
  {
   "cell_type": "code",
   "execution_count": 7,
   "metadata": {},
   "outputs": [
    {
     "name": "stdout",
     "output_type": "stream",
     "text": [
      "GPU State: cpu\n"
     ]
    }
   ],
   "source": [
    "# Set device\n",
    "if torch.cuda.is_available():\n",
    "    device = 'cuda:0'\n",
    "elif torch.backends.mps.is_available():\n",
    "    device = 'mps:0'\n",
    "else:\n",
    "    device = 'cpu'\n",
    "print('GPU State:', device)"
   ]
  },
  {
   "cell_type": "code",
   "execution_count": 23,
   "metadata": {},
   "outputs": [],
   "source": [
    "class LSTM(nn.Module):\n",
    "    def __init__(self, embedding_dim, hidden_dim, hidden_depth) -> None:\n",
    "        super().__init__()\n",
    "\n",
    "        self.lstm = nn.LSTM(embedding_dim, hidden_dim, hidden_depth, batch_first=True)\n",
    "        self.classification= nn.Sequential(\n",
    "            nn.Linear(hidden_dim, 1),\n",
    "            nn.Sigmoid()\n",
    "        )\n",
    "    \n",
    "    def forward(self, x):\n",
    "        output, (hn, cn) = self.lstm(x)\n",
    "        #print(output.size())\n",
    "        logits = self.classification(output[:,-1,:])\n",
    "        #print(logits.size())\n",
    "        return torch.squeeze(logits)"
   ]
  },
  {
   "cell_type": "code",
   "execution_count": 24,
   "metadata": {},
   "outputs": [
    {
     "name": "stdout",
     "output_type": "stream",
     "text": [
      "Epoch [10/200], Loss: 0.6932\n",
      "Epoch [20/200], Loss: 0.6932\n",
      "Epoch [30/200], Loss: 0.6736\n",
      "Epoch [40/200], Loss: 0.1766\n",
      "Epoch [50/200], Loss: 0.2014\n",
      "Epoch [60/200], Loss: 0.1564\n",
      "Epoch [70/200], Loss: 0.1543\n",
      "Epoch [80/200], Loss: 0.1519\n",
      "Epoch [90/200], Loss: 0.1523\n",
      "Epoch [100/200], Loss: 0.1507\n",
      "Epoch [110/200], Loss: 0.1905\n",
      "Epoch [120/200], Loss: 0.1511\n",
      "Epoch [130/200], Loss: 0.1509\n",
      "Epoch [140/200], Loss: 0.1506\n",
      "Epoch [150/200], Loss: 0.1881\n",
      "Epoch [160/200], Loss: 0.1491\n",
      "Epoch [170/200], Loss: 0.1503\n",
      "Epoch [180/200], Loss: 0.1893\n",
      "Epoch [190/200], Loss: 0.1501\n",
      "Epoch [200/200], Loss: 0.1909\n"
     ]
    }
   ],
   "source": [
    "input_size = X_train.shape[1]\n",
    "hidden_size = 5\n",
    "hidden_depth = 1\n",
    "num_epochs = 200\n",
    "lr=0.003\n",
    "\n",
    "model = LSTM(input_size, hidden_size, hidden_depth)\n",
    "criterion = nn.BCELoss()\n",
    "optimizer = torch.optim.Adam(model.parameters(), lr=lr)\n",
    "\n",
    "for epoch in range(num_epochs):\n",
    "    model.train()\n",
    "    epoch_loss = 0\n",
    "\n",
    "    for batch_idx, (inputs, targets) in enumerate(train_loader):\n",
    "        #inputs = inputs.unsqueeze(-1)  # Add input_size dimension\n",
    "        # Forward pass\n",
    "        #print(inputs.shape)\n",
    "        outputs = model(inputs)\n",
    "        #print(outputs.shape)\n",
    "        #print(outputs)\n",
    "        loss = criterion(outputs, targets)\n",
    "        \n",
    "        # Backward pass and optimization\n",
    "        optimizer.zero_grad()\n",
    "        loss.backward()\n",
    "        \n",
    "        #total_norm = 0\n",
    "        # for p in model.parameters():\n",
    "        #     param_norm = p.grad.data.norm(2)\n",
    "        #     total_norm += param_norm.item() ** 2\n",
    "        # total_norm = total_norm ** (1. / 2)\n",
    "        # print(f'Epoch {epoch+1}, Batch Gradient Norm: {total_norm}')\n",
    "        \n",
    "        optimizer.step()\n",
    "        \n",
    "        epoch_loss += loss.item()\n",
    "    \n",
    "    if (epoch + 1) % 10 == 0:\n",
    "        print(f'Epoch [{epoch + 1}/{num_epochs}], Loss: {epoch_loss / len(train_loader):.4f}')\n",
    "\n",
    "# for param in model.parameters():\n",
    "#     print(param5"
   ]
  },
  {
   "cell_type": "code",
   "execution_count": 25,
   "metadata": {},
   "outputs": [
    {
     "name": "stdout",
     "output_type": "stream",
     "text": [
      "Test Error: \n",
      " Accuracy: 94.7%, F1-score: 0.9496676325798035, Avg loss: 0.174445 \n",
      "\n"
     ]
    }
   ],
   "source": [
    "from torcheval.metrics import BinaryF1Score\n",
    "\n",
    "def test_loop(dataloader, model, loss_fn):\n",
    "    # Set the model to evaluation mode - important for batch normalization and dropout layers\n",
    "    # Unnecessary in this situation but added for best practices\n",
    "    model.eval()\n",
    "    size = len(dataloader.dataset)\n",
    "    num_batches = len(dataloader)\n",
    "    test_loss, correct = 0, 0\n",
    "    \n",
    "    metric = BinaryF1Score()\n",
    "\n",
    "    # Evaluating the model with torch.no_grad() ensures that no gradients are computed during test mode\n",
    "    # also serves to reduce unnecessary gradient computations and memory usage for tensors with requires_grad=True\n",
    "    with torch.no_grad():\n",
    "        for X, y in dataloader:\n",
    "            pred = model(X)\n",
    "            metric.update(pred, y)\n",
    "            #print(pred)\n",
    "            #print(y)\n",
    "            #print(\"\\n\")\n",
    "\n",
    "            test_loss += loss_fn(pred, y).item()\n",
    "            correct += (torch.round(pred) == y).type(torch.float).sum().item()\n",
    "            \n",
    "\n",
    "\n",
    "    test_loss /= num_batches\n",
    "    \n",
    "    correct /= size\n",
    "    print(f\"Test Error: \\n Accuracy: {(100*correct):>0.1f}%, F1-score: {metric.compute()}, Avg loss: {test_loss:>8f} \\n\")\n",
    "loss_fn = nn.BCELoss()\n",
    "optimizer = torch.optim.Adam(model.parameters(), lr=lr)\n",
    "\n",
    "\n",
    "test_loop(val_loader, model, loss_fn)"
   ]
  },
  {
   "cell_type": "code",
   "execution_count": 26,
   "metadata": {},
   "outputs": [
    {
     "name": "stdout",
     "output_type": "stream",
     "text": [
      "Test Error: \n",
      " Accuracy: 91.1%, F1-score: 0.9182736277580261, Avg loss: 0.281868 \n",
      "\n"
     ]
    }
   ],
   "source": [
    "test_loop(test_loader, model, loss_fn)"
   ]
  },
  {
   "cell_type": "code",
   "execution_count": 27,
   "metadata": {},
   "outputs": [
    {
     "name": "stdout",
     "output_type": "stream",
     "text": [
      "Test Error: \n",
      " Accuracy: 95.0%, F1-score: 0.9549549221992493, Avg loss: 0.174662 \n",
      "\n"
     ]
    }
   ],
   "source": [
    "test_loop(val_same_loader, model, loss_fn)"
   ]
  },
  {
   "cell_type": "markdown",
   "metadata": {},
   "source": [
    "## Parameter sweep"
   ]
  },
  {
   "cell_type": "code",
   "execution_count": 204,
   "metadata": {},
   "outputs": [
    {
     "name": "stdout",
     "output_type": "stream",
     "text": [
      "{'method': 'random',\n",
      " 'metric': {'goal': 'minimize', 'name': 'loss'},\n",
      " 'parameters': {'hidden_depth': {'values': [1, 2, 3]},\n",
      "                'hidden_size': {'values': [3, 5, 10, 20]},\n",
      "                'lr': {'values': [0.01, 0.001, 0.0001]},\n",
      "                'num_epochs': {'values': [100, 200, 300]}}}\n"
     ]
    }
   ],
   "source": [
    "sweep_config = {\n",
    "    'method': 'random',\n",
    "}\n",
    "\n",
    "metric = {\n",
    "    'name': 'loss',\n",
    "    'goal': 'minimize'   \n",
    "    }\n",
    "\n",
    "sweep_config['metric'] = metric\n",
    "\n",
    "parameters_dict = {\n",
    "    'hidden_size': {\n",
    "        'values': [3, 5, 10, 20]\n",
    "    },\n",
    "    'hidden_depth': {\n",
    "        'values': [1, 2, 3]\n",
    "    },\n",
    "    'lr': {\n",
    "        'values': [1e-2, 1e-3, 1e-4]\n",
    "    },\n",
    "    'num_epochs': {\n",
    "        'values': [100, 200, 300]\n",
    "    },\n",
    "}\n",
    "\n",
    "sweep_config['parameters'] = parameters_dict\n",
    "\n",
    "import pprint\n",
    "\n",
    "pprint.pprint(sweep_config)"
   ]
  },
  {
   "cell_type": "code",
   "execution_count": 50,
   "metadata": {},
   "outputs": [
    {
     "name": "stderr",
     "output_type": "stream",
     "text": [
      "Failed to detect the name of this notebook, you can set it manually with the WANDB_NOTEBOOK_NAME environment variable to enable code saving.\n"
     ]
    },
    {
     "name": "stdout",
     "output_type": "stream",
     "text": [
      "Create sweep with ID: sr0whh3j\n",
      "Sweep URL: https://wandb.ai/jarlku/lstm-sweep/sweeps/sr0whh3j\n"
     ]
    }
   ],
   "source": [
    "import wandb\n",
    "sweep_id = wandb.sweep(sweep_config, project='lstm-sweep')"
   ]
  },
  {
   "cell_type": "code",
   "execution_count": 51,
   "metadata": {},
   "outputs": [],
   "source": [
    "\n",
    "def train_wandb(config=None):\n",
    "    with wandb.init(config=config):\n",
    "        config = wandb.config\n",
    "        \n",
    "        train_loader = DataLoader(train_set, BATCH_SIZE, shuffle=True)\n",
    "        val_loader = DataLoader(test_set, BATCH_SIZE, shuffle=True)\n",
    "        \n",
    "        model = LSTM(input_size, config.hidden_size, config.hidden_depth)\n",
    "        optimizer = torch.optim.Adam(model.parameters(), lr=config.lr)\n",
    "        criterion = nn.BCELoss()\n",
    "        \n",
    "\n",
    "        for epoch in range(config.num_epochs):\n",
    "            model.train()\n",
    "            epoch_loss = 0\n",
    "\n",
    "            for batch_idx, (inputs, targets) in enumerate(train_loader):\n",
    "                #inputs = inputs.unsqueeze(-1)  # Add input_size dimension\n",
    "                # Forward pass\n",
    "                outputs = model(inputs)\n",
    "                #print(outputs)\n",
    "                loss = criterion(outputs, targets)\n",
    "                \n",
    "                # Backward pass and optimization\n",
    "                optimizer.zero_grad()\n",
    "                loss.backward()\n",
    "                optimizer.step()\n",
    "                \n",
    "                epoch_loss += loss.item()\n",
    "            \n",
    "            wandb.log({'loss': epoch_loss / len(train_loader)})\n",
    "            if (epoch + 1) % 10 == 0:\n",
    "                print(f'Epoch [{epoch + 1}/{config.num_epochs}], Loss: {epoch_loss / len(train_loader):.4f}')\n",
    "        \n",
    "        metric = BinaryF1Score()\n",
    "        for inputs, targets in val_loader:\n",
    "            outputs = model(inputs)\n",
    "            loss = criterion(outputs, targets)\n",
    "            wandb.log({'val_loss': loss})\n",
    "            metric.update(outputs, targets)\n",
    "            wandb.log({'val_f1': metric.compute()})\n",
    "            \n",
    "            "
   ]
  },
  {
   "cell_type": "markdown",
   "metadata": {},
   "source": [
    "wandb.agent(sweep_id, train, count=5)"
   ]
  },
  {
   "cell_type": "code",
   "execution_count": 52,
   "metadata": {},
   "outputs": [],
   "source": [
    "#wandb.agent(sweep_id, train_wandb, count=5)"
   ]
  },
  {
   "cell_type": "code",
   "execution_count": null,
   "metadata": {},
   "outputs": [],
   "source": []
  },
  {
   "cell_type": "code",
   "execution_count": null,
   "metadata": {},
   "outputs": [],
   "source": []
  }
 ],
 "metadata": {
  "kernelspec": {
   "display_name": "torch",
   "language": "python",
   "name": "python3"
  },
  "language_info": {
   "codemirror_mode": {
    "name": "ipython",
    "version": 3
   },
   "file_extension": ".py",
   "mimetype": "text/x-python",
   "name": "python",
   "nbconvert_exporter": "python",
   "pygments_lexer": "ipython3",
   "version": "3.12.3"
  }
 },
 "nbformat": 4,
 "nbformat_minor": 2
}
