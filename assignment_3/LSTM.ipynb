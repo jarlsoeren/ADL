{
 "cells": [
  {
   "cell_type": "code",
   "execution_count": 248,
   "metadata": {},
   "outputs": [],
   "source": [
    "import numpy as np\n",
    "import matplotlib.pyplot as plt\n",
    "import random"
   ]
  },
  {
   "cell_type": "markdown",
   "metadata": {},
   "source": [
    "## Create Dataset"
   ]
  },
  {
   "cell_type": "code",
   "execution_count": 249,
   "metadata": {},
   "outputs": [
    {
     "name": "stdout",
     "output_type": "stream",
     "text": [
      "Train Data Sample:\n",
      "[('aaaabbbbbbbbbb', 0), ('aaaaaaaaaaabbbbbbbb', 0), ('bbbbbbbccccccccccc', 0), ('aaaaaaaaaaaaaaaabb', 0), ('aaaaaaaaaaaaaaaabb', 0), ('aaaaaaaaaabbbb', 0), ('aaaaaaaaaaaaaaabbbbb', 0), ('aaaabbbbbbbbbbbbbbcc', 0), ('aabbbbccccc', 0), ('aaaabbbbbbbbbbbbbbb', 0), ('bbbbbbbbbbbbb', 0), ('aaaaaaaaaaaaaaaaaa', 0), ('aaaaaaaaaaaaa', 0), ('aaaa', 0), ('aaaaaaaaaaaaaaaabbbb', 0), ('aaaaaaaaaaaaaaaabbbb', 0), ('', 1), ('aaaaaabbbcc', 0), ('aaabbbbbbbbbbbbbbb', 0), ('aabbccccccccccc', 0), ('bbbbbbbbbbbbbbbb', 0), ('aaaaaaaaaaaaaaaaaaab', 0), ('aaaaaaaaaabbbbbb', 0), ('aaaaaaaaaaaaaaacc', 0), ('aaaaaaaaaaaaabbbbbbb', 0), ('aaaaaaaaaaaaaaaaaaa', 0), ('aaaaaaaabbbbbbbbbbbc', 0), ('aaaaaaaaaaaabbbbbbbb', 0), ('aaaaaaaaaaaaabbb', 0), ('aaaaaaaaaaaaaab', 0), ('aaabbbccc', 1), ('aaaaabbbbbbbbbbbbbbb', 0), ('aaaaaaaaaaaaaaaaab', 0), ('aaaaaaaaaaaaaaaaa', 0), ('aaaaaaaaaaaaaaaaaabb', 0), ('aabbbb', 0), ('aaaaaaaaaaaaaaaaaabb', 0), ('aaaaaaaaaabbbbbbbb', 0), ('aaaabbbbbbbbbcccc', 0), ('aaaaaaaaaaaaaaaaaaab', 0), ('aaaaaabbbbbbbbbb', 0), ('abbbbb', 0), ('aaaaaaaaaaabbbbb', 0), ('aaaaaaaaaaaaabbbbbbb', 0), ('aaaaabbbbbbb', 0), ('bbbbbbbbbbbbbbbbbbcc', 0), ('aaaaaaaaabbbbbbbb', 0), ('aaaaaaaaaaabbbb', 0), ('aaaaaaaabbbcc', 0), ('aaaaaaaaaaaaaaabbb', 0), ('aaaaaaaaaaabbbbbbbb', 0), ('aabbbbbbbbbbbbbb', 0), ('aaaaaaaaaaaaaaaaabbb', 0), ('aaaccccccccccccccc', 0), ('aaaaaaaaaaaaaac', 0), ('aaabbbccc', 1), ('aaaaaabbbbbbbbb', 0), ('aaaaaaaabb', 0), ('aaaaaaabccccccccc', 0), ('aaaaaaaaaaaaaabbbbb', 0), ('aaaaaaaaaaaaaaaaaab', 0), ('aaaaaaaaabbbbbbbbb', 0), ('aaaaaaaaaaaaaaabb', 0), ('aaaaaccccccccccccc', 0), ('aaaaaaaaaaaaaa', 0), ('aaaaaaccccccccccccc', 0), ('aaaaaaaaaaaaaaaaaa', 0), ('aaaaaaaaaab', 0), ('aabbbbbbbccc', 0), ('aaaaaaaaaaaaaaaaaa', 0), ('aaaaaaaaaaaaaaaaaabb', 0), ('aaaaaaaabbbbbbbbbb', 0), ('aaaaaaaaaaaaaaaaaaa', 0), ('abc', 1), ('aaaaaaaaaaaaaabbbbb', 0), ('aaaaaaaaabbb', 0), ('aaaaabbbbbccccccc', 0), ('aaaabbb', 0), ('abc', 1), ('aaaaaaabbbbbbbbbbbb', 0), ('aaaaaaaaaaaaabbbcc', 0), ('aaaaaaaab', 0), ('aaaaaaaaaaaaaaabbbbb', 0), ('aaaaaaabbbbbbb', 0), ('aaaaaabbbbbbcccccc', 1), ('aaaaaaaaaaaaaabbbbb', 0), ('aaaabbbbbbbbbbbb', 0), ('aaaaaa', 0), ('aaaaaaaaacccccccc', 0), ('aaaaabbbbccccccc', 0), ('aaaaaaaaaaaaabbbbb', 0), ('aaaaaaaaaaabbbbbbbbb', 0), ('aaaaaaabbbb', 0), ('aaaaaaaaaaaaaaaaaaab', 0), ('aaaaaaaaaaaaabb', 0), ('aaaaaaaaaaaaaaaab', 0), ('aaaaabbbbbbbbbbbbb', 0), ('aaaaaabbbbbbb', 0), ('aaaaaabbbbbbcccccc', 1), ('aaaaaaaaaaabbb', 0), ('aaaaaaaaaaaaaaaaaab', 0), ('aaaaaaaaaaabbb', 0), ('aaaaabbbbbbbbbbbbbbb', 0), ('aaaaaaaaaaaaabbb', 0), ('bbb', 0), ('aaaaaaaaaaabbbbbbb', 0), ('aaaaabbbbbccccc', 1), ('aaaaaaaaaaaaaaaaaaa', 0), ('aaaaaaabbbbbbbbbbb', 0), ('aaaaaaaaaaaaaaaaaa', 0), ('aaaaabbccccccc', 0), ('abc', 1), ('aaabbbbbbcc', 0), ('aaaaaaaaaabbbbbbbbb', 0), ('aaaaaaaaaaaaaaaaaaab', 0), ('aaaaaaaaaabbbbbbbbbb', 0), ('bbbbbb', 0), ('aaaabbbbcccc', 1), ('aaaaaa', 0), ('aaaaaaaaaaaaaaaab', 0), ('aaaaaaaaabb', 0), ('aaaaaaaaaaaabbbbbbb', 0), ('aaaaaaaaaaaabbbbb', 0), ('aaaaaaaaaaaaaaaaaaa', 0), ('aaaaaaaaaaaaaac', 0), ('aaaabbcccccccccccc', 0), ('bbbbbbbbbbbbbbb', 0), ('aabbbbbbbbbb', 0), ('abc', 1), ('aaaabbbbb', 0), ('aaaabbbbbbbbb', 0), ('aaaaaaaaaaaaaaaabbb', 0), ('aaaaaaaaaabbbb', 0), ('aaaaaaaaaaabbbbbbb', 0), ('aaaaaaaaaaaaaaa', 0), ('aaaaaaaaaaaaaaaaaaac', 0), ('aaaaabbbbbccccc', 1), ('aaaaaaaabbbbbbbbbbb', 0), ('aabbbbbcccccc', 0), ('aaaaabbbbbccccc', 1), ('aaaaaaaaaaaaaaaaabb', 0), ('aaaaaaaaaaaaaaa', 0), ('aaaaaabbbbbbbbbb', 0), ('aaabbbbbbbbbbbbb', 0), ('aaaaaaaaaaaaaaaaaaa', 0), ('bbbbbcccccccccc', 0), ('aaaaaaaaaabbbbbbbbb', 0), ('', 1), ('aaaaaaaaabbbbbbbbbb', 0), ('aaabb', 0), ('aaaaaaaaaaaaaaaaaabb', 0), ('aaaaaaaaaaaaaaaabb', 0), ('aaabbbcccccc', 0), ('aaaaaaaaaaaaaabbb', 0), ('aaaaaabcccccccc', 0), ('aaaaaaaaaaaaaaaaaa', 0), ('abbbbbbbcccccccc', 0), ('aaaaabbbbbccccc', 1), ('aaaaabbbbbccccc', 1), ('aaaaaaaaaaaaaaaaaaa', 0), ('aaacccccccccccccc', 0), ('bbbbbbbbbbbbbb', 0), ('aaaaaaaaabbbbbbbbbbb', 0), ('aaaaaaaaaaaaaaaaabbb', 0), ('aaaaaaaaaabbbbbbbbb', 0), ('aaaaaaaaaaaac', 0), ('abbbbbbbbb', 0), ('aaaabbbbcccc', 1), ('aaaaaacccccccccccc', 0), ('aaaaaaabbbbbbbbb', 0), ('aabbbbbbbbccccccc', 0), ('aaaaaaaaaaaaabbbb', 0), ('aaaaaabbbbbbbccccccc', 0), ('aaaaabbbbbbbb', 0), ('aaaaaaaaaaaaabbbbbb', 0), ('aaaaaaaaaaaabb', 0), ('aaaaaaaabbbbcc', 0), ('aaaaaaaabbbbbcccc', 0), ('aaaaaaaaaaaaaabb', 0), ('aaaaabbbbbbbbccccccc', 0), ('aaaaaaaaaaaaaaaaaaab', 0), ('aaaaaaaaaaaabbbccccc', 0), ('aaaaabbccccccccccccc', 0), ('aaaabbbbcccc', 1), ('aaaaaabbbbbbbbbbbbbb', 0), ('abbcccccccccc', 0), ('aaaaaaaaaaaaaabbb', 0), ('bbbbbbbbbbbbbbbbb', 0), ('aaaaaabcccccccccccc', 0), ('aaaaaaaaaaaaaaaabbbb', 0), ('aaaaabbbbbbbbbbbbbb', 0), ('aaaaaaaaaaaaaaabbb', 0), ('aaaaabbbbbbbcccc', 0), ('aaaaaaaaaaaaaaaaaac', 0), ('aaaaaaaabbbbbbbbbb', 0), ('aaaaaaaaaaaccc', 0), ('abbb', 0), ('aaaaaaaaaaabbbb', 0), ('aaaaaaaaaaaaaaabbbb', 0), ('aaaaaaaaaaaaaccccccc', 0), ('aaaaabbbbbbbbbbbbbb', 0), ('aaaaabbbbbbbbbbbbb', 0), ('aaaaaaaaaaaaaaabbbb', 0), ('aaaaaaaaaaaaaaaaab', 0), ('aaaaaaaaabbbbbbbbbbb', 0), ('bbbbbbbbbbbbbbbbbbb', 0), ('aaaaaaabbbc', 0), ('aaaabbbbcccc', 1), ('aaaaabbbbbbbbbbbbbbb', 0), ('aaaaaabbbbbbcccccc', 1), ('aabbbc', 0), ('aaaaaaaaa', 0), ('accccccccccc', 0), ('abbbbcccc', 0), ('aaaaaaaabbbbbbb', 0), ('aaaaaaaaaaaaaaaabbbc', 0), ('aaaaabbbbbbb', 0), ('aaaaaaaaa', 0), ('aaaaaaaaaaaaaaaabbbb', 0), ('abc', 1), ('aaaaabbbbbbbbbbbbbbb', 0), ('aaaaaabbbbbbbbbbbbbb', 0), ('aaaabbbbb', 0), ('aaaaaaaaaaaaaabbbbcc', 0), ('aaaaaaaaaabbbbb', 0), ('aaaaaaaaaabb', 0), ('aaaaaaaaabbb', 0), ('aaaaaacccccccc', 0), ('aaaabbbbbbbbbbb', 0), ('aaaaaaaaaaaaaaaaaa', 0), ('aaaaaaaaaaaaaaabbbbb', 0), ('aaaaaaaaaaaaabbbbbbb', 0), ('aaaaaaaabbbbbbb', 0), ('aaaaaaaaaaaaaaaaabb', 0), ('aaaaaaaaaaaaaaaabbb', 0), ('abbbbbbcccccccc', 0), ('aaaaaaaaaaaaaaabb', 0), ('aaaaaaaaaaa', 0), ('aaaaaaaaaaaaaaaaaaa', 0), ('aaaaaaaabbcccccc', 0), ('aaabbbbbccccccccccc', 0), ('aaaaaaaaaaaaaaaaaab', 0), ('aaaaaaaaaabbbbbb', 0), ('aaaaaaaaaaabb', 0), ('aaaaaaaaaabbbbbbbb', 0), ('aaaaaaaaaaabbbbbbc', 0), ('aaaabbbb', 0), ('aaaaaaaaaaaaaabbb', 0), ('abbbbbbbbbbbb', 0), ('aaaaabbbbbbbbbb', 0), ('aaaaaaaaaaaaabbbbb', 0), ('aaaaaaaaaaaaaaabb', 0), ('aaabbbbbbbbbbbb', 0), ('bccccc', 0), ('aaaaaaaaaaaabbbbbb', 0), ('aaaaaabbbbbbbbbccccc', 0), ('aabbbcccccccccc', 0), ('aaaaaaaaaaaaa', 0), ('bbbbbbccccc', 0), ('aaaaaaaaaaaaaaaa', 0), ('aaaaaaaaaaaaaaaaabb', 0), ('aaabbbbbbbbbbb', 0), ('aaaaaaaaaaaaaaabbbbb', 0), ('aaaaaaabbccccccccccc', 0), ('aaaaaaaaaaabbbbbbbbb', 0), ('aaaaaaaabbbbbbbbbb', 0), ('aaaaaaaabbbbbbbbb', 0), ('bbbbbbbbbbbbbbbbbbb', 0), ('abbbbbbcccccccccc', 0), ('aaaaaaaaaaabbbbcc', 0), ('aaaaaaaaaaabbccccc', 0), ('bbbbbbbbbbbbbbbbbbbb', 0), ('aaaaaaaaaaaaaaaaab', 0), ('', 1), ('aaaaaaaaabbbbb', 0), ('aaaaaaaacccccc', 0), ('aaaaaaaabb', 0), ('aaaaabb', 0), ('aaaaaaaaaaaaaaaaabcc', 0), ('aaaaaaaaaabbbbbbbb', 0), ('aaaaaaaaaaaaabbbb', 0), ('aaaaaabbbbbbcccccc', 1), ('aaaaaaaaaaaaaaaaa', 0), ('aaaaaaaaaaaaaaaaaabb', 0), ('aaaaaaaaaaaaaaaaaaac', 0), ('abc', 1), ('aaaaaaaaabbbbbbbbb', 0), ('aaaaaaaaaaaaaaaaaaa', 0), ('aaabbbbcccccccc', 0), ('aaaaabbbbbbbbbbbb', 0), ('aaaaaaaaaaaaaaaabb', 0), ('bbbbbbbbbbbbbbbbbbb', 0), ('aaabbbcccccc', 0), ('aaaaaaaaaaaaaaaaaaab', 0), ('aaaaaaaabbbbbbbb', 0), ('aaaaaaaaaaaaabbbbbb', 0), ('aaaaaaabbbbb', 0), ('aaaaaaaaabbbbbbbbbbb', 0), ('aaabbbbbbbbb', 0), ('aaaaaaaaaaaaaaaaaaa', 0), ('aaaaaaaaaaaaaaab', 0), ('aaaaaaaaaaaaa', 0), ('aaaaaaaaaaaaaaaaaabb', 0), ('aaaaaaaaaaaaaaa', 0), ('aaaaaaaaaaaaaaaaaab', 0), ('aaaaaaaab', 0), ('aaaabbbbcccc', 1), ('aaaaaaaaaaaaaaaaaaab', 0), ('aaaaaaaaaaaaaaaaaaab', 0), ('aaaaaaaaaaaaaaaab', 0), ('abbbbbbbbbbbbbbbbbbb', 0), ('bbbbbbbbbbbbbbbb', 0), ('aaaaaaaaaaaaaaaaab', 0), ('aaaaaaaaaaaaaaaaabbb', 0), ('abc', 1), ('aaaaabbc', 0), ('aaaaaaaaaaaaaaaaabbb', 0), ('aaaaaaaaaaaaaaaa', 0), ('aaaaaabbbbbbb', 0), ('aaaaabbbbbccccc', 1), ('aabbbbbbbbbbbbbbbb', 0), ('aabbbbbbbbbbbbbbb', 0), ('aaaaaaaaaabbbbbbb', 0), ('aaaaaabbbbbbb', 0), ('aaabbbbbbbbbcccccccc', 0), ('bbcccccccccccc', 0), ('aaabbbbbbbbbbbbb', 0), ('aaaaaaaaaaaaaaaaaabb', 0), ('aaaabbbbcccc', 1), ('aaaaaabbbbbbbbbbbbb', 0), ('aaaaaaaaaabbbbbbb', 0), ('aaaaaaaaaaaaaaaaaab', 0), ('aaaaaaab', 0), ('aaaaaabbbbbbbbbbbbbb', 0), ('abbbbbbbbbbbbbbbbbb', 0), ('aaaaaaaaaaaaaaaaa', 0), ('aaaaaaaaaaacccccccc', 0), ('aaaaaaaaaaaaaaaaabbb', 0), ('aaaaabbbbbccccc', 1), ('aaaaaabbbbbbcccccc', 1), ('aaaaaaaaabbbbbc', 0), ('bbb', 0), ('aaaaaaaaaaaab', 0), ('aaaaaaaabbcccccccc', 0), ('aaaaaaaaaaaaaaaaa', 0), ('aaaaaaaaaaabccc', 0), ('aaaaaaaaaaaaaaaaaa', 0), ('aaaaaaaaaaaaaaaaa', 0), ('aaabbbccc', 1), ('aaaaaaaaaaaaabbbcc', 0), ('aaabbbbbbb', 0), ('aaaaaab', 0), ('aaaaaaaaaaaaabbbbbbb', 0), ('aaabbbc', 0), ('aaaaaaaaaaaaaabbbbb', 0), ('aaaaaaaaaaaabbbbbbbb', 0), ('aaaaaaaaaaaaaaaaaaab', 0), ('aaaaabbbbbcc', 0), ('aaaaaaaabbbbbbb', 0), ('aaaaabbbbbccccc', 1), ('aaaaaaaaaaaaaaaaaab', 0), ('aaaaaaabbbccccccc', 0), ('aaaaaaaaaaaaab', 0), ('aaaaaaaaaaaaaaaaabb', 0), ('aaaaaaaaaaaaaaab', 0), ('aaaaaaaaaaaaaaaabbbb', 0), ('aaaaabbbbbbbb', 0), ('aaaaaaaaaaaaaaaabbb', 0), ('aaaaaabbcccccccccccc', 0), ('aaaaaaaaaaaab', 0), ('bb', 0), ('aaaaaaaaaaaaaaaaab', 0), ('aaaaaaaaaaaaaaaabbbb', 0), ('aaaaaaaaaabbbbbbbbbb', 0), ('aaabbbccc', 1), ('aaaaaaaaaaaabbbbbbb', 0), ('aaaaaaaaaaaaaaaaaaa', 0), ('aaaaaaaaaabbbbbbbbb', 0), ('aaaaaabbbbbbbbbbb', 0), ('', 1), ('aaaaaaaaaaaaaaaaaaab', 0), ('aaaaaaaaaaaaabbbc', 0), ('aaaaabbbbb', 0), ('aaaaaaaaaaaaaaaaaaab', 0), ('aaaaabbccccccccc', 0), ('abc', 1), ('aaaaaaaaaaaaaaaaaaa', 0), ('aaaaaaaaaaaaabbbbbcc', 0), ('aaaaaaaaaaabbbbbbbbb', 0), ('aaaaaaaaaaab', 0), ('aaaaaaaaaaaaaab', 0), ('aaaabbbbcccc', 1), ('aaaaabb', 0), ('aaaaaaaabbbbbbbb', 0), ('aaaaaaaaaaaaaaaaabb', 0), ('aaaaaaaabbbcccccc', 0), ('aaaaaaaaaaaaaabb', 0), ('aaaaaaabbbbbbbbbbb', 0), ('abbbbbbbbbbcc', 0), ('aaaaaaaaaaaaaaaabb', 0), ('abccccccccccccccc', 0), ('aaaabbbbbbbbbbbbbbb', 0), ('aaaaaabbbbbbbbbbbccc', 0), ('aaabbbbbbbbb', 0), ('aaabbbccc', 1), ('aaabbbccc', 1), ('aaabbbbbbbbbbbbbbbb', 0), ('aaaaaaaaaabbbbcccc', 0), ('aaaaaaaaaaabccc', 0), ('aaabbbbbbbbbbbbbbbbc', 0), ('aaaaaaabbbbbbbbb', 0), ('bbbccccccccc', 0), ('aaaaaabbbbbbbbbbbbb', 0), ('aabbbbbbbb', 0), ('aaaaaabbbbb', 0), ('aaaaaaaabbbbbbbbb', 0), ('aaaaaaaaaa', 0), ('aaaaabbbbbccc', 0), ('aaaaaaaaaaaaabbbbb', 0), ('aaaabbbbbbbbbbbcc', 0), ('aaaabbbbcccc', 1), ('abbbbbbb', 0), ('aaaaaaaaaaaaaaaaaaab', 0), ('aaaabbbbcccccc', 0), ('aabbbbbbbbbbbb', 0), ('aaabbbccc', 1), ('aaabbbbbbbbbbbbbbbb', 0), ('abc', 1), ('aaaaaaaaaabbbbbbb', 0), ('aaaaaaabbbb', 0), ('aaaaaaaaaaaaaaaaa', 0), ('aaaaaaaaaaaaaaaaaaa', 0), ('aaaaaaabbbbc', 0), ('aaaaaaaaaaaaabbbbb', 0), ('aaaaaaaabbbbbbbbbbb', 0), ('aaaaaaaaaaaaaaaaaaab', 0), ('aaaaaaaaaaaaabb', 0), ('aaaaaaaaaaaaaabbcccc', 0), ('aaaaaaaaaaaaaaaaaaab', 0), ('aaaabbbbcccc', 1), ('aaaabbbbbbbbbbbbbbbb', 0), ('bbbbbbbbbbbbbbbb', 0), ('aaaabbbbbbbbbbbbbbb', 0), ('aaaaaaaaaabbbbb', 0), ('aaaaaaabbccccc', 0), ('aaaaaaaaaaaaaabbbbbb', 0), ('aaaaaaaabbbccccccc', 0), ('bbbbbbbbbbb', 0), ('aaaabbbbbbbbc', 0), ('aaaaaaaaaaaabcccccc', 0), ('aaaaaaaaaaaaabb', 0), ('aabbbbbbbbbbbbb', 0), ('aaaaaaaaaaaabbbb', 0), ('abbbbbbbbbbbbbbbb', 0), ('aaaaaaaaaaaaaaaab', 0), ('aaaaabbbbbbbbbbbbb', 0), ('abbbbbbbbbbbb', 0), ('aaabbbbbbccccc', 0), ('aaaaaaaaaaabbbbbbbb', 0), ('abc', 1), ('aaaaaaaaaaaabbbbbbb', 0), ('aaaaaaaaaaaaaaaaaa', 0), ('aaaaaaaaaaaaabb', 0), ('aaaaaaaaaaaaaaaaaac', 0), ('aaaaaaaaabcccccccc', 0), ('abbbbbbbbbbbbbb', 0), ('aaaaaaaaaaabbbbbbbbb', 0), ('aaaaaaaaaabbbbbbbbbb', 0), ('aaaaabbbbbcccccccc', 0), ('aaaaaaaaaaaaabbbb', 0), ('aabbbbbbbbbbb', 0), ('aaaabbbbcccc', 1), ('abbbbbbbbbbbb', 0), ('aaaaaabbbbbbbbbbbb', 0), ('aaaaaaaabbbbbbbbbcc', 0), ('aaaaaaaaaaaaaaaabb', 0), ('aaaaaaaaaaaaaabccc', 0), ('aaaaaaaaaaaaaaaaaaab', 0), ('aaaaaabbbbbbbbbccc', 0), ('aaaaabbbbbccccc', 1), ('bbbccc', 0), ('abcccccccccccc', 0), ('aaaaaaaaaaaaaaaaaaab', 0), ('aaaaaaaaaaaaaaaaab', 0), ('aaaaaaaaaaaaaaaaaaa', 0), ('aaaaaaaaaaaaab', 0), ('aaaaaaaaaaaaabbbbbbb', 0), ('abc', 1), ('aaaaaaaaaaaa', 0), ('aaaaabbcccc', 0), ('aaaaaaaaaaaaaaa', 0), ('aaaaaaaaaaabbbb', 0), ('aacccccccccccc', 0), ('aaaaaaaaaaaabbb', 0), ('aaaaabbbbbbbbbbbb', 0), ('aaaaaaaaaaaaaaaaa', 0), ('aaaaaaaaaabbbbbbbbbb', 0), ('aaaaaaaaaaaaaaaaaabb', 0), ('aaaaaaaaaaaaaaaaaabb', 0), ('aaaaaaaabbb', 0), ('aaabbbccccccc', 0), ('aaaaabbbbb', 0), ('aaaaaaaaaabbbbbbb', 0), ('aaaaaaaaaaaaaaaaaaa', 0), ('aaaaaaaabbb', 0), ('aaccccc', 0), ('aaaaaaaaaaabbbbbb', 0), ('aaaaaaaabbbbbbbbbbbb', 0), ('abbbbbcccccccccccc', 0), ('aaaaaaaaaabbbbbbb', 0), ('', 1), ('abbcccc', 0), ('aaaaaaaaaaabbbbbbbb', 0), ('aaabbbccc', 1), ('aaaaaabbbbbbcccc', 0), ('aaaaaaaaaaaaaaaaaaa', 0), ('aaaaaaaaabbbbbbb', 0), ('aaaaaaabbbbbc', 0), ('aaaabbbbbbbb', 0), ('aaaaaaaaaaaaaaaaabb', 0), ('aaaaaaaaaaaaaaaaaaa', 0), ('aaaaaaaaaaaaaaaaabbb', 0), ('abbbbbbbbbbbbbbb', 0), ('aaaaaaaaaaabbbbbb', 0), ('abc', 1), ('aaaaaaaaaaaaaaaaabb', 0), ('aaabbbccc', 1), ('aaabbbccc', 1), ('aaaaaaaaaaaaaaaaaa', 0), ('aaaaaaaaaaaaaaab', 0), ('aaaaaaaaaaaabbb', 0), ('aaaaaabbbbbbbbbbb', 0), ('aaaaaaaaaaabb', 0), ('aaaabbbbbbbbb', 0), ('aaaabbbbbbcccc', 0), ('aaabbbbbbbbbbbbb', 0), ('aaaaaabbbccc', 0), ('aaaaaaaaabb', 0), ('aaaaaaaaaaaaaaaaa', 0), ('aaaaaaaaaaaaaabbbb', 0), ('abbbbbbbcccccc', 0), ('aaaaaaaaaabbbbbbbbbb', 0), ('aaaaaaaaabbccccc', 0), ('aaaaaaabbbbbbbbbbb', 0), ('aaaaaaaaaaaaaabbbbbb', 0), ('aaaaaaaaaaaaaab', 0), ('aabcccccccccc', 0), ('aaaaabbbbbbbbbb', 0), ('', 1), ('aaaaaaaaaaaaaaaaaab', 0), ('abbbbbbbbbbccccc', 0), ('aaaaaaaaaaaaaaaabbbb', 0), ('aaaaabbbbbbbbbbbbbb', 0), ('aaaaaaaaaaaaabbbbbb', 0), ('aaaaaaaaaaaaabbbccc', 0), ('aabbbbbbbbbbbbbbbbbb', 0), ('aaaaaabbbbbbcccccc', 1), ('aaaaaaaaaaaaaaaabbbb', 0), ('aaaaabbccccccccc', 0), ('abbbbbbbbbbbbbbb', 0), ('aaaaaaaaaaaaaaaaaaa', 0), ('aaaaaabbbbb', 0), ('aaaabbbbbbbbbbbbb', 0), ('aaaaaaaaaaaaaaaabb', 0), ('aaaaaaaaaaaaabbbbb', 0), ('aaaaaaaaaaaaaaaaaa', 0), ('aaaaabbbbcccccccc', 0), ('aaabbbccc', 1), ('aaaaaaaabbbbb', 0), ('aaac', 0), ('aaaabbbbbbbbbbbbbb', 0), ('bbbbbbbbbbbbbbbbbbbb', 0), ('aaaaaaaaaaaabbb', 0), ('aaaabbbbcccc', 1), ('aaaabbbbcccc', 1), ('aaabbbccc', 1), ('aaaaaaaaaaabb', 0), ('aaaaaaaaaaaaccc', 0), ('aaaaaaaaaaaaaaaaaab', 0), ('aaaaaaaaaaabb', 0), ('bbbbbbbc', 0), ('aaaaaaaaaaaaaaaaaa', 0), ('aaaaaaaaaaabbbccccc', 0), ('abbbbbbbbbbbbbb', 0), ('aaaaaaaaaaaaaabbbbbb', 0), ('aaaaaaaaaaaaaabb', 0), ('aaaaaaaaaaaaaaaab', 0), ('aaabbbccc', 1), ('aaabbbccc', 1), ('aaaaaaaaaaaaaaaaaaa', 0), ('aaaaaaaaaaaabbbbb', 0), ('aaaaaaaabb', 0), ('aaaabbbbbbbbbbbbbbbb', 0), ('aaaaaaa', 0), ('bbbbbbbbbbbbbbbbbb', 0), ('aaaaaaaaabbbbb', 0), ('abbbbbbbbbbbbb', 0), ('aaaaaaaaaaaaaaaabb', 0), ('aaaaaaaaaaaaaaaaabb', 0), ('abbbbbbbbbbbbbbcc', 0), ('aaaabbbbbbbbbbbbb', 0), ('aaaaaaabbbbbbbbbbbb', 0), ('aaaaaaaaaaaaa', 0), ('aaaaaaaaaaaaaaabbcc', 0), ('aaaaaaaaaaaaabbbcc', 0), ('aaaaaaaabbbbbbbbb', 0), ('aaaaaaaaaaaaaaaaab', 0), ('aaaaaaaabbbbbbbbbbb', 0), ('aaaaaaaaaaaaaaaaaabb', 0), ('aaaaaaaaabbb', 0), ('aaaaaabbbbbbbcccc', 0), ('bbbbbbbbbb', 0), ('abcccccccccccccccccc', 0), ('abc', 1), ('aaaaaaaaabc', 0), ('aaaaaaabbbbbbbbbb', 0), ('aabbbbbbbbbbbbcc', 0), ('', 1), ('aaaaaaaaaaaaab', 0), ('aaaaaabbbbbbb', 0), ('aaaaabbbbbbbbbbbbbbb', 0), ('aaaaaaaaaaabbb', 0), ('aaaaaaaaabc', 0), ('aaaaaabbbbbbbbbb', 0), ('aaaaaaaaaaaaaaaaaaab', 0), ('aaaaccccccccccccc', 0), ('aabbbbbbbbbbbbbbbb', 0), ('aaaaaaaaaaaaaaaaaabb', 0), ('aaaaaaabbbbbbccc', 0), ('aaaaaaaaaaaaaaaaaaa', 0), ('aaaaaaaaaaaaaaaacc', 0), ('aaaaaaaaaab', 0), ('aaabbbccc', 1), ('aaaaabbbbbbbbbbbbbbb', 0), ('aaaaaaaaaabbbbbcc', 0), ('aaaaaaaaaaaaaaa', 0), ('aaaaaaaaaaaaaaaabbbb', 0), ('aaaaaaaaabbbbbbbbbb', 0), ('aaaaaaaaaaaaab', 0), ('aaabbbccc', 1), ('aaaaaaaaaaaaabbbbbbb', 0), ('aaaaabbbbbbb', 0), ('aabbbbccccc', 0), ('aaabbbccc', 1), ('aaaaaaaaaaaaaaaaabb', 0), ('aaaaaabbbbbbbbb', 0), ('aaaaaaaaaaaaaaaaabb', 0), ('aaaaaaaaaab', 0), ('aaaaaaaabbbbbbbbccc', 0), ('aaaaaaaaaaaaaaabbbb', 0), ('abbbbbbbbbcccccccc', 0), ('aaaaabbbbbccccc', 1), ('aaaaaaabbbbbbbbbb', 0), ('aaaabbbbbbbbbbb', 0), ('aaaaaaaaaaaaaaabbbb', 0), ('aaaaaabbbbbbbb', 0), ('aaabbbbbbcccc', 0), ('aaaaaaaaaabcccccc', 0), ('aaaaaaaaaaaaaaaaaaa', 0), ('aaaaaaaaaaaaaaaaaaab', 0), ('aaaaaaaaabbbbbbbbbb', 0), ('aaaaaaaaaaaaaaaaaaa', 0), ('aaaaaaaaaaaaaaabbbbb', 0), ('', 1), ('aaaaaaaaaabbbbbbbbb', 0), ('aaaaaaaabbbbbbbb', 0), ('aaaaaaaacccc', 0), ('aaaaaaaaabbbbbbbbb', 0), ('aaaabbbbbbbbbbbbbbbb', 0), ('aaaaaaaaaaaaaaaaaaa', 0), ('aaaaaaaaaabbbbbbb', 0), ('aaaaaaaaaaaaaaaaa', 0), ('aaaaaaaaabcccccc', 0), ('aaabbbbbb', 0), ('aaaaaaaaaaaaabb', 0), ('aaaaaaaaaaaaaaaaaaa', 0), ('aaabbbbbbbbbbbbb', 0), ('aaaaaaaaaaaaaaaabb', 0), ('aaaaabbbbbbbbcccc', 0), ('aaaaaaaaaaaaaaaabbbb', 0), ('aaaaaaaaaaaaaaabbb', 0), ('aaaaaaaabcc', 0), ('aaaaaaaaaabbbbbb', 0), ('aaaaaaaaaaaaaaaabb', 0), ('aaaaaaaaaaaaaaaaaa', 0), ('aaaaaaaabbbbbbbbb', 0), ('aaaaaaaaaabbbbbbbbb', 0), ('aaaaaaaaaaaaaaaab', 0), ('aaaabbbbbbbbbbbbbb', 0), ('aaabbbb', 0), ('aaaaaaabbb', 0), ('abbbbbbbbbbbbccccccc', 0), ('aaaaaaaaaaaabb', 0), ('aaaaabbbb', 0), ('aaaaaaaaaaaaaaaaab', 0), ('aaaaaaaaabb', 0), ('bbbbbbbbbbbbbbb', 0), ('aaaaaabbbbbbcccccc', 1), ('aaaaabbb', 0), ('aaaaaaaaaabbc', 0), ('aaaaaaaabbbbb', 0), ('aaaaaaaaaaaaaaaaaaa', 0), ('aaaaaabbbbbbcccccc', 1), ('aaaaaaaaaaaaaaaaaabb', 0), ('abbbbbbbbbbbbbb', 0), ('aabbbbbbb', 0), ('aaaaaaaaaaaaaaaa', 0), ('aaaaaabbbbbbcccccc', 1), ('aaaaaaaaaaaaaaaaaab', 0), ('aaaaaaaaaccccccc', 0), ('aaaaaabbbbbbbbbbbbbc', 0), ('aaaaaaaaaaaaaabc', 0), ('aaaaaaaabbbbbbbb', 0), ('aaaaaaaaaaabccccc', 0), ('aaaaaaabbbbbbb', 0), ('abbbbbbbbbbbbbbbcccc', 0), ('aaaaaaaaaaaaaab', 0), ('aaaaabbbbbccccc', 1), ('aaaaaaaaaaaaabbc', 0), ('aaaaaaaaaaaa', 0), ('aaaaabbbbbcccccccccc', 0), ('aaaaaaaaaaaaaaaacc', 0), ('aaabbbccc', 1), ('aaaaaaaaaaaaabbbbbb', 0), ('aaaaaaaaaaa', 0), ('aaaaaaaaaaaaaaaaaa', 0), ('aabbccccccc', 0), ('aaaaaaaabbbb', 0), ('abbcccccccc', 0), ('aaaabbbbbbbbbbbbbbb', 0), ('aaaaaaaa', 0), ('aaaaaaaabcccccc', 0), ('aaaa', 0), ('', 1), ('aaaaaaaaaaaaaabbbcc', 0), ('aaabbbbbbbbbb', 0), ('aaaaa', 0), ('aaaaaaaaaabbbbbbb', 0), ('aaaaaaaaaaabbbbb', 0), ('aaaaaaaaaaaaaabbbb', 0), ('aaaaaaaaaaaaabbbbbbb', 0), ('aaaaabbbbbbbb', 0), ('aaaaaaaaaaaaaa', 0), ('abc', 1), ('aaaaaaaabbbbbbbb', 0), ('aabccccccccccccc', 0), ('aaaaaaaaaaaaaaaaabb', 0), ('aaaaaaaaaaabbbbbbbb', 0), ('aaaaaaaaaabbbc', 0), ('aabb', 0), ('aaabbbbbbbbb', 0), ('aaaaaaaabbbbcccccc', 0), ('aaaaaaaaaaaaaabbbb', 0), ('aaaaaaabbccccccc', 0), ('aaaaaaaaaaaaaaaaaabb', 0), ('bbbbbbbbbbbbb', 0), ('aabbbbbbbbbbbb', 0), ('aaaaaaaaaaabbbbbbbbb', 0), ('cccccccccc', 0), ('aaabbbbbbbbbbbbbbcc', 0), ('aaaaaaaaaaaaaaaaaaa', 0), ('bbbbbbbbbbbbbbbbbb', 0), ('aaaaaaaaaaaaaaaaaabb', 0), ('aaaaaaaaaaaaaaaabbb', 0), ('aaaaaaaaaaa', 0), ('aaaaaaaaaaaaaaaaaa', 0), ('aabbbbbbbbbbbbbbb', 0), ('aaaaaaabbbbbb', 0), ('aaaaaaaaaaaaaaaaabb', 0), ('aaabbbccc', 1), ('aaaaaaaaaaaaaaaaabb', 0), ('aaaaaaaaaaaaabbbb', 0), ('aaaaaaaaaaaaaab', 0), ('aaaaaaaaaaaaaaaaaaa', 0), ('aaaaaaaaaaabbbbbbbb', 0), ('aaaaaaaabbbbbbbbc', 0), ('aaabbbbbcc', 0), ('aaaaaaaaaaabbbbbbbb', 0), ('aabbbbbbbbbbbbbbbbbb', 0), ('aaaaaaaaabbbbbbbbbbb', 0), ('aaaaaaabbbbbbbbb', 0), ('', 1), ('aaaaaaaaaaabbbbcc', 0), ('aaaaaaaaaaaaaabbbb', 0), ('aaaaaaaaaaaaaaabbbbb', 0), ('aaaaaaaaaaaaaaaab', 0), ('aaaaabbbbbbbbbbbbbbb', 0), ('cccccccc', 0), ('aaaaaaaaaaaaaaaaab', 0), ('aaaaaaaaaabbbbbb', 0), ('aaaabbbbbbbccccc', 0), ('aabbbbbbbbb', 0), ('aaaaaaaaaa', 0), ('aaaaaaaaaaaccccccc', 0), ('aaabbbbbbbbbcccccccc', 0), ('aaaaaaaaaabbbbbbbbbb', 0), ('aaaaccccc', 0), ('aaaaaaaaaaaaa', 0), ('aaaaaaaaaaaaaaabbbbb', 0), ('aaaabbbbcccc', 1), ('aaabbbbbbbbbbbbbbbb', 0), ('aaaaaaaaaaaaaaabbbbb', 0), ('aaaaaaaaabcc', 0), ('aaaaaaabbbbbb', 0), ('', 1), ('aaabbb', 0), ('aaaaabbbbbb', 0), ('aaaaaaaaaaaaaaaaaa', 0), ('bbbbbbbbbbbbbbbbbbbb', 0), ('aaaaaaaaaaaa', 0), ('aaaaaaabbbc', 0), ('aaaaabbbbbccccc', 1), ('aaaaaaaaaaaaabbbbbbb', 0), ('abc', 1), ('aaaaaaabbbbccccc', 0), ('aaaaaaaaaabbbbbbbb', 0), ('aaabbbbbbbbbbcc', 0), ('aaaaaaaaabbbbb', 0), ('aaaaaaaabbbbccccc', 0), ('aaaaaabbbbbbbbbb', 0), ('aaaabbbbbbbbbb', 0), ('aaaaaaaaaaaaaaabc', 0), ('aaaaaaaaaaaaaaaaaaab', 0), ('', 1), ('aaaaaaaaabcccccccccc', 0), ('aaaaaaaaaaaaaaaaaaab', 0), ('aaaabbbbcccc', 1), ('abbbbccc', 0), ('aaabbbbbbbbbbbbb', 0), ('aaaaaaaaaaaabbb', 0), ('aaaaaaaaaaaaabbbb', 0), ('aaaaaaaaaabbbb', 0), ('aaaaaaaabbbbbbbbb', 0), ('aaaaaabbbbbb', 0), ('aaaaaaaaaaaabbbbb', 0), ('aaaabbbbbbb', 0), ('aaaaaabb', 0), ('aaaaaaaaaaaaaab', 0), ('aaaaaaaaaaaabb', 0), ('aabbbbbbbbbbbbbbbb', 0), ('aaaaaaaaaaaaaaab', 0), ('aaaaaaaaaaaaaaaaaabb', 0), ('abc', 1), ('aaaabbbbbbbbbbbb', 0), ('aaaaaaaaaaaaaaabbccc', 0), ('aaaaaaacc', 0), ('aaaaaaaaaaaaaaaaaaa', 0), ('aaaaaaaaaaaaaaaaabbb', 0), ('aaabbbbbbbbbbbb', 0), ('aaaaaaaaaaaaaaab', 0), ('aaaaaaaaaabbbbbbb', 0), ('aaaaaaaaaaaabbbbbbb', 0), ('aaaaaaaaaaaaaaaaabb', 0), ('aaaabbbbbbbbbbbb', 0), ('aaaaabbbbbccccc', 1), ('', 1), ('abc', 1), ('aaaaaabbbbbbbbbbb', 0), ('aaaaaaaaaaaaaaaaaabb', 0), ('abbbbbbbbbbbbbbbbb', 0), ('aaabbbbbbbbbbbbbb', 0), ('aaaaaaaaaaaaaaaabb', 0), ('aaaabbbbcccc', 1), ('aaabbbbbbbbbbbbbbbbb', 0), ('aabbbbbbbbbbbbbbbbb', 0), ('aaaaaaaaaaabbbbbbb', 0), ('aabbbbbbbbccccccccc', 0), ('abbbbbbbbbbbbbbbbbbb', 0), ('aaaaaaaaaaaaabbbbbb', 0), ('aaaaaaaaaaaaaaaaabb', 0), ('aaaaaaaaaaaaabb', 0), ('aaaaaaaaaaaaaaaaabbb', 0), ('aaaaabccc', 0), ('aaaaabbbbbccccc', 1), ('abc', 1), ('aabbbbbb', 0), ('aaaaaaaaaaaaaaaaa', 0), ('aaabbbbbbbbbbb', 0), ('aaaaaaaaabbbbbb', 0), ('aaaaaaaaaaaaaaaaab', 0), ('aaaaaaaaaaaaaaaa', 0), ('aaabbbccc', 1), ('aaaaaabbbbb', 0), ('aaaaaaaabbbbbb', 0), ('aaaaaaaaaaaaaaabbbbb', 0), ('aaabbbccc', 1), ('aaaaaaaaaaabbbb', 0), ('aaaaabbbbbbbbbbbbbbb', 0), ('aabbbbbbbbbbbbbb', 0), ('aaaaaaaaaabbbbbbbbb', 0), ('aaaaaabbbbbbbbbbb', 0), ('aaaaaaaaaaaabb', 0), ('aaaaaaaaaaabbbbbbc', 0), ('aaaaaaaabbcccccccccc', 0), ('aaabbbbbbbc', 0), ('aaaaaaaaaaaaab', 0), ('aaaabbbbbbbbbbbbbbbb', 0), ('aaaaaaaaaaaabbbbbccc', 0), ('bbbbbbbbbbbb', 0), ('aaaaaaaaaaaaaabbbbb', 0), ('aaaaaaaaaaabbbbbb', 0), ('aaaaaaaaaaaaaaaaaac', 0), ('aaaabbbbcccccccccccc', 0), ('aaaaaaaaaaaaaaaabb', 0), ('aaabbbbbbbbccccccc', 0), ('aaaaaaaaaaaaaabbccc', 0), ('aaaaaaaaaaaaaa', 0), ('aaaaaaaaaaabbbbbbbbc', 0), ('aaabbbbbbbbbb', 0), ('aaabbbbbbbbbb', 0), ('abc', 1), ('aaaaaaaa', 0), ('aaaaaaaaaaaaaaaaaccc', 0), ('aaaaaaaaaabbbbb', 0), ('aaaaaaaaaaaaaaaaabbb', 0), ('abbbbbbbbbbbbbb', 0), ('aaacccc', 0), ('aaaaabbbbbbbbbb', 0), ('aaaaaaaaaaaaabbbb', 0), ('aaaaaaaaabbb', 0), ('aaaaaaaaabbbbbbb', 0), ('aaaabbbbcccc', 1), ('', 1), ('aaaaaccccccc', 0), ('aaaaaaaaaaaaabccc', 0), ('aaaaaaaaaaaaaaab', 0), ('aabbbbbbbbbbbbcccc', 0), ('aaaabbbbcccc', 1), ('aaaaaaabbbbbbbbbb', 0), ('aaaaaaaaaaaaabb', 0), ('aaaccccccccccc', 0), ('aaaaaaaaaaaabbbbbb', 0), ('aaaabbbbb', 0), ('aaaaabbbbbccccc', 1), ('abccccccccccccc', 0), ('aaaabbbbbbbbbbbbbb', 0), ('aaaaaaaaaaabbbb', 0), ('abbbbbbbbbbbbbbb', 0), ('aaaaabbbbbbbbbbbbbbc', 0), ('aaabbbccc', 1), ('bbbbbbbbbbbbbbbb', 0), ('aaaaaaaaaaaaaabbbbbb', 0), ('aaaaaaaaaabbbbbbbbcc', 0), ('aaaaaabbbb', 0), ('aaaaaaaaaabbb', 0), ('aaaaaaaaaaaaaaaac', 0), ('aaaaaaaaaaabccccc', 0), ('aaaaaaaaaaabbbbbbbb', 0), ('aaaaaaaaaaaaaaaaaaab', 0), ('aaaaabbbbbbbbbbbbbbb', 0), ('aaabbbbbbbbbbbbbbb', 0), ('aabbbbbb', 0), ('aaaaaaaaaabbbbbbbbb', 0), ('aaaaaaaabbbbbbbb', 0), ('aaaaaaaaaaaaaaaaabc', 0), ('abbbbbbbbbbbbbbbb', 0), ('aaaaaaaaaaaaaaaaaaa', 0), ('aaaaaaaaaaaaaaaaab', 0), ('aaaaaaaaaaaaabbb', 0), ('aaaaaaaaaaaaaaaab', 0), ('aaabbbccc', 1), ('aaaabbbb', 0), ('aaaaaaaaaaaaaabb', 0), ('aaaabbbbbbbbbbbb', 0), ('aaaaaaaaaaaaaaaaabb', 0), ('aaaaaaaaaaaaaaabbbcc', 0), ('aaaabbccccccccccccc', 0), ('aaaabbbbbbbbbbbbbb', 0), ('aaaaaaaaaaaaaaaaabb', 0), ('aaaabbbbbbbb', 0), ('abbbbbbbbccc', 0), ('aaaaaaaaaaaabbbc', 0), ('aaaaaaaaaaaaabbbbb', 0), ('aaaaaaaaaaaaaaaabb', 0), ('abbbbbbbbbbbbbbb', 0), ('aaaaaaaaaabbbbbbbbbb', 0), ('aaaaaaaaaaaaacc', 0), ('aaaaabbbbbbbbbbbb', 0), ('aaaaaaaaaaab', 0), ('aaaaaaaaaabbbb', 0), ('aaaaaaaabbcccccccccc', 0), ('aaaaaaabbbbbbbb', 0), ('aaaaaaaaabbbbbbbbbb', 0), ('aaaabbbbcccc', 1), ('aaaaabbbbbccccc', 1), ('aaaaaaaaaaaaaaaaaaab', 0), ('aaaaaaaaabbbbbbbb', 0), ('aaaaaaabbbb', 0), ('aaaaaaaaabbbb', 0), ('abc', 1), ('aaaaaaaaaaaaaaaaaabb', 0), ('aabbbcccccc', 0), ('bbcccccccc', 0), ('aaaaaaaaaaaaaaaaabbb', 0), ('bccccccccccc', 0), ('aaaccccccc', 0), ('aaaaaaaaaabbbbbbb', 0), ('aaaabbccccccccccccc', 0), ('aaaaaaaaaabbbcccccc', 0), ('aaaaaaaaaaabbbbbbbb', 0)]\n",
      "Average Sentence Length:\n",
      "15.429\n",
      "Val Data Sample:\n",
      "[('aabbbcccc', 0), ('aaaab', 0), ('aaaaaaaaaaaaaaaabbbb', 0), ('aaaaaaaaaaaabbbbbb', 0), ('aabbbbbbbbbbbbccc', 0), ('aaaaaaaaabbbbbbcc', 0), ('aaaaaaaaaaaaaaaabbbb', 0), ('aabbcc', 1), ('aabbcc', 1), ('aaaaaaaaaaaaaaabb', 0), ('aaaaaaaaaaaaccc', 0), ('aaaabbbbbbbbbbbbbcc', 0), ('aabbcc', 1), ('aaabbbbbbbcccccccc', 0), ('aaaaabbbbbbb', 0), ('aaaaaaaaaaaaaaaa', 0), ('aaaaabbbbbbbbbbbbbbb', 0), ('aaaaaabbbbbbbbbbbbb', 0), ('aaaaaaaaaaaaaaaaab', 0), ('aaaaabbbbbbbbbbbbb', 0), ('bbbbbbbbbcccccc', 0), ('aaaaaaaaaaaaaaaabccc', 0), ('aaaaaaaaaaaaaaaaaac', 0), ('aabbcc', 1), ('aaaaaaaaaaabbbbbbb', 0), ('aaaaaaaaacccccc', 0), ('aaaaaaaabbbbbbbbb', 0), ('aabbcc', 1), ('aaabbbbccc', 0), ('aabbbbbb', 0), ('abbbbbbbbbbbbbbbb', 0), ('bbbbbbbbb', 0), ('aaaaaaaaaaaaabcccccc', 0), ('aaaaaabbb', 0), ('aaaabbbbbbbb', 0), ('aabbcc', 1), ('aabbcc', 1), ('aaaaaaabbbbccccc', 0), ('aaaaaaaaaaaaaaaaaaab', 0), ('bbbbbbbbbbbbbbbbb', 0), ('abbbbccccccccc', 0), ('aaaaaaaaaaaaabbbb', 0), ('aaaaaaaaaaaaaaaaaabb', 0), ('aaaaaaaaaaaaaaabbb', 0), ('aaaaabbbbbbbbbbbbb', 0), ('aaaaaaaaabbbbbbbb', 0), ('aabbbbbbbbbbbbbb', 0), ('aabbbbbbbbb', 0), ('aabbcc', 1), ('aaaaaaaaaaaaaaaaaab', 0), ('aabbbbbbbbbbb', 0), ('aaaaaaaaaaaaacccc', 0), ('aaaaaaaaaabbbbb', 0), ('aaaaaabbbbb', 0), ('aabbbbc', 0), ('aaaaaaaaaaaaaaaabbbb', 0), ('aabbcc', 1), ('aaabbbbbbbbcc', 0), ('aaabbbbbbbbbbbbb', 0), ('aabbcc', 1), ('aaaaaaaaaaaabbbbbb', 0), ('aaaaaaaabcccc', 0), ('aaaaaaabbbbbbcccccc', 0), ('aaaaaaaaaaaaabb', 0), ('aaaaabbccccc', 0), ('bbbbbbbbbbbbbbbbbbb', 0), ('aaaaaaaaaaaaaaaa', 0), ('aaaaaaaab', 0), ('aaaaaaaaaaaaaaaabbbb', 0), ('aaaaaaaaaaaaaaaabbbb', 0), ('aaaaabcccccc', 0), ('bbbbbbbbbbbbbb', 0), ('aaaaaabbcccccccccccc', 0), ('aaaaaabb', 0), ('aaaaaaabbbbbbbbbccc', 0), ('aaaaaaaaaaaaaaaaaaa', 0), ('aaaaaaaaaaaaaaaaaaa', 0), ('aaaaaaaaaaaaaaaaacc', 0), ('aaaabbbbbbbbbbbb', 0), ('aaaaaaaaaabbbbbbbb', 0), ('aaaaaabbbbbbbbbbcc', 0), ('aaaaaaaaaaaaaaaaaaab', 0), ('aaaaaaaaaaaabbcc', 0), ('aaaaaaaaaaaaaaaaa', 0), ('aaaaaaaaaaaabbbbbb', 0), ('aaaaaaaaaaaaaaa', 0), ('aaaaabbbbbbbbbcc', 0), ('aaaaaaabbbbbbbbbb', 0), ('aaaaaaaaaaaaaaaa', 0), ('abbbbbcccccccccccccc', 0), ('aabbcc', 1), ('aaaabbbbbbbbbbb', 0), ('aaaaaaaaaabbbbbccccc', 0), ('aabbcccc', 0), ('aaaaaaaaaaaaabbbbb', 0), ('aaaaab', 0), ('aaaaaaaaaaaabbbbbbb', 0), ('aaaaaaaaaaaaaaaaaaab', 0), ('aaaaaaaaaaaaaaaaaaab', 0), ('aaaaaaaaaaaaaaaaaaa', 0), ('aabbcc', 1), ('aaaaaaaaaaaaaabbbbbb', 0), ('aaaaabbbbbbbbbbbbbc', 0), ('aaabbb', 0), ('aaaaaaaaaabbbbbb', 0), ('aaaaaaaaaaaaaaaabb', 0), ('aaaabbb', 0), ('aaaaaaaaaabb', 0), ('aaaabbbbbbbbc', 0), ('aaaaaaaaaaaaaaaaaaab', 0), ('aaaaaaaaaaaaabb', 0), ('aaaaaaaaaaaaaabb', 0), ('aaaaaaaaaaaaaaaaaa', 0), ('aaaaaabbbbbbbbb', 0), ('aaaaaaaaaaaabbbbbbbb', 0), ('aabcccccccccccccc', 0), ('aaabbbbbbbbbb', 0), ('aabbcc', 1), ('aaaaaaabbbccccc', 0), ('aaaaaaaaaaaaaaaaaaa', 0), ('bbbbbbbbcc', 0), ('aaaaabbbb', 0), ('aaaaaaaaaaaaaaaaaab', 0), ('aaaaaaaaaaaaaaaa', 0), ('bbbbbbbbbbbbbbbbbbb', 0), ('aaaaaaaaa', 0), ('aaaaaaaaaaabbbbb', 0), ('aabbbbbbbbbbbbbbbbbb', 0), ('aaaaaabbbbbbbbbbb', 0), ('aaaaaaaaabbbb', 0), ('bcccc', 0), ('aaaaaaabbbbbbbb', 0), ('aabbcc', 1), ('aaaaaaaaaaaaaabbb', 0), ('aaaaaaaaaaaaabb', 0), ('aaaaaaaaaaaaaabbb', 0), ('aaabbbbbbbbbbb', 0), ('aaaaaaaaaaaabbbbbb', 0), ('aaaaaaaaaaabbb', 0), ('aaabbbbbbbbbbbbbb', 0), ('aaaaaaaaaccccccc', 0), ('aaaaaaaaaaaaaaaabbb', 0), ('aabbcc', 1), ('aabbcc', 1), ('aaaaabbbbbbbbbb', 0), ('aaaaaaaaaaabbb', 0), ('aaabcccccccc', 0), ('aaaaaaaaaaaaaaab', 0), ('aaaaaaaaaaaaaaaaabbb', 0), ('aaaaaaaaaaaaaaaabbb', 0), ('aaaaaaaaaaaaaabb', 0), ('aaaaaabbbb', 0), ('aaaaaaaaaaabbbbbbc', 0), ('aaaabbcccccccc', 0), ('aaaaaaaaaabbbbbbb', 0), ('aabbcc', 1), ('aaaaaaaaabbbbbbbbbb', 0), ('aaaaaaabbbbbcccccccc', 0), ('aaaaaaaaaaaaaab', 0), ('aaaaaaaaaaaaaaabbb', 0), ('aaaaabbbbbbccccccc', 0), ('aaaaaaaaaaaabbbb', 0), ('aaaaaaabbbb', 0), ('aabcccccccccccccc', 0), ('aaaaaaaabbbcccccccc', 0), ('aaaaaaaaaaaaaaaabbbb', 0), ('aaaaaaaaaaaaaaaabbb', 0), ('aaaaaaaaaaaaa', 0), ('aaaaaaaaaaaaaaa', 0), ('aaaaaaaaaaaaaaaaab', 0), ('aaaaaaabbbbbccccc', 0), ('aaaaaaaaaaaabbbbbbb', 0), ('aabbbbbbbbc', 0), ('aaaaaaaaaaaaaaaaaab', 0), ('aaaabbbbbbbbbbbbbbb', 0), ('aaaaaaaaaaaaaaabbbb', 0), ('aaaaaaaaaaaaaaaaaabb', 0), ('aaabbbbc', 0), ('aaaaaaaaaabbbbbbbbb', 0), ('aaaaabbbbb', 0), ('aaaaaaaab', 0), ('aaaaabbbbbbbbbbb', 0), ('aaaaaaaabbbbbbbbbbb', 0), ('aaaaaccccccccccccccc', 0), ('aaaaabbbbccccccccccc', 0), ('aaaaaaaaaaaaaaaaaaa', 0), ('aaaaaaaaaaaaaaaaaab', 0), ('aaaaaaabbbbb', 0), ('aaaaaaaaaaaaaaaaaaa', 0), ('aaaaabbbbbbbbbbbbbbb', 0), ('aaaaaaaaaaaaaaaaa', 0), ('aabbcc', 1), ('aaaabbbbbbbbbbcc', 0), ('aaaaaaaaaaaaaaaaa', 0), ('aaaaaaaaaaaaaaaaaab', 0), ('aab', 0), ('aaaaaaaaaaaaaaaabb', 0), ('aaaabbbbb', 0), ('aaaaaaaaaaaaaaaab', 0), ('aaaaaacccc', 0), ('aaaaaaaaaabb', 0), ('aabbcc', 1), ('abbbbbbbbccccccccc', 0), ('aaaabbbbbbbbbbbbbbb', 0), ('aaabbbbbbbbbbbb', 0), ('bbbbbbbbbbbbbccc', 0), ('aaaaaaaaabbbbbbbbbbb', 0), ('aabbcc', 1), ('aaaaaaaaaaaaaaaabbbb', 0), ('aaaaaaaaaaaabbbbbbb', 0), ('aabbbbbccccccccccccc', 0), ('aaaaaaabbbbbbbbb', 0), ('aaaaaaabb', 0), ('aaaaaaaaaaaabbbbbbbb', 0), ('aabbcc', 1), ('aaaaaaaaaaaaaaabb', 0), ('aaaaaaabbbbbbbb', 0), ('bbbbbbbbbbbbbbb', 0), ('aaaaaaaaaaaaabbb', 0), ('aaaaaaaaaaaabbbccc', 0), ('aaabbbcccccc', 0), ('aaaaaaaaaaaaaaaaab', 0), ('aabbbbbbbbbbbc', 0), ('abbbbbbbbbbbbbbbbbb', 0), ('aabbbbbbbbbbbbb', 0), ('aaaaaaaaaaaaaa', 0), ('aaaaaaaaaaaaaabb', 0), ('aaabbbbbbbbbbbbbbbb', 0), ('aaaaaaaaaaaaaaaab', 0), ('aaaaaabbbccc', 0), ('aaaaaaaaaaaabbbbbbcc', 0), ('aaaaaaaaaaaaaabbbbb', 0), ('aabccccc', 0), ('aaaabbbbbbbbbbbcc', 0), ('aaaaaaaab', 0), ('bbbbbbbbbbbbbc', 0), ('aaaaaabbbbbbbbbbb', 0), ('aaaaaaaaaaaaaaaabbbb', 0), ('aabbcc', 1), ('aaabbbbb', 0), ('aaaaaaaaaaaaaaaaaaab', 0), ('aaaaaaaaaaaaaaaabbbb', 0), ('aaaaaabbbbccccc', 0), ('aaabbb', 0), ('aaaaaaaaabbbbb', 0), ('aaaaaaaabbbbbbbbbbb', 0), ('aaaaaabbbbbbbbbbbbbb', 0), ('aaaaabbbbcccccc', 0), ('aaaaaaaaaaaaaaaaaaab', 0), ('bbbbbbbbbbbbbbb', 0), ('aaaaaabbbbbbbbbbbbbb', 0), ('aaaaaaaaaaaaabb', 0), ('bbbbbbbbbbbbbbbbbbb', 0), ('aaaaaaaaaaabccc', 0), ('aaaaaaaaaaabbbbbbb', 0), ('aabbcc', 1), ('aaaaaaaaaaaaaaaaaab', 0), ('aaaaaaabbbbbbbb', 0), ('aaaaaabbbbbbb', 0), ('aaaaaaaaaaaaaaaa', 0), ('aaaaaaaaaaaaaaaabbbb', 0), ('aaaaaaaaaaaabbbbbbbb', 0), ('aaaaaaaabbbbbbbbbbb', 0), ('aabbcc', 1), ('aaaaaaaaabbbbcccc', 0), ('aaaaaaaabbbbbbbcc', 0), ('aaaaabbbbbbcccccc', 0), ('aabbcc', 1), ('aaaaaaaaabbccccc', 0), ('aaaaaabbbccc', 0), ('aaaaaaaaaaaaaaaa', 0), ('aaaaaaaaaaaaaaaaaaa', 0), ('abbbbbbbbbbbbbbb', 0), ('aaaaaaabbbbbb', 0), ('aaaaaaaabbbbcc', 0), ('aaaaaaaaaaaaaabbbb', 0), ('aaaaaaaaaaaaabbbbbb', 0), ('aaaaabbbbbcccccccccc', 0), ('aaaaaabbb', 0), ('aaaabbbbcccc', 0), ('ab', 0), ('aaaaaaaaaaaaaaabbccc', 0), ('aaaabbbbbcc', 0), ('aaaaaaaaaaaabbbbbbb', 0), ('aabbbbbbbbbbbb', 0), ('aaaaabbbbb', 0), ('aaaaaaaaabbbbbbbbbb', 0), ('aaaaaaaaaaaaaabbb', 0), ('aaaaaaaaabbbb', 0), ('aabbbbbbb', 0), ('bbbbbbbbbbbbbbb', 0), ('aaaaaaaaaaaaaaabb', 0), ('aaaaaaabbbb', 0), ('aabbcc', 1), ('aaaaaabbbbbbb', 0), ('aabbcc', 1), ('aaabbbbbbbbbbbbb', 0), ('aabbcc', 1), ('aaaaaaaabbbb', 0), ('aabbcc', 1), ('aaaaaaaaaaaabbbbb', 0), ('aaaabbbbbbbbbbbbbb', 0), ('aaaaaaaaaaaaaaaab', 0), ('aaaabccccccccccccc', 0), ('aaaaaaaaaaaaabbb', 0), ('aaaabbbbbbbbbccccc', 0), ('aaaaaabbbbbbbbb', 0), ('aabbcc', 1), ('aaaaaaaaaaaaabbb', 0), ('aaaaaaaaaaaabbbbb', 0), ('abbcccccccc', 0), ('aaaaaaabbbbb', 0), ('aaaaaaabbbcccccc', 0), ('aaaaaaaaaaabbbbb', 0), ('aaaaaaaaaaaaa', 0), ('aaaaaaaaaaaaaaaaaab', 0), ('aaaaaaaabbbbbbbb', 0), ('aaaaaaaaaaaaaaaaab', 0), ('aaaaaaaabbbbbb', 0), ('aaaaaaaaabbbbbbbb', 0), ('aaaaaaaaaaaaabbbb', 0), ('aaaaaaabbbbbbbbbbb', 0), ('aaaabbbbbbbbbbbb', 0), ('aaaaaaaaaaaaabbbbbb', 0), ('aaaaaaaaaaaaaaaaab', 0), ('aaaaaaaaaaaaaaaaaab', 0), ('aaabbbbbb', 0), ('aaaabbbbbb', 0), ('aaaaabbbbbbbbb', 0), ('aaaaaaaaaaaaaab', 0), ('aaaaaaaabbb', 0), ('aaaaaaaaaaaaaaaaaaa', 0), ('aabbbbbbbbbb', 0), ('aabbcc', 1), ('aaaaaaaaaaaaaaabb', 0), ('aaaaaaaaaaaaaa', 0), ('aabbcc', 1), ('aaaaaaabbbbbbbbbb', 0), ('aabbcc', 1), ('aaaabbbbbbbbbbb', 0), ('aabbcc', 1), ('bbbbbb', 0), ('aaaaaabbbbbbbbbb', 0), ('aabbcc', 1), ('aaaaaaaaabbbcccc', 0), ('aaaaaaccccccccccc', 0), ('aaaaabbbbbbbbbbbb', 0), ('aaaaaaaaaaaaaaab', 0), ('aaabcccccccc', 0), ('aaaaaaaaaaaaabbbbbb', 0), ('aaaaaaaaaaaaaaaaaaa', 0), ('aabbcc', 1), ('aaaaaaaaaaaaaaaabb', 0), ('aaaaaaaaaaaabbbbbbbb', 0), ('abbbccccccccccccccc', 0), ('aaaaaaa', 0), ('aaaaaaaaaaaaaaaaabbb', 0), ('aaaaaaaaaaaaaaaabcc', 0), ('aaaaaaabbbbbb', 0), ('aaaaaaaaaaaaaaaa', 0), ('aabbbbcccc', 0), ('aaaaaabbbbbbbccccccc', 0), ('aaaaaaaaaaaaaab', 0), ('aaaabbbbbbcccc', 0), ('aaabbbbbbbbbbbbbbbb', 0), ('aaaabbbbbbbbbbbbbbb', 0), ('aaaacccccccc', 0), ('abb', 0), ('aaaaaaaaaaaaaaaaabbb', 0), ('aaaaaaaaaaaaaaaaabbb', 0), ('aaaaaaaaaaccccc', 0), ('aaaaaaaaabbbb', 0), ('aaaaaaaaaaabbbb', 0), ('aaaabbbbbbbbbbbbbbb', 0), ('aaaaaaabbbbbbbbbbbb', 0), ('aaaaabbbbbbbbbbbbbb', 0), ('aaaaaaaaabbb', 0), ('aabbcc', 1), ('aaaaaabbbbbbb', 0), ('aaaaaaaaaaaaaaaabb', 0), ('aaaaaaaabbbbbbb', 0), ('aabbbbbbbbccc', 0), ('aaaaaaaaaaaaaaaabbbb', 0), ('aaaaaaaaaaaaabbbbbc', 0), ('aaaaaaaaaaaaaaaab', 0), ('bbbbbbbb', 0), ('abbbbbbbbbb', 0), ('aabbcc', 1), ('aaaaaaaaaaaaaaabb', 0), ('aabbcc', 1), ('aaaaaabbbbbbbbb', 0), ('aaaaaaaaaaaaaaaaabb', 0), ('aabbbbbbbbbbbbbb', 0), ('aaaabbccc', 0), ('aaaaaaaaabbbbbbbbbb', 0), ('aaaaaaaaaaaaaaaaa', 0), ('aabbbbbccccc', 0), ('aabbcc', 1), ('aaaaaaaaaaaaabbb', 0), ('aaaaaaaaaaaabb', 0), ('abbbbbccc', 0), ('aaaaaaaaaaaaaaaaaaab', 0), ('bbbbbbbbbbbbbbbbbb', 0), ('aaaaaaaaaabbbbbbbbb', 0), ('aaaaaaaaaaaaaabb', 0), ('aaaaaaaaaaaaaab', 0), ('aabbbbbbbbbbbbbbcc', 0), ('aaaaaaaaaaaaaaaa', 0), ('aaaaaaaaaaaaaaaabbb', 0), ('aaaaaaaabbbbbbbb', 0), ('abbbbbbcccccccc', 0), ('acccccccccccccc', 0), ('aaaaaaabbbbbb', 0), ('aaaaaaaaaaaaaaaabbb', 0), ('aaaaaaaaaaaaaaaaaab', 0), ('aaaaaaaaaaabbbbbbbbb', 0), ('aaaaaaaaaaaaaaaabbb', 0), ('abbbbbbbbbbbbbbbbb', 0), ('aaaaaaaabbbbbbbbbb', 0), ('aaaaabbbbbbbbb', 0), ('aaaaaaaaaaabbbbbbbcc', 0), ('aabbcc', 1), ('aaaaaaaaaaaaabbbb', 0), ('aaaaaaaaaabb', 0), ('aabbcc', 1), ('aaaaabcccccccccccccc', 0), ('aaaaaaaaaaaaaaaaaabb', 0), ('aaaaaaaaaaabbbbb', 0), ('aabbcc', 1), ('aaaaaaaaaaaaaaaaaab', 0), ('aaaaaaaaaaaaaabbb', 0), ('aaaaaaaaaaaaaabbbbbc', 0), ('aaaaaaabbbbbbbbbb', 0), ('aaaaaaaaaaaaaaaaaaab', 0), ('aaaaaaaaaaaaaaaaaabb', 0), ('aaaaaaaaaaa', 0), ('aaaaaaaaaaaaaaaaaabb', 0), ('aaaaaaaaaaaaabbbbbb', 0), ('cccccccccccccccc', 0), ('aaaaaaaaaaaabbbbbbbb', 0), ('aaaaaaaaaaaaaaab', 0), ('aaaaaaaaabbbbbbbbbb', 0), ('aaaaaaaabbbb', 0), ('aaaaaaaaabbbb', 0), ('aaaaaaaaaaaaabbbbbb', 0), ('aaabbbbbbbbbbbbbb', 0), ('aaaaaaaaaaaaabbbb', 0), ('aabbcc', 1), ('aaaaaaaaaaaaaaaaaab', 0), ('aaaaaaaaaaaaaaaaaaa', 0), ('aaaaaaaaaabbbb', 0), ('abbbbbbbbbbbbbb', 0), ('aaaaaaaaaabbbb', 0), ('aaaaaaaaaaaaaabb', 0), ('aaaaaaaaaaaaabbbbbbb', 0), ('aaaaaaaaaaaaaaaabbbb', 0), ('aaaaabccccccccccc', 0), ('aaaaaaaaaaaaaaabcccc', 0), ('aaab', 0), ('aaaaaaaaaaaaaaaaaac', 0), ('aaaaaaaaaabbbbbbbb', 0), ('aabbcc', 1), ('bbbbc', 0), ('aaaaaaaabbbbbbbccccc', 0), ('aaaaaaaaaaaaaa', 0), ('bbccccccccccccccc', 0), ('aaaaaaaaaaaaaaaaaaab', 0), ('aaaaaaaaaaabb', 0), ('aaaaaaabbbbbbbbbbc', 0), ('aaaaaaaaaaabbbbccccc', 0), ('aaaaaaabbcccc', 0), ('aaaaaabbbbbbbbbbbbb', 0), ('aaaaaaaaaabbbbbbbccc', 0), ('abbbbbbbbbbbcccccccc', 0), ('aaaaaaaaaaaaa', 0), ('aaaaaaaaaaaaabbc', 0), ('aaaaaaaaaaaaaabbbbb', 0), ('aaaaaaaaaaaabbbbb', 0), ('aaaaaaaaaa', 0), ('aaaaaaaaaaaaaaabbbbb', 0), ('aaaabbbbbbbbbbbbb', 0), ('aaaaaaaaaaaaaab', 0), ('aaaaabbbbbbbbbbbbbb', 0), ('aaaaaaaaaaaaaaaa', 0), ('aaaaaaaaaaaaaaaabbbb', 0), ('aaaaaaaaaa', 0), ('aaaaabbbbbbbbb', 0), ('aabbcc', 1), ('aaaaaaaaaaaaaaaabbbb', 0), ('aaaaabbbbbcccccccc', 0), ('aaaaacccccccccc', 0), ('aabbcc', 1), ('aaaaaaaaaaaaabbbbb', 0), ('aaaaaaaaabbbbbbbbbb', 0), ('aabbcc', 1), ('aaaaaabbb', 0), ('aaaaaaaaabbbbbb', 0), ('aaabbbb', 0), ('aaaaaabcc', 0), ('aaaaaaaaabbbbbbbbb', 0), ('aaaaaaabbbbbbbbbbbbb', 0), ('abbbbbbbbbbbbbbbbbbb', 0), ('aaaaaaaaaaaaabb', 0), ('aaaaaaaaaaaaaaaabbb', 0), ('aaabbbbb', 0), ('aaaaaaaaaaaaaaaabb', 0), ('aaaabbbbbbbbbbbbbb', 0), ('aaaaaaaaaaaaaaaaaac', 0), ('aaaaaaabbbbbbbbbbb', 0), ('aaaaaaaaaaaaaaab', 0), ('aaaaaaaaaaabbbbb', 0), ('aaaaaaaaaaaaaaaaab', 0), ('aabbcc', 1), ('aaaabbbbbbbbb', 0), ('aaaaaaaaaaaaabbbbbb', 0), ('aabbcc', 1), ('aaaaaaaaaabbbbbbbbbb', 0), ('aaaaaaaaaaaabc', 0), ('aaaaaaaaaaaaaaaaabbb', 0), ('aabbbbbbbcccc', 0), ('abbbb', 0), ('aaaaaaaaaaaaaaabb', 0), ('aaaaaaaaabbbbbbbbb', 0), ('aaaaaaaaaaaaaaaabbbb', 0), ('aaaaaaaaaaaaabbbbbc', 0), ('aabbbbbbbbcccccccc', 0), ('aabbcc', 1), ('aaaaccccccccc', 0), ('aaaaaaaaaaaaaaaabbb', 0), ('aabbcc', 1), ('aabbcc', 1), ('aaaaaaaabbbbbbbbbbb', 0), ('aaaaaabbbbbbbbbb', 0), ('aaaaaaaaabbbbbbbb', 0), ('aabbcc', 1), ('aaaaaaaaaaaaaaabbbbb', 0), ('aaabbbcccccccc', 0), ('aaaaaaaaabbbbb', 0), ('aaaaaaaaaaaabbbbbb', 0), ('aaaaaaaaaaaabbbbbb', 0), ('aaaaaaaaaaaaaaaabb', 0), ('aaacccccccccc', 0), ('aaaaaaaaaaaaaaaaabb', 0), ('aaaaaaaaaaaaaaaaaaab', 0), ('aabbbbbbbbbbbbbbbb', 0), ('aaaaaaaaaabbbbbbbbb', 0), ('aabbcc', 1), ('aaaaaaaaaaaaa', 0), ('aaaabbbbbbbbbbb', 0), ('aaaaaaaaaaaaaaaaaab', 0), ('bbbbbbbbbbcccccccccc', 0), ('aaaaaaabbbbbccccc', 0), ('aaaaaaaaaaaaabbbbbbb', 0), ('aaaab', 0), ('aaaaaaabbbbbbbbbbbb', 0), ('aaaabbbbbbcccccc', 0), ('aaaaabbbbbbbbbbbb', 0), ('bbbbbbb', 0), ('aaaaaaabb', 0), ('aaaaaaaaabbbbbbbcc', 0), ('aaaaaaaaaaaaaaaaaa', 0), ('aaaaaabbbbbbbbbbbbbb', 0), ('aaaaacccccccc', 0), ('aaaccccccccc', 0), ('aaaaaaabbbbbcccc', 0), ('aaaaaaaaaaaabb', 0), ('bbbbbbbbbbbbb', 0), ('aaabbbbbbbbbbbbbbbbb', 0), ('aaabbcccccccccc', 0), ('aaaaaaab', 0), ('aaaaaabbbbbbbbc', 0), ('aaaaaaabbbbbbb', 0), ('bbbbbcc', 0), ('aaaacccccccccccccccc', 0), ('aaaaaaaabbbb', 0), ('aaaaaaaaaaaaaaabb', 0), ('aabbbbbb', 0), ('aaaaaaaaaaaaabbbbbbb', 0), ('aaaaaaaaaaaaaaaabbb', 0), ('aaaaaaaaaaaaaaaaaab', 0), ('aaaaaaaabbbbcc', 0), ('aaaaaaaaaaaabbbbbbbb', 0), ('aaaaaaaaabbbbbbbbb', 0), ('aaaaaaaaaaaaaaaaaaa', 0), ('aaaabbbbbbbbbbb', 0), ('aaaaaaaaaaaaaaaaaa', 0), ('aaaaaaaaaaaaaaaabb', 0), ('aaaabbbbc', 0), ('aabbcc', 1), ('aabbcc', 1), ('aaaaaaaaabbbbbbbb', 0), ('aaaaaaaaaabbbb', 0), ('aabbcc', 1), ('aaaaaaaaaaaaaaaaab', 0), ('aaaaaaaaaaaaa', 0), ('aaaaaaaaaabbbbbbbb', 0), ('aabbbbbbbb', 0), ('aaaaaabbbbbbb', 0), ('aaaaaaaaaaaaaaaabb', 0), ('aaaaaaaaaaaaabbbbbbb', 0), ('aaaaaaaaaaaab', 0), ('aaaaaaaaaaabbbbbbb', 0), ('aabbbbbbbbbbbbbbb', 0), ('aaaaaaaaaaaaaabb', 0), ('aaaaaaa', 0), ('abbbbbbbbbbbbbb', 0), ('aaaaaaaaaaabbbbbbbb', 0), ('aaaaabbbbbbbbbbb', 0), ('aabbcc', 1), ('aaaaaaaaaaaaaaaabbbb', 0), ('aabbbbbbbbbbbb', 0), ('aaa', 0), ('aaaaaaaaaaaaaaaaaabb', 0), ('aaaaaaaaaaaaaabb', 0), ('aaabbbbbbbbbbbb', 0), ('aaaaaaaaaaaaaaaaaa', 0), ('aaaaaaaaaabbbbbbbbc', 0), ('aaaaaaaaaaaaaaaabb', 0), ('aaabbbbbbbbbcccccccc', 0), ('aaaaaaaaaaaaaaaaabb', 0), ('aaaaaaaaaaaaa', 0), ('aaaaaaaaaaaaaabbbbb', 0), ('bbbbbb', 0), ('aaaaaaaaaaaaabbbb', 0), ('aaaaaaabbbb', 0), ('aaaaaaaaaaaaaabbbbbb', 0), ('bbbbbbbbbcccccc', 0), ('aaaaaaaaabbbbb', 0), ('aaaaaaaaaaaaaaaabb', 0), ('aaaaaaaaa', 0), ('aabbbbbbbbbbbbb', 0), ('aabbbbbbb', 0), ('aaaaaaaaaaaaabbbbbb', 0), ('aabbcc', 1), ('aaaaaaaaaaaaaaab', 0), ('aaaaaaaaacccccccc', 0), ('aaaaaaaaaaaaaaaab', 0), ('aaaabbbbbbbbbbbbbb', 0), ('aaaaaaaaaaaaaaaaabb', 0), ('aaaaabbbbbbbbbbcc', 0), ('aaaaaaabbbbbbbbbbc', 0), ('aabbcc', 1), ('bbbbbbbbbbbbbbbbbc', 0), ('aaaaaaaabbbbbbbbc', 0), ('aaaaabbbbbbbbbbbb', 0), ('aaaabbbbbbbbbbbccccc', 0), ('aaaaaaaaaaaaaaab', 0), ('aaaaaaaaabbbbbbbbbb', 0), ('aaaaaaaaaaaaaaabbbb', 0), ('aaaaaaaaaaaaaaaaab', 0), ('bbbbbbbbbbbbb', 0), ('aabbcc', 1), ('aaaabbbbbbbbb', 0), ('aabbcc', 1), ('aaaaaaaaaaabbccccc', 0), ('aaaaaaabbbb', 0), ('abbbbbbbb', 0), ('aaaaaaaaaaaaaaaabbbc', 0), ('aabbcc', 1), ('aabbcc', 1), ('aaaaaaaaaaabbb', 0), ('aaaaabcccccccc', 0), ('abbcccc', 0), ('aaaaaaaaaaaaaaaaaaa', 0), ('aaaaaaaaaaaaaaaaaabb', 0), ('aabbbbbbbbbbbbbbbccc', 0), ('abbbbbbbbbcccccccc', 0), ('aaaaabbbbbbbb', 0), ('aaaaaaaaaaaaaaabbbc', 0), ('aaaaaaaaaaaaaaaabb', 0), ('aaaaaaaaaaaaaaaaaaa', 0), ('aaaaaaaaaaaaaaaaabb', 0), ('aaaaaaaaaaaaaaaaaa', 0), ('aabbcc', 1), ('aaabbbbbbbbbbbbb', 0), ('aaaaaaaaaaaaabb', 0), ('aaaaaaaaaaaaa', 0), ('aaaaaaaaaaaaaaabbbb', 0), ('aaaaaaaaaaaaaab', 0), ('aaaabbbbbbbcc', 0), ('aabbcc', 1), ('aaaaaaaaaaaabbbbbb', 0), ('aaaaaaaaaaaaaaaabb', 0), ('aaaaaaaaaaabbb', 0), ('aaaaabbbbb', 0), ('aaaaaaaaaaaabbbbb', 0), ('aaaaaaaaaaaaaaaaaab', 0), ('aaaaaaaaaaaaaaaaaa', 0), ('aaaaaaaaaaaaaaabbbb', 0), ('aaaaaabbbcccc', 0), ('aaaabbbbbbbbbbbbbb', 0), ('aaaaaaaaaaaaaaaaaa', 0), ('aabbbbbbcc', 0), ('aaaaaaaaaaaaabb', 0), ('aaaaaaaabbbbbbbbbb', 0), ('aaaabbbbbccccccccccc', 0), ('aabbcc', 1), ('aaaaaaaaaaaaaaab', 0), ('aaaaaaaaaaaaaaaaaab', 0), ('aaaabbbccccccc', 0), ('bbbcccccccccccccc', 0), ('aaaaaaaaaaaaaaabbccc', 0), ('aaaaaaaaaaaaaaaaaaa', 0), ('aaaaaaaaaaaaaaabbb', 0), ('aabbbbbbbbbbbbbbbb', 0), ('aaaaaaaaaaaaabbbbb', 0), ('aabbcc', 1), ('aabbcc', 1), ('cccccccccccccc', 0), ('aaaaaaaaabbbbbbbb', 0), ('aaaaaaaabbbbbbbbb', 0), ('aabbcc', 1), ('aabbcc', 1), ('aabbcc', 1), ('aaaaaaaaaaaaaaa', 0), ('aaaaaaaaaaaaaaaabb', 0), ('aaaaaaaaabbbbb', 0), ('abbbbbbbbbbbbbbbbb', 0), ('aaaaaaaaaaaaaaaabbb', 0), ('aaaabbbbcccccc', 0), ('aaaaaaaaaaaaaabbcccc', 0), ('aaaaaaaaaaaaaaabb', 0), ('aaaaaaaaaaaaaaaaa', 0), ('aaaaaaaaaaaaaaaaaaa', 0), ('aaaaaaaaaaaaaaaaaa', 0), ('aaaaaaaaaabbbbcc', 0), ('aaaabbbbbbbbcc', 0), ('aaaaaaaaaaaaaaaaabb', 0), ('aaaaaaaaaaaaaaabbbbc', 0), ('aabcccccccccccc', 0), ('aaaaaaaabbbb', 0), ('abbbbbbbbbbbbbbbbbb', 0), ('aaaaaaabbbbbbbbbbbbb', 0), ('aaaaaaaaaaabbbbbbb', 0), ('aaaaaaaaaaabbbbbbb', 0), ('aaabbbbbbbbbbbbbbbb', 0), ('aaaaaaaaaaaaaaaaaab', 0), ('bbbbcccccccccccccc', 0), ('aaaaaaaaaaaaaa', 0), ('aaaaabbbbbbbbbbbb', 0), ('aaaaaaaaaaaaaabbb', 0), ('bbbbbbbbbbbbbbbbb', 0), ('aaaaaaaaaaaaaaabbbbb', 0), ('aaaaaaaaaacccccccc', 0), ('aabbcc', 1), ('aaaaaaaaaaacc', 0), ('abbbbbbbbbbbbbbccc', 0), ('aabbcc', 1), ('aaaaaaaaaaaaaaaaaaac', 0), ('aaabbbbbbbbbcccccccc', 0), ('aaaaaaaaaabbb', 0), ('aaaaaaaaaaaaabbb', 0), ('aaaaaaaaaaaaaa', 0), ('aaaaaaaaaaaaaaab', 0), ('aabbcc', 1), ('abbbbbbbbbbbbbbb', 0), ('aaaaaaaabbbbbb', 0), ('aaaaaaaaaaaaaaaaaab', 0), ('aaaaaaaaaaaaaaa', 0), ('aaaaaaab', 0), ('aaaabbbbbbbbbbbbbbbb', 0), ('aabbbbbbbbb', 0), ('bbbbbbbbbbbbbbbbbc', 0), ('aaaaaaabbcccccc', 0), ('aaaaaaaaaaaabbbbb', 0), ('aaaaabbbbbbc', 0), ('aaabbbbbbbbbbbbbb', 0), ('aaaaaaaabbbbcccccccc', 0), ('aaaaaaaaaabbbbbbbbb', 0), ('aaaaaaaaabbb', 0), ('aaaaaaaaaaabbb', 0), ('aaaabbbbbbbccccc', 0), ('aaaaaaaaaaaabbbb', 0), ('aaaaabbbbbbbbbbb', 0), ('aaaaaaaaaaaaaaaaaab', 0), ('aaaaaaaaaaaaaaaaaa', 0), ('aaaaaaaaaaabbccc', 0), ('aaaaaaaaaaaaaaaaaa', 0), ('aabbcc', 1), ('aaaaaaaaaaaaaaaabbbc', 0), ('aaabccccccccccc', 0), ('aaaaaabb', 0), ('aaaaaaaaaaaaaaaaaaab', 0), ('aaaaaaaaaaaaabbbbb', 0), ('aaaaaaaaaaaaaaaaaab', 0), ('aaaaaaaaaaaaaaaaabb', 0), ('aaaaa', 0), ('aabbcc', 1), ('aaaaaaaaaaaaaaaaaaab', 0), ('aaaaaaaaaaaabbccc', 0), ('accccccccc', 0), ('aaaaaaaaaaaaaaaaabbb', 0), ('aaaaaaaaaaaabb', 0), ('aaaaaaabbbbbb', 0), ('aaabbbb', 0), ('aaaaaaaaaaaaaabb', 0), ('aaaaaaabbbbbcccc', 0), ('aaaaaaaaaaaaaabbbb', 0), ('aabbbbbccccccccccccc', 0), ('aabbbbbbbbbbbbbbbbb', 0), ('aaaaaaaaaaaaaaaaab', 0), ('aabbcc', 1), ('aaaaaaaaaabbb', 0), ('aabbcc', 1), ('aaaaaaaaaaaaaabbbbbb', 0), ('aaaaaaaaaaaaabbbbbb', 0), ('aaabbbccccccccccc', 0), ('aaaaaaaaaaaaaaaa', 0), ('aaaabbbbccccccc', 0), ('aaaabbbbbbbb', 0), ('aaaaaaaaaaab', 0), ('aaaaaaaaaabbcccccc', 0), ('aaaaaaaaaaaaaaaa', 0), ('aaaaaaaaaaaaaabbbbbb', 0), ('aaabb', 0), ('aabbbbbbbbbbbccccccc', 0), ('aaaaaaaaa', 0), ('aaaaabbbcccccccc', 0), ('aaaaaabbbbbbbbbbcccc', 0), ('aaabbbbbbbbbbbbbb', 0), ('aaaaaaaaaaaaaaaaaaab', 0), ('aaaaaaabbbb', 0), ('aabbcccccccc', 0), ('aaabbbbbbbcc', 0), ('aaaaaaaaaaaaaaaaaaa', 0), ('aaaaabcccccccccc', 0), ('aaaaaaabbbbbbbbbbbbb', 0), ('aaaaaaaaaaaaaaaaabb', 0), ('aaaaaaabbbbbb', 0), ('aaaaaaaaaaaaabbbb', 0), ('aaaaaaaaaaabbbbbbbbb', 0), ('aaaaaaaaaaabb', 0), ('aaaaaaaaaaaaaaaabccc', 0), ('aaaaaaaaaaaaaaacccc', 0), ('aaaaaaaaaaaaaaabbbbc', 0), ('aaaaaaaaaaaabbb', 0), ('aaaaaaaaaaaaaab', 0), ('aaaaaaaaaabbb', 0), ('aaaaaaaaaaaaaaabbbbb', 0), ('aaaaaaaaaaaaa', 0), ('aaaaabbbbbbbbccccccc', 0), ('aaaaaaaaaaaaabbccccc', 0), ('aaaaaaaaaaaaaaaaaaa', 0), ('aaaaaaaaaaaabbbbbbbb', 0), ('aaaaaaaaaaaaaaaaaaab', 0), ('aaaaaaaaaaaabbbbbbbb', 0), ('aaaaaaaaaaaaaaaaabbb', 0), ('aaaaaaaaaaaaabbbbbb', 0), ('aaaaaaaaccc', 0), ('aaaaaaaaaabbbc', 0), ('aaaaaaaaabbbbbbbbbbb', 0), ('aaaaaaaaaaaabbbbbbb', 0), ('aaaaaaaaaaab', 0), ('bbbbbbbbcc', 0), ('bbbbbbbbbbbbbbbbbbbc', 0), ('aaaaaaaaabcccccc', 0), ('aaabbbbbbbbbbbbbbbbb', 0), ('aaaaaaaaccccccccc', 0), ('bbbbbbbbbbbbbb', 0), ('aaaaaaaaaaaaaaaabbbb', 0), ('aaaaaaaaaaaaaaaaaabb', 0), ('aaaaaaaaaaaaaabcccc', 0), ('aaaaaaaaaa', 0), ('aaaaaaabbbbbbbb', 0), ('aaaaaaaaaaaaaaaabb', 0), ('aaaaaaaaaaaaaabbbbbc', 0), ('aabbcc', 1), ('aabbcc', 1), ('aabbcc', 1), ('abbbbbbbbbbbbbbc', 0), ('aabbcc', 1), ('aaaaaaaaaaaaaaabbb', 0), ('aaaaaaaaaaaaabbbb', 0), ('bbbbbbbbbbbbbbb', 0), ('aaaaaaaaaaaaaaaaaab', 0), ('aaaabb', 0), ('aaaaaaabbbbbbbbb', 0), ('aaaaaaaaaaaaaaaaaab', 0), ('aaaaaabbbbbbbbbbbbcc', 0), ('aabbcc', 1), ('aaaaaaaaaabbbbbbbbbb', 0), ('aaaaaaaaaaaabbbccc', 0), ('aaaaaaaaaaaaaaaaaaac', 0), ('aaaaacccccc', 0), ('aaaaaaaaaaaabbbb', 0), ('aaabbbbbbbbbbbbbbbbb', 0), ('aaaaaaaaaaaaaccc', 0), ('aaaaaaaaaaaabbbbbbbb', 0), ('aaabbbbbbbbbcccc', 0), ('aaaaabbbbbbbbbbbbbb', 0), ('aaaaaaaaaaaabb', 0), ('aaaabbbbbbbbbbbbbbb', 0), ('aaaaaaaaaaaaaaabbbbb', 0), ('aaaaabbbbbbb', 0), ('aaaaaaaaabbbb', 0), ('bcccccc', 0), ('aaaaabbbbbbbbbb', 0), ('aaaaaaaabb', 0), ('aaaabbbcccccccccccc', 0), ('aaaaaaaaabbbbbbbbb', 0), ('aaaaaaaaaaaaaaaaab', 0), ('aaaaaaaaaaaaaaaaa', 0), ('aaaaaaaaabbbbbbcc', 0), ('aaaaaaaaabccccccc', 0), ('aaaaaaaaaaaaaabbbbb', 0), ('aaabc', 0), ('aaabbbbbbbb', 0), ('aaaaaaaaaaaaaaabbb', 0), ('aaaaaaaaac', 0), ('aaaaaaaaa', 0), ('aaaaaaaaaaaaaabbb', 0), ('aaaaaaaaabbbbbccccc', 0), ('aaabcccccc', 0), ('bbbbbbbbbbbbbbbbbbbb', 0), ('aabbcc', 1), ('aaaaabbb', 0), ('aaaaaaabbb', 0), ('aaaaabbbbbbcccccc', 0), ('aaaaaaaaabbbbbbb', 0), ('aaaaaaaaaabbbbbbc', 0), ('aabbcc', 1), ('aaaabbbbbbbbbbccc', 0), ('aaaaaaaaaaaaaaabbbbb', 0), ('aabbcc', 1), ('aaaaaaaaaaaaaaaaab', 0), ('aaaaaaaaaaabbbbbbbbb', 0), ('aaaaaaaaaaaaaaaaaa', 0), ('aaaaaaabbbbbbb', 0), ('aaaaaaaaaccccc', 0), ('abbbbbbbbbccccccccc', 0), ('aaaaaaaaaaaaaaaabbb', 0), ('aabbcc', 1), ('aaaaaaaaaaaaaaaaaa', 0), ('aabbcc', 1), ('aabbcc', 1), ('aaaaaaabbbbb', 0), ('abbbbbbb', 0), ('aaabbbbbbbbbbbbbb', 0), ('aaaaaaaaaaabbbbcc', 0), ('aaaaaaabbbbbbbbb', 0), ('aaaaaaaaaabbbbbbb', 0), ('aabbcc', 1), ('aaaaaabbbbbbbbbbbb', 0), ('aaaaaaaaaabbbbbbbbbb', 0), ('aaaaaaaaaaaaaabbb', 0), ('aaaaaaaaaaaaaaaaaa', 0), ('aaaaaaaabb', 0), ('aaaaaaaaaaaaaaabbbbb', 0), ('aabbcc', 1), ('aaaaaaaaaaaaaaaaaab', 0), ('aaaaaaaaaaaaaaaaabbb', 0), ('aaabbbc', 0), ('aaaabbbbbbbbb', 0), ('abbbbbbbbbc', 0), ('aabbcc', 1), ('aaaaaaaaaaabbbb', 0), ('aaaaaaaaaaaaaaaa', 0), ('aaaaaaaaaaaaabcccc', 0), ('aaaaaaaabbb', 0), ('abbbbbbbbbbbbbbbbbbb', 0), ('aaaaaaaaaaabbbbbb', 0), ('aabbcc', 1), ('aaaaaaaabbbbbbbb', 0), ('aabbcc', 1), ('aaaaaaabbbccccccccc', 0), ('aaaaaaaaaaaaaaabbbbb', 0), ('aaaaaaaaaaabbbbb', 0), ('aaaaaaaaaabbbbbbbbbb', 0), ('aaaaaaaaaaabbbb', 0), ('aaaaaabbbbbbb', 0), ('aaaaaaaaaaaaaabbbbc', 0), ('aaaaaaaabbbbbbb', 0), ('aaaaaaaaaaaabbbbcccc', 0), ('aaaaaaaaaaaaaabbbbb', 0), ('bbbbbbbbbbbbbbbbbbb', 0), ('aaaaaaaaabcccccc', 0), ('aaaaaaaaaaaaaaabb', 0), ('aaaaaaaaaaaaaaaab', 0), ('aaaaaaaaaabbbbbb', 0), ('aaaaabc', 0), ('aaaaaaaabccc', 0), ('aaaaaaaaaaaaabbb', 0), ('aaaaaaaaaaaaaaaaaaa', 0), ('aabbcc', 1), ('aaaaaaaaaaaaaaab', 0), ('aaaaaaaaaaaaaaaaaa', 0), ('aabbcc', 1), ('aaaaaaaaaaaaaaabbbbb', 0), ('aaabbbccc', 0), ('aaaaaaaaaaaaaacccc', 0), ('aaaaaaaaabbbbbbb', 0), ('aaaaabbbbbbb', 0), ('aaaaaaabb', 0), ('aaaaaaaaaaabbbbbbbbb', 0), ('aaaaaaaaabbbbbbccc', 0), ('aaaaaaaaaaaaaabbb', 0), ('aaaaaaaaaaaaaaaab', 0), ('bb', 0), ('aabbcc', 1), ('aabbcc', 1)]\n",
      "Average Sentence Length:\n",
      "15.029\n",
      "Test Data Sample:\n",
      "[('aaaaaaaaaaaaaaaaaaaaaaaaaaaaaaaaaaaaaaa', 0), ('aaaaaaaabbbbbbbbcccccccc', 1), ('aaaaaaaaaaaaaaaaaaaaaaaaaaaaaaaaaaaaaa', 0), ('aaaaaaaaaaaaaaaaaaaaaaabbbbbbbbbbbbbbb', 0), ('aaaaaaaaaaaaaaaaaaaaaaaaaaaaaaaaaaa', 0), ('aaaabbbbbbccccccccccccccccccccccccc', 0), ('aaabbbbbbbbbbbbbbbbbbbbbbbbbbbbbbbbb', 0), ('aaaaaaaaabbbbbbbbbbbbbbbbbbbbbbbbbbbb', 0), ('aaaaaaaabbbbbbbbcccccccc', 1), ('aaaaaaabbbbbbbccccccc', 1), ('aaaaaaaaaaaaaaaaaaaaaaaabbbbbbcccccccccc', 0), ('aaaaaaaaaaaaaaaabbbbbbbbbbbbbbbbbb', 0), ('aaaaaaaaaaaaaaaaaaaaaaaabbbbbbbbc', 0), ('aaaaaaaaaaaaaaaaaaaaaaaaaaaaaaaaaaaaa', 0), ('aaaaaaaaaaaaaaaaaaaaaaaaaaaabbbbbbbc', 0), ('aaaaaaaaaaaaaaaaaaaaaaaaaaaaaaaabbb', 0), ('aaaabbbbbbbbbbbbbbbbbbbbbbbbbbbbbbb', 0), ('aaaaaaaaaaaaaaaaaaaaaaaaaaaaaaaaaaaabbbb', 0), ('abbbbbbbbbbcccccccccccccccccccc', 0), ('aaaaaaaaaaaaaaaaaaaaaaaaaabbbbbbccccccc', 0), ('aaaaaaaaaaaaaaaabbbbbbbbb', 0), ('aaaaaaaaaaabbbbbbbbbbbbbbbbbbbbbbbbbbbbb', 0), ('aaaaaabbbbbbbbccccccccc', 0), ('bbbbbbbbbcccccccccccccccccccccccccccccc', 0), ('aaaaaaaaaaaaaaaaaaaaaaaaaaaaaaaaaaabbb', 0), ('aaaaaaaaaaaaaaaaaaaaaaaaaaaaaaaaaaaabb', 0), ('bbbbbbbbbccccccccccccccccc', 0), ('aaaabbbbbbbbbbbbbbbbbbbbbbbbbbbbbbbbbb', 0), ('aaaaaaaaaaaaaaaaaaaaabbbbbbbbbbbbb', 0), ('aaaaaaaaaaaaaaaaaaaaaaaaaaaaaaabbbbbb', 0), ('aaaaaaaaaabbbbbbbbbbbbbbbbbbbbbbbbbbbb', 0), ('aaaaaaaaaaaaaaaaaaaaaaaaaaaaaaaaaaaaaaab', 0), ('aaaaaaaaaaaaaabbbbbbbbbbbbbbbbbcccccccc', 0), ('aaaaaaaaaaaaabbbbbbbbbbbbbccccccccccccc', 1), ('aaaaaaaaaaaaaaabbbbbbbbbbbbbbbbbb', 0), ('aaaaaaaaaaaaaaaaaaaaaaaaaaaaaaaaaaaaaab', 0), ('aabbbbbbbbbbbbbccccccccccccccccccccccc', 0), ('aaaaaaaaaaaaaaaaaabbbbbbbbbbbb', 0), ('aaaaaaaaaaaabbbbbbbbbbbbbbbbccccccccc', 0), ('aaaaaaaaaaaaaaaaaaaaaaaaaaabbbbbbbbbbb', 0), ('aaaaaaaabbbbbbbbcccccccc', 1), ('aaaaaaaaaaaaaaaaaaaaaaaaaaaaabbbbbbbbccc', 0), ('aaaaaaaaaaaaaaaaaaaaaaaaaaaaaaaaaaaabbb', 0), ('aaaaaaaaaaaaaaaaaaaaaaaaaaaaaaaaaaaaaacc', 0), ('aaaaaaaaaaaabbbbcccccc', 0), ('aaaaaaaaaaaaaaaaaaaaaaaaaaaaaaabbbbbbbb', 0), ('aaaaaaaaaaaaaaaaaaaaaaaaaaaaaaaaaaaaaaac', 0), ('aaaaaaaaaaaaaaaaaaaaaaaaaaaabbb', 0), ('aaaaaaaaaaaaaaaabbbbbbbbbbbbbccccccc', 0), ('aaaaaaaaaaaaaaaaaaaaaaaaaaaaaabbbbbbbb', 0), ('aaaaaaaaaaaaaaabbbbcccccc', 0), ('aaaaaaaaaaaaaaaaaaaaaaaaaaaaaaaaaabbb', 0), ('aaaaaaaaabbbbbbbbbccccccccc', 1), ('aaaaaaaaaaaaabbbbbbbbbbbbcccccccc', 0), ('aaaaaaaabbbbbbbbbbbbbbbbbbbbbbbb', 0), ('aaaaaaaaaabbbbbbbbbbcccccccccc', 1), ('aaaaaaaaaaaaaaaaaaaabbbbbbbbbbbbbbbbbbb', 0), ('aaaaaaaaaaaaaaaaaaaaaaaaaaabbbbbb', 0), ('aaaaaaaaaaaaaaaaaaaaaaaaaaaaaaaaaaaab', 0), ('aaaaaaaaabbbbbbbbbccccccccc', 1), ('aaaaaaaaaaaaaaaaaaaaaaaaaaaaaaaaaaaaa', 0), ('aaaaaaaaaaaaaaaaaaaabbccccccccccccccccc', 0), ('aaaaaaaaaaaaaaaabbbbbbbbb', 0), ('abbbbbbbbbbbbbbbbbbbbbbbbbbbbbbbbbbbbbbb', 0), ('aaaaaaaaaaaaaabbbbbbbbbbbbbbbbbbbbbb', 0), ('aaaaaaaaaaaaaaaaaaaaaaaaaaaaaaaaaaaabbb', 0), ('aaaaaaaaaaaaaaaaaaabbbbbbbbbbb', 0), ('aaaaaaaaaaaaaaaaaaaaaabbbccccc', 0), ('aaaaabbbbbbbbcccccccccccccccccccccccc', 0), ('aaaaaabbbbbbbbbbbbbbbbcc', 0), ('aaaaaaaaaaaaaaaaaaaaaaaaaaaaabbbbbbbbbbb', 0), ('aaaaaaaaaaaaaaaaaaabbccccccccccccc', 0), ('aaaaaaaaaaaaaaaaaaaaaaaaaaaaaaaaaaa', 0), ('aaaaaaaaaaabbbbbbbbbcccccccccc', 0), ('aaaaaaaaabbbbbbbbbccccccccc', 1), ('aaaaaaaaaaaaaaaaaaaaaaaaaaaaaaaaaaaaaabb', 0), ('aaaaaaabbbbbbbccccccc', 1), ('aaaaaaaaaaaaaaaaaaaaaaaaaaaaaaaacc', 0), ('aaaabbbbbbbbbbccccccccccccccccccccccc', 0), ('aaaaaaaaaaabbbbbbbbbbbbbbbbbbbbb', 0), ('aaaaaaaaaaaaaaaaaaaaabbbbbbbbbcccccccc', 0), ('aaaaaaaaaaaabbbbbbbbbbbbbbbbbbbbbbbbbbb', 0), ('aaaaaaaaaaaaaaaaaaaaaaaabbbbc', 0), ('aaaaaaaaaaaaaaaaaabbbbbbbbbbbbbbbbbb', 0), ('aaaaaaaaaaaaaabbbbbbbbbccccccccccc', 0), ('aaaaaaabbbbbbbbbbbbbbbbbbbbbbbbbbbbbbbbb', 0), ('aaabbbbbbbbbbbbbbbbbbbbbbbbbbbbbb', 0), ('aaaaaaaaaaaaaaaaaaaaaaaaaaaaaaaaaaab', 0), ('aaaaaaaaaaaaabbbbbbbbcccccc', 0), ('aaaaaaaaaaaaaaaaaabbbbbbbbbbbbbbb', 0), ('aaaaaaaaaaaaaaaaaabbbbbbbbbbbbbbbbbbb', 0), ('aaaaaaaaaaaaaaaaaaaaaaaaaaaaaaaabbbbbb', 0), ('aaaaaaaaaaaaaaaaaaaaaaabbbbbbcccccccc', 0), ('aaaaaaaaaaaaaaaaaaaaaaaaaaaaaaaaaaaaab', 0), ('aaaaaaaaabbbbbbbbbccccccccc', 1), ('aaaaaaaaaaaaaaaabbbbbbbbbbbccccccccccc', 0), ('aaaaaaabbbbbbbbbbbbbbbbbbbccc', 0), ('aaaaaaaaaaaaaaaaaaaaaaaaaaaaaaaaaaaaab', 0), ('aaaaaaaaaaaabbbbbbbbbbbbcccccccccccc', 1), ('aaaaaaabbbbbbbbbbbbbbbbbbbbbbbbbbbbb', 0), ('aaaaaaaaaaaaaaaaaaaabccccccccccccccc', 0), ('aaaaaaaaaaaaaaabbbbbbbbbbcccccccc', 0), ('aaaaaaaaaaaaaaaaaaaaaaaaaaaaaaaaaaaa', 0), ('aaaaaaaaaaaaaaaaaaabbbbbbbbccccccccc', 0), ('aaaaaaaaaaaaaaaaaaaaaaaaaaaaabbbbbbbbbbb', 0), ('aaaaaaaaaaaaaaaaaaaaaaaaaaaaaaaabbbbbbbb', 0), ('aaaaaaaaaaaaaaaaaaaaaaaaaaaaaaaaaaaaaaa', 0), ('aaaaaaaaabbbbbbbbbccccccccc', 1), ('aaaaaaaaaaaaaaaaaaabccccccc', 0), ('aaaaaaaaaaaaaaaaabbbbbbbbbbbbbbbbbbbb', 0), ('aaaaaaaaaaaabbbbccccccccccccccccccc', 0), ('aaaaaaaaaaaaaaaaaaaaaaaaaaaaaaaaaab', 0), ('aaaaaaaaaaaaaaaaaaaaaaaaaaabbbbbbccccc', 0), ('aaaaaaaaaaaaaaabbbbbbbbbbbbbb', 0), ('aaaaaaaabbbbbbbbbbbbbbbbbbbbbbbbbbbbbbb', 0), ('aaaaaaaaaaaaabbbbbbbbbbbbbccccccccccccc', 1), ('aaaaabbbbbbbbbbbbbbbbbbbbccccccccccccc', 0), ('aaaaaaabbbbbbbccccccc', 1), ('aaaaaaaaaaaaaaaaaaaaaaabbbbbbbbbbbbbbbb', 0), ('aaabbcccccccccccccccccccc', 0), ('aaaaaaaaaabbbbbcccccccccccccccccccc', 0), ('bbbbbbcccccccccccccccccccccc', 0), ('aaaaaaaaaaaaaaaaaaaaaaaaaaaaaaaaaaaaabbb', 0), ('aaaaaaaaabbbbbbbbbbbbbbbbbbbbbbbbbbbbb', 0), ('aabbbbbbbbbbbbbbbbbbbbbbbbbbb', 0), ('aaaaaaaaaabbbbbbbbbbbbbbbbbbccccccccc', 0), ('aaaaabbbbbbbbbbcccccccccccccccccccccc', 0), ('aaaaaaaaaaaaaaaaaaaaaaaaaaaaabbbbbbbbbbc', 0), ('aaaaaaaaaaaaaaaaaaaaaabbbbbbb', 0), ('aaaaaaaaaaaaaaaaaaaaabbbbbbbb', 0), ('aaaaaaaaaaaaaaaaaabbbbbbbbbbbbbbcccc', 0), ('aaaaaaaaaaaaaaaaaaaaaaaaaaaaaaaaaaaab', 0), ('aaaaaaaaaaaaaaabbbbbbbbbbbbbbbbbbbbbbb', 0), ('aabbbbbbbbbbbbbbbbbbbbbbbbbbbbbbbbbbbb', 0), ('aaaaaaaaaaaccccccccccccccccccc', 0), ('aaaaaaaaaaaaaaaaabbbbbbbbbbbbbbbbbbb', 0), ('aaaaaaaaaaaaaaaaaaaaaaaaaaaaaaaaab', 0), ('aaaaaaaaaabbbbbbbbbbcccccccccc', 1), ('aaaaaaaaaaaaaabbbbbbbbbbbbbbbbbbbbcc', 0), ('aaaaaaaaaaaaaaaaaaaaaaaaaaaaaabbbbbbbbb', 0), ('bbbbbbbbbbbbbbbbbbbbbbbbbbbbbbbbbbbbb', 0), ('aaaaaaaaaaaaaaaaaaaaaaaaaaaaaaaaaaaaaab', 0), ('aaaaaaaaaaaaaaaaaaaaaaaaaaaaaaaaa', 0), ('aaaaaaaaaaaaaaaaaaaaaaaaaaaaaaaaaaaaabbb', 0), ('bbbbbbbbbbbbbbbbbbbbbbbbbbbbbbbbbbbbbbbb', 0), ('aaabbbbbcccccccccccccccccccc', 0), ('aaaaaaaaaaaaaaaaabbbbbbbbbbbbbbbbccccccc', 0), ('aaaabbbbbbbbbbbbbbbbbbbbbbbbbbbbcccc', 0), ('aaaaaaaaaaabbbbbbbbbbbccccccccccc', 1), ('aaaaabbbbbbbbbbbbbbbbbbccccccccccccccc', 0), ('aaaaaaaaaaaaaaaaaaaaaaaaaaaaaaaaabbbccc', 0), ('aaaaaaaaaaaaaaaaaabbbbbbbbbcccccccccc', 0), ('aaaaaaaaaaaaaaaaaaaaaaaaaaaaaaaaaabbbbbb', 0), ('aaaaaaaaaaaaaaaaaaaaaaaaaaaaaaaaaaaaaabb', 0), ('aaaaaaaabbbbbbbbbbbbbbbbcccccccccc', 0), ('aaaaaaaaaaaaaaaaabbbbbbbbbbbbbbbbbbbb', 0), ('aaaaaaabbbbbbbbbbbbbbbbbbbbbbbbbbbbbb', 0), ('aaaaaaaaaaaabbbbbbbbbbbbccccccc', 0), ('aaaaaaabbbbbbbbbbbbbbbbbbbbbccccc', 0), ('aaaaaaaaaaaaaaaaaaabbbbbbbbbbbbbbb', 0), ('aaaaaaaaaaaaaaaaaaaaaaaaaabbbbb', 0), ('aaaaaaaaaaaaaaaaaaaaaaaabbbbb', 0), ('aaaaaaaaaaaaaaaaaaaaaaaaaaaabbbbbbbb', 0), ('aaaaaaaaaaaabbbbbbbbbbbbbbbbbbbbbbb', 0), ('aaaaaaaaaaaaaaaaaaaaaaaaaaaaaaaabbbb', 0), ('aaaaaaaaaaaaaaaaaaabbbbbbbbbbbbb', 0), ('aaaaaaaaaaaaaaaaaaaaaaaaaaabbbbbbbbbbbb', 0), ('aaaaaaaaaaaaaaaaaaabbbbcc', 0), ('aabbbbccccccccccccccccccccccc', 0), ('aaaaaaaaaaaaaabbbbbccc', 0), ('aaaaaaaaaabbbbbbbbbbcccccccccc', 1), ('aaaaaaabbbbbbbccccccc', 1), ('aaaaaaaaaaabbbbbbbbbbbbbbbbbbbbbbbbcccc', 0), ('aaaaaaaaaaaaaaaaaaaaaaaaaaaaaaabbbbb', 0), ('aaaaaaaaaaaaaaaaaaabbbbbbbcc', 0), ('aaaaaaaaaaaaaaaaaaaaaaaaaaaaaaaabbbccccc', 0), ('aaaaaaaaaaaaaaaabbbbbbbbbbbbbbb', 0), ('abbbbbbbbbbbbbbbbbbbbbbbbbcccccccccc', 0), ('aaaaaaaaaaaaaaaaaaaaaaaaaaaaaaacccccccc', 0), ('aaaaaaaaaaaaaaaaaaaaaaaaaaaaaaaaaaaaabbb', 0), ('aaaaaaaaaaaaaaabbbbbbbbbcccccccccccccccc', 0), ('aaaaaaaaaaaaaaaaaaaaabbbbbbbbbbccccccccc', 0), ('aaaaaaaaaaaaaaaabbbbbbbbbcccccccccccccc', 0), ('aaaaaaaaaaaaaaaaaaaaaaaaabbbbbbbbbbbcc', 0), ('aaaabbbbbbbbbbbbbbbbbbbbbbbbbbbbbbbcccc', 0), ('aaaaaaaaaaaabbbbbbbbbbbbbbbbbbbbbbbb', 0), ('aaaaaaaaaaaaaaaaaaaaaaaaaaaaaaaaaaabbbbb', 0), ('aaaaaaaaaaabcccccccccccccccc', 0), ('aaaaaaaaaaaaaaabbbcccc', 0), ('aaaaaaaabbbbbbbbcccccccc', 1), ('aaaaaaaaaaacccccccccccccc', 0), ('aaaaaaaaaaabbbbbbbbbbbbbbbbbbbbbbbbbcccc', 0), ('aaaaaaaaaaaaaaaaaaaaaaaaaaaaaaaaaaabbb', 0), ('aaaabbbbbbbbbbbbbbbbbbbbbbbbbbbbb', 0), ('aaaaabbbbbbbbbbbcccccccccccccc', 0), ('aaaaaaaaaaaaaaaaaaaaaaaabbbbbb', 0), ('aaaaaaaaaaaaaaaaaaaaaaaaaaaaabbbbbbbb', 0), ('aaabbbbbbbbbbbbbbbbbbbbbbbbbbbbccccccccc', 0), ('aaaaaaaaaabbbbbbbbbbbbbbbbbbbbbbbbb', 0), ('aaaaaaaabbbbbbbbbbbbbbbbbbbbbbbbbbbbb', 0), ('aaaaaaaaaaaaaaaaaaaaaaaaabbb', 0), ('aaaaaaaaaaaaaaaaaaaaaaabccccc', 0), ('aaaaaaaaaaaaaaaaaaaabbbbbbccccccc', 0), ('aaaaaaaabbbbbbbbcccccccc', 1), ('aaaaaaaaaaaaaaaaaaaaaaaaaaaaaaaaaaaaab', 0), ('aaaaaaaaaaaaaaaaaaaabbbbbbbbcccc', 0), ('aaaaaaaaaaaaaaaaaaaaaaaaaaaaaaaaaaaaabb', 0), ('aaaaaaaaaaaaaaaaaaaaaaaaaaaaaaaaaaaa', 0), ('aaaaaaaaaaaaaaaaaaaaaaaaaaaaaaaaaaaabbb', 0), ('aaaaaaaaaaaaaaaaaaaaaaaaaaaaabbbbbbbbbcc', 0), ('aaaaaaaaaaaaabbbbbbbbbbbbbbbbbbbbbbbbbb', 0), ('aaaaaaaaaaaaaabbbcccc', 0), ('aaaaaaaaaaaaaaaaaaaaaaaaaaaaaaaabbb', 0), ('aaaaaaaaaaaaabbbbbbbbbbbbbccccccccccccc', 1), ('aaaaaaaaaaaaaaaaaaaaaaaaaaaaaabbbbbb', 0), ('aaaaaaaaaaaaaaaaaaaaaaaaaaaaaaabbbbbbbb', 0), ('aaaaaaaaaaaaaaaaaaaaabbbbbbb', 0), ('aaaaaaaaaaaaaaaaaaaaaaaaaaaaaaaaaaaaaa', 0), ('aaaaaaaaaaabbbbbbbbbbbccc', 0), ('aaaaaaaabbbbbbcccccccccccccccccccccccc', 0), ('aaaaaaaaaaaaaaaaaaaaaaaaaaaaabbbbbbbbbbb', 0), ('aaaaaaaaaaaaaaaaaaaaaaaaaaaaaaaaaa', 0), ('aaaaaaaaaaaaaaaaaaaaaaaaaaaaaaaaaaaaaaab', 0), ('aaaaaaaaaaaaaaaaaaaaaaaaaaaaaaaabbbbbbbb', 0), ('aaaaaaaaaaabbbbccccccccccc', 0), ('aaaaaaaaaaaaaaaaaaaaaaaaaabbcccccc', 0), ('aaaaabbbbbbbbbbbbbbbbbbbbbbbbbbbb', 0), ('aaaaaaaaaaaaabbbbbbbbbbc', 0), ('aaaabbbbbccccccccccccccccccccc', 0), ('aaaaaaaaaabbbbbbbbbbcccccccccc', 1), ('aaaaaaaaaaaaaaaaaaaaaaaaaaaaaaaaaaaaa', 0), ('aaaaaaaaaaaaaaaaaaabbcccccccccccc', 0), ('aaaaaaabbbbbbbccccccc', 1), ('aaaaaaaaaaaaaabbbbbbbbbbbbbbbbbbbbbbcccc', 0), ('aaaaaaaaaaaaaaaaaaaaaaaaaaaaaaaaaaaaaaa', 0), ('aaaaaaaaaaaaaaaaaaaaabbbbbbbbbbbbbbbbbb', 0), ('aaaaaaccccccccccccccccccccccccccc', 0), ('aaaaaaaaaaaaaaaaaaaaaaaaaabbbbbbbbbbcccc', 0), ('aaaaaaaaaaaaaaaaaaaaaaaaaaaaaaaaaab', 0), ('aaaaaaaaaaaaaaaaaaaaaaaaaaaaaaaaaaaaabbb', 0), ('aaaaaaaaaaaaaaaaaaaaaaaaaaccccc', 0), ('aaaaaabbbbbbbbbbbbbbbbbbbbbbbbbbbb', 0), ('aaaaaaaaaaaaaaaaaaaaabbcccccccccccc', 0), ('aaaaaaaaaaaaaaaaaaaaaaaaaaaaaaaaaaaaaaab', 0), ('aaaaaaaaaaaaaaaaaaaaaaaaaaaaaaaaaaa', 0), ('aaaaaaaaaaaaaaaaaaaaaaaaaaaaaacccccccc', 0), ('aaaaaaaaaaaaaaaaaaaaaaaaaaaaaacccccccc', 0), ('aabbbbbbbbbbbbbbbbbbbbbbbbbbbbbbbbbbbb', 0), ('aaaaaaaaaaaaaaaaaaaaaaaaaaaaaaabb', 0), ('aaaaaaaaaaaaaaaaaaaaabbbbbbbbcccccccccc', 0), ('aaaaaaaaabbbbbbbbbccccccccc', 1), ('aaaaaaaaaaaabbbbbbcccccccc', 0), ('aaaaaaaaaaaaaabbbbbcccccc', 0), ('aaaaaaaaaaaaaaaaaaaaabbccccccccc', 0), ('aaaaaaaaaaabbbbbbbbbbbbbbbb', 0), ('aaaaaaaaaaaaaaaaaaaaaaaaaaaaaaaaaaaaaab', 0), ('aaaaaaaaaaabbbbbbbbbbbbbbbbbbbbbbbbbbbbb', 0), ('aaaaaaaaaaaaaaaaaaaaaaaaaaaaaaaaaaaa', 0), ('aaaaaaaaaaaaaaaaaaaaaabbbbbbbbbbbbbbb', 0), ('aaaaaabbbbbbbbbbbbbbbbbb', 0), ('aaaaaaaaaaaaabbbcccccccc', 0), ('aaaaaaaaabbbbbbbbbccccccccc', 1), ('aaaaaaaaaaaaaaaaaaaaaaaaaaaaaaaaaaaabccc', 0), ('aaaaaaaaaaaaaaaaaaaaaaaaaaaaaaaaaaabbbbb', 0), ('aaaaaaaaaabbbbbbcccccc', 0), ('aaaaaaaaaaaaaaabbbbbbbbbbbbbbccc', 0), ('aaaaaaaaaaaaaaaaaaaaaaaaaaaaaaaaabbbbcc', 0), ('aaaaaaaaaaaaaaaaaabccccccccc', 0), ('aaaaaaaaaaaaaaaaaaaaaaaaaaaaaaaabbbbb', 0), ('aaaaaaaaaaaaaaaaabbbbcccccccccccccccccc', 0), ('aaaaaaaaaaaaaaaaaaaaaaaaaaabbbbbbb', 0), ('aaaaaaaaaaaaaaaaaaaaaaaaaaaaaaaabbbbbbb', 0), ('aaaaaaaaaaaaaaaaaabbbbbbbbbb', 0), ('aaaaaaaaaaaaaaaaaaaaaaaabbbbbbc', 0), ('aaaaaaaaabbbbbbbbbccccccccc', 1), ('aaaaaaaaaaaaaaaaaaaaaaaaaabbbcccc', 0), ('aaaaaaaaaaaaaaaaaaaaaaaaaaaaaaaaaaabb', 0), ('aaaabbbbbbbcccccccccccccccccc', 0), ('aaaaaaabbbbbbbccccccc', 1), ('aaabbccccccccccccccccccccccccccc', 0), ('aaaaaaaaaaaaaaaaaaaaaaaaabbbcccc', 0), ('aaaaaaaaaabbbbbbbbbbbbbc', 0), ('aaaaaaaaaaaaaaaaaabbbbbbbbccccccc', 0), ('aaaaaaaaaaaaaaaaaaaaaaaaaaaaaaaaaaabbb', 0), ('aaaaaaaaaaabbbbbccccccccccccccccc', 0), ('aabbbbbbbbbbbbbbbbbbbbbbbbbbbbb', 0), ('aaaaaaaaaaaaaaaaaaaaaaaaaaaaaaaaaaaaaaab', 0), ('aaaaaaaaaaabbbbbbbbccccccccccccc', 0), ('aaaaaaaaabbbbbbbbbbbbccccc', 0), ('aaaaaaaaaaaaaaaaaaabbbbccccccccc', 0), ('aaaaaaaaaabbbbbbbbbbcccccccccc', 1), ('aaaaaaaaaaaaaaaaaaaabbbccccccccccc', 0), ('aaaaaaaaaaaaaaaaaaabbb', 0), ('aaaaabbbbbbbbbbbbbbbbbbbbbbbbbbbbbbbbbb', 0), ('aaaaaaaabbbbbbbbbbbbbbbbbbbbbbbbb', 0), ('aaaaaaaaaaaaaaaaaaaaaaaaaabbccc', 0), ('aaaaaaaaaaaaaaaaaaaaaaabbbbbbbbbbbb', 0), ('bbbbbbbbbbbbbbbbbbbbbbbbccc', 0), ('aaaaaaaaaaaaaaaabbbbbbbbbbbbbbbb', 0), ('bbbbbbbbbbbbbbbbbbbbbbbbbbbbbbbbbbbbb', 0), ('aaaaaaaaaaaaaaaaaaaaaaabbbbbbbbbbbbbb', 0), ('bbbbbbbbbbbbbbbbbbcccccccc', 0), ('aaaaaaaaabbbcccccccccccccccc', 0), ('aaaaaaaaaaaaaaaaaaaaaaaaaaaaaaaabbbbbbbb', 0), ('aaaaaaaaaaaaaaaaaaaaaaaabbbbbbbb', 0), ('aaaaaaaaaaaaaaaabbbbbbbbbbbbbbbbbbbb', 0), ('aaaaaaaaabbbbbbbbbbbbbbbbbbbbbbbbbbb', 0), ('aaaaaaaaaaaaaaaaaaaaaaaaaaaaaaabbbbb', 0), ('aaaaaaaaaaaaaaaaaaaaaaaaaaaaabbbbbbbbbbb', 0), ('aaaaaaaaaaaaaaaaaaaaaaaaaaaaaaaaa', 0), ('aaaaaaaaaaaaaaaaaaaaaaabbb', 0), ('aaaaaaaaabbbbbbbbbccccccccc', 1), ('aaaaaaaaaaaaabbbbbbbbbbbbbccccccccccccc', 1), ('aabbbbbbbbbbbbbbbbbbbbbbbbccccccccccccc', 0), ('aaaaaaaaaaaaaaaaaaaaaaaaaacc', 0), ('aaaaaaaaaaaaaaaaaaaaaaaaaaaaaaabbbbbbbbc', 0), ('aaaaaaaaaaaaaaaaaaaaaaaabbbbbbc', 0), ('abbbbbbbbbbbbbbbbbbbbbbbbbbbbbbbbbbbbbbb', 0), ('aabbbbbbbbbbbbbbbbbbbbbcccccccccccccccc', 0), ('aaabbbbbbbbbbbbbbbcccccccccc', 0), ('aaaaaaaaaaabbbbbbbbbbbccccccccccc', 1), ('aaaaaaaaaaaaaaaabbbbbcccccccccccccc', 0), ('aaaaaaaaaaaaaaaabbbbbbbcccc', 0), ('aaaaaaaaaaaaaaaaaaaaaaaaaabbbbbbbbbb', 0), ('aaaaaaaaaaaaaaaaaaaaaaaaaaaaaabbbb', 0), ('aaaaaaaaaaaaaaaaaaaaaaabbbbbbbbbbccccccc', 0), ('aaaaaaabbbbbbbccccccc', 1), ('aaaaaaabbbbbbbccccccc', 1), ('aaaaaaaaaaaaaaaaaaaaaaaaaaabbbbbbb', 0), ('aaaaaaaaaaaaaaaaaaaaaaaaaabbbbbbbb', 0), ('aaaaaaaaaaaaaaaaaaaaaaaaaaaaaaaaaaaaaaab', 0), ('aaaaaaaaaabbbbbbbbbbbbbbbbbbbbbbbbbbbb', 0), ('aaaaaaaaaaaaaaaaaaaaaaabbbbbbbbcccc', 0), ('aaaaaaaaaaaaaaaaaaaaaaaaaaaaaaaaaabbbbbb', 0), ('aaaaaaaaaaaaabbbbbbbbbbbbbbbbbbbbbbbb', 0), ('aaaaaaaaaaaaaaaaabbbbbbbbbcccccccc', 0), ('aaaaaaaaabbbbbbbbbbbbbbbccccccccccc', 0), ('aaaaaaaaaaaaaaaaaaaaaaaaaaaaaaaaaabbbb', 0), ('aaaaaaaaaaaaaaaaaaaaaaaaaaaaaaaaaaaaaab', 0), ('aaaaaaaaaaaaaaaaaaaaaaaaaaaaaaaaaaaaabcc', 0), ('aaaaaaaaaaaaaaaaaaaaaabbbbbbbbbbbbcccc', 0), ('aaaaaaaaaaaaaaaaaaaaaaaaaaaaaaaaaabbb', 0), ('aaaaaaaaaaaaaaaaaaaaaaaaaaab', 0), ('aaaaaaaaaaabbbbbbbbbbbccccccccccc', 1), ('aaaaaaaaaaaaaaaaaaaaaaaaaaaaaaaaaaaaaaab', 0), ('aaaaaaccccccccccccccccc', 0), ('aaaaaaaaaaaaaaaaaabbbbbbccc', 0), ('aaaaaaaaaaabbbbbbbbbccccccccc', 0), ('aaaaaaabbbbbbbccccccc', 1), ('aaaaaaaaaaaaabbbbbbbbbbbbbbbbbbbb', 0), ('aaaaaaaaaabbbbbbbbbbbbbbbbbbcccc', 0), ('bbbbbbbbbbbbbbbbbbbccccccc', 0), ('aaaaaaaaaaaaaaabbbbbbbbbbbbbbbbbbbbbbb', 0), ('aaaaaaaaaaaaaaaaaaaaaaaaaaaaaaabbbbbbbb', 0), ('abbbbbbbbbbbbbbbbbbcccccccccc', 0), ('aaaaaaaabbbbbbbbbbbbbbbbbbbbbbbbbbbbb', 0), ('aaaaaaaaaaaaaaaaaaaaaaaaaaaaaaaaaaaab', 0), ('aaaaaaaaaaaaaabbbbbccccccccccccccc', 0), ('aaaaaaaaaaaabbbbbbbbbbbbcccccccccccc', 1), ('aaaaaaaaaaaaaaaaaaaaaaaaaaaaaaaaaaaa', 0), ('aaaaaaaaaaaaaaaaaaaaaaaaaaaaaaaaaaaaaaab', 0), ('aaaaaaaaaaaaaaaaaaaaaaaaaabbbbbbcccc', 0), ('aaaaaaaaaaaaaaaaaaaaaaabbbbbbbbbbbbb', 0), ('aaaaaaaaaaaaaabbbbbcccc', 0), ('aaaaaaaaaaaaaaaaaaaaaaaaaaaaaaaaaaaaabbb', 0), ('aaaaaaaaaabbbbbbbbbbcccccccc', 0), ('aaaaaaaaaaaaaaaaaaaaaaaaaaaaaaaaaaaaabb', 0), ('aaaaaaaaaaabbbbbbbbbbbbbbbbbbbbbbbbb', 0), ('aaaaaaaaaaaaaaaaaaaaaaaaaaaaaaaaaaaaaabb', 0), ('aabbbbbbbbbbbbbbbbbbbbbbbbcccccccccccc', 0), ('aaaaaaaaaaaaaaaaaaaaaaaaaaaaaaabb', 0), ('aaaaaaaaaaabbbccccccccccccc', 0), ('bbbbbbbbbbbbbbbbbbbbcc', 0), ('aaaaaaaaaabbbbbbbbbbcccccccccc', 1), ('aaaaaaaaaaaaaaaaaaaaaaaaaaaaaaaaaaaabbb', 0), ('aaaaaaaaabbbbbbbbbbbbbbbb', 0), ('aaaaaaaaaabbbbbbbbbbccccccccccccccccccc', 0), ('aaaaaaaaaaaaaaaaaaaaaaaaaaaabbbbbbbbccc', 0), ('aaaaaaaaaaaaaaaaaaaaacccccc', 0), ('aaaaaaaaaaaaaaaaaaaaaaaaaaaaaaabb', 0), ('aaaaaaaaaaaaaaaaaaaaabbbbbbbbbb', 0), ('aaaabbcccccccccccccccccccccccc', 0), ('aaaaaaaaaaaaaaaaaaaaaaaaaabbbbbbbbbbbbbb', 0), ('aaaaaaaaaaaaaaaaaaaaaaaaaaaaaaaaaaaaaaa', 0), ('aaaaaaaaaaaaaaaaaaaaaaaaabbbbbbcccccccc', 0), ('aaaaaaaaaaaaaaaaaabbbbbbbbbbbbbbbb', 0), ('aaaaaaaaaaaaaaaaaaaaabbbccccccccccc', 0), ('aaabbbbbbbccccccccccccccccccc', 0), ('aaaaaaaaaaaaabbbbbbbbbbbbbbbbbbbbbbbbb', 0), ('aaaaaaaaabbbbbbbbbbbbbbbbbbbbbb', 0), ('aaaaaabbbbbbbbbbbbbcccccccccccccc', 0), ('aaaaaaaaaaaaaabbbbbbbbbbbbbbbbbbbbbbbbbb', 0), ('aaaaaaaaaaaaaaaaaaaabbbbbbbbbbbcccccc', 0), ('aaaaaaaaaaaaabbbbbcccccccccccc', 0), ('aaaaaaaaabbbbbbbbbccccccccc', 1), ('aaaaaaaaaaaaaaaaaaaaaaaaaaaaaaaaaaaaaaab', 0), ('aaaaaaaaaaaabbbbbbbbbbbbcccccccccccc', 1), ('aaaaaaaaaaaaaaaaaaaaaaaaaaaaaaaaaaab', 0), ('aaaaaabbbbbbbbbbbbbbbbbbbbbbbccccccccccc', 0), ('aaaaaaaaaaaaaaaaaaaaaabbccccccccccccccc', 0), ('aaaaaaaaaaaaaaaaaaabbbbbbbbbbb', 0), ('aaaaaaaaaaaaaaabbbbbbbbbbbbbbbbbb', 0), ('aaaaaaaaaaaaaaaaaaaaabbbbbbbbbbbbbc', 0), ('aaaaaaaaaaaaaaaaaaabbbbbbbbbbbbbbbbbbb', 0), ('aaaaaaaaaacccccccccccccccccccccc', 0), ('aaaaaaaaaaaaaaaaaaaaaaaaaaaaaaaaaaabbbbb', 0), ('aaaaaaaaaaaaaaaaaaaaaaaaaaaaaaabbbb', 0), ('aaaaaaaaaaaaaaaaaaaaaabbbbbb', 0), ('aaaaaaaaaaaaaaaaaaaaaaaaaaaaaaaaaaa', 0), ('aaaaaaaaaaabbbbbbbbbbbccccccccccc', 1), ('aaaaaaaaaaaaaabbbbbbbbbbbbcc', 0), ('aaaaaaaaaabbbbbbbbbbcccccccccc', 1), ('aaaaaaaaaaaaaaabbbcccccccccccccccccccccc', 0), ('aaaaaaaaaaaaaaaaaaaaaaaaaabbbbbbbbb', 0), ('aaaaaaabbbbbbbccccccc', 1), ('aaaaaaaaaaaaaaaaabbbbbbbbbbbbbbbb', 0), ('aaaaaaaaabbbbbbbbbbbbbbbbbbbbbbbbbb', 0), ('aaaaaaaaaaaaaaaaaaaaaaaaaaaabbbbbbb', 0), ('aaaaaaaaaaaaaaaaaaabbbbbbbbbbbbbbbb', 0), ('aaaaaaaaaaaaaaaaaaabbcccccccccc', 0), ('aaaaaaaaaaaaaabbbbbbbbbbbbbbbbbbbbbbbbbb', 0), ('aaaaaaaaaaaaaaaabbbbbbbbcccccccccccccc', 0), ('aaaaaabbbbbbbbbbbcccccccccccccc', 0), ('aaaaaaaaaaaaaaaaaaaaaaaabbbbbbbbbbbbbbb', 0), ('aaaaaaaaaaaaaaaaaaaaaaaaaaacccc', 0), ('aaaaaaaaaaaaaaaaaaaaaaaaaaaaaaaaaaaaaa', 0), ('aaaaaaaaaaaaaaaaaaaaaaaaaaaaaaaaaaaaaabb', 0), ('aaaaaaaaaaaaaaaaaaaaaaaaaaaabb', 0), ('aaaaaaaaaaabbbbbbbbbbbbbbbbb', 0), ('aaaaaabbbbbbbbccccccccccccc', 0), ('aaaaaaaaaaaaaaaaaaaaaaaaaaaaaaaaaaaab', 0), ('aabbbbccccccccccccccccccccccc', 0), ('aaaaaaaaaaaabbbbbbbbbbbbcccccccccccc', 1), ('aaaaaaaaaaaaaaaaaaaaaaaaaaaaaabbbbbbbb', 0), ('aaaaaaaaabbbbbbbbbccccccccc', 1), ('aaaaaaaaaaaaaaaaaaaaaaaaaaaaaaaaaaabbbbb', 0), ('aaaaaaaaaaaaaaaaaaaaaaaaabbbb', 0), ('aaaaaaaaaabbbbbbbbbbcccccccccc', 1), ('aaaaaaaaaaaaaaaaaaaaaaaabbbbbb', 0), ('aaaaaaaaaaaaaaaaaaaaaaaaaaaabbbb', 0), ('aaaaaaaaaaaaaaaaaaaaaaaaaaaaabb', 0), ('aaaaaaaaaaaaaaaaaaaaaaaaaaaaaabbbbbbb', 0), ('aaaaaaaaaaaaaaaaaaaaabbbbbbbbb', 0), ('aaaaaaaaaaaaaaaaaaaabbbbbbcccccc', 0), ('aaaaaaaaaaaaaaaabbbbbbbbbbbbccccccccc', 0), ('aaaaaaaaaaaaaaaaaaaaaaaaaaaaaaaaaaaaabb', 0), ('aaaaaaaaaaaaaaaaaaaaaabbbbbbbbbbb', 0), ('aaaaaaaaaaaaaaaaaaaaaaabbbbbbbbbbb', 0), ('aaaaaaaaaaaaaaabbbbbbbbbbbbbbc', 0), ('aaaabbbbbbbbbbbbbbbbbbbbbbbbbbbbbbb', 0), ('aaaaaaaaaaaaaaaabbbbbbbbbbbbbbbbbcc', 0), ('aaaaaaaaaaaaaaaaaaaaaaaaaaaaaaaaaaaccccc', 0), ('aaaaaaaaaaaaaaaaaaaaaaaaaaaaaaaabbbbbbbb', 0), ('aaaaaaaaaaaaaaaaaaaaaaaaaaaaaaabbbbccc', 0), ('aaaaaaaaaaaaaaaaaaaaabbbbccc', 0), ('aaaaaaaaaaaabbbbbbcccccc', 0), ('aaaaaaaaaaaaaaaabbbbbbccc', 0), ('aaaaaaaaaaaaaaaaaaaaaaaaaaaaaaaaaaaa', 0), ('aaaaaaaaaaaaaaaaaaaaaaaaaaabbbbbbbbbbbbb', 0), ('aaaaaaaaaaaaaaaaaaaaaaaaaaaaaaaaaabcccc', 0), ('aaaaaaaaaaaccccccccccccccccccc', 0), ('aaaaaaaaaaaaaaaaaaaabbbbbbbbbbbcc', 0), ('aaaaaaaaaaaaaaaaaaaaaaaaaaaaaaabbbbbbb', 0), ('aabbbbbbbbbbbbbbbbbccc', 0), ('aaaaaaaaabbbbbbcccccccccccccccc', 0), ('abbbbbbbbbbbbbbbbbbbbbbbbbbbbbbbbbbb', 0), ('aaaaaaaaaaaaaaaaaaaaaaaaaaaaaaaaaabbb', 0), ('aaaaaaaaaaaaaaaaaaaaaabbbbbbccccccccccc', 0), ('aaaaaaaaaaaaaaaaaabbbbbbbbbbbbbbbbbbb', 0), ('aaaaaaaaaaaaaaaaaaaaabccc', 0), ('aaaaaaaaaaaaaaaaaaaaaaaaaaaaaaaaaaaaabb', 0), ('aaaaaaaaaaaaaaaaaaaaaaaaaaaaaaaabbbbbbbb', 0), ('aaaaaaaaaaaaaaaaaaaaaaaaaaaaaaaabbbb', 0), ('aaaaaaaaabbbbbbcccccccccccccccccccccc', 0), ('aaaaaaaaaaaaaaaaaaaaaaaaaaaabbcccccc', 0), ('bbbbbbbbbbbbbbbbbbbbbbbbcccccccccc', 0), ('aaaaaaaaaabbbbbbbbbbcccccccccc', 1), ('aaaaaaaaaaaaaaaaaaaaaaaabbbb', 0), ('aaaaaaaaaaaaaaaabbbbcc', 0), ('aaaaaaaaaaaaaaaaaaaaaaaaaaaaaaaaaaaaaaa', 0), ('aaaaaaaaacccccccccccccccccccccccccccccc', 0), ('aaaaaaaabbbbbbbbbbbbbbbcccccccccc', 0), ('aaaaaaaaaaabbbbbbbbbbbbb', 0), ('aaaaaaaaabbbbbbbbbbbbbbbbbbbbbbbb', 0), ('aaaaaaaaaaaaaaaaaaaaaaaaaaaaaaaaaaaaab', 0), ('aaaaaaaaaaaaaaaaaaaaaaaaaaaaaaaaaaaaaa', 0), ('aaaaaaaaaaaaaaaaaaaaaaabbccccccccc', 0), ('aaaaaaaaaaaaaaaaaaaaaaaaaaaaaaaaabbccccc', 0), ('aaaabbbbbbbcccccccccccccccccccccccccc', 0), ('aaaaaaaaaaaaaaaaaaaaaaaaaaaaaaaaaabc', 0), ('aaaaaaaaaaaaabbbbbbbbbbbbbccccccccccccc', 1), ('aabbbbbbbbbbbbbbbbbbbbbbbbbbbbbbb', 0), ('aaaaaaaaaaaaaaaaaaaaaaaaaaaaaaaaab', 0), ('aaaaaaaaaaaaaaaaaaaaaaaaaaabbbbbbbbbbbc', 0), ('aaaaaaaaaaaaaaaaaaaaaaaabbbccccc', 0), ('aaaaaaaaaaaaaaaaaaaaaaaaaaaaaaaacccc', 0), ('aaaaaaaabbbbbbbbcccccccc', 1), ('aaaaaaaaaaaaabbbcccccccccccccccc', 0), ('aaaaaaabbbbbbbccccccc', 1), ('aaaaaaaaaaaaaaaaaaabbbbbbbbbbbbbbbbbbb', 0), ('aaaaaaaaaaaaaaaaaaaabbbbbb', 0), ('aaaaaaaaaaaaaaaaaaaaaaaaaaaaaaabbb', 0), ('aaaaaaaaaaaaabbbbbbbbbbbbbbbbbbbbbb', 0), ('aaaaaaaaabbbccccccccccccccccccccccc', 0), ('aaaaaaaaaaaaaaaaaabbbbbbbbc', 0), ('aaaaaaaaaaaaaaaaaaaaaaaaaaaabbbbbbbbbb', 0), ('aaaaaaaaaaaaaaaaaaaaaaabbbbbbbb', 0), ('aaaaaaaaaaaaaaaaaaaaaaaaaaaaaaaaab', 0), ('aaaaaaaaaaabccccccccccccccccccc', 0), ('aaaaaaaaaaaaaaaaabbbbbbbbbbbbbbbbbbbbb', 0), ('aaaaaaaaaaaabbbbbbbbbbbbbbb', 0), ('aaaaaaaaaaaaaaaaaaaabbbbbb', 0), ('aaaaaabbbbbbbbbccccccccccccc', 0), ('aaaaaaaaaaaaaaabbbbbbbbbbbb', 0), ('aaaaaaaaaaaabbbbbbbbbbbbbbbbbbbbbb', 0), ('aaaaaaaabbbbbbbbcccccccc', 1), ('aaaaaaaaaaaaaaaaaaaaaaaaaaaaabbbbbbbbb', 0), ('aaaaaaaaaaaaaaaaaaaaaaaaaaaabbbbccccc', 0), ('aaaaaaaaaaaabbbbbbbbbbbbbbbbbbbbbbb', 0), ('aaaaaaaaaaaaaaaabbbbcccccccc', 0), ('aaaaaaaaaaaaaaaaaaaaaaaaaaaabbbbbbbbb', 0), ('aaaaaaaaaaaaaaaaaaaabbbbbbbccccccccc', 0), ('aaaaaaaaaaaaaaaaaaaaaaaaaaaaaaaaabbbbbb', 0), ('aaaaaaaaaaaaaaaaaaaaaaaaaaaaaaaaaaabb', 0), ('aaaaaaaaabbbbbbbbbcccccccccccc', 0), ('aaaaaaaaaaaaaaaaaaaaaabbbbbbbbbbb', 0), ('aaaaaaaaaaaaaaaccccccc', 0), ('aaaaaaaaaaaaaaaaaaaaaaaaaabbbbbbbbbbb', 0), ('aaaaaaaaaaaaaaaaaaaaaaaaaaaaaaaaaaaaaab', 0), ('aaaaaaaabbbbbbbbcccccccc', 1), ('aaaaaaaaaaaaaaaaaaaaaaaaaaaaaaaaab', 0), ('bbbbbbbbbbbbbbbbbbbbbbbbbbbccccccccccc', 0), ('aaaaaaaaabbbbccccccccccc', 0), ('bbbbbbbbbbbbbbbbbbbbbbbbbbbbbbbccccccccc', 0), ('aaaaaaaaaaaaaaaaaaaaaaaaaaaabbbbbbbbb', 0), ('aaabbbbbbbbbbcccccccc', 0), ('aaaaaaaaaaaaaaaaaaaaaaaabccccccccccc', 0), ('aaaaaaaaaaaaaaaaaabbbbbbbbbbbbbbbbbb', 0), ('aaaaaaaaabbbbbbbbbbbbbbbbbbbbb', 0), ('aaaaaaaaaaaaabbbbbbbbbbbbbbbb', 0), ('aaaaaaaaaaaabbbbbbbbbbbbcccccccccccc', 1), ('aaaaaaaabbbbbbbbcccccccc', 1), ('aaaabbbbbbbbbbbbbbbbbbbbbbbbcccccccccc', 0), ('aaaaaaaaaaaaaabbbbbbbbbbbbbbbbbbbbcc', 0), ('aaaaaaaaaaaaaaaaaaaaaaaabbbbbbccc', 0), ('aaaaaaaaaabbbbbbbbccccccccc', 0), ('aaaaaaaaaaaaaaaaaabbbbccccccc', 0), ('aaaaaaaaaaaaaaaaaaaaaaaaaaabbbbbbbbbbb', 0), ('aaaaaaaaaaaaaaaaaaaaaaaaaaaaaaaaaaaaaaab', 0), ('aaaaaabbbbbbbbbcccccccccccc', 0), ('aaaaaaaaaaaabbbbbbbbbbbbcccccccccccc', 1), ('aaaaaaaabbbbbbbbbbbbbbbbbbbbbbbbb', 0), ('aaaaaaaabbbbbbbccccccccccccccc', 0), ('aaaaaaaaaaaaaaaaaaaaaaaaaaaaaaaaaabbbb', 0), ('aaaaaaaabbbbbbbbccccccccccccc', 0), ('aaaaaaaaaaaaaaaaaaaaaaaaaaaaaabbbbb', 0), ('aaaaaaaaaaaaaaaaaaaabbbbbbbbbbc', 0), ('aaaaaaaaaaaaaaaaaaaaaaaaaaaaabb', 0), ('aaaaaaaaaaaaaaaaaaaaaaabbbbbbbbbbbbbbb', 0), ('aaaaaaaaaaaaabbbbbbbbbbbbbccccccccccccc', 1), ('aaaaaaaaaaaaaaaaaaaaaaaaaabbbbbbbccc', 0), ('aabbbbbbbbbbbbbbbccccccccccccccccccc', 0), ('aaaaaaaaaaaaaaaaaaaaaaaaaaaaaaaaaaabbccc', 0), ('aaaaaaaaaaaaaabbbbbbbbbbbbbbbbbbbbbb', 0), ('aaaaaaaaaaaaaabbbbbbbcccccccccccccccccc', 0), ('aaaaaaaaaaaaaaaaaaaaaaaaaaaaaaaaaaa', 0), ('aaaaaaaaaaaaaaaaaaaaaaaaaabccccccccc', 0), ('aaaaaaaaaaaaaaaabbbbbbbbbbbbbbbbbbbb', 0), ('aaaaabbbbbbbbcccccccccccccccccccc', 0), ('aaaaaaaaaaaabbbbbbbbbbbbcccccccccccc', 1), ('aaaaaaaaaaaaaaaaaaaaaabbbbbbbbbbbbbbb', 0), ('aaaaaaaaaaaaaaaaaaaaaaaabbbbbbbbbc', 0), ('bbbbbbbbbbbbbbbbbbbbcccccccccccccc', 0), ('aaaaaaaabbbbbbbbcccccccc', 1), ('aaabbbbbbbbbbbbbbbbbbbbbbbbcccccccccccc', 0), ('aaaaaaaaaaaaaaaaaaabbbbbbbbbbbb', 0), ('aaaaaaaaaaabbbccccccccccccccc', 0), ('aaaaaaaaaaaaaaaaaaaaaaabbbbbbbbbbbbbbccc', 0), ('aaaaaaaaaaaaaabbbbbbccccc', 0), ('aaaaaaaaaaaaaaaaaaaaaaaaaaaaabbbbbbbbbb', 0), ('aabbbbbbbbbbbcccccccccccccccccccccccc', 0), ('aaaaaaaaaaaaaaaaaaaaaaaaaaabbbbbbbbbbbb', 0), ('aaaaaaaaaaaaaaaaaaaaaaaaaaaaaaaaaaaabbbb', 0), ('aabbbbbbbbbbbbbbbbbbbbbbbbbb', 0), ('aaaaaaaaaaaaaaaaabbbbbbbbbbbbbbbbbbbbbb', 0), ('aaaaaaaaaaabbbbbbbbbbbbbbcc', 0), ('aaaaaaaaaaaaaaaaaaaaaaaaaaaaaaaaaabbbbb', 0), ('aaaaaaaaaaaaaaaaaaaaaaaaaaabbbbbbbb', 0), ('aaaaaaaaaaaaaaaaaaaaaaaaaaaaaaabbbb', 0), ('aaaaaaaaaaaaaaaaaaaaaaaaacccccccccc', 0), ('aaaaaaabbbbbbbccccccc', 1), ('aaaaaaaaaaaaaaaaaaaaaaaaaaaaaabbbbbb', 0), ('aaaaaaaabbbbbbbbcccccccc', 1), ('aaaaaaaaaaaaaaaaaaaaaaaaaaaaaaaaaaaaaabb', 0), ('aaaaaaaaaaaaaaaaaaabbbbbbbbbbbbbbbbb', 0), ('aaaaabbbbbbbccccccccccccccc', 0), ('aaaaaaaacccccccccccccc', 0), ('aaaaaaaaaaaaaaaaaaaccc', 0), ('aaaaaaaaaaabbbbbbbbbbbccccccccccc', 0), ('aaaaaaaaaaaaabbbbbbbbbbbbbbbbcccccc', 0), ('aaaaaaaaaaaaaaaaaaaaaaaaaaaaaaaaaaaabbbb', 0), ('aaaaaaaaaaaaaaaaaaaabbbbbbccccccccccccc', 0), ('aaaaaaaaaaaaaaaaaaaaaaaaaaaaaabb', 0), ('aaaaaaaaaaaaaaaaaaaaabc', 0), ('aaaaaaaaaaaaaaaaaaaaaaaabbbbbbbbcccccc', 0), ('aaaaaaaaaaaaaaaaaaaaaaaaaabbcccccccc', 0), ('bbcccccccccccccccccccccccccccccccc', 0), ('aaaaaaaaaaaaaaaaaaaaaaaaaaaaaaaaaaaaaabb', 0), ('aaaaaaaaaaaaaaaaaaaaaaaaaaaaaaaaaaaa', 0), ('aaaaaaaaaaaaaaaaaaaaaaaaaaaaaaaaaaaaabb', 0), ('aaaabccccccccccccccccccccccccccccccc', 0), ('aabbbbbbbbbbbbbbbbbbbbbbbbbbbbbbbbbc', 0), ('aabbbbbbbbbbbbbbbbbbbbbbbbbbbbbbbbbbbb', 0), ('aaaaaaaaaaaabbbbbbbbbbbbbbbbbbbbbbb', 0), ('aaaaaaaaaaaaaaaaaaaaaaaaaaac', 0), ('aaaaaaaabbbbbbbbbbbccccccccccccccccccccc', 0), ('aaaaaaaaaaaaaaaaaaaaaaaaaaaaaaaaaaaaab', 0), ('aaaaaaaaaaaaabbbbbbbbbbbbbccccccccccccc', 1), ('abbbbbbcccccccccccccccccccc', 0), ('aaaaaaaaaaabbbbbbbbbbbbbbbbbbcccccccccc', 0), ('aaaaaaaaaaaaaaaaaaaaabbbbbbbbbbbbbbbb', 0), ('aaaaaaaaaabbbccccccccccccccc', 0), ('aaaaaaaaaaaaaaaabbbbbccccccccccccccccc', 0), ('aaaaaabbbbbbbbbbbbbbbbbcccccccccc', 0), ('aaabbbbbbccccccccccccccccccccccccc', 0), ('aaaaaaaaabbbbbbbbbbbcccccccc', 0), ('aaaaaaaaaaaaaaaaaaaaaaaabbbbbbbcccc', 0), ('aaaaaaaaaaaaaaaaaaaaaaaaaaaaaaaaaabbbccc', 0), ('aaaaaaaaaaaaaaaaaaaaaaaaaaaaaaabcc', 0), ('aaaaaaaaaaaaaaabbbbbbbccccccc', 0), ('aaaaaaaaaaaaaaaaaaaaabbbccccccccccc', 0), ('aaaaaaaaaabbbbbbbbbbbbbbbbbbbbc', 0), ('aaaaaaaaaaaaaaaaaaaaaaaaaaaaaaaaaaaaaabb', 0), ('aaaaaaaaaabbbbbccccccccccc', 0), ('aaaaaaaaaaaaaaaaaaaaaaaabbb', 0), ('aaaaaaaaaaaaaaaaaaaaaaaabbbb', 0), ('aaaaaaaaaaaaaaaabbbbbbbbbbbbcccc', 0), ('bcccccccccccccccccccccccccc', 0), ('aaaaaaaaaaaaaaaaaaaaabbbbbbbbbbbbb', 0), ('aaaaaaaaaaaaaaaaaaaaaabbbbbbbbbbbbbbb', 0), ('aaaaaaaaaaaaaaaaaaaaaaaaaabbbbbbbbb', 0), ('aaaaaaaaaaaaaaaaaaaaaabbbbbbbbbbbccccc', 0), ('aaaaaaaaaaaaaaaaaaaaaaaaaaabbb', 0), ('bbbbbbbbbbbbbbbbbbbbbcccccccc', 0), ('aaaabbbbbbbbbbbbbbbbbbbbbbbbbbbbbbbb', 0), ('aaaaaaaaaaaaaaaaaaaaaaabbbbbbbbbbbbbbbbb', 0), ('aaaaaaaaaabcccccccccccccccccc', 0), ('aaaaaaaaaabbccccccccccccccccccc', 0), ('aaabbbbbbbbbbbbbbbbccccccccccccccccc', 0), ('aaaaaaaaaaabbbbbbbbbbbccccccccccc', 1), ('aaaaaaabbbbbbbccccccc', 1), ('bbbbbbccccccccccccccccccccc', 0), ('aaaaaaaaaaaaaaaaaaaaabbbbbbbbbbbbbbbb', 0), ('aaaaaaaabbbbbbbbbbbccccccccc', 0), ('aaabbbbbbbbbbbbbbbbbbbbbbbbccccccccc', 0), ('aaaaaaaaaaaaaaaaaaaaaaaaabbbbbb', 0), ('aaaaaaaaaaaaabbbbbbbbbbbbbccccccccccccc', 1), ('bbbbbbbbbbbbbbbbbbbbbbbbbbbbbbbbbbbbbbbb', 0), ('aaaaaaaaaaaaaaaaaaaaaaaaaaaaaaaaaaaaaabb', 0), ('aaaaaaaaaaaaabbbbbbbbbbbbbccccccccccccc', 1), ('aaaaaaaaaaaaaaaaaaabbbbbbbbbbbbbb', 0), ('aaaaaaaaaaaaaaaaaaaaaaaaaaaaaaaaaaabbbb', 0), ('aaaaaaaaabbbbccccccccccccc', 0), ('aaaaaabbbbcccccccccccc', 0), ('abbbbbbbbcccccccccccccccc', 0), ('aaaaaaaaaaaaaaabbbcccccccccccccccccccc', 0), ('aaaaaaaaaaaaaaaaaaaaaaaaaaaaaaaaccccc', 0), ('aaaaaaaaaaaaaaaaaaaaaaaaaaaaaaaaaaabbbb', 0), ('aaaaaaaaaaaaaaaaaaaaaaaaaaaaaabb', 0), ('aaaaaaaaaaaaaaaaaaaaaaaaaaaaaaaaaaaaac', 0), ('aaaaaaaaaaaaaaaaaaaaaaaaaaaaaaaaaaaab', 0), ('aaaaaaaaaaaaaaaaaaaaaaaaaaaabbbbbbbbbbbb', 0), ('aaaaaaaaaaaaaaaaaaaaabbbbbbbbbbb', 0), ('aaaaaabbbccccccccccccccccccccccccc', 0), ('aaaaaaaaaaaaaaaaaaaaaaaaaaaaaaaaaaaabbbb', 0), ('aaaabbbbbbccccccccccc', 0), ('aaaaaaaaaaaaaaaaaaaaaaaabbbbbcc', 0), ('aaaaaaaaaaabbbbbbbbbbbccccccccccc', 1), ('aaaaaaaaaaaaaaabbbbbbbbbbbbccccccccccccc', 0), ('aaaaaaaaaaaaaaaaaaaaaaaaaaaaaaaaaab', 0), ('aaaaaaaaaaaaaaaaaaaaaabbbbbbbbbbbccc', 0), ('aaaaaaaaaaaaaaaaaaaaaaaaaaaaaabbbbb', 0), ('aaaaaaaabbbbbbbbcccccccc', 1), ('aaaaaaaaaaaaaaaaaaaaaaaaaabbbbbbbbbbbbb', 0), ('aaaaaaaaaaabbbbbbbbbbbccccccccccc', 1), ('aaaaaaaaaaaaaaaaaaaaaaaaaaaaaaaaaaaaaab', 0), ('aaaaaaaaaabbbbbbbbbbbbbbbbbb', 0), ('aaaaaaaaaaaaabbbbbbbbbbbbbbbbbbbbbccccc', 0), ('aaaaaaaaaaaaaaaaaaaaaaaaaaaaaaaaaaaaac', 0), ('aaaaaaaaaaaaaaaaaaaaaaaaaaaaaaaaaaaaabb', 0), ('aaaaabbbbbbbbbbbbccccccccccccccccc', 0), ('aaabbbbbbbbbbbbbbbbbbcccc', 0), ('aaaaaaabbbbbbbccccccc', 1), ('aaaaaaaaabbbbbbbbbbbbbbbbbbbbbbbbbbb', 0), ('aaaaaaaaaaaaaaaaaaaaaaaaaaaaacccccc', 0), ('aaaaaaaaaaaaaaaaaaaaaaaaaaaaaabbbbbbbb', 0), ('aaaaaaaaaaaaaaaaaaaaaaaaaaaaaaaaaaaaabb', 0), ('aaaaaaaaabbbbccccccccccccccc', 0), ('aaaaaaaaaaaaaaaaaaaaaaaaaaaaaabbbbccccc', 0), ('aaaaaaaaaaaaaabccccccccc', 0), ('aaaaaaaaaaaaaabbbbbbbbbbbbcccccccccccccc', 0), ('aaaaaaaaaaaaaabbbbbbbbbb', 0), ('aaaaaaaabbbbbbbbbbbbbbbbbbbbbbbbbbbbbb', 0), ('aaaaaaaaabbbbbbbbbccccccccc', 1), ('bbbbcccccccccccccccccccccccccccc', 0), ('aaaaaabbbbbbbccccccccccc', 0), ('aaaabbbbbbbbbbbbbbbbbcc', 0), ('aaaaaaaaaaaaaaaaaaaaaaaaaaaabbb', 0), ('aaabbbbbbbbbbbbbbbbbbbbbbbbbbbbbbbbbbbb', 0), ('aaaaaaaaaaaaaaaaaaaaaaaaaaaaaaaaaaaaaab', 0), ('aaaaaaaaaaabbbbbbbbbbbccccccccccc', 1), ('aabbbbbbbbbbbbbbbbbbbbbbbbbbbbbbbb', 0), ('aaaaaaabccccccccccccc', 0), ('aaaaaaaaaaaaaaaaaaaaaaaaaaaaaaaaaaaaaabb', 0), ('aaaaabbbbbbbbbbbbbbbbbbbbcccccccccc', 0), ('aaaaaaaaaaaaabbbbbbbbbbbbbccccccccccccc', 1), ('aaaaaaaaaaaaaaaaaaaaaaaaaaaaaaaaabbbbbbb', 0), ('aaaaaaaabbbbbbbbcccccccc', 1), ('aaaaaaaaaaaaaaaaaaaaaaaaaaaaabbbbbbbbbbb', 0), ('aaaaaaaaaaaaaaabbbbbbbbbbbbbcccccccc', 0), ('aaaaaaaaaaaaaaaaaaaaaaabbbbbbbbbbb', 0), ('aaaaaaaaaaaaaaaaaaaaaaaaaaaaaabbbbbb', 0), ('aaaaabbbbbbbbbbbbbbbbbbbbbbbb', 0), ('aaaaaaaaaaaaaaaabbbbbbbbbbbbbbbbbbb', 0), ('aaaaaaaaaaaaaaaaaaaaaaaabbbbbbbcccc', 0), ('bbbbbbbbbbbbbbbbbbbbbbbbbbbbbb', 0), ('bbbbbbbbbbbbbbbbbbbbbbbbbbbbbbccccc', 0), ('aaaaaaaaaaaabbbbbbbbbbb', 0), ('aaaaaaaaaaaaaaaaaccccccccccccccccccc', 0), ('aaaaaabbbbbbbbbbbbbbbbbbbbbbbbbbbbbbb', 0), ('aaaaaaaaaaaaaaaaaaaaaaabbbbbbbbbbb', 0), ('aaaaaaaaaaaaaaaaaaaaaaaaaaaaaaa', 0), ('aaaaaaaaabbbbbbcccccccccccccccccccccc', 0), ('aaaaaaaaaaaabbbbbbbbbbbbbbb', 0), ('aaaaaaaaaaaaaaaaaaaaaaaaaaaaabbb', 0), ('aaaaaaaaaaaaaaaaaaaaaaaaaaabbbbbbbbbcc', 0), ('aaaaaaaaaabbbbbbbbbbcccccccccc', 1), ('aaaaabbbbbbbbbbbccccc', 0), ('aaaaaaaaaaaaaaaaaaaaaaaaaaabb', 0), ('aaaaaaaaabbbbbcccccccccccccccccccccccc', 0), ('aaaaaaaaaaaaabbbbbbbbbbbbbccccccccccccc', 1), ('aaaaaabbbbbbbbbbbbcccccccccccccccc', 0), ('aaaaaaaaaaaaaabbbbbbbbbbbbbcccccccccc', 0), ('aaaaaaaaaaaaaaabbccccccccccccccc', 0), ('aaaaaaaaaaaaaaaaaaaaaaaaaaaaaacccccccccc', 0), ('aaaaaaaaaaaaaaaaaaaaaaaaaaaaaaaaaaaaaabb', 0), ('aaaaaaabbbcccccccccccccccccccccccccccc', 0), ('aaaaaaaaabbbbbcccccccccccccccccc', 0), ('aaaaaaaaaaaaaaaaaaaaaaaaaaaaaaaaaaaabccc', 0), ('aaaaaaaaaaaaaaaaaaaaaaaaaaaaaaaaaabb', 0), ('aaaaaaaaaaaaaaaaaaaaaaaaabbbbbbbbbbbbbbb', 0), ('aaaaaacccccccccccccccccccccccc', 0), ('aaaaaaaaaaaaaaaaaaaaaaaaabbbbbbbbbbbb', 0), ('aaaaaaabbbbbbbccccccc', 1), ('aaaaaaaaaaaaaaaaaaaaaabbbbbbcccccc', 0), ('aaaaaaaaaaaaaaaaaabbbbbbbbbbbbbbbb', 0), ('aaaaaaaaaaaaaaaaaaaaaaaaaaaaaaaaaaaa', 0), ('aaaaaaaaaaaaacccccccccccccc', 0), ('aaaaabbbbbbbbbbbbbbbbbbbb', 0), ('aaaaaaaaaaaaaaaaaabbbbbbbbbbbbbbbbbb', 0), ('aaaaaccccccccccccccccccc', 0), ('abbbbbbbbbbbbbbbbbbbbbbccccccccccc', 0), ('aaaaaaaaaaaaaaaabbbbbbbbbbbbbbbbbbbbbb', 0), ('aaaaaaaaaaaaaaaaaaaaaaabbbbcccccccccc', 0), ('aaaaaaaaaaaaaaaaaaaaaabbbbbbbbbbbbbbbbbb', 0), ('aaaaaaaaaaaaaaaaaaaaaaaaaaaaaaaaaaaaaa', 0), ('aaaaaaaaaaaaaaaaaabbbbbbbcccccccccc', 0), ('aaaaaaaaaaaabbbbbbbbbbbbcccccccccccc', 1), ('aaaabbbbbbbbbbbbbbbbbccc', 0), ('aaaaaaaaaaaaaaaaaaaaaaaaaaaaaaaaaaaaaaa', 0), ('aaaaaaaaaaaaaaaaaaaaaaaaaaaaaaaa', 0), ('aaaaaaaaaaaaaaaaaaaaaaaaaaaaaaaaaaaaaab', 0), ('aaaaaaaaaaaaaaaaaaaaabbbbbbb', 0), ('aaaaaaaaaaaaaabbbbbbbbbbbbbbbbbbbbbbb', 0), ('aaaaaaaaaaaaaaaaaaaaaaaaaaaaaaaaaaaaabb', 0), ('aaaaaaaaaaaaaaaaaaaaaaaaaaaaaaaaaabbbb', 0), ('aaaaaaaaaaaaaaaaaaaaaaaaaaaaaaaaabbbb', 0), ('aaaaaaaaaaaaaaaaaaaaaaaaaaaaaaaaaabbbbb', 0), ('aaaaaaaabbbbbbbbcccccccc', 1), ('aaabbbbbbbbbbbbbbbbbbbbbbbbbbbbbbbbbbb', 0), ('aaaaaaaaaaaaaaaaaaaaaaaaaabbbbbbbbccc', 0), ('aaaaaaaaabbbbbbbbbbbbbbbbbbbbbbbbb', 0), ('aaaaabbbbbbbbbbbbbbbbbcccccccc', 0), ('aaaaaaaaaaaaaaaaaaaabbbbbbbbbb', 0), ('aaaaaaaaaaaaaaaaaaaaaaabbbbbbbcccccccccc', 0), ('aaaaaaaaaaabbbbbbbbbbbccccccccccc', 1), ('aaaaaaaaaaaaaaaaaaabbbbbbbbbb', 0), ('aaaaaaaaaaabbbbbbbbbbbbbcccccc', 0), ('aabbbbbbbbbbbbbbcccccccccccccccccc', 0), ('aaaaaaaaaaaaaaaaaaaaaaaabbbbbbbbbbbbb', 0), ('aaaaaaaaaaaaaaaaaaaaaaaaaaaaaaaaaaabbbb', 0), ('aaaaaaaaabbbbccccccccccccc', 0), ('aaaaaaaaaaaaaaaaaaaaaaaabbbbbccccccccccc', 0), ('aaaaaaaaaaaaaaaaaaaaaaaaaaaabbbbbb', 0), ('bbbbbbbbbbbbbbbbbbbbbbbbbbbbbbbbbcc', 0), ('aaaaaaaaaabbbbbbbbbbcccccccccc', 1), ('aaaaaaaaaaaaaaaaaaaaaaaaaaaaaaaaaabb', 0), ('aaaaaaaaaaaaaaaaaaaaaaaaaaaaaaaaaaaa', 0), ('aaaaaaaaaaaaaaaaaaaaaaaaaabbbbbccc', 0), ('aaaaaaaaaaaaaaaaaaaaabbbbbbbbbcccccccccc', 0), ('aaaaaaaaaaaaabbbbbbbbbbbbbccccccccccccc', 1), ('aaaaaaaaaaaaaaaaaaaaaaaaabbbbbbbbbbbb', 0), ('aaaaaaaaabbbccccccccccccccccccc', 0), ('aaaaaaaaaaaabbbbbbbbbbbbcccccccccccc', 1), ('abbbbbbbbbbbbbbbbbbbbbb', 0), ('aaaaaaaaaaaaaaaaaaaaaaaaabbbbbbbbbb', 0), ('aaaaaaaaaaaaaaaaaaaaaaaaaab', 0), ('aaaaaaaaaaaaaaaaaaaaaabbbbbbbbbbcccc', 0), ('aaaaaaaaaabbbbbbbbbbcccccccccc', 1), ('aaaaaaaaabbbbbbbbbbbbbbbbbbbbbbcccccc', 0), ('aaaaaaaaaaaabcccccccccccccccc', 0), ('aaaaaaaaaaaaaaaaaaaaabcccccc', 0), ('aaaaaaaaaaaaaaaaaaaaaaaabbbbbbbbbbbbbb', 0), ('aaaaaaaaaaaaaaaaaaaaaaaaaaaaaaaaccc', 0), ('aaaaaaaaaaaaaaaaaaaaaaaaabbbbbbbbbbbbbbb', 0), ('aaaaaaaaaaaaaaaaaaaaaaaaaaaaaaaaaabbbbb', 0), ('abbbbbbbbbbbbbbbbbbbbbbbbbbbbbccccc', 0), ('aaaaaaaaaaaaaaaaaaaaaaaaaaaaaaaaaaaaaabb', 0), ('aaaaaaaaaaaaaaaaaaaaabbbbbbbbbbbbbbbb', 0), ('aaaaaaaaaaaabbbbbbbbbbbbbbbccccccccccccc', 0), ('aaaaaaaaaaabbbbbbbbbbbbbbbbbbbbbbb', 0), ('aaaaaaaaaaaaaaaaabbbbccccccccccccc', 0), ('aaaaaaaaaaaaaaaaaaaaaaaaaaaabbbbbbbbb', 0), ('aaaaaaaaaaaaaaaaaaaaaaaaabbbbbbbb', 0), ('aaaaaaaaaaaaaaaaaaaaaaaaaaaaaaaaaaabbb', 0), ('aaaaaaaaaabbbbbbbbbbcccccccccc', 1), ('aaaaaaaaabbbbbbbbbbbbbbbbccccccccc', 0), ('aaaaaaaaaaaaaaaaaaaaaaaaaabbbbbbbbbbbbcc', 0), ('aaaaaaaaaaaaabbbbbbbbbbbbbccccccccccccc', 1), ('aaaaaaaaaaaaaaaaabbbbbbbbbbbbbbbbbbbbbb', 0), ('aaaaaaaaaaaaaaaabbbbbbbbbbbbbbb', 0), ('aaaaaaaaaaaaaaaaaaaaaaaaaabbbbbbbbbbbcc', 0), ('aaaaaaaaaaabbbbbcccccccccccccccccc', 0), ('aaaaaaaaaabcccccccccccccccccccc', 0), ('aaaaaaabbbbbbbccccccc', 1), ('aaaaaabbbbbbbbbbbbbbbbbbbbbbbbcccccccc', 0), ('aaabbbbbbbbbbbbbbbbbbbbbbbbbbbbbbccccc', 0), ('aaaaaaaaaaaaaaaaaaaaaaabccccccccccc', 0), ('aaaaaaaaabbbbbbbbbccccccccc', 1), ('aaaaaabbbbbbbbbbbbbbbbbbbbbbbbccccccc', 0), ('aaaaaaaaaaaaaaaaaaaaaaaabbbbbbbbcccc', 0), ('abbbbcccccccccccccccccc', 0), ('aaaaaaaaaaaaaaaaaaaaaaaaaaaaaaaaaaaaaa', 0), ('aaaaaaaaaaaaabbbbbbbbbbbbbbbbbbb', 0), ('aaaaaaaaaaaaaaaaaaaaabccc', 0), ('aaaaaaaaaaaaaaaaaaaaaaaaaaaaaaaaaaab', 0), ('aaaaaaaaaaacccccccccccccccccc', 0), ('aaaaaaaaaaaaaaaaaaaaaaaaaaaaaaaaaabbccc', 0), ('aaaaaaaaaaaaabbbbbbbbbbbbbccccccccccccc', 1), ('aaaaaaaaaaaaaaaaaaaaaaaaaabbbbb', 0), ('aaaaaaaaaaaaaaaaaaaabbbbbbbbbbbbbbbb', 0), ('aaaaaaaaaaaaaaaaaaaaaaaaaaaaaaaaaaabb', 0), ('aaaaaaaaaaaaabbbbbbbbbbbbbccccccccccccc', 1), ('aaaaaaaaaaaaaaaaabbbbbbbbbbbbbbb', 0), ('aabbbbbbbbbbbbbbbbbbcccccccccccccccccccc', 0), ('aaaaaaaaaaaaaaccccccccccccccccccc', 0), ('aaaaaaaaaaaaaaaaaaaaaaabbbbcccc', 0), ('aaaaaaaaaaaaaaaaaaaaaaaabbbbbbbbbb', 0), ('aaaaaaaaaaabbbbbbbbbbbccccccccccc', 1), ('aaaaaaaaaaaaaaaaaaaaaaaaaabbbbbbbb', 0), ('aaabccccccccccccccccccccccccccccccccc', 0), ('aaaaaaaaaaaaaaaaaaaaaaaaaaaaaaaaaacccc', 0), ('aabbbbbbbbbbbbbbbbbbbbbbbbbbbbbbbbbbb', 0), ('aaaaaaaaaaaaaaaaaaaaaaaaaabbbbbbbbbbb', 0), ('aaaaaaaaaaaaaaaaaaaaabbbbbbbbbb', 0), ('aaaaaaaaaaaaaaaaaaaaaaaaaaaaaaaaaaaaabc', 0), ('aaaaaaaaaaaaaaaaaaaaaaaaaaaaaabbbbbbbbb', 0), ('aaaaaaaaaaaaaaaaaaaaaaaaaaaaaaaaabb', 0), ('aaaaaaaaaaabbbbccccccccccccccccccccc', 0), ('aaaaaaaaaaaaaaaaaaaaaaaaaaaaaaaaabbbbbbb', 0), ('bbbbbbbbbbbbbbcccccccccccc', 0), ('aaaaaaaaaaaaaaaaaaaaaaaaaaaccccccc', 0), ('aaaaaaaaaaaaaaaaaaaaaaabbbbbbbbbbbbcc', 0), ('aaaaaaaabbbbbbbbcccccccc', 1), ('aaaaaaaaaaaaaaaaaaaaaaaaaaabbbbbbbbbbbb', 0), ('aaaaaaaaaaaaaaaaaaaaaaaaaaaaaaaaaaabbb', 0), ('aaaaaaaaaaaaaaaaaaaaaaaabbbbbbbbbbbbbbb', 0), ('aaaaaaaaaaaaaaaaaaaaaaaaaaaaaaaacc', 0), ('aaaaaaaaaaaaaaaaaaaaaaaaaaaabbbbb', 0), ('aaaaaaaaaaaaaaaaaaaabbbbbccccccccccccccc', 0), ('aaabbbbbbcccccccccccccccccccccc', 0), ('aaaaaaaaaaaaaaaaaaaaaaaaaaaaaaaabbbbbbbb', 0), ('aaaaaaaaaaabbbbbbbbbbbbbbbbbbbb', 0), ('aaaaaaaaaaaabbbbbbbbbbbbcccccccccccc', 1), ('aaaaaaaaaaaaabccccccccc', 0), ('aaaaaaaaaaaaaaaaaaaaaaacccccccccccccccc', 0), ('aaaaaaaaaaaaaaaaaaaaaaaaaaaaaaaaabbbbbb', 0), ('aaaaaaabbbbbbbccccccc', 1), ('aaaaaaaaaabbbbbbbbbbbbbccccccccccc', 0), ('aaaaaaaaaaaaaaaabbbbcccccccccccccc', 0), ('aaaaaaaaaaaaaaaaaaaaaaaaaaaaaaaaaaaaaabb', 0), ('aaaaaaaaaaaaaaaaaaaaaaaaaaaaaaaaaaaaaabb', 0), ('aaaaaaaaabbbbbbbbbbccc', 0), ('aaaaaaaaaaaaaaaaaaaaaaaaaaaaaaabbbbbbbbb', 0), ('aaaaaaaaaaaaaaaaaaaaaaaaaaabbbbbbbbbbb', 0), ('aaaaaaaaaaaaaaaaaaaaaabbbbcccccccccc', 0), ('aaaaaaabbbbbbbccccccc', 1), ('aaaaaaaabbbbbbbbbbbcccccccccccccccccc', 0), ('aaaaaaaaaaaaaaaaaaaaaaaaaaaabbbbbbbbbbb', 0), ('aaaaaaabbbbbbbbcccccccccccc', 0), ('aaaaaaaaaaaaaaaaaaaaaaaaaaaaaabbbbbbbbbb', 0), ('aaaaaaaaaaaabbbbbbbccccccccccccccccccc', 0), ('aaaaaaaaaaaaabbbbbbbbbbbbbccccccccccccc', 1), ('aaaaaaaaaaaaaaaaaaaaaaaaaaaaaaabcccccccc', 0), ('aaaaaaaaaaaaaaaaaaaaaaaaaabbbbbbbbbbbbbb', 0), ('aaaaaaaaaaaaaaaaaaaaaaaaaaaaaaaaaaaaaab', 0), ('aaaaaabcccccccccccccccccccccc', 0), ('aaaaaaaabbbbbbbbbbbbbbbbbbbbbbbbbbbbbbc', 0), ('aaaaaaaaaaaaaaaaaaaaaaaaaaaabccccccccccc', 0), ('aaaaaaaabbbbbbbbbbbbbbbbbbbbbbbccccc', 0), ('aaaaaaaaaaaaaaaaaaaaaaaaabbbb', 0), ('aaaaaaaaaaaaaaaaaaaaaaaaaaaaaaabbbbbb', 0), ('aaaaaaabbbbbbbccccccc', 1), ('aaaaaaaaaaaaaaaaaaabbbbbbbbbbcccc', 0), ('aaaaaaaaaaaaaaaaaaaaabbcccccccccc', 0), ('aaaaaaaaaaaaaaaaaaaaaaaaaaaaaaaaabbbbbbb', 0), ('aaaaaaaaaaaaaaaaaaaaaaaaaaaaaaabbb', 0), ('aaaaaaaaaaaaaaaaaaaaaaaaaaaaabbb', 0), ('aaaaaaaaaaaaaaaaaaaaaaaaaaaaaaaabbbbb', 0), ('aaaaaabbbbbbbbbbbbbbbbbbbbbbbbbb', 0), ('aaaaaaaaaaaaaabbbbbbbbbbbbbbbbbbbbbbbbbc', 0), ('aaaaaaaaaaaaaaaaaaaaaaaaaaaabbbbbbbbb', 0), ('aaaaaaaaaaaaaaaaaaaaabbbb', 0), ('aaaaaaaaaaaaaaaaaaaaaaaaaaaaaaaaaaabbbb', 0), ('aabbbbbbbbbbbbbbbbbbbbbbbbbbbbbbbbbbbbbb', 0), ('aaaaaaaaaaaaaaaaaaaaaaabbbbbbb', 0), ('aaaaaaaaaaaaaaaabbbbbbbbbbbbbbbbbbbbbbbc', 0), ('aaaaaaaaaaaaaaaaaaabbbbbbbbbbbbbbbbbbbbb', 0), ('aaaaaaaaaaaaaaaaaaaaaaaabbbbbbbbb', 0), ('aaaaaaaaaaaaaaaaaaaaaaaaaaaaaaabbbcccc', 0), ('aaaaaabbbbbbbbbbbbbbbbbbbbbbbbbbbbbbbbb', 0), ('aaaaaaaaaaaaaaaaaaaaaaaaaaaaaaaaaaaab', 0), ('aaaaaaaaaaaaaaaaaaaaaaaaaaaaaaaaaaaaaab', 0), ('aaaaaaaaaaaaaaaaabbbbbbbbbbbbbbbbb', 0), ('aaaaaaaaaaaaaaaaaaaaaaabcccccccc', 0), ('aaaaaaaaaaaaaaaaaaaaaaaaaa', 0), ('aaaaaaaabbbbbbbbcccccccc', 1), ('aaabbbbbbbbbbbbbbbbbbbbbbbbbbbbbbbbbbb', 0), ('aaaaaaabbbbbbbccccccc', 1), ('aaaaaaaabbbbbbbbbbbbbbbbbbccccccccccccc', 0), ('aaaaaaaaaaaaaaaaaaaaaaaaaaaaaabbbcc', 0), ('aaaaaaaaaaaaaaaaaaaaaaabccccccccccc', 0), ('aaaaaaaaaaaaaaaaaabbbbbbbbbbbb', 0), ('aaaaaaaaaaaaaaaaaaaaaaaaaaaaabbbbbbbbccc', 0), ('aaaabbbbbbbbbbbbbbbbbbbbbbbbbbbbbbbbbbbb', 0), ('aaaaaaaaaaaaaaaaaaaaabbbbccc', 0), ('aaaaaaaaabbbbbbbbbccccccccc', 1), ('aaaaaaaaaaaaaaaaaaaaaaaaaabbbbbbbbbbbbbb', 0), ('aaaaaaaaaaaaaaaaaaaaaaaaaaaabbbbbbbbbc', 0), ('aaaaaaaaaaaaccccccccc', 0), ('aaaaabbbbbbbbbbbbbbbbbbbbbcccccccccccccc', 0), ('aaaaaaaaaaaaaaaaaaaaaaaaaabbbccccccccccc', 0), ('aaaaaaaaaaaaaaaaaaaaaaaaaaaaaaaaaaaaaaa', 0), ('aabbbbbbbbbbbbbbbbbbbccccccccccccccccc', 0), ('aaaaabbbccccccccccccc', 0), ('aaaaaaaaaaaaaaaaaaaaaaaaaaaaaaaabbbbbbcc', 0), ('aaaaaaaaabbbbbccccccccccc', 0), ('aaaaaaaaaaaaaaaaaaaaaaaaaaaaaaaaaaaaaaab', 0), ('aaaaaaaaaaaaaaaaaaaaaaaaaaaaaaaaaaaab', 0), ('aaaaaaaaaaaaaaaaaaaaaaaaaaccccccc', 0), ('aabbbbbbbbbbbbbbbbbbbbbbbbbbbbbbbbbbbbb', 0), ('aaaaaaaaaaaaaaaaaaaaaaaaaaaaaaaaaaccccc', 0), ('aacccccccccccccccccccccccccccc', 0), ('aaaaaaaaaaaaaaaaaaaaaaaaabbbccccccc', 0), ('aaaaaaaaaaaaaaaaaaaaaaaaaaaaaaabbbbbb', 0), ('aaaaaaaaaaaaaabbbbbbbbbbbbbbbbbb', 0), ('aaaaaaaaaaaaaaaaaaaaaaaaaaaaaaaaaaaaaab', 0), ('aaaaaaaaaaaaaaaaaaaaaaaaaaaaaaaaaaaaaab', 0), ('aaaaaaaaaaaaaaaaaaaaaaaaaaaaaaaaaaabb', 0), ('aaaaaaaaaaaaaaaaaaaaaaaaaabbcccccccc', 0), ('aaaaaaaaaaaaaaaaaaaaaaaaaaaaaaaabbbb', 0), ('aaaaaaaaaaaaaaaaaaaaaabbbbbbbbb', 0), ('aaaaaaaaaaaaaaaaaaaaaaaaaaaabb', 0), ('aaaaaaaaaaaaaaaaaaaaaaaaaaaabccc', 0), ('aaaaaaaaabbbbbbbcccccccccc', 0), ('aaaaaaaaaaaaabbbbbbbbbbbbbbbbbbbbbbbbbbb', 0), ('aaaaaaaaaaaabbbbbbbbbbb', 0), ('aaaaaaaaaaabbbbbbbbbbbccccccccccc', 1), ('aaaaaaaaaaaaaaabbbbbbbbbbbbbbbccccccc', 0), ('aaaaaaaaaaaaaaaaaaaaaaaaaaaaaaaaaaaaaa', 0), ('aaaaaaaaaaaaaaaaaaaaaaaaaaaaaaaaaabb', 0), ('aaaabbbbbbbbbbbbbbbbbbbbbbbbbbbbbbbbbbbb', 0), ('aaaaaaaaaaaaaaaaaaaaaaaaaaaaaaaaa', 0), ('aaaaaaaaaaaaaaaaaaaabbbbbbbbbbbbbbbbbb', 0), ('aaaaaaaaaaaaaaaaaaaaaaaaaaaa', 0), ('aaaaabbbbbbbbbbbbbbbbbbbbb', 0), ('aaaaaaaaaaaaaaaaaaaaaabccccccccccccc', 0), ('aaaaaaaaaaaaaaaaaaaaaaaabbbbccc', 0), ('aaaaaaaaaabbbbbbbbbbbbbbbbbccccc', 0), ('aaaaaaaaaabbbbbbbbbbbbbbcccc', 0), ('aaaaaaaaaaaaaaabbbbbbbbbcc', 0), ('aaaaaaaaaaaaaaaaabbbbbbbbbbbbbbbbbb', 0), ('aaaaaaaaaaaaaaaaaaaabbccccccccccccc', 0), ('aaaaaaaaaaaaaaaaaaaaaaaaaaaaaaaaaaaabb', 0), ('aaaaaaaaaaaaaaaaaaaaaaaaaaaaaaaaaaaaa', 0), ('aaaaaaaaaaaaaaaaaaabbbbbbbbbbbbbbbbbb', 0), ('aaaaaaaaaaaaaabbbbbbbbbbbbbbbbbbbbbbbbbb', 0), ('aaaaaaaaaaaaaaaaaaaaaaaaaaaaaaabb', 0), ('aaaaaaaaaaaaaaaaaaaaaaaaaaaaaaabbbccccc', 0), ('aaaaaaaaaaaaaaaaaaaaaaaaaaaaaaaaaccccccc', 0)]\n",
      "Average Sentence Length:\n",
      "33.931\n"
     ]
    }
   ],
   "source": [
    "MAX_LEN = 40\n",
    "\n",
    "def generate_sentence(min_len=0, max_len=20, pos=True):\n",
    "    if pos:\n",
    "        n = np.random.randint(np.ceil(min_len / 3), np.ceil((max_len) / 3))\n",
    "        sentence = n*\"a\" + n*\"b\" + n*\"c\"\n",
    "        return sentence, len(sentence)\n",
    "    else:\n",
    "        n_0 = np.random.randint(0, max_len)\n",
    "        n_1 = np.random.randint(0, max_len - n_0 + 1)\n",
    "        n_2 = np.random.randint(min_len - n_0 - n_1, max_len - n_0 - n_1 + 1)\n",
    "        sentence = n_0 * \"a\" + n_1 * \"b\" + n_2 * \"c\"\n",
    "        return sentence, len(sentence)\n",
    "\n",
    "def create_data(size=10000, balance=0.1, min_len=0, max_len=20, train=True):\n",
    "    data = []\n",
    "    sentence_lengths = []\n",
    "\n",
    "    for i in range(int(size*balance)):\n",
    "        sentence, sentence_length = generate_sentence(min_len=min_len, max_len=max_len, pos=True)\n",
    "        while sentence == \"aabbcc\" and train:\n",
    "            sentence, sentence_length = generate_sentence(min_len=min_len, max_len=max_len, pos=True)\n",
    "        if not train:\n",
    "            sentence, sentence_length = \"aabbcc\"\n",
    "        data.append((sentence, 1))\n",
    "        sentence_lengths.append(sentence_length)\n",
    "    for i in range(int((size - (size*balance)))):\n",
    "        sentence, sentence_length = generate_sentence(min_len=min_len, max_len=max_len, pos=False)\n",
    "        data.append((sentence, 0))\n",
    "        sentence_lengths.append(sentence_length)\n",
    "    \n",
    "    random.shuffle(data)\n",
    "    average_length = sum(sentence_lengths) / len(sentence_lengths)\n",
    "    return data, average_length\n",
    "\n",
    "train_data, avg_sent_length_train = create_data(size=1000, balance=0.1, min_len=0, max_len=20, train=True)\n",
    "val_data, avg_sent_length_val = create_data(size=1000, balance=0.1, min_len=0, max_len=20, train=False)\n",
    "test_data, avg_sent_length_test = create_data(size=1000, balance=0.1, min_len=21, max_len=MAX_LEN, train=True)\n",
    "\n",
    "print(f\"Train Data Sample:\\n{train_data}\")\n",
    "print(f\"Average Sentence Length:\\n{avg_sent_length_train}\")\n",
    "print(f\"Val Data Sample:\\n{val_data}\")\n",
    "print(f\"Average Sentence Length:\\n{avg_sent_length_val}\")\n",
    "print(f\"Test Data Sample:\\n{test_data}\")\n",
    "print(f\"Average Sentence Length:\\n{avg_sent_length_test}\")\n"
   ]
  },
  {
   "cell_type": "code",
   "execution_count": 250,
   "metadata": {},
   "outputs": [],
   "source": [
    "# Dependencies\n",
    "import torch\n",
    "import torch.nn as nn\n",
    "import torch.optim as optim"
   ]
  },
  {
   "cell_type": "code",
   "execution_count": 251,
   "metadata": {},
   "outputs": [],
   "source": [
    "# Encoding data\n",
    "char_to_index = {'a':[1,0,0], 'b':[0,1,0], 'c':[0,0,1]}\n",
    "#index_to_char = {v: k for k, v in char_to_index.items()}\n",
    "\n",
    "def creat_tensors(data, max_l):\n",
    "    X = []\n",
    "    y = []\n",
    "    ml = 0\n",
    "\n",
    "    for sent, label in data:\n",
    "        X.append([char_to_index[char] for char in sent])\n",
    "        y.append(label)\n",
    "\n",
    "    # Padding to be able to convert to tensor\n",
    "    X = [sent + [[0,0,0]] * (max_l - len(sent)) for sent in X]\n",
    "\n",
    "    X = torch.tensor(X, dtype=torch.float32)\n",
    "    y = torch.tensor(y, dtype=torch.float32)\n",
    "\n",
    "    return X, y\n",
    "\n",
    "X_train, y_train = creat_tensors(train_data, max_l=MAX_LEN)\n",
    "X_test, y_test = creat_tensors(test_data, max_l=MAX_LEN)\n",
    "X_val, y_val = creat_tensors(val_data, max_l=MAX_LEN)"
   ]
  },
  {
   "cell_type": "code",
   "execution_count": 252,
   "metadata": {},
   "outputs": [],
   "source": [
    "from torch.utils.data import TensorDataset, DataLoader\n",
    "\n",
    "BATCH_SIZE = 64\n",
    "train_set = TensorDataset(X_train, y_train)\n",
    "val_set = TensorDataset(X_val, y_val)\n",
    "testset = TensorDataset(X_test, y_test)\n",
    "\n",
    "train_set, val_same_set = torch.utils.data.random_split(train_set, [900, 100])\n",
    "\n",
    "\n",
    "train_loader = DataLoader(train_set, BATCH_SIZE, shuffle=True)\n",
    "val_loader = DataLoader(val_set, BATCH_SIZE, shuffle=True)\n",
    "val_same_loader = DataLoader(val_same_set, BATCH_SIZE, shuffle=True)\n",
    "test_loader = DataLoader(testset, BATCH_SIZE, shuffle=True)"
   ]
  },
  {
   "cell_type": "markdown",
   "metadata": {},
   "source": [
    "## Train and define model"
   ]
  },
  {
   "cell_type": "code",
   "execution_count": 253,
   "metadata": {},
   "outputs": [
    {
     "name": "stdout",
     "output_type": "stream",
     "text": [
      "GPU State: cpu\n"
     ]
    }
   ],
   "source": [
    "# Set device\n",
    "if torch.cuda.is_available():\n",
    "    device = 'cuda:0'\n",
    "elif torch.backends.mps.is_available():\n",
    "    device = 'mps:0'\n",
    "else:\n",
    "    device = 'cpu'\n",
    "print('GPU State:', device)"
   ]
  },
  {
   "cell_type": "code",
   "execution_count": 254,
   "metadata": {},
   "outputs": [],
   "source": [
    "class LSTM(nn.Module):\n",
    "    def __init__(self, embedding_dim, hidden_dim, hidden_depth) -> None:\n",
    "        super().__init__()\n",
    "\n",
    "        self.lstm = nn.LSTM(embedding_dim, hidden_dim, hidden_depth, batch_first=True)\n",
    "        self.classification= nn.Sequential(\n",
    "            nn.Linear(hidden_dim, 1),\n",
    "            nn.Sigmoid()\n",
    "        )\n",
    "    \n",
    "    def forward(self, x):\n",
    "        output, (hn, cn) = self.lstm(x)\n",
    "        \n",
    "        logits = self.classification(output[:,-1,:])\n",
    "        #print(logits.size())\n",
    "        return torch.squeeze(logits)"
   ]
  },
  {
   "cell_type": "code",
   "execution_count": 322,
   "metadata": {},
   "outputs": [
    {
     "name": "stdout",
     "output_type": "stream",
     "text": [
      "Epoch [10/300], Loss: 0.3525\n",
      "Epoch [20/300], Loss: 0.3523\n",
      "Epoch [30/300], Loss: 0.3530\n",
      "Epoch [40/300], Loss: 0.3182\n",
      "Epoch [50/300], Loss: 0.3534\n",
      "Epoch [60/300], Loss: 0.3185\n",
      "Epoch [70/300], Loss: 0.3184\n",
      "Epoch [80/300], Loss: 0.3183\n",
      "Epoch [90/300], Loss: 0.3182\n",
      "Epoch [100/300], Loss: 0.3185\n",
      "Epoch [110/300], Loss: 0.3530\n",
      "Epoch [120/300], Loss: 0.3191\n",
      "Epoch [130/300], Loss: 0.2177\n",
      "Epoch [140/300], Loss: 0.1572\n",
      "Epoch [150/300], Loss: 0.1619\n",
      "Epoch [160/300], Loss: 0.1345\n",
      "Epoch [170/300], Loss: 0.0985\n",
      "Epoch [180/300], Loss: 0.0998\n",
      "Epoch [190/300], Loss: 0.0919\n",
      "Epoch [200/300], Loss: 0.0810\n",
      "Epoch [210/300], Loss: 0.0702\n",
      "Epoch [220/300], Loss: 0.0908\n",
      "Epoch [230/300], Loss: 0.1560\n",
      "Epoch [240/300], Loss: 0.1379\n",
      "Epoch [250/300], Loss: 0.0885\n",
      "Epoch [260/300], Loss: 0.0690\n",
      "Epoch [270/300], Loss: 0.0688\n",
      "Epoch [280/300], Loss: 0.0686\n",
      "Epoch [290/300], Loss: 0.0686\n",
      "Epoch [300/300], Loss: 0.0718\n"
     ]
    }
   ],
   "source": [
    "input_size = X_train.shape[2]\n",
    "hidden_size = 3\n",
    "hidden_depth = 1\n",
    "num_epochs = 300\n",
    "lr=0.01\n",
    "\n",
    "model = LSTM(input_size, hidden_size, hidden_depth)\n",
    "criterion = nn.BCELoss()\n",
    "optimizer = torch.optim.Adam(model.parameters(), lr=lr)\n",
    "\n",
    "for epoch in range(num_epochs):\n",
    "    model.train()\n",
    "    epoch_loss = 0\n",
    "\n",
    "    for batch_idx, (inputs, targets) in enumerate(train_loader):\n",
    "        #inputs = inputs.unsqueeze(-1)  # Add input_size dimension\n",
    "        # Forward pass\n",
    "        #print(inputs.shape)\n",
    "        outputs = model(inputs)\n",
    "        #print(outputs.shape)\n",
    "        #print(outputs)\n",
    "        loss = criterion(outputs, targets)\n",
    "        \n",
    "        # Backward pass and optimization\n",
    "        optimizer.zero_grad()\n",
    "        loss.backward()\n",
    "        \n",
    "        optimizer.step()\n",
    "        \n",
    "        epoch_loss += loss.item()\n",
    "    \n",
    "    if (epoch + 1) % 10 == 0:\n",
    "        print(f'Epoch [{epoch + 1}/{num_epochs}], Loss: {epoch_loss / len(train_loader):.4f}')\n",
    "\n",
    "# for param in model.parameters():\n",
    "#     print(param5"
   ]
  },
  {
   "cell_type": "markdown",
   "metadata": {},
   "source": [
    "## Testing"
   ]
  },
  {
   "cell_type": "code",
   "execution_count": 323,
   "metadata": {},
   "outputs": [
    {
     "name": "stdout",
     "output_type": "stream",
     "text": [
      "Test Error: \n",
      " Accuracy: 97.5%, F1-score: 0.888888955116272, Avg loss: 0.063324 \n",
      "\n"
     ]
    }
   ],
   "source": [
    "from torcheval.metrics import BinaryF1Score\n",
    "\n",
    "def test_loop(dataloader, model, loss_fn):\n",
    "    # Set the model to evaluation mode - important for batch normalization and dropout layers\n",
    "    # Unnecessary in this situation but added for best practices\n",
    "    model.eval()\n",
    "    size = len(dataloader.dataset)\n",
    "    num_batches = len(dataloader)\n",
    "    test_loss, correct = 0, 0\n",
    "    \n",
    "    metric = BinaryF1Score()\n",
    "\n",
    "    # Evaluating the model with torch.no_grad() ensures that no gradients are computed during test mode\n",
    "    # also serves to reduce unnecessary gradient computations and memory usage for tensors with requires_grad=True\n",
    "    with torch.no_grad():\n",
    "        for X, y in dataloader:\n",
    "            pred = model(X)\n",
    "            metric.update(pred, y)\n",
    "            #print(pred)\n",
    "            #print(y)\n",
    "            #print(\"\\n\")\n",
    "\n",
    "            test_loss += loss_fn(pred, y).item()\n",
    "            correct += (torch.round(pred) == y).type(torch.float).sum().item()\n",
    "            \n",
    "\n",
    "\n",
    "    test_loss /= num_batches\n",
    "    \n",
    "    correct /= size\n",
    "    print(f\"Test Error: \\n Accuracy: {(100*correct):>0.1f}%, F1-score: {metric.compute()}, Avg loss: {test_loss:>8f} \\n\")\n",
    "    \n",
    "loss_fn = nn.BCELoss()\n",
    "optimizer = torch.optim.Adam(model.parameters(), lr=lr)\n",
    "\n",
    "\n",
    "test_loop(val_loader, model, loss_fn)"
   ]
  },
  {
   "cell_type": "code",
   "execution_count": 324,
   "metadata": {},
   "outputs": [
    {
     "name": "stdout",
     "output_type": "stream",
     "text": [
      "Test Error: \n",
      " Accuracy: 95.1%, F1-score: 0.7199999094009399, Avg loss: 0.109580 \n",
      "\n"
     ]
    }
   ],
   "source": [
    "test_loop(test_loader, model, loss_fn)"
   ]
  },
  {
   "cell_type": "code",
   "execution_count": 325,
   "metadata": {},
   "outputs": [
    {
     "name": "stdout",
     "output_type": "stream",
     "text": [
      "Test Error: \n",
      " Accuracy: 99.0%, F1-score: 0.9333333373069763, Avg loss: 0.039658 \n",
      "\n"
     ]
    }
   ],
   "source": [
    "test_loop(val_same_loader, model, loss_fn)"
   ]
  },
  {
   "cell_type": "code",
   "execution_count": 293,
   "metadata": {},
   "outputs": [
    {
     "name": "stdout",
     "output_type": "stream",
     "text": [
      "Test Error: \n",
      " Accuracy: 90.7%, F1-score: 0.3007518947124481, Avg loss: 0.473236 \n",
      "\n"
     ]
    },
    {
     "data": {
      "text/plain": [
       "([<matplotlib.axis.XTick at 0x7f060b66b440>,\n",
       "  <matplotlib.axis.XTick at 0x7f060b430410>,\n",
       "  <matplotlib.axis.XTick at 0x7f060b4b8e90>,\n",
       "  <matplotlib.axis.XTick at 0x7f060b30d6a0>,\n",
       "  <matplotlib.axis.XTick at 0x7f060b4a65a0>,\n",
       "  <matplotlib.axis.XTick at 0x7f060b30dfa0>,\n",
       "  <matplotlib.axis.XTick at 0x7f060b30e8d0>,\n",
       "  <matplotlib.axis.XTick at 0x7f060b30f1d0>,\n",
       "  <matplotlib.axis.XTick at 0x7f060b30fb60>,\n",
       "  <matplotlib.axis.XTick at 0x7f060b5c00e0>,\n",
       "  <matplotlib.axis.XTick at 0x7f060b5c1ca0>,\n",
       "  <matplotlib.axis.XTick at 0x7f060b5b1bb0>,\n",
       "  <matplotlib.axis.XTick at 0x7f060b5b2b70>,\n",
       "  <matplotlib.axis.XTick at 0x7f060b5b3b60>,\n",
       "  <matplotlib.axis.XTick at 0x7f060b5b1340>,\n",
       "  <matplotlib.axis.XTick at 0x7f060b5dd7f0>,\n",
       "  <matplotlib.axis.XTick at 0x7f060b49ff80>,\n",
       "  <matplotlib.axis.XTick at 0x7f060b47a270>,\n",
       "  <matplotlib.axis.XTick at 0x7f060b58fc80>,\n",
       "  <matplotlib.axis.XTick at 0x7f060b49fe90>],\n",
       " [Text(21, 0, '21'),\n",
       "  Text(22, 0, '22'),\n",
       "  Text(23, 0, '23'),\n",
       "  Text(24, 0, '24'),\n",
       "  Text(25, 0, '25'),\n",
       "  Text(26, 0, '26'),\n",
       "  Text(27, 0, '27'),\n",
       "  Text(28, 0, '28'),\n",
       "  Text(29, 0, '29'),\n",
       "  Text(30, 0, '30'),\n",
       "  Text(31, 0, '31'),\n",
       "  Text(32, 0, '32'),\n",
       "  Text(33, 0, '33'),\n",
       "  Text(34, 0, '34'),\n",
       "  Text(35, 0, '35'),\n",
       "  Text(36, 0, '36'),\n",
       "  Text(37, 0, '37'),\n",
       "  Text(38, 0, '38'),\n",
       "  Text(39, 0, '39'),\n",
       "  Text(40, 0, '40')])"
      ]
     },
     "execution_count": 293,
     "metadata": {},
     "output_type": "execute_result"
    },
    {
     "data": {
      "image/png": "[encoded data removed]",
      "text/plain": [
       "<Figure size 640x480 with 1 Axes>"
      ]
     },
     "metadata": {},
     "output_type": "display_data"
    }
   ],
   "source": [
    "from torcheval.metrics import BinaryF1Score\n",
    "\n",
    "def get_plot(dataloader, model, loss_fn):\n",
    "    # Set the model to evaluation mode - important for batch normalization and dropout layers\n",
    "    # Unnecessary in this situation but added for best practices\n",
    "    model.eval()\n",
    "    size = len(dataloader.dataset)\n",
    "    num_batches = len(dataloader)\n",
    "    test_loss, correct = 0, 0\n",
    "    \n",
    "    metric = BinaryF1Score()\n",
    "\n",
    "    metric_per_len = [BinaryF1Score() for i in range(21, MAX_LEN + 1)]\n",
    "    #print(len(metric_per_len))\n",
    "    # Evaluating the model with torch.no_grad() ensures that no gradients are computed during test mode\n",
    "    # also serves to reduce unnecessary gradient computations and memory usage for tensors with requires_grad=True\n",
    "    with torch.no_grad():\n",
    "        for X, y in dataloader:\n",
    "            pred = model(X)\n",
    "            metric.update(pred, y)\n",
    "            #print(pred)\n",
    "            #print(y)\n",
    "            #print(\"\\n\")\n",
    "            for i in range(X.shape[0]):\n",
    "                sent_len = int(X[i].flatten().sum().item())\n",
    "                metric_per_len[sent_len - 21].update(pred, y)\n",
    "\n",
    "            test_loss += loss_fn(pred, y).item()\n",
    "            correct += (torch.round(pred) == y).type(torch.float).sum().item()\n",
    "            \n",
    "\n",
    "\n",
    "    test_loss /= num_batches\n",
    "    \n",
    "    correct /= size\n",
    "    print(f\"Test Error: \\n Accuracy: {(100*correct):>0.1f}%, F1-score: {metric.compute()}, Avg loss: {test_loss:>8f} \\n\")\n",
    "    \n",
    "    return metric_per_len\n",
    "\n",
    "loss_fn = nn.BCELoss()\n",
    "optimizer = torch.optim.Adam(model.parameters(), lr=lr)\n",
    "\n",
    "metrics = get_plot(test_loader, model, loss_fn)\n",
    "\n",
    "f1_scores = [metric.compute() for metric in metrics]\n",
    "f1_scores\n",
    "\n",
    "plt.plot(range(21, MAX_LEN + 1), f1_scores)\n",
    "plt.xticks(range(21, MAX_LEN + 1))"
   ]
  },
  {
   "cell_type": "markdown",
   "metadata": {},
   "source": [
    "## Parameter sweep"
   ]
  },
  {
   "cell_type": "code",
   "execution_count": 260,
   "metadata": {},
   "outputs": [
    {
     "name": "stdout",
     "output_type": "stream",
     "text": [
      "{'method': 'random',\n",
      " 'metric': {'goal': 'minimize', 'name': 'loss'},\n",
      " 'parameters': {'hidden_depth': {'values': [1, 2, 3]},\n",
      "                'hidden_size': {'values': [3, 5, 10, 20]},\n",
      "                'lr': {'values': [0.01, 0.001, 0.0001]},\n",
      "                'num_epochs': {'values': [100, 200, 300]}}}\n"
     ]
    }
   ],
   "source": [
    "sweep_config = {\n",
    "    'method': 'random',\n",
    "}\n",
    "\n",
    "metric = {\n",
    "    'name': 'loss',\n",
    "    'goal': 'minimize'   \n",
    "    }\n",
    "\n",
    "sweep_config['metric'] = metric\n",
    "\n",
    "parameters_dict = {\n",
    "    'hidden_size': {\n",
    "        'values': [3, 5, 10, 20]\n",
    "    },\n",
    "    'hidden_depth': {\n",
    "        'values': [1, 2, 3]\n",
    "    },\n",
    "    'lr': {\n",
    "        'values': [1e-2, 1e-3, 1e-4]\n",
    "    },\n",
    "    'num_epochs': {\n",
    "        'values': [100, 200, 300]\n",
    "    },\n",
    "}\n",
    "\n",
    "sweep_config['parameters'] = parameters_dict\n",
    "\n",
    "import pprint\n",
    "\n",
    "pprint.pprint(sweep_config)"
   ]
  },
  {
   "cell_type": "code",
   "execution_count": 261,
   "metadata": {},
   "outputs": [
    {
     "name": "stdout",
     "output_type": "stream",
     "text": [
      "Create sweep with ID: qj063yx9\n",
      "Sweep URL: https://wandb.ai/jarlku/lstm-sweep/sweeps/qj063yx9\n"
     ]
    }
   ],
   "source": [
    "import wandb\n",
    "sweep_id = wandb.sweep(sweep_config, project='lstm-sweep')"
   ]
  },
  {
   "cell_type": "code",
   "execution_count": 262,
   "metadata": {},
   "outputs": [],
   "source": [
    "\n",
    "def train_wandb(config=None):\n",
    "    with wandb.init(config=config):\n",
    "        config = wandb.config\n",
    "        \n",
    "        train_loader = DataLoader(train_set, BATCH_SIZE, shuffle=True)\n",
    "        val_loader = DataLoader(val_set, BATCH_SIZE, shuffle=True)\n",
    "        \n",
    "        model = LSTM(input_size, config.hidden_size, config.hidden_depth)\n",
    "        optimizer = torch.optim.Adam(model.parameters(), lr=config.lr)\n",
    "        criterion = nn.BCELoss()\n",
    "        \n",
    "\n",
    "        for epoch in range(config.num_epochs):\n",
    "            model.train()\n",
    "            epoch_loss = 0\n",
    "\n",
    "            for batch_idx, (inputs, targets) in enumerate(train_loader):\n",
    "                #inputs = inputs.unsqueeze(-1)  # Add input_size dimension\n",
    "                # Forward pass\n",
    "                outputs = model(inputs)\n",
    "                #print(outputs)\n",
    "                loss = criterion(outputs, targets)\n",
    "                \n",
    "                # Backward pass and optimization\n",
    "                optimizer.zero_grad()\n",
    "                loss.backward()\n",
    "                optimizer.step()\n",
    "                \n",
    "                epoch_loss += loss.item()\n",
    "            \n",
    "            wandb.log({'loss': epoch_loss / len(train_loader)})\n",
    "            if (epoch + 1) % 10 == 0:\n",
    "                print(f'Epoch [{epoch + 1}/{config.num_epochs}], Loss: {epoch_loss / len(train_loader):.4f}')\n",
    "        \n",
    "        metric = BinaryF1Score()\n",
    "        for inputs, targets in val_loader:\n",
    "            outputs = model(inputs)\n",
    "            loss = criterion(outputs, targets)\n",
    "            wandb.log({'val_loss': loss})\n",
    "            metric.update(outputs, targets)\n",
    "            wandb.log({'val_f1': metric.compute()})\n",
    "            \n",
    "            "
   ]
  },
  {
   "cell_type": "markdown",
   "metadata": {},
   "source": [
    "wandb.agent(sweep_id, train, count=5)"
   ]
  },
  {
   "cell_type": "code",
   "execution_count": 263,
   "metadata": {},
   "outputs": [
    {
     "name": "stderr",
     "output_type": "stream",
     "text": [
      "\u001b[34m\u001b[1mwandb\u001b[0m: Agent Starting Run: m8aqo77f with config:\n",
      "\u001b[34m\u001b[1mwandb\u001b[0m: \thidden_depth: 2\n",
      "\u001b[34m\u001b[1mwandb\u001b[0m: \thidden_size: 10\n",
      "\u001b[34m\u001b[1mwandb\u001b[0m: \tlr: 0.01\n",
      "\u001b[34m\u001b[1mwandb\u001b[0m: \tnum_epochs: 200\n",
      "Failed to detect the name of this notebook, you can set it manually with the WANDB_NOTEBOOK_NAME environment variable to enable code saving.\n"
     ]
    },
    {
     "data": {
      "text/html": [
       "wandb version 0.17.0 is available!  To upgrade, please run:\n",
       " $ pip install wandb --upgrade"
      ],
      "text/plain": [
       "<IPython.core.display.HTML object>"
      ]
     },
     "metadata": {},
     "output_type": "display_data"
    },
    {
     "data": {
      "text/html": [
       "Tracking run with wandb version 0.16.6"
      ],
      "text/plain": [
       "<IPython.core.display.HTML object>"
      ]
     },
     "metadata": {},
     "output_type": "display_data"
    },
    {
     "data": {
      "text/html": [
       "Run data is saved locally in <code>/home/jarl/UniStuff/ADL/ADL/assignment_3/wandb/run-20240527_133302-m8aqo77f</code>"
      ],
      "text/plain": [
       "<IPython.core.display.HTML object>"
      ]
     },
     "metadata": {},
     "output_type": "display_data"
    },
    {
     "data": {
      "text/html": [
       "Syncing run <strong><a href='https://wandb.ai/jarlku/lstm-sweep/runs/m8aqo77f' target=\"_blank\">dry-sweep-1</a></strong> to <a href='https://wandb.ai/jarlku/lstm-sweep' target=\"_blank\">Weights & Biases</a> (<a href='https://wandb.me/run' target=\"_blank\">docs</a>)<br/>Sweep page: <a href='https://wandb.ai/jarlku/lstm-sweep/sweeps/qj063yx9' target=\"_blank\">https://wandb.ai/jarlku/lstm-sweep/sweeps/qj063yx9</a>"
      ],
      "text/plain": [
       "<IPython.core.display.HTML object>"
      ]
     },
     "metadata": {},
     "output_type": "display_data"
    },
    {
     "data": {
      "text/html": [
       " View project at <a href='https://wandb.ai/jarlku/lstm-sweep' target=\"_blank\">https://wandb.ai/jarlku/lstm-sweep</a>"
      ],
      "text/plain": [
       "<IPython.core.display.HTML object>"
      ]
     },
     "metadata": {},
     "output_type": "display_data"
    },
    {
     "data": {
      "text/html": [
       " View sweep at <a href='https://wandb.ai/jarlku/lstm-sweep/sweeps/qj063yx9' target=\"_blank\">https://wandb.ai/jarlku/lstm-sweep/sweeps/qj063yx9</a>"
      ],
      "text/plain": [
       "<IPython.core.display.HTML object>"
      ]
     },
     "metadata": {},
     "output_type": "display_data"
    },
    {
     "data": {
      "text/html": [
       " View run at <a href='https://wandb.ai/jarlku/lstm-sweep/runs/m8aqo77f' target=\"_blank\">https://wandb.ai/jarlku/lstm-sweep/runs/m8aqo77f</a>"
      ],
      "text/plain": [
       "<IPython.core.display.HTML object>"
      ]
     },
     "metadata": {},
     "output_type": "display_data"
    },
    {
     "name": "stdout",
     "output_type": "stream",
     "text": [
      "Epoch [10/200], Loss: 0.3539\n",
      "Epoch [20/200], Loss: 0.3241\n",
      "Epoch [30/200], Loss: 0.3872\n",
      "Epoch [40/200], Loss: 0.3185\n",
      "Epoch [50/200], Loss: 0.3184\n",
      "Epoch [60/200], Loss: 0.3186\n",
      "Epoch [70/200], Loss: 0.3855\n",
      "Epoch [80/200], Loss: 0.3521\n",
      "Epoch [90/200], Loss: 0.3219\n",
      "Epoch [100/200], Loss: 0.3864\n",
      "Epoch [110/200], Loss: 0.3188\n",
      "Epoch [120/200], Loss: 0.3876\n",
      "Epoch [130/200], Loss: 0.3215\n",
      "Epoch [140/200], Loss: 0.3184\n",
      "Epoch [150/200], Loss: 0.3888\n",
      "Epoch [160/200], Loss: 0.3197\n",
      "Epoch [170/200], Loss: 0.3200\n",
      "Epoch [180/200], Loss: 0.3184\n",
      "Epoch [190/200], Loss: 0.3258\n",
      "Epoch [200/200], Loss: 0.3526\n"
     ]
    },
    {
     "data": {
      "text/html": [
       "<style>\n",
       "    table.wandb td:nth-child(1) { padding: 0 10px; text-align: left ; width: auto;} td:nth-child(2) {text-align: left ; width: 100%}\n",
       "    .wandb-row { display: flex; flex-direction: row; flex-wrap: wrap; justify-content: flex-start; width: 100% }\n",
       "    .wandb-col { display: flex; flex-direction: column; flex-basis: 100%; flex: 1; padding: 10px; }\n",
       "    </style>\n",
       "<div class=\"wandb-row\"><div class=\"wandb-col\"><h3>Run history:</h3><br/><table class=\"wandb\"><tr><td>loss</td><td>█▃▁▁▃▁▁▁▁▃▁▁▁▁▁▁▁▁▁▃▁▁▃▃▁▁▃▁▁▁▃▁▁▁▁▁▁▁▁▃</td></tr><tr><td>val_f1</td><td>▁▁▁▁▁▁▁▁▁▁▁▁▁▁▁▁</td></tr><tr><td>val_loss</td><td>▅▁▄▁█▃▃▃▁▆▁▃▂▂▃▃</td></tr></table><br/></div><div class=\"wandb-col\"><h3>Run summary:</h3><br/><table class=\"wandb\"><tr><td>loss</td><td>0.35262</td></tr><tr><td>val_f1</td><td>0.0</td></tr><tr><td>val_loss</td><td>0.32535</td></tr></table><br/></div></div>"
      ],
      "text/plain": [
       "<IPython.core.display.HTML object>"
      ]
     },
     "metadata": {},
     "output_type": "display_data"
    },
    {
     "data": {
      "text/html": [
       " View run <strong style=\"color:#cdcd00\">dry-sweep-1</strong> at: <a href='https://wandb.ai/jarlku/lstm-sweep/runs/m8aqo77f' target=\"_blank\">https://wandb.ai/jarlku/lstm-sweep/runs/m8aqo77f</a><br/> View project at: <a href='https://wandb.ai/jarlku/lstm-sweep' target=\"_blank\">https://wandb.ai/jarlku/lstm-sweep</a><br/>Synced 6 W&B file(s), 0 media file(s), 0 artifact file(s) and 0 other file(s)"
      ],
      "text/plain": [
       "<IPython.core.display.HTML object>"
      ]
     },
     "metadata": {},
     "output_type": "display_data"
    },
    {
     "data": {
      "text/html": [
       "Find logs at: <code>./wandb/run-20240527_133302-m8aqo77f/logs</code>"
      ],
      "text/plain": [
       "<IPython.core.display.HTML object>"
      ]
     },
     "metadata": {},
     "output_type": "display_data"
    },
    {
     "name": "stderr",
     "output_type": "stream",
     "text": [
      "\u001b[34m\u001b[1mwandb\u001b[0m: Agent Starting Run: 4achu99l with config:\n",
      "\u001b[34m\u001b[1mwandb\u001b[0m: \thidden_depth: 3\n",
      "\u001b[34m\u001b[1mwandb\u001b[0m: \thidden_size: 10\n",
      "\u001b[34m\u001b[1mwandb\u001b[0m: \tlr: 0.01\n",
      "\u001b[34m\u001b[1mwandb\u001b[0m: \tnum_epochs: 200\n",
      "Failed to detect the name of this notebook, you can set it manually with the WANDB_NOTEBOOK_NAME environment variable to enable code saving.\n"
     ]
    },
    {
     "data": {
      "text/html": [
       "wandb version 0.17.0 is available!  To upgrade, please run:\n",
       " $ pip install wandb --upgrade"
      ],
      "text/plain": [
       "<IPython.core.display.HTML object>"
      ]
     },
     "metadata": {},
     "output_type": "display_data"
    },
    {
     "data": {
      "text/html": [
       "Tracking run with wandb version 0.16.6"
      ],
      "text/plain": [
       "<IPython.core.display.HTML object>"
      ]
     },
     "metadata": {},
     "output_type": "display_data"
    },
    {
     "data": {
      "text/html": [
       "Run data is saved locally in <code>/home/jarl/UniStuff/ADL/ADL/assignment_3/wandb/run-20240527_133333-4achu99l</code>"
      ],
      "text/plain": [
       "<IPython.core.display.HTML object>"
      ]
     },
     "metadata": {},
     "output_type": "display_data"
    },
    {
     "data": {
      "text/html": [
       "Syncing run <strong><a href='https://wandb.ai/jarlku/lstm-sweep/runs/4achu99l' target=\"_blank\">classic-sweep-2</a></strong> to <a href='https://wandb.ai/jarlku/lstm-sweep' target=\"_blank\">Weights & Biases</a> (<a href='https://wandb.me/run' target=\"_blank\">docs</a>)<br/>Sweep page: <a href='https://wandb.ai/jarlku/lstm-sweep/sweeps/qj063yx9' target=\"_blank\">https://wandb.ai/jarlku/lstm-sweep/sweeps/qj063yx9</a>"
      ],
      "text/plain": [
       "<IPython.core.display.HTML object>"
      ]
     },
     "metadata": {},
     "output_type": "display_data"
    },
    {
     "data": {
      "text/html": [
       " View project at <a href='https://wandb.ai/jarlku/lstm-sweep' target=\"_blank\">https://wandb.ai/jarlku/lstm-sweep</a>"
      ],
      "text/plain": [
       "<IPython.core.display.HTML object>"
      ]
     },
     "metadata": {},
     "output_type": "display_data"
    },
    {
     "data": {
      "text/html": [
       " View sweep at <a href='https://wandb.ai/jarlku/lstm-sweep/sweeps/qj063yx9' target=\"_blank\">https://wandb.ai/jarlku/lstm-sweep/sweeps/qj063yx9</a>"
      ],
      "text/plain": [
       "<IPython.core.display.HTML object>"
      ]
     },
     "metadata": {},
     "output_type": "display_data"
    },
    {
     "data": {
      "text/html": [
       " View run at <a href='https://wandb.ai/jarlku/lstm-sweep/runs/4achu99l' target=\"_blank\">https://wandb.ai/jarlku/lstm-sweep/runs/4achu99l</a>"
      ],
      "text/plain": [
       "<IPython.core.display.HTML object>"
      ]
     },
     "metadata": {},
     "output_type": "display_data"
    },
    {
     "name": "stdout",
     "output_type": "stream",
     "text": [
      "Epoch [10/200], Loss: 0.3201\n",
      "Epoch [20/200], Loss: 0.3182\n",
      "Epoch [30/200], Loss: 0.3178\n",
      "Epoch [40/200], Loss: 0.3527\n",
      "Epoch [50/200], Loss: 0.3514\n",
      "Epoch [60/200], Loss: 0.3216\n",
      "Epoch [70/200], Loss: 0.3184\n",
      "Epoch [80/200], Loss: 0.3533\n",
      "Epoch [90/200], Loss: 0.3186\n",
      "Epoch [100/200], Loss: 0.3185\n",
      "Epoch [110/200], Loss: 0.3518\n",
      "Epoch [120/200], Loss: 0.3539\n",
      "Epoch [130/200], Loss: 0.3542\n",
      "Epoch [140/200], Loss: 0.3186\n",
      "Epoch [150/200], Loss: 0.3186\n",
      "Epoch [160/200], Loss: 0.3184\n",
      "Epoch [170/200], Loss: 0.3184\n",
      "Epoch [180/200], Loss: 0.3186\n",
      "Epoch [190/200], Loss: 0.3188\n",
      "Epoch [200/200], Loss: 0.3185\n"
     ]
    },
    {
     "data": {
      "text/html": [
       "<style>\n",
       "    table.wandb td:nth-child(1) { padding: 0 10px; text-align: left ; width: auto;} td:nth-child(2) {text-align: left ; width: 100%}\n",
       "    .wandb-row { display: flex; flex-direction: row; flex-wrap: wrap; justify-content: flex-start; width: 100% }\n",
       "    .wandb-col { display: flex; flex-direction: column; flex-basis: 100%; flex: 1; padding: 10px; }\n",
       "    </style>\n",
       "<div class=\"wandb-row\"><div class=\"wandb-col\"><h3>Run history:</h3><br/><table class=\"wandb\"><tr><td>loss</td><td>▁▁▁▅▂▁▁▅▅▅▄▁▁▁▂▁▄▁▁▁▅▁▁▁▁▁█▁▁▁▅▁▄▄▅▁▅▁▁▁</td></tr><tr><td>val_f1</td><td>▁▁▁▁▁▁▁▁▁▁▁▁▁▁▁▁</td></tr><tr><td>val_loss</td><td>▇▅▂▂▄▂▂▄▂▁▂▂▃█▂▅</td></tr></table><br/></div><div class=\"wandb-col\"><h3>Run summary:</h3><br/><table class=\"wandb\"><tr><td>loss</td><td>0.3185</td></tr><tr><td>val_f1</td><td>0.0</td></tr><tr><td>val_loss</td><td>0.38266</td></tr></table><br/></div></div>"
      ],
      "text/plain": [
       "<IPython.core.display.HTML object>"
      ]
     },
     "metadata": {},
     "output_type": "display_data"
    },
    {
     "data": {
      "text/html": [
       " View run <strong style=\"color:#cdcd00\">classic-sweep-2</strong> at: <a href='https://wandb.ai/jarlku/lstm-sweep/runs/4achu99l' target=\"_blank\">https://wandb.ai/jarlku/lstm-sweep/runs/4achu99l</a><br/> View project at: <a href='https://wandb.ai/jarlku/lstm-sweep' target=\"_blank\">https://wandb.ai/jarlku/lstm-sweep</a><br/>Synced 6 W&B file(s), 0 media file(s), 0 artifact file(s) and 0 other file(s)"
      ],
      "text/plain": [
       "<IPython.core.display.HTML object>"
      ]
     },
     "metadata": {},
     "output_type": "display_data"
    },
    {
     "data": {
      "text/html": [
       "Find logs at: <code>./wandb/run-20240527_133333-4achu99l/logs</code>"
      ],
      "text/plain": [
       "<IPython.core.display.HTML object>"
      ]
     },
     "metadata": {},
     "output_type": "display_data"
    },
    {
     "name": "stderr",
     "output_type": "stream",
     "text": [
      "\u001b[34m\u001b[1mwandb\u001b[0m: Agent Starting Run: y9niv9ic with config:\n",
      "\u001b[34m\u001b[1mwandb\u001b[0m: \thidden_depth: 2\n",
      "\u001b[34m\u001b[1mwandb\u001b[0m: \thidden_size: 5\n",
      "\u001b[34m\u001b[1mwandb\u001b[0m: \tlr: 0.001\n",
      "\u001b[34m\u001b[1mwandb\u001b[0m: \tnum_epochs: 100\n",
      "Failed to detect the name of this notebook, you can set it manually with the WANDB_NOTEBOOK_NAME environment variable to enable code saving.\n"
     ]
    },
    {
     "data": {
      "text/html": [
       "wandb version 0.17.0 is available!  To upgrade, please run:\n",
       " $ pip install wandb --upgrade"
      ],
      "text/plain": [
       "<IPython.core.display.HTML object>"
      ]
     },
     "metadata": {},
     "output_type": "display_data"
    },
    {
     "data": {
      "text/html": [
       "Tracking run with wandb version 0.16.6"
      ],
      "text/plain": [
       "<IPython.core.display.HTML object>"
      ]
     },
     "metadata": {},
     "output_type": "display_data"
    },
    {
     "data": {
      "text/html": [
       "Run data is saved locally in <code>/home/jarl/UniStuff/ADL/ADL/assignment_3/wandb/run-20240527_133404-y9niv9ic</code>"
      ],
      "text/plain": [
       "<IPython.core.display.HTML object>"
      ]
     },
     "metadata": {},
     "output_type": "display_data"
    },
    {
     "data": {
      "text/html": [
       "Syncing run <strong><a href='https://wandb.ai/jarlku/lstm-sweep/runs/y9niv9ic' target=\"_blank\">divine-sweep-3</a></strong> to <a href='https://wandb.ai/jarlku/lstm-sweep' target=\"_blank\">Weights & Biases</a> (<a href='https://wandb.me/run' target=\"_blank\">docs</a>)<br/>Sweep page: <a href='https://wandb.ai/jarlku/lstm-sweep/sweeps/qj063yx9' target=\"_blank\">https://wandb.ai/jarlku/lstm-sweep/sweeps/qj063yx9</a>"
      ],
      "text/plain": [
       "<IPython.core.display.HTML object>"
      ]
     },
     "metadata": {},
     "output_type": "display_data"
    },
    {
     "data": {
      "text/html": [
       " View project at <a href='https://wandb.ai/jarlku/lstm-sweep' target=\"_blank\">https://wandb.ai/jarlku/lstm-sweep</a>"
      ],
      "text/plain": [
       "<IPython.core.display.HTML object>"
      ]
     },
     "metadata": {},
     "output_type": "display_data"
    },
    {
     "data": {
      "text/html": [
       " View sweep at <a href='https://wandb.ai/jarlku/lstm-sweep/sweeps/qj063yx9' target=\"_blank\">https://wandb.ai/jarlku/lstm-sweep/sweeps/qj063yx9</a>"
      ],
      "text/plain": [
       "<IPython.core.display.HTML object>"
      ]
     },
     "metadata": {},
     "output_type": "display_data"
    },
    {
     "data": {
      "text/html": [
       " View run at <a href='https://wandb.ai/jarlku/lstm-sweep/runs/y9niv9ic' target=\"_blank\">https://wandb.ai/jarlku/lstm-sweep/runs/y9niv9ic</a>"
      ],
      "text/plain": [
       "<IPython.core.display.HTML object>"
      ]
     },
     "metadata": {},
     "output_type": "display_data"
    },
    {
     "name": "stdout",
     "output_type": "stream",
     "text": [
      "Epoch [10/100], Loss: 0.5067\n",
      "Epoch [20/100], Loss: 0.3350\n",
      "Epoch [30/100], Loss: 0.3200\n",
      "Epoch [40/100], Loss: 0.3518\n",
      "Epoch [50/100], Loss: 0.3187\n",
      "Epoch [60/100], Loss: 0.3185\n",
      "Epoch [70/100], Loss: 0.3869\n",
      "Epoch [80/100], Loss: 0.3867\n",
      "Epoch [90/100], Loss: 0.3858\n",
      "Epoch [100/100], Loss: 0.3521\n"
     ]
    },
    {
     "data": {
      "text/html": [
       "<style>\n",
       "    table.wandb td:nth-child(1) { padding: 0 10px; text-align: left ; width: auto;} td:nth-child(2) {text-align: left ; width: 100%}\n",
       "    .wandb-row { display: flex; flex-direction: row; flex-wrap: wrap; justify-content: flex-start; width: 100% }\n",
       "    .wandb-col { display: flex; flex-direction: column; flex-basis: 100%; flex: 1; padding: 10px; }\n",
       "    </style>\n",
       "<div class=\"wandb-row\"><div class=\"wandb-col\"><h3>Run history:</h3><br/><table class=\"wandb\"><tr><td>loss</td><td>█▇▆▅▃▃▂▁▂▁▁▁▁▁▁▁▁▁▁▁▁▂▂▁▁▁▁▂▂▂▁▁▁▁▂▁▁▁▁▂</td></tr><tr><td>val_f1</td><td>▁▁▁▁▁▁▁▁▁▁▁▁▁▁▁▁</td></tr><tr><td>val_loss</td><td>▄▂▂▄█▁▇█▄▂▂▅▃▄▅▁</td></tr></table><br/></div><div class=\"wandb-col\"><h3>Run summary:</h3><br/><table class=\"wandb\"><tr><td>loss</td><td>0.3521</td></tr><tr><td>val_f1</td><td>0.0</td></tr><tr><td>val_loss</td><td>0.21747</td></tr></table><br/></div></div>"
      ],
      "text/plain": [
       "<IPython.core.display.HTML object>"
      ]
     },
     "metadata": {},
     "output_type": "display_data"
    },
    {
     "data": {
      "text/html": [
       " View run <strong style=\"color:#cdcd00\">divine-sweep-3</strong> at: <a href='https://wandb.ai/jarlku/lstm-sweep/runs/y9niv9ic' target=\"_blank\">https://wandb.ai/jarlku/lstm-sweep/runs/y9niv9ic</a><br/> View project at: <a href='https://wandb.ai/jarlku/lstm-sweep' target=\"_blank\">https://wandb.ai/jarlku/lstm-sweep</a><br/>Synced 6 W&B file(s), 0 media file(s), 0 artifact file(s) and 0 other file(s)"
      ],
      "text/plain": [
       "<IPython.core.display.HTML object>"
      ]
     },
     "metadata": {},
     "output_type": "display_data"
    },
    {
     "data": {
      "text/html": [
       "Find logs at: <code>./wandb/run-20240527_133404-y9niv9ic/logs</code>"
      ],
      "text/plain": [
       "<IPython.core.display.HTML object>"
      ]
     },
     "metadata": {},
     "output_type": "display_data"
    },
    {
     "name": "stderr",
     "output_type": "stream",
     "text": [
      "\u001b[34m\u001b[1mwandb\u001b[0m: Agent Starting Run: sfz8idw8 with config:\n",
      "\u001b[34m\u001b[1mwandb\u001b[0m: \thidden_depth: 3\n",
      "\u001b[34m\u001b[1mwandb\u001b[0m: \thidden_size: 20\n",
      "\u001b[34m\u001b[1mwandb\u001b[0m: \tlr: 0.01\n",
      "\u001b[34m\u001b[1mwandb\u001b[0m: \tnum_epochs: 200\n",
      "Failed to detect the name of this notebook, you can set it manually with the WANDB_NOTEBOOK_NAME environment variable to enable code saving.\n"
     ]
    },
    {
     "data": {
      "text/html": [
       "wandb version 0.17.0 is available!  To upgrade, please run:\n",
       " $ pip install wandb --upgrade"
      ],
      "text/plain": [
       "<IPython.core.display.HTML object>"
      ]
     },
     "metadata": {},
     "output_type": "display_data"
    },
    {
     "data": {
      "text/html": [
       "Tracking run with wandb version 0.16.6"
      ],
      "text/plain": [
       "<IPython.core.display.HTML object>"
      ]
     },
     "metadata": {},
     "output_type": "display_data"
    },
    {
     "data": {
      "text/html": [
       "Run data is saved locally in <code>/home/jarl/UniStuff/ADL/ADL/assignment_3/wandb/run-20240527_133426-sfz8idw8</code>"
      ],
      "text/plain": [
       "<IPython.core.display.HTML object>"
      ]
     },
     "metadata": {},
     "output_type": "display_data"
    },
    {
     "data": {
      "text/html": [
       "Syncing run <strong><a href='https://wandb.ai/jarlku/lstm-sweep/runs/sfz8idw8' target=\"_blank\">deep-sweep-4</a></strong> to <a href='https://wandb.ai/jarlku/lstm-sweep' target=\"_blank\">Weights & Biases</a> (<a href='https://wandb.me/run' target=\"_blank\">docs</a>)<br/>Sweep page: <a href='https://wandb.ai/jarlku/lstm-sweep/sweeps/qj063yx9' target=\"_blank\">https://wandb.ai/jarlku/lstm-sweep/sweeps/qj063yx9</a>"
      ],
      "text/plain": [
       "<IPython.core.display.HTML object>"
      ]
     },
     "metadata": {},
     "output_type": "display_data"
    },
    {
     "data": {
      "text/html": [
       " View project at <a href='https://wandb.ai/jarlku/lstm-sweep' target=\"_blank\">https://wandb.ai/jarlku/lstm-sweep</a>"
      ],
      "text/plain": [
       "<IPython.core.display.HTML object>"
      ]
     },
     "metadata": {},
     "output_type": "display_data"
    },
    {
     "data": {
      "text/html": [
       " View sweep at <a href='https://wandb.ai/jarlku/lstm-sweep/sweeps/qj063yx9' target=\"_blank\">https://wandb.ai/jarlku/lstm-sweep/sweeps/qj063yx9</a>"
      ],
      "text/plain": [
       "<IPython.core.display.HTML object>"
      ]
     },
     "metadata": {},
     "output_type": "display_data"
    },
    {
     "data": {
      "text/html": [
       " View run at <a href='https://wandb.ai/jarlku/lstm-sweep/runs/sfz8idw8' target=\"_blank\">https://wandb.ai/jarlku/lstm-sweep/runs/sfz8idw8</a>"
      ],
      "text/plain": [
       "<IPython.core.display.HTML object>"
      ]
     },
     "metadata": {},
     "output_type": "display_data"
    },
    {
     "name": "stdout",
     "output_type": "stream",
     "text": [
      "Epoch [10/200], Loss: 0.3178\n",
      "Epoch [20/200], Loss: 0.3197\n",
      "Epoch [30/200], Loss: 0.3589\n",
      "Epoch [40/200], Loss: 0.3510\n",
      "Epoch [50/200], Loss: 0.3185\n",
      "Epoch [60/200], Loss: 0.3192\n",
      "Epoch [70/200], Loss: 0.3222\n",
      "Epoch [80/200], Loss: 0.3224\n",
      "Epoch [90/200], Loss: 0.3529\n",
      "Epoch [100/200], Loss: 0.3531\n",
      "Epoch [110/200], Loss: 0.3540\n",
      "Epoch [120/200], Loss: 0.3529\n",
      "Epoch [130/200], Loss: 0.3200\n",
      "Epoch [140/200], Loss: 0.3531\n",
      "Epoch [150/200], Loss: 0.3185\n",
      "Epoch [160/200], Loss: 0.3176\n",
      "Epoch [170/200], Loss: 0.3204\n",
      "Epoch [180/200], Loss: 0.3228\n",
      "Epoch [190/200], Loss: 0.3202\n",
      "Epoch [200/200], Loss: 0.3197\n"
     ]
    },
    {
     "data": {
      "text/html": [
       "<style>\n",
       "    table.wandb td:nth-child(1) { padding: 0 10px; text-align: left ; width: auto;} td:nth-child(2) {text-align: left ; width: 100%}\n",
       "    .wandb-row { display: flex; flex-direction: row; flex-wrap: wrap; justify-content: flex-start; width: 100% }\n",
       "    .wandb-col { display: flex; flex-direction: column; flex-basis: 100%; flex: 1; padding: 10px; }\n",
       "    </style>\n",
       "<div class=\"wandb-row\"><div class=\"wandb-col\"><h3>Run history:</h3><br/><table class=\"wandb\"><tr><td>loss</td><td>▅▁▁▁█▅▁▅▁▅▄▁▂▁▂█▁▁▁▅▁▁▂▅█▅▄▁▁▁▅▅▁▁▁▂▁▂▁▁</td></tr><tr><td>val_f1</td><td>▁▁▁▁▁▁▁▁▁▁▁▁▁▁▁▁</td></tr><tr><td>val_loss</td><td>▇▃▇▃▃▃▃▃█▅▇▁▅▅▃▄</td></tr></table><br/></div><div class=\"wandb-col\"><h3>Run summary:</h3><br/><table class=\"wandb\"><tr><td>loss</td><td>0.31968</td></tr><tr><td>val_f1</td><td>0.0</td></tr><tr><td>val_loss</td><td>0.3253</td></tr></table><br/></div></div>"
      ],
      "text/plain": [
       "<IPython.core.display.HTML object>"
      ]
     },
     "metadata": {},
     "output_type": "display_data"
    },
    {
     "data": {
      "text/html": [
       " View run <strong style=\"color:#cdcd00\">deep-sweep-4</strong> at: <a href='https://wandb.ai/jarlku/lstm-sweep/runs/sfz8idw8' target=\"_blank\">https://wandb.ai/jarlku/lstm-sweep/runs/sfz8idw8</a><br/> View project at: <a href='https://wandb.ai/jarlku/lstm-sweep' target=\"_blank\">https://wandb.ai/jarlku/lstm-sweep</a><br/>Synced 6 W&B file(s), 0 media file(s), 0 artifact file(s) and 0 other file(s)"
      ],
      "text/plain": [
       "<IPython.core.display.HTML object>"
      ]
     },
     "metadata": {},
     "output_type": "display_data"
    },
    {
     "data": {
      "text/html": [
       "Find logs at: <code>./wandb/run-20240527_133426-sfz8idw8/logs</code>"
      ],
      "text/plain": [
       "<IPython.core.display.HTML object>"
      ]
     },
     "metadata": {},
     "output_type": "display_data"
    },
    {
     "name": "stderr",
     "output_type": "stream",
     "text": [
      "\u001b[34m\u001b[1mwandb\u001b[0m: Sweep Agent: Waiting for job.\n",
      "\u001b[34m\u001b[1mwandb\u001b[0m: Job received.\n",
      "\u001b[34m\u001b[1mwandb\u001b[0m: Agent Starting Run: 0jsbbbco with config:\n",
      "\u001b[34m\u001b[1mwandb\u001b[0m: \thidden_depth: 3\n",
      "\u001b[34m\u001b[1mwandb\u001b[0m: \thidden_size: 3\n",
      "\u001b[34m\u001b[1mwandb\u001b[0m: \tlr: 0.01\n",
      "\u001b[34m\u001b[1mwandb\u001b[0m: \tnum_epochs: 100\n",
      "Failed to detect the name of this notebook, you can set it manually with the WANDB_NOTEBOOK_NAME environment variable to enable code saving.\n"
     ]
    },
    {
     "data": {
      "text/html": [
       "wandb version 0.17.0 is available!  To upgrade, please run:\n",
       " $ pip install wandb --upgrade"
      ],
      "text/plain": [
       "<IPython.core.display.HTML object>"
      ]
     },
     "metadata": {},
     "output_type": "display_data"
    },
    {
     "data": {
      "text/html": [
       "Tracking run with wandb version 0.16.6"
      ],
      "text/plain": [
       "<IPython.core.display.HTML object>"
      ]
     },
     "metadata": {},
     "output_type": "display_data"
    },
    {
     "data": {
      "text/html": [
       "Run data is saved locally in <code>/home/jarl/UniStuff/ADL/ADL/assignment_3/wandb/run-20240527_133538-0jsbbbco</code>"
      ],
      "text/plain": [
       "<IPython.core.display.HTML object>"
      ]
     },
     "metadata": {},
     "output_type": "display_data"
    },
    {
     "data": {
      "text/html": [
       "Syncing run <strong><a href='https://wandb.ai/jarlku/lstm-sweep/runs/0jsbbbco' target=\"_blank\">mild-sweep-5</a></strong> to <a href='https://wandb.ai/jarlku/lstm-sweep' target=\"_blank\">Weights & Biases</a> (<a href='https://wandb.me/run' target=\"_blank\">docs</a>)<br/>Sweep page: <a href='https://wandb.ai/jarlku/lstm-sweep/sweeps/qj063yx9' target=\"_blank\">https://wandb.ai/jarlku/lstm-sweep/sweeps/qj063yx9</a>"
      ],
      "text/plain": [
       "<IPython.core.display.HTML object>"
      ]
     },
     "metadata": {},
     "output_type": "display_data"
    },
    {
     "data": {
      "text/html": [
       " View project at <a href='https://wandb.ai/jarlku/lstm-sweep' target=\"_blank\">https://wandb.ai/jarlku/lstm-sweep</a>"
      ],
      "text/plain": [
       "<IPython.core.display.HTML object>"
      ]
     },
     "metadata": {},
     "output_type": "display_data"
    },
    {
     "data": {
      "text/html": [
       " View sweep at <a href='https://wandb.ai/jarlku/lstm-sweep/sweeps/qj063yx9' target=\"_blank\">https://wandb.ai/jarlku/lstm-sweep/sweeps/qj063yx9</a>"
      ],
      "text/plain": [
       "<IPython.core.display.HTML object>"
      ]
     },
     "metadata": {},
     "output_type": "display_data"
    },
    {
     "data": {
      "text/html": [
       " View run at <a href='https://wandb.ai/jarlku/lstm-sweep/runs/0jsbbbco' target=\"_blank\">https://wandb.ai/jarlku/lstm-sweep/runs/0jsbbbco</a>"
      ],
      "text/plain": [
       "<IPython.core.display.HTML object>"
      ]
     },
     "metadata": {},
     "output_type": "display_data"
    },
    {
     "name": "stdout",
     "output_type": "stream",
     "text": [
      "Epoch [10/100], Loss: 0.3184\n",
      "Epoch [20/100], Loss: 0.3183\n",
      "Epoch [30/100], Loss: 0.3197\n",
      "Epoch [40/100], Loss: 0.3529\n",
      "Epoch [50/100], Loss: 0.3521\n",
      "Epoch [60/100], Loss: 0.3208\n",
      "Epoch [70/100], Loss: 0.3184\n",
      "Epoch [80/100], Loss: 0.3190\n",
      "Epoch [90/100], Loss: 0.3539\n",
      "Epoch [100/100], Loss: 0.3199\n"
     ]
    },
    {
     "data": {
      "text/html": [
       "<style>\n",
       "    table.wandb td:nth-child(1) { padding: 0 10px; text-align: left ; width: auto;} td:nth-child(2) {text-align: left ; width: 100%}\n",
       "    .wandb-row { display: flex; flex-direction: row; flex-wrap: wrap; justify-content: flex-start; width: 100% }\n",
       "    .wandb-col { display: flex; flex-direction: column; flex-basis: 100%; flex: 1; padding: 10px; }\n",
       "    </style>\n",
       "<div class=\"wandb-row\"><div class=\"wandb-col\"><h3>Run history:</h3><br/><table class=\"wandb\"><tr><td>loss</td><td>█▂▁▁▂▁▁▁▁▁▂▁▂▂▂▁▂▁▁▁▁▁▁▂▁▂▁▁▂▁▁▂▁▁▂▁▁▂▁▁</td></tr><tr><td>val_f1</td><td>▁▁▁▁▁▁▁▁▁▁▁▁▁▁▁▁</td></tr><tr><td>val_loss</td><td>▅▂▅▂▇▅▄█▅▁▄▆▄▅▂▂</td></tr></table><br/></div><div class=\"wandb-col\"><h3>Run summary:</h3><br/><table class=\"wandb\"><tr><td>loss</td><td>0.31992</td></tr><tr><td>val_f1</td><td>0.0</td></tr><tr><td>val_loss</td><td>0.22325</td></tr></table><br/></div></div>"
      ],
      "text/plain": [
       "<IPython.core.display.HTML object>"
      ]
     },
     "metadata": {},
     "output_type": "display_data"
    },
    {
     "data": {
      "text/html": [
       " View run <strong style=\"color:#cdcd00\">mild-sweep-5</strong> at: <a href='https://wandb.ai/jarlku/lstm-sweep/runs/0jsbbbco' target=\"_blank\">https://wandb.ai/jarlku/lstm-sweep/runs/0jsbbbco</a><br/> View project at: <a href='https://wandb.ai/jarlku/lstm-sweep' target=\"_blank\">https://wandb.ai/jarlku/lstm-sweep</a><br/>Synced 6 W&B file(s), 0 media file(s), 0 artifact file(s) and 0 other file(s)"
      ],
      "text/plain": [
       "<IPython.core.display.HTML object>"
      ]
     },
     "metadata": {},
     "output_type": "display_data"
    },
    {
     "data": {
      "text/html": [
       "Find logs at: <code>./wandb/run-20240527_133538-0jsbbbco/logs</code>"
      ],
      "text/plain": [
       "<IPython.core.display.HTML object>"
      ]
     },
     "metadata": {},
     "output_type": "display_data"
    },
    {
     "name": "stderr",
     "output_type": "stream",
     "text": [
      "\u001b[34m\u001b[1mwandb\u001b[0m: Agent Starting Run: vy70d7gj with config:\n",
      "\u001b[34m\u001b[1mwandb\u001b[0m: \thidden_depth: 1\n",
      "\u001b[34m\u001b[1mwandb\u001b[0m: \thidden_size: 3\n",
      "\u001b[34m\u001b[1mwandb\u001b[0m: \tlr: 0.01\n",
      "\u001b[34m\u001b[1mwandb\u001b[0m: \tnum_epochs: 300\n",
      "Failed to detect the name of this notebook, you can set it manually with the WANDB_NOTEBOOK_NAME environment variable to enable code saving.\n"
     ]
    },
    {
     "data": {
      "text/html": [
       "wandb version 0.17.0 is available!  To upgrade, please run:\n",
       " $ pip install wandb --upgrade"
      ],
      "text/plain": [
       "<IPython.core.display.HTML object>"
      ]
     },
     "metadata": {},
     "output_type": "display_data"
    },
    {
     "data": {
      "text/html": [
       "Tracking run with wandb version 0.16.6"
      ],
      "text/plain": [
       "<IPython.core.display.HTML object>"
      ]
     },
     "metadata": {},
     "output_type": "display_data"
    },
    {
     "data": {
      "text/html": [
       "Run data is saved locally in <code>/home/jarl/UniStuff/ADL/ADL/assignment_3/wandb/run-20240527_133559-vy70d7gj</code>"
      ],
      "text/plain": [
       "<IPython.core.display.HTML object>"
      ]
     },
     "metadata": {},
     "output_type": "display_data"
    },
    {
     "data": {
      "text/html": [
       "Syncing run <strong><a href='https://wandb.ai/jarlku/lstm-sweep/runs/vy70d7gj' target=\"_blank\">stoic-sweep-6</a></strong> to <a href='https://wandb.ai/jarlku/lstm-sweep' target=\"_blank\">Weights & Biases</a> (<a href='https://wandb.me/run' target=\"_blank\">docs</a>)<br/>Sweep page: <a href='https://wandb.ai/jarlku/lstm-sweep/sweeps/qj063yx9' target=\"_blank\">https://wandb.ai/jarlku/lstm-sweep/sweeps/qj063yx9</a>"
      ],
      "text/plain": [
       "<IPython.core.display.HTML object>"
      ]
     },
     "metadata": {},
     "output_type": "display_data"
    },
    {
     "data": {
      "text/html": [
       " View project at <a href='https://wandb.ai/jarlku/lstm-sweep' target=\"_blank\">https://wandb.ai/jarlku/lstm-sweep</a>"
      ],
      "text/plain": [
       "<IPython.core.display.HTML object>"
      ]
     },
     "metadata": {},
     "output_type": "display_data"
    },
    {
     "data": {
      "text/html": [
       " View sweep at <a href='https://wandb.ai/jarlku/lstm-sweep/sweeps/qj063yx9' target=\"_blank\">https://wandb.ai/jarlku/lstm-sweep/sweeps/qj063yx9</a>"
      ],
      "text/plain": [
       "<IPython.core.display.HTML object>"
      ]
     },
     "metadata": {},
     "output_type": "display_data"
    },
    {
     "data": {
      "text/html": [
       " View run at <a href='https://wandb.ai/jarlku/lstm-sweep/runs/vy70d7gj' target=\"_blank\">https://wandb.ai/jarlku/lstm-sweep/runs/vy70d7gj</a>"
      ],
      "text/plain": [
       "<IPython.core.display.HTML object>"
      ]
     },
     "metadata": {},
     "output_type": "display_data"
    },
    {
     "name": "stdout",
     "output_type": "stream",
     "text": [
      "Epoch [10/300], Loss: 0.3183\n",
      "Epoch [20/300], Loss: 0.3185\n",
      "Epoch [30/300], Loss: 0.3526\n",
      "Epoch [40/300], Loss: 0.3529\n",
      "Epoch [50/300], Loss: 0.3184\n",
      "Epoch [60/300], Loss: 0.3183\n",
      "Epoch [70/300], Loss: 0.3194\n",
      "Epoch [80/300], Loss: 0.3194\n",
      "Epoch [90/300], Loss: 0.3188\n",
      "Epoch [100/300], Loss: 0.3183\n",
      "Epoch [110/300], Loss: 0.2137\n",
      "Epoch [120/300], Loss: 0.1625\n",
      "Epoch [130/300], Loss: 0.1562\n",
      "Epoch [140/300], Loss: 0.1675\n",
      "Epoch [150/300], Loss: 0.1404\n",
      "Epoch [160/300], Loss: 0.1369\n",
      "Epoch [170/300], Loss: 0.1241\n",
      "Epoch [180/300], Loss: 0.1247\n",
      "Epoch [190/300], Loss: 0.1454\n",
      "Epoch [200/300], Loss: 0.1236\n",
      "Epoch [210/300], Loss: 0.1340\n",
      "Epoch [220/300], Loss: 0.1493\n",
      "Epoch [230/300], Loss: 0.1256\n",
      "Epoch [240/300], Loss: 0.1308\n",
      "Epoch [250/300], Loss: 0.1558\n",
      "Epoch [260/300], Loss: 0.1355\n",
      "Epoch [270/300], Loss: 0.1256\n",
      "Epoch [280/300], Loss: 0.1149\n",
      "Epoch [290/300], Loss: 0.1143\n",
      "Epoch [300/300], Loss: 0.1148\n"
     ]
    },
    {
     "data": {
      "text/html": [
       "<style>\n",
       "    table.wandb td:nth-child(1) { padding: 0 10px; text-align: left ; width: auto;} td:nth-child(2) {text-align: left ; width: 100%}\n",
       "    .wandb-row { display: flex; flex-direction: row; flex-wrap: wrap; justify-content: flex-start; width: 100% }\n",
       "    .wandb-col { display: flex; flex-direction: column; flex-basis: 100%; flex: 1; padding: 10px; }\n",
       "    </style>\n",
       "<div class=\"wandb-row\"><div class=\"wandb-col\"><h3>Run history:</h3><br/><table class=\"wandb\"><tr><td>loss</td><td>█▇██▇███▇▇▇▇█▇▄▃▂▂▃▂▂▂▁▂▁▂▁▁▁▂▂▃▁▂▂▁▁▁▁▁</td></tr><tr><td>val_f1</td><td>▃▄▁▄▂▃▅▅▅▅▆▆▇▇██</td></tr><tr><td>val_loss</td><td>▇▅▃▃▅▃▅▃▇▄▄▆█▁▅▃</td></tr></table><br/></div><div class=\"wandb-col\"><h3>Run summary:</h3><br/><table class=\"wandb\"><tr><td>loss</td><td>0.11476</td></tr><tr><td>val_f1</td><td>0.71685</td></tr><tr><td>val_loss</td><td>0.09049</td></tr></table><br/></div></div>"
      ],
      "text/plain": [
       "<IPython.core.display.HTML object>"
      ]
     },
     "metadata": {},
     "output_type": "display_data"
    },
    {
     "data": {
      "text/html": [
       " View run <strong style=\"color:#cdcd00\">stoic-sweep-6</strong> at: <a href='https://wandb.ai/jarlku/lstm-sweep/runs/vy70d7gj' target=\"_blank\">https://wandb.ai/jarlku/lstm-sweep/runs/vy70d7gj</a><br/> View project at: <a href='https://wandb.ai/jarlku/lstm-sweep' target=\"_blank\">https://wandb.ai/jarlku/lstm-sweep</a><br/>Synced 6 W&B file(s), 0 media file(s), 0 artifact file(s) and 0 other file(s)"
      ],
      "text/plain": [
       "<IPython.core.display.HTML object>"
      ]
     },
     "metadata": {},
     "output_type": "display_data"
    },
    {
     "data": {
      "text/html": [
       "Find logs at: <code>./wandb/run-20240527_133559-vy70d7gj/logs</code>"
      ],
      "text/plain": [
       "<IPython.core.display.HTML object>"
      ]
     },
     "metadata": {},
     "output_type": "display_data"
    },
    {
     "name": "stderr",
     "output_type": "stream",
     "text": [
      "\u001b[34m\u001b[1mwandb\u001b[0m: Agent Starting Run: u1liqlku with config:\n",
      "\u001b[34m\u001b[1mwandb\u001b[0m: \thidden_depth: 2\n",
      "\u001b[34m\u001b[1mwandb\u001b[0m: \thidden_size: 5\n",
      "\u001b[34m\u001b[1mwandb\u001b[0m: \tlr: 0.001\n",
      "\u001b[34m\u001b[1mwandb\u001b[0m: \tnum_epochs: 200\n",
      "Failed to detect the name of this notebook, you can set it manually with the WANDB_NOTEBOOK_NAME environment variable to enable code saving.\n"
     ]
    },
    {
     "data": {
      "text/html": [
       "wandb version 0.17.0 is available!  To upgrade, please run:\n",
       " $ pip install wandb --upgrade"
      ],
      "text/plain": [
       "<IPython.core.display.HTML object>"
      ]
     },
     "metadata": {},
     "output_type": "display_data"
    },
    {
     "data": {
      "text/html": [
       "Tracking run with wandb version 0.16.6"
      ],
      "text/plain": [
       "<IPython.core.display.HTML object>"
      ]
     },
     "metadata": {},
     "output_type": "display_data"
    },
    {
     "data": {
      "text/html": [
       "Run data is saved locally in <code>/home/jarl/UniStuff/ADL/ADL/assignment_3/wandb/run-20240527_133626-u1liqlku</code>"
      ],
      "text/plain": [
       "<IPython.core.display.HTML object>"
      ]
     },
     "metadata": {},
     "output_type": "display_data"
    },
    {
     "data": {
      "text/html": [
       "Syncing run <strong><a href='https://wandb.ai/jarlku/lstm-sweep/runs/u1liqlku' target=\"_blank\">swept-sweep-7</a></strong> to <a href='https://wandb.ai/jarlku/lstm-sweep' target=\"_blank\">Weights & Biases</a> (<a href='https://wandb.me/run' target=\"_blank\">docs</a>)<br/>Sweep page: <a href='https://wandb.ai/jarlku/lstm-sweep/sweeps/qj063yx9' target=\"_blank\">https://wandb.ai/jarlku/lstm-sweep/sweeps/qj063yx9</a>"
      ],
      "text/plain": [
       "<IPython.core.display.HTML object>"
      ]
     },
     "metadata": {},
     "output_type": "display_data"
    },
    {
     "data": {
      "text/html": [
       " View project at <a href='https://wandb.ai/jarlku/lstm-sweep' target=\"_blank\">https://wandb.ai/jarlku/lstm-sweep</a>"
      ],
      "text/plain": [
       "<IPython.core.display.HTML object>"
      ]
     },
     "metadata": {},
     "output_type": "display_data"
    },
    {
     "data": {
      "text/html": [
       " View sweep at <a href='https://wandb.ai/jarlku/lstm-sweep/sweeps/qj063yx9' target=\"_blank\">https://wandb.ai/jarlku/lstm-sweep/sweeps/qj063yx9</a>"
      ],
      "text/plain": [
       "<IPython.core.display.HTML object>"
      ]
     },
     "metadata": {},
     "output_type": "display_data"
    },
    {
     "data": {
      "text/html": [
       " View run at <a href='https://wandb.ai/jarlku/lstm-sweep/runs/u1liqlku' target=\"_blank\">https://wandb.ai/jarlku/lstm-sweep/runs/u1liqlku</a>"
      ],
      "text/plain": [
       "<IPython.core.display.HTML object>"
      ]
     },
     "metadata": {},
     "output_type": "display_data"
    },
    {
     "name": "stdout",
     "output_type": "stream",
     "text": [
      "Epoch [10/200], Loss: 0.4289\n",
      "Epoch [20/200], Loss: 0.3364\n",
      "Epoch [30/200], Loss: 0.3227\n",
      "Epoch [40/200], Loss: 0.3192\n",
      "Epoch [50/200], Loss: 0.3185\n",
      "Epoch [60/200], Loss: 0.3521\n",
      "Epoch [70/200], Loss: 0.3524\n",
      "Epoch [80/200], Loss: 0.3183\n",
      "Epoch [90/200], Loss: 0.3526\n",
      "Epoch [100/200], Loss: 0.3189\n",
      "Epoch [110/200], Loss: 0.3183\n",
      "Epoch [120/200], Loss: 0.3183\n",
      "Epoch [130/200], Loss: 0.3183\n",
      "Epoch [140/200], Loss: 0.3183\n",
      "Epoch [150/200], Loss: 0.3185\n",
      "Epoch [160/200], Loss: 0.3183\n",
      "Epoch [170/200], Loss: 0.3184\n",
      "Epoch [180/200], Loss: 0.3184\n",
      "Epoch [190/200], Loss: 0.3520\n",
      "Epoch [200/200], Loss: 0.3187\n"
     ]
    },
    {
     "data": {
      "text/html": [
       "<style>\n",
       "    table.wandb td:nth-child(1) { padding: 0 10px; text-align: left ; width: auto;} td:nth-child(2) {text-align: left ; width: 100%}\n",
       "    .wandb-row { display: flex; flex-direction: row; flex-wrap: wrap; justify-content: flex-start; width: 100% }\n",
       "    .wandb-col { display: flex; flex-direction: column; flex-basis: 100%; flex: 1; padding: 10px; }\n",
       "    </style>\n",
       "<div class=\"wandb-row\"><div class=\"wandb-col\"><h3>Run history:</h3><br/><table class=\"wandb\"><tr><td>loss</td><td>█▆▃▂▁▁▁▁▁▁▂▂▁▂▁▁▁▁▁▂▁▁▁▁▂▁▂▂▁▁▂▁▂▁▁▁▂▂▂▁</td></tr><tr><td>val_f1</td><td>▁▁▁▁▁▁▁▁▁▁▁▁▁▁▁▁</td></tr><tr><td>val_loss</td><td>▁▄▂▃▄▄▂█▂▆▃▃▅▃▅▆</td></tr></table><br/></div><div class=\"wandb-col\"><h3>Run summary:</h3><br/><table class=\"wandb\"><tr><td>loss</td><td>0.31866</td></tr><tr><td>val_f1</td><td>0.0</td></tr><tr><td>val_loss</td><td>0.43197</td></tr></table><br/></div></div>"
      ],
      "text/plain": [
       "<IPython.core.display.HTML object>"
      ]
     },
     "metadata": {},
     "output_type": "display_data"
    },
    {
     "data": {
      "text/html": [
       " View run <strong style=\"color:#cdcd00\">swept-sweep-7</strong> at: <a href='https://wandb.ai/jarlku/lstm-sweep/runs/u1liqlku' target=\"_blank\">https://wandb.ai/jarlku/lstm-sweep/runs/u1liqlku</a><br/> View project at: <a href='https://wandb.ai/jarlku/lstm-sweep' target=\"_blank\">https://wandb.ai/jarlku/lstm-sweep</a><br/>Synced 6 W&B file(s), 0 media file(s), 0 artifact file(s) and 0 other file(s)"
      ],
      "text/plain": [
       "<IPython.core.display.HTML object>"
      ]
     },
     "metadata": {},
     "output_type": "display_data"
    },
    {
     "data": {
      "text/html": [
       "Find logs at: <code>./wandb/run-20240527_133626-u1liqlku/logs</code>"
      ],
      "text/plain": [
       "<IPython.core.display.HTML object>"
      ]
     },
     "metadata": {},
     "output_type": "display_data"
    },
    {
     "name": "stderr",
     "output_type": "stream",
     "text": [
      "\u001b[34m\u001b[1mwandb\u001b[0m: Agent Starting Run: ou01lqbv with config:\n",
      "\u001b[34m\u001b[1mwandb\u001b[0m: \thidden_depth: 1\n",
      "\u001b[34m\u001b[1mwandb\u001b[0m: \thidden_size: 3\n",
      "\u001b[34m\u001b[1mwandb\u001b[0m: \tlr: 0.0001\n",
      "\u001b[34m\u001b[1mwandb\u001b[0m: \tnum_epochs: 100\n",
      "Failed to detect the name of this notebook, you can set it manually with the WANDB_NOTEBOOK_NAME environment variable to enable code saving.\n"
     ]
    },
    {
     "data": {
      "text/html": [
       "wandb version 0.17.0 is available!  To upgrade, please run:\n",
       " $ pip install wandb --upgrade"
      ],
      "text/plain": [
       "<IPython.core.display.HTML object>"
      ]
     },
     "metadata": {},
     "output_type": "display_data"
    },
    {
     "data": {
      "text/html": [
       "Tracking run with wandb version 0.16.6"
      ],
      "text/plain": [
       "<IPython.core.display.HTML object>"
      ]
     },
     "metadata": {},
     "output_type": "display_data"
    },
    {
     "data": {
      "text/html": [
       "Run data is saved locally in <code>/home/jarl/UniStuff/ADL/ADL/assignment_3/wandb/run-20240527_133651-ou01lqbv</code>"
      ],
      "text/plain": [
       "<IPython.core.display.HTML object>"
      ]
     },
     "metadata": {},
     "output_type": "display_data"
    },
    {
     "data": {
      "text/html": [
       "Syncing run <strong><a href='https://wandb.ai/jarlku/lstm-sweep/runs/ou01lqbv' target=\"_blank\">copper-sweep-8</a></strong> to <a href='https://wandb.ai/jarlku/lstm-sweep' target=\"_blank\">Weights & Biases</a> (<a href='https://wandb.me/run' target=\"_blank\">docs</a>)<br/>Sweep page: <a href='https://wandb.ai/jarlku/lstm-sweep/sweeps/qj063yx9' target=\"_blank\">https://wandb.ai/jarlku/lstm-sweep/sweeps/qj063yx9</a>"
      ],
      "text/plain": [
       "<IPython.core.display.HTML object>"
      ]
     },
     "metadata": {},
     "output_type": "display_data"
    },
    {
     "data": {
      "text/html": [
       " View project at <a href='https://wandb.ai/jarlku/lstm-sweep' target=\"_blank\">https://wandb.ai/jarlku/lstm-sweep</a>"
      ],
      "text/plain": [
       "<IPython.core.display.HTML object>"
      ]
     },
     "metadata": {},
     "output_type": "display_data"
    },
    {
     "data": {
      "text/html": [
       " View sweep at <a href='https://wandb.ai/jarlku/lstm-sweep/sweeps/qj063yx9' target=\"_blank\">https://wandb.ai/jarlku/lstm-sweep/sweeps/qj063yx9</a>"
      ],
      "text/plain": [
       "<IPython.core.display.HTML object>"
      ]
     },
     "metadata": {},
     "output_type": "display_data"
    },
    {
     "data": {
      "text/html": [
       " View run at <a href='https://wandb.ai/jarlku/lstm-sweep/runs/ou01lqbv' target=\"_blank\">https://wandb.ai/jarlku/lstm-sweep/runs/ou01lqbv</a>"
      ],
      "text/plain": [
       "<IPython.core.display.HTML object>"
      ]
     },
     "metadata": {},
     "output_type": "display_data"
    },
    {
     "name": "stdout",
     "output_type": "stream",
     "text": [
      "Epoch [10/100], Loss: 0.6325\n",
      "Epoch [20/100], Loss: 0.6078\n",
      "Epoch [30/100], Loss: 0.5898\n",
      "Epoch [40/100], Loss: 0.5649\n",
      "Epoch [50/100], Loss: 0.5598\n",
      "Epoch [60/100], Loss: 0.5453\n",
      "Epoch [70/100], Loss: 0.5160\n",
      "Epoch [80/100], Loss: 0.5028\n",
      "Epoch [90/100], Loss: 0.4910\n",
      "Epoch [100/100], Loss: 0.4805\n"
     ]
    },
    {
     "data": {
      "text/html": [
       "<style>\n",
       "    table.wandb td:nth-child(1) { padding: 0 10px; text-align: left ; width: auto;} td:nth-child(2) {text-align: left ; width: 100%}\n",
       "    .wandb-row { display: flex; flex-direction: row; flex-wrap: wrap; justify-content: flex-start; width: 100% }\n",
       "    .wandb-col { display: flex; flex-direction: column; flex-basis: 100%; flex: 1; padding: 10px; }\n",
       "    </style>\n",
       "<div class=\"wandb-row\"><div class=\"wandb-col\"><h3>Run history:</h3><br/><table class=\"wandb\"><tr><td>loss</td><td>██▇▇▇▇▆▆▆▆▆▅▅▅▅▅▄▄▄▄▄▃▃▃▃▃▃▂▂▂▂▂▂▂▂▂▂▁▁▁</td></tr><tr><td>val_f1</td><td>▁▁▁▁▁▁▁▁▁▁▁▁▁▁▁▁</td></tr><tr><td>val_loss</td><td>█▂▃▆▃▅▂▂▁▂▃▂▂▄▄▁</td></tr></table><br/></div><div class=\"wandb-col\"><h3>Run summary:</h3><br/><table class=\"wandb\"><tr><td>loss</td><td>0.48046</td></tr><tr><td>val_f1</td><td>0.0</td></tr><tr><td>val_loss</td><td>0.4489</td></tr></table><br/></div></div>"
      ],
      "text/plain": [
       "<IPython.core.display.HTML object>"
      ]
     },
     "metadata": {},
     "output_type": "display_data"
    },
    {
     "data": {
      "text/html": [
       " View run <strong style=\"color:#cdcd00\">copper-sweep-8</strong> at: <a href='https://wandb.ai/jarlku/lstm-sweep/runs/ou01lqbv' target=\"_blank\">https://wandb.ai/jarlku/lstm-sweep/runs/ou01lqbv</a><br/> View project at: <a href='https://wandb.ai/jarlku/lstm-sweep' target=\"_blank\">https://wandb.ai/jarlku/lstm-sweep</a><br/>Synced 6 W&B file(s), 0 media file(s), 0 artifact file(s) and 0 other file(s)"
      ],
      "text/plain": [
       "<IPython.core.display.HTML object>"
      ]
     },
     "metadata": {},
     "output_type": "display_data"
    },
    {
     "data": {
      "text/html": [
       "Find logs at: <code>./wandb/run-20240527_133651-ou01lqbv/logs</code>"
      ],
      "text/plain": [
       "<IPython.core.display.HTML object>"
      ]
     },
     "metadata": {},
     "output_type": "display_data"
    },
    {
     "name": "stderr",
     "output_type": "stream",
     "text": [
      "\u001b[34m\u001b[1mwandb\u001b[0m: Agent Starting Run: fq9n2jf9 with config:\n",
      "\u001b[34m\u001b[1mwandb\u001b[0m: \thidden_depth: 3\n",
      "\u001b[34m\u001b[1mwandb\u001b[0m: \thidden_size: 10\n",
      "\u001b[34m\u001b[1mwandb\u001b[0m: \tlr: 0.001\n",
      "\u001b[34m\u001b[1mwandb\u001b[0m: \tnum_epochs: 200\n",
      "Failed to detect the name of this notebook, you can set it manually with the WANDB_NOTEBOOK_NAME environment variable to enable code saving.\n"
     ]
    },
    {
     "data": {
      "text/html": [
       "wandb version 0.17.0 is available!  To upgrade, please run:\n",
       " $ pip install wandb --upgrade"
      ],
      "text/plain": [
       "<IPython.core.display.HTML object>"
      ]
     },
     "metadata": {},
     "output_type": "display_data"
    },
    {
     "data": {
      "text/html": [
       "Tracking run with wandb version 0.16.6"
      ],
      "text/plain": [
       "<IPython.core.display.HTML object>"
      ]
     },
     "metadata": {},
     "output_type": "display_data"
    },
    {
     "data": {
      "text/html": [
       "Run data is saved locally in <code>/home/jarl/UniStuff/ADL/ADL/assignment_3/wandb/run-20240527_133708-fq9n2jf9</code>"
      ],
      "text/plain": [
       "<IPython.core.display.HTML object>"
      ]
     },
     "metadata": {},
     "output_type": "display_data"
    },
    {
     "data": {
      "text/html": [
       "Syncing run <strong><a href='https://wandb.ai/jarlku/lstm-sweep/runs/fq9n2jf9' target=\"_blank\">rural-sweep-9</a></strong> to <a href='https://wandb.ai/jarlku/lstm-sweep' target=\"_blank\">Weights & Biases</a> (<a href='https://wandb.me/run' target=\"_blank\">docs</a>)<br/>Sweep page: <a href='https://wandb.ai/jarlku/lstm-sweep/sweeps/qj063yx9' target=\"_blank\">https://wandb.ai/jarlku/lstm-sweep/sweeps/qj063yx9</a>"
      ],
      "text/plain": [
       "<IPython.core.display.HTML object>"
      ]
     },
     "metadata": {},
     "output_type": "display_data"
    },
    {
     "data": {
      "text/html": [
       " View project at <a href='https://wandb.ai/jarlku/lstm-sweep' target=\"_blank\">https://wandb.ai/jarlku/lstm-sweep</a>"
      ],
      "text/plain": [
       "<IPython.core.display.HTML object>"
      ]
     },
     "metadata": {},
     "output_type": "display_data"
    },
    {
     "data": {
      "text/html": [
       " View sweep at <a href='https://wandb.ai/jarlku/lstm-sweep/sweeps/qj063yx9' target=\"_blank\">https://wandb.ai/jarlku/lstm-sweep/sweeps/qj063yx9</a>"
      ],
      "text/plain": [
       "<IPython.core.display.HTML object>"
      ]
     },
     "metadata": {},
     "output_type": "display_data"
    },
    {
     "data": {
      "text/html": [
       " View run at <a href='https://wandb.ai/jarlku/lstm-sweep/runs/fq9n2jf9' target=\"_blank\">https://wandb.ai/jarlku/lstm-sweep/runs/fq9n2jf9</a>"
      ],
      "text/plain": [
       "<IPython.core.display.HTML object>"
      ]
     },
     "metadata": {},
     "output_type": "display_data"
    },
    {
     "name": "stdout",
     "output_type": "stream",
     "text": [
      "Epoch [10/200], Loss: 0.3191\n",
      "Epoch [20/200], Loss: 0.3188\n",
      "Epoch [30/200], Loss: 0.3184\n",
      "Epoch [40/200], Loss: 0.3183\n",
      "Epoch [50/200], Loss: 0.3183\n",
      "Epoch [60/200], Loss: 0.3871\n",
      "Epoch [70/200], Loss: 0.3185\n",
      "Epoch [80/200], Loss: 0.3524\n",
      "Epoch [90/200], Loss: 0.3183\n",
      "Epoch [100/200], Loss: 0.3507\n",
      "Epoch [110/200], Loss: 0.1878\n",
      "Epoch [120/200], Loss: 0.1715\n",
      "Epoch [130/200], Loss: 0.1352\n",
      "Epoch [140/200], Loss: 0.1056\n",
      "Epoch [150/200], Loss: 0.0660\n",
      "Epoch [160/200], Loss: 0.0483\n",
      "Epoch [170/200], Loss: 0.0672\n",
      "Epoch [180/200], Loss: 0.0337\n",
      "Epoch [190/200], Loss: 0.0185\n",
      "Epoch [200/200], Loss: 0.0134\n"
     ]
    },
    {
     "data": {
      "text/html": [
       "<style>\n",
       "    table.wandb td:nth-child(1) { padding: 0 10px; text-align: left ; width: auto;} td:nth-child(2) {text-align: left ; width: 100%}\n",
       "    .wandb-row { display: flex; flex-direction: row; flex-wrap: wrap; justify-content: flex-start; width: 100% }\n",
       "    .wandb-col { display: flex; flex-direction: column; flex-basis: 100%; flex: 1; padding: 10px; }\n",
       "    </style>\n",
       "<div class=\"wandb-row\"><div class=\"wandb-col\"><h3>Run history:</h3><br/><table class=\"wandb\"><tr><td>loss</td><td>█▅▅▄▅▄▄▅▅▅▄▄▄▄▄▄▅▄▅▅▄▃▃▃▃▂▂▂▂▂▂▁▁▁▁▁▁▁▁▁</td></tr><tr><td>val_f1</td><td>▁▁▁▁▁▁▁▁▁▁▁▁▁▁▁▁</td></tr><tr><td>val_loss</td><td>▆▁▃▃▄▃▅▅▅▅▅▁▇▆▆█</td></tr></table><br/></div><div class=\"wandb-col\"><h3>Run summary:</h3><br/><table class=\"wandb\"><tr><td>loss</td><td>0.01341</td></tr><tr><td>val_f1</td><td>0.0</td></tr><tr><td>val_loss</td><td>0.60376</td></tr></table><br/></div></div>"
      ],
      "text/plain": [
       "<IPython.core.display.HTML object>"
      ]
     },
     "metadata": {},
     "output_type": "display_data"
    },
    {
     "data": {
      "text/html": [
       " View run <strong style=\"color:#cdcd00\">rural-sweep-9</strong> at: <a href='https://wandb.ai/jarlku/lstm-sweep/runs/fq9n2jf9' target=\"_blank\">https://wandb.ai/jarlku/lstm-sweep/runs/fq9n2jf9</a><br/> View project at: <a href='https://wandb.ai/jarlku/lstm-sweep' target=\"_blank\">https://wandb.ai/jarlku/lstm-sweep</a><br/>Synced 6 W&B file(s), 0 media file(s), 0 artifact file(s) and 0 other file(s)"
      ],
      "text/plain": [
       "<IPython.core.display.HTML object>"
      ]
     },
     "metadata": {},
     "output_type": "display_data"
    },
    {
     "data": {
      "text/html": [
       "Find logs at: <code>./wandb/run-20240527_133708-fq9n2jf9/logs</code>"
      ],
      "text/plain": [
       "<IPython.core.display.HTML object>"
      ]
     },
     "metadata": {},
     "output_type": "display_data"
    },
    {
     "name": "stderr",
     "output_type": "stream",
     "text": [
      "\u001b[34m\u001b[1mwandb\u001b[0m: Agent Starting Run: w7cetz3d with config:\n",
      "\u001b[34m\u001b[1mwandb\u001b[0m: \thidden_depth: 1\n",
      "\u001b[34m\u001b[1mwandb\u001b[0m: \thidden_size: 20\n",
      "\u001b[34m\u001b[1mwandb\u001b[0m: \tlr: 0.001\n",
      "\u001b[34m\u001b[1mwandb\u001b[0m: \tnum_epochs: 200\n",
      "Failed to detect the name of this notebook, you can set it manually with the WANDB_NOTEBOOK_NAME environment variable to enable code saving.\n"
     ]
    },
    {
     "data": {
      "text/html": [
       "wandb version 0.17.0 is available!  To upgrade, please run:\n",
       " $ pip install wandb --upgrade"
      ],
      "text/plain": [
       "<IPython.core.display.HTML object>"
      ]
     },
     "metadata": {},
     "output_type": "display_data"
    },
    {
     "data": {
      "text/html": [
       "Tracking run with wandb version 0.16.6"
      ],
      "text/plain": [
       "<IPython.core.display.HTML object>"
      ]
     },
     "metadata": {},
     "output_type": "display_data"
    },
    {
     "data": {
      "text/html": [
       "Run data is saved locally in <code>/home/jarl/UniStuff/ADL/ADL/assignment_3/wandb/run-20240527_133739-w7cetz3d</code>"
      ],
      "text/plain": [
       "<IPython.core.display.HTML object>"
      ]
     },
     "metadata": {},
     "output_type": "display_data"
    },
    {
     "data": {
      "text/html": [
       "Syncing run <strong><a href='https://wandb.ai/jarlku/lstm-sweep/runs/w7cetz3d' target=\"_blank\">clean-sweep-10</a></strong> to <a href='https://wandb.ai/jarlku/lstm-sweep' target=\"_blank\">Weights & Biases</a> (<a href='https://wandb.me/run' target=\"_blank\">docs</a>)<br/>Sweep page: <a href='https://wandb.ai/jarlku/lstm-sweep/sweeps/qj063yx9' target=\"_blank\">https://wandb.ai/jarlku/lstm-sweep/sweeps/qj063yx9</a>"
      ],
      "text/plain": [
       "<IPython.core.display.HTML object>"
      ]
     },
     "metadata": {},
     "output_type": "display_data"
    },
    {
     "data": {
      "text/html": [
       " View project at <a href='https://wandb.ai/jarlku/lstm-sweep' target=\"_blank\">https://wandb.ai/jarlku/lstm-sweep</a>"
      ],
      "text/plain": [
       "<IPython.core.display.HTML object>"
      ]
     },
     "metadata": {},
     "output_type": "display_data"
    },
    {
     "data": {
      "text/html": [
       " View sweep at <a href='https://wandb.ai/jarlku/lstm-sweep/sweeps/qj063yx9' target=\"_blank\">https://wandb.ai/jarlku/lstm-sweep/sweeps/qj063yx9</a>"
      ],
      "text/plain": [
       "<IPython.core.display.HTML object>"
      ]
     },
     "metadata": {},
     "output_type": "display_data"
    },
    {
     "data": {
      "text/html": [
       " View run at <a href='https://wandb.ai/jarlku/lstm-sweep/runs/w7cetz3d' target=\"_blank\">https://wandb.ai/jarlku/lstm-sweep/runs/w7cetz3d</a>"
      ],
      "text/plain": [
       "<IPython.core.display.HTML object>"
      ]
     },
     "metadata": {},
     "output_type": "display_data"
    },
    {
     "name": "stdout",
     "output_type": "stream",
     "text": [
      "Epoch [10/200], Loss: 0.3192\n",
      "Epoch [20/200], Loss: 0.3828\n",
      "Epoch [30/200], Loss: 0.3854\n",
      "Epoch [40/200], Loss: 0.1812\n",
      "Epoch [50/200], Loss: 0.1558\n",
      "Epoch [60/200], Loss: 0.1722\n",
      "Epoch [70/200], Loss: 0.1455\n",
      "Epoch [80/200], Loss: 0.1043\n",
      "Epoch [90/200], Loss: 0.0712\n",
      "Epoch [100/200], Loss: 0.0874\n",
      "Epoch [110/200], Loss: 0.0876\n",
      "Epoch [120/200], Loss: 0.0561\n",
      "Epoch [130/200], Loss: 0.0476\n",
      "Epoch [140/200], Loss: 0.0536\n",
      "Epoch [150/200], Loss: 0.0423\n",
      "Epoch [160/200], Loss: 0.0856\n",
      "Epoch [170/200], Loss: 0.0569\n",
      "Epoch [180/200], Loss: 0.0432\n",
      "Epoch [190/200], Loss: 0.0364\n",
      "Epoch [200/200], Loss: 0.0922\n"
     ]
    },
    {
     "data": {
      "text/html": [
       "<style>\n",
       "    table.wandb td:nth-child(1) { padding: 0 10px; text-align: left ; width: auto;} td:nth-child(2) {text-align: left ; width: 100%}\n",
       "    .wandb-row { display: flex; flex-direction: row; flex-wrap: wrap; justify-content: flex-start; width: 100% }\n",
       "    .wandb-col { display: flex; flex-direction: column; flex-basis: 100%; flex: 1; padding: 10px; }\n",
       "    </style>\n",
       "<div class=\"wandb-row\"><div class=\"wandb-col\"><h3>Run history:</h3><br/><table class=\"wandb\"><tr><td>loss</td><td>█▅▅▅▅▅▅▄▃▃▃▂▂▃▂▂▂▂▂▂▂▂▂▁▁▁▂▁▁▁▃▂▁▂▁▁▁▁▁▂</td></tr><tr><td>val_f1</td><td>▁▁▁▁▁▁▁▁▁▁▁▁▁▁▁▁</td></tr><tr><td>val_loss</td><td>▁▁█▁█▃▂▃▃▂▇▄▃▃▅▅</td></tr></table><br/></div><div class=\"wandb-col\"><h3>Run summary:</h3><br/><table class=\"wandb\"><tr><td>loss</td><td>0.09219</td></tr><tr><td>val_f1</td><td>0.0</td></tr><tr><td>val_loss</td><td>0.17638</td></tr></table><br/></div></div>"
      ],
      "text/plain": [
       "<IPython.core.display.HTML object>"
      ]
     },
     "metadata": {},
     "output_type": "display_data"
    },
    {
     "data": {
      "text/html": [
       " View run <strong style=\"color:#cdcd00\">clean-sweep-10</strong> at: <a href='https://wandb.ai/jarlku/lstm-sweep/runs/w7cetz3d' target=\"_blank\">https://wandb.ai/jarlku/lstm-sweep/runs/w7cetz3d</a><br/> View project at: <a href='https://wandb.ai/jarlku/lstm-sweep' target=\"_blank\">https://wandb.ai/jarlku/lstm-sweep</a><br/>Synced 6 W&B file(s), 0 media file(s), 0 artifact file(s) and 0 other file(s)"
      ],
      "text/plain": [
       "<IPython.core.display.HTML object>"
      ]
     },
     "metadata": {},
     "output_type": "display_data"
    },
    {
     "data": {
      "text/html": [
       "Find logs at: <code>./wandb/run-20240527_133739-w7cetz3d/logs</code>"
      ],
      "text/plain": [
       "<IPython.core.display.HTML object>"
      ]
     },
     "metadata": {},
     "output_type": "display_data"
    }
   ],
   "source": [
    "wandb.agent(sweep_id, train_wandb, count=10)"
   ]
  }
 ],
 "metadata": {
  "kernelspec": {
   "display_name": "torch",
   "language": "python",
   "name": "python3"
  },
  "language_info": {
   "codemirror_mode": {
    "name": "ipython",
    "version": 3
   },
   "file_extension": ".py",
   "mimetype": "text/x-python",
   "name": "python",
   "nbconvert_exporter": "python",
   "pygments_lexer": "ipython3",
   "version": "3.12.3"
  }
 },
 "nbformat": 4,
 "nbformat_minor": 2
}
