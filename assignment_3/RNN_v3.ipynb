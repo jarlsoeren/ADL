{
 "cells": [
  {
   "cell_type": "code",
   "execution_count": 1,
   "metadata": {},
   "outputs": [],
   "source": [
    "import numpy as np\n",
    "import matplotlib.pyplot as plt\n",
    "import random"
   ]
  },
  {
   "cell_type": "markdown",
   "metadata": {},
   "source": [
    "## Create Dataset"
   ]
  },
  {
   "cell_type": "code",
   "execution_count": 2,
   "metadata": {},
   "outputs": [
    {
     "name": "stdout",
     "output_type": "stream",
     "text": [
      "Train Data Sample:\n",
      "[('', 1), ('', 1), ('aaabbbccc', 1), ('aaaaaaabbbbbbbbbb', 0), ('aaaabbbbcccc', 1), ('aaaaaabbbbbbcccccc', 1), ('aabccccccccccc', 0), ('aaaaabbbbbccccc', 1), ('aaaaaaaaabbbbbcccc', 0), ('aaaaaaaaaaaaaaaaaaab', 0), ('aaabbbccc', 1), ('aaaaaaaaaaaaabbbbbbb', 0), ('aaaabbbbcccc', 1), ('aaaaaabbbbbbcccccc', 1), ('aaaaabbbbbbbbb', 0), ('aaaaaaaaabbbbb', 0), ('abc', 1), ('aaaaabbbbbccccc', 1), ('aaaaabbbb', 0), ('aaaaaaaaabbbbbbbbb', 0), ('abc', 1), ('aaaaaabbbbbbcccccc', 1), ('aaaabbbcccc', 0), ('aaabbbccc', 1), ('aaaaaaaaaaaaaabbbb', 0), ('aaabbbbbbbbbbbbbccc', 0), ('aaaaaaaaaaaaaab', 0), ('aaaabbbbcccc', 1), ('aaaaaaaaaaaaaaaab', 0), ('aaaaabbbbbbbbb', 0), ('aaaaaaaabbbbbcccc', 0), ('bbbbbbbcccc', 0), ('abc', 1), ('aaaaaaaaaaaaaaaaaaab', 0), ('bbbbbbbb', 0), ('aaabbbccc', 1), ('abc', 1), ('aaaaaabbbbbbcccccc', 1), ('aaaaaaaaaaa', 0), ('bbbcccccccccccc', 0), ('aaabbbbbbbbbbbbbbbb', 0), ('aaaaabbbbbccccc', 1), ('aaaaabbbbbccccc', 1), ('aaaaabbbbbbbbbccc', 0), ('aaaaaaaaaaaaabbbbbbb', 0), ('aaaaabbbbbccccc', 1), ('aaaaabbb', 0), ('abc', 1), ('aaaaaaaaaaaabbbbbb', 0), ('aaaaaaaaaabbbbbb', 0), ('aaaaaaaaaaaaaaaabbbb', 0), ('aaaabbbbbbbbbbbbbb', 0), ('abc', 1), ('aaaaaaaaabbbbbb', 0), ('aaaaabbbbbccccc', 1), ('aaaaaaaaaaaab', 0), ('aaaabbbbcccc', 1), ('aaaaaabbbbbbcccccc', 1), ('aaaaaaaaabccccc', 0), ('abc', 1), ('aaaaaaaaaabbbbbb', 0), ('abc', 1), ('abc', 1), ('', 1), ('aaabbbbbbbbcccccccc', 0), ('aaaaaaaaaaaaaaaabbbb', 0), ('abbbbbbbbbcccc', 0), ('abc', 1), ('', 1), ('', 1), ('aaaaaabbbbbbbbbbbb', 0), ('aaaabbbbcccc', 1), ('aaaaaabbbbbbcccccc', 1), ('aaaaabbbbbccccc', 1), ('', 1), ('aaaaaabbbbbbcccccc', 1), ('abc', 1), ('aaaaaabbbbbbcccccc', 1), ('aaaaaabbbbbbcccccc', 1), ('aaaabbbbcccc', 1), ('abc', 1), ('aaaaaaaaaabbbbbbb', 0), ('abc', 1), ('aaaaaaaaaaaaaaaa', 0), ('', 1), ('aaaaaaaaaaabbb', 0), ('abc', 1), ('aaaabbbbbcccccccccc', 0), ('abc', 1), ('aaaaabbbbbccccc', 1), ('aaaaaaaaaaaaaaaaaaab', 0), ('aaaaabbbbbccccc', 1), ('aaaaaaaaabbbbbbbbbbb', 0), ('aaaabbbbcccc', 1), ('aaaaaaaaaaaaaaaabbb', 0), ('aaabbbccc', 1), ('aaaaaaaaaaaaaaaaabbb', 0), ('abc', 1), ('aaaaaabbbbbbcccccc', 1), ('', 1), ('aaabbbccc', 1), ('aaaaabbbbbccccc', 1), ('aaaaabbbbbccccc', 1), ('aaabbbccc', 1), ('aaaaaaaaaaaabbbbbbb', 0), ('', 1), ('aaaaaaaaaabbcccccc', 0), ('aaaaabbb', 0), ('aaaaaaaaaaaaaaaaa', 0), ('aaaaaabbbbbbcccccc', 1), ('aaaaabbbbbccccc', 1), ('abc', 1), ('aaabbbccc', 1), ('aaaaaaaaaaaaaaaaabb', 0), ('', 1), ('aaaaaaaaabbbbbbbb', 0), ('bbbbbbbbbbbbb', 0), ('', 1), ('', 1), ('aaaaaaabbbbbbbb', 0), ('', 1), ('aaaaaabbbbbbbbbbcccc', 0), ('aaaaabbbbbccccc', 1), ('', 1), ('aaaaaabbbbbbbbb', 0), ('aabbbbbbbbcccccccccc', 0), ('aaaaaaaaabbcc', 0), ('aaaaaaaaaaaaaab', 0), ('aaaaaaaaaaaabbbbbbbb', 0), ('abc', 1), ('aaaaaaaaaaaaaaaaaaab', 0), ('aaaaaaaabbcccc', 0), ('aaaaabbbbbccccc', 1), ('aaaabbbbcccc', 1), ('aaaaaaaaaaaaaaab', 0), ('aaabbbccc', 1), ('abc', 1), ('aabbbbbbbbbbbb', 0), ('aaaaabbbccccccc', 0), ('aaaaaaaaaaaaaaabbb', 0), ('aaabbbccc', 1), ('aabbbbbbbbbbbbbbbb', 0), ('aaaabbbbcccc', 1), ('abc', 1), ('abc', 1), ('aaabbbccc', 1), ('aaaabbbbcccc', 1), ('aaaaaaaaaaabbb', 0), ('', 1), ('aaaaabbbbbccccc', 1), ('aaaaaaaaabbbbbbbbbbb', 0), ('aaaabbbbcccc', 1), ('aaaabbbbbbbbcccc', 0), ('aaabbbccc', 1), ('aaaaaabbbbbbcccccc', 1), ('aaaabbcccccccccccccc', 0), ('aaaaaaaaaaaabbbb', 0), ('aaaabbbbbbbbbbbbbbb', 0), ('aaaaaaaaabbbb', 0), ('aaaaaaaaaaaaaaaaaacc', 0), ('aaaaaaaaaaaabbbbbb', 0), ('aaabbbccc', 1), ('abc', 1), ('aaabbbccc', 1), ('aaaaabbbbbccccc', 1), ('aaaabbbbbbbbbbbbbbb', 0), ('abc', 1), ('aaabbbccc', 1), ('aaaaabbbbbccccc', 1), ('', 1), ('aaaaabbbbbccccc', 1), ('aaaaaabbbbbbcccccc', 1), ('', 1), ('aaaaaaaaaaaaabbb', 0), ('aaabbbccc', 1), ('aaaaabbbbbccccc', 1), ('aaaaaaaaaaaabbb', 0), ('aaaaaaaabbbbcccccc', 0), ('', 1), ('aaaaabbbbbccccc', 1), ('aaaabbbbcccc', 1), ('aaaaaaabccccccc', 0), ('aaaaabbbbbccccc', 1), ('', 1), ('aaaabbb', 0), ('', 1), ('aaaaaaaaaaabbbbbb', 0), ('aaabbbccc', 1), ('aaaabbbbbbbbbbb', 0), ('aaabbbbbbbbbbcc', 0), ('abc', 1), ('aaaaaaaaaaaaaaaac', 0), ('aaaaaaaaaaaaaabbcccc', 0), ('aaaabbbbcccc', 1), ('aaabbbccc', 1), ('aaabbbccc', 1), ('aaabbcccccccccccccc', 0), ('aaaaaabbbbbbcccccc', 1), ('aaaaabbbbbccccc', 1), ('aaaaaaaaaccccccccc', 0), ('aaaaaaaaaaaabbbb', 0), ('aaaaaaabbbccccccc', 0), ('aaaaabbbbbbbbbbb', 0), ('aaabbbccc', 1), ('aaaabbbbcccc', 1), ('abc', 1), ('aaaaaaabbbbbbb', 0), ('aaaaaaaaaaaabbbbcccc', 0), ('aaaaaaaabbb', 0), ('aaaaabbbbb', 0), ('aaaaaaaaaaaaaaaaaaab', 0), ('abc', 1), ('aaaaaabbbbbbcccccc', 1), ('aaaaaaaaaabbbbbbb', 0), ('aaaaaaaaaabbbbbbbb', 0), ('aaaaaabbbbbbcccccc', 1), ('aaaabbb', 0), ('aaaabbbbcccc', 1), ('abc', 1), ('aaaaaabbbbbbcccccc', 1), ('abc', 1), ('', 1), ('aaaaaaaaaaaaaaaaaaa', 0), ('aaaabbbbbb', 0), ('', 1), ('aaaabbbbbbbbbbbbbbb', 0), ('aaaaaabbbbbbcccccc', 1), ('', 1), ('aaaaaaaaaaaaaaaaaaab', 0), ('aaabbbccc', 1), ('aaaaabbbbbccccc', 1), ('aaabbbccc', 1), ('aaaaaaaaaaaabbbbb', 0), ('aaaaaaaaaaaaaaaaaabb', 0), ('aaaaaaaaabbbbbbb', 0), ('aaabbbccc', 1), ('aaaaaaaaaaaaaaaaaab', 0), ('', 1), ('aaabbbccc', 1), ('abc', 1), ('aaaaaaaaabbbbbbb', 0), ('abbbbbbbbbbbbb', 0), ('aaaaaaaaabbb', 0), ('aaaabbbbcccc', 1), ('aaaaabbbbbccccc', 1), ('abc', 1), ('aaaaaaaaaaaaaaabbcc', 0), ('aaabbbccc', 1), ('abc', 1), ('aabcccccccccccccc', 0), ('', 1), ('aaaaaabbbbbbcccccc', 1), ('aaaaaaaaabbbbbbbb', 0), ('aaabbbccc', 1), ('aaaabbbbcccc', 1), ('aaabbbccc', 1), ('aaaaaabcccccc', 0), ('aaabbbccc', 1), ('aaabbbccc', 1), ('abc', 1), ('aaaaaaaaaaaaaaaabbb', 0), ('aaaaaabbbbbbbbbbbb', 0), ('aaabbbbbb', 0), ('aaabbbccc', 1), ('aaaabbbbcccc', 1), ('aaaaaaaaaaaaaaaabbbb', 0), ('aaaaaabbbbbbcccccc', 1), ('aaaaaaaaaaaaaaaab', 0), ('aaaaaaabbbbbbbbbbbb', 0), ('aaaaaaaaaaaaaaabbb', 0), ('', 1), ('aaabbbbbbbbbbbbbbbb', 0), ('aaaaaaaaaaaaaaaaac', 0), ('bbbb', 0), ('aaaaaaaaaaaaaaaaaaab', 0), ('aaaaaaaabbcccccccc', 0), ('aaaaaaabb', 0), ('aaaaaaaaaaaaaaabb', 0), ('aaaaaaaaaaabbbbc', 0), ('aaaaaaaaaaaaaaaaabb', 0), ('aaaabbbbcccc', 1), ('aaaabbbbcccc', 1), ('aaaaaabbbbbbcccccc', 1), ('aaaaabbbbbccccc', 1), ('', 1), ('bbbbbb', 0), ('aaaaabbbbbccccc', 1), ('', 1), ('aaabbbccc', 1), ('aaaaaaaaaaaaaaaaabbb', 0), ('aaaabbbbcccc', 1), ('aaaaabbbbbccccc', 1), ('aaaaaaabbbbbbb', 0), ('aaaaaaaaaaaaaaaaaaab', 0), ('aaabccccccccccccccc', 0), ('aaaaabbbbbccccc', 1), ('aaaaaaaaaaaaaabbbbb', 0), ('aaaabbbbbbbbbbbbb', 0), ('aaaaabbbbbccccc', 1), ('aaaaabbbbbccccc', 1), ('aaaaaaaaaaaaaabbb', 0), ('aaaaaaaaaaaaaaaaaaa', 0), ('aaaaabbbbbccccc', 1), ('abc', 1), ('aabbbbbbbbbbbbbb', 0), ('aaabbbbccccccc', 0), ('aaaaaaaaaaaaa', 0), ('abbbbbbbbbbbbbc', 0), ('aaaabbbbcccc', 1), ('aaaaaabbbbbbcccccc', 1), ('aaaaaaaaaaaaaaabbb', 0), ('aaaaabbbbbccccc', 1), ('aaaaaaaaaaaaabbbbb', 0), ('abc', 1), ('aaaaaaaaaaaaaaaaaabb', 0), ('aaabbbccc', 1), ('aaaaaabbbbbbcccccc', 1), ('abc', 1), ('aaaaaaaaaaaaaaacc', 0), ('aaaaabbbbbccccc', 1), ('aaaabb', 0), ('aaaaaabbbbbbcccccc', 1), ('aaaaaaa', 0), ('aaaaaaaaaaaaaaaabbbb', 0), ('aaabbbccc', 1), ('aaaaaaaaaabbccc', 0), ('aaaaaaaaaaaaaaaa', 0), ('aaaabbbbcccc', 1), ('aaaaaabbbbbbcccccc', 1), ('aaaabbbbcccc', 1), ('abc', 1), ('aaaaabbbbbccccc', 1), ('aaaaab', 0), ('', 1), ('aaabbbccc', 1), ('aaaaaaaaaabbb', 0), ('aaaaaaaaaaaab', 0), ('aaaaaaaaaaaaaaabbbb', 0), ('', 1), ('aaaaaaaaaaabbbbbb', 0), ('aaaaaaaaaaabbbbbbbbb', 0), ('aaaaabbbbbccccc', 1), ('aaaaaaaabbbbbbbbbb', 0), ('aaabbbccc', 1), ('aaaaaabbbbbbcccccc', 1), ('aaabbbbbbbbbb', 0), ('aaaaaabbbbbbcccccc', 1), ('abbbbbbbbbbbbbbbbbb', 0), ('aaabbbccc', 1), ('aaaaabbbbbccccc', 1), ('aaaabbbbcccc', 1), ('aaaaaaaaaaaaaaabbbb', 0), ('aaaaaaaaaaabbb', 0), ('aaabbbccc', 1), ('', 1), ('aaaaaaaaaaaaaaaaaab', 0), ('abc', 1), ('aaaabbbbcccc', 1), ('', 1), ('aaaaaaaaaabbbbbbbbbb', 0), ('', 1), ('aaaaaaaaaaaaaabbbbb', 0), ('aaaaaaabc', 0), ('aaaaabbbbbccccc', 1), ('aabbbbbbbbbbbbbbbbbb', 0), ('aaaaaaaabbbbbbb', 0), ('abbbbbbbbbbb', 0), ('', 1), ('bbbbbbbbbbbbbbb', 0), ('aaaaaaaaaaaabbb', 0), ('', 1), ('aaaaaaabbbccccccccc', 0), ('aaaaabbbbbccccc', 1), ('abc', 1), ('aaaabbbbbbbbbbbb', 0), ('aaaaaaaaaaaaaaaaa', 0), ('', 1), ('aaaaaaaaaaaaabbbbb', 0), ('aaaaaaaaaaaaaabbbbbc', 0), ('aaaaaaaaaabb', 0), ('aaaaabbbbbccccc', 1), ('aaaaaabcc', 0), ('aaaaabbbbbccccc', 1), ('aaaaaabbbbbbcccccc', 1), ('aaaaaaaaaaabbbbbbb', 0), ('aaaaaaaaaaaaaaaaa', 0), ('aaaaaaaaaa', 0), ('aaaaaabbbbbbcccccc', 1), ('aaaaaabbbbbbcccccc', 1), ('aaaaaaaaaaaaaaaabb', 0), ('', 1), ('aaaaaaaaaabbbbbcccc', 0), ('aaaaaaaaaaaaaaaaa', 0), ('aaaaaabbbbbbcccccc', 1), ('aaaaaaaaaaaaaaab', 0), ('aaaaaabbbbbbcccccc', 1), ('aaaaaaaaaaaaaaabb', 0), ('aaaaaabbbbbbbbbb', 0), ('aaaabbbbcccc', 1), ('aaabbbccc', 1), ('aaaaaabbbbbbbbbbbbb', 0), ('aaaaabbbbbccccc', 1), ('aaaaaaaaabbbbbbbbbb', 0), ('aaaabbbbcccc', 1), ('aaaaaaaaaaaaaaaaaaab', 0), ('aaaaaaabbbbb', 0), ('aaaaabbbbbccccc', 1), ('aaaaa', 0), ('', 1), ('aaaaaaaaabbb', 0), ('aaaaaaabbccccccccc', 0), ('aaabbbccc', 1), ('aaaaabbbbbccccc', 1), ('aaaaaaaaaaaaa', 0), ('aaaaaaaaabb', 0), ('', 1), ('aaaaaaaaaaabbbbbbbb', 0), ('', 1), ('aaaaabbbbbccccc', 1), ('aaaaabbbbbccccc', 1), ('aaaabbbbcccc', 1), ('aaaabbbbcccc', 1), ('aaaaaaaaaaaaaaaaaaab', 0), ('abc', 1), ('aaaaaaaaaaaaaaabbb', 0), ('aaaaaaaaaaaaaaaaaaab', 0), ('aaaaabbbbbccccc', 1), ('aaabbbccc', 1), ('abc', 1), ('aaabbbccc', 1), ('aaaaaabbbbbbcccccc', 1), ('aaaaabbb', 0), ('aaabbbccc', 1), ('', 1), ('aaaaaaabbbbbbbbbbbc', 0), ('aaaaaaaaaaabbc', 0), ('aaaaaaaaaaaaaaabbccc', 0), ('aaaaaaaaaaaaaaaaaab', 0), ('aaaaaaaaaaaaabbbb', 0), ('aaaaaaaaaaaaabbbbb', 0), ('aaaabbbbbbccccc', 0), ('aaaaaaaaaabcc', 0), ('aaaaaabbbbbbcccccc', 1), ('aaaaabbbbbbbbbbbbbb', 0), ('aaabbbccccccc', 0), ('aaaaaaaabbbbbbbb', 0), ('aaaaaaaabbcccccc', 0), ('aaabbbccc', 1), ('aaaaaaaaabbbcc', 0), ('aaaaaaaaaaaaaaaabbbb', 0), ('aaaaaabbbbbbcccccc', 1), ('aaabbbccc', 1), ('aaaaabbbbbccccc', 1), ('aaaaabbbbbccccc', 1), ('aaaaaaaabbbbbbbbbb', 0), ('aaaaaaaaaaaaaaaa', 0), ('aaabbbccc', 1), ('aabbbbbbbbccc', 0), ('abbbbbbbbbbbb', 0), ('aaaabbbbcccc', 1), ('aaaaaabbbbbbcccccc', 1), ('aaaabbbbcccc', 1), ('', 1), ('aaabbbccc', 1), ('aaabbbccc', 1), ('aabbbbbbbbbbbbbbbbbb', 0), ('aaaaaaaaaabbbbbbb', 0), ('', 1), ('aaaaaaaaaabbbbbccc', 0), ('aaaabbbbcccc', 1), ('aaaaaaaaaaaaaaabb', 0), ('aaaaaaaaaaaaaaaaabb', 0), ('aaabbbccc', 1), ('aaaabbbbcccc', 1), ('aaaaaaaaaaaaaaaaaaa', 0), ('aaaaaaaabbbb', 0), ('aaaabbbbcccc', 1), ('abc', 1), ('aaaaaaaaaaaaaaabbb', 0), ('', 1), ('aaaabbbbcccc', 1), ('aaaaaaaaaaaaaabbbccc', 0), ('aaaaabbbbbccccc', 1), ('aaabbbbbbbbbbcccc', 0), ('aaaaaaaaaaabbbbbbb', 0), ('aaaaaaaaaaaaaaab', 0), ('aaaaaaaaaaaaaaaaab', 0), ('', 1), ('abc', 1), ('aaaaaaaaaaaaaaabbb', 0), ('aaaaabbbbbccccc', 1), ('aaaaaaaaaaaaaaaaabbb', 0), ('aabbbbbbbbbbbbb', 0), ('aaaaaaaaaaa', 0), ('aaaaaaaaaaaaaaaaaaa', 0), ('aaaaaaaaaaaaaaaabb', 0), ('aaaaaabbbbbbcccccc', 1), ('aaaaaaaaaaaaaaaaaabb', 0), ('', 1), ('abc', 1), ('aaaaaabbbbbbcccccc', 1), ('aaaaaaaaaaaaaaaacccc', 0), ('aaaaabbbbbccccc', 1), ('aaaaaabbbbbbcccccc', 1), ('aaaaabb', 0), ('aaaaaaaaaaaaaaaaaaa', 0), ('aaabbbccc', 1), ('aaaaaaaaaaaaaaaaaaa', 0), ('aaaaaaaaaaaaabbbbbb', 0), ('aaaaabbbbbccccc', 1), ('aaaaaaaabbbccccc', 0), ('', 1), ('aaaaaabbbbbbcccccc', 1), ('aaaaabbbbbccccc', 1), ('aaaaabbbbbccccc', 1), ('bbcccccccccccccccccc', 0), ('', 1), ('aaaabbbbcccc', 1), ('', 1), ('aaabbbbbbbbbbbb', 0), ('aaaaaaaaaaaaaaaaaabc', 0), ('aaaaaaaaaaaaaabbb', 0), ('abc', 1), ('aaaaaaaaaaabbbbbbbbb', 0), ('bbbbbbb', 0), ('aaaaabbbbbccccc', 1), ('abc', 1), ('aaaaabbbbbccccc', 1), ('aaaaaaaaaaabbbbc', 0), ('aaaaaabbbbbbcccccc', 1), ('aaaaaaaaaabbbbc', 0), ('aaaaaaaaaaaaaaaabbb', 0), ('aaabbbccc', 1), ('', 1), ('aaaaaabbbbbbcccccc', 1), ('aaaabbbbcccc', 1), ('aaaaaaaaaaaaaaaaaaab', 0), ('aaabbbccc', 1), ('aaaaaaaabbbbbbbbbb', 0), ('aaaaaaaaaaaaaabbb', 0), ('aaaaaabbbbbbcccccc', 1), ('aaaabbbbcccc', 1), ('aaaaaaaabbbbbb', 0), ('aaaaaaaaaaaaaaaaa', 0), ('aaaaaaaaaaaaaaaa', 0), ('aaaaaaaaaaaaaabbb', 0), ('aaaaaabbbbbbbb', 0), ('aaaaaabbbbbbcccccc', 1), ('aaaaaaaaaaaaab', 0), ('aaaaaaaaaaaabbbbbbbb', 0), ('aaaaabbbbbccccc', 1), ('aaaaacccc', 0), ('bbbbbbbbbbbb', 0), ('aaaaaaaaabb', 0), ('abc', 1), ('abc', 1), ('aaaaaaaabbbbbbbbbbbb', 0), ('aaaaaaaaaaaaaaab', 0), ('aaaaabb', 0), ('aaaaaaaaabbbbbbbbbb', 0), ('abbbbbbbbbbbbbbb', 0), ('', 1), ('aaaaabbbbbccccc', 1), ('aaaaaaaaaab', 0), ('aaabbbbbbbbbbbbb', 0), ('aaaaaaaaaaaaaaaaabbb', 0), ('abc', 1), ('aaaaabbbbbccccc', 1), ('aaaabbbbcccc', 1), ('', 1), ('aaaaaaaaaaaaaaa', 0), ('aaaaabbbbbbbbbbbbbb', 0), ('aaaaaaaaaaaaaaabbb', 0), ('aaaaaaaaabbb', 0), ('aaaaaaaaaaaaaaabbbb', 0), ('aaaaaaaaaaaaa', 0), ('', 1), ('aaaaaaaaabbbbbbbb', 0), ('aaaaaaaaaaaaaabbbb', 0), ('aaabbbccc', 1), ('', 1), ('aaaaaaaaaaaaaaabccc', 0), ('aaaaaaaaaaaaaaabbbbb', 0), ('abc', 1), ('aaaaaabbbbbbcccccc', 1), ('aaaabbbbcccc', 1), ('aaaaaaaaaaaaaaaabbb', 0), ('abbbbbbbbbbbbbb', 0), ('aaaaaaaaaaaaaaaaaaa', 0), ('aaabbbccc', 1), ('abc', 1), ('aaaaaaaaabbbbbbc', 0), ('aaaaaaaaaabbbbb', 0), ('aaaaaaaaab', 0), ('abc', 1), ('aaaaabbbbbccccc', 1), ('aaaaabbbbbccccc', 1), ('aaaaaaaaaaacccccccc', 0), ('aaaabbbbcccc', 1), ('abc', 1), ('aaaaaaaaaaaaaaa', 0), ('aaabbbccc', 1), ('abbbbbbccccc', 0), ('aaaaaaaaa', 0), ('aaaaaaaaaaaaaaaaaab', 0), ('aaaaaccc', 0), ('aaaaabbbbbbbbbbbbbbb', 0), ('aaabbbccc', 1), ('aaabbbccc', 1), ('aaaaaaaaaaaaaaabbb', 0), ('aaaaabbbbbbbbbbb', 0), ('aaaaaabbbbbbcccccc', 1), ('abbbbbbbbbbbbcc', 0), ('aaaaaaaaaaaaaaaab', 0), ('aaabbbccc', 1), ('aaaaaabbbbbbcccccc', 1), ('aabbbbbbbbbb', 0), ('aabbcccccccccccccccc', 0), ('aaaaaaabbbbbbbbbb', 0), ('aaaabbbbbccccccc', 0), ('aaaaaaaaaaaaaa', 0), ('aaaaabbbbbccccc', 1), ('', 1), ('aaabbbbbbbbbbbbbbbbb', 0), ('aaaaaabbbbbbbb', 0), ('aaabbbccc', 1), ('aaaabbbbbbbbbbbbbb', 0), ('aaabbbccc', 1), ('', 1), ('', 1), ('', 1), ('abc', 1), ('aaaaabbbbbccccc', 1), ('aaaaaaaaaaaabbbbbb', 0), ('aaaaabbbbbbbbbbbbbb', 0), ('aaaaaaaaaaaaaabbbbb', 0), ('abc', 1), ('aaaaaaaaaaaaaaaaaab', 0), ('aaaabbbbbbbbbbbbb', 0), ('aaabbbccc', 1), ('aaabbbbbcccccccccc', 0), ('aaaaaaaaaaaaaaabcccc', 0), ('aaaaaaaaaaaaabbb', 0), ('abc', 1), ('aaaaaabbbbbbcccccc', 1), ('aaaaaaaa', 0), ('aaaabbbbcccc', 1), ('', 1), ('aaaaaabbbbbbcccccc', 1), ('aaaaaaaabbbbcc', 0), ('aaaaaaabbbbbbbb', 0), ('aaaaaabbbbbbbbbccccc', 0), ('aaaaaaaaaaaaabbb', 0), ('aaabbbccc', 1), ('aaabbbbbbbbbb', 0), ('aaaaabbbbbccccc', 1), ('aaabbbccc', 1), ('abc', 1), ('aabbbbbbbbcccccc', 0), ('aaabbbccc', 1), ('', 1), ('aaaabbbbcccc', 1), ('aaabbbccc', 1), ('aaaaaaaaaabbbbbbc', 0), ('bbbbbbbbbbbbbcc', 0), ('aaaaaabbbbbbcccccc', 1), ('aabbbbbccccccccc', 0), ('abbbbbbbbbbbbbbbb', 0), ('', 1), ('aaaaaaaaaaaaaaaaaab', 0), ('aaaaaaaaaaaaabbbbb', 0), ('aaaaaaaaaaaaaabbbb', 0), ('abc', 1), ('aaabbbccc', 1), ('aabbbb', 0), ('', 1), ('aaaaaaabcccc', 0), ('aaaaabbbbbbbbbbbbbb', 0), ('aaaaaabbbcccc', 0), ('aaaaaaaaaaaaabbbbb', 0), ('aaaaaabbbbbbcccccc', 1), ('aaaaaaaaaabbb', 0), ('aaaaaaaaaaaaaaab', 0), ('aaaaaaaaaaaaaaaaa', 0), ('aaaaaaaaaaaaa', 0), ('aaaabbbbcccc', 1), ('aaaaaaabbbbb', 0), ('', 1), ('aaaaaaaaabbbbbbbbbb', 0), ('aaaaaaaaaaaaaabb', 0), ('abc', 1), ('abc', 1), ('aaaaabbbbbbbbbbbbbb', 0), ('aaaaabbbbbccccc', 1), ('', 1), ('aaaaaaaaaaabbb', 0), ('aaaaaaaaaaabbbbbbbb', 0), ('', 1), ('abc', 1), ('abc', 1), ('aaaaaaaaaaabbbbbb', 0), ('aaaaaaaaabbbbbb', 0), ('aaaaaabbbbbbbbb', 0), ('abc', 1), ('aaaaaaaaaaaaabbbbbb', 0), ('aaaaaaaaaaaaabbbb', 0), ('', 1), ('aaaabbbbcccc', 1), ('', 1), ('aaaaaaaabbbbbbbbbb', 0), ('aaaaaabbbbbbcccccc', 1), ('aaaaabbbbbccccc', 1), ('abc', 1), ('', 1), ('', 1), ('aaaaabbbbbccccc', 1), ('aaaaaaaaaaabbbbbbbb', 0), ('aaaaaaaaaaaaaaaa', 0), ('aaaaabbbbbccccc', 1), ('aaaaabbbbbccccc', 1), ('aaaaaaaabbbbbbbbbb', 0), ('aaaaaaaaaaaaaaabc', 0), ('aaaaaaaab', 0), ('aaaaaaaaaaaaaaaab', 0), ('aaabbbccc', 1), ('aaaaaaaaaabbbbbbbbbb', 0), ('abc', 1), ('aaaabbbbcccc', 1), ('aaaa', 0), ('bbbbbbbbbbbbbbbbb', 0), ('aaabbbccc', 1), ('aaaaaaaabbbbbbbbbbcc', 0), ('aaaabbbbcccc', 1), ('aaaaaaaabbbbbbbbbbbb', 0), ('', 1), ('aaaaaaaaaaaabbcc', 0), ('aaaaaaaaabbbbbbbccc', 0), ('aaabbbccc', 1), ('aaaaaaaaaaaabbbbbb', 0), ('abc', 1), ('aaaaaaaaabbbbbbb', 0), ('aaaaaaaaaaaaa', 0), ('aaaabbbbcccc', 1), ('aaabbbccc', 1), ('aaaabbbbbbbbbbbbbbbb', 0), ('', 1), ('aaaaaaaaaaaaabbb', 0), ('aaabbbccc', 1), ('', 1), ('aaaaaaaaaaabccccccc', 0), ('bbbbbbbbbbbb', 0), ('aaaabb', 0), ('aabbbbbbbbbbcc', 0), ('aaaaaaaaaaaabbbbbb', 0), ('aaaaabbbbbccccc', 1), ('aaaaabbbbbccccc', 1), ('aaaaaaaaaaaaaaaaaa', 0), ('aaaabbbbcccc', 1), ('aaaaaaaaaaaaaaaabbbb', 0), ('aaaabbbbcccc', 1), ('aaaabbbbcccc', 1), ('abc', 1), ('aaaaaaaaaabbbbbbb', 0), ('aaaabbbbcccc', 1), ('aaaaabbbbbbbb', 0), ('aaaaaaabbbbbbbbbbbbb', 0), ('aaaaabbbbbccccc', 1), ('aaaaaabbbbbbcccccc', 1), ('aaabbbccc', 1), ('aaaaabbccccccccccccc', 0), ('aaaaaaaaaaaabbbbb', 0), ('aaaaabbbbbccccc', 1), ('bbbbbbbbbcccccccccc', 0), ('aaaaaaaaaaaaaabbbb', 0), ('aaabbbccc', 1), ('aaabbbccc', 1), ('aaaaaaaaaaaaaaaaaaab', 0), ('aaaaabbbbbccccc', 1), ('abc', 1), ('aaaabbbbcccc', 1), ('aaaabbbbcccc', 1), ('aaaaaaaaabbbbb', 0), ('abc', 1), ('aaabbbbc', 0), ('aaaabbbbcccc', 1), ('aaaaabbbbbccccc', 1), ('aaaabbbbcccc', 1), ('aaaabbbbcccc', 1), ('aaaaaabbbbbbcccccc', 1), ('aaaaaaaaaaaaaaaaacc', 0), ('aaabbbccc', 1), ('aaaaaaabbbb', 0), ('aaabbbccccccccccc', 0), ('aaaabbbbbcccccccccc', 0), ('abbbbbb', 0), ('aaaaaabbbbbbcccccc', 1), ('aaaaaaaaaaaaaabbbb', 0), ('aaaaaaaaaaaaaaaaaa', 0), ('aaaaaaaaaaab', 0), ('aaaaabbbbbccccc', 1), ('', 1), ('aaabbbccc', 1), ('abc', 1), ('abc', 1), ('aaaabbbbcccc', 1), ('aaaaabbbbbbbb', 0), ('aaaaaabbbbbbcccccc', 1), ('aaaaaaabbbbbbbcc', 0), ('aaaaaaaaaaabbbbbbbb', 0), ('aaaaaaaaaaabbbbbb', 0), ('aaaaaabbbbbbcccccc', 1), ('aaaaaaaaaaabbbbb', 0), ('aaaaabb', 0), ('aaaabbbbcccc', 1), ('aaaaabbbbbccccc', 1), ('', 1), ('aaabbbbbccc', 0), ('aaaaaaaaaaaaaaabbbbb', 0), ('aaaaabbbbbccccc', 1), ('aaaaaabbbbbbcccccc', 1), ('abc', 1), ('abbbbbbb', 0), ('aaaaaabbbbbbcccccc', 1), ('aaaaabb', 0), ('aaaaaaaaaaaaaaaab', 0), ('aaaaaabbbbbbcccccc', 1), ('aaaaaaaaaaabbbbbbbb', 0), ('abbbbbbbcc', 0), ('aaaaaaaaaaaaaaabbbb', 0), ('aaaabbbbcccc', 1), ('aaaaabbb', 0), ('aaaaaaaaaaaaaaaaaaab', 0), ('aaaaaaaaaaaaaabbbbb', 0), ('aaaaaaabbbbbbbc', 0), ('aaaaaaaaaaaabbbbbb', 0), ('aaaaaaaaaabbbbbbbbbb', 0), ('aaaaabbbbbccccc', 1), ('aaaaabbbbbbbbbbccc', 0), ('aaaaabbbbbbbbb', 0), ('aaaaaaaaaaaaaaaaabbb', 0), ('abc', 1), ('aaaaaabbbbbbbbbbbb', 0), ('abc', 1), ('aaaaabbbbbccccc', 1), ('aabbbbbbbbbbbbbb', 0), ('aaaaaaaaaaaaabbbb', 0), ('aaaaaaaaaaaaaaabbb', 0), ('aaaaaaaaaccc', 0), ('aaaaabbbbbccccc', 1), ('aaaabbbbcccc', 1), ('', 1), ('aaaaaabbbbbbcccccc', 1), ('aaaaaaaaaaaaaabb', 0), ('abc', 1), ('abc', 1), ('aaaaaaaaaaaabbbbbbb', 0), ('aaaaabbbbbccccc', 1), ('abc', 1), ('aaaaaaaacccccccc', 0), ('aaaabbbbcccc', 1), ('abc', 1), ('aaaaaaaaaaaaaaaaaaa', 0), ('', 1), ('aaaaaaaaaaaaaabb', 0), ('aaaaabbbbbccccc', 1), ('aaaabbbbcccc', 1), ('abc', 1), ('aaaaaaab', 0), ('aaabbbbbbbbbccccc', 0), ('aaaabbbbcccc', 1), ('aaaaabbbbbccccc', 1), ('aaaaaaabbb', 0), ('aaabbbccc', 1), ('bbbbbbbbbbb', 0), ('aaaaaaaaabbbbbbbbbb', 0), ('aaaaaabbbbbbcccccc', 1), ('aaaabbbccccccc', 0), ('aaaaaaabbbbbbbbbb', 0), ('aaaaabbbbbccccc', 1), ('aaabbbccc', 1), ('aaaaaaaaaaaaa', 0), ('aaaabbbbcccc', 1), ('abc', 1), ('aaaaaaaaaaaaaaabbbbb', 0), ('aaabbbccc', 1), ('aaaaabbbbbccccc', 1), ('abc', 1), ('abc', 1), ('aaaaabbbbbccccc', 1), ('aaaaaaaaaaaaaaaaaabb', 0), ('aaaabbbbcccc', 1), ('aaaaaaabbbbbbbbbbbbb', 0), ('aaaabbbbcccc', 1), ('aaaaaabbbbbbbbbbbbbb', 0), ('aaaaaaaaabbbbbb', 0), ('abbbbbbbbbbbbbbbbbbb', 0), ('aaaaabbbb', 0), ('abc', 1), ('aabbcccccccccc', 0), ('aaaaaaaaaaaaaaaaabbb', 0), ('aaaaaaaaabbccc', 0), ('aaaaaabbbbbbcccccc', 1), ('aaaaaaaaaaaaaaabbbbb', 0), ('aaaabbbbcccc', 1), ('aaaaaaaabbbbbbbbb', 0), ('aaaaaaabbcccccccc', 0), ('abc', 1), ('aaaabbbbcccc', 1), ('', 1), ('aabbbbbbbbbbccccccc', 0), ('bbbbbbbbbbbbbbbbbbb', 0), ('aaaabbbbcccc', 1), ('aaaaaaaaaaaaaabbbbb', 0), ('aaaaaaaaaaab', 0), ('aaaaaabbbbbbcccccc', 1), ('aaaaaabbbbbbbbbbbbbb', 0), ('aaaabbbccccccccccc', 0), ('aaaaaabbbbbbcccccc', 1), ('aaaaaabbbbbbbbbbbbb', 0), ('aaaaaaaaaaaaaaaaaaab', 0), ('aaaaaaabbbbbbbcc', 0), ('abc', 1), ('aaaaaabbbbbbcccccc', 1), ('aaaaaaaaaaaabbbbbbbb', 0), ('aaaaabbbbbccccc', 1), ('abbbbbbbbbbb', 0), ('aaaaaaaaaaaaaaaaaaa', 0), ('aaaaaabbbbbbcccccc', 1), ('aaaaaaaaaaaaaaaabbb', 0), ('aaaaaaaaaaaaaaaaab', 0), ('aaaabbbbcccc', 1), ('aaaabbbbbbbbbbbccc', 0), ('aaaaaaaaaaaaaabbbbbb', 0), ('aaaabbbbcccc', 1), ('bbbbbbbbbbbbbbbbbbbb', 0), ('aaaaabbbbbb', 0), ('aaaaabbbbbccccc', 1), ('aaaaaaaaaaabbbc', 0), ('aaaaabbbbbccccc', 1), ('aaaaaaaaaaaaaaabbb', 0), ('aaaaabbbbbccccc', 1), ('aaaaabbbbbccccc', 1), ('abbbb', 0), ('aaaabbbbcccc', 1), ('aaaaaaaaaab', 0), ('abc', 1), ('abc', 1), ('aaaaaaaaaaaaaaaaaa', 0), ('bbbbbbbbcccc', 0), ('aabbbbbbbbbbbbbb', 0), ('aaaaaaaaaaaaaabbb', 0), ('aaaaaaaaaaaaaaaaab', 0), ('aaaaaaaaaaaaaaaa', 0), ('aaaaabbbbbbbbbbbb', 0), ('bbbbbc', 0), ('aaaabbb', 0), ('aaaaaaabbb', 0), ('aaaabbbbcccc', 1), ('aaaaaaa', 0), ('', 1), ('aaaaaaaaaaaaabb', 0), ('aaaaaaaabccc', 0), ('aaabbbccc', 1), ('bccccc', 0), ('aaaabbbbbbbbbb', 0), ('aaaaaaaaaaaaaaaaaaa', 0), ('aaaaaaaaaaaaaaa', 0), ('aaaabbbbcccc', 1), ('', 1), ('aaaaaabbbbbbcccccc', 1), ('aaabbbccc', 1), ('aaaaaaaaabb', 0), ('aaaaaaaaabbbbb', 0), ('aaaaaabbbbbbcccccc', 1), ('aaaabbbbcccc', 1), ('aaaaaaaaaaaaaaab', 0), ('aaaaaabbbbbbcccccc', 1), ('aaaabbbbcccc', 1), ('', 1), ('aaaaaabbbbbbcccccc', 1), ('', 1), ('aaaaaabbbbbbcccccc', 1), ('aaaaaabbbbbbcccccc', 1), ('aaaaaaaaaaaaaaaabb', 0), ('aaaaaaaaaabccccccccc', 0), ('aaaaaaaaaaabbbbbb', 0), ('', 1), ('aaaaaaaaaaaaaac', 0), ('', 1), ('aaaaaaaaaaaaaaa', 0), ('', 1), ('abc', 1), ('abc', 1), ('aaabbbccc', 1), ('aaabbbccc', 1), ('aaabbbccc', 1), ('abbbbbbbbbbbbb', 0), ('abc', 1), ('abbbbbbb', 0), ('', 1)]\n",
      "Average Sentence Length:\n",
      "12.651\n",
      "Val Data Sample:\n",
      "[('aaaaaaaaaaaaab', 0), ('aaaaaabcccccccccc', 0), ('aabbcc', 1), ('aaaaaaaaaaaaaaaac', 0), ('aabbcc', 1), ('aabbcc', 1), ('aabbcc', 1), ('aabbcc', 1), ('aaaaaaaaaaaaabb', 0), ('aaaaaacccc', 0), ('bbbbbbbbbbbbbbbbbbb', 0), ('aaaaaaaaaaaaabbccc', 0), ('aaaaaaaaaabbbb', 0), ('aaaaaaaaaaaaaaaaaabb', 0), ('aaaaaaaaaaaaaaaabbbb', 0), ('aabbcc', 1), ('aabbcc', 1), ('bcccccccccc', 0), ('aabbcc', 1), ('aaaaaaaaaaaaaaaaabb', 0), ('aaaaaaaaaaaaaaaaaa', 0), ('aabbcc', 1), ('aaaaaaabbbbbb', 0), ('aabbcc', 1), ('aabbcc', 1), ('bbbbbbbbbbbbbbbbbbbb', 0), ('aaaaaaaaaaaaaabbbbbb', 0), ('accccc', 0), ('aaaaaaaaaaaaaaabbbbb', 0), ('aaaaaaaaaaaaaaaaabbb', 0), ('aabbcc', 1), ('aabbcc', 1), ('aaaaaaaaaaaabbbbb', 0), ('aaaabbcccccccc', 0), ('aabbcc', 1), ('aaaaaaaabbcc', 0), ('aaaaaaaaaaaaaaabbbb', 0), ('aaaaaaaaaaaaaaaaabbb', 0), ('aacccccccccccccccc', 0), ('aabbcc', 1), ('aaaaaaaaaaabbbbbbcc', 0), ('abbcccccccc', 0), ('aabbcc', 1), ('aabbcc', 1), ('aabbcc', 1), ('aaaaaaaaaaaaaaaaabbb', 0), ('aabbcc', 1), ('aaaaaaaaaaaabbbbbb', 0), ('aaaacc', 0), ('aaaaaaaaaaaaaaaaabb', 0), ('aaaaaaaabccccccccccc', 0), ('aabbcc', 1), ('aabbcc', 1), ('aabbcc', 1), ('aabbcc', 1), ('aaaaaaaaaaaabbbbbb', 0), ('aaaaaaaaaabbbbbbb', 0), ('aaaaaaaaaabbbbbb', 0), ('aabbcc', 1), ('aabbcc', 1), ('abbbbbbbbbbbcc', 0), ('aaaaaaaaaaaaaaaaac', 0), ('aabbcc', 1), ('aabbcc', 1), ('aabbcc', 1), ('aaaaaaaaaaaaaaaaabbb', 0), ('aaaaaaaaaaaaaaaaabb', 0), ('aaaaaaabbbbbbbbbcc', 0), ('aabbcc', 1), ('aabbcc', 1), ('aabbcc', 1), ('aabbcc', 1), ('aaaaaaaaa', 0), ('aabbcc', 1), ('aabbcc', 1), ('aaaaaaaaaabbb', 0), ('aaaaaaaaaaaaaaaaabbc', 0), ('aaaaaaaaaaaabbbcccc', 0), ('abbbbbbbbbbbbbbbb', 0), ('aaaaaaaaaaaab', 0), ('aaabbbbbbbbbccccc', 0), ('aabbcc', 1), ('aabbcc', 1), ('aabbcc', 1), ('aabbcc', 1), ('aabbcc', 1), ('bbbbbbbbbbbbbbbbbbb', 0), ('aaaaaa', 0), ('aabbcc', 1), ('bbbbbbbbbbbccc', 0), ('aabbcc', 1), ('aaaaaaaaaaaaabbbbbbb', 0), ('aaaaaaaaaaaabbbc', 0), ('aaaaaaaa', 0), ('aaaabbbbbbb', 0), ('aabbcc', 1), ('aabbbbbbbbbbbbbbbbbb', 0), ('aabbcc', 1), ('bbbcccccccc', 0), ('aaaaaaaaaaaaabbbbbbb', 0), ('aaaaaaaaaaaaaaaaabb', 0), ('aaaaaaaaaaaaabbbbbbb', 0), ('aabbcc', 1), ('aabbbbbbbbbbbb', 0), ('aabbcc', 1), ('aabbcc', 1), ('aaaaaaaaaaaaaaaabbbb', 0), ('aabbcc', 1), ('aabbcc', 1), ('aaaaaabb', 0), ('aabbcc', 1), ('aabbcc', 1), ('aaaaaaaaaaaaaaaaaabb', 0), ('aabbcc', 1), ('aabbcc', 1), ('aabbcc', 1), ('aaaaaaaaaaaaaaaaaa', 0), ('aaaaaabbbbbbbbb', 0), ('aabbcc', 1), ('aabbcc', 1), ('aaaaaaaaaabbbb', 0), ('aabbcc', 1), ('aabbcc', 1), ('aabbcc', 1), ('aabbcc', 1), ('aaaaaaaaaaaaaabbbb', 0), ('aabbcc', 1), ('aaaaaaaaaaaaaaaaab', 0), ('aabbcc', 1), ('aaaaaabbbbbb', 0), ('aabbcc', 1), ('aabbcc', 1), ('aabbcc', 1), ('aabbcc', 1), ('aabbcc', 1), ('aaaaaabbbbbbbbbbbb', 0), ('aabbcc', 1), ('aabbcc', 1), ('aabbcc', 1), ('aabbcc', 1), ('aabbcc', 1), ('aaaaaaaaaaabbcccccc', 0), ('aabbcc', 1), ('aaaaaaaaaaaaaaaaaa', 0), ('aaaaabccc', 0), ('aaaaaaaaaaaaaabb', 0), ('aaaaaaaaaaa', 0), ('aaaaaaaaccccccccccc', 0), ('aaaaaaaaaaaaaaabbbb', 0), ('aabbcc', 1), ('bbbbbccccccccccc', 0), ('aaaaabbbb', 0), ('aabbcc', 1), ('aabbcc', 1), ('aaaaaaaaaaaaaaaaaab', 0), ('aabbcc', 1), ('aaaaaaaaaaaaaabbbbbc', 0), ('aabbbbbbbbbbbb', 0), ('aabbcc', 1), ('aaaaaaabbbbbbbb', 0), ('aaaaaaaaaaaaaabbb', 0), ('bbbbbbbbccccccccc', 0), ('aaaaaaaaabccc', 0), ('aabbcc', 1), ('aaaaaaaaaaaaaaaabb', 0), ('aaaaacccccccccc', 0), ('aabbcc', 1), ('aabbcc', 1), ('aaaaaaaaaaaaaaaabb', 0), ('aabbcc', 1), ('aaaaaaac', 0), ('aaaaaaaaaabbbbcccccc', 0), ('aabbcc', 1), ('aaaaaaaaabbbbbb', 0), ('aaaaaaaaaaabbb', 0), ('aabbbbbbbb', 0), ('aabbcc', 1), ('aaaaaaaaaaaaaaaaaaa', 0), ('bbbcc', 0), ('bbbbbbbbbcccccc', 0), ('aabbcc', 1), ('aaaaaaaaaaabbbbbbbbb', 0), ('bbbbcccccccccccccccc', 0), ('aaaaaaaaaaabbbbbbbb', 0), ('aaaaaaabbbbbb', 0), ('aabbcc', 1), ('aaaaaaaaaaaaaabbbbb', 0), ('aabbcc', 1), ('abbbbbbcc', 0), ('aaaaabbbbbbcc', 0), ('aabbcc', 1), ('aabbcc', 1), ('aabbbbbbbbbbbbbbcccc', 0), ('aaaaaaaaaaabbbbbbbb', 0), ('aaaaaaaaaaaaaaaaa', 0), ('aabbcc', 1), ('aabbcc', 1), ('aabbcc', 1), ('aabbcc', 1), ('aaaaaaaaaaaaaabbbb', 0), ('aabbcc', 1), ('aaaaaaaaaaaaa', 0), ('aaaaaaaaaaabbbb', 0), ('aaaaaaaaaaabbbb', 0), ('aabbcc', 1), ('aaabcccccccc', 0), ('aabbcc', 1), ('aabbcc', 1), ('aaaaaaaaabbbbbbbbbb', 0), ('aaaaaaaaaaaaabbbb', 0), ('aabbcc', 1), ('aabbcc', 1), ('abbbbbbbbbbbbbbb', 0), ('aaaaaabbbbbbbbbbbbbb', 0), ('aaaabbbcccccccccccc', 0), ('aabbcc', 1), ('aabbcc', 1), ('aabbcc', 1), ('aabbcc', 1), ('accccccc', 0), ('aabbcc', 1), ('aabbcc', 1), ('aaaaaaaaaaaaabbbbbbb', 0), ('aabbcc', 1), ('aaaaaaaaabbbbbbb', 0), ('aabbcc', 1), ('aaaaaaaaabbbbbbbbb', 0), ('aabbcc', 1), ('aabbcc', 1), ('aabbcc', 1), ('aaaaaabbbbccccc', 0), ('aaaaaaacccccccccc', 0), ('aaaaaaaaaaaaaaaaaa', 0), ('aabbcc', 1), ('aabbcc', 1), ('aaaaaaaaabbbbbbbb', 0), ('aaaaaaaaaaaaaaabbbb', 0), ('bbbbbcccccccc', 0), ('aabbcc', 1), ('aabbcc', 1), ('aaabbbbbbbbbbbbbbbb', 0), ('aabbcc', 1), ('aabbcc', 1), ('aabbcc', 1), ('aabbcc', 1), ('aabbcc', 1), ('aabbcc', 1), ('aabbbbbbbbbbb', 0), ('aaaaabbbbbbbbbbb', 0), ('aabbcc', 1), ('aabbcc', 1), ('aabbcc', 1), ('aabbcc', 1), ('aaaaaa', 0), ('aabbcc', 1), ('aabbcc', 1), ('aabbcc', 1), ('aabbcc', 1), ('aaaaabbbbbbbbbbbbbb', 0), ('aabbcc', 1), ('aaaaaaaaaaaaaabbbb', 0), ('aaaaaaaabbbbbbbb', 0), ('aaaaabbbbbbbcccccc', 0), ('aaaaaaaaaaaaaaabbbbb', 0), ('aabbcc', 1), ('aaaaaaaaaaaaaaaabccc', 0), ('aaabbbbbcccc', 0), ('aabbcc', 1), ('aabbcc', 1), ('aaaaaaaaaaaaacccc', 0), ('aabbcc', 1), ('aaaaaaaaaaaaaaaaabbb', 0), ('bbbbcccccccccccccc', 0), ('aaaaaaaaabbbbbb', 0), ('aaaaaaaaaaaaaaaaab', 0), ('aabbcc', 1), ('aaaaaabbb', 0), ('aabbcc', 1), ('aabbcc', 1), ('aaaaaaaaaaabbbbbbbb', 0), ('aabbcc', 1), ('aabbcc', 1), ('aaaaabbbbbbbcccccc', 0), ('aaaabbbbbbbbb', 0), ('bbbbbbcccccc', 0), ('aaaaaaaaaaaabbbb', 0), ('aabbcc', 1), ('aaaaaaaaaaaaabbb', 0), ('aaaaabbbbbbbbc', 0), ('aabbcc', 1), ('aabbcc', 1), ('aabbcc', 1), ('aabbcc', 1), ('aaaaaaaaaaabbbbb', 0), ('aaab', 0), ('aabbcc', 1), ('aaabbbbbbbbbbbbbb', 0), ('aabbbbbbbbbbbbbbb', 0), ('abbbccccccccccc', 0), ('aaaaaaaaaabbbbbbbbbc', 0), ('aabbcc', 1), ('aabbcc', 1), ('aaaaaaaaaabbbb', 0), ('aabbcc', 1), ('aaaaaaaaaaaaaaaaa', 0), ('aaaaaabbbbbbbbbbbb', 0), ('aabbcc', 1), ('aaaaaaaaaaaaabbbbbb', 0), ('aaaaaaaaaabbbbbccc', 0), ('aabbcc', 1), ('aabbcc', 1), ('aabbcc', 1), ('aabbcc', 1), ('aabbcc', 1), ('aaaaaaaaaaaaaaaaaabb', 0), ('aabbcc', 1), ('aaaaaabbbbcccc', 0), ('aabbcc', 1), ('aaaaaaaaaabbbbbbbb', 0), ('aabbcc', 1), ('aaaaaaaaaaaabbbbbbb', 0), ('aabbcc', 1), ('aabbcc', 1), ('aabbcc', 1), ('aabbcc', 1), ('aabbcc', 1), ('aabbcc', 1), ('aabbcc', 1), ('aabbcc', 1), ('aabbcc', 1), ('aabbcc', 1), ('aaaaa', 0), ('aabbcc', 1), ('aabbcc', 1), ('aaaaaaaaaaaaaaaaa', 0), ('aaaaaaaaaaaaaaab', 0), ('aabbcc', 1), ('abbb', 0), ('aabbcc', 1), ('aaaaaaaaaaaaaaaaab', 0), ('aabbcc', 1), ('aaaaaaaaaabbbbb', 0), ('aaaabbbbbbbbbbbbbbbb', 0), ('aabbcc', 1), ('aabbcc', 1), ('abbbbbbbbbbb', 0), ('aaaaabbbbccccc', 0), ('aabbcc', 1), ('aaabbbbbbbbbbbbb', 0), ('aabbcc', 1), ('aaaaaaaaacccccc', 0), ('aabbcc', 1), ('aabbcc', 1), ('aaaaaaaaaaaaaaaaab', 0), ('aabbcc', 1), ('aabbcc', 1), ('aabbcc', 1), ('aabbcc', 1), ('aaaaaaaaaaaaabbbb', 0), ('bbbbbbbbbbbbb', 0), ('aabbcc', 1), ('aabbcc', 1), ('aaaaaaaaaaaaaaaaaaa', 0), ('aaabbbbbbbbbbbbbbbb', 0), ('aabbcc', 1), ('aabbcc', 1), ('aaaaaaaaaaaaabbbcccc', 0), ('aabbbbbbbbbbbbbbb', 0), ('aaaaaaaaaabbbbb', 0), ('aaaaaaaaaaaaa', 0), ('aabbcc', 1), ('aaabbbbbbbbb', 0), ('aaaaaaaaaaaaaaaaabb', 0), ('aaaaaaabbbbbbcccc', 0), ('aaaaaaaaaaaaaaaaaa', 0), ('aabbcc', 1), ('aaabbbbbbbbbbbbbbcc', 0), ('aaaaaaaaaaaaaabb', 0), ('aabbcc', 1), ('aabbbccccccccccccccc', 0), ('aabbcc', 1), ('aabbcc', 1), ('bccccccccccccccccccc', 0), ('aaaaaaaaaabbbbbbbbbb', 0), ('aabbcc', 1), ('aabbcc', 1), ('aabbcc', 1), ('aaaaaaaaaaaaaabbbbb', 0), ('aaaaaaaaaaabbbbbbbb', 0), ('aaaaaabbbbbbbbbbbbb', 0), ('aaaabbbbbbbbbbbbbbb', 0), ('aabbcc', 1), ('aabbcc', 1), ('aabbcc', 1), ('aabbcc', 1), ('aaaaaaaaaaaaaaaa', 0), ('aabbcc', 1), ('aabbcc', 1), ('aabbcc', 1), ('aaaaaaaaaaaa', 0), ('aabbcc', 1), ('aabbcc', 1), ('aabbcc', 1), ('aaaaaaabbbbbbbbbbbb', 0), ('aabbcc', 1), ('aabbcc', 1), ('aaaaaaaaaaaaaaab', 0), ('aabbcc', 1), ('aaaaaaabbbbbbbbb', 0), ('aabbcc', 1), ('aabbcc', 1), ('aaaaaaaaaaaaaaaaaaab', 0), ('aabbcc', 1), ('aabbbbbbbbb', 0), ('abbbbbbbbbbbbbcccc', 0), ('aabbcc', 1), ('aabbbbbbbbbbbbbbbb', 0), ('aaabbbbb', 0), ('aabbcc', 1), ('aaaaabbbbbbbbbbbbb', 0), ('aabbcc', 1), ('aaaaaaaaaaabbbbbbbb', 0), ('aabcccccccccccc', 0), ('aabbcc', 1), ('aabbcc', 1), ('aabbcc', 1), ('aabbcc', 1), ('aabbcc', 1), ('aabbcc', 1), ('aabbcc', 1), ('aabbcc', 1), ('aaaaaaaaaaaabbb', 0), ('aabbcc', 1), ('aaaaaabbbccccccc', 0), ('aaaaaaaaaaaaaaaaaaab', 0), ('aabbcc', 1), ('aaaaaaaaaaaaaaaaa', 0), ('aaaaaaaaaaaaabbbb', 0), ('aabbcc', 1), ('bbbbbbbbbbbbcccccccc', 0), ('aabbcc', 1), ('aabbcc', 1), ('aaaaaaaaaaaaaab', 0), ('aaaaaaabbbbbbbbbc', 0), ('aaaaabbbbbbbbbbbbbb', 0), ('aaaaaaaaaaaaaaaaaabb', 0), ('aaaaaaabbbbbbbbb', 0), ('aabbcc', 1), ('aaaaaaaaaaaaaaaaaab', 0), ('aabbcc', 1), ('aabbcc', 1), ('aabbcc', 1), ('aabbcc', 1), ('aabbcc', 1), ('aaaaaabbbbbbbb', 0), ('aabbcc', 1), ('aabbcc', 1), ('aabbcc', 1), ('aaaaaaaaabbbbb', 0), ('aabbcc', 1), ('aabbcc', 1), ('aabbcc', 1), ('aabbcc', 1), ('bbbbbbbcccc', 0), ('aabbb', 0), ('aabbcc', 1), ('aabbcc', 1), ('aaaaaaaaaaaaaaaaaabb', 0), ('aabbcc', 1), ('aabbcc', 1), ('aaaaaaaaaaaaaaaaaaab', 0), ('aabbcc', 1), ('aabbcc', 1), ('aabbcc', 1), ('aabbcc', 1), ('aabbcc', 1), ('bbbbbbbbbbb', 0), ('aaabbbbbbbbbbbb', 0), ('aaaaaaaaaabbbbbbbbbb', 0), ('aabbcc', 1), ('aabbcc', 1), ('aabbcc', 1), ('aabbcc', 1), ('aaaaaaaaaaaabbbbbbbb', 0), ('abbbbbbbbbbbbbbb', 0), ('aabbcc', 1), ('aaaaabbbb', 0), ('aabbcc', 1), ('aaaaaaaaaaaaaaaccccc', 0), ('aaaaabbbbbbbbbbbb', 0), ('aabbcc', 1), ('aaaaaaabbbbbbbbbbbbb', 0), ('aaaaaaaaaaaaaaaabbb', 0), ('aabbcc', 1), ('aaaabbbbbbcccccccccc', 0), ('aabbcc', 1), ('aaaabbbbbbbbbbbbbbbb', 0), ('aabbcc', 1), ('bbbbbbbbcc', 0), ('aabbcc', 1), ('aabbcc', 1), ('aabbcc', 1), ('aabbcc', 1), ('aabbcc', 1), ('aabbcc', 1), ('abbbbcccc', 0), ('aaaaaabbbbbbbccc', 0), ('aabbcc', 1), ('aabbcc', 1), ('aabbcc', 1), ('abbbbbbbbbbbbbbbbbb', 0), ('aabbcc', 1), ('aabbcc', 1), ('aabbcc', 1), ('aaaaaaaaaaaaaaaaabb', 0), ('aaaaaaaaaaaacccc', 0), ('aabbcc', 1), ('aabbcc', 1), ('aabbcc', 1), ('aabbcc', 1), ('aaaaaaaaabbb', 0), ('aabbcc', 1), ('aaaaaaaaaaaaaaaaab', 0), ('aabbcc', 1), ('aabbcc', 1), ('aaaaaaabb', 0), ('aabbcc', 1), ('bccccccc', 0), ('aaaaaaaaaaaaaaaaaabb', 0), ('aabbcc', 1), ('aaaaaaaaaaaaabbbbbbb', 0), ('aaabbbbbbbbbbbbbbcc', 0), ('aaaaaaaaaaa', 0), ('aabbbbbbbbbbbbb', 0), ('aabbcc', 1), ('aaaaaaaaaabbbbcccccc', 0), ('aabbcc', 1), ('aabbcc', 1), ('aabbcc', 1), ('aaaaaabbbcccccc', 0), ('aaaaaaaaaaaabb', 0), ('bbbbbbbbbbbbbbbbbcc', 0), ('aabbcc', 1), ('aaaaaaaaaaaaabbbb', 0), ('aaaaaaaaaaaaaabbbb', 0), ('aabbcc', 1), ('aabbcc', 1), ('aabbbbbbbbbbbbbbb', 0), ('aaaaaaaaaaaaabbbbbb', 0), ('aaaaaaaaaaaaaaaabbbb', 0), ('aaaaaaaaaacc', 0), ('aabbcc', 1), ('aabbcc', 1), ('aabbcc', 1), ('aaaaaaaac', 0), ('aabbcc', 1), ('aaaaaaaaaaaabcccccc', 0), ('aaaaaaaaaaaabbbbbbb', 0), ('aabbcc', 1), ('aabbcc', 1), ('aabbcc', 1), ('aaaabbbbbb', 0), ('aabbcc', 1), ('aaabbbbbbbbbbbbbbbbb', 0), ('aabbcc', 1), ('aaaaaaaaaab', 0), ('aabbcc', 1), ('aabbcc', 1), ('aaaaaaaaaaac', 0), ('aaaaaaaaaaaab', 0), ('aacccccccccccccccc', 0), ('aabbcc', 1), ('aabbcc', 1), ('aaaaaaaaaaaaaaaaaab', 0), ('aaaaaaaaaabbbbbbbb', 0), ('aaaaaaaaaaaaaaaabbbb', 0), ('aaaaaabbbbbbbb', 0), ('aabbcc', 1), ('aabbcc', 1), ('aabbcc', 1), ('abbbcccccccccccc', 0), ('aabbcc', 1), ('aaaaaaaaaaaaaaaabbb', 0), ('aabbcc', 1), ('aabbcc', 1), ('aaaaaaaaaabb', 0), ('aaaaaaaaaaaaaaabbbbb', 0), ('aaaaaaaaaaaaaaaaaa', 0), ('aabbcc', 1), ('aaaabbbbbbbbbb', 0), ('aaaaaaaaaaaaaa', 0), ('aabbcc', 1), ('aabbcc', 1), ('aaaaaaabbbbccccccc', 0), ('aabbcc', 1), ('aaaabbbbbbbbbbbbb', 0), ('aabbcc', 1), ('aabbcc', 1), ('aabbcc', 1), ('aabbcc', 1), ('aabbcc', 1), ('aaaaaaaaaabbbbbbbb', 0), ('aaaaaaaaaaaaaaaaabbb', 0), ('aabbcc', 1), ('aaaaabbbbbbbbbbcccc', 0), ('aaaac', 0), ('aabbcc', 1), ('aabbcc', 1), ('aabbcc', 1), ('aabbcc', 1), ('aaaaaaaaaaaabbbbbbbb', 0), ('aaaaaaaaaaaaaaaaaa', 0), ('aaaaaaaaaaaaaaaabb', 0), ('aabbcc', 1), ('aaaaaabbbbbbbbbbb', 0), ('aabbcc', 1), ('aaaaaaaabbbbbbbb', 0), ('aaaaaaabbb', 0), ('bbbbbbbbbbbbb', 0), ('aaaaaaaaaaaaaaab', 0), ('abbbbbbbbbbbbbbbb', 0), ('aabbcc', 1), ('aaaaaaaaaaaaaaaaaaa', 0), ('aaaaabbbbbbbbbbbbb', 0), ('aaaaaaaaaaaaaaaaaaa', 0), ('bbbbbbccccccc', 0), ('aabbcc', 1), ('aabbcc', 1), ('aaaaaaaaaabccccccc', 0), ('aaaaaabbbbbbbbbbb', 0), ('aaaabbcccc', 0), ('aaaaaabbbbbb', 0), ('abbbbbbbcccc', 0), ('aaaaaaaaaaaaaaaaaaab', 0), ('aaaaaaaaaaaaaa', 0), ('aaaaaaaaaaabbbbbbbcc', 0), ('aabbcc', 1), ('aabbcc', 1), ('aabbcc', 1), ('aabbcc', 1), ('aaaaaaaaaaaaaaaaaabb', 0), ('aaaabbb', 0), ('aaaaaabbbbbbbbbb', 0), ('aaaaaaaaaaabbcccccc', 0), ('aaaaabbb', 0), ('aabbcc', 1), ('aabbcc', 1), ('aaaaaaaaaaaabbbbcc', 0), ('bbbbb', 0), ('aaaaaaaaaaaaaaaaabbb', 0), ('aabbcc', 1), ('aaaaaaaaaaaaaaaaab', 0), ('abbbbbbbbbbbb', 0), ('aaaaaaaaaaaaabbbb', 0), ('aabbcc', 1), ('bbbbbbbbbbbbbbb', 0), ('bbbbbbbbbccccc', 0), ('aabbcc', 1), ('aaaaaaaaaaaaaaaabb', 0), ('aaaabbbbccc', 0), ('aaaaaaaaaaaaaaaaaabc', 0), ('aabbcc', 1), ('aabbcc', 1), ('aabbcc', 1), ('aabbcc', 1), ('aabbcc', 1), ('bbbbbbbbcccccc', 0), ('aaaaaaaaaaaaaabbb', 0), ('aabbcc', 1), ('aabbcc', 1), ('aaaabbbbb', 0), ('aabbcc', 1), ('aaaaaaaaaaaaaaaaab', 0), ('aabbcc', 1), ('aabbcc', 1), ('aaaabbbbbbbbbbbbc', 0), ('aabbcc', 1), ('aabbcc', 1), ('aaaaaaaaabbbbbbbbcc', 0), ('aaaaaaaaaaaaaaaaaaa', 0), ('aabbcc', 1), ('aaaaaaaaaaaaaaabbccc', 0), ('aaaaaaaaaaaaaaaabbb', 0), ('aaaacccccccccccccccc', 0), ('aabbcc', 1), ('aaaaaaaaaaaaaaa', 0), ('aaaaaaaaaaabcc', 0), ('aabbcc', 1), ('aabbcc', 1), ('aaaaaaaaaaaaaaaaaab', 0), ('aabbcc', 1), ('aaaaaaaaaaaaaaaaab', 0), ('aabbcc', 1), ('aaaaaaaaabccccccccc', 0), ('aabbbbbbbb', 0), ('aabbcc', 1), ('aaaaaaaaaaabbccccc', 0), ('aaaaaaaaaaaaaaaaaaa', 0), ('aabbcc', 1), ('aabbcc', 1), ('aabbcc', 1), ('aabbcc', 1), ('aabbcc', 1), ('aabbcc', 1), ('aaaaaaaaaaaaaaccccc', 0), ('aabbbbbbbbbccccccccc', 0), ('aaaaaaaaaaaaaabbcc', 0), ('aabbcc', 1), ('aabbcc', 1), ('aaaaaaaaaabbbbbbb', 0), ('aaaaaabbbbbbb', 0), ('aaaaaaaabbbbbbc', 0), ('aabbcc', 1), ('aaa', 0), ('aabbcc', 1), ('aaaaaabbbc', 0), ('aaaaaaaaabb', 0), ('aabbcc', 1), ('aabbcc', 1), ('abbbbbbcccccccc', 0), ('aaaaaaaaaabbbbbbbbbb', 0), ('abbbbbbbbbccc', 0), ('aabbcc', 1), ('aaaaaaaaaaaaaaabbbbb', 0), ('aaaaaabbb', 0), ('aaaaaaaaabbbbbbbbbb', 0), ('abbbccccccccc', 0), ('aabbcc', 1), ('abbbbbbbbbbbbbbbbbbb', 0), ('aabbcc', 1), ('aabbcc', 1), ('aaaabbbbbbbbbbbbbbbb', 0), ('aaaabbbbbbbbbbbbcccc', 0), ('aaaaaaaaaaaaaaaaaa', 0), ('aaaaaaaaaaaaaaaaaaa', 0), ('aaaaaaaaaaaaabbbbb', 0), ('aaaaaaaaaaaaaab', 0), ('aaaaabbbbcccc', 0), ('aabbcc', 1), ('aaaaaaaaaaabbbbbbbbb', 0), ('aabbcc', 1), ('bbbbbbbbbbbbbbbbb', 0), ('aaaaaaaaaaaabbbbbbbb', 0), ('aabbcc', 1), ('aaaaabbbbbbbcc', 0), ('aaaaaaabbbbbbbbb', 0), ('aaaaaaaaaaaaaaabbbb', 0), ('aabbcc', 1), ('aabbcc', 1), ('aabbcc', 1), ('aabbcc', 1), ('aabbcc', 1), ('aaaaaaabbbbbbccccccc', 0), ('aabbcc', 1), ('aabbcc', 1), ('aabbcc', 1), ('aabbcc', 1), ('aaaaaaaaaaaaabbbbbbb', 0), ('aabbcc', 1), ('aaaaaabbbb', 0), ('abbbbbbbbb', 0), ('aaaaaaaaaaaaaaabbbbb', 0), ('aaaaaaaaaaaaaaaaaaa', 0), ('aabbcc', 1), ('aabbbbbbbbbbbbbbb', 0), ('aabbcc', 1), ('aaaaaaaaaaaabbbbbb', 0), ('aabbcc', 1), ('aabbcc', 1), ('aaabbbbbbbb', 0), ('aaaaaaaaaaaabbbbbbbb', 0), ('bbbbbbbbbbbbbbbbbb', 0), ('abbbbcccccc', 0), ('aaaaaabbbbbccccccccc', 0), ('aaaaabbbbb', 0), ('aaaaaaaaaaaaaaabb', 0), ('aaaaaaaaaaaaaaaaaabb', 0), ('aaaaabbbbbbbbbbb', 0), ('aaaaaaaabbbb', 0), ('bbbbbbbbb', 0), ('aabbcc', 1), ('aabbcc', 1), ('aabbcc', 1), ('aabbcc', 1), ('aabbcc', 1), ('aaaaaaaaaaabbbbbbbbb', 0), ('aaaaaaaaaaaaaaaaaaab', 0), ('aabbcc', 1), ('aabbcc', 1), ('aaaabbbbbbbccccccccc', 0), ('aabbcc', 1), ('aabbcc', 1), ('aabbcc', 1), ('aabbcc', 1), ('aabbcc', 1), ('aabbcc', 1), ('aaabccc', 0), ('aabbcc', 1), ('aaaaaaaaaaaaaaaaa', 0), ('aabbcc', 1), ('aabbcc', 1), ('aabbcc', 1), ('aaaaaaaaaaaabccccccc', 0), ('aabbcc', 1), ('aaaaaaaabbbbbbbbbbbb', 0), ('aaaaaaaaaaaaaaaaaa', 0), ('aabbcc', 1), ('aabbcc', 1), ('aaaaaaaaaaaaabbbbc', 0), ('aaaaaaaaaabbbccccc', 0), ('aaabbcccccc', 0), ('aabbcc', 1), ('abbbbbbbbbbb', 0), ('aaabbbbbbbbbbbbbb', 0), ('aabbcc', 1), ('aabbcc', 1), ('aabbcc', 1), ('aabbcc', 1), ('aabbcc', 1), ('aaaaaaabccccccccccc', 0), ('aaaaaaaaaaaaaabbbb', 0), ('aaaaaaaaaab', 0), ('cccccccccccccc', 0), ('aabbcc', 1), ('aabbcc', 1), ('aabbcc', 1), ('aabbcc', 1), ('aabbcc', 1), ('aaaaabbbbbbccccccc', 0), ('aabbcc', 1), ('aabbcc', 1), ('aaaaaaaaaaaabbbbb', 0), ('aabbcc', 1), ('aaaaaaaaaaaaaaabbbb', 0), ('aabbbccc', 0), ('aabbcc', 1), ('aaaaaaaaabbbbbb', 0), ('aabbcc', 1), ('aabbcc', 1), ('aabbcc', 1), ('bbbbbbbbcccc', 0), ('aaaaaaaaabbbbbbbbbb', 0), ('aaaaaaaaaaaaaaaaaaab', 0), ('aabbcc', 1), ('aabbcc', 1), ('aaabbbbbbbbb', 0), ('aaaaaaabbbb', 0), ('aaaaaaaaaaaaaaab', 0), ('aabbcc', 1), ('aabbcc', 1), ('aabbcc', 1), ('abbbbbbbbbbbbbbb', 0), ('aabbcc', 1), ('aaaaabbbbbbbbbbbb', 0), ('aabbcc', 1), ('aaaaaaaabbb', 0), ('aaaaaaaaaaaabbb', 0), ('aabbcc', 1), ('aaaaaaaaaaaaaaaaaa', 0), ('aabbcc', 1), ('aabbcc', 1), ('aaabbbbbbbbbbbbbc', 0), ('aabbcc', 1), ('aaabbbbbbb', 0), ('aabbcc', 1), ('aabbcc', 1), ('aabbcc', 1), ('aaaaaaaaaaaaaaaaaabb', 0), ('aaaaaaaaaaaaaabbb', 0), ('aaaaaaaaaaab', 0), ('aabbcc', 1), ('aabbcc', 1), ('aabbcc', 1), ('aabbcc', 1), ('aaaaaaaaaabbbbbbbbb', 0), ('aabbcc', 1), ('aabbcc', 1), ('aabbcc', 1), ('aaabbbbbbbcccc', 0), ('aabbcc', 1), ('aaaaaaaaaaabbbbbbbb', 0), ('aabbcc', 1), ('bbbbbbbbbbbbbbbb', 0), ('aaaaaaaaaaaaaaabb', 0), ('aaaacccccccccccccccc', 0), ('aaaaaabbbbbbbbbbbbb', 0), ('aabbcc', 1), ('aabbcc', 1), ('aabbcc', 1), ('aabbcc', 1), ('aabbbbbbbbbbbbbbbbb', 0), ('aabbcc', 1), ('aaaaaaaaaabbbb', 0), ('aaaaaaaaaaaaaaaa', 0), ('aabbcc', 1), ('aabbcc', 1), ('abbbbbbbccccccc', 0), ('aabbcc', 1), ('aaaaaaaaaaaaaaaabbb', 0), ('aaaaaaabbbbbbbbbb', 0), ('aabbcc', 1), ('aabbcc', 1), ('aaabbbbbbbbbbbbbb', 0), ('aabbcc', 1), ('aabbcc', 1), ('aaaabbbbbbbbbbbb', 0), ('aabbcc', 1), ('aabbcc', 1), ('aaaaaaaaaaaaaaaab', 0), ('aabbcc', 1), ('aabbcc', 1), ('aaaaaabbbbbcccccccc', 0), ('aaaaaaaabbbbbbbbbbb', 0), ('aaaaaaaabbbbbb', 0), ('aabbcc', 1), ('aaaaaabbbbbbbbbbbb', 0), ('aabbcc', 1), ('aaaaaaabbbbbbbbbbb', 0), ('aabbcc', 1), ('aaabb', 0), ('aaaaaaaabbbbbbbbbbbb', 0), ('bbbbccccccccccccc', 0), ('aaaaaaaaaaaaaaaaaab', 0), ('aabbcc', 1), ('aabbcc', 1), ('aabbcc', 1), ('aaaaaaaaaaaaaaaaaaa', 0), ('aabbcc', 1), ('aaaaaaaaaaaaaaabbb', 0), ('aabbcc', 1), ('aabbcc', 1), ('aaaaaaaaabbbbbbbbbbb', 0), ('aabbcc', 1), ('aaaaaaaaaaaaaaaabbc', 0), ('aabbcc', 1), ('aaaaaaaaaaaaaaaaa', 0), ('aaaaaaaaaaaaaaabbcc', 0), ('aaaaabbbbbbbbbbbbbbb', 0), ('aabbcc', 1), ('aaaaaaaaabbbbbb', 0), ('aabbcc', 1), ('aabbcc', 1), ('aabbcc', 1), ('aaaaaaaaaaaaaaaaabb', 0), ('aaaaaaa', 0), ('aaaaaaaaaaaaabbccccc', 0), ('aabbcc', 1), ('aaaaaaaaaaaaaaaaaa', 0), ('aaaaaaaaaaaaaa', 0), ('aaaaaaaaaaab', 0), ('bbbbbbbbbb', 0), ('aaaaaaaaaaaaaaabbbb', 0), ('aabbcc', 1), ('aabbcc', 1), ('aabbcc', 1), ('aaaaaaaaaaaaaaaabbb', 0), ('aaaaaaabbbbbbbbbbb', 0), ('aabbcc', 1), ('aaaaaaaaaaaaaabbbbb', 0), ('aaaaaaaaaaabbbbbcccc', 0), ('aaaaaaaabbb', 0), ('aabbcc', 1), ('aabbcc', 1), ('aabbcc', 1), ('aabbcc', 1), ('aaaaaaaaaaaaaab', 0), ('aabbcc', 1), ('aaaaaaaaaaaaaaaaa', 0), ('aaaaaaaaaaaaaaaaaabb', 0), ('aabbcc', 1), ('aabbcc', 1), ('aaaaaaaaabbbbbbbb', 0), ('bccccccc', 0), ('aaaaaaaaaabccccccc', 0), ('aabbcc', 1), ('aaaabbbbbb', 0), ('aabbcc', 1), ('aabbcc', 1), ('aabbcc', 1), ('aaaaaaabbbbbb', 0), ('aabbcc', 1), ('aaaaaaaaaaaaaaaaaabb', 0), ('aaabbbbcccccccccccc', 0), ('aabbcc', 1), ('aabbcc', 1), ('aaaaaaaaaaaaaaaaabbb', 0), ('aabbcc', 1), ('bbbbbbbbbbbbbbb', 0), ('aaaaaaaaaabccccccccc', 0), ('aaaaaaabcccccc', 0), ('aabbcc', 1), ('aaaaaabbbbbbcccc', 0), ('aaaaaaaaaaaaaabbbbbb', 0), ('aaaaaaaaabbbbbbbb', 0), ('aabbcc', 1), ('aaaaaaaaaabbb', 0), ('aabbcc', 1), ('aabbcc', 1), ('aabbcc', 1), ('aaaaaaaaaaaaaaaaaab', 0)]\n",
      "Average Sentence Length:\n",
      "11.062\n",
      "Test Data Sample:\n",
      "[('aaaaaaaaaaaabbbbbbbbbccccccccc', 0), ('aaaaaaabbbbbbbccccccc', 1), ('aaaaaaaaaaaaaaaaaaaaaaaaaaabbb', 0), ('aaaaaaaaaaaaaaaaaaaaaabbbc', 0), ('aaaaaaaaabbbbbbbbbccccccccc', 1), ('aaaaaaaaabbbbbbccccccccccccc', 0), ('aaaaaaabbbbbbbccccccc', 1), ('aaaaaaaaaaaaaaaaaaaaabbbbbbbbb', 0), ('aaaaaaaabbbbbbbbcccccccc', 1), ('aaaaaaaaaaaaaaabbbbbbbbbbccccc', 0), ('aaaaaaabbbbbbbccccccc', 1), ('aaaaaaaabbbbbbbbcccccccc', 1), ('aaaaaaaaabbbbbbbbbccccccccc', 1), ('aaaaaaaabbbbbbbbcccccccc', 1), ('aaaaaaaabbbbbbbbcccccccc', 1), ('aaaaaaabbbbbbbccccccc', 1), ('aaaaaaaaabbbbbbbbbccccccccc', 1), ('aaaaaaaaabbbbbbbbbccccccccc', 1), ('aaaaaaaaaaaabbbbbbbbbbbbbbbbb', 0), ('aaaaaaaaaaaaaaaaaaaaaaaabbbbb', 0), ('aaaaaaabbbbbbbccccccc', 1), ('bbbbbbbbbbcccccccccccccccccccc', 0), ('aaaaaaaaaaaaaaaaaaaaabbbccc', 0), ('aaaaaaaabbbbbbbbcccccccc', 1), ('aaaaaaabbbbbbbccccccc', 1), ('aaaaaaaaabbbbbbbbbccccccccc', 1), ('aaaaaaaaabbbbbbbbbccccccccc', 1), ('aaaaaaaaabbbbbbbbbccccccccc', 1), ('aaaaaaabbbbbbbccccccc', 1), ('aaaaaaaaaaaaaaaaaaaaaaaaaaaa', 0), ('aaaaaaaaaaaaaaaabbccc', 0), ('aaaaaaaaabbbbbbbbbccccccccc', 1), ('aaaaaaaaaaaaaaaaaaaaaabbbc', 0), ('aaaaaabbbbbbbbbbbccccccc', 0), ('aaaaaaaaabbbbbbbbbccccccccc', 1), ('aaaaaaaabbbbbbbbcccccccc', 1), ('aaaabbbbbbbbbbbbbbbbbbbbbbbbbb', 0), ('aaaaaaaaaaaaaaaaaaaabbbbbccccc', 0), ('aaaaaaaabbbbbbbbcccccccc', 1), ('aaaaaaaaaaaaaaabbbbbbbbbbbbccc', 0), ('aaaaaaaaabbbbbbbbbccccccccc', 1), ('aaaaaaabbbbbbbccccccc', 1), ('aaaaaaaaaabccccccccccccccccccc', 0), ('aabbbbbbbbbbbbbbbbbcc', 0), ('aaaaaaaaaaaaaaaaaaaaaaaaab', 0), ('aaaaabbbbbbbbbbbbbbbbbbbc', 0), ('aaaaaaaaaaaaabbbbbcccccccccccc', 0), ('aaaaaaaabbbbbbbbcccccccc', 1), ('aaaaaaaaaaaaaaaaaccccccccc', 0), ('aaaaaaabbbbbbbccccccc', 1), ('aaaaaaaaaaabccccccccccccc', 0), ('aaaaaaaaaaaaaaaaaaaaaaaaaabb', 0), ('aaaaaaaaaaaaaaaaaaaabbbbbbb', 0), ('aaaaaaaabbbbbbbbcccccccc', 1), ('aaaaaaaaaaaaaaaaaaaaaaabbbbbb', 0), ('bbbbbbbccccccccccccccccc', 0), ('aaaaaaaaabbbbbbbbbccccccccc', 1), ('aaaaaaaaaabbccccccccccc', 0), ('aaaaaaabbbbbbbccccccc', 1), ('aaaaaabbbbbbbbbbbbbbbbbbbbbb', 0), ('aaaaacccccccccccccccccccccccc', 0), ('aaaaaaabbbbbbbccccccc', 1), ('aaaaaaaaaaaaaaaabbbbccc', 0), ('aaaaaaaaaaaaaabbccccccccccc', 0), ('aaaaaaaaabbbbbbbbbccccccccc', 1), ('aaaaaaabbbbbbbccccccc', 1), ('aaaaaaaaabbbbbbbbbccccccccc', 1), ('aaaaaaaabbbbbbbbbbbbbbbbbbb', 0), ('aaaaaaaaabbbbbbbbbccccccccc', 1), ('aabbbbbbbbbbbbbbbbcccc', 0), ('aaaaaaaaabbbbbbbbbccccccccc', 1), ('aaaaaaaabbbbbbbbbbbbbbbbbbcccc', 0), ('aaaaaaaaaaaabbbbbbbbccc', 0), ('aaabbbbbbbcccccccccccccccccc', 0), ('aaaaaaaaabbbbbbbbbbbbbbbbbbbbb', 0), ('aaaaaaaaaaaaaaaaaaaaaaaaaaabb', 0), ('aaaaaaaaaaaabbbbbbbbbbbbbb', 0), ('aaaaaaabbbbbbbccccccc', 1), ('aaaaaaabbbbbbbccccccc', 1), ('aaaaaaaaaaaaaaaaaaaaaaaabbb', 0), ('aaaaaaaaaaaaaaaaabbbbbbbb', 0), ('aaaaaaaabbbbbbbbbbccc', 0), ('aaaaaabccccccccccccccccccccccc', 0), ('aaaaaaaabbbbbbbbcccccccc', 1), ('aaaaaaaaaaaaaaabbbbccc', 0), ('aaaaaaaabbbbbbbbcccccccc', 1), ('aaaaaaaabbbbbbbbcccccccc', 1), ('aaabbbbbbbbbbbbbbbbcccccccccc', 0), ('aaaaaaaaabbbbbbbbbbbbbbbcccccc', 0), ('aaaaaaaaabbbbbbbbbccccccccc', 1), ('aaaaaaaabbbbbbbbcccccccc', 1), ('aaaaaaaabbbbbbbbcccccccc', 1), ('aaaaaaabbbbbbbbbbbbcccccc', 0), ('aaaaaaabbbbbbbccccccc', 1), ('aaaaaaaabbbbbbbbcccccccc', 1), ('aaaaaaaabbbbbbbbcccccccc', 1), ('aaaaaaabbbbbbbccccccc', 1), ('aaaaaaaabbbbbbbbcccccccc', 1), ('aaaaaaabbbbbbbbbbbbbbbbbbbbbb', 0), ('aaaaaaaabbbbbbbbcccccccc', 1), ('aaaaaaaabcccccccccccccccc', 0), ('aaaaaaaaaaaaaaaaaaaaabbbbbbbb', 0), ('aaaabbcccccccccccccccccccccc', 0), ('aaaaaaaaaaaaaaaaaaabbbbbbb', 0), ('aaaaaaabbbbbbbccccccc', 1), ('aaaaaaaaaaaaabbbbbbbbbbbccc', 0), ('aaaaaaaaaaaaaabbbcccccccccccc', 0), ('aaaaaaaaabbbbbbbbbccccccccc', 1), ('aaaaaaaaaaaaaaaaaaaaaaabbbbcc', 0), ('aaaaaaaaabbbbbbbbbccccccccc', 1), ('aaaaaaaaaaaaaaaaaaaaabcc', 0), ('aaaaabbbbbbbbbbbbbbbbbbccc', 0), ('aaaaaaaaaaaaabbbbbbccccccc', 0), ('abbbbbcccccccccccccccccc', 0), ('aaaaaaaaaaaaaaaaaaaaaaaabbb', 0), ('aaaaaaaaaaaaaaaaaaaaaab', 0), ('aaaaaaaabbbbbbbbbbccccc', 0), ('aaaaaaabbbbbbbccccccc', 1), ('aaaaaaaaaaaaaaaaaaaaaaabbbb', 0), ('aaaaaaaabbbbbbbbcccccccc', 1), ('aaaaaaaabbbbbbbbcccccccc', 1), ('abbbbbbbbbbbbbbbbbbbbbbbbb', 0), ('aaaaabbbbbbbbbbbbbbbbbbbbbbbbc', 0), ('aaaaaaaaabbbbbbbbbccccccccc', 1), ('aaaaaaaabbbbbbbbcccccccc', 1), ('aaaaaaaaabbbbbbbbbccccccccc', 1), ('aaaaaaabbbbbbbccccccc', 1), ('abbbbbbbbbbbbccccccccccccccccc', 0), ('aaaaaaaaaaaaaaaaaaaaaaabbbbbbc', 0), ('aaaaaaaaaaaaaaaaaaaaaaaaaaaaa', 0), ('aaaaaaaaaaaaaaaaaaaaaaaaaaabb', 0), ('aaaaaaaaaaaaaaabbbbbccccccc', 0), ('aaaaaaabbbbbbbccccccc', 1), ('aaaaaaabbbbbbbccccccc', 1), ('aaaaaaabbbbbbbccccccccc', 0), ('aaaaaaabbbbbbbbbbbbbbbbbbb', 0), ('aaaaabbbbbbbbbbbbbbbbbbbbbb', 0), ('aaaaaaabbbbbbbccccccc', 1), ('abbbbbbbbbbbbbbbbbbbbbbbbbbb', 0), ('aaaaaaaaaaaaaaaaaaaaaaaaaaaaab', 0), ('aaaaaaaabbbbbbbbcccccccc', 1), ('aaaaaaabbbbbbbccccccc', 1), ('aaaaaaaaaaaaaaabbbbbbbccc', 0), ('aaaaaaabbbbbbbccccccc', 1), ('aaaaaaaaaaaaaaaaaaaaaaaaaaaaab', 0), ('aaaaaabbcccccccccccccccccc', 0), ('aaaaaaaaaaaaaaaaaaaaaaabbb', 0), ('aaaabbbbbbbbbbbbbbbbbbccc', 0), ('aaaaaaaabbbbbbbbcccccccc', 1), ('aaaaaaabbbbbbbccccccc', 1), ('aaaaaaaaabbbbbbbbbbccccc', 0), ('aaaaaaaabbbbbbbbcccccccc', 1), ('aaaaaaaaaaaaaaaaaaaaaaaaaaabbb', 0), ('aaaaaaaaabbbbbbbbbccccccccc', 1), ('aaaaaaaabbbbbbbbcccccccc', 1), ('aaaaaaaaaaaaaaaaaaaaaaaaaaaaa', 0), ('aaaaaaaaabbbbbbbbbccccccccc', 1), ('aaaaaaaaabbbbbbbbbccccccccc', 1), ('aaaaaaaabbbbbbbbcccccccc', 1), ('aaaaaaaaaaaaaaaaaaaaaaaaaaabb', 0), ('aabbbbbbbbbbbbbbbbbbbbbbc', 0), ('aaaaaaabbbbbbbccccccc', 1), ('aaaaaaabbbbbbbccccccc', 1), ('aaaaaaaaabbbbbbbbbccccccccc', 1), ('aaaaaabbbbbccccccccccccccccccc', 0), ('aaaaaaaaabbbbbbbbbccccccccc', 1), ('aaaaaaabbbbbbbccccccc', 1), ('aaaaaaaaabbbbbbbbbccccccccc', 1), ('aaaaaaaaaaaaaaaaaaabbbbbbbbb', 0), ('aaaaaaaaabbbbbbbbbccccccccc', 1), ('aaaaaaaaaaaaaaabbccccccccccc', 0), ('aaaaaaaaaaaaaaaaaaabbcccccc', 0), ('aaaaaaabbbbbbbccccccc', 1), ('aaaaaaaaabbbbbbbbbccccccccc', 1), ('aaaaaaaaabbbbbbbbbccccccccc', 1), ('aaaaaaaabbbbbbbbcccccccc', 1), ('aaaaaaabbbbbbbccccccc', 1), ('aabbbbbbbbbbbbcccccccccccc', 0), ('bbccccccccccccccccccccccccc', 0), ('aaaaaaabbbbbbbccccccc', 1), ('aaaaaaaaaaaaaaaaaaaabbbbbbbbbb', 0), ('aaaaaaaaaaaaaaaaaaaaaaaaaabbb', 0), ('aaaaaabbbbbbbbcccccccc', 0), ('aaaaaaaabbbbbbbbcccccccc', 1), ('aaaaaaaaaaaaaaaacccccccc', 0), ('aabbbbbbbbbbbbbbbbbbbbbbbbbb', 0), ('aaaaaaaaabbbbbbbbbccccccccc', 1), ('aaaaaaaabbbbbbbbcccccccc', 1), ('aaaaaaabbbbbbbbbbbbbbbbbcccc', 0), ('aaaaaaabbbbbbbccccccc', 1), ('aaaaaaaaaaaaaaaaaaaaaaaaaaaabc', 0), ('aaaaaaaaaaabccccccccccccc', 0), ('aaaaaaaabbbbbbbbcccccccc', 1), ('aaaaaaaaaaaaaaaaaaaaaaaabcc', 0), ('aaaaaaabbbbbbbccccccc', 1), ('aaaaaaabbbbbbbccccccc', 1), ('aaaaaaaaaaaaaaaabbbccccc', 0), ('aaaaaaaaabbbbbbbbbccccccccc', 1), ('aaaaaaaaabbbbbbbbbccccccccc', 1), ('aaaaaaabbbbbbbbbbccccccccc', 0), ('aaaaaaaaabbbbbbbbbccccccccc', 1), ('aaaaaaaabbbbbbbbcccccccc', 1), ('aaaaaaaaaaaaaaaaaaaaaabbbccccc', 0), ('aaaaabbbbbbbbbbbbbbbbbbbbbbbb', 0), ('abbbbbbbbbbbbbbbbcccccccccc', 0), ('aaaaaaaaabbbbbbbbbccccccccc', 1), ('aaaaaaaabbbbbbbbcccccccc', 1), ('aaaaaaaabbbbbbbbcccccccc', 1), ('aaaaaaabbbbbbbccccccc', 1), ('aaaaaaaaaacccccccccccccccc', 0), ('aaaaaaaaabbbbbbbbbccccccccc', 1), ('aaaaaaabbbbbbbccccccc', 1), ('aaaaaaabbbbbbbbbbbcccccc', 0), ('aaaaaaaabbbbbbbbcccccccc', 1), ('aaaaaaabbbbbbbccccccc', 1), ('aaaaaaabbbbbbbccccccc', 1), ('aaaaaaaaabbbbbbbbbccccccccc', 1), ('aaaaaaaabbbbbbbbcccccccc', 1), ('aaaaaaabbbbbbbccccccc', 1), ('aaaaaaabbbbbbbccccccc', 1), ('aaaaaaaabbbbbbbbcccccccc', 1), ('aaaaaaaabbbbbbbbcccccccc', 1), ('aaaaaaaaaabbbbbbbbbbbbbbbbcccc', 0), ('aaaaaaaabbbbbbbbcccccccc', 1), ('aaaaabbbbbbbbbbbbbbbbbbbcccc', 0), ('aaaaabbbbbcccccccccccccccccccc', 0), ('aaaaaaaabbbbbbbbcccccccc', 1), ('aaaaaaaaabbbbbbbbbccccccccc', 1), ('bbbbbbbcccccccccccccccccccc', 0), ('aaaaaaaaabbbbbbbbbccccccccc', 1), ('aaaaaaaaaaaaaaabccccccccccccc', 0), ('aaaaaaaabbbbbbbbcccccccc', 1), ('aaaaaaaaabbbbbbbbbccccccccc', 1), ('aaaaaaaaaaaaaabbbbbbbbbbbbb', 0), ('aabbbbbbbbbbbbbbbbbccccccc', 0), ('aaaaabccccccccccccccccccc', 0), ('aabbbbbbbbbbbbbbbbbbbbbbbbb', 0), ('aaaaaaaaaaaaaaabbbbbbbbbbbbbbb', 0), ('aaaaaaabbbbbbbccccccc', 1), ('aaaaaaabbbbbbbccccccc', 1), ('aaaaaaabbbbbbbccccccc', 1), ('aaaaaaaabbbbbbbbcccccccc', 1), ('aaaaaabbbbbbbbbbbbbbbbbbbbbbb', 0), ('aaaaaaaabbbbbbbbbbbbbbbbbb', 0), ('aaaaaaaaabbbbbbbbbccccccccc', 1), ('aaaaaaaaaaaaabbbbbccccccccc', 0), ('aaaaaaaaaaaaabccccccc', 0), ('aaaaaaaaaabbbbbbbbbbbbbbbbbbbb', 0), ('aaaaaaaaabbbbbbbbbccccccccc', 1), ('aaaaaaaaaaaaaaaaaabbcc', 0), ('aaaaaaaabbbbbbbbcccccccc', 1), ('aaaaaaaaabbbbbbbbbccccccccc', 1), ('aaaaaaaaaaaaaaaaaaaaaaaaaaa', 0), ('aaaaaaabbbbbbbccccccc', 1), ('aaaaaaaaabbbbbbbbbccccccccc', 1), ('aaaaaaaaaaaabbbbbbbbbbbbbbbbb', 0), ('aaaaaabbbbbbbbbbbbbbbbbbbbbbb', 0), ('aaaaaaaabbbbbbbbcccccccc', 1), ('aaaaaaaabbbbbbbbcccccccc', 1), ('aaaaaaaaabbbbbbbbbcccccccccc', 0), ('aaaaaaabbbbbbbccccccc', 1), ('aaaaaaaaabbbbbbbbbccccccccc', 1), ('aaaaaaaaaaaaaaaaaaaaaaaaaac', 0), ('aaaaaaaaabbbbbbbbbccccccccc', 1), ('aaaaaaaaaaaaaabbbbbbbbbbbbbb', 0), ('bbbbbbbbbbbbbbcccccccccccc', 0), ('aaaaaaaabbbbbbbbcccccccc', 1), ('aaaaaaaaabbbbbbbbbccccccccc', 1), ('aaaaaaaabbbbbbbbcccccccc', 1), ('aaaaaaabbbbbbbccccccc', 1), ('aaaaaaaaaaaaaaaaaaaaaabbbbbbb', 0), ('aaaaaaaabbbbbbbbbbbbbbbbbbbbb', 0), ('aaaaaaabbbbbbbccccccc', 1), ('aaaaaaaaaaaaaaaaaaaaaaaaaaaabb', 0), ('aaaaaaaaaaaaaaaaaaaaaaaaabcc', 0), ('aaaaaaaabbbbbbbbcccccccc', 1), ('aaaaaaaaabbbbbbbbbccccccccc', 1), ('aaaaaaaabbbbbbbbcccccccc', 1), ('aaaabbbbbbbbbbbbbbbbbbbbbbbb', 0), ('aaaaaaaabbbbbbbbcccccccc', 1), ('aaaaaaaaabbbbbbbbbccccccccc', 1), ('aaaaaaaabbbbbbbbcccccccc', 1), ('aaaaaaaaaaaaaaabbcccccccccc', 0), ('aaaaaaabbbbbbbccccccc', 1), ('aaaaaaabbbbbbbccccccc', 1), ('aaaaaaaaaaaaaaaaaaaaaabbbbbbbb', 0), ('aaaaaaabbbbbbbccccccc', 1), ('aaaaaaabbbbbbbccccccc', 1), ('aaaaaaabbbbbbbccccccc', 1), ('aaaaaaaaabbbbbbbbbccccccccc', 1), ('aaaaaaaaaaaaaaaaaaaaaaabbbbb', 0), ('aaaaaaaaabbbbbbbbbccccccccc', 1), ('aaaaaaabbbbbbbccccccc', 1), ('aaaaaaaaaaaaaaaaaabbbbbbbb', 0), ('aaaaaaaaabbbbbbbbbccccccccc', 1), ('aaaaaaabbbbbbbccccccc', 1), ('aaaaaaabbbbbbbccccccc', 1), ('aaaaaaaaabbbbbbbbbccccccccc', 1), ('aaaaaaaaaaaaaaaaaaaaaaabbbbbbb', 0), ('aaaaaaaabbbbbbbbcccccccc', 1), ('aaaaaaaaaaaaaaabbbbbbbbbbc', 0), ('aaaaaaaaabbbbbbbbbccccccccc', 1), ('aaaaaaaaaaaaabbbccccccc', 0), ('aaaaaaaaaaaaaaaaaaaaaaaaaaaaab', 0), ('aaaaaaaaaaabbbbbbbbbbbbbcccccc', 0), ('aaaaaaaaaaaaaaaaaaaaaaa', 0), ('aaaaaaaaaaaaaaaaaaaaaaabb', 0), ('aaaaaabbbbbbbbbbbcccccccc', 0), ('aaaaaaaaabbbbbbbbbccccccccc', 1), ('aaaaabbbbbbbbbbbcccccc', 0), ('aaaaaaabbbbbbbccccccc', 1), ('aaaaaaaaaabbbbbbcccccccccc', 0), ('aaaaaaaabbbbbbbbcccccccc', 1), ('aaaaaaaabbbbbbbbcccccccc', 1), ('aaabbbbbbbbbbbbbbbbbcccc', 0), ('aaaaaaaaaaaaaaaaaaabbbbbbbbccc', 0), ('aaaaaaabbbbbbbccccccc', 1), ('aaaaaaaaaaaaaaaaaaaaaaaacccccc', 0), ('aaaaaaaabbbbbbbbcccccccc', 1), ('aaaaaaaaabbbbbbbbbccccccccc', 1), ('aaaaaaaaaaaaaaaaaaaaaaaaaaab', 0), ('aaaaaaaaabbbbbbbbbccccccccc', 1), ('aaaaaaaaaaaaaaaaaaaaaaaacc', 0), ('aaaaaaaabbbbbbbbcccccccc', 1), ('aaaaaaaaabbbbbbbbbccccccccc', 1), ('aaaaaaaabbbbbbbbcccccccc', 1), ('aabbbbbbbbbbbbbbbbbbbbbbbcc', 0), ('aaaaaaaaaaaaaaaaaaaabbbbbbbbb', 0), ('aaaaaaaaaaaaaaaaaaaaaabbbcc', 0), ('aaaaaaaabbbbbbbbcccccccc', 1), ('aaaaaaabbbbbbbccccccc', 1), ('aaaaaaaaaaaaaaaaabbbccccc', 0), ('aaaaaaaabbbbbbbbcccccccc', 1), ('aaaaaaaabbbbbbbbcccccccc', 1), ('aaaaaaaabbbbbbbbcccccccc', 1), ('aaaaaaaabbbbbbbbcccccccc', 1), ('abbbbbbbbbbbbbbbbbccccccccccc', 0), ('aaaaaabbbbbbbbbbccccccccc', 0), ('aaaaaaaaabbccccccccccccccc', 0), ('bbbbbbbbbbbbbbbbbbbbbbbb', 0), ('bbbbbbbbbbbbbbbbbbbbbbbbbbbb', 0), ('aaaaaaaaaaaaaabbbbbbbbbbccc', 0), ('aaaaaaaaaaaaabbbbbbbbc', 0), ('aaaaaaaabbbbbbbbcccccccc', 1), ('aaaaaaabbbbbbbccccccc', 1), ('aaaaaaaaaaaaaaaaaaaaaaaaaaaaa', 0), ('aaaaaaaaaaabbbbbbbbbbbbbbbbbb', 0), ('aaabcccccccccccccccccc', 0), ('aaaaaaaabbbbbbbbcccccccc', 1), ('aaaaaaaaabbbbbbbbbbbbbbbbbbb', 0), ('aaaaaabbbbbbbbbbbbbbbbbb', 0), ('aaaaaaaaaaaaaaaaaaaaaaaaaaa', 0), ('aaaaaaaaabbbbbbbbbccccccccc', 1), ('aaaaaaaaaaaaaaaaaaaaaaaaaaabb', 0), ('aaaaaaaabbbbbbbbcccccccc', 1), ('aaaaaaaabbbbbbbbcccccccc', 1), ('aaaaaaaaabbbbbbbbbccccccccc', 1), ('aaaaaaaabbbbbbbbcccccccc', 1), ('aaaaaaaaabbbbbbbbbccccccccc', 1), ('aaaaaaaaaaaaaaaaaaaaaaa', 0), ('bbbbbbbbbbbbbbbbbbbbbbbbbb', 0), ('aaaaaaaaabbbbbbbbbccccccccc', 1), ('aaaaaaaaaaaaabbbbbbbbbbbbcccc', 0), ('aaaaabbbbbbbbbbbbbbbbbbbbbbb', 0), ('aaaaaaaaabbbbbbbbbccccccccc', 1), ('aaaaaaabbbbbbbccccccc', 1), ('aaaaaaaaabbbbbbbbbccccccccc', 1), ('aaaaaaaaabbbbbbbbbccccccccc', 1), ('aaaaaaaabbbbbbbbcccccccc', 1), ('aaaaaaabbbbbbbccccccc', 1), ('aaaaaaaaabbbbbbbbbccccccccc', 1), ('aaaaaaaaaaaaaaaaaaaaaaaccccccc', 0), ('aaaaaaaaaaaaaaaaaaabbc', 0), ('aaaaaaaaabbbbbbbbbccccccccc', 1), ('aaaaaaaaaaaaaaaaabbbbbbcc', 0), ('aaaaaaaaaaaaaaaaaaaaaaaabccc', 0), ('aaaaaaabbbbbbbccccccc', 1), ('aaaaaaaabbbbbbbbcccccccc', 1), ('aaabbbbbbbbbbbbbbbbccccccccc', 0), ('aabcccccccccccccccccccccccc', 0), ('aaaaaaaaaaaaaaaaaaaaaabbbbbb', 0), ('aaaaaaaaaaaaaaaaaaaaaaaaaaabb', 0), ('aaaaaaaaaaaaaaaaaaabbbbbbbcc', 0), ('aaaaaaaaabbbbbbbbbccccccccc', 1), ('aaaaaaabbbbbbbccccccc', 1), ('aaaaaaaaaaaaaaabbbbbbcccccccc', 0), ('aaaaaaaaabbbbbbbbbccccccccc', 1), ('aaaaaaaaaaaaaaaaaaaaaaabb', 0), ('aaaaaaaaabbbbbbbbbccccccccc', 1), ('aaaaaaaabbbbbbbbcccccccc', 1), ('aaaaaaabbbbbbbccccccc', 1), ('aaaaaaaaaaaaaaaaaaaaaaaaaaaa', 0), ('aaaaaabbbbbbbbbbccccccc', 0), ('aaaaaaabbbbbbbccccccc', 1), ('aaaaaaaaabbbbbbbbbccccccccc', 1), ('aaaaaaaaaabbbbbbbbbbbbbbbb', 0), ('aaaaaaabbbbbbbccccccc', 1), ('aaaaaaaabbbbbbbbcccccccc', 1), ('aaaaaaaaaaaaaaaaaaaaaaaaccc', 0), ('aaaaabbbbbbbbbbbbbbbbbbbbbb', 0), ('aaaaaaaabbbbbbbbcccccccc', 1), ('aaaaaaabbbbbbbccccccc', 1), ('aaaaaaaabbbbbbbbcccccccc', 1), ('aaaaaaaabbbbbbbbcccccccc', 1), ('aaaaaaaaaaaaaaaaaaaaaaaaaaabbb', 0), ('aaaaaaaaabbbbbbbbbccccccccc', 1), ('aaaaaaaaaaaaaabbbbbcccccccc', 0), ('aaaaaaaaabbbbbbbbbccccccccc', 1), ('aaaaaaaaaaaaaaaaaaaabbbbbbbbbb', 0), ('aaaaaaaabbbbbbbbcccccccc', 1), ('aaaaaaaaaaaaaaabbbbbbcccccccc', 0), ('aaaaaaaaaaaabbbcccccccccccc', 0), ('aaaaaaaaaaaaaaaaaaabbbbbbbbbb', 0), ('aaaabbbbbbbbbbbbbbbbbbbbbbbbbb', 0), ('aaaaaaaaabbbbbbbbbccccccccc', 1), ('aaaaaaabbbbbbbccccccc', 1), ('aaaaabbbccccccccccccccccccc', 0), ('aaaaaaaaaaaaaaaaaaaaaaaaa', 0), ('aaaaaabcccccccccccccccccccc', 0), ('aaaaaaaaaaaaaaaaaaaaaabbbbbbcc', 0), ('aaaaaaaaabbbbbbbbbccccccccc', 1), ('aaaaaaaaaaaaaaaaaaaaaaaaaaabbb', 0), ('aaaaaaaaaaaaaaaaaaabbbbbc', 0), ('aaaaaaaaabbbbbbbbbccccccccc', 1), ('aaaaaaabbbbbbbccccccc', 1), ('aaaaaaaabbbbbbbbbbbccccccccc', 0), ('aaaaaaaaaaaaaaaaaabbbbbb', 0), ('aaaaaaabbbbbbbccccccc', 1), ('aaaaaaabbbbbbbccccccc', 1), ('aaabbbbbbbbbbbbbbbbbbbbbbbbb', 0), ('aaaaaaaabbbbbbbbcccccccc', 1), ('aaaaaaabbbbbbbccccccc', 1), ('aaaaaaaaabbbbbbbbbccccccccc', 1), ('aaaaaaaaaaaaaaaaaabbbbbbbbbbb', 0), ('aaaaaaaabbbbbbbbcccccccc', 1), ('aaaaaaabbbbbbbccccccc', 1), ('aaaaaaaabbbbbccccccccccccc', 0), ('aaaaaaaaabbbbbbbbbccccccccc', 1), ('aaaaaaabbbbbbbccccccc', 1), ('aaaaaaaaabbbbbbbbbccccccccc', 1), ('aaaaaaaaabbbbbbbbbccccccccc', 1), ('aaaaaaabbbbbbbccccccc', 1), ('aaaaaaaaaaaaaaaaaaaaabbbbb', 0), ('aaaaaaaaabbbbbbbbbccccccccc', 1), ('aaaaaaaabbbbbbbbcccccccc', 1), ('abbbbbbbbbbbbbbbbbbbcccccccccc', 0), ('aaaaaaabbbbbbbbbbbbcc', 0), ('aaaaaaaabbbbbbbbcccccc', 0), ('bbbbbbbbbbbbbbbbbbbbbbb', 0), ('aaaaaaaaaaaaaaabbbbbbbbbbbbbbb', 0), ('aaaaaaaaabbbbbbbbbccccccccc', 1), ('aaaaaaaaabbbbbbbbcccc', 0), ('aaaaaaaaaaaaaaaaaaaaaaaaaaaa', 0), ('aaaaaaabbbbbbbccccccc', 1), ('cccccccccccccccccccccccc', 0), ('aaaaaaaabbbbbbbbcccccccc', 1), ('aaaaaaaaaaaaaaaaaabbbbbbc', 0), ('aaaaaaabbbbbbbccccccc', 1), ('aaaaaaaaabbbbbbbbbccccccccc', 1), ('aaaaaaaaaaaaaaaaaaaaaaaaaaaab', 0), ('aaaaaaaaaaaaaaaaaaabbbbccccccc', 0), ('aaaaaaabbbbbbbccccccc', 1), ('aaaaaaaabbbbbbbbcccccccc', 1), ('aaaaaaaaaaaaaaaaaaaaaaaaaaaaa', 0), ('aaaaaaaaaaaaaaaaaaabbbbbbbb', 0), ('aaaaaaaaabbbbbbbbbccccccccc', 1), ('aaaaabbbbcccccccccccccccccccc', 0), ('aaaaaaabbbbbbbbbbbbbccc', 0), ('bbbbbbbbbbbbbbbbbbbbbbbbbb', 0), ('aaaaaaaaaaaaaaabbbbbbbbbbbbb', 0), ('aaaabbbbbbbbbbbbbbbbbbbb', 0), ('aaabbbbbbbbbbbbbbbbbbbbbbbbbbb', 0), ('aaaaaaaaaaaaaaaaaaaaabbbbcc', 0), ('aaaaaaabbbbbbbccccccc', 1), ('aaaaaaaabbbbbbbbcccccccc', 1), ('aaaaaaabbbbbbbccccccc', 1), ('aaaaaaaaaaaaaaaaaaaaaabbbbb', 0), ('aaaaaaaabbbbbbbbcccccccc', 1), ('aaaaaaaaabbbbbbbbbbbbbbbbc', 0), ('aaaaaaaaabbbbbbbbbbbbbbbbbbbb', 0), ('bbbbbbbbbbbbbbbbbbbccccccccc', 0), ('aaaaaaaaaaaaaaaaaaaaaaaaaaaabb', 0), ('aaaaaaabbbbbbbccccccc', 1), ('aaaaaaaaaaaaaaabbbbbbbbbbccccc', 0), ('aaaaaaaaaaabbbbbbbbbbbbbbbcccc', 0), ('aaaaaaaaaaabbbbbbbbbbbbbbbbbc', 0), ('aaaaaaaabbbbbbbbcccccccc', 1), ('aaaaaaaaaaaaaaaaaaaaaabbbbbbbb', 0), ('aaaaaaaabbbbbbbbcccccccc', 1), ('aaaaaaabbbbbbbccccccc', 1), ('aaaaaaaabbbbbbbbcccccccc', 1), ('aaaaaaaaabbbbbbbbbccccccccc', 1), ('aaaaaaaaabbbbbbbbbbbbbbbbbbbbb', 0), ('aaaaaaaaaaaaaaaaaaaaaaaaccccc', 0), ('aaaaaaabbbbbbbccccccc', 1), ('aaaaaaaabbbbbbbbcccccccc', 1), ('aaaaaaaabbbbbbbbcccccccc', 1), ('aaaaaaaaaaaaaaaaaaaaaaaaaaabbb', 0), ('aaaaaaaaaaaaaaaaaaaaaaaaaccc', 0), ('aaaaaaabbbbbbbccccccc', 1), ('aaaaaaaaaaaaaabbbbbbbccccccc', 0), ('aaaaaaaabbbbbbbbcccccccc', 1), ('aaaaaaaaabbbbbbbbbccccccccc', 1), ('aaaaaaabbbbbbbccccccc', 1), ('aaabbbbcccccccccccccccc', 0), ('aaaaaaaabbbbbbbbcccccccc', 1), ('aaaaaaaaaaaaaaaaaaaaaaaaabbccc', 0), ('aaaabbbcccccccccccccccc', 0), ('aaaaaaaabbbbbbbbcccccccc', 1), ('aaaaaaaaaaaaaaaaaaaaaaaaaaaa', 0), ('aaaaaaaaccccccccccccccccccc', 0), ('aaaaaaaabbbbbbbbcccccccc', 1), ('aaaaaaabbbbbbbbbbbbbbcccccc', 0), ('aaaaaaaaabbbbbbbbbccccccccc', 1), ('aaaaaaaaaaabbbbbbbbcccccc', 0), ('aaaaaaaaabbbbbbbbbccccccccc', 1), ('aaaaaaaabbbbbbbbcccccccc', 1), ('aaaaaaaaabbbbbbbbbccccccccc', 1), ('aaaaaaaaaaaaaaaaaaaaaaaaaaab', 0), ('aaaaaaaabbbbbbbbcccccccc', 1), ('aaaaaaaaaabbbbbbbbbbcccccccccc', 0), ('aaaaaaaaabbbbbbbbbccccccccc', 1), ('aaaaaaaaaaaaaaaaaabbbbbbb', 0), ('aaaaaaaabbbbbbbbcccccccc', 1), ('aaaaabbbbbbbbbbbbccccccc', 0), ('aaaaaaaaabbbbbbbbbccccccccc', 1), ('aaaaaaabbbbbbbccccccc', 1), ('aaaaaaaaabbbbbbbbbccccccccc', 1), ('aaaaaaabbbbbbbccccccc', 1), ('aaaaaaaaaaaaaaabbbbbc', 0), ('aaaaaaaaaaaaaaaabbbbbbbbbb', 0), ('aaaaaaaaaaaabbbbcccccc', 0), ('aaaaaaaabbbbbbbbcccccccc', 1), ('aaaaaaaabbbbbbbbcccccccc', 1), ('aaaaaaaaabbbbbbbbbccccccccc', 1), ('aaaaaaaabbbbbbbbcccccccc', 1), ('abbbbbbbbbbbbbbbbbbbbbbbb', 0), ('aaaaaaaaabbbbbbbbbccccccccc', 1), ('aaaaaaaaaaaaaaaaaaaaaaaaaaaab', 0), ('aaaaaaaaaaaaaaaaaaaaaaaaaaaaab', 0), ('aaaaaaaabbbbbbbbcccccccc', 1), ('aaaaaaaabbbbbbbbcccccccc', 1), ('aaaaaaaabbbbbbbbcccccccc', 1), ('aaaaaaabbbbbbbccccccc', 1), ('aaaaaaabbbbbbbccccccc', 1), ('aaaaaaaaaaaaaaabbbbbbbbccccccc', 0), ('aaaaaaaabbbbbbbbcccccccc', 1), ('aaaaaaaaaaaaaaaaaaaaaaaaaaaaa', 0), ('bbbbbbbbbbbbbbbbbbbbbbccc', 0), ('aaaaaaabbbbbbbccccccc', 1), ('aaaaaaaabbbbbbbbcccccccc', 1), ('bbbbbbbbbbbbccccccccccccccc', 0), ('aaaaaaabbbbbbbccccccc', 1), ('aaaaaaabbbbbbbccccccc', 1), ('aaaaaaaabbbbbbbbcccccccc', 1), ('aaaaaaaabbbbbbbbcccccccc', 1), ('aaaaaaaaaaaaaaaaaaaaaaabcccc', 0), ('aaaaaaaabbbbbbbbcccccccc', 1), ('aaaaaaaaabbbbbbbbbccccccccc', 1), ('aabbbbbbbbbbbbbbbbbbbbbbbbb', 0), ('aaaaaaaabbbbbbbbcccccccc', 1), ('aaaaabbbbcccccccccccccc', 0), ('aaaaaaaaabbbbbbbbbccccccccc', 1), ('aaaaaaaabbbbbbbbcccccccc', 1), ('aaaaaaabbbbbbbccccccc', 1), ('aaaaaaaaaaaacccccccccccc', 0), ('aaaaaaaaaaaaaaaaaaaaaaaabb', 0), ('aaaaaaaaaaaaaaaaaaaaaaaabbbb', 0), ('aaaaaaaaabbbbbbbbbccccccccc', 1), ('aaaaaaabbbbbbbbbbbbbbbbbbccccc', 0), ('aaaaaaaaaaaaaaaaaaaabbbb', 0), ('aaaaaaabbbbbbbccccccc', 1), ('aaaaaabbbbbbbbbbbbbccc', 0), ('aaaaaaaaaaaaaaaaaaaaaaaaa', 0), ('aaaaaaaabbbbbbbbcccccccc', 1), ('aaaaaaaaaabbbbbbbbbbbbbbbbbbb', 0), ('aaabcccccccccccccccccc', 0), ('aaaaaaaaaaaaaaaabbbbbbb', 0), ('aaaaaaaaabbbbbbbbbccccccccc', 1), ('aaaaaabbbbbbbbbbbbbbbbbbb', 0), ('aaaaaaaabbbbbbbbcccccccc', 1), ('aaaaaaaaaaaaaabbbbbbbbbbbbbbb', 0), ('aaaaaaaabbbbbbbbcccccccc', 1), ('aaaaaaabbbbbbbccccccc', 1), ('aaaaaaaaaaaaaaaaaaaabbbbbbbb', 0), ('aaaaaaabbbbbbbccccccc', 1), ('aaaaaaaaaaabbbbbbbbbbbccccccc', 0), ('aaaaaaaabbbbbbbbcccccccc', 1), ('aaaabbbbbbbbbbbbbbbbbcccccccc', 0), ('aaaaaaaaaaaaaaaaaaaaaaaaaaacc', 0), ('aaaaaaabbbbbbbccccccc', 1), ('aaaaaaaaabbbbbbbbbccccccccc', 1), ('aaaaaaaaaaaaaaaaaaaaaaaabbbbb', 0), ('aaaaaaaabbbbbbbbcccccccc', 1), ('aaaaaaabbbbbbbccccccc', 1), ('aaaaaaaaaaaaaaaaaaabbbbcccccc', 0), ('aaaaaabbbbbbbbbcccccc', 0), ('aaaaaaaaaaaaaaaaaaaaaaaaaaab', 0), ('aaaaaaaaaaaaaaaaaaaaaaaaabbbbc', 0), ('abbccccccccccccccccccccccc', 0), ('aaaaaabbccccccccccccc', 0), ('aaaaaaabbbbbbbccccccc', 1), ('aaaaaaaaabbbbbbbbbccccccccc', 1), ('aaaaaaaabbbbbbbbcccccccc', 1), ('aaaaaaaabbbbbbbbcccccccc', 1), ('aaaaaaaaaaaaaaaaaaaaaabbbb', 0), ('aaaaaaaaabbbbbbbbbccccccccc', 1), ('aaaaaaabbbbbbbccccccc', 1), ('aaaaaaaaabbbbbbbbbccccccccc', 1), ('aaaaaaaaabbbbbbbbbccccccccc', 1), ('aaaaaaaabbbbbbbbcccccccc', 1), ('aaaaaaaabbbbbbbbcccccccc', 1), ('aaaaaaaaaabbbbbbbbbcccccccc', 0), ('aaaaaaaaaaaaaaaaaaaaaaaaaaa', 0), ('aaaaaaaaaaaaaaaaaaaaaabbb', 0), ('aaaaaaaabbbbbbbbcccccccc', 1), ('aaaaaaabbbbbbbccccccc', 1), ('aaaaaaabbbbbbbccccccc', 1), ('aaaaaaaaabbbbbbbbbccccccccc', 1), ('aaaaaaabbbbbbbccccccc', 1), ('aaaaaaabbbbbbbccccccc', 1), ('aaaaaaaaaaaabbbbccccccccccc', 0), ('aaaaaaaaaaaaaaaaaaaaaaaaaaaaab', 0), ('aaaaaaaaabbbbbbbbbccccccccc', 1), ('aaaaaaaaaaaaaaaaaabbbbbcccccc', 0), ('aaaaaaaaabbbbbbbbbccccccccc', 1), ('aaaaaaaabbbbbbbbcccccccc', 1), ('aaaaaaaaaaaaaaaaaaaaaaaaaaaccc', 0), ('aaaaaaaaaaaaaaaaaaaaaabb', 0), ('aaaaaaaaaaaaaaaaaaaaabbbbbbbb', 0), ('aaaaaaaaaaaaaaaaaabbbbbbbb', 0), ('aaaaabbbbbbbbbbbbbbbbb', 0), ('aaaaaaaaaaaaaaaaaaaaaabbbb', 0), ('aabbbbbbbbbbbbbbbcccc', 0), ('aaaaaaaaaaaaaaaaaaaaaaaabbbb', 0), ('aabbbbbccccccccccccccccccccc', 0), ('aaaaaaaccccccccccccccccccccccc', 0), ('aaaaaaaabbbbbbbbcccccccc', 1), ('aaaaaaabbbbbbbccccccc', 1), ('aaaaaaaaaaaaaacccccccccc', 0), ('aaaaaabbbbbbbbbbbbbbbbbbbbbbb', 0), ('aaaaaaaaaaabbbbbbbbbbbbbbbbc', 0), ('aaaaaaaaabbbbbbbbbccccccccc', 1), ('aaaaaaaabbbbbbbbcccccccc', 1), ('aaaaaaaabbbbbbbbcccccccc', 1), ('aaaaaaabbbbbbbccccccc', 1), ('aaaaaaaaaaaaaaaaaaabbbbbbbcccc', 0), ('aaaaaaaaabbbbbbbbbccccccccc', 1), ('aaaaaaaaabbbbbbbbbccccccccc', 1), ('aaaaaaaaaaaaabbbbbbbbbbbbbb', 0), ('aaaaaaaabbbbbbbbcccccccc', 1), ('aaaaaaaaaaaaaaaaaaaaabbbbbbbbb', 0), ('aaaaaaaabbbbbbbbcccccccc', 1), ('aaaaaaaabbbbbbbbcccccccc', 1), ('aaaaaaaabbbbbbbbcccccccc', 1), ('aaaaaaaabbbbbbbbcccccccc', 1), ('aaaaaaaaaaaaaaabbbbbbbbbbbcccc', 0), ('aaaaaaaabbbbbbbbcccccccc', 1), ('aaaaaaabbbbbbbccccccc', 1), ('aaaaaaabbbbbbbccccccc', 1), ('aaaaaaaaaaaaaaaaaaaaabbbbccc', 0), ('aaaaaaaaabbbbbbbbbccccccccc', 1), ('aaaaaaabbbbbbbccccccc', 1), ('aaaaaaaaabbbbbbbbbccccccccc', 1), ('abbbbbbbbcccccccccccccccc', 0), ('aaabbbbbbbbbbbbbbbbbbbbbbbbbbb', 0), ('aaaaaaaaaaabbbbbccccccccccc', 0), ('aaaaaaaaaaaaaaaaaaaaabbbbbbbbb', 0), ('aaaaabbbbbbbbbcccccccccccc', 0), ('aaaaaaabbbbbbbccccccc', 1), ('aaaaaaaabbbbbbbbcccccccc', 1), ('aaaaaaaaabbbbbbbbbccccccccc', 1), ('aaaaaaaaaaabbbbccccccccc', 0), ('aaaaaaaaaaaabbbbbbbbccccccccc', 0), ('aaaaaaabbbbbbbccccccc', 1), ('aaaaaaaabbbbbbbbcccccccc', 1), ('aaaaaaaaabbbbbbbbbccccccccc', 1), ('aaaaaaaabbbbbbbbcccccccc', 1), ('aaaaaaaaaaaaaaaaaaaaaaaabbbb', 0), ('aaaaaaaaaaaaaaaaaaaaaab', 0), ('aaaaaaaaaaaaaaaaaaaaaaaaaaaaa', 0), ('aaaaaaaaabbbbbbbbbccccccccc', 1), ('aaaaaaaaabbbbbbbbbccccccccc', 1), ('aaaaaaaaaaaaaaaaaaaaaabbbbbbbb', 0), ('aaabbbbbbbbbbbbbbbbcccccc', 0), ('aaaaaaaaabbbbbbbbbccccccccc', 1), ('aaaaaaabbbbbbbccccccc', 1), ('aaaaaaaaaaaaaaaabbbbbbbbbbbb', 0), ('aaaaaaaaaaaaaaaaabbbbbccccc', 0), ('aaaaaaaaaaaaaaaaaaaaaaaabbbb', 0), ('aaaaaabbccccccccccccc', 0), ('aaaaaaabbbbbbbccccccc', 1), ('aaaaaaaaaaaaaaaaaaaaaabbbbbbb', 0), ('aaaaaaaabbbbbbbbcccccccc', 1), ('aaaaaaabbbbbbbccccccc', 1), ('aaaaaaaabbbbbbbbcccccccc', 1), ('aaaaaaaaabbbbbbbbbccccccccc', 1), ('aaaaaaaabbbbbbbbcccccccc', 1), ('aaacccccccccccccccccccccccc', 0), ('aaaaaaaaaaabbbbbbbbbbbbbbb', 0), ('aaaaaaabbbbbbbccccccc', 1), ('aaaaaaabbbbbbbccccccc', 1), ('aaaaaaaaabbbbbbbbbccccccccc', 1), ('aaaaaaaaaaaaaaaaaaaaaaaaabccc', 0), ('aaaaaaaaabbbbbbbbbccccccccc', 1), ('aaaaaaaaaaaaaaaaaaaaaaaaaaabbb', 0), ('aaaaaaaaaaaaaaaabbbbcccccccc', 0), ('aaaaaaaaaaaabbbbbbbbbbbbbbbbb', 0), ('aaaaaaabbbbbbbbbbbbbbbbbc', 0), ('aaaaaaaaabbbbbbbbbccccccccc', 1), ('aaaaaaaaabbbbbbbbbccccccccc', 1), ('aaaaaaaaaaaaaaaaaaabbbb', 0), ('aaaaaaaabbbbbbbbcccccccc', 1), ('aaaaaaaaaaaaaaaabbbbbbbcccc', 0), ('aaabbbbbbbbcccccccccccc', 0), ('aaaaaaaaaaaabbbbbbbbbbbbbbb', 0), ('aaaaaaaaaaaaaaaaaaaaaaaaaaabbb', 0), ('aaaaaaaaaaaaaaaaabbbbbbbbbbc', 0), ('aaaaaaaaabbbbbbbbbccccccccc', 1), ('aaaaaaaaabbbbbbbbbccccccccc', 1), ('abbbccccccccccccccccccc', 0), ('aaaaaaabbbbbbbccccccc', 1), ('aabbbbbbbbbbbbbbbbbccc', 0), ('aaaaaaaaabbbbbbbbbccccccccc', 1), ('aaaaaaabbbbbbbccccccc', 1), ('aaaaaaaaaaaaaaaaaaaaaaaaab', 0), ('bbbbbbbbbbbbbbbbbbccccccccc', 0), ('aaaaaaaaaaaaaaaaaaaabbbbbbbbbb', 0), ('aaaaaaaabbbbbbbbcccccccc', 1), ('aaaaaaaaabbbbbbbbbccccccccc', 1), ('aaaaaaabbbbbbbccccccc', 1), ('aaaaaaaaaaaaaaaaaaaaaaaaaaaabb', 0), ('aaaaaaaaaaaaaaaaaaaaaaaaaaaaa', 0), ('aaaaaabbbbbbbbbbbbbbbbbbb', 0), ('aaaaaaaabbbbbbbbcccccccc', 1), ('aaaaaaaaaaaaaaaaaaaaabbbbcccc', 0), ('aaaaaaaabbbbbbbbcccccccc', 1), ('aaaaaaaaaaaaaabbbbbbbbbbbbbb', 0), ('aaaaaaaaaaaaaaaaaaaaabbbbbbbbb', 0), ('aaaaaaaaaaaaaaaaaaaabbbbbbbbbb', 0), ('aaaaaaaaaaaaaaaaaaaaaaaaaaaabb', 0), ('aaaaaaaaaaaaaaaaaaaaabbbbbbb', 0), ('aaaaaaaabbbbbbbbcccccccc', 1), ('aaaaaaabbbbbbbccccccc', 1), ('aaaaaaaabbbbbbbbcccccccc', 1), ('aaaaaaabbbbbbbccccccc', 1), ('aaaaaaaabbbbbbbbcccccccc', 1), ('aaaaaaaaaaaaaaaaaabbbbbbbbb', 0), ('aaaaaaaaaaaaaaaaaaaaaaaaaaab', 0), ('aaaaaaabbbbbbbccccccc', 1), ('aaaaaaaaaaaaaaaaaaaaaabb', 0), ('bbbbcccccccccccccccccccccccccc', 0), ('aaaaaaaaabbbbbbbbbccccccccc', 1), ('aaaaaaaaaaaaaaaaaaaaaaaaabbbbb', 0), ('aaaaaaabbbbbbbccccccc', 1), ('aaaaaaaaaaaaaaaaaaaaaaaaaaaabb', 0), ('abbbbbbbbbbbbbbbbbbbbccccc', 0), ('aabbbbbbbbbbbbbbbbbbbbcccccc', 0), ('aaaaaaaabbbbbbbbcccccccc', 1), ('aaaaaaaaaaaaaaaaaaaaaabbbbbb', 0), ('aaaaaaaaaaaaaaaaaaaaaabc', 0), ('aaaaaaaaaaaaaaaaaaabbbbccccc', 0), ('aaaaaaabbbbbbbccccccc', 1), ('bbbbbbbbbbbcccccccccccc', 0), ('aaaaaaabbbbbbbccccccc', 1), ('aaaabbbbbbbbbbbbbccccccccc', 0), ('aaaaaaaabbbbbbbbcccccccc', 1), ('aaaaaaaaaaaaaaaaabbbcccccccccc', 0), ('aaaaaaabbbbbbbccccccc', 1), ('aabbbbbbbbbbbbbbbbbbbbccccc', 0), ('aaaaaaaaabbbbbbbbbccccccccc', 1), ('abbbbbbbbbbbbbbbbbbbbbbbbbbbb', 0), ('aaaaaaaaaaaaaabbbbbbbbbbbbb', 0), ('aaaaaaaaaaaaaaaaaaaaaaaaaabbb', 0), ('aaaaaaaabbbbbbbbcccccccc', 1), ('aaaaaaaaaabccccccccccccccccc', 0), ('aaaaaaaaabbbbbbbbbccccccccc', 1), ('aaaaaaaaaaaaaaaaaaaaaaaaabb', 0), ('aaaaaaaaaaaaaaaaaaaaaaaaaaaaab', 0), ('aaaaaaaaaaaaaaaaaaabbbbbbbbbbb', 0), ('aaaaaaaaaaaaaaaaabbbbbbbbc', 0), ('aaaaaaaaabbbbbbbbbccccccccc', 1), ('aaaaaaabbbbbbbccccccc', 1), ('aaaaaaaabbbbbbbbcccccccc', 1), ('aaaaaaaabbbbbbbbcccccccc', 1), ('aaaaaaaaaaaaaaaaaaaaaaaaaaaa', 0), ('aaaaaaaaaaaaaaaaaaaaaaaabbbb', 0), ('aaaaaaaabbbbbbbbcccccccc', 1), ('aaaaaaaaaaaaaaaaaaaabbb', 0), ('aaaaaaaaaabbbbbbbbbbbbbbbbbbb', 0), ('aaaaaabbbbbbbbbbbbbbbbbb', 0), ('aaaaaaaabbbbbbbbcccccccc', 1), ('aaaaaaaaabbbbbbbbbccccccccc', 1), ('aaaaaaaaaaaaaaaaaaaaab', 0), ('aaabbbbbbbbbbbbbbbbbbbbbbb', 0), ('aaaaaaabbbbbccccccccccccccccc', 0), ('bbbbbbbbcccccccccccccccccccc', 0), ('aaaaaaaacccccccccccccc', 0), ('aaaabbcccccccccccccccccc', 0), ('aaaaaaaabbbbbbbbcccccccc', 1), ('aaaaaaaaabbbbbbbbbccccccccc', 1), ('aaaaaaaaaabbbbbbbbbcc', 0), ('aaaaaaaabbbbbbbbcccccccc', 1), ('aaaaaaaaaaaaaaaaaaaaaaaaaabbc', 0), ('aaaaaaaaaaaaaaaaaaabbbbbbbbbbb', 0), ('aaaaaaaaaaaaaaaaaaaaaaaaabbbb', 0), ('aaaaaaaaaaaaaaaaaaaabbbbbbbbb', 0), ('aaaaaaaabbbbbbbbcccccccc', 1), ('aaaaaaaaabbbbbbbbbccccccccc', 1), ('aaaaaaaaabbbbbbbbbccccccccc', 1), ('aaaaaaaaabbbbbbbbbccccccccc', 1), ('aaaaaaaaaaaaabbbbbbbbbbbb', 0), ('aaaaaaaaaaaaaaaaaaaaaaaaaaabbb', 0), ('aaaaaaaaaaaaaaaaaaaaa', 0), ('aaaaaaaabbbbbbbbcccccccc', 1), ('aaaaaaaabbbbbbbbcccccccc', 1), ('aaaaaaabbbbbbbccccccc', 1), ('aaaaaaabcccccccccccccccccc', 0), ('aaabbbbbbbbbbbbbbbbbbbbbbbbbc', 0), ('abbbbbbbbbbbbbbbbcccccc', 0), ('aaaaaaaaabbbbbbbbbccccccccc', 1), ('aaaaaaaaaabbbbccccccccc', 0), ('aaaaaaaaaaaaaabbbbbbbb', 0), ('aaaaaaabbbbbbbccccccc', 1), ('aaaaaaaaaaaaaaaaabbccccccc', 0), ('aaaaaaaaaaaaaabbbbbbbbbbbbbbb', 0), ('aaaaaaaabbbbbbbbcccccccc', 1), ('aaaaaaaabbbbbbbbcccccccc', 1), ('aaaaaaabbbbbbbccccccc', 1), ('aaaaaaabbbbbbbccccccc', 1), ('abbbbbbbbbbbbbbbcccccccc', 0), ('aaaaaaaaabbbbbbbbbccccccccc', 1), ('aaaaaaabbbbbbbccccccc', 1), ('aaaaaaaaaaaaaaaaaaaaaabcccc', 0), ('aaaaaaaaaaaaaaaaaaaaaaaaaaabb', 0), ('aaaaaaaaaaaaaaaabbbbbbbb', 0), ('aabbbbbbbbbbbbbbbbbbbbbbbbbbbb', 0), ('aaaaaaaaaaaaaaaaaaaaaaabbbbc', 0), ('aaaaaaaaabbbbbbbbbccccccccc', 1), ('aaaaaaaabbbbbbbbcccccccc', 1), ('aaaaaaaaaaaaaaaaaaaaaacccccccc', 0), ('aaaaaaaaaaaaaaaaacccccccccccc', 0), ('aaaabbbbbbbbbbbccccccccc', 0), ('aaaaaaaaabbbbbbbbbccccccccc', 1), ('aabbbbbbbbbbccccccccccccccccc', 0), ('aaaaaaaabbbbbbbbcccccccc', 1), ('aaaaaaaaaaaaaaaaabbbcccccccc', 0), ('aaaaaaaaabbbbbbbbbccccccccc', 1), ('aaaaaaaabbbbbbbbcccccccc', 1), ('aaaaaaaaabbbbbbbbbccccccccc', 1), ('aaaaaaaaabbbbbbbbbbbbbbbccc', 0), ('aaaaaaabbbbbbbccccccc', 1), ('aaaaaaabbbbbbbccccccc', 1), ('bbbbbbbbbbbbcccccccccccccccccc', 0), ('aaaaaaabbbbbbbccccccc', 1), ('aaaaaaaabbbbbbbbcccccccc', 1), ('aaaaaaaaaaaaaabbcccccc', 0), ('aaaaaaabbbbbbbccccccc', 1), ('aaaaaaaaaaaaaaaaaaaabc', 0), ('aaaaaaaaabbbbbbbbbccccccccc', 1), ('aaaaaaaaaaaaaaaaaaabbbbbbbbbbb', 0), ('aaaaaaaabbbbbbbbcccccccc', 1), ('aaaaaaaaaaaaaaaaaaaaaaaaaaaabb', 0), ('aaaaaaaaabbbbbbbbbccccccccc', 1), ('aaaaaaaaabbbbbbbbbccccccccc', 1), ('aaaaaaaaaaabbbbbccccccccc', 0), ('aaaaaaabbbbbbbccccccc', 1), ('aaaaaaaabbbbbbbbbbbbbbbbbbbbc', 0), ('aaaaaaaaabccccccccccc', 0), ('aaaaaaabbbbbbbbbccccc', 0), ('aaaaaabbbbbbbbbbbbbbc', 0), ('aaaaaaaaaaaaaaaaaaaaaaaaaaaabb', 0), ('aaaaaaaaaaaaaaaaaaaaaaccc', 0), ('aaaaaaaaaaaaaaabbbbbbbcccc', 0), ('aaaaaaaaaabbbbbccccccccccccc', 0), ('aaaaaaaaabbbbbbbbbccccccccc', 1), ('bbbbbbbbbbbbcccccccccc', 0), ('aaaaaaaaaaaaaaaaaaaaaaaaaaaaab', 0), ('aaaaaaabbbbbbbccccccc', 1), ('aaaaaaaaabbbbbbbbbccccccccc', 1), ('aaaaaabbbbbbcccccccccccccccc', 0), ('aaaaaaaaaaaabbbbbbbbbbbbbbbbbb', 0), ('aaaaaaaaaaaaaaaaaaaaaaaabbbbb', 0), ('aaaaaaaaaaaaabbbbbbcccccccc', 0), ('aaaaaaabbbbbbbccccccc', 1), ('aaaaaaabbbbbbbccccccc', 1), ('aaaaaaaaaaaaaaaaaaaaabbbbbbbbb', 0), ('aaaaaaaaabbbbbbbbbccccccccc', 1), ('aaaaaaaaabbbbbbbbbccccccccc', 1), ('aaaaaaaaabbbbbbbbbccccccccc', 1), ('aaaabbbbbcccccccccccccccccc', 0), ('aaaaaaaaaaaaaaaaaaaaaaaaaaabbb', 0), ('aaaaaaaaabbbbbbbbbccccccccc', 1), ('aaaaaaaaabbbbbbbbbccccccccc', 1), ('aaaaaaaaaaaaaaaaaaaaaaaaabbbb', 0), ('aaaaaaaabbbbbbbbcccccccc', 1), ('aaaaaaabbbbbbbccccccc', 1), ('aaaaaaaaaaaaaabbbbbbbbccc', 0), ('aaaaaaaabbbbbbbbcccccccc', 1), ('aaaaabbbbbbbbbbbbbbbbbbb', 0), ('aaaaaaaabbbbbbbbcccccccc', 1), ('aaaaaabbccccccccccccccc', 0), ('aaaaaaaabbbbbbbbcccccccc', 1), ('aaaaaaaaaaaaaaaaaaaaaaaaaaaa', 0), ('aaaaaaaabbbbbbbbcccccccc', 1), ('aaaaaaaaabbbbbbbbbccccccccc', 1), ('aaaaaaabbbbbbbccccccc', 1), ('aaaaaaaaabbbbbbbbbccccccccc', 1), ('aaaaaaaaaaaaaaaaaaaaaaaaa', 0), ('aaaaaaaabbbbbbbbcccccccc', 1), ('aaaaaaabbbbbbbccccccc', 1), ('aaaaaaaaaaaaaaaaaaaaaaaaaaaaab', 0), ('aaaaaaaabbbbbbbbcccccccc', 1), ('aaaaaaaaabbbbbbbbbccccccccc', 1), ('aaaaaaaaaaaaaaaaaaaaabbbbbbbbb', 0), ('aaaaaaaabbbbbbbbcccccccc', 1), ('aaaaaaabbbbbbbccccccc', 1), ('aaaaaaaaaabbbbbbbbbbbbbbbbbb', 0), ('aaaaaaaaaabbbbbbccccccccc', 0), ('aaaaaaabbbbbbbccccccc', 1), ('aaaaaaaaaaaaaaaaaaaaaaaaaaaab', 0), ('aaaaaaaaaaaaaaaaaaaaaaaaaaaaab', 0), ('aaaaaaaaabbbbbbbbbccccccccc', 1), ('aaaaaaaabbbbbbbbcccccccc', 1), ('aaaaaaaaaaaaaaabbbbccccccc', 0), ('aaaaaaaaaaaaaaaaaaaaaab', 0), ('aaaaaaabbbbbbbccccccc', 1), ('aaaaaaaaaaaaaaaaaaaaaaaaaaabbb', 0), ('aaaaaaaaaaaaaabccccccccccccc', 0), ('aaaaaaaaaaaaaaaaaaaaaaaaacc', 0), ('aaaaaaaabbbbbbbbcccccccc', 1), ('aaaaaaaaabbbbbbbbbccccccccc', 1), ('aaaaaaaaabbbbbbbbbccccccccc', 1), ('aaaaaaaaaaaaaaaaaaaaaaaaaabbbb', 0), ('aaaaaaaaabbbbbbbbbccccccccc', 1), ('aaaaaaaaabbbbbbbbbbbcc', 0), ('aaaabbbbbbbbbbbccccccc', 0), ('aaaaaaaaaaaaaaaaaaaaaaaaaaaa', 0), ('aaaaaaaaabbbbbbbbbccccccccc', 1), ('aaaaaaaaabcccccccccccccc', 0), ('aaaaaaaabbbbbbbbcccccccc', 1), ('aaaaaaabbbbbbbccccccc', 1), ('aaabbbbbbbbbbbbbbbcccccccccc', 0), ('aaaaaaabbbbbbbccccccc', 1), ('aaaaaaabbbbbbbccccccc', 1), ('aaabbbbbbbbbbbbbbbbbbbbbbb', 0), ('aaaaaaaaaaaaaaaaaaabbbbbbb', 0), ('aaaaaaabbbbbbbccccccc', 1), ('abbbbbbbbbbbbbbbbbbbbbcccccccc', 0), ('aaaaaaaabbbbbbbbcccccccc', 1), ('aaaaaaaabbbbbbbbcccccccc', 1), ('aaaaaaaaaaaabcccccccccccccc', 0), ('aaaaaaabbbbbbbccccccc', 1), ('aaaaaaaaaaaaaaaaaaaaaaaaaaaaab', 0), ('aaaaaaaabbbbbbbbcccccccc', 1), ('aaaabbbbbbbbbbbbbbccccc', 0), ('aaaaaaabbbbbbbccccccc', 1), ('aaaaaaaaaaaaaaaaaabbbbbbbbbbb', 0), ('aaaaaaaaaaaaaaaaabbbbbbbbbbb', 0), ('aaaaaaaaabbbbbbbbbccccccccc', 1), ('aaaaaaaaaaaaaaaaaaabbbbbbccc', 0), ('aaaaaaaaabbbbbbbbbccccccccc', 1), ('aaaaaaaaabbbbbbbbbccccccccc', 1), ('aaaaaaaaaaaaabbccccccccc', 0), ('bbbbbbbbbbbbbbbbbbbbbccccccccc', 0), ('aaaaaaaaaaaaaaaabbbbbbbbbbbbbb', 0), ('aaaaaaaaaabbbbbbbbbbccc', 0), ('aaaaaaaaabbbbbbbbbccccccccc', 1), ('aaaaaaaabbbbbbbbcccccccc', 1), ('aaaaaaaaaaaaaaaaaaaaaaaaaaaa', 0), ('aaaaaaaaaaaaaaaaaaaaacccccccc', 0), ('aaaaaaabbbbbbbccccccc', 1), ('aaaaaaaabbbbbbbbcccccccc', 1), ('aaaaaaaabbbbbbbbcccccccc', 1), ('aaaaaaabbbbbbbccccccc', 1), ('aaaaaaabbbbbbbccccccc', 1), ('aaaaaaaaaaaaaaaaaaaaaaabcccc', 0), ('aaaaaaaaaaaaaaaaaaaaaaaaaaaab', 0), ('aaaaaaabbbbbbbccccccc', 1), ('aaaaaaabbbbbbbccccccc', 1), ('aaaaaaaaabbbbbbbbbccccccccc', 1), ('aaaaaaaaaaaaaaaabbbbbccccc', 0), ('aaaaaaaaaaaabbbbbbbbbbbbbbbc', 0), ('aaaaaaaaaaaaaaaaaaaaaaacc', 0), ('aaaaaaaaaaaaaaaaaaaaaaaabb', 0), ('aaaaaaaaabbbbbbbbbccccccccc', 1), ('aaaaaaaaabbbbbbbbbbcccccccc', 0), ('abbbbbbbbbbbbbbbbbbbbbbbbbb', 0), ('aaaaaaaaaaaabbbbbbbbccccc', 0), ('aaaaaaaaabbbbbbbbbccccccccc', 1), ('aaaaaaaaaaaabbbbbbbbbbccccc', 0), ('aaaaaaaaaaaaaaaaaaaaaaaaaaa', 0), ('aaaaaabbbbbbbbbbbbbbbbbbbb', 0), ('aaaaaaaaabbbbbbbbbccccccccc', 1), ('aaaaaaaaabbbbbbbbbccccccccc', 1), ('aaaaaaaaaaaaaaaaaaaabccc', 0), ('aaaaaaabbbbbbbccccccc', 1), ('aaaaaaaaaaaaaaaaaaaaccc', 0), ('aaaaaaaaabbbbbbbbbccccccccc', 1), ('aaaaaaaaaaaaaaaaaaabbb', 0)]\n",
      "Average Sentence Length:\n",
      "25.506\n"
     ]
    }
   ],
   "source": [
    "def generate_sentence(min_len=0, max_len=20, pos=True):\n",
    "    if pos:\n",
    "        n = np.random.randint(np.ceil(min_len / 3), np.ceil((max_len) / 3))\n",
    "        sentence = n*\"a\" + n*\"b\" + n*\"c\"\n",
    "        return sentence, len(sentence)\n",
    "    else:\n",
    "        n_0 = np.random.randint(0, max_len)\n",
    "        n_1 = np.random.randint(0, max_len - n_0 + 1)\n",
    "        n_2 = np.random.randint(min_len - n_0 - n_1, max_len - n_0 - n_1 + 1)\n",
    "        sentence = n_0 * \"a\" + n_1 * \"b\" + n_2 * \"c\"\n",
    "        return sentence, len(sentence)\n",
    "\n",
    "def create_data(size=10000, balance=0.1, min_len=0, max_len=20, train=True):\n",
    "    data = []\n",
    "    sentence_lengths = []\n",
    "\n",
    "    for i in range(int(size*balance)):\n",
    "        sentence, sentence_length = generate_sentence(min_len=min_len, max_len=max_len, pos=True)\n",
    "        while sentence == \"aabbcc\" and train:\n",
    "            sentence, sentence_length = generate_sentence(min_len=min_len, max_len=max_len, pos=True)\n",
    "        if not train:\n",
    "            sentence, sentence_length = \"aabbcc\", 6\n",
    "        data.append((sentence, 1))\n",
    "        sentence_lengths.append(sentence_length)\n",
    "    for i in range(int((size - (size*balance)))):\n",
    "        sentence, sentence_length = generate_sentence(min_len=min_len, max_len=max_len, pos=False)\n",
    "        data.append((sentence, 0))\n",
    "        sentence_lengths.append(sentence_length)\n",
    "    \n",
    "    random.shuffle(data)\n",
    "    average_length = sum(sentence_lengths) / len(sentence_lengths)\n",
    "    return data, average_length\n",
    "\n",
    "train_data, avg_sent_length_train = create_data(size=1000, balance=0.5, min_len=0, max_len=20, train=True)\n",
    "val_data, avg_sent_length_val = create_data(size=1000, balance=0.5, min_len=0, max_len=20, train=False)\n",
    "test_data, avg_sent_length_test = create_data(size=1000, balance=0.5, min_len=21, max_len=30, train=True)\n",
    "\n",
    "print(f\"Train Data Sample:\\n{train_data}\")\n",
    "print(f\"Average Sentence Length:\\n{avg_sent_length_train}\")\n",
    "print(f\"Val Data Sample:\\n{val_data}\")\n",
    "print(f\"Average Sentence Length:\\n{avg_sent_length_val}\")\n",
    "print(f\"Test Data Sample:\\n{test_data}\")\n",
    "print(f\"Average Sentence Length:\\n{avg_sent_length_test}\")\n"
   ]
  },
  {
   "cell_type": "code",
   "execution_count": 3,
   "metadata": {},
   "outputs": [],
   "source": [
    "# Dependencies\n",
    "import torch\n",
    "import torch.nn as nn\n",
    "import torch.optim as optim"
   ]
  },
  {
   "cell_type": "code",
   "execution_count": 4,
   "metadata": {},
   "outputs": [],
   "source": [
    "# Encoding data\n",
    "char_to_index = {'a':[1,0,0], 'b':[0,1,0], 'c':[0,0,1]}\n",
    "#index_to_char = {v: k for k, v in char_to_index.items()}\n",
    "\n",
    "def creat_tensors(data, max_l):\n",
    "    X = []\n",
    "    y = []\n",
    "    ml = 0\n",
    "\n",
    "    for sent, label in data:\n",
    "        X.append([char_to_index[char] for char in sent])\n",
    "        y.append(label)\n",
    "\n",
    "    # Padding to be able to convert to tensor\n",
    "    X = [sent + [[0,0,0]] * (max_l - len(sent)) for sent in X]\n",
    "\n",
    "    X = torch.tensor(X, dtype=torch.float32)\n",
    "    y = torch.tensor(y, dtype=torch.float32)\n",
    "\n",
    "    return X, y\n",
    "\n",
    "X_train, y_train = creat_tensors(train_data, max_l=30)\n",
    "X_test, y_test = creat_tensors(test_data, max_l=30)\n",
    "X_val, y_val = creat_tensors(val_data, max_l=30)"
   ]
  },
  {
   "cell_type": "code",
   "execution_count": 5,
   "metadata": {},
   "outputs": [],
   "source": [
    "from torch.utils.data import TensorDataset, DataLoader\n",
    "\n",
    "BATCH_SIZE = 64\n",
    "train_set = TensorDataset(X_train, y_train)\n",
    "val_set = TensorDataset(X_val, y_val)\n",
    "testset = TensorDataset(X_test, y_test)\n",
    "\n",
    "train_set, val_same_set = torch.utils.data.random_split(train_set, [900, 100])\n",
    "\n",
    "\n",
    "train_loader = DataLoader(train_set, BATCH_SIZE, shuffle=True)\n",
    "val_loader = DataLoader(val_set, BATCH_SIZE, shuffle=True)\n",
    "val_same_loader = DataLoader(val_same_set, BATCH_SIZE, shuffle=True)\n",
    "test_loader = DataLoader(testset, BATCH_SIZE, shuffle=True)"
   ]
  },
  {
   "cell_type": "markdown",
   "metadata": {},
   "source": [
    "## Train and define model"
   ]
  },
  {
   "cell_type": "code",
   "execution_count": 6,
   "metadata": {},
   "outputs": [
    {
     "name": "stdout",
     "output_type": "stream",
     "text": [
      "GPU State: cpu\n"
     ]
    }
   ],
   "source": [
    "# Set device\n",
    "if torch.cuda.is_available():\n",
    "    device = 'cuda:0'\n",
    "elif torch.backends.mps.is_available():\n",
    "    device = 'mps:0'\n",
    "else:\n",
    "    device = 'cpu'\n",
    "print('GPU State:', device)"
   ]
  },
  {
   "cell_type": "code",
   "execution_count": 7,
   "metadata": {},
   "outputs": [],
   "source": [
    "class RNN(nn.Module):\n",
    "    def __init__(self, embedding_dim, hidden_dim, hidden_depth) -> None:\n",
    "        super().__init__()\n",
    "\n",
    "        self.lstm = nn.RNN(embedding_dim, hidden_dim, hidden_depth, batch_first=True)\n",
    "        self.classification= nn.Sequential(\n",
    "            nn.Linear(hidden_dim, 1),\n",
    "            nn.Sigmoid()\n",
    "        )\n",
    "    \n",
    "    def forward(self, x):\n",
    "        output, hn = self.lstm(x)\n",
    "        logits = self.classification(output[:,-1,:])\n",
    "        #print(logits.size())\n",
    "        return torch.squeeze(logits)"
   ]
  },
  {
   "cell_type": "code",
   "execution_count": 8,
   "metadata": {},
   "outputs": [
    {
     "name": "stdout",
     "output_type": "stream",
     "text": [
      "Epoch [10/200], Loss: 0.6956\n",
      "Epoch [20/200], Loss: 0.6921\n",
      "Epoch [30/200], Loss: 0.6925\n",
      "Epoch [40/200], Loss: 0.6914\n",
      "Epoch [50/200], Loss: 0.3737\n",
      "Epoch [60/200], Loss: 0.2754\n",
      "Epoch [70/200], Loss: 0.2470\n",
      "Epoch [80/200], Loss: 0.2332\n",
      "Epoch [90/200], Loss: 0.2523\n",
      "Epoch [100/200], Loss: 0.2455\n",
      "Epoch [110/200], Loss: 0.2062\n",
      "Epoch [120/200], Loss: 0.2081\n",
      "Epoch [130/200], Loss: 0.1978\n",
      "Epoch [140/200], Loss: 0.1906\n",
      "Epoch [150/200], Loss: 0.1905\n",
      "Epoch [160/200], Loss: 0.1974\n",
      "Epoch [170/200], Loss: 0.1854\n",
      "Epoch [180/200], Loss: 0.2039\n",
      "Epoch [190/200], Loss: 0.1794\n",
      "Epoch [200/200], Loss: 0.1723\n"
     ]
    }
   ],
   "source": [
    "input_size = X_train.shape[2]\n",
    "hidden_size = 5\n",
    "hidden_depth = 1\n",
    "num_epochs = 200\n",
    "lr=0.001\n",
    "\n",
    "model = RNN(input_size, hidden_size, hidden_depth)\n",
    "criterion = nn.BCELoss()\n",
    "optimizer = torch.optim.Adam(model.parameters(), lr=lr)\n",
    "\n",
    "for epoch in range(num_epochs):\n",
    "    model.train()\n",
    "    epoch_loss = 0\n",
    "\n",
    "    for batch_idx, (inputs, targets) in enumerate(train_loader):\n",
    "        #inputs = inputs.unsqueeze(-1)  # Add input_size dimension\n",
    "        # Forward pass\n",
    "        #print(inputs.shape)\n",
    "        outputs = model(inputs)\n",
    "        #print(outputs.shape)\n",
    "        #print(outputs)\n",
    "        loss = criterion(outputs, targets)\n",
    "        \n",
    "        # Backward pass and optimization\n",
    "        optimizer.zero_grad()\n",
    "        loss.backward()\n",
    "        \n",
    "        optimizer.step()\n",
    "        \n",
    "        epoch_loss += loss.item()\n",
    "    \n",
    "    if (epoch + 1) % 10 == 0:\n",
    "        print(f'Epoch [{epoch + 1}/{num_epochs}], Loss: {epoch_loss / len(train_loader):.4f}')\n",
    "\n",
    "# for param in model.parameters():\n",
    "#     print(param5"
   ]
  },
  {
   "cell_type": "code",
   "execution_count": 9,
   "metadata": {},
   "outputs": [
    {
     "name": "stdout",
     "output_type": "stream",
     "text": [
      "Test Error: \n",
      " Accuracy: 91.2%, F1-score: 0.9191176295280457, Avg loss: 0.261776 \n",
      "\n"
     ]
    }
   ],
   "source": [
    "from torcheval.metrics import BinaryF1Score\n",
    "\n",
    "def test_loop(dataloader, model, loss_fn):\n",
    "    # Set the model to evaluation mode - important for batch normalization and dropout layers\n",
    "    # Unnecessary in this situation but added for best practices\n",
    "    model.eval()\n",
    "    size = len(dataloader.dataset)\n",
    "    num_batches = len(dataloader)\n",
    "    test_loss, correct = 0, 0\n",
    "    \n",
    "    metric = BinaryF1Score()\n",
    "\n",
    "    # Evaluating the model with torch.no_grad() ensures that no gradients are computed during test mode\n",
    "    # also serves to reduce unnecessary gradient computations and memory usage for tensors with requires_grad=True\n",
    "    with torch.no_grad():\n",
    "        for X, y in dataloader:\n",
    "            pred = model(X)\n",
    "            metric.update(pred, y)\n",
    "            #print(pred)\n",
    "            #print(y)\n",
    "            #print(\"\\n\")\n",
    "\n",
    "            test_loss += loss_fn(pred, y).item()\n",
    "            correct += (torch.round(pred) == y).type(torch.float).sum().item()\n",
    "            \n",
    "\n",
    "\n",
    "    test_loss /= num_batches\n",
    "    \n",
    "    correct /= size\n",
    "    print(f\"Test Error: \\n Accuracy: {(100*correct):>0.1f}%, F1-score: {metric.compute()}, Avg loss: {test_loss:>8f} \\n\")\n",
    "loss_fn = nn.BCELoss()\n",
    "optimizer = torch.optim.Adam(model.parameters(), lr=lr)\n",
    "\n",
    "\n",
    "test_loop(val_loader, model, loss_fn)"
   ]
  },
  {
   "cell_type": "code",
   "execution_count": 10,
   "metadata": {},
   "outputs": [
    {
     "name": "stdout",
     "output_type": "stream",
     "text": [
      "Test Error: \n",
      " Accuracy: 72.9%, F1-score: 0.7107790112495422, Avg loss: 0.422946 \n",
      "\n"
     ]
    }
   ],
   "source": [
    "test_loop(test_loader, model, loss_fn)"
   ]
  },
  {
   "cell_type": "code",
   "execution_count": 11,
   "metadata": {},
   "outputs": [
    {
     "name": "stdout",
     "output_type": "stream",
     "text": [
      "Test Error: \n",
      " Accuracy: 93.0%, F1-score: 0.9230769276618958, Avg loss: 0.238236 \n",
      "\n"
     ]
    }
   ],
   "source": [
    "test_loop(val_same_loader, model, loss_fn)"
   ]
  },
  {
   "cell_type": "markdown",
   "metadata": {},
   "source": [
    "## Parameter sweep"
   ]
  },
  {
   "cell_type": "code",
   "execution_count": 25,
   "metadata": {},
   "outputs": [
    {
     "name": "stdout",
     "output_type": "stream",
     "text": [
      "{'method': 'random',\n",
      " 'metric': {'goal': 'minimize', 'name': 'loss'},\n",
      " 'parameters': {'hidden_depth': {'values': [1, 2, 3]},\n",
      "                'hidden_size': {'values': [3, 5, 10, 20]},\n",
      "                'lr': {'values': [0.01, 0.001, 0.0001]},\n",
      "                'num_epochs': {'values': [100, 200, 300]}}}\n"
     ]
    }
   ],
   "source": [
    "sweep_config = {\n",
    "    'method': 'random',\n",
    "}\n",
    "\n",
    "metric = {\n",
    "    'name': 'loss',\n",
    "    'goal': 'minimize'   \n",
    "    }\n",
    "\n",
    "sweep_config['metric'] = metric\n",
    "\n",
    "parameters_dict = {\n",
    "    'hidden_size': {\n",
    "        'values': [3, 5, 10, 20]\n",
    "    },\n",
    "    'hidden_depth': {\n",
    "        'values': [1, 2, 3]\n",
    "    },\n",
    "    'lr': {\n",
    "        'values': [1e-2, 1e-3, 1e-4]\n",
    "    },\n",
    "    'num_epochs': {\n",
    "        'values': [100, 200, 300]\n",
    "    },\n",
    "}\n",
    "\n",
    "sweep_config['parameters'] = parameters_dict\n",
    "\n",
    "import pprint\n",
    "\n",
    "pprint.pprint(sweep_config)"
   ]
  },
  {
   "cell_type": "code",
   "execution_count": 26,
   "metadata": {},
   "outputs": [
    {
     "name": "stderr",
     "output_type": "stream",
     "text": [
      "Failed to detect the name of this notebook, you can set it manually with the WANDB_NOTEBOOK_NAME environment variable to enable code saving.\n"
     ]
    },
    {
     "name": "stdout",
     "output_type": "stream",
     "text": [
      "Create sweep with ID: uas5wibk\n",
      "Sweep URL: https://wandb.ai/jarlku/lstm-sweep/sweeps/uas5wibk\n"
     ]
    }
   ],
   "source": [
    "import wandb\n",
    "sweep_id = wandb.sweep(sweep_config, project='lstm-sweep')"
   ]
  },
  {
   "cell_type": "code",
   "execution_count": 27,
   "metadata": {},
   "outputs": [],
   "source": [
    "\n",
    "def train_wandb(config=None):\n",
    "    with wandb.init(config=config):\n",
    "        config = wandb.config\n",
    "        \n",
    "        train_loader = DataLoader(train_set, BATCH_SIZE, shuffle=True)\n",
    "        val_loader = DataLoader(val_set, BATCH_SIZE, shuffle=True)\n",
    "        \n",
    "        model = LSTM(input_size, config.hidden_size, config.hidden_depth)\n",
    "        optimizer = torch.optim.Adam(model.parameters(), lr=config.lr)\n",
    "        criterion = nn.BCELoss()\n",
    "        \n",
    "\n",
    "        for epoch in range(config.num_epochs):\n",
    "            model.train()\n",
    "            epoch_loss = 0\n",
    "\n",
    "            for batch_idx, (inputs, targets) in enumerate(train_loader):\n",
    "                #inputs = inputs.unsqueeze(-1)  # Add input_size dimension\n",
    "                # Forward pass\n",
    "                outputs = model(inputs)\n",
    "                #print(outputs)\n",
    "                loss = criterion(outputs, targets)\n",
    "                \n",
    "                # Backward pass and optimization\n",
    "                optimizer.zero_grad()\n",
    "                loss.backward()\n",
    "                optimizer.step()\n",
    "                \n",
    "                epoch_loss += loss.item()\n",
    "            \n",
    "            wandb.log({'loss': epoch_loss / len(train_loader)})\n",
    "            if (epoch + 1) % 10 == 0:\n",
    "                print(f'Epoch [{epoch + 1}/{config.num_epochs}], Loss: {epoch_loss / len(train_loader):.4f}')\n",
    "        \n",
    "        metric = BinaryF1Score()\n",
    "        for inputs, targets in val_loader:\n",
    "            outputs = model(inputs)\n",
    "            loss = criterion(outputs, targets)\n",
    "            wandb.log({'val_loss': loss})\n",
    "            metric.update(outputs, targets)\n",
    "            wandb.log({'val_f1': metric.compute()})\n",
    "            \n",
    "            "
   ]
  },
  {
   "cell_type": "markdown",
   "metadata": {},
   "source": [
    "wandb.agent(sweep_id, train, count=5)"
   ]
  },
  {
   "cell_type": "code",
   "execution_count": 28,
   "metadata": {},
   "outputs": [
    {
     "name": "stderr",
     "output_type": "stream",
     "text": [
      "\u001b[34m\u001b[1mwandb\u001b[0m: Agent Starting Run: afv4rl0c with config:\n",
      "\u001b[34m\u001b[1mwandb\u001b[0m: \thidden_depth: 3\n",
      "\u001b[34m\u001b[1mwandb\u001b[0m: \thidden_size: 20\n",
      "\u001b[34m\u001b[1mwandb\u001b[0m: \tlr: 0.001\n",
      "\u001b[34m\u001b[1mwandb\u001b[0m: \tnum_epochs: 100\n",
      "Failed to detect the name of this notebook, you can set it manually with the WANDB_NOTEBOOK_NAME environment variable to enable code saving.\n",
      "\u001b[34m\u001b[1mwandb\u001b[0m: Currently logged in as: \u001b[33mjarlsoeren\u001b[0m (\u001b[33mjarlku\u001b[0m). Use \u001b[1m`wandb login --relogin`\u001b[0m to force relogin\n"
     ]
    },
    {
     "data": {
      "text/html": [
       "wandb version 0.17.0 is available!  To upgrade, please run:\n",
       " $ pip install wandb --upgrade"
      ],
      "text/plain": [
       "<IPython.core.display.HTML object>"
      ]
     },
     "metadata": {},
     "output_type": "display_data"
    },
    {
     "data": {
      "text/html": [
       "Tracking run with wandb version 0.16.6"
      ],
      "text/plain": [
       "<IPython.core.display.HTML object>"
      ]
     },
     "metadata": {},
     "output_type": "display_data"
    },
    {
     "data": {
      "text/html": [
       "Run data is saved locally in <code>/home/jarl/UniStuff/ADL/ADL/assignment_3/wandb/run-20240523_145659-afv4rl0c</code>"
      ],
      "text/plain": [
       "<IPython.core.display.HTML object>"
      ]
     },
     "metadata": {},
     "output_type": "display_data"
    },
    {
     "data": {
      "text/html": [
       "Syncing run <strong><a href='https://wandb.ai/jarlku/lstm-sweep/runs/afv4rl0c' target=\"_blank\">logical-sweep-1</a></strong> to <a href='https://wandb.ai/jarlku/lstm-sweep' target=\"_blank\">Weights & Biases</a> (<a href='https://wandb.me/run' target=\"_blank\">docs</a>)<br/>Sweep page: <a href='https://wandb.ai/jarlku/lstm-sweep/sweeps/uas5wibk' target=\"_blank\">https://wandb.ai/jarlku/lstm-sweep/sweeps/uas5wibk</a>"
      ],
      "text/plain": [
       "<IPython.core.display.HTML object>"
      ]
     },
     "metadata": {},
     "output_type": "display_data"
    },
    {
     "data": {
      "text/html": [
       " View project at <a href='https://wandb.ai/jarlku/lstm-sweep' target=\"_blank\">https://wandb.ai/jarlku/lstm-sweep</a>"
      ],
      "text/plain": [
       "<IPython.core.display.HTML object>"
      ]
     },
     "metadata": {},
     "output_type": "display_data"
    },
    {
     "data": {
      "text/html": [
       " View sweep at <a href='https://wandb.ai/jarlku/lstm-sweep/sweeps/uas5wibk' target=\"_blank\">https://wandb.ai/jarlku/lstm-sweep/sweeps/uas5wibk</a>"
      ],
      "text/plain": [
       "<IPython.core.display.HTML object>"
      ]
     },
     "metadata": {},
     "output_type": "display_data"
    },
    {
     "data": {
      "text/html": [
       " View run at <a href='https://wandb.ai/jarlku/lstm-sweep/runs/afv4rl0c' target=\"_blank\">https://wandb.ai/jarlku/lstm-sweep/runs/afv4rl0c</a>"
      ],
      "text/plain": [
       "<IPython.core.display.HTML object>"
      ]
     },
     "metadata": {},
     "output_type": "display_data"
    },
    {
     "name": "stdout",
     "output_type": "stream",
     "text": [
      "Epoch [10/100], Loss: 0.3160\n",
      "Epoch [20/100], Loss: 0.3162\n"
     ]
    },
    {
     "name": "stderr",
     "output_type": "stream",
     "text": [
      "\u001b[34m\u001b[1mwandb\u001b[0m: Ctrl + C detected. Stopping sweep.\n"
     ]
    },
    {
     "name": "stdout",
     "output_type": "stream",
     "text": [
      "Epoch [30/100], Loss: 0.3161\n",
      "Epoch [40/100], Loss: 0.3161\n",
      "Epoch [50/100], Loss: 0.3162"
     ]
    }
   ],
   "source": [
    "wandb.agent(sweep_id, train_wandb, count=5)"
   ]
  },
  {
   "cell_type": "code",
   "execution_count": null,
   "metadata": {},
   "outputs": [],
   "source": []
  },
  {
   "cell_type": "code",
   "execution_count": null,
   "metadata": {},
   "outputs": [],
   "source": []
  }
 ],
 "metadata": {
  "kernelspec": {
   "display_name": "torch",
   "language": "python",
   "name": "python3"
  },
  "language_info": {
   "codemirror_mode": {
    "name": "ipython",
    "version": 3
   },
   "file_extension": ".py",
   "mimetype": "text/x-python",
   "name": "python",
   "nbconvert_exporter": "python",
   "pygments_lexer": "ipython3",
   "version": "3.12.3"
  }
 },
 "nbformat": 4,
 "nbformat_minor": 2
}
