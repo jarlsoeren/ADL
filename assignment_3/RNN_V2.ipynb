{
 "cells": [
  {
   "cell_type": "markdown",
   "metadata": {},
   "source": [
    "# Dependencies"
   ]
  },
  {
   "cell_type": "code",
   "execution_count": 1,
   "metadata": {},
   "outputs": [],
   "source": [
    "import numpy as np\n",
    "import matplotlib.pyplot as plt\n",
    "import random"
   ]
  },
  {
   "cell_type": "markdown",
   "metadata": {},
   "source": [
    "# Create Dataset"
   ]
  },
  {
   "cell_type": "code",
   "execution_count": 2,
   "metadata": {},
   "outputs": [],
   "source": [
    "def generate_sentence(min_len=0, max_len=20, pos=True):\n",
    "    if pos:\n",
    "        n = np.random.randint(np.ceil(min_len / 3), np.ceil((max_len) / 3))\n",
    "        sentence = n*\"a\" + n*\"b\" + n*\"c\"\n",
    "        return sentence, len(sentence)\n",
    "    else:\n",
    "        n_0 = np.random.randint(0, max_len)\n",
    "        n_1 = np.random.randint(0, max_len - n_0 + 1)\n",
    "        n_2 = np.random.randint(min_len - n_0 - n_1, max_len - n_0 - n_1 + 1)\n",
    "        sentence = n_0 * \"a\" + n_1 * \"b\" + n_2 * \"c\"\n",
    "        return sentence, len(sentence)\n",
    "\n",
    "def create_data(size=10000, balance=0.1, min_len=0, max_len=20, train=True):\n",
    "    data = []\n",
    "    sentence_lengths = []\n",
    "\n",
    "    for i in range(int(size*balance)):\n",
    "        sentence, sentence_length = generate_sentence(min_len=min_len, max_len=max_len, pos=True)\n",
    "        while sentence == \"aabbcc\" and train:\n",
    "            sentence, sentence_length = generate_sentence(min_len=min_len, max_len=max_len, pos=True)\n",
    "        if not train:\n",
    "            sentence, sentence_length = \"aabbcc\", 6\n",
    "        data.append((sentence, 1))\n",
    "        sentence_lengths.append(sentence_length)\n",
    "    for i in range(int((size - (size*balance)))):\n",
    "        sentence, sentence_length = generate_sentence(min_len=min_len, max_len=max_len, pos=False)\n",
    "        data.append((sentence, 0))\n",
    "        sentence_lengths.append(sentence_length)\n",
    "    \n",
    "    random.shuffle(data)\n",
    "    average_length = sum(sentence_lengths) / len(sentence_lengths)\n",
    "    return data, average_length\n",
    "\n",
    "train_data, avg_sent_length_train = create_data(size=1000, balance=0.5, min_len=0, max_len=20, train=True)\n",
    "val_data, avg_sent_length_val = create_data(size=1000, balance=0.5, min_len=0, max_len=20, train=False)\n",
    "test_data, avg_sent_length_test = create_data(size=1000, balance=0.5, min_len=21, max_len=40, train=True)\n",
    "\n",
    "# print(f\"Train Data Sample:\\n{train_data}\")\n",
    "# print(f\"Average Sentence Length:\\n{avg_sent_length_train}\")\n",
    "# print(f\"Val Data Sample:\\n{val_data}\")\n",
    "# print(f\"Average Sentence Length:\\n{avg_sent_length_val}\")\n",
    "# print(f\"Test Data Sample:\\n{test_data}\")\n",
    "# print(f\"Average Sentence Length:\\n{avg_sent_length_test}\")\n"
   ]
  },
  {
   "cell_type": "markdown",
   "metadata": {},
   "source": [
    "# Encoding"
   ]
  },
  {
   "cell_type": "code",
   "execution_count": 3,
   "metadata": {},
   "outputs": [],
   "source": [
    "# Dependencies\n",
    "import torch\n",
    "import torch.nn as nn\n",
    "import torch.optim as optim"
   ]
  },
  {
   "cell_type": "code",
   "execution_count": 4,
   "metadata": {},
   "outputs": [],
   "source": [
    "# Encoding data\n",
    "char_to_index = {'a':[1,0,0], 'b':[0,1,0], 'c':[0,0,1]}\n",
    "#index_to_char = {v: k for k, v in char_to_index.items()}\n",
    "\n",
    "def creat_tensors(data, max_l):\n",
    "    X = []\n",
    "    y = []\n",
    "    ml = 0\n",
    "\n",
    "    for sent, label in data:\n",
    "        X.append([char_to_index[char] for char in sent])\n",
    "        y.append(label)\n",
    "\n",
    "    # Padding to be able to convert to tensor\n",
    "    X = [sent + [[0,0,0]] * (max_l - len(sent)) for sent in X]\n",
    "\n",
    "    X = torch.tensor(X, dtype=torch.float32)\n",
    "    y = torch.tensor(y, dtype=torch.float32)\n",
    "\n",
    "    return X, y\n",
    "\n",
    "X_train, y_train = creat_tensors(train_data, max_l=40)\n",
    "X_test, y_test = creat_tensors(test_data, max_l=40)\n",
    "X_val, y_val = creat_tensors(val_data, max_l=40)"
   ]
  },
  {
   "cell_type": "markdown",
   "metadata": {},
   "source": [
    "# Torch datasets and loaders"
   ]
  },
  {
   "cell_type": "code",
   "execution_count": 5,
   "metadata": {},
   "outputs": [],
   "source": [
    "from torch.utils.data import TensorDataset, DataLoader\n",
    "\n",
    "BATCH_SIZE = 64\n",
    "train_set = TensorDataset(X_train, y_train)\n",
    "val_set = TensorDataset(X_val, y_val)\n",
    "testset = TensorDataset(X_test, y_test)\n",
    "\n",
    "train_set, val_same_set = torch.utils.data.random_split(train_set, [900, 100])\n",
    "\n",
    "\n",
    "train_loader = DataLoader(train_set, BATCH_SIZE, shuffle=True)\n",
    "val_loader = DataLoader(val_set, BATCH_SIZE, shuffle=True)\n",
    "val_same_loader = DataLoader(val_same_set, BATCH_SIZE, shuffle=True)\n",
    "test_loader = DataLoader(testset, BATCH_SIZE, shuffle=True)"
   ]
  },
  {
   "cell_type": "markdown",
   "metadata": {},
   "source": [
    "# Setup device"
   ]
  },
  {
   "cell_type": "code",
   "execution_count": 6,
   "metadata": {},
   "outputs": [
    {
     "name": "stdout",
     "output_type": "stream",
     "text": [
      "GPU State: mps:0\n"
     ]
    }
   ],
   "source": [
    "# Set device\n",
    "if torch.cuda.is_available():\n",
    "    device = 'cuda:0'\n",
    "elif torch.backends.mps.is_available():\n",
    "    device = 'mps:0'\n",
    "else:\n",
    "    device = 'cpu'\n",
    "print('GPU State:', device)"
   ]
  },
  {
   "cell_type": "markdown",
   "metadata": {},
   "source": [
    "# Create RNN class with forward layer"
   ]
  },
  {
   "cell_type": "code",
   "execution_count": 7,
   "metadata": {},
   "outputs": [],
   "source": [
    "class ElmanRNN(nn.Module):\n",
    "    def __init__(self, INPUT_SIZE, HIDDEN_SIZE, NUM_LAYERS, OUTPUT_SIZE) -> None:\n",
    "        super(ElmanRNN, self).__init__()\n",
    "        self.elmanRNN = nn.RNN(INPUT_SIZE, HIDDEN_SIZE, NUM_LAYERS, batch_first=True)\n",
    "        self.classification = nn.Sequential(\n",
    "            nn.Linear(HIDDEN_SIZE, OUTPUT_SIZE),\n",
    "            nn.Sigmoid()\n",
    "        )\n",
    "\n",
    "    def forward(self, x):\n",
    "        out, _ = self.elmanRNN(x)\n",
    "        logits = self.classification(out[:, -1, :])\n",
    "        return torch.squeeze(logits)"
   ]
  },
  {
   "cell_type": "markdown",
   "metadata": {},
   "source": [
    "# Training loop"
   ]
  },
  {
   "cell_type": "code",
   "execution_count": 8,
   "metadata": {},
   "outputs": [
    {
     "name": "stdout",
     "output_type": "stream",
     "text": [
      "Epoch [10/200], Loss: 0.6938\n",
      "Epoch [20/200], Loss: 0.6942\n",
      "Epoch [30/200], Loss: 0.6930\n",
      "Epoch [40/200], Loss: 0.6932\n",
      "Epoch [50/200], Loss: 0.6934\n",
      "Epoch [60/200], Loss: 0.6932\n",
      "Epoch [70/200], Loss: 0.6937\n",
      "Epoch [80/200], Loss: 0.6931\n",
      "Epoch [90/200], Loss: 0.6942\n",
      "Epoch [100/200], Loss: 0.6938\n",
      "Epoch [110/200], Loss: 0.6932\n",
      "Epoch [120/200], Loss: 0.6939\n",
      "Epoch [130/200], Loss: 0.6929\n",
      "Epoch [140/200], Loss: 0.6948\n",
      "Epoch [150/200], Loss: 0.6932\n",
      "Epoch [160/200], Loss: 0.6928\n",
      "Epoch [170/200], Loss: 0.6930\n",
      "Epoch [180/200], Loss: 0.6933\n",
      "Epoch [190/200], Loss: 0.6932\n",
      "Epoch [200/200], Loss: 0.6935\n"
     ]
    }
   ],
   "source": [
    "INPUT_SIZE = len(char_to_index)\n",
    "HIDDEN_SIZE = 5\n",
    "NUM_LAYERS = 1\n",
    "OUTPUT_SIZE = 1\n",
    "NUM_EPOCHS = 200\n",
    "lr = 0.003\n",
    "\n",
    "model = ElmanRNN(INPUT_SIZE, HIDDEN_SIZE, NUM_LAYERS, OUTPUT_SIZE)\n",
    "criterion = nn.BCELoss()\n",
    "optimizer = torch.optim.Adam(model.parameters(), lr=lr)\n",
    "\n",
    "for EPOCH in range(NUM_EPOCHS):\n",
    "    model.train()\n",
    "    epoch_loss = 0\n",
    "\n",
    "    for batch_idx, (inputs, targets) in enumerate(train_loader):\n",
    "        outputs = model(inputs)\n",
    "        loss = criterion(outputs, targets)\n",
    "        optimizer.zero_grad()\n",
    "        loss.backward()\n",
    "        optimizer.step()\n",
    "        epoch_loss += loss.item()\n",
    "        \n",
    "    if (EPOCH + 1) % 10 == 0:\n",
    "        print(f'Epoch [{EPOCH + 1}/{NUM_EPOCHS}], Loss: {epoch_loss / len(train_loader):.4f}')"
   ]
  },
  {
   "cell_type": "markdown",
   "metadata": {},
   "source": [
    "# Evaluation loop"
   ]
  },
  {
   "cell_type": "code",
   "execution_count": 9,
   "metadata": {},
   "outputs": [
    {
     "name": "stdout",
     "output_type": "stream",
     "text": [
      "Test Error: \n",
      " Accuracy: 50.0%, F1-score: 0.6666666865348816, Avg loss: 0.693145 \n",
      "\n"
     ]
    }
   ],
   "source": [
    "from torcheval.metrics import BinaryF1Score\n",
    "\n",
    "def test_loop(data_loader, model, loss_fn):\n",
    "    model.eval()\n",
    "    SIZE = len(data_loader.dataset)\n",
    "    NUM_BATCHES = len(data_loader)\n",
    "    test_loss, correct = 0, 0\n",
    "    metric = BinaryF1Score()\n",
    "\n",
    "    with torch.no_grad():\n",
    "        for inputs, targets in data_loader:\n",
    "            outputs = model(inputs)\n",
    "            metric.update(outputs, targets)\n",
    "            test_loss += loss_fn(outputs, targets).item()\n",
    "            correct += (torch.round(outputs) == targets).type(torch.float).sum().item()\n",
    "    \n",
    "    test_loss /= NUM_BATCHES\n",
    "    correct /= SIZE\n",
    "\n",
    "    print(f\"Test Error: \\n Accuracy: {(100*correct):>0.1f}%, F1-score: {metric.compute()}, Avg loss: {test_loss:>8f} \\n\")\n",
    "\n",
    "loss_fn = nn.BCELoss()\n",
    "test_loop(val_loader, model, loss_fn)"
   ]
  },
  {
   "cell_type": "code",
   "execution_count": 10,
   "metadata": {},
   "outputs": [
    {
     "name": "stdout",
     "output_type": "stream",
     "text": [
      "Test Error: \n",
      " Accuracy: 61.1%, F1-score: 0.7199423909187317, Avg loss: 0.692008 \n",
      "\n"
     ]
    }
   ],
   "source": [
    "test_loop(test_loader, model, loss_fn)"
   ]
  },
  {
   "cell_type": "code",
   "execution_count": 11,
   "metadata": {},
   "outputs": [
    {
     "name": "stdout",
     "output_type": "stream",
     "text": [
      "Test Error: \n",
      " Accuracy: 49.0%, F1-score: 0.6577181220054626, Avg loss: 0.693138 \n",
      "\n"
     ]
    }
   ],
   "source": [
    "test_loop(val_same_loader, model, loss_fn)"
   ]
  },
  {
   "cell_type": "code",
   "execution_count": null,
   "metadata": {},
   "outputs": [],
   "source": []
  }
 ],
 "metadata": {
  "kernelspec": {
   "display_name": "adl",
   "language": "python",
   "name": "python3"
  },
  "language_info": {
   "codemirror_mode": {
    "name": "ipython",
    "version": 3
   },
   "file_extension": ".py",
   "mimetype": "text/x-python",
   "name": "python",
   "nbconvert_exporter": "python",
   "pygments_lexer": "ipython3",
   "version": "3.10.13"
  }
 },
 "nbformat": 4,
 "nbformat_minor": 2
}
