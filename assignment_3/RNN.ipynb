{
 "cells": [
  {
   "cell_type": "code",
   "execution_count": 1,
   "metadata": {},
   "outputs": [],
   "source": [
    "import numpy as np\n",
    "import matplotlib.pyplot as plt\n",
    "import random"
   ]
  },
  {
   "cell_type": "markdown",
   "metadata": {},
   "source": [
    "## Create Dataset"
   ]
  },
  {
   "cell_type": "code",
   "execution_count": 2,
   "metadata": {},
   "outputs": [
    {
     "name": "stdout",
     "output_type": "stream",
     "text": [
      "Train Data Sample:\n",
      "[('aaaaaaaaaaaaa', 0), ('aaaaaaaaaaaaaaaaaaab', 0), ('aaaaaaaaabbbbbbb', 0), ('aaaabbbbbbbb', 0), ('aaaaaaaaaaaaaaaabbbb', 0), ('aaaaaaaaaaaaaaaaaaa', 0), ('bbbbbbbbbbbbbb', 0), ('aaaaaaaaaaaaaaabbb', 0), ('aaaaaaaaaaaaaaaaaac', 0), ('aaabbbccccc', 0), ('aaaaaaaaaaaaaaaa', 0), ('aaaaaaaaaaaaaabbbb', 0), ('aaaaaaaaaabbbccc', 0), ('abbbbbbbbbbbbbb', 0), ('aaaaabbbbbcccccc', 0), ('aaaaabbbbbbbbbbbbbb', 0), ('aaaabbbb', 0), ('aaabbbccc', 1), ('aaaaaaaaaaabbbbbbc', 0), ('aaaabbbbcccc', 1), ('aaaabbbbcccc', 1), ('bbbbbbccccccccc', 0), ('aaaaaaaaabccccc', 0), ('aaaaabbbbbccccc', 1), ('aaaaaaaaaaaabbbbbbbb', 0), ('aaaaaaaabbbbbbbbbbb', 0), ('aaaaaaaaabbbbbb', 0), ('abbbbbbbbbbbbbbbbbb', 0), ('bbbcccccccccc', 0), ('aaaaaaaaaabbbbbbb', 0), ('aaaaaaaaaaaaaaab', 0), ('aaabbbccc', 1), ('aaaaaaaaaaaaaaaaabbb', 0), ('', 1), ('aaaaaaaaaab', 0), ('aaaabbbbbbbbbbcc', 0), ('aaaaaaaaaaaaaaaaaab', 0), ('aaaaabbbbbccccc', 1), ('aaaaaaaaaaaaaaaaaabb', 0), ('aaaabbbbcccc', 1), ('aaaaaaaaaaaaabbbbcc', 0), ('aaaaaaaaaaabbbbbbccc', 0), ('abc', 1), ('aaaaaaaaaaaaaaaaaaab', 0), ('', 1), ('aaaaaaaaaaaabbb', 0), ('', 1), ('aaaaaaaaaac', 0), ('aaaaabbbbbbbbccccc', 0), ('aaaaaaaaaaaabbbbbb', 0), ('', 1), ('', 1), ('aaabbbbbbbbbbbc', 0), ('aaaaabbbbbccccc', 1), ('aaaaaaaabbbbbbbbb', 0), ('aaaaaaaaaaaaaaaaaab', 0), ('aaaabbbbbbbbbbbbb', 0), ('aaaaaaaaaaaaaaabb', 0), ('aaaaaaaaabbbbbbbbbbb', 0), ('aaabcccccccc', 0), ('aaaaaaabbbbbbbbb', 0), ('aaaaaaaaabbbbbcccc', 0), ('aaaaaaab', 0), ('aaaaaabbbbbbbbb', 0), ('aaaaaabbbbbbbbb', 0), ('aaaaabbbbbbccccccc', 0), ('aaaaaaabbbbbb', 0), ('aaaabbbbcccc', 1), ('aaaaaabbbbbbcccccc', 1), ('aaaaaaaaaaaaaabbb', 0), ('aabbbbbbbbbbbbcc', 0), ('aaaaaaaaaaaaaaab', 0), ('aaaaaaaabbbbbbbb', 0), ('aaaaaaaaaaaaaaaab', 0), ('aaaaaaaaaaaaaaaaaa', 0), ('aaaaaaaaaaaaaa', 0), ('aaaaaaaaaaaacc', 0), ('aaaaaaaaaaaaaaaaaaa', 0), ('aaabbbbbb', 0), ('bccccccccccccccc', 0), ('aaaaaaabbbbbbbbbbbb', 0), ('aaabbbccc', 1), ('aaabbbbbbbbbbbbb', 0), ('abbbbbbbccccccccc', 0), ('aaaaaaaabbbbbbbb', 0), ('aaaaaabbbbbbcccccc', 1), ('aaaaaaaaaaaaaaaaaa', 0), ('aaaaaaaaaaabbbbbbbbb', 0), ('abc', 1), ('aaaaaaaaaaaaaaabbbcc', 0), ('aaaaaaaaaaaaaaaaaaab', 0), ('aaaaaabbbbbbcccccc', 1), ('aaaabbbbcccc', 1), ('aaaaabbbbbccccc', 1), ('aaaaabbbbbbbbbbb', 0), ('aaaaaabbbbbbcccccc', 1), ('aaabbbccc', 1), ('abbbbbbbbbbbbcccc', 0), ('aaaaaaaaaaaaaabb', 0), ('aaaaaaaaaaaaaaaaaab', 0), ('aaaaaaaaaaaaaabbbb', 0), ('aabbbbbbbbbb', 0), ('aaaaabbbbbbccccccc', 0), ('aaaaaaaaaaaaaaaaaa', 0), ('aaaaabbbbbccccc', 1), ('aaaaabbbbbccccc', 1), ('aaaaaaaaabbbbbbbb', 0), ('', 1), ('aaaaaaaaaaaaa', 0), ('aaaaaaaaaaaaaaaaaaa', 0), ('aaaaaaaaaaaaaaaaa', 0), ('aaaaaaaacc', 0), ('aaaabbbbbbbbbb', 0), ('aaaaaaabbbbbbbbbbbb', 0), ('bbbbbbbb', 0), ('bbbbbbbbbb', 0), ('aaaaaaaaaaaabbbb', 0), ('aaaaaaaaaabbbbbbb', 0), ('aaaacccccccccc', 0), ('aaaaaaaaaaaaaaaaaaa', 0), ('aaaaaaaaaaaaaaabbbb', 0), ('bbbbbbbbbb', 0), ('aaaaaaaabbb', 0), ('aaaaaaaaaaaaaaaaa', 0), ('aaaabbbbcccc', 1), ('aaaaaaaaabbbb', 0), ('aaaaaaaaaabbbbbbbbb', 0), ('aaaaaaaaabbbbbbbbbbb', 0), ('aaaaaaaaaaaaaaaaaab', 0), ('abbbbcccccccccccccc', 0), ('bbbbbbbbbbbbbbbbbb', 0), ('bbbbbbbbbbbbbbbbb', 0), ('aaaaaaabbbbbbbbb', 0), ('aabccc', 0), ('aaabbcccccc', 0), ('aaaaaaaaaaaaaaaab', 0), ('', 1), ('aaaaaaaaaaaaaaaabbbb', 0), ('aaaaaaaaaaaaaaaaaa', 0), ('aaaaaaaaaaaaaaaaaabb', 0), ('aaaaabbbbbccccc', 1), ('aaaaaab', 0), ('bbbbbbbbbbbbbbbbb', 0), ('aabbbbbbbbbbbbbbbb', 0), ('abc', 1), ('aaaaabcccccccccc', 0), ('abbbbbbbbbbc', 0), ('abbbbbbbbbbbbbccc', 0), ('aaabbb', 0), ('aaaaaaaaabbbb', 0), ('aabbbbbbbbbbbbbbbbb', 0), ('aaaaaaaaabbbbbb', 0), ('aaaaaaaaaabbbbbbb', 0), ('', 1), ('aaaaabbbbbbbbbbbccc', 0), ('aaaaaabbbbbbbbbbbbbb', 0), ('aaaaaabbbbbbbbbbb', 0), ('aaaaaaaaaaaabbbbbbb', 0), ('aaaaaaaaabcccc', 0), ('aaaaaaaaaaabbbbbbbbb', 0), ('aaaaaaaaaaaaaaaaaaa', 0), ('aaaaaabbbbbbb', 0), ('aaaaaaaaaaaaaaaaaa', 0), ('aaaaaabbbbbbbbbbb', 0), ('', 1), ('aaaaaaaaaaaaaaaaabbb', 0), ('aaaaaab', 0), ('', 1), ('aaaaaaaaabbbbbbbbbb', 0), ('aaaaaaaaaaaaa', 0), ('aaaaaaaaabbbbbbbcccc', 0), ('aaaaaaaaaaaaaabb', 0), ('aaaabbbbcccc', 1), ('aaaaaaaaaaaaaaaabbb', 0), ('aaaaaaaaaaabbbbbb', 0), ('aaaaaaaaaaabbbbbb', 0), ('aaaaaaaaaaaaaaa', 0), ('aaaaabbbbbbb', 0), ('aaaaaaaaaaaaaaaab', 0), ('aaaaaaaaaaaaaaabbbbb', 0), ('aaaaaaaaaaaaaaaaaaa', 0), ('aaaaaaaaaaaaabbbbbcc', 0), ('aaabbbccc', 1), ('aaaaaaaaaaaabbbbbb', 0), ('abbbbbbbccc', 0), ('aaaaaaaaaaabbbbbbcc', 0), ('aaaaaaaaaaaaaaaaaa', 0), ('aaacccc', 0), ('aaaaabbbbbccccc', 1), ('aaaaaaaaaaabbb', 0), ('aaaaaaaaaaaaa', 0), ('aaaaaaaaaaaaaab', 0), ('aaaabbbbbbccc', 0), ('aaaabbbbcccc', 1), ('aaaabbbbcccc', 1), ('aabbbccccccccccc', 0), ('aaaaaaaabbbbbbb', 0), ('aaaaaaaaaaaaaaaaaabb', 0), ('aaaabbbbcccc', 1), ('aaaaaaaaaaaaaaaaaaab', 0), ('aaaaaaaaaaaaaaaaab', 0), ('aaaaaaaaaaaaaaaaab', 0), ('aaaaaaaaaaaaaaabbb', 0), ('aaaaaaaaaaaaaaaabb', 0), ('aaaaaaaaaabbbbbb', 0), ('aaaaaabbbbbbbbbbbb', 0), ('aaaaaaaaaaaaaaaaaaa', 0), ('aaaaaaaaabbbbbbbbb', 0), ('aaaaaaaaaaabbbbb', 0), ('aaaaaaaabbbb', 0), ('aaaaaaaaaaaaaaaaaabb', 0), ('aaaaaaaaaaaaabbbbb', 0), ('aaaaaaaaaaaaaabb', 0), ('aaabbbccc', 1), ('aaaaaaaaaaaaaaab', 0), ('aaaaaaaaaaaaabbbbb', 0), ('aaaaaaaaaaaaabbbbb', 0), ('aaaaa', 0), ('abc', 1), ('aaaaaaaaabbbbbb', 0), ('aaaaaaaaaaaaaaaab', 0), ('aaaaaaaaaaaaaaaaaaab', 0), ('aaaaaaaaaaaaaaaabbbb', 0), ('aabbbbbbbbbbbbbbbbb', 0), ('aaaaaaaaaaaabbbbbbb', 0), ('aaaaabbbbbbbbbbbbbbb', 0), ('bbbbbbbbbbcccccc', 0), ('aaabbbccc', 1), ('', 1), ('aaaaaaaaaaaaabb', 0), ('aaaaabbbbbccccc', 1), ('aaaaaaaaaaaaaabbbc', 0), ('aaabbbbbbbbbbbccc', 0), ('aaaaaaabbbbbbbcc', 0), ('abbbbbbbb', 0), ('aabbc', 0), ('aaaaaaaaaaaaaabbbbbb', 0), ('aaaaaaaaabbbbbbbb', 0), ('aaaaaaaabbbbbbbbbbbb', 0), ('aaaaaaaaaaaaaaabbb', 0), ('aaaaaabbbbbbcccccc', 1), ('', 1), ('abc', 1), ('aaaabbbbbbbbbbbbbbbb', 0), ('aaaaaabbbbbbbbbbbbbb', 0), ('aaaaaaaaaaaaaaaaaa', 0), ('aaaaaaaabbbbbcccccc', 0), ('aaaaaaaaaaaaaaabbbb', 0), ('aaaaabbbbbccccc', 1), ('aabbbbbbbbbbbb', 0), ('aaaaaaaaaaabbbbccc', 0), ('aaaaaaaaabbbbbbbbbc', 0), ('aaaaaaaaaaaaaaabbbbb', 0), ('aaaaaaaaaaaaaaaccccc', 0), ('aaaaaabbbbbbbbbbbbb', 0), ('aabccccccccccccccc', 0), ('aaaaaaaaaaaaaaa', 0), ('', 1), ('aaaaaaaaaaabbbccccc', 0), ('aaaaaaaaaaaaaabbbbb', 0), ('aaaaaaaaaaaabbb', 0), ('aaaaaaaabbbbbbbbbbcc', 0), ('aaaaaaaaaabbbb', 0), ('aaaaaaaaaaaaaaaabb', 0), ('aaaaaaabbbbbbb', 0), ('aaaaaaaaabcccc', 0), ('aaaaaaaaaaaaaaaa', 0), ('', 1), ('aaaaaaaaaaaabbbccccc', 0), ('aaaabbbbcccc', 1), ('aaaaaaaabccccccccc', 0), ('aaaaaaaaaaaaaaaaa', 0), ('aaaaaaaaaaaaab', 0), ('aaaaabbbbbccccc', 0), ('aaaaaaaaaaaaaabbb', 0), ('bbbbbbbbbbbbbbbbbbbb', 0), ('aaaaaaaaaaaaaaaaabbb', 0), ('bbbbbbbbbbbc', 0), ('abbbbbbbbbcccccccc', 0), ('aaaaaaaaaaabbbbbb', 0), ('abbbcc', 0), ('aaaaaabbbbbbcccccc', 1), ('aaaaaaaaaaaaaabbbbbb', 0), ('aaaaaaaaaaaaabbbb', 0), ('aaaaaabbbbbbcccccc', 1), ('aaaaaaaaaabbbbbbbbbb', 0), ('aaabbbccc', 1), ('bbbbbbbbccccccc', 0), ('aaaaabbbbbbb', 0), ('aaaaaaaaa', 0), ('aaaaaaaaaaaaaaaaaaa', 0), ('aabbbbbcccccccccc', 0), ('aaaaaabbbbbbcccccc', 1), ('aaaaaabbbbbbbbb', 0), ('abbbbbbbbbb', 0), ('aaaaaabbbbbbbbbbb', 0), ('aaaaaaaaaaaaaaaabbbb', 0), ('aaaaaaaaaaaaa', 0), ('aaaaaaaaaabbbbbbbbbb', 0), ('bbbbbbbbbbb', 0), ('aaaaaabbbbbbcccccc', 1), ('abbb', 0), ('aaaaaaaaaaaab', 0), ('aaaaaaaaaaaaabb', 0), ('abbbbb', 0), ('aaaaaaaaaaaaaaaaaaac', 0), ('aaaaaabbbbbbcccccc', 1), ('aaabbbccc', 1), ('aaabccc', 0), ('abbbbbbbbbbbbb', 0), ('aaaabbbbcccc', 1), ('aaaaaaaaaaaaaaaabb', 0), ('aaabbbbbccccccccc', 0), ('aaabbbb', 0), ('aaaaabbbcc', 0), ('aaaaaaaaaabbbbb', 0), ('aaaaaaaaaaaaaaaabbbb', 0), ('', 1), ('aaaaaaaaaaaabbb', 0), ('aaaaaaaaaaaaaabcccc', 0), ('aaaaaaaaaaaaabbbbb', 0), ('aaaaaaaaaaaaaaabbbbb', 0), ('aabbbbbbbbbccccc', 0), ('aaaaaaaabbbbbbbbbb', 0), ('aabbbbbbbbbbbbbbbbb', 0), ('aaaaaaaaaaaaaabb', 0), ('aaaaaaaaaccccccccccc', 0), ('aaaaaaaaaaaaabbbbbbb', 0), ('aaaaaabbbbbbbbbb', 0), ('aaaaaaaaaaaaabbbbbbb', 0), ('abbbbbbbbbbbbb', 0), ('aaaaaabbbbbbcccccc', 1), ('aaaabbb', 0), ('aaaaaabbbbbbbbbb', 0), ('aaaaaaaaaaaaaaaaacc', 0), ('aaaaaaaaaaaaaaaaaa', 0), ('aaaaabbccc', 0), ('aaaaaaaaaabbbbbbbb', 0), ('abbbbbbbbbbbbb', 0), ('aaaaaaaaaa', 0), ('aaaaaaaaaaaaaab', 0), ('aaaabbbbb', 0), ('aaaaaaaaaaaaaaaaaabb', 0), ('aaaaaaaaaaaaaaaaa', 0), ('aaaabbbbbbbbbbbbcc', 0), ('aaaaaaaaaaaaaaaaaab', 0), ('abbbbbbccccccc', 0), ('abc', 1), ('aaaaaaaaaaabbbbcccc', 0), ('aaaaaaaaaabcccccc', 0), ('aaaaaaaaaaab', 0), ('aaaaaaaaaabbbbbb', 0), ('aaaaaaaaaaabbbbbbbb', 0), ('aaaaaaabbbbbbbccccc', 0), ('aaaaaaaaaaaabbbbbbbb', 0), ('aaaaaaaaaaaaabbbb', 0), ('aaaaaaaaaaaaaabb', 0), ('aaaaaaaaaaaaaaaaaaab', 0), ('aaaaaabbbbbbbbbbbbbb', 0), ('aaabbbccc', 1), ('aaaaaaaaaaaaaaaaab', 0), ('aaaaaaaaaabc', 0), ('aaaaaabbbbbbbb', 0), ('bbbbbbbbbb', 0), ('aaabbbbbbbbbbbbb', 0), ('aaaaaaaaaaaaaaaabbb', 0), ('aaaaaaaaaaaabb', 0), ('aaaaaabbbbbbcccccc', 1), ('aaaaaaaaaaaaaa', 0), ('aaaaaaaaaaaabbbbb', 0), ('aaaabbbbcccc', 1), ('aaaaaaaaaaaaaabcc', 0), ('aaaaaaaaaaaaaabbb', 0), ('aaaaaaaaaaa', 0), ('aaaaaaaaaaaaabbbbbbb', 0), ('aaaaaaaaabbbbcc', 0), ('aaaabbbbcccc', 1), ('aaaaaaaaaac', 0), ('aaabbbccc', 1), ('aaaaabbbbbbccccccccc', 0), ('aaaaaaaaabbbbbccc', 0), ('aaaaaaaaaaaaaaabbb', 0), ('', 1), ('aaabbbccc', 1), ('aaaaaaccccccccccc', 0), ('aaaabbbbbbbbbbbbbb', 0), ('aaaaabbbcccc', 0), ('abc', 1), ('aaaaaabbbbbbbbbbb', 0), ('abc', 1), ('aaaaaaaaaaaab', 0), ('aaaaaaa', 0), ('aaaaaaaaaaaaaaaaaaab', 0), ('', 1), ('aaaaaaabbbbbbbb', 0), ('aaaaaaaaaaaaab', 0), ('aaaaaaaaaabbbbcc', 0), ('aaaaabbbbbbbbbbb', 0), ('aaabccccc', 0), ('aaaaaaaaaaaaaaaaabb', 0), ('aaaaaaaaaaaaaaabbb', 0), ('aaaaaaaaaaaaabbbbb', 0), ('aaabbbbccccccccccc', 0), ('aaaaaaaaabbbb', 0), ('aaaaaaaaaaaaaaaaabb', 0), ('', 1), ('aaaaaaaabbbb', 0), ('aaaaaabbbbbbcccccc', 1), ('bbbbbbccccccccc', 0), ('aaaaaaaaabbbbbbbbb', 0), ('aaabbbccccc', 0), ('aaaaaaaaaaaaabb', 0), ('aaaaaaaaaaaaabccccc', 0), ('bbbbbbbbbbbbbbbbbbb', 0), ('aaaaabbbbbccccc', 1), ('aaaabbccccccc', 0), ('aaaaaaaaaaaacccc', 0), ('aaaaaaabbb', 0), ('aaaaaaaaaaaaabbbbbbb', 0), ('aaaaaaaaaaaaaaaabbb', 0), ('aaaaabbbbbbccccc', 0), ('bbbbb', 0), ('aaaabbbbcccccccccc', 0), ('aaaaaaaaaaaaaaaaaaa', 0), ('aaaaaaabbb', 0), ('aaaaaaaaaaaaaaaaaabb', 0), ('aaaaaabbbbbbcccccc', 1), ('aaaabb', 0), ('aaaaaaaaabcccc', 0), ('aaaaaabbbbbbbbcc', 0), ('aaaaabbbbbccccc', 1), ('', 1), ('', 1), ('aaaaaabbbbbbcccccc', 1), ('bbbbbbbbbbbbbbbbbbb', 0), ('aaaabbbbbbbbbbbbbbbb', 0), ('aaaabbbbbbbbbbbbbbb', 0), ('aaaaaaaaaaaab', 0), ('bbbbbbbbbb', 0), ('aaaaaaaaaaaaaaabbb', 0), ('aaaaaaaaabbbbbcccc', 0), ('abbbbbbbbbbbbbbbbbb', 0), ('aaaaaaaaaaaaaaabccc', 0), ('abbbbbbbbbbbb', 0), ('aaaaaaaaaaaaaaa', 0), ('bbbbbbbbbbbcccc', 0), ('aaaabbbbbbbb', 0), ('aaaaaaaaaaaaaab', 0), ('bbbbbbbbbbb', 0), ('', 1), ('', 1), ('aaaaaaaaaaaaaaaabbbb', 0), ('aaaaaaabbbbbbbbb', 0), ('aaaaaabbbbbbbbbbbb', 0), ('aaaaaaaaaaaaaaaaaaab', 0), ('abbbbbbbbbbbbbbbc', 0), ('aaaaabbbbbccccc', 1), ('aaaaaaaabbccc', 0), ('aaaaaaaaaaaaaaab', 0), ('aaaaabbbbbbbbbbc', 0), ('', 1), ('aaaaaaaaaaabbbbbbbbb', 0), ('abbbbbbbbbbbbbbbbb', 0), ('aaaaaaaaabb', 0), ('aaaabbbbcccc', 1), ('aaaaaaaaaaaaaaaaaabb', 0), ('bbcccccccccc', 0), ('aaaaaaaaaaa', 0), ('aaaaaaaaaaaaaaaaaaa', 0), ('', 1), ('aaaabbbbbccc', 0), ('aaaaaaabbbbbbbb', 0), ('aaaaaaabbb', 0), ('aaaaaaaabbbbbb', 0), ('aaaabbbbb', 0), ('aaaaaaaaaaaaaaaabbbb', 0), ('aaaabbbbbbbbcccc', 0), ('aaaaaaabbbbbbbbbbb', 0), ('aaaaaaaaaaaaaaaaaaab', 0), ('aaaaaaaaaaabbbbbbb', 0), ('aabbbbbbc', 0), ('abc', 1), ('aaaabbbbbbbbbbbbbbbb', 0), ('bbbbbbbbbbbbbbbbbb', 0), ('aaaaaaaabbccc', 0), ('aaaaaaaaaaaaaaabbb', 0), ('', 1), ('aaaaaaaaaaaaaaaab', 0), ('bbbbbb', 0), ('aaabbbccc', 1), ('aaaaaaaacccccccccccc', 0), ('aaabbbccc', 1), ('aaabbbccc', 1), ('aaaaaaaaaabbb', 0), ('aaaaabbcccc', 0), ('aaaaaaaaaaaaaaaa', 0), ('aaaaaabbbbbbbbbbbbbb', 0), ('aaaaaaaaaaaaabbb', 0), ('abc', 1), ('aaaaaabbbbbbcccccc', 1), ('aaaaaaaaaaaaaaaabbb', 0), ('aaaaaaaabbbbbb', 0), ('aaaaaabbbbbbcccccc', 1), ('aaaaaaaaaaabbbbbbb', 0), ('aaaaaaaaabbbbbbbbb', 0), ('aaaaaaaaaaab', 0), ('', 1), ('aaaaaaaaaaabbbbcccc', 0), ('aaaaaaaaaaaaaaaaaaa', 0), ('aaaaaaaaaaaaabbbb', 0), ('bccccccc', 0), ('aaaaabbbbbccccc', 1), ('abc', 1), ('aaaaaaaaabbbbbb', 0), ('aaaaaaaabbbbb', 0), ('aabbbbbbbbbbbb', 0), ('aaaaabbbb', 0), ('aaaaaaaaaaaaaaab', 0), ('aaaaaaaabbbbb', 0), ('aaaaaaaaaaabbbb', 0), ('aaaabbbbcccc', 1), ('aaaaaaaaaaaaaaaaaabb', 0), ('aaaabbbbcccc', 1), ('aaaabbbbcccc', 1), ('aaaaaaaaaaccccc', 0), ('aaaaaaaaaaabbcccc', 0), ('aaaaaaaaaa', 0), ('aaaaaaabbbbbbbbbbbcc', 0), ('aaaaaaaaaaaaaaaabbbb', 0), ('aaaaaabbbbbbbbbbb', 0), ('aaaaaaaaaaaaaaaaab', 0), ('aaaaaaaaaaaaaaaabbb', 0), ('aaaaaaaaaaaaaaaaaaa', 0), ('aaaabbbbbbbbbbbbbb', 0), ('', 1), ('aaaaaaaaaaaaaaa', 0), ('aaaabbbbbbbbcccc', 0), ('aaaabbbbbbbbbbbbbb', 0), ('aaaaaaaaabbbbbbbbbbb', 0), ('aaaaaaaaaabbbbbb', 0), ('aaaaaaaabbbb', 0), ('aaaaaabbbb', 0), ('aaaaabbbbbbbbbbbb', 0), ('aaabbbbbbbbbbbbbccc', 0), ('aaaaaabbbbbbbcccccc', 0), ('bbbbbb', 0), ('aaaaaaaaaab', 0), ('aaaaaaaaaaabbbbbbb', 0), ('aaaaabbbbbccccc', 1), ('aaaaaaaaaaaaaaaaabb', 0), ('aaaabbbbcccc', 1), ('aaaaaaaaaaaaaaaaaaab', 0), ('aabbbb', 0), ('aaaaaaaaaaaaaaaaaaab', 0), ('aaaabbbbcccc', 1), ('aaaaaab', 0), ('aaaaaaaaaaaaaaaaaab', 0), ('aaaaaaaaaaaaaaaabbb', 0), ('aaaaabbbbbbbbbbbbb', 0), ('aabbb', 0), ('aaaaaaaaaaaabbbb', 0), ('aaaaaaaaaaaaaaabb', 0), ('aaaaaaaaaaaabbbbbbb', 0), ('aaaaabbb', 0), ('aaaaaaaaabbbbbbbbbc', 0), ('aaaaaaaaaaaabbb', 0), ('aaaaaaaaaaaaaaaaa', 0), ('aaaaaaaaaaaaaaaaaab', 0), ('aaaaaaaaaaaa', 0), ('aaaaaaaaaabbbbbbbbbb', 0), ('aabbbbcccc', 0), ('aaaa', 0), ('aaaabbbbcccc', 1), ('aaaaabbbbbbbbbbbbbb', 0), ('aaaaaaaaaaabbbbbbbb', 0), ('abc', 1), ('aaabccccc', 0), ('aaaaaaabbbbbbbbbbbb', 0), ('aaaaaaaaaaaaabbbb', 0), ('aaaaaaaaabbbbc', 0), ('abc', 1), ('aaaaaaaaaaabbbbbbbc', 0), ('aaaaaaaaaaaaaaaab', 0), ('aabbbbbbbbbbbb', 0), ('aaaaaaaabbbbbbbbbbbb', 0), ('aaaaaaaaaaaaaaaaaabb', 0), ('aaaaaaaaaaaaaaaaab', 0), ('abc', 1), ('abbbbbbbbbbbb', 0), ('aaaaaaaaaaaaaaabbbb', 0), ('aaaaaaaaaaaaaabb', 0), ('aabbbbbbbbbbb', 0), ('aaabbbbbbbbbbbb', 0), ('aaaaabbbbbbbbbc', 0), ('aaaaabbbbcccccc', 0), ('aaaaaabbbbbbcccccc', 1), ('abbbbb', 0), ('', 1), ('aabbccccccccccccccc', 0), ('aaaaaabbbbbbcccccc', 1), ('aaaaaaabbbbbbbbbb', 0), ('aaaaaabbbbbbcccccc', 1), ('aaaaaaaaaaabb', 0), ('aaaaaaaaaaaaaaaaaaa', 0), ('aaaaaaaaaabbbbbbbbb', 0), ('aaaaaaaaaaaaaaabbb', 0), ('aabbbcccccccc', 0), ('aaaaaabbbbbbbbb', 0), ('aaaaaaaaaaaabbb', 0), ('aaaaabbbbbccccc', 1), ('', 1), ('aaaaaaaaaaaaaaaaaaa', 0), ('aaaaaaaaaaaaaaabbbb', 0), ('aaaaaaaaaaaaaaaaaaab', 0), ('aaaaaaaaaaaaaaaaaaab', 0), ('aaaabbbbcccc', 1), ('aaabbbbbbbbbb', 0), ('aaaaaaaaaaaaaaab', 0), ('aaaaaaaaaaaaaaaaaaab', 0), ('aaaabbbbb', 0), ('aaaaaaabbbbb', 0), ('aaaaaaaaaaaaaaaaaaab', 0), ('aaaaaaaaaaabbbcccccc', 0), ('aaaaaaaaaaaaaaa', 0), ('aaabbbccc', 1), ('aaaaaabbbbbbbbbbbbbb', 0), ('aaaaaaaaaaaabbbb', 0), ('aaaaaabbbbbbbbb', 0), ('', 1), ('aaaaaaaaaabbbbbbb', 0), ('aaaaaaaaaaaaaaaaabbb', 0), ('aaabbbbbbb', 0), ('aabbbbbbbbbbbbbbbbbb', 0), ('aaaaaaaaaaaaaaaaaaab', 0), ('aaaabbbbcccc', 1), ('aaaaaaaaaaaaaaaaabbb', 0), ('aaaaaaabbbbbbbbbbbbb', 0), ('aaaaaabbbbbbcccccc', 1), ('aaaaaaaaaaaaaaaaabb', 0), ('aaaaaaaaaaabbbbbbbbb', 0), ('aaaaabbbbbccccc', 1), ('aaaaaaaaaaaaaaaaaaa', 0), ('aaaaaaaaaaaaaaaaaaa', 0), ('aaaaaaaaaaaabbbbbbb', 0), ('abc', 1), ('aaaaaaaaaabbbbbbbbbc', 0), ('aaaaaaaaaab', 0), ('aaaaaaaabbbbbbbbb', 0), ('aaaabbbb', 0), ('aaaaaaaaaaaaaaaaaaa', 0), ('aaaaaaaaaaaaaabbbbb', 0), ('aaaaaaaaaaaabb', 0), ('aaaaaaabbbbbbbbbbbb', 0), ('aaaaaabbbbbbcccccc', 1), ('aaaaabbbbbccccc', 1), ('aaaaaaaaaaaaab', 0), ('aaaaaaaaaabbbbbc', 0), ('aaaaaaaaaaaaabbb', 0), ('aaaaaaccccccccccc', 0), ('aaaabbbbbbbbbbbbbbb', 0), ('aaaaaabbbbb', 0), ('abc', 1), ('aaaaaaaaaaaaaaaaa', 0), ('aaaaaaaaabbbbb', 0), ('aaaaaaaaaaaaaaaaaa', 0), ('aaaaaaaaaaabbbbbbbbb', 0), ('aaaaaaaaaaaaaaaaaaab', 0), ('aaaaaaabbbbbbbbbbb', 0), ('aaaaaaaaaaabbbbbbbbb', 0), ('aaaabbbbcccc', 1), ('aaaaaaaaaaaabbbbbbbb', 0), ('aaaaabbbbbccccc', 1), ('bbbbbbbbbbbbbbbbb', 0), ('', 1), ('abcccccccccccccccc', 0), ('aaaabbbbcccc', 1), ('aaaaaaaaaaaaaaaa', 0), ('aaaaaaaaaaaaaaaabbb', 0), ('abc', 1), ('aaaaabbbbbccccc', 1), ('aaaaabbbbbbb', 0), ('aaaaaaaaaabbbbbbbbbb', 0), ('aaaaaaaaaaaaaaaabbbb', 0), ('aaaaaaaaaaabbb', 0), ('', 1), ('aaaaaaaaaaaaaaabb', 0), ('aaaaaaaaaaaabbbbbb', 0), ('aaaaaaaaabbbb', 0), ('abc', 1), ('aaaaaabbbbbbcccccc', 1), ('aaaaaaaaaaaaaaaaaa', 0), ('aaaaabbbbbbbbbb', 0), ('aabbbbbbbbbbbbbbb', 0), ('aaaabbbbcccc', 1), ('aaaabbbbcccc', 1), ('abbbbbbbbbbbbbbbbb', 0), ('', 1), ('aaaaaaaaaaaaaaaabb', 0), ('aaaaaaabbbbbbbbbb', 0), ('aaaaaaaaaaaacccc', 0), ('aaaabbbbcccc', 1), ('aaaaaaaaaabbb', 0), ('aaaaaaaabbbbbbccc', 0), ('aaaaaaaaaabbbbbbbbbb', 0), ('aaaaaaaaaaaabb', 0), ('aaaaabbbbbbbbbbbbb', 0), ('aaaabbbbcccc', 1), ('aaaaaaaaaaaaaaaab', 0), ('aaaaaaaaaaaaab', 0), ('aaaaaaaaaaaaaaaaaab', 0), ('aaaaaaaaabbbbbc', 0), ('aaaaabbbbbccccc', 1), ('aaaabbbbbbbbbbbbbbbb', 0), ('aaaabbbbcccc', 1), ('aaaaaaaaaaaaaaaaab', 0), ('aaaaaaaaaaabbbb', 0), ('abbbbbbbbbbbbbbbb', 0), ('', 1), ('aaaaabbbbbccccc', 1), ('', 1), ('aaaabbbbcccc', 1), ('aaaaaabbbbbbcccccc', 1), ('abbbbbbbbbbbbbbbcccc', 0), ('aaaaaaaaaaaaaabbbb', 0), ('aaaaabbbbbbbbbbbbbb', 0), ('aaabbbbbbbbccccc', 0), ('aaaaaaabb', 0), ('abbbbbbbbbbbbbbbbbb', 0), ('bbbbbbbbbb', 0), ('aaaaaaaaaaaaaaaaabbb', 0), ('aaabbbbbbbcccccccccc', 0), ('aaaaaaaaaaaaaaaaaaab', 0), ('aaaaaaaaaaaaaaaab', 0), ('aaaaaaaaaaaaaaaaaa', 0), ('aaaaaabbbbbbbbbbbb', 0), ('aaaaaaaaaaaaaaaaaaa', 0), ('aaaaaaaaaaaabbbbbbb', 0), ('aaaaaaaaaaaaaabbbbb', 0), ('', 1), ('bbbbbbbbbbbbbbbbbbb', 0), ('aaaaabbbbbccccccccc', 0), ('aaaaaaaaaaaaaaaaabbb', 0), ('aaaaaaaaaaabbbbbbccc', 0), ('aaaaa', 0), ('aaaabbbbcccc', 1), ('aaabbbbbbbbbbbbbbbbb', 0), ('aaaaaaaaaaaaaaabb', 0), ('aaaaaaaaaaabbbbbb', 0), ('aaaabbbbbbbbbb', 0), ('aaaaaaaaaaaaaaaaabb', 0), ('aaaaaaaaaaaaaaaaaaa', 0), ('aaaaaaaaaaaabb', 0), ('bbbbbbbbbbbbbbbbb', 0), ('aaaaabbbbbccccc', 1), ('aaaaaaaaaaaaaaac', 0), ('aabbbbbbbbbbbbbb', 0), ('abbbbbbbbbbb', 0), ('aaaaaaaaaaaaaaabbbbb', 0), ('aaaaaaaaaaaaaaaab', 0), ('aaaaaaaaabb', 0), ('abbbb', 0), ('aaaaaaaaaaaaaaaaaaa', 0), ('', 1), ('', 1), ('aaaaaaaaaaaaaaaab', 0), ('', 1), ('aaaaaaaaaabbbbbb', 0), ('aaaaaaaaaaaaaaabbbbb', 0), ('aaaabccccccccccccccc', 0), ('aaabbbb', 0), ('aaaaabbbbbccccc', 1), ('aaaaaaaaaaab', 0), ('bbbbbbbbbbbbbbb', 0), ('aaaaaaaaaaaaaa', 0), ('aaaaaaaaa', 0), ('aaaaaaaabbbbbbbbbbbb', 0), ('aaaaaaaaaaaabbbbbbbb', 0), ('aaaaaaab', 0), ('abc', 1), ('aabbbbbbbbbbbbbbb', 0), ('aaaabbbbcccc', 1), ('aaaaaaaaaaaaaabb', 0), ('aaaaaaaaaaa', 0), ('aaabbbb', 0), ('bbbbbbbbcccccc', 0), ('aaaaaaaaaaaaaaaaaabb', 0), ('aaabbbbbbbbbbbbb', 0), ('aaaaaaaabbbbbbbb', 0), ('cccc', 0), ('abc', 1), ('aaabbbccc', 1), ('abc', 1), ('bbbbbbcccccc', 0), ('aaaaaaaaaaaaaabbbb', 0), ('aaaaaaaaaaaab', 0), ('abbbccccccccccccc', 0), ('aaaaaaaaaaaabbbccc', 0), ('aaabbbccc', 1), ('aaabbbccc', 1), ('aaaaaaaaaaaaaaaaabb', 0), ('abc', 1), ('aaaaaabbbbbbbbbbbb', 0), ('abc', 1), ('aaaaabbbbbccccc', 1), ('aaaaaaaaaaa', 0), ('aaabbbbbbbbbbbbb', 0), ('aaaaaaaaaaaaaaaaaabb', 0), ('aaaaaaaabbbbbb', 0), ('aaaaaabbbbbbcccccc', 1), ('aaaaaaabbbbbb', 0), ('abbbbbbbccccccc', 0), ('abc', 1), ('aaaaabbbbbbbb', 0), ('aaaaaaaaaaaa', 0), ('aaaaaaaaaaaaaaaaabb', 0), ('aaaaaaaaaaaaaaabbb', 0), ('aaaaaaaaaaaaaaaaabb', 0), ('aaaaabbbbbbbbbbbbbb', 0), ('aaaaaaaaaaaaabbbcc', 0), ('aaaaaaaaacccccc', 0), ('aaaaaaaaaaaaaaaaaabb', 0), ('aaaaaaaaaabbbbbbbbb', 0), ('aaaaaaaabbbbbbbbbbbb', 0), ('aaabbbcccc', 0), ('aaaaaaaacc', 0), ('aaaaaaaabbbccccc', 0), ('aaaaaaabbcccccccccc', 0), ('aaaaaabbbbbbbbbbb', 0), ('aaaaaaaaaaaaabbbbbbb', 0), ('aaabbbbbbbbccccccc', 0), ('aaaaaaaaaaaaaaaabb', 0), ('abbbbbbbbbbcccccccc', 0), ('aaaaaaaaaaaaaaaaabb', 0), ('aaaaaaaaaaaaaaaaaaa', 0), ('', 1), ('', 1), ('', 1), ('aaaaaaaaaaaaaaaaaaa', 0), ('aaaaaabbbbbbcccccc', 1), ('aaaaaaaaaaaaabcccccc', 0), ('aaaaaaaaaaaaaaaabbb', 0), ('aaaaaabbbbbbbbbbbb', 0), ('aaaaaaaaaaaaaaaaaaab', 0), ('aaabbbccc', 1), ('aaaabbcccc', 0), ('aaaaaaaabbbbbbbb', 0), ('aaabbbbbb', 0), ('aaaaaabbbbbbcccccc', 1), ('aaaaaaaaaabb', 0), ('aaaaaaaaaaaabbbbbb', 0), ('aaaaaaaaaaaaaaaaaaa', 0), ('aaaaaaaaaaaabb', 0), ('bbbbbbbbbbbb', 0), ('aaaaaaaaaaaabbbbbc', 0), ('abbbbccccccccccc', 0), ('aaaaaaabb', 0), ('aaabbbccc', 1), ('aaaaaaaabbbbbbbbbbb', 0), ('aaaccccccc', 0), ('aaaaaaaaaaaaaaaabbb', 0), ('aaaaaaaaaaaacccc', 0), ('aaabbbccc', 1), ('', 1), ('aaaaaaaaaaaaa', 0), ('aaaaaaaaaaaaaaa', 0), ('aaaaaabbbbbbcccccc', 1), ('aaaaaaaaaaabbbbb', 0), ('aaaaaaaaaaaabbb', 0), ('aaaaaaaaaaaaaaaaaaab', 0), ('aaaaaaaabbbbbcc', 0), ('aaaaaaaaaaaabbbbb', 0), ('aaaaaaaaaaaaaaaaaaab', 0), ('aaaaabbbbbbbbbbbbbb', 0), ('abbbcccccccccccccc', 0), ('aaaaaaaaaaaabbbbbbbb', 0), ('aaaaaaaaaaaaaaaab', 0), ('aaaabbbbbbbccccccc', 0), ('aaaaabbbbbccccc', 1), ('aabbbbbbbbbbbbbb', 0), ('bbbbbbbbb', 0), ('abbbbbbbbbbbbbbbbbbb', 0), ('aaaaaaaaaaabbbbbbb', 0), ('aaaaaaaaaaaabbbb', 0), ('aaaaaaaaaaaaaaab', 0), ('aaaaaabbbbbbb', 0), ('aaaaabbbbbbbbbb', 0), ('aaaaaaaaaaaaaaaaaabb', 0), ('aabbbbbbbbbbbcccc', 0), ('aaaaaaaaaaaaabbbbbc', 0), ('bbbbbbbbbbbbb', 0), ('aaaaaaaaaaaaaaaaaabb', 0), ('aaaaabbbbbccccc', 1), ('aaabbbbbbbbbb', 0), ('aaabbbccc', 1), ('aaaaaaaaaaabbbb', 0), ('aaaaaaaaaaaab', 0), ('aaabbbbbbbbbbbbbc', 0), ('aaaabbbbbbbbbbbbbb', 0), ('aaaaaabbbbbbcccccc', 1), ('aaaabbbbcccc', 1), ('aaaaaaaaaaaaaaaab', 0), ('aaaabbbbcccc', 1), ('aaaaaabbbbbbbbbbb', 0), ('aaabbbccc', 1), ('aaaaaaaaaaaabbbbbbbb', 0), ('aaaaaaaaaaaaaaaaaab', 0), ('aaaaaaaaaaaaaaaaab', 0), ('aaaaaaabbbbbbbbbbbb', 0), ('bbbbbbbcccccccc', 0), ('abbbcccccc', 0), ('aaaabbb', 0), ('aaaaaaaaaaaaaaaabbcc', 0), ('aaaaaabbbbbbcccccc', 1), ('aaaaabbbbbbbbcccccc', 0), ('aaabbbbb', 0), ('aaaaaaabbbbbbbbbbbb', 0), ('aabbbbbcccccccc', 0), ('aaaaaaabbcccc', 0), ('aabbbbbbbbbbbbbbbbbb', 0), ('aaaaaaaaaaab', 0), ('aaaaaaaaaaabbbbbbbb', 0), ('aaaaaaaaaabbb', 0), ('aaaabbbbcccc', 1), ('aabbbbbccccccccccccc', 0), ('aaaabbbbcccc', 1), ('aaaaaabbbbbbcccccc', 1), ('aaaaaaaaaaaabbbbbbb', 0), ('aaaaaaaabccccccccccc', 0), ('aaaaaaaaaaaaab', 0), ('aaaaaaaaaaaabb', 0), ('abbbbbbbbbbbcccc', 0), ('aaaaaaaabbbbbbbbbbb', 0), ('aaaaaaaaaaaaaaaaaabb', 0), ('aaaaaaaaaaaaabb', 0), ('aaaabbbbbbbbbbbbbbb', 0), ('aaaaabbbbbccccc', 1), ('aaabbbccc', 1), ('aaaaaaaaaaaaaaabb', 0), ('aaaaaaaaabbbbbbbbbb', 0), ('aaaaaaaaabbbbbccc', 0), ('aaaabbbbcccc', 1), ('aaabbbccc', 1), ('aaaaaaaaaaaaaaaaabbb', 0), ('aaaaaaaaaabb', 0), ('', 1), ('aaabbbccc', 1), ('aaaaaabbbbbbcccccc', 1), ('aaaaaaaaaaaaaaabbbbb', 0), ('abbbbbbbbbbbbbb', 0), ('ab', 0), ('aaabbbccc', 1), ('aaaaaaaaaaaaaaaaaaab', 0), ('aaaaaaaaaaaaabbbbb', 0), ('aaaaaaaaaaaaaaaaa', 0), ('aaaabbbbcccc', 1), ('aaaaaaaaaaaaaaabbbb', 0), ('abbbbbbbbbb', 0), ('aaaaabbbb', 0), ('aaabbbbbbbb', 0), ('aaaa', 0), ('aaaaaaaaaaaaaaaabbb', 0), ('aaaabbbbbbbbbcccc', 0), ('aaaaaaabbbbb', 0), ('bbbbbbb', 0), ('aaabbbccc', 1), ('aaaaaaaabbbbbbbbbbb', 0), ('aaabbbccc', 1), ('aaaabbbbbbbbc', 0), ('aabbbbbbbbbbbbbbbbbb', 0), ('aaaaaaaaaaaaaaaabbcc', 0), ('abc', 1), ('aaaaaaaaaaaaaaabbbb', 0), ('bbbbbbbbbbbbbbb', 0), ('aaaaaaaaaabbbbbbbbc', 0), ('bbbbbbbbbbb', 0), ('aaabbbbbbbb', 0), ('aaaabbbbcccc', 1), ('aaaaaaaaaaaaaaabccc', 0), ('aaaaaaaaabbb', 0), ('aaaaaabbbbbbbbbbbbb', 0), ('aaaaaaaaaaaaaaaaab', 0), ('aaaaaaaabbbbbbb', 0), ('aaaaaaaaaaaaaaaaa', 0), ('aaaaaaaaaaaaaaaabbb', 0), ('aaaaaaaabbbcccccc', 0), ('aaaaaaaaaaaaaaaabb', 0), ('aaabbbbbb', 0), ('aaaaaaaaabbbbbbbbbb', 0), ('aaaaaaaaaaaaaab', 0), ('aaaaaaabbbbb', 0), ('aaaaaaaaaaaaaaabbb', 0), ('aabbbbbbbb', 0), ('aaaabbbbb', 0), ('aaaaaaaaabb', 0), ('aaaabbbbbbbcccccc', 0), ('aaabbccc', 0), ('aabbbbbbbbbbbbbbbbb', 0), ('aaacccccccc', 0), ('aaaaaaaaaaaaaabbbb', 0), ('aaaabbbbcccc', 1)]\n",
      "Average Sentence Length:\n",
      "14.661\n",
      "Val Data Sample:\n",
      "[('aaaabbbbbbbbbbb', 0), ('aaaaaaaabbbbbbbbbbbb', 0), ('aaaaaaaaaaaaaaaabc', 0), ('aaaaaaaaaaaaabbccccc', 0), ('aaaaaabbbbbbb', 0), ('abbbbbbbbbbbbbb', 0), ('aaaaaaaaaaaaaaaaaaab', 0), ('bbbbbb', 0), ('aaaaaacccccccccccccc', 0), ('aaaaaaaaaaaaaaaabbbb', 0), ('abbbbbbbbbbbbbbbb', 0), ('abbbbbbbbbbbb', 0), ('aaaaabbbbbbbbbbbbbbb', 0), ('aabbcc', 1), ('aabbcc', 1), ('aabbbbbbbbbbbbbbb', 0), ('aaabbbbbbbbbbbbbbbb', 0), ('aabbcc', 1), ('aabbcc', 1), ('aabbbccccc', 0), ('aabbcc', 1), ('aaaaaaaabbbbbccccc', 0), ('aaaaaaaabbbbbbbbbbbc', 0), ('aabbcc', 1), ('aaaaaaaaaaaaaaaabb', 0), ('aaaaaaaaabbbb', 0), ('aaaabbbbbbbccccc', 0), ('aabbcc', 1), ('aaaaaaaaaaaaaaa', 0), ('aaaaaaaaaaaaaaaaaaab', 0), ('aaaaaaaaaaaaaaaaaaab', 0), ('aaaaaaabbbbbbbbbbb', 0), ('aaabbbbbbbbbbbbb', 0), ('aaaaaaabbbbbbbb', 0), ('aaaaaaaaaabbbbbbb', 0), ('aaaaaaaaaaaaaaaaaa', 0), ('aabbcc', 1), ('aaaaaaaaaaaaaaaaabb', 0), ('aaaaaaaaaaaaaab', 0), ('aaaaaabb', 0), ('aabbbbbbbbcc', 0), ('aaaaaaaabbbbbbbbbbb', 0), ('aaabbbbbbbbbbbbb', 0), ('aaaaaaaaabbbbbbbb', 0), ('aabbcc', 1), ('aaaaaaaaabbbcccc', 0), ('aaaaaaaaaaaaaaaaaabb', 0), ('aaaaaaaaaaabbbbbbbbb', 0), ('aaaaaaabbbbbb', 0), ('aaaaaabbbbbcc', 0), ('aabbcc', 1), ('aaaaaabbbbbb', 0), ('aaaaaaaaaaaaabbbbcc', 0), ('aabbcc', 1), ('aaaaaaaaabb', 0), ('aaaaaaccc', 0), ('aaaaaaaaaaaaaabbb', 0), ('aaaaaaabbbbbbbb', 0), ('aaaaaaaaaaaaabbb', 0), ('aaaaaaaaaabbbbb', 0), ('aaaaaaaaaaaaabbbbbc', 0), ('aabbcc', 1), ('aaaaabbbbbbbbbbbbbb', 0), ('aaaaaaaaaaabbbbbc', 0), ('aabbcc', 1), ('aaaaaaaaaaaabbb', 0), ('aaaaaaaaaabbbb', 0), ('aaaaaaaaaaaaaaaaab', 0), ('aaaaabbbbbbbb', 0), ('aabbbbb', 0), ('aaaaaaaaaaaaaaaabbbb', 0), ('aaacccccc', 0), ('aaaaaaaaaaaaaa', 0), ('aaaaaaaaaaaaaabbbbcc', 0), ('aaaaaaabbbbbbbbbcc', 0), ('aaabbbbbbbbbbbbbbbbb', 0), ('aaaaabbbbbbbb', 0), ('aaaaaaaab', 0), ('aabbcc', 1), ('aaaaaaabbbccccc', 0), ('aaaaaaaaaaaaaaaaabb', 0), ('aabbcc', 1), ('acccccccccccccccccc', 0), ('aaaabbbbbbbbbbbb', 0), ('aaaaaaaaaaaaaaaaaaab', 0), ('aaaaaaaaaabbbbbbbbb', 0), ('aaaaaaaaaaaaaabbb', 0), ('aabbcc', 1), ('aabbbbbbbbbbbbbbbbb', 0), ('aaaaaaaaaaabbbbbbbbb', 0), ('aaaaaaaaaaaaaaaaaab', 0), ('aaaaaaabbbbbbbbb', 0), ('abbccccccccccc', 0), ('aaaaaabbbbbc', 0), ('aaaaaaaaaaaaaaaaabbb', 0), ('aaaaaaaaaaaabbbbbbb', 0), ('aaaaaaaaaaaaaaaaaa', 0), ('aaabbbbbbbbbbbbbbbbb', 0), ('aaaaaaabbbbb', 0), ('aaaaaaaabcccc', 0), ('aaaaaaaaaaaaaaabbbbb', 0), ('aaaaaaaaaaaaaaaabb', 0), ('aabbcc', 1), ('aaabbbbbb', 0), ('aaaaaaaaaaaaaabbbbbb', 0), ('aaaaaaabb', 0), ('abbb', 0), ('aaaaaaaaaaaaaaaaabbc', 0), ('aaaaaaaaaabbb', 0), ('aaaaaacccc', 0), ('bbbbbbbbbbbbbbbb', 0), ('aaabbbbb', 0), ('aabbcc', 1), ('aaaaaaaaaaaaaaaabbb', 0), ('abbbbbbbbbbbbbb', 0), ('aaaaaaaaaaaaaaaaa', 0), ('aaaaaaaaaaaaaaaaccc', 0), ('aaaaaaaaaaaaaaaaaaa', 0), ('abbbbbbbbccccccccccc', 0), ('aaaaaaaaaaaaaaa', 0), ('aabbcc', 1), ('aabbcc', 1), ('aaaaaabbbbbbbbbbbb', 0), ('aaaaaaabbbbbbbbb', 0), ('aaaaaabbbbbbbbbbb', 0), ('aaaaaabbbbbbbbbcc', 0), ('aaaaaaaaaaaaabbbbb', 0), ('aabbcc', 1), ('aaaaaaaaabbbbbbb', 0), ('aaaaaaaaabbbbbbbbb', 0), ('aabbcc', 1), ('aabbbbbbbbbbbbbbc', 0), ('aaabbbbbbbbbbb', 0), ('aaaaaaaaaaabbc', 0), ('aabbbbbbbbbbbbbbbbb', 0), ('aaaaaaaaaaaaaaabbbb', 0), ('aaaaaaaaaaaaaaaaabb', 0), ('aabbcc', 1), ('aaaaaabbbbbbbb', 0), ('aaaaaaaaaabbbbbbb', 0), ('abbbbbbbbbcccccccc', 0), ('aaaaaaaaaaaaaaaaaaa', 0), ('aaaaaaaaaaaaaaaaaabc', 0), ('aabbcc', 1), ('aaaaaaaaaaaaaaaaaa', 0), ('aaaaaaaaaaaaaaaaaabc', 0), ('aaaaaaaaabbbbbbbbbbb', 0), ('aaaabbbbbbbbb', 0), ('aabbcc', 1), ('aaaaaaaaaaaaaaaaaaa', 0), ('aaaaaaaaabbb', 0), ('aaaabbbbbbbbbbbbb', 0), ('aaaaaaaaaaaaaaabbbbb', 0), ('aaaaaaaaaaabb', 0), ('aaaaaaaabbbbbbbbbbb', 0), ('aaaaaaaaaaaaaaabbbbb', 0), ('aaaaaaaaaaaabbbbb', 0), ('aaaaaaabbbbbbbbbb', 0), ('aaaaaaaabbbbcc', 0), ('aaaaabbccccc', 0), ('aaaaaaaaabb', 0), ('aaaaaaaaaaaaaaaaa', 0), ('aabbcc', 1), ('aaaaaaabbbbbbbbbbb', 0), ('aaaaaaaaaaaacccc', 0), ('abbbbbbbbbbbbccccccc', 0), ('aaaaaaaaaaaaaaa', 0), ('aabbcc', 1), ('aabbcc', 1), ('aaaaaaaaaabbbbbbbbbb', 0), ('aaabbbbbbbbbbbbb', 0), ('aaaaaaaaaaabb', 0), ('aaaaaaccccc', 0), ('aaaaabb', 0), ('aaaaaaaaaaaaaaaaaab', 0), ('aaaaaaaaaaaaaabb', 0), ('aaaaaaaaaabbbbbbbbb', 0), ('aaaaaaaaaaaab', 0), ('bbbbbbbbbbbbbbbbbb', 0), ('aaaaaaaaaaaa', 0), ('aabbcc', 1), ('aabbcc', 1), ('aabbbbbbbbbbbccccccc', 0), ('aaaaaaaaaaaaaabb', 0), ('aabbcc', 1), ('aaaaaaaaaaaaaaaaa', 0), ('aaaaaaaaaaaaaabbbbbb', 0), ('aaaaaaaaaabbbbb', 0), ('aaaaaaaaabbbbbbbbb', 0), ('aaaaaaaaaaaaaaaaaabb', 0), ('aaaaabbbbbbbbbbbb', 0), ('aabbcc', 1), ('aabbcc', 1), ('abbbbbbbbbbbb', 0), ('aaaaaaabbbbbb', 0), ('aaaaaaaaaaaabbbbb', 0), ('aaaaaaaaaaaaaaaabbbb', 0), ('aaaaaaaaaaaaaaaaaab', 0), ('abbbbbbbbbbbbcc', 0), ('aabbcc', 1), ('aaabbbbbbbbbb', 0), ('aabbcc', 1), ('aabbcc', 1), ('aaaaaaaaaaaaaaabbbb', 0), ('aaaaaaaaaaaaaaa', 0), ('aaaaaaaaaaaaaaaaabbc', 0), ('aaaaaaaaaacccccccccc', 0), ('aaaaaaaaaaaaaaaabbbb', 0), ('aabbcc', 1), ('aabbcc', 1), ('aabbcc', 1), ('aaaaaaaaaaaaaaaaaa', 0), ('aaaaaaaaaaaaa', 0), ('aabbcc', 1), ('aabbcc', 1), ('aaaaaaaabbbbbb', 0), ('aabbcc', 1), ('aaaaaaaaaaaaaaaaaaab', 0), ('aaaaaaaaabbbbbbbc', 0), ('aaaaaaaaabbbbbb', 0), ('aaaaaaaaaaaaaaaaabbb', 0), ('aaaaaaaaabb', 0), ('aaaaaaaaabbbbbb', 0), ('aaaaaaaaaaaaaaaaabb', 0), ('abbbbbbbb', 0), ('aabbcc', 1), ('aaaaaaaaaaaaaaaaaab', 0), ('aaabbbccccc', 0), ('aaaaaaaaaaaaaaaccc', 0), ('aabbcc', 1), ('aaaaaaaaaaaaaaaaaaa', 0), ('aaaaaaaaaaaaaabccccc', 0), ('aaaaaaaaaccccccccccc', 0), ('aaaaaabbbbbbbbbbbb', 0), ('aaaaaaaaaaaaabbb', 0), ('aabbbbbbbbbbbbbbbbbb', 0), ('aaabbbbbbbbbbbbbb', 0), ('aaaaaaabbbbbcccccc', 0), ('aaaaaaaaaaaaaaa', 0), ('aaaaaaaabbbbbbbbbbb', 0), ('aaabbbbbbbbb', 0), ('aabbcc', 1), ('aabbcc', 1), ('aaaaaaaaaaaaaaaabbb', 0), ('aabbbbbbbbbbbb', 0), ('aaaaaaaaaabbbbbbbbb', 0), ('aaaaaaaaaaaabbbbbb', 0), ('aaaaaaaaabbbbbbbbbbb', 0), ('abcccccccccccccccc', 0), ('aabbcc', 1), ('aaaaaaaaaabbbbbbbbbb', 0), ('aabbcc', 1), ('aabbbcc', 0), ('aaaaaaabbbbbbbbbbbbb', 0), ('aaabbbbbbbbbbbb', 0), ('aaaaaaaaaaaaaaaaab', 0), ('aaaac', 0), ('aabbbbbbbbbbbcc', 0), ('aabbcc', 1), ('aaaaaaaaaaaaaaaaaabb', 0), ('aaaaaaaaaaaaaaa', 0), ('aabbcc', 1), ('bbbbbbbcccccccc', 0), ('aaaaabbbbbbbbbbbbb', 0), ('aaaaaabbbbbbbbbccc', 0), ('aaaaaabbbbbbccccc', 0), ('aaaaaaaaaaaabb', 0), ('aaaaaaaaaaaaaaaaaa', 0), ('aaaaaaaaabccccc', 0), ('aabbcc', 1), ('aaaaaaaabbbbb', 0), ('aabbcc', 1), ('aaabcccccccccccccc', 0), ('aabbbbbbbbbbbcccc', 0), ('aaacc', 0), ('aaaaaaaaaaabbb', 0), ('aaaaaaaaaaaaaaaaaabb', 0), ('aaaaaaaaaabbc', 0), ('aabbcc', 1), ('aaaabbbbbbbbbbbbbb', 0), ('aaaaabbbbbbbbbbbbbbc', 0), ('aaaaaaaaaaaaabbbbb', 0), ('aaaaaaaaaaaaaaaaaa', 0), ('bccccccccc', 0), ('aaaaaaabbbbbbbbbbbb', 0), ('aabbcc', 1), ('aaaaaaaaaaaaaaaaabbb', 0), ('aaaaaaaaaaaaaaabbbb', 0), ('aaabbcccccccccccc', 0), ('aaaaaaaaaaaaaaaaaaac', 0), ('aaaaaaaaabb', 0), ('aaaaaaaaaaaaabbbbcc', 0), ('aaaaaaabbbbbbbbbb', 0), ('aaaaaaaaaaaaaaaaabb', 0), ('aabbcc', 1), ('aaaaaaaaaaaaaaaaaaab', 0), ('aaaaabbbbccccccc', 0), ('aaaaaaabbbbbbbbbb', 0), ('aaaaaaaaabb', 0), ('aaaaabbbb', 0), ('aaaaaaaaaaaaaabb', 0), ('aabbcc', 1), ('aaaaaaaaaaaaaaaaaabb', 0), ('aaaaaaaaaaabbbbbbbb', 0), ('aaaaaaaaaaaaaa', 0), ('aaaaaaaaaaaaaaaabbbb', 0), ('aaaaaaaaaaaaaaabb', 0), ('aab', 0), ('aaaaaaaaaaaaabbbbbb', 0), ('aaaaaaaaaaabbb', 0), ('aaaaaaaaaaaaaaabbb', 0), ('aaaaaaabbbbbbbbbb', 0), ('aaaaaaaaaaabbbbbbbb', 0), ('bbbbbbbbb', 0), ('aaaaabbbbbb', 0), ('aaaaaaabbbbbbbbbcccc', 0), ('aaaaaaaaaaaaaaabbbbb', 0), ('aaaaaaaaaaaaaaaaaab', 0), ('aaaaaaaaaaaaaaaabbb', 0), ('aabbcc', 1), ('aaaabbbbb', 0), ('bbbbbbbbbbb', 0), ('aaaaaaaa', 0), ('aabbcc', 1), ('aabbcc', 1), ('aaaaaaaaaabbbbbbb', 0), ('aaaaaaaaaaaaabbbbbbb', 0), ('aaaaaaaaaaaabbbbbbb', 0), ('aabbcc', 1), ('aabbbbbbbbbbbbb', 0), ('aaaaaaaaaaaaabbbbbb', 0), ('aaaaaaaaaaaaaaaaaab', 0), ('aabbcc', 1), ('aaacccccccccccc', 0), ('aaaaaaaaaaaaaaabbb', 0), ('aaaaaaaaaaabbb', 0), ('aaaaaaaaaaaabbb', 0), ('aaaaaaabbbbbbbbbbbbb', 0), ('aabbcc', 1), ('aaaaaaaaaaaaaaac', 0), ('aabbcc', 1), ('aaaaaaabbc', 0), ('aaaaaaaaaaabbbbb', 0), ('bbbbbbbbbbbbbbbb', 0), ('aaaaaaaaaaaaabbbbb', 0), ('aaaaaaaaaaaaaaaabbcc', 0), ('aaaaaaaaaaaaaab', 0), ('aabbcc', 1), ('aaaaaaabbbbbbbbbbb', 0), ('aaaaaaaaaaabbb', 0), ('aabbcc', 1), ('aaaaa', 0), ('aaaabbbccccc', 0), ('aaaaaaaaabccccccccc', 0), ('aaaaaaaaaaaabbbb', 0), ('aaaabbbbbbbbbbbbbbb', 0), ('aaaaaaaaaabbbbbbbc', 0), ('aaaaaaaaaaaaaaaabbc', 0), ('aaaaaaaaaaaabbbbbbb', 0), ('aabbcc', 1), ('aaaaaaaaaaaaaaaabb', 0), ('aaaaaaaaaaaaaaaaaa', 0), ('bbbbbbbbbbbbb', 0), ('aaaaabbbbbbbbbbbbbbb', 0), ('aaabbbbbbbbbbbb', 0), ('aaaaaaaaaaaaabbbcc', 0), ('aabbcc', 1), ('aaaaaaaaaaaaaaaaaabc', 0), ('aaaaaaaaaaaab', 0), ('aaaaaaaaaaaaaabbbbbb', 0), ('aaaaaaaaaaaaa', 0), ('aaaaaaaaaaaabbbbb', 0), ('aaaaaaaaabbbbbbbbb', 0), ('aaaaac', 0), ('aaaaaaaaaaaabbbbbbb', 0), ('aabbcc', 1), ('aaaaaaaaaaaaaaaaaaab', 0), ('aaaaaaaaaaaaaaaaaaa', 0), ('aaaaaaaaaaaaabbbbbbb', 0), ('abbbb', 0), ('aaaaaaaaaaaaaaaa', 0), ('abbbbbbbbbbbbbbbbbbb', 0), ('aaaaaaaaaaaabb', 0), ('aaaaaaabbccccc', 0), ('aabbbbbbbb', 0), ('aabbcc', 1), ('aaaaaaaaaaaabbbbbbbb', 0), ('aaabbbbbb', 0), ('aabbcc', 1), ('aaaabbcccccc', 0), ('bbbbcccccccc', 0), ('aaaaaaaabbbbcccc', 0), ('aaaaaaaaaaaabbbbbbbb', 0), ('aaaaaaabbbbb', 0), ('aaaaaaaaaaaaaaabbbb', 0), ('aaaaacccccccc', 0), ('aaaaaaaaaabbbbbbb', 0), ('aaaaaaaaaaaaaaaaaabb', 0), ('aaaaaabbbbbbbbbbbbbb', 0), ('aaaaaaaaaaaaaaaaaaab', 0), ('aabbcc', 1), ('aabbcc', 1), ('aaaaaaaaaaaaabbbb', 0), ('aabbcc', 1), ('aabbbbbbbbbbbbbbbbbb', 0), ('bbbbbbbbbbbbbcc', 0), ('aaaaaaaaaaaaaabb', 0), ('aaaaaaaaaaaaaaaaaabb', 0), ('aabbcc', 1), ('aabbcc', 1), ('aaaaaaaaaaaaaaaaaaab', 0), ('aabbcc', 1), ('aaaaaabbbbbb', 0), ('aaaabbbbbbbbbbbbbccc', 0), ('aabbcc', 1), ('abbbcccccc', 0), ('aaaaaabbbbbbbbbb', 0), ('aaaaaaaaaaaaaaaaaabb', 0), ('aaaaabbbb', 0), ('aaaaaaaabbbbbbbbbbb', 0), ('aaabbbbbccccccccccc', 0), ('aaaaaaaaaaabbbbbbbb', 0), ('aaaaabbbbbbbbbbbbc', 0), ('aabbcc', 1), ('aaaaaaabbbbbbbbbbb', 0), ('aaaaaaaaaaaaaaaaabbb', 0), ('aabbcc', 1), ('aaaaaaaaabbbbbbbbbbb', 0), ('aaaaaaaaaaaaaaaaaacc', 0), ('aaaaaaaaaaaaaaaabb', 0), ('aaaaaaaaaabbbbbbbbb', 0), ('aaaaaaaaaaaaaaaaabb', 0), ('aabbcc', 1), ('aaaaaabbbbccc', 0), ('aaaaabbbbbbbbbb', 0), ('aaaaaaaaaaaaaaaabbbb', 0), ('aaabcccc', 0), ('aabbcc', 1), ('aabbcc', 1), ('aaaaaaaabb', 0), ('aaaaaaabbbbbbbbb', 0), ('aaaaaaaaaaaabbbbbbb', 0), ('aaabbcccccc', 0), ('aaaaaaaaaaaaaaaabb', 0), ('aaaaaabbbbbbcc', 0), ('aaaaaaaaaaaaaaaaaabb', 0), ('aaaaaaaaaabbb', 0), ('aaaaaaabbbb', 0), ('bbbbbbbbbbbbbbbbbbb', 0), ('aabbcc', 1), ('aaaaaaaaaaaaaabb', 0), ('aaaaaaaaaaaaaabb', 0), ('aaaaaabbbccc', 0), ('aabbcc', 1), ('aaaaaaaaaaaaaaaaabb', 0), ('aaaaaaaaaaaaaaaaab', 0), ('abbbbbbb', 0), ('aaaaaaaaaaaaaabb', 0), ('aaaaaaaaaaaabbbbbbbb', 0), ('aabbcc', 0), ('aabbcc', 1), ('aaaaabbb', 0), ('aaaaaaaaaabbbbb', 0), ('abbbbbbbbb', 0), ('aaaaaaaaaaaaaabbbbb', 0), ('aabbbbbbbb', 0), ('aaaaaaaaaabbbbbbb', 0), ('aaabbbbbbbbbb', 0), ('aaaaaaaabbbbbbbb', 0), ('aabbcc', 1), ('aaaaaaaaaaaaaaaaaaa', 0), ('aaaaaaaaaaaaaa', 0), ('aaaaaaaaaaaaabbbbbbb', 0), ('a', 0), ('aaaaaaaaaaabbbbb', 0), ('aaaaaaaaaaaaaaabb', 0), ('aaaaaaaaaaa', 0), ('aabbcc', 1), ('aaaaaaaaaaaaaaaabbbb', 0), ('abbbbbbccc', 0), ('aaaaaaaaaaaaaaaaaab', 0), ('aabbcc', 1), ('aabbcc', 1), ('aaaaaaaabbbb', 0), ('aaaaaaaabbbbb', 0), ('aabbcc', 1), ('aabbcc', 1), ('aaaabbbbccccccc', 0), ('aabbbbbbbbbbbbbbbbb', 0), ('aaaaaaaaaaaabb', 0), ('aaaaaaaaaaaabbbbbbbb', 0), ('aaaaaaaaaaaaaaabbb', 0), ('aaaaabbbbbbbbbbbbbb', 0), ('abbcccccccccccc', 0), ('aaaaaaaaaaaaaaabbcc', 0), ('abbbbccccccccc', 0), ('aaaaaaaaa', 0), ('aabbcc', 1), ('aaaaaaaaaaaaab', 0), ('aabbcc', 1), ('aaaaaaaaaaabbbbbb', 0), ('aabbcc', 1), ('aaaaaaaaaaaaab', 0), ('aaaaaaaaaaabbbbb', 0), ('aabbcc', 1), ('aabbbbbbcccccccccc', 0), ('aabbcc', 1), ('aaaaaaaaaaaaaaaaaabb', 0), ('aabbcc', 1), ('aabbcc', 1), ('aabbcc', 1), ('bbbbb', 0), ('aaaaaaaaaaaaaabbbbbb', 0), ('aaaaaaaaaaaaaacccc', 0), ('aaaaaaaaaaaaaaaabb', 0), ('aaaaaaaaaaabccccccc', 0), ('aabbcc', 1), ('aaaaaaaaaaaaaaaabbb', 0), ('aaaaaaaaaaaaaabbbbb', 0), ('aaaaab', 0), ('aabbcc', 1), ('aaaaaaaaaabbbbbb', 0), ('aa', 0), ('aaaaaaaaaaabbb', 0), ('aaaabbbbbbbbbbbbbbb', 0), ('aaaabbbbbbbbbbbbbcc', 0), ('aaaaaaaaaaaaaaabbb', 0), ('aaaaaaaaabbbbbbbbbb', 0), ('aaaaaaaaaaaaaaaaaa', 0), ('aaaaaabbbbbbb', 0), ('aabbbbbb', 0), ('aaaaaaaaaaaaaaaaaaab', 0), ('aaaaaaabbbbbb', 0), ('aaaaabbbbbbbbbc', 0), ('aaaaaaaaaaaaaa', 0), ('aabbcc', 1), ('aaaaaabbbcccccc', 0), ('bbbbbbbbbbbbbbbbbbbc', 0), ('aabbbbbbbbbbbbbbbb', 0), ('aabbcc', 1), ('aabbbbbbbbbbbbb', 0), ('aaaabbbbbbbbb', 0), ('aabbbbbbbbbccccccccc', 0), ('aabbcc', 1), ('aaaaaaaaaaaaaaaaa', 0), ('aaaaaaaaaaaaaaaaaaa', 0), ('aabbcc', 1), ('aaaaaaaaaaaaaab', 0), ('aaaaaaaaaaaaab', 0), ('bbbbbbbbccccccc', 0), ('aaaaaaaaaaaabbb', 0), ('aaaaaaaaaabbbbbbbbbb', 0), ('aabbcc', 1), ('aaaaaaaaaaaaaaaabbbb', 0), ('aaaaaaaaaaaaaabb', 0), ('aaaaaaaaaaaaaaaaaac', 0), ('aabbcc', 1), ('aaaaaaaaaaaaaaaaabb', 0), ('aaaaabbbbbb', 0), ('aaabbbbbbbbbbbb', 0), ('abbbbbbbbbbbbbbb', 0), ('aaaaaaaaaaaabbbbbb', 0), ('aaaaaaaaaaabb', 0), ('bbbbbbbbbbbbb', 0), ('aaaaaaaaaaaaaaaaaabb', 0), ('aaabbbbbbbbbbbccccc', 0), ('aaaaaaaabbbbb', 0), ('aaaaaaaaaabbbbbbb', 0), ('aaaaaaaaabbbbccccc', 0), ('aaaaaaaabccc', 0), ('aaaaabbbbbbbbbbbbbcc', 0), ('aabbcc', 1), ('aabbcc', 1), ('aaaaaaaabbb', 0), ('aaaaaaabbbbbbbbbbbbb', 0), ('aaaaaabbbb', 0), ('aaaaaaaaaaaaaaaaaaab', 0), ('aaaaaaaaaaaaaaabbbb', 0), ('aaaaaaaaaabbbbbbbbbb', 0), ('aaaaaaaaaaaaaaaaaa', 0), ('aabbcc', 1), ('aabbcc', 1), ('aabbcc', 1), ('aabbcc', 1), ('aaaaaaaaaaaaaabbb', 0), ('aaaaaaaaaaaaabb', 0), ('aaaaabbbbbbbbbbbbbbb', 0), ('aaaabbbbbcccc', 0), ('accc', 0), ('aaaab', 0), ('aaaaaaaaaccccccccc', 0), ('aaabcccccccccccccc', 0), ('aaaaaaaaaaaaaabbb', 0), ('aaaaaaaaaaaa', 0), ('aaaaaabbbbbbbbbbbb', 0), ('aaaaaaaaaaaaaabbbbb', 0), ('aaaaaaaaaaaaaaaaaab', 0), ('aaaaaaaaaaaabbbbb', 0), ('abbbbbbbbbbbbbbbbbbb', 0), ('aaaaaaaaaaaaaaaabb', 0), ('aabbcc', 1), ('aaaaaaaaaaaaaabbbbb', 0), ('aaaaaaaaccccccccc', 0), ('aaaaaaaaaabbbbbb', 0), ('aaaaaaaabbbbbbbbbb', 0), ('aaaabbbb', 0), ('aaaaaaaaaaabbbbbbbb', 0), ('aaaaaaab', 0), ('aaaaaaaaaaaaaaaaa', 0), ('aaaaaaaaaaaaaaabbbb', 0), ('aabbcc', 1), ('aaaaaaaaaaaaaaaaaab', 0), ('aabbcc', 1), ('aabbcc', 1), ('aaaaaaaaaaaaaabbb', 0), ('aaaaaaaabb', 0), ('aaaaaaaaaaaabb', 0), ('aaaabbbbbbb', 0), ('aaaabbbbbbbbbbbbbb', 0), ('aaaaaaaaaaaaaaabb', 0), ('aabbcc', 1), ('bbbbbbbbbbbbbbbbbb', 0), ('bbbbbbbb', 0), ('aaaaaaaaaaaaabbbbc', 0), ('aaaaaaaaaaaaaaaaaaa', 0), ('aaaaabbbbbbbbbbbbbb', 0), ('aaaaaaaaaaaaaabbb', 0), ('aaaaaabbbbbb', 0), ('aaaaaaaaaaaab', 0), ('abbbbbbbbcc', 0), ('aaaaaaaaaaaab', 0), ('aaaaaaaaaabbb', 0), ('aabbbbbbbbbbbbbbb', 0), ('aabbcc', 1), ('aaaaaabbbbbbbb', 0), ('aaaaaaaaaaaabbbbbbb', 0), ('aaabbbbcccccc', 0), ('aaaaaaaaaaaaaaabbbb', 0), ('aaaaaaaaaaaaaaabbbb', 0), ('aabbcc', 1), ('aaaaaaabbbbbbbbb', 0), ('aaaaaabbbbbbbbccccc', 0), ('aaaaaaaaaaaaab', 0), ('aaaaaabbbbbbbbbbb', 0), ('aaabbccccccccccccccc', 0), ('aaaaaaaaaabbbbbb', 0), ('aaaaaaaaaaaaaaaaabb', 0), ('aaaaaaaaaaabbbbbbb', 0), ('aaaaaaaacccccc', 0), ('aaaaaaaaaaaabbbbb', 0), ('aaaabbbb', 0), ('aabbcc', 1), ('aabbcc', 1), ('aaaaaaaaaaaaaaaaaaab', 0), ('aabbcc', 1), ('bbbbbbbbb', 0), ('aaaaaabb', 0), ('aaaaaaaaaabbbbbbbbb', 0), ('aaaaaaaabcccccccc', 0), ('aabbcc', 1), ('aaaabbbbbbbbbbbbccc', 0), ('aaaaaaaaaaaaaaaaabbb', 0), ('aaaaaaaabbcc', 0), ('aaaaaaaaaaaaabb', 0), ('aabbbbbbbbbbbbbbbbbb', 0), ('aabbcc', 1), ('cccccccccccccc', 0), ('aabbbbbbbbbbbbbbbb', 0), ('aabbcc', 1), ('aaaaacccc', 0), ('bbbbbbb', 0), ('aabbbbbbbbb', 0), ('aaaaaaaaaaaabbbbc', 0), ('aaaaabbbbccccccccccc', 0), ('aaaaaabbbbccccc', 0), ('aaaaaaabbbbccc', 0), ('aaaabbbbbbbbbbbbbbb', 0), ('aaaaaaaaaaab', 0), ('aabbcc', 1), ('aaaaaaaaaaaaaaaabb', 0), ('aaaaaaaaaaaaabbbbbbb', 0), ('aaaaaabbbbbbbbbbbbbb', 0), ('aaaaaaaaaaaaaaaaaaa', 0), ('aaaaaaaabbbbbbbcccc', 0), ('aabbcc', 1), ('aaaaaaaaaaaaaaaaa', 0), ('aaaaaaaaaaabbbbb', 0), ('aaaaabbbbbbbb', 0), ('aaaaaaaaaaabccc', 0), ('aaaaaaaaaaaaabccccc', 0), ('aaaaaaaaaaaaaaaaaab', 0), ('aaaaaabbbb', 0), ('aaaaccccccccccccc', 0), ('aaaaaaaaaaaaaaaaac', 0), ('aaaaaaabbbbbbbbb', 0), ('aaaaaaaaaaabbbbbbbbb', 0), ('aaaaaaaaaabbbbbbb', 0), ('aaaaaaaaaaaaaaaaab', 0), ('aabbcc', 1), ('abbbbbbbbbbbbbbb', 0), ('aaaaaaaaaaaaaaaaaaa', 0), ('aabbcc', 1), ('aabbbbbbbbbbbbbb', 0), ('aaabbbbbb', 0), ('aaaaaaaaaaaaaaaaaaa', 0), ('aabbcc', 1), ('aaaaaaaaaabbcc', 0), ('aabbcc', 1), ('abbbbbbbbbbbbb', 0), ('aaaaaaaaaaaaaaabb', 0), ('aaaaaabbbb', 0), ('aaaaaaaaaaaaaaaaaab', 0), ('aabbcc', 1), ('aaaaabbbbbbbbbbbb', 0), ('aaaaaaaaaaaabbbbbbb', 0), ('aabbcc', 1), ('bbbbbbbbbbbbbbbbbbb', 0), ('aabbcc', 1), ('aabbbbbbbbbbbbbbbbb', 0), ('aaaaaaaaaaaaaaaabbbb', 0), ('aaaaaaaaaaaabbbbbb', 0), ('bbbbbbbbb', 0), ('aaaaaaaabbbbb', 0), ('aabbcc', 1), ('aaaaaaabbbbbbbbb', 0), ('aabbcc', 1), ('aaaaaaaaaaaaaaaaaaa', 0), ('abc', 0), ('bbbbbbbbbcc', 0), ('aaaaaaaaabbbb', 0), ('aabbbccccccccccccc', 0), ('aaaaaaaaaaaaaaabb', 0), ('aabbbbbbbbbbbbb', 0), ('aabbcc', 1), ('aaaaaaaabbbbbbbb', 0), ('aaaaaaaaaaab', 0), ('aaaaaaabbbbbbbbb', 0), ('aaaaaaaabbbbbbbbb', 0), ('aabbcc', 1), ('aaaaaaaaaaab', 0), ('aaaaaaaaabbbbbbbbcc', 0), ('aabbbbbbb', 0), ('aaaaaaaaaaaaaabbbbb', 0), ('aaaaaaaabbbbbbbb', 0), ('aaaaaaaaaaaab', 0), ('aabbcc', 1), ('aaaabcccccccc', 0), ('aaaaaaaabbbbbbbbbb', 0), ('aaaaaaabbbbbbbbbbbbb', 0), ('aaaaaaab', 0), ('aaaaaaaaaaaaabbb', 0), ('aaaaaaaaaaaaaa', 0), ('abbbbbbbbbbb', 0), ('aaaaabbbbbbbbbbbb', 0), ('aaaaaaaaaaaaabbbbb', 0), ('aabbcc', 1), ('aaaaaaabbb', 0), ('aaaaaaaaaaaaaaaaaab', 0), ('aaaaaaaaaaaabbbbbb', 0), ('aabbbbbbccccc', 0), ('aaaaaaa', 0), ('aaaaaaaaaaaaa', 0), ('aabbcc', 1), ('aaaaaaaaaaabb', 0), ('aaaaaaaaaaaabcccccc', 0), ('bbbccccccccccc', 0), ('aabbcc', 1), ('aabbcc', 1), ('aabbcc', 1), ('aaaaaaaaaaaaaab', 0), ('aaaaaaaaabbbbbbb', 0), ('aabbcc', 1), ('aabbcc', 1), ('aabbcc', 1), ('aaaaaabbbbbbbbbbb', 0), ('aabbcc', 1), ('aabbc', 0), ('aaaaaaaaaaaaaaaaaabb', 0), ('aabbcc', 1), ('bbbbbbcccccccccc', 0), ('aaaaaaaaaa', 0), ('aaaabbbbbbbbbb', 0), ('aaaaabbbbbbbbbb', 0), ('aaaaaaaaaaaaaaaabbb', 0), ('aaaaaaaaaaaaaaaabbbb', 0), ('abbbc', 0), ('aaaaaabbbbb', 0), ('aabbcc', 1), ('aaaaaabbbbbcccc', 0), ('aabbcc', 1), ('aaaaaabccccccccccc', 0), ('aabbcc', 1), ('aaaaaaaaaabbbccccccc', 0), ('aaaaaaaabbbbbbb', 0), ('aabbcc', 1), ('aaaaaaaaabbbbbbb', 0), ('aaaaaaaaaaaaaaaaaaab', 0), ('aaaaaaaaaaaaaabbbb', 0), ('aaaaabbbbbbbbb', 0), ('aaaaaaaaaaaaabbb', 0), ('accccccccc', 0), ('aaaaaabbb', 0), ('aaaaaaaaaabbbbbbbbbb', 0), ('aaaaaaaabbbbbbbbbb', 0), ('bbbbbbbccccccccccc', 0), ('aaaaaaaabbbbbbb', 0), ('aaabbbbbbbbbbbbbbbbb', 0), ('aaaaaaaaabbbbbbbb', 0), ('aabbcc', 1), ('aaaaaaaaaaaaaaaaabc', 0), ('aaaaaaaaaaaabbbbbbbb', 0), ('aabbcc', 1), ('aaabbccccccccc', 0), ('aaaaaaaaaaaaaaa', 0), ('aaaaaaaabbbcc', 0), ('aaaaaaaaaaaaab', 0), ('aaaaaaaaaaaabbbb', 0), ('aaaaaaaaabbbbbbbbbb', 0), ('aaaabbbbbbbbbcccc', 0), ('aabbcc', 1), ('aabbcc', 1), ('abbbbbbbcccccccccc', 0), ('aaaaaaaa', 0), ('aaaaaaaaaaaaaaaaaabb', 0), ('aaaaabbbbbbb', 0), ('aaaaaaaaaaaaaaaaaaab', 0), ('aaaaaaaaaaaaaaaaaaa', 0), ('aaaaaaaaaaaaaaaaaabb', 0), ('aaaaaaaaaaaabbbbbbb', 0), ('aabbcc', 1), ('aaaaaabbbbbbbbb', 0), ('aabbcc', 1), ('aaaaaaaaaaaaaaaaaaab', 0), ('aabbcc', 1), ('aaaaaaaaaaaaaaaaaaab', 0), ('aaaaaaaaacccccc', 0), ('aaaaaaaaaaaaaabbbbb', 0), ('aaaaaaaabbbbbbbbbbbc', 0), ('aaaaaabbbbbbbbbbbbc', 0), ('aaaaaaaaaaabb', 0), ('aabbcc', 1), ('aaabbbbbbbbbbbb', 0), ('bbbbbbbbbbbb', 0), ('aaaaaaab', 0), ('aaaaabbbbbbbbbbbb', 0), ('aaaaaaaaaaaaaaaaabbb', 0), ('aaaaaaaaaaaaaaaaaab', 0), ('aaaaaaaaaaaab', 0), ('aaaaaabbbbc', 0), ('aabbcc', 1), ('aabbcc', 1), ('aabbcc', 1), ('aabbcc', 1), ('aabbcc', 1), ('aaaaaaaaabbb', 0), ('aaaaaaaaaaaa', 0), ('abbbbbbbbbbbbbbbbbbb', 0), ('aaaabbbbb', 0), ('aaaaaaaaaaaaaaaaabb', 0), ('aaaaaaaaaaabbbbbbbb', 0), ('aaaaaaaaaaaaaaaaabb', 0), ('aaaaaaaaaaaaaaaabbbb', 0), ('aaaaaaaabbbbbbbbbbbb', 0), ('aaaaaaaaaaaaaaab', 0), ('aaaaaaaaaaaaaaaaaaab', 0), ('aaaaaaaaabbbbbbbbbc', 0), ('aaaaaabbbbbbbbbbb', 0), ('aaaaaaaaabbbbbbbbbb', 0), ('aaabccccccccccccccc', 0), ('aaaaaaaaaaaaabbb', 0), ('aabbcc', 1), ('aaaaaaaaaaaaabbbbbbb', 0), ('aaaaaaaaaaaaaaaaaaab', 0), ('aabbcc', 1), ('aaaaaaaaaaaaaaaaaab', 0), ('aaaaaaaaaaaabbbcccc', 0), ('aaabbbbbbb', 0), ('aabbbbbbbbbbbbbb', 0), ('aabbcc', 1), ('aaaaaaaaaaaaaaaaaabb', 0), ('aaaaaaaa', 0), ('aabbcc', 1), ('aaaaaaaaaaaaab', 0), ('abbbbb', 0), ('aabbcc', 1), ('aaaaabbccccccccccccc', 0), ('aaaaaaaaaaaabbbb', 0), ('aaaaaaaaabccccccc', 0), ('aaaabbbbbbbbcccccc', 0), ('aaabbbbbbcc', 0), ('aaaaaaaaaaaaaaaaa', 0), ('aaaaaaaaabbbbbbbbbbb', 0), ('aaaabbbbbbbbbbbbb', 0), ('aaaaabbbbb', 0), ('aaaaabbbb', 0), ('aabbcc', 1), ('abbbbbbbbbbbb', 0), ('aabbcc', 1), ('aabbcc', 1), ('aabbbbbbbbb', 0), ('aaaaaaaaaaaaaaaabb', 0), ('aaaaaaaaaaaaaabb', 0), ('aaaaaaaaaabbb', 0), ('aaaaaaaaaaaabb', 0), ('aaaaaabbbbbbbb', 0), ('aaaaaaaaaaaaabb', 0), ('bbbbbbbbbbbbbbbb', 0), ('aaaaaaaaaaaaaaaaaaa', 0), ('aaaaaaaaaaaaaaabbbbb', 0), ('aaabbbccccc', 0), ('aaaaaabbbb', 0), ('aaaaaaaaaaaaaaab', 0), ('aaaaaaaaaaaaaaabb', 0), ('aaaaaaaaaabbbbbb', 0), ('aaaabbbbbb', 0), ('aaaabbbbbbbbbb', 0), ('aabbbbbbbbbb', 0), ('aaaaaaaaaabbbbbccccc', 0), ('aabbcc', 1), ('aaaaaabbbbbbbbbbb', 0), ('aaaaaaaaaaaaaa', 0), ('aaaaaaaabbbb', 0), ('aabbcc', 1), ('aabbcc', 1), ('aaaaaaaaaaaaaabbbbb', 0), ('aaaaaaaaabbb', 0), ('aabbbbbbbbb', 0), ('aaaaaaaaabbbbbbbbb', 0), ('aaaccccccccc', 0), ('aaaabbbbbbbbbbb', 0), ('aaaaabbbbbbbbbbbbbb', 0), ('aabbcc', 1), ('aabbcc', 1), ('aaaaaaaaaaaaaaaaaaab', 0), ('aabbcc', 1), ('aaaaaaaaaaaaabccccc', 0), ('aaaaaaaaaaabbc', 0), ('aabbcc', 1), ('aaaaaaaaaaaaaaaabb', 0), ('aabbcc', 1), ('abbbbbbbbbbbbbbbbc', 0), ('aabbcc', 1), ('aaaaaaaaaaaaaaaaaa', 0), ('aaaaaaaaaaaaaaaaaabb', 0), ('aabbcc', 1), ('aaaaaaaaaaaaaaaaaaa', 0), ('aabbcc', 1), ('aaaaaabbbbbbbbb', 0), ('aaaaaaaaaaaaaaa', 0), ('abbbbbbb', 0), ('aaaaaaaaaaaaaaaaaab', 0), ('aaaaaaaaaaaaaaaaab', 0), ('aaaaaaaaabb', 0), ('aabbcc', 1), ('aabbcc', 1), ('aabbcc', 1), ('aaaaaaaaaabbbbbb', 0), ('aabbbbbbbbbbbb', 0), ('aaaaabbbbbbbbbbb', 0), ('aaaaabbbbbcccccccccc', 0), ('aaaaaaaaaaaaab', 0), ('aaaabbbbbb', 0), ('aabbcc', 1), ('aaaaaabbccccccc', 0), ('aaaaacccccccccccc', 0), ('aaaaaaaaaaaabbbbb', 0), ('aaaaaaaaaaaaaabccccc', 0), ('aaaaaaaaaabb', 0), ('aaabbbbbbbbbbbbbb', 0), ('aabbcc', 1), ('aaaaaabbbbb', 0), ('aaaaaaaaaaaaaaaabbbb', 0), ('bbbbbbbccccccccccccc', 0), ('aabbcc', 1), ('aabbcc', 1), ('abbbbbbbbbbbbbbbbbbb', 0), ('abbbbbbbbb', 0), ('aabbcc', 1), ('abbbbb', 0), ('aaaaaaaaaaaaaaabb', 0), ('aaaaaaaabbbbbb', 0), ('aaaaaaaaaaaaaabbbb', 0), ('aabbcc', 1), ('aaaaaaabbbbbbbbbbb', 0), ('aabbbbbbbbbbbbbbbb', 0), ('aabbcc', 1), ('aabbcc', 1), ('aaaaaaaaaabbbbbbbb', 0), ('aaaaaaaaaaaaaaaaa', 0), ('aaaabbbc', 0), ('aaaaaabccccccccc', 0), ('aaaaaaaabbbbb', 0), ('aaaaaaaaaaaaaaaaaaab', 0), ('aabbcc', 1), ('aabbcc', 1), ('aaaabb', 0), ('aaaaaaaaaaaaabbbbbbb', 0), ('abbbbbbccccccccc', 0), ('aabbcc', 1), ('bbbbbbbbbb', 0)]\n",
      "Average Sentence Length:\n",
      "13.914\n",
      "Test Data Sample:\n",
      "[('aaaaaaaaaaaaaaaaaaaabbbbbbbbbbbbbbbbbbbbcccccccccccccccccccc', 1), ('aabbbbbbbbbbbbbbbbbbbbbbbbbbbbbbbbbbbbbbbbbbcccccccccccccccc', 0), ('aaaaaaaaaaaaaaaabbbbbbbbbbbbbbbbcccccccccccccccc', 1), ('aaaaaaaaaaabbbbbbbbbbbccccccccccc', 1), ('aaaaaaaaaaaaaaaaaaaaaaaaaaaaaaaaaaaaaaaaaaaaaaaaabbbbbbbbbbbbbbbbbbbb', 0), ('aaaaaaaaaaaaaaaaaaaaaaaaaaaaaaaaaaaaaaaaaaaaaaaaaaaaaaaaaaaaaaaaaaaaaaaaaaaaaaaaaaaaaaaabbbbb', 0), ('aaaaaaaaaaaaaaaaaaaaaaaaaaaaaaaaaaaaaaaaaaaaaaaabbbbbbbbbbbbbbbbbbbbbbbbbbbbbbbbbbbbbbbbbbcccccccc', 0), ('aaaaaaaaaaaaaaaaaaaaaaaaaaaaaaaaaaaaaaaabbbbbbbbbbbbbbbbbbbbbbbbbbbbbbbbbbbbbbbbbbbbbbbb', 0), ('aaaaaaaaaaaaaaaaaaaaaaaaaaaaaaaaabbbbbbbbbbbbbbbbbbbbbbbbbbbbbbbbbccccccccccccccccccccccccccccccccc', 1), ('aaaaaaaaaaaaaaaaaaaaaaaaaaaaaaaaaaaaaaaaaaaaaaaaaaaaaaaaaaaaaabbbbb', 0), ('aaaaaaaaaaaaaaaaaaaaaaaaaaaaaaaaaaaaaaaaaaaaaabbbbbbbbbbbbbbbbbbbbbbbbbbbbbbbbbbbbbbbbbbbbbbbbbbbb', 0), ('bbbbbbbbbbbbbbbbbbbbbbbbbbbbbbbbbbbbbbbbbbbbbbbbbbbbbbbbbbbbbbbbbbbbbbbbbbbbbbbbbbbbbbbbbbbbbbbbb', 0), ('aaaaaaaaaaaaaaaaaaaaaaaaaaaaaaaaaaaaaaaaaaaaaaaaaaaaaaaaaaaaabbccccccccccccccccccccccccccccccccccc', 0), ('aaaaaaaaaaaaaaaaaaaaaaaaaaaabbbbbbbbbbbbbbbbbbbbbbb', 0), ('aaaaaaaaaaaaaaaaaaaaaaaaaaaaaaaaaaaaabbbbbbbbbbbbbbbbbbbbbbbbbbbbbbbbbbbbbbbbbbbbbbbbbbbbbbbbbbb', 0), ('aaaaaaaaaaaaaaaaaaaaaaaaaaaaaaaaaaaaaaaaaaaaaaaaaaaaaaaaaaaaaaaaaaaaaaaaabbbbbbbbb', 0), ('aaaaaaaaaaaaaaaaaaaaaaaaaaaaaaaaaaaaaaaaaaaaaaaaaaaaaaaaaaaaaaaaaaaaaaaaaaaaaaaabbbbbbbbbbbbb', 0), ('aaaaaaaaaaaaaaaaaaaaaaaaaaaabbbbbbbbbbbbbbbbbbbbbbbbbbbbbbbbbccccccccccccc', 0), ('aaaaaaaaaaaaaaaaaaaaaaaaaaaaaaaaaaaaaaaaaaaaaaaaaaaaaaaaaaaaaaaaaaaaaaaaaaaaaaaaaabbbbbbbbbbbbbbb', 0), ('aaaaaaaaaaaaaaaaaaaaaaaaaaaabbbbbbbb', 0), ('aaaaaaaaaaaaaaaaaaaaaaaaaaaaaaaaaaaaaaaaaaaaaaaaaaaaaaaaaaaaaaaaaaaaaaaaaaaaaaaaaaaaaaaaaaaaab', 0), ('aaaaaaaaaaaaaaaaaaaaaaaaaaaaaaaaaaaaaaaaaaaaaaaaaaaaaaaaaaaabbbbbbbbbbbbbbbbbbbbbbbbbbbbbbbbbbbb', 0), ('aaaaaaaaaaaaaaaaaaaaaaaaaaaaaaabbbbbbbbbbbbbbbbbc', 0), ('aaaaaaaaaaaaaaaaaaaaabbbbbbbbbbbbbbbbbbbbbccccccccccccccccccccc', 1), ('aaaaaaaaaaaabbbbbbbbccccccccccccccccccccccccccccccccccccccccccccccccccccccccccccccccc', 0), ('aaaaaaaaaaaaaaaaaaaaaaaaaaaaaaaaaaaaaaaaaaaaaaaaaaaaaaaaaaaaaaaaaaaaaabbbbbbbbbbbbbbbbbbbbbbbbbbb', 0), ('aaaaaaaaaaaaaaaaabbbbbbbbbbbbcccccccccccccccc', 0), ('aaaaaaaaaaaaaaaaaaaaaaaaaaaaaaaaaaaaaaaaaaaaaaaaaaaaaaaaaaaaaaaaaaaaaaaaaaaaaaaaaaaaaaaaaaaaaaaaabbb', 0), ('aaaaaaaaaaaaaaaaaaaaaaaaaaaaaaaaaaaaaaaaaaaaaaaaaaaaaaaaaaaaaaaaaaaaaaaaaaaaaaaaaaa', 0), ('aaaaaaaaaaaaaaaaaaaaaaaaaaaaaaaabbbbbbbbbbbbbbbbbbbbbbbbbbbbbbbbccccccccccccccccc', 0), ('aaaaaaaaaaaaaaaaaaaaaaaaaaaaaabbbbbbbbbbbbbbbbbbbbbbbbbbbbbbcccccccccccccccccccccccccccccc', 1), ('aaabbbbbbbbbbbbbbbbbbbbbbbbbbbbbbbbbbbbbbbbbbbbbbbbbbbbbbbbbbbbbbbbbbbbbbbcccccccccccccccccccccc', 0), ('aaaaaaaaaaaaaaaaaaaaaaaaaaaaaaaaaaaaaaaaaaaaaaaaaaaaaaaaaaaaaaaaaaaaaaaaaaaabbbbbbbbbbbbbbb', 0), ('aaaaaaaaaaaaaaaaaaaaaaaaaaaaaaaaaaaaaaaaaaaaaaaaaaaaaaaaaaaaaabbbbbbbbbbbbbbbbbbbbbbbbbbbbbbbbbbb', 0), ('aaaaaaaaaaaaaaaaaaaaaaaaaaaaaaaaaaaaaaaaaaaaaaaaaaaaaaaaaaaaaaaaaaaaaaaaaaaaaaaaaaaaaaaaaabbbbbb', 0), ('aaaaaaaaaaaaaaaaaaaaaaaaaaaaaaaaaaaaaaaaaaaaaaaaaaaaaaaaaaaaaaaaaaaaaaaaaaaaaaaaaaaaaaaaaaaaaaaaaa', 0), ('aaaaaaaaaaaaaabbbbbbbbbbbbbbcccccccccccccc', 1), ('aaaaaaaaaaaaaaaaaaaaaaaaaaaaaaaaaaaaaaaaaaaaaaaaaaaaaaaaaaaaaaaaaaaaaaaaaaabbbbbbbbbbbbb', 0), ('aaaaabbbbbbbbbbbbbbbbbbbbbccccccccccccccccccccccccccccccccc', 0), ('aaaaaaaaaaaaaaaaaaabbbbbbccccccccccccccccccccccccccccccccccccccccccccccccccccccccccccccc', 0), ('aaaaaaaaaaaaaaaaaabbbbbbbbbbbbbbbbbbcccccccccccccccccc', 1), ('aaaaaaaaaaaaaaaaaaaaaaabbbbbbbbbbbbbbbbbbbbbbbbbbbbbbbbbbbbbbbbbbbbbbbbccccccccccccccccc', 0), ('aaaaaaaaaaaaaaaaaaaaaaaaaaaaaaaaaaaaaaaaaaaaaaaaaaaaaaaaaaaaaaabbbbb', 0), ('aaaaaaaaaaaaaaaaaaaaaaaaaaaaaaaaaaaaaaabbbbbbbbbbbbbbbbbbbbbbbbbbbbbb', 0), ('aaaaaaaaaaaaaaaaaaaaaaaaaaaabbbbbbbbbbbbcccccccccccccccccccccccccccccccccccccccccccccccccccccccccc', 0), ('aaaaaaaaaaaaaaaaaaaaaaaaaaaaaaaaaaaaaaabbbbbbbbbbbbbbbbbbbbccccccccccccccccccccccccccccccccc', 0), ('aaaaaaaaaaaaaaaaaaaaaaaaaaaaaaaaaaaaaaaaaaaaabbbbcccccccccc', 0), ('aaaaaaaaaaaaaaaaaaaaaaaaaaaaaaaaaaaaaaaaaaaaaaaaaaaaaaaaaaaabbbbbbbbbbbbbbbbbcc', 0), ('aaaaaaaaaaaaaaaaaaaaaaaaaaaaaaaaaaaaaaaaaaaaaaaaaaaaaaaaaaaabb', 0), ('aaaaaaaaaaaaaaaaaaaaaaaaaaabbbbbbbbbbbbbbbbbbbbbbbbbbbccccccccccccccccccccccccccc', 1), ('aaaaaaaaaaaaaaaaaaaaaaaaaaaaaaaaaaaaaaaaaaaaaaabbbbbbbbbbbbbbbbbbbbbbbbbbbbbbbbbbbbbbbbbbbbb', 0), ('aaaaaaaaaaaaaaaaaaaaaaaaaabbbbbbbbbbbbbbbbbbbbbbbbbbbbbbbbbbbbbbbbbbbbbbbbbbbbbbbbbbbbbbbcccccccccc', 0), ('aaaaaaaaaaaaaaaaaaaaaaaaaaaaaaaaaaaaaaaaaaaaabbbbbbbbbbbbbbbbbbbccccccccccccccccccccccccccc', 0), ('aaaaaaaaaaaabbbbbbbbbbbbbbbbbbbbbbbbbbbbbbbbbbbbbbbbbbbbbbbbbbbbb', 0), ('aaaaaaaaaaaaaaaaaaaaaaaaaaaaaaaaaaaaaaaaaaaaaaaaaaaaaaaaaaaaaaaaaaaaaaaaaaaaaaaaaaaaaaaaaaaaaaabbb', 0), ('aaaaaaaaaaaaaaaaaaaaaabbbbbbbbbbbbbbbbbbbbbbcccccccccccccccccccccc', 1), ('aaaaaaaaaaaaaaaaaaaaaaaaaaaaaaaaaaaaaaaaaaaaaaaaaaaaaaaaaaaaaaaaaaaaaaaaaaaaa', 0), ('aaaaaaaaaaaaaaaaabbbbbbbbbbbbbbbbbccccccccccccccccc', 1), ('aaaaaaaaaaaaaaaaaaaaaaaaaaaaaaabbbbbbbbbbbbbcccccccccc', 0), ('aaaaaaaaaaaaaaaaaaaaaaaaaaaaaaaaaaaaaaaaaaaaaaaaaaaaaaaaaaaaaaaaaaaaaaaaaaaaaaabbbbbbb', 0), ('aaaaaaaaaaaaaaaaaaaaaaaaaaaaaaaabbbbbbbbbbbbbbbbbbbbbbbbbbbbbbbbcccccccccccccccccccccccccccccccc', 1), ('aaaaaaaaaaaaaaaaaaaaaaaaaaaaaaaaaaaaaaaaaaaaaaaaaaaaaaaaaaaaaaabbbbbbbbbcc', 0), ('aaaaaaaaaaaaaaaaaabbbbbbbbbbbbbbbbbbbbbbbbbbbccccccccccccccccccccccccccccccccccccccccccccccccccc', 0), ('aaaaaaaaaaaaaaaaaaaaaaabbbbbbbbbbbbbbbbbbbbbbbbbbbbbbbbbbbbbbbbbbbbbbbbbbbbbbbbbb', 0), ('aaaaaaaaaaaaaaaaaaaaaaaaaaabbbbbbbbbbbbbbbbbbbbbbbbbbbbbbbbbbbbbbbbbbbbbbbbbbbbbbbbbbbbbb', 0), ('aaaaaaaaaaaaaaaaaaaaaabbbbbbbbbbbbbbbbbbbbbbcccccccccccccccccccccc', 1), ('aaaaaaaaaaaaaaaaaaaaaaaaaaaaaabbbbbbbbbbbbbbbbbbbbbbbbbbbbbbcccccccccccccccccccccccccccccc', 1), ('aaaaaaaaaaaaaaaaaaaaaaaaaaaabbbbbbbbbbbbbbbbbbbbbbbbbbbbbbbbbbbbbbbbbbbbccccc', 0), ('aaaaaaaaaaaaaaaaaaaaaaaaaaaaaaaaaaaaaaaaaaaaaaaaaaaaaaaaaaaaaaaaaaaaaaaaaaaaaaaaaaaaaaabbbbbbb', 0), ('aaaaaaaaaaaaaaaaaaaaaaaaaaaaaaaaaaaaaaaaaaaaaaaaaaaaaaaaaaaaaaabbbbbbbbbbbbbbbbbbbbbbbbbbbbbbbb', 0), ('bbbbbbbbbbbbbbbbbbbbcccccccccccccccccccccccccccc', 0), ('aaaaaaaaaaaaaaabbbbbbbbbbbbbbbccccccccccccccc', 1), ('aaaaaaaaaaaaaaaaaaaaaaaaaaaaaabbbbbbbbbbbbbbbbbbbbbbbbbbbbbbbbbbbbbbbbbbbbbbbbbbbbbbbbbbbbbbbbb', 0), ('aaaaaaaaaaaaaabbbbbbbbbbccccccccccccc', 0), ('aaaaaaaaaaaaaaaaaaaaaaaaaaaaaaaaaaaaaaaaaaaaaaaaaaaaaaaaaaaaabbbbbbbbbbbbbbbbbbbbbbbbbbbbbbbbbbbc', 0), ('aaaaaaaaaaaabbbbbbbbbbbbcccccccccccc', 1), ('aaaaaaaaaaaaaaaaaaaaaaaaaaaaaaaaaaaaaaaaaaaaaaaaaaaaaaaaaaaaabbbbbbbbbbbbbbbbbb', 0), ('aaaaaaaaaaaaaaaaaaaaaaaaaaaaaaaaaaaaaaaaaaaaaaaaaaaaaaaaaaaaaaaaaaaaaaaaaaaaaabbbbbbbbbbbbbbbbbbbbb', 0), ('aaaaaabbbbbbbbbbbbbbbbbbbbbbbbbbbbbbbbbbbbbbbbbbbbbbbbbbbbbbbbbbbbbbbbbbbbbbbbbbbbbbbbbbbbbbbbbbbbbb', 0), ('aaaaaaaaaaaaaaaaaaaaaaaaaabbbbbbbbbbbbbbbbbbbbbbbbbbcccccccccccccccccccccccccc', 1), ('aaaaaaaaaaaabbbbbbbbbbbbcccccccccccc', 1), ('aaaaaaaaaaaaaaaaaaaaaaaaaaaaaaaaaaaaaaaaaaaaaaaaaaaaaaaaaaaaaaaaaaaaaaaaaaaaaaaaaaaaaaaaabbbbbbbbbb', 0), ('aaaaaaaaabbbbbbbbbbbbbbbbbbbbbbbbbbbbbbbbbbbbbbbbbbbbbbbbbbbbbbbbbbbbbbbbbbbbbbbbbbbbbbbbbbb', 0), ('aaaaaaaaaaaaabbbbbbbbbbbbbccccccccccccc', 1), ('aaaaaaaaaaaaaaaaaaaaaabbbbbbbbbbbbbbbbbbbbbbbbbbbbbbbbbbbbbbbb', 0), ('aaaaaaaaaaaaaaaaaaaaaaaaaaaaaaabbbbbbbbbbbbbbbbbbbbbbbbbbbbbbbccccccccccccccccccccccccccccccc', 1), ('aaaaaaaaaaaaaaaaaaaaaaaaaaaaaaaaaaaaaaaaaaaaaaaaaaaaaaaaaaaaaaaaaaaaaaaaaaaaaaaaaaaaabbbbbbb', 0), ('aaaaaaaaaaaaaaaaaaaaaaaaaaaaaaaabbbbbbbbbbbbbbbbbbbbbbbbbbbbbbbbbbbbbbbbbbbbbbbbbbbbbbbbbbbbbbb', 0), ('aaaaaaaaaaaaaaaaaaaabbbbbbbbbbbbbbbbbbbbcccccccccccccccccccc', 1), ('aaaaaaaaaaaaaaaaaaaaaaaaaaaaaaaaaaaaaaaaaaaaaaaaaaaaaaaaaaaaaaaaaaaaaaaaaaaaaaaaaaaaaaaaaaaabbbbbbb', 0), ('aaaaaaaaaaaaaaaaaaaaaaaaaaaaaaaaaaaaaaabbbbbbbbbbbbbbbbbbbbbbbbbbbbbbbbbbbbbbbbbbbbbbbbbbbbbbbbbbbbb', 0), ('aaaaaaaaaaaaaaaaaaaaaaaaaaaaaaaaaaaaaaaaaaaaaaaaaaaaaaaaaaaaaaaaaaaaaaaaaaaaaaaaaaaaaaaabbbbbb', 0), ('aaaaaaaaaaaaaaaaaaaaaaaaaaaaaaaaaaaaaaaaaaaabbbbbbbbbbbbbbbbbbbbbbbbbbbbbbbbbb', 0), ('aaaaaaaaaaaaaaaaaaaaaaaaaaabbbbbbbbbbbbbbbbbbbbbbbbbbbbbbbbb', 0), ('aaaaaaaaaaaaaaaaaaaaaaaaaabbbbbbbbbbbbbbbbbbbbbbbbbbcccccccccccccccccccccccccc', 1), ('aaaaaaaaaaaaaaaaaaaaaaaaaaaaaaaaaaaaaaaaaaaaaaaaaaaaaaaaaaaaabbbbbbbbbbbbbbbbbbbbbbbbbbbbbbbbbbbbb', 0), ('aaaaaaaaaaaaaaaabbbbbbbbbbbbbbbbbbbbbbbbbbbbbbbbbbbbbbbbbbbbbbbbbbbbbbbbbbbbbbbbbbbbbbbbbbbb', 0), ('aaaaaaaaaaaaaaaaaaaaaaaaaaaaaaaaaaaaaaaaaaaaaaaaaaaaaaaaaabbbbbbbbbbbbbbbbbbbbbbbbbbb', 0), ('bbbbbbbbbbbbbbbbbbbbbbbbbbbbbbbbbbbbbbbbbbbbbbbbbbbbbbbbbbbbbbb', 0), ('aaaaaaaaaaaaaaaaaaaaaaaaaaaaaaaaaaaaaaaabbbbbbbbbbbbbbbbbbbbbbbbbbbbbbbbbbbbbbbbbbbbbbbbbbbbbbbb', 0), ('aaaaaaaaaaaaaaaaaaaaaabbbbbbbbbbbbbbbbbbbbbbcccccccccccccccccccccc', 1), ('aaaaaaaaaaaaaaaaabbbbbbbbbbbbbbbbbccccccccccccccccc', 1), ('aaaaaaaaaaaaaaaaaaaaaaaaaaabbbbbbbbbbbbbbbbbbbbbbbbbbbccccccccccccccccccccccccccc', 1), ('aaaaaaaaabbbbbbbbbccccccccc', 1), ('aaaaaaaaaaaaaaaaaaaaaaaaaaaaaabbbbbbbbbbbbbbbbbbbbbbbbbbbcccccccccccccccccccccccccccccccccc', 0), ('aaaaaaaaaaaaaaaaaaaaaaaaabbbbbbbbbbbbbbbbbbbbbbbbbbbbbbbbbbbbbbbbbbbbbbbbbbbbbbbbbbbbbbbbbbbbbbbbbcc', 0), ('aaaaaaaaaaaaaaaaaaaaaaaaaaaaabbbbbbbbbbcccccccccccccccccccccccccccccccccccccccccccccccccccccccccccc', 0), ('aaaaaaaaaaaaaaaaaaaaaaaaaaaabbbbbbbbbbbbbbbbbbbbbbbbbbbbbbbbbbbbbbbbbbbbbbbbbbbbbbbbbbbbbbbbbbbbb', 0), ('aaaaaaaaaaaaaaaaaaaaaaaaaaaaaaaaaaaaaaaaaaaaaaaaaaaaaaaaabbbbbbbbbccc', 0), ('aaaaaaaaaaaaaabbbbbbbbbbbbbbcccccccccccccc', 1), ('aaaaaaaaaaaaaaaaaabbbbbbbbbbbbbbbbbbcccccccccccccccccc', 1), ('aaaaaaaaaaabbbbbbbbbbbccccccccccc', 1), ('aaaaaaaaaaaaaaaaaaaaaaaaaaaaaaaaaaaaaaaaaaaaaaaaaaaaaaabbbbbbbbbcccccccccccccccc', 0), ('aaaaaaaaaaaaaaaaaaaaaaaaaaaaaaaaaaaaaaaaaaabbbbcccccccccccc', 0), ('aaaaabbbbbbbbbbbbbbbbbbbbbbbbbbbbbbbbbbbbbbbbbbbbbbbbbbbbbbbbbbbbbbbbbbbbbbbbbbbb', 0), ('aaaaaaaaaaaaaaaaaaaaaaaaaaaaaaaaaaaaaaaaaaaaaaaaaaaaaaaaaaaaaaaaaaaaaaaaaaaabccccccc', 0), ('aaaaaaaaaaaaaaaaaaaaaaaaaaaaaaaaaaaaaaaaaaaaaaaaaaaaaaaaaaaaaaaaaaaaaaaaaaaaaaaaabbbbbbbbbbbbbbb', 0), ('aaaaaaaaaabbbbbbbbbbbbbbbbbbccccccccccccccccccccccccccccccccccccccccccccccccccccccccccccccccccccc', 0), ('aaaabbbbbbbbbbbbbbbbbbbbbbbbbbbbbbbbbbbbbbbbbbbbbbbbbbbbbbbbbbbbbbbbbbbbb', 0), ('aaaaaaaaaaaaaaaaaaaaaaaaaaaaaaaaaaaaaaaaaaaaaaaaabbbbbbbbbb', 0), ('aaaaaaaaaaaaaaaaaaaaaaaaaaaaaaaaaaaaaaaaaaaaaaaaaaaabbbbbbbbbbbbbbbccc', 0), ('aaaaaaaaaaaaaaaaaaaaaaaaaaaaaaaaaaaaaaaaaaaaaaaaaaaaaaaaaaaaaaaaaaaaaaaaaaaaaaaaabbbbb', 0), ('aaaaaaaaaaaaaaaaaaaaaaaaaaaaaaaaabbbbbbbbbbbbbbbbbbbbbbbbbbbbbbbbbccccccccccccccccccccccccccccccccc', 1), ('aaaaaaaaaaaaaaaaaaaaaaaaaaaaaaaaaaaaaabbbbbbbbbbbbbbbbbbbbbbbbccccccccccccccccccc', 0), ('aaaaaaaaaaaaaaaaaaaaaaaaaaaaaaaaaaaaaaaaaaaaaaaaaaaaaaaaaaaaaaabbbbbbbbbbbbbbbbbbbbbbbbbbbbbbbbbb', 0), ('aaaaaaaaaaaaaaaaaaaaaaaaaaaaaaaaaaaaaaaaaaaaaaaaaaaaaaaaaaaaaaaaaaaaaaaaaaabbb', 0), ('aaaaaaaaaaaaaaaaaaabbbbbbbbbbbbbbbbbbbbbbbbbbbbbbbbbbbccccccccccccccccccccccccccccccc', 0), ('aaaaaaaaaaaaaaaaaaaaaaaaaaaabbbbbbbbbbbbbbbbbbbbbbbbbbbbbbbbbbbbbbbbbbbbbbbbbbbbbbbbbbbbbbbbbbb', 0), ('aaaaaaaaaaaaaaaaaaaaaaaaaaaaaaaaaaaaaaaaaaaaaaaaaaaaaaaaaaaaaaaaaaaaaaaaaaaaaaaaaaaaaaaaaaaaaaaabbbb', 0), ('bbbbbbbbbbbbbbbbbbbbbbbbcccccccccc', 0), ('aaaaaaaaaaaaaaaaaaaaaaaaaaaaaaaaaaaabbbbbbbbbbbbbbbbbbbbbbbbbbbbbbbbbbbbbbbbbbbbbbbbbbbbbbbb', 0), ('aaaaaaaaaaaaaaaaaaaaaaaaaaaaaaaaaaaaaaaabbbbbbbbbbbbbbbbbbbbbbbbbbb', 0), ('aaaaaaaaaaaaaaaaaaabbbbbbbbbbbbbbbbbbbbbbbbbbbbbbbbbbbbbbbbbbbbbbbbbbbbbbbbbbbbbbbbbbbb', 0), ('aaaaaaaaaaaaaaaaabbbbbbbbbbbbbbbbbccccccccccccccccc', 1), ('aaaaaaaaaaaaaaaaaaaaaaaaaaaaaaaaaaaaaaaaaaaaaaaaaaaaabbbbbbbbbbbbbbbbbbbbbb', 0), ('aaaaaaaaaaaaaaaaaaaaaaaaaaaaaaaaaaaaaaaaaaaaaaaaaaaaaabbbbbbbbbbbbbccccccccccccccccccccccccccccccc', 0), ('aaaaaaaaaaaaaaaaaaaaaaabbccccccccccccccccccccccccccccccc', 0), ('aaaaaaaaaaaaaaaabbbbbbbbbbbbbbbbcccccccccccccccc', 1), ('aaaaaaaaaaaaaaaaaaaaaaaaaaaaaaaaaaaaaaaaaaaaaaaabbbbbbbbbbbbbbbbbbbbbbbbbbbbbbbbbbbbbbbbbbbbbbb', 0), ('bbbbbbbbbbcccccccccccccccccccccccccccccccccccccccccccccccccccc', 0), ('aaaaaaaaaaaaaaaaaaaaabbbbbbbbbbbbbbbbbbbbbccccccccccccccccccccc', 1), ('aaaaaaaaaaaaaaaaaaaaaaaaaaaaaaaaaaaaaaaaaaaaaaaaaaaaaaaaaaaaaaaaaaaaaaaaaaaaaaaaaaaaaaaaaaaaaaaaa', 0), ('aaaaaaaaaaaaaaaaaaaaaaaaaaaaaaaaaaaaaaaaaaaaaaaaaaaaaaaabbbbbbbbbbbbbbbbbbbbbb', 0), ('aaaaaaaaaaaaaaaaaabbbbbbbbbbbccccccccccccccccccccccccccccccccccccccccccccccccccccccccccccccccccccc', 0), ('abbbbbbbbbbbbbbbbbbbbbbbbbbbbbccccccccccccccccc', 0), ('aaaaaaaaaaaaaaaaaaaaaaaaaaaaaaaaaaaaaaaaaaaaaabbbbbbbbbbbbbbbcccccccccccccccccccccccccccccccc', 0), ('aaaaaaaaaaaaaaaaaaaaaaaaaaaaaaaaaaaaaaaaaaaaaabbbbbbbbbbbbbbbbbbbbbbbbbbbbbbbbbbbbbbbbbbbbbbbbbbbbbb', 0), ('aaaaaaaaaaaaaaaaaaaaaaaaaaaaaaaaaaaaaaaaaaaaaaaaaaaaaaaaaaaaaaaaaaaaaaaaaaaaaaaaaaaaaaaaaaaaaaaaaaa', 0), ('aaaaaaaaaaaaaaaaaaaaaaaaaaaaaaaaaaaaaaaaaaaaaaaaaaaaaaaaaaaaaaaaaaaaaaaaaaaaaaaaaabbbbbbbbbbbb', 0), ('aaaaaaaaaabbbbbbbbbbcccccccccc', 1), ('aaaaaaaaaaaaaaaaaaaaaaaaaaaabbbbbbbbbbbbbbbbbbbbbbbbbbbbcccccccccccccccccccccccccccc', 1), ('aaaaaaaaaaaaaaaaaaaaaaaaaaaaaaaaaaaaaaaaaaaaaaabbbbbbbbbbbbbbbbbbbbbbbbbbbbbbb', 0), ('aaaaaaaaabbbbbbbbbbbbbbbbbbbbbbbbbbbbbbbbbbbbbbbbbbbb', 0), ('aaaaaaaaaaaaaaaaaaaabbbbbbbbbbbbcccccccccccccccccccccccccccccccccccccccccccccccccccccccc', 0), ('aaaaaaaaaaaaaaaaaaaaaaaaaaaaaaabbbbbbbbbbbbbbbbbbbbbccccccccccccccccccccccccccccccccccccccccccccc', 0), ('aaaaaaaaaaaaaabbbbbbbbbbbbbbcccccccccccccc', 1), ('aaaaaaaaaaaaaaaaabbbbbbbbbbbbbbbbbbbbbbbbbbbbbbbbbbbbbbbbbbbbbbbbbbbbbbbbbbbbbbbbbbbbbbbbb', 0), ('aaaaaaaaaaaaabbbbbbbbbbbbbccccccccccccc', 1), ('aaaaaaaaaabbbbbbbbbbcccccccccc', 1), ('aaaaaaaaaaaaaaaaaaaaaaaaaaaaaaaaaaabbbbbbbbbbbbccccccccccccccccccccc', 0), ('aaaaaaaaaaaabbbbbbbbbbbbbbbbbbbbbbbbbbbbbbbbbbbbbbbbbbbbbbbbbbbbbbbbbbbbbbbbbbbbbbbbbb', 0), ('aaaaaaaaaaaaaaaaaaaaaaaaaaaaaaaaaaaaaaaaaaaaaaaaaaaaaaaaaaaaaaaaaaaaaaaaaaaaaaaaaaaaaaaaaaaabbbbbb', 0), ('aaaaaaaaaaaaaaaaaaaaaaaaaaaaaaaaaaaaaaaaaaaaaaaaaaaaaaaabbbbbbbbbbbbbbbbbbbbbbbbbbbbbbbbbbbbbbbbb', 0), ('aaaaaaaaabbbbbbbbbccccccccc', 1), ('aaaaaaaaaaaaaaaaaaaaaaaaaaaaaaaaaaaaaaaaaaaaaaaaaaaaaaaaaaaaaaaaaaaaaaaaaaaaaaaaaaaaaaabbbb', 0), ('aaaaaaaaaaaaaaaaaaaaaaaaaaaaaaaaaaaaaaaaaaaaaaaaaaaaaaaaaaaaaaaaaaaaaaaaaaaabbbbbbbbbbbbbbbbbbbbbb', 0), ('bbbbbbbbbbbbbbbbbbbbbbbbbbbbbbbbbbbbbbbbbbbbbbbbbbbbbbbbcccccccc', 0), ('aaaaaaaaaaaaaaaaaaaaaaaaaaaaaaaaaaaaaaaaaaaaaaabbbbbbbbbbbbbbbbbbbbbbbbbbbbbbbbbbbbbb', 0), ('aaaaaaaaaaaaaaaaaaaaaaaaaaaabbbbbbbbbbbbbbbbbbbbbbbbb', 0), ('aaaaabbbbbbbbbbbbbbbbbbbbbbbbbbbbbbbbbbbbbbbbbbbbbbbbbbcccccccccccccc', 0), ('aaaaaaaaaaaaaaaaaaaaaaaaaaaaaaaaaaaaaaaaabbbbbbbbbbbbbbccccccccccccccccccccccccccccccccccccccccc', 0), ('aaaaaaaaaaaaaaaaaaaaaaaaaaaaabbbbbbbbbbbbbbbbbbbbbbbbbbbbbbbbbbbbbbbbbbbbbbbbbbbbbbbbbbbbbbbbbbbbb', 0), ('aaaaaaaaaaaaaaaaaaaaaaaaaaaaaaaaaaaaaaaaaaaaaaaaaaaaaaabbbbbbbbbbbbbbbbbbbbbbbbbbbbbbbbbbbbbccccc', 0), ('aaaaaaaaaaaaaaaaaaaaaaaaaaaaaaaaaaaaaaaaaaaaaaaaaaaaaaaaaabbbbbbbbbbbbbbbbbbbbbbbbbbbbbbbbbbbbbbb', 0), ('aaaaaaaaaaabbbbbbbbbbbbbbbbbbbbbbbbbbbbbbbbbbbbbbbbbbbbbbbbbbbbbbbbbbbbbbbbbbbbbbbbbbbbbbbbbbbbbbbb', 0), ('aaaaaaaaaaaaaaaaaaaaaaaaaaaaaaaaaaaaaaaaabbbbbbbbbbbbbbbbbbbbbbbbbbbbbbbbbbbbbbbccccccccccc', 0), ('aaaaaaaaaaaaaaaaaaaaaaaaaaaaaaabbbbbbbbbbbbbbbbcccccccccc', 0), ('aaaaaaabbbbbbbccccccc', 1), ('bbbbbbbbbbbbbbbbbbbbbbbbbbbbbbbbbbbbbbbbbbbbbbbbbbbbbbbbbbbbbbbbbbbbbccccccccccccccccccccccccccccccc', 0), ('aaaaaaaaaaaaaaaaaaaaaaaaaaaaaaaaaaaaaaaaaaaaaaaaaaaaaaaaaaaaaaaaaaaaaaabbbbbbbbbbbbbbbbbbbbbbbbbbb', 0), ('aaaaaaaaaaaaaaaaaaaaaaaaaaaaaaaaaaaaaaaaaaaaaaaaaaaaaaaaaaaaaaaaaaaaaaaaaaaaaaaaaaaaaaaaaaaaaabbbbb', 0), ('aaaaaaaaaaaaaaaaaaaaaaaaaaaaaaaaaaaaaabbbbbbbbbbbbbbbbbbbbbbbbbbbbbbbbbbbbbbbbbbbbbbbbbb', 0), ('aaaaaaaaaaaaaaaaaaaaaaaaaaaaaaaaaaaaaaaaaaaaaaaaaaaaaaaaaaaaaaaaaaaaaaaaaaaaaabbbb', 0), ('aaaaaaaaaaaabbbbbbbbbbbbcccccccccccc', 1), ('aaaaaaaaaaaaaaaaaaaaaaaaaaaaaaaaaaaaaaaaaaaaaaaaaaaaaaaaaaaaaaaaaaaaaaaaaaaaaabbbbbbbbbbbcccccc', 0), ('aaaaaaaaaaaaaaaaaaaaabbbbbbbbbbbbbbbbbbbbbccccccccccccccccccccc', 1), ('aaaaaaaaaaaaaaaaaaaaaaaaaaaaaaaaaaaaaaaaaaaaabbbbbbbbbbbbbbbbbbbbbbbbbbbbbbbbbbbbbbbbbbbbbbb', 0), ('aaaaaaaaaaaaaaaaaaaaaaaaaaaaaaaaaaaaaaaaaaaaaaaaaaaaaaaaaaaaaaaaaaaaaaaaaaaaabbbbbbbbbbbbbbbbb', 0), ('aaaaaaaaaaaaaaaaaaaaaaaaaaaaabbbbbbbbbbbbbbbbbbbbbbbbbbbbbccccccccccccccccccccccccccccc', 1), ('aaaaaaaaaaaaaaaaaaaabbbbbbbbbbbbbbbbbbbbcccccccccccccccccccc', 1), ('aaaaaaaaaaaaaaaaaaaaaabbbbcccccccccccccccccccccccccccccccc', 0), ('aaaaaaaaaaaaaaaaaaaaaaaaaaaaaaaaaaaaaaaaaaaaaaaaaaaaaaaaaaaaaaaaaaaaaaaaaaaaaaaaaaaaaaa', 0), ('aaaaaaaaabbbbbbbbbbbbbbbbbbbbbbbccccccccccccccccccccccccccccccccccccccccccccccccccccccccccccc', 0), ('aaaaaaaaaaaaaaaaaaaaaabbbbbbbbbbbbbbbbbbbbbbcccccccccccccccccccccc', 1), ('aaaaaaaaaaaaaaaaaaaaaaaaaaaaaabbbbbbbbbbbbbbbbbbbbbbbbbbbbbbbbbbbbb', 0), ('aaaaaaaaaaaaaaaaaaaaaaaaaaaaaaaaaaaaaaaaaaaaaaaaabbbbbbbcccccccccccccccccccccccc', 0), ('aaaaaaaaaaaaaaaaaaaaaaaaaaaaaaaaaaaaaaaaaaabbbbbbbbbbbbbbbbbbbbbb', 0), ('aaaaaaaaaaaaaaaaaaaaaaaaaaaaaaaaaaaaaaaaaaaaaabbcccccccc', 0), ('aaaaaaaaaaaaabbbbbbbbbbbbbccccccccccccc', 1), ('aaaaaaaaaaaaaaaaaaaaaaaaaaaaaaaabbbbbbbbbbbbbbbbbbbbbbbbbbbbbbbbcccccccccccccccccccccccccccccccc', 1), ('aaaaaaaaaaaaaaaaaaaaaaaaaaaaaaaaaaaaaaaaaaaaaaaaaaaaaaaaaaaaaaaaaaaaaaaaaaaaaaaaaaaaaaaaaaaab', 0), ('aaaaaaaaaaaaaaaaaaaaaaaaabbbbbbbbbbbbbbbbbbbbbbbbbccccccccccccccccccccccccc', 1), ('aaaaaaaaaaaaaaaaaaaaaaaaaaaaaaaaaaaaaaaaaaaaaabbbbbbbbbbbbcccccccccccc', 0), ('aaaaaaaaaaaaaaaaaaaaaaaaaaaaaaaaaaaaaaaaaaaaaaaaaaaaaaaaaaaaaaaaaaaaaaaaaaaaaaaaaabbbbbbbbbbb', 0), ('aaaaaaaaaaaaaaaaaaaaaaaaaaaaaaaaaaaaaaaaaaaaaaaaaaaaaaaaaaaaaaaaaaaaaaaaaaaaaaaabbbbbbccccccc', 0), ('aaaaaaaaaaaaaaaaaaaaaaaaaaaaaaaaaaaaaaaaaaaaaaaaaaaaaaaaaaaaaaaaaaaaaaaaaaaaaaaaaaaaaaaabbbbbb', 0), ('aaaaaaaaaaaaaaaaaaaaaaaaaaaaaaaaabbbbbbbbbbbbbbbbbbbbbbbbbbbbbbbbbbbbbbbbbbbbbbbbb', 0), ('aaaaaaaaaabbbbbbbbbbbbbbbbbbbbbbbbbbbbbbbbbbbbbbbbbbbbbbbbbbbbbbbbbbbbbb', 0), ('aaaaaaaaaaaabbbbbbbbbbbbcccccccccccc', 1), ('aaaaaaaaaaaaaaaaaaaaaaaaaabbbbbbbbbbbbbbbbbbbbbbbbbbcccccccccccccccccccccccccc', 1), ('aaaaaaaaaaaaaaaaaaaaaaaaaaaaaaaaaaaaaaaaaaaaaaaaaaaaaaaaaaaaaaaaaaaaaaaaaaaaaaaabbbbbbbbbbbbbbbbbbbb', 0), ('aaaaaaaaaaaaaaaaaaabbbbbbbbbbbbbbbbbbbbbbbbbbbbbbbbbbbbbbbcccccccccccccccccccccccccccc', 0), ('aaaaaaaabbbbbbbbcccccccc', 1), ('aaaaaaabbbbbbbccccccc', 1), ('aaaaaaaaaaaaaaaaaaabbbbbbbbbbbbbbbbbbbccccccccccccccccccc', 1), ('aaaaaaaaaaaaaaaaaaaaaaaaaaaaaaaaaaaaaaaaaaaaaaaaaaaaaaaaaaaaaaaaaaaaaaaaaaaaaabbbbbbbbbbbbbbbb', 0), ('aaaaaaaaaaaaaaaaaaaaaaaaabbbbbbbbbbbbbbbbbbbbbbbbbccccccccccccccccccccccccc', 1), ('aaaaaaaaaaaaaaaaaaaaaaaaaaaaaaaaaaaaaaaaaaaaaaaaaaaaaaaaaaaaaaabbbbbbbbbbbbbbbbbbbbbbbbbbbbbbbbbb', 0), ('aaaaaaaaaaaaaaaaaaaaaaaaaaaaaaabbbbbbbbbbbbbbbbbbbbbbbbbbbbbbbccccccccccccccccccccccccccccccc', 1), ('aaaaaaaaaaaaaaaaaaaaaaabbbbbbbbbbbbbbbbbbbbbbbccccccccccccccccccccccc', 1), ('aaaaaaaaaaaaaaaaaaaaaaaaaaaaaaaaaaaaaaaaaaaaaaaaaaaaaaaaaaaaaaaaaaaaaaaaaaaaaaaaaaaaaaaaaaaaaab', 0), ('aaaaaaaabbbbbbbbcccccccc', 1), ('aaaaaaaaaaaaabbbbbbbbbbbbbbbbbbbbbbbbbbbbbbbbbbbbbbbbbbbbbbbbbbbbbbbbbbb', 0), ('aaaaaaaaaaaaaaaaaaaaaaaaaaaaaaaaaaaaaaaaaaaaaaaaaaaaaaaaaaaaaaaabbbbbbbbbbbbbbbbbbbbbbbbbbbb', 0), ('aaaaaaaaaaaabbbbbbbbbbbbbbbcccccccccccccccccccccccccccccccccccccccccccccc', 0), ('aaaaaaaaaaaaaaaaaaaaaaaaaaaaaaaaaaaaaaaaaabbbbbbbbbbbbbbbbbbbbbbbbbbbbbbbbbbbbbbbbb', 0), ('aaaaaaaaaaaaaaaaaaaaaaaaaaaaaaaaaaaaaaaaaaaaaaaaaaaaaaaaaaaaaaaaaaaaaaaaaaaaaaaaaaaaaaaaaaaaaaa', 0), ('aaaaaaaaaaaaaaaaaaaaaaaaaaaaaaaaaaaaaaaaaaaaaaaaaaaaaaaaaaaaaaaabbbbbbbbbbbbbbbbbbbbbbbb', 0), ('aaaaaaaaaaaaaaaaaaaaaaaaaaaaaaaaaaaaaaaaaaaaaaabbbbbbbbbccc', 0), ('aaaaaaaaaaaaaaaaaaaaaabbbbbbbbbbbbbbbbbbbbbbcccccccccccccccccccccc', 1), ('aaaaaaabbbbbbbccccccc', 1), ('aaaaaaaaaaaaaaaaaaaaaaaaaaaaaaaaaaaaaaaaaaaaaaaaaaaaaaaaaaaaaaaaaaaaaaaaaaaaaaaaaaaaaaaaaaaaaaaaaa', 0), ('aaaaaaaaaaaaaaaaaaaaaaaaaaaaaaaaaaaaaaaaaaaaaaaaaaaaaaaaaaaaaaaaaaaaaaaaaaaaabbbbbbbbbbbbbbb', 0), ('aaaaaaaaaaaaaaaaaaaaaaaaaaaaaaaaaaaaaaaaaaaaaaaaaaaaaaaaaaaaaaaaabbbbbbbbbbbbbb', 0), ('aaaaaaaaaaaaaaaaaaaaaaaaaaaaaaaabbbbbbbbbbbbbbbbbbbbccccc', 0), ('aaaaaaaaaaaaaaaaaaaaaaaaaaaaaaaaaaaaaaaaaaaaaaaaaaaabbbcccccccc', 0), ('aaaaaaaaaaaaaaaaaaaaaaaaaaaaaaaaaaaaaaaaaaaaaaaaaaaaaaaaaaaaaabbbbbbbbbbbbbbbbbbbbbbbbbbbbbb', 0), ('aaaaaaaaaaaaaaaaaaaaaaaaaaaaaaaaaaaaaaaaaaaaaaaaaaaaabbbbbbbbbbbbbb', 0), ('aaaaaaaaaaaaaaaaaaaaaaaaaaaaaaaaaaaaaaaaaaaaaaaaaaaaaaaaaaaaaaaaaaaaaaaaaabbbbbbbbbbbbbbbbbbbbbbbbbb', 0), ('aaaaaaaaaaaabbbbbbccccccccccccccccccccccccccccccccccccccccccccccccccccccccccccccccccccccccccccccccc', 0), ('aaaaaaaaaaaaaaaaaaaaaaaaaaaaaaaaaaaaaaaaaaaaaaaaaaaaaaaaaaaaaaaaaaaaaaaaaaaaaaaaaaabbbbbbbbbbbbb', 0), ('aaaaaaaaaaaaaaaaaaaaaaaaaaabbbbbbbbbbbbbbbbbbbbbbbbbbbbbbbbbbbbbbbbbbbbbbbbbbbbbbbbbbb', 0), ('aaaaaaaaaaaaaaaaaaaaaaaaaaaaaaabbbbbbbbbbbbbbbbb', 0), ('aaaaaaaaaaaaaaaaaaaaaaaaaaaaaaaaaaaaaaaaaaaaaaaaaaaaabbbbbbbbbbbbbbbbbbcccccccccccccccccccccccccc', 0), ('aaaaaaaaaaaaaaaaaaabbbbbbbbbbbbbbbbbbbccccccccccccccccccc', 1), ('aaaaaaaaaaaaaaaaaaaaaaaaaaaabbbbbbbbbbbbcccccccccccccccccccccccccccccccccccccccccccccccccccccccccc', 0), ('aaaaaaaaaaaaaaaaaaaabbbbbbbbbbbbbbbbbbbbcccccccccccccccccccc', 1), ('aaaaaaaaaaaaaaaabbbbbbbbbbbbbbbbbbbbbbbbbbbbbbbbbbbbbbbbbbbbbbbbbbbbbbbbbbbbbbbbbbbbbbbbbbbbbbbbbbb', 0), ('aaaaaaaaaaaaaaaaaaaaaaaaaabbbbbbbbbbbbbbbbbbbbbbbbbbbbbbbbbbbbbbbbcccc', 0), ('aaaaaaaaaaaaaaaaaaaaaaaabbbbbbbbbbbbbbbbbbbbbbbbbbbbbbbbbbbbbbbbbbbbbbbbbbbbbbbbbbbbbbbbbbb', 0), ('aaaaaaaaaaaaaaaaaaaaaaaabbbbbbbbbbbbbbbbbbbbbbbbbbbbbbbbbbbbbb', 0), ('aaaaaaaaaaaaaaaaaaaaaaaaaaaaaaaaaaaaaaaaaaaaabbbbbbbbbbbbbbbbbbbbbbbbbbbbbbbbbbbbbbbbbbbbbbbbb', 0), ('aaaaaaaaaaaaaaaaaaaaaaaaaaaaaaaaaaaaaaaaaaaaaaaaaaaaaaaaaaaaaaaaaaaaaaaaaaaaaaaaaaaaaaaabbbbbbbbb', 0), ('aaaaaaaaaaaaaaaaaaaaaaaaaaaabbbbbbbbbbbbbbbbbbbbbbbbbbbbbbbbbbbbbbbbbbbbbbbbbbbbbbbbbbbbbbbbbbb', 0), ('aaaaaaaaaaaaaaaaaaaaaaaaaaaaaaaaaaaaaaaaaaaaaaaaaaaaaaaaaaaaaaaaaaaaaaaaaaaaaaaaaabbbbbbbbbbbbbbbb', 0), ('aaaaaaaaabbbbbbbbbbbbbbccccccccccccccccccccccccccccccccccccccccccccccccccccccccccccc', 0), ('aaaaaaabbbbbbbbbbbbbbbbbbbbbbbbbbbbbbbbbbbbbbbbbbbbbbbbbbbbbbbbbbbbbbccccccccc', 0), ('aaaaaaaaabbbbbbbbbbbbbbbbbbbbbbbbbbbbbbbbbbbbbbbbbbbbbbbbbbbbbbbbbbbbbb', 0), ('aaaaaaaaaaaaaaaaaaaabbbbbbbbbbbbbbbbbbbbcccccccccccccccccccc', 1), ('aaaaaaaaaaaaaaaaaaaaaaaaabbbbbbbbbbbbbbbbbbbbbbbbbcccccccccccccccccccccccccccccccccccccccccccccccccc', 0), ('aaaaaaaaaaaaaaaaaaabbbbbbbbbbbbbbbbbbbbbbbbbbbbbbbbbbbbbbbbbbbbbbbbbbbbbbbbbbbbbbbbbbbbbbbb', 0), ('aaaaaaaaaaaaaaaaaaaaaaaaaaaaaaaaaaaaaaaaabbbbbbbbbbbbbbbbbbbbbbbbbbbbbbbbbbbbbbbbbbbbbbbbbbbbbbbbbbb', 0), ('aaaaaaaaaaaaaaaaaaabbbbbbbbbbbbbbbbbbbbbbbbbbbbbbbbbbbbbbccccccccccccccccc', 0), ('aaabbbbbbbbbbbbbbbbbbbbbbbbbbbbbbbbbbbbbbbbbbbbbbbbbbbbbbbbbbbbbbbbbbbbbbbbbbbbbbbbbbb', 0), ('aaaaaaaaaaaaaaaaaaaaaaaaaaaaaaaaaaaaaaaaaaaaaaaaaaaaaaaaaaaaaaaaaaaaaaaaaaabbbbbbbbbbbbbbbbbbbbb', 0), ('aaaaaaaabbbbbbbbcccccccc', 1), ('aaaaaaabbbbbbbbbbbbbbbbbbbbbbbbbbbbbbbbbbbbbbbbbbbbb', 0), ('aaaaaaaaaaaaaaaaaaaaaaaaaaaaaaaaaaaaaaaaaaaaaaaaaaaaaaaaaaaaaaaaaaaaaaabbbbbbbbbbbbbbbb', 0), ('aaaaaaaaaaaaaaaaaaaaaaaaaaaaabbbbbbbbbbbbbbbbbbbbbbbbbbbbbbbbbbbbbbbbbbbbbb', 0), ('aaaaaaaaaaaaaaaaaaaaaaaaaaaaaaaaaaaaaaaaaaaaaaaaaaaaaaaaaaaaaaaaaaaaaaaabbbbbbbbbbbbbb', 0), ('aaaaaaaaaaaaaaaaaaaaaaaaaaaaaaaaaaaabbbbcccccccccccccccccccccccccccccccccccccccccccccccccccccccccccc', 0), ('aaaaaaaaaaaaaaaaaaaaaaabcccccccccccc', 0), ('aabbbbbbbbbbbbbbbbbbbbbbbbbbbbbbbbbbbbbbbbbbbbbbbbbbbbbbbbbbbbbbbbbbbbbbbbbbbbbbbbbbbbbbbb', 0), ('aaaaaaaaaaaaaaaaaaaaaaaaaaaaaaaaaaaabbbbbbbbbbbb', 0), ('aaaaaaaaaaaaaaaaaaaaaaaaaaaaaaaaaaaaaaaaaaaaaaaaaaaaaaaaaaaaaaaaaaaaaaaaaaaaa', 0), ('aaaaaaaaaaaaaaaaaaaaaaaaaaaaaaaaaaaaaaaaaaaaaaaaaaaaaaaaaaaaaaaaaaaaaaaaaaaaaaaaaaaaaaaaaaaaaaaaaaab', 0), ('aaaaaaaaaaaaaaaaaaaaaaaaaaaaaaaaaaaaaaaaaaaaaaaaaaaaabbbbbbbbbbbbbbbbbbbbbbbb', 0), ('aaaaaaaaaaaaaaaaaaaaaaaaaaaaaaaaaaaaaabbbbccccccccccccccccccccccccccccccccccccccccccccc', 0), ('aaaaaaaaaaaaaaaaaaaaaaaaaaaaaaaaaaaaaaaaaaaaaaaaaaaaaaaaaabcccccccccccccccccccccccccccc', 0), ('aaaaaaaaaaaaaaaaaaaaaaaaaaaaaaaaaaaabbbbbbbbbbbbbbbbbbbbbbbbbbbbbbbbbbbbbbbbbbbbb', 0), ('aaaaaaaaaaaaaaaaabbbbbbbbbbbbbbbbbbbbbbbbbbbbbbbbbbbbbbbbbbbbbbbbbbbbbbbbbbbbbbbbbbbbbbbbbbbbb', 0), ('aaaaaaaaabbbbbbbbbccccccccc', 1), ('aaaaaaaaaaaaaaaaabbbbbbbbbbbbbbbbbbbbbbbbbbbbbbbbbbbbbbbbbbbbbbbbbbccccccccccccccccccccccccccc', 0), ('aaaaaaaaaaaaaaaaaaaaaaaaaaaaaabbbbbbbbbbbbbbbbbbbbbbbbbbbbbbcccccccccccccccccccccccccccccc', 1), ('aaaaaaaaaaaaaaaaaaaaaaaaaaaaaaaaaaaaaaaaabb', 0), ('aaaaaaaaaaaaaaaaaaaaaaaaaaaaaaaaaaaaaaaaaaaaaaaaaaaaaaaaaaaaaaaaaaaaaaaaaaaaaabbbbbbbbbbbbbbbbbbbbbb', 0), ('aaaaaaaaaaaaaaaaaaabbbbbbbbbbbbbbbbbbbbbbbbbbbbbbbbbbbbbbbbbbbbbbbbbbbbbbbbbbbbbbbbbbbb', 0), ('abbbbcccccccccccccccccccccccccccccccccccccccccccccccccccccccccccccccc', 0), ('aaaaaaaaaaaaaaaaaaaaaaaaaaaaaaaaaaabbbbbbbbbbbbbbbbbbbbbbbbbbbbbbbbbbbbbbbbbbbbbbbbccccccc', 0), ('aaaaaaaaaaaaaaaaaaaaaaaaaaaaaaaaaaaaaaaaaaaaaaaaaaaaaaaaaaaaaaaaaaaaaaaaaaaaaaaaaa', 0), ('aabbbbbbbbbbbbbbbbbbbbbbbbbbbbbbbbbbbbbbbbbbbbbbbbbbbbbbb', 0), ('aaaaaaaaaaaaaaaaaaaaaaaaaaaaaaaaaaaaaaaaaaaaaaaaaaaaaaaaaaaaaaaaaaaaaaaabbbbbbbb', 0), ('aaaaaaaaaaaaaaaaaaaaaaaaaaaaaaaaaaaaaaaaaaaaaaaaaaaaaaaaaaaaaaaaaaaaaaaaaaaaaaaaaaaaaaaaaaaaabbbbbbb', 0), ('aaaaaaaaaaaaaaaaaaaaaaaaaaaaaaaaaaaaaaaaaaaaaaaaaaaaaaaaaaaaaaaaaaaaaaaaaaaaaaaaaabbbb', 0), ('aaaaaaabbbbbbbccccccc', 1), ('aaaaaaaaaaaaaaaaaaaaaaaaaaaaaaaaaaaaaaaaaaaaaaaaaaaaaaaaaaaaaaaaaaaaaaaaaaaaaaaaabbb', 0), ('aaaaaaaaaaaaaaaaaaaaaaaaaaaaaaaaaaaaaaaaaaaaaaaaaaaaaaaaaaaaaaaaaaaaaaaaaaaaaaaaaaaaaaaaaaaaaaaaaaab', 0), ('aaaaaaaaaaaaaaaaaaaabbbbbbbbbbbbbbbbbbbbbbbbbbbbbbbbbbbbbbbbbbbbbbbbbbbbbbbbbbbb', 0), ('aaaaaaaaaaaaaaaaaaaaaaabbbbbbbbbbbbbbbbbbbbbbbccccccccccccccccccccccc', 1), ('aaaaaaaaaaaaaaaaaaaaaaaaaaaaaaaaaaaaaaaaaaabbbbbbbbbbbbcccccccccccccccccccccccccccccccccccccccccc', 0), ('aaaaaaaaaabbbbbbbbbbcccccccccc', 1), ('aaaaaaaaaaaaaaaaaaaaaaaaaaaaaaaaaaaaaaaaaaaaaaaaaaaaaaaaaaaaaaaaaaaaaaaaaaaaaaaaaaaaaaaaaaaaaaaaaabb', 0), ('aaaaaaaaaaaaaaaaaaaaaaaaaaaaaaaaaaaaaaaaaaaaaaaaaaaaaaaaaaaaaaaaaaaaaaaaaaaaaaaaaaaaaaaaaaaaaaaa', 0), ('aaaaaaaaaaaaaaaaaaaaaaaaaaaaaaaaaaaaaabbbbbbbbbbbbbbbbbbbbbbbbbbbbbbbbbbbbbbbbbbbbbbbbbbbbbbbbbbbbbb', 0), ('aaaaaaaaaaaaaaaabbbbbbbbbbbbbbbbcccccccccccccccc', 1), ('aaaaaabbbbbbbbbbbbbbbbbbbbbbbbbbbbbbbbbbb', 0), ('aaaaaaaaaaaaaaaaaaaaaaaaaaaaaaaaaaaaaaaaaaaaaaaaaaaaaaaaaaaaaaaaaaaaaaaaaaaaaaaaaaaaaabbbbbbbbbb', 0), ('aaaaaaaaaaaaaaaaaaaaaaaaaaaaaaaaaaaaaaaaaaaaaaaaaaaaaaaaaaaaaaaaaaaaaaaaaabbbbbbbbbbbbbbbbbbbbbbbb', 0), ('aaaaaaabbbbbbbccccccc', 1), ('aaaaaaaaaaaaaaaaaaaaaaaaaaaaaaaaaaaaaaaaaaaaaaaaaaaaaaaaaaaaaaaaaaaaaaabbbbbbbbbb', 0), ('aaaabbbbbbbbbbbbbbbbbbbbbbbbbbbbbbbbbbbbbbbbbbbbbbbbbbbbbbbbbbbbbbbbbbbbbbbbbbbbbbbbbbbb', 0), ('aaaaaaaaaaaaaaaaaaaaaaaaaaaaaaaaaaaaaaaaaaaaaaaaaaaaaaaaaabbbbbbbbbbbbbbbbbbbbbbbbbbbbbbbbbbbbbbbbb', 0), ('aaaaaaaaaaaaaaaaaaaaaaaaaaaaaaaaaaaaaaaaaaaaaaaaabbbbbbbbbbbbbbbbbbbbbbbbbbbbbbbbbbbbbbbb', 0), ('aaaaaaaaaaaaaaaaaaaaaaaaaaaaaaaaaaaaaaaaaaaaaaaaaaaaaaaaaaaaaaaaaaaaaaaaaaaaaaaaaaaaaaaaaaaaaaaab', 0), ('aaaaaaaaaaaaaaaaaaaaaaaaaaaaaaaaaaaaaaaaaaaaaaaaaaaaaaaaaaaaaaaaaaaaaaabbbbbbbbbbbbbbc', 0), ('aaabbbbbbbbbbbbbbbbbbbbbbbbbbbbbbbbbbbbbbbbbbbbbbbbbbbbbbbbbbbbbbbbbbbb', 0), ('aaaaaaaaaaaaaaaaaaaaaaaaaaaaaaaaaaaaaaaaaaaaaaaaaaaaaaaaaaaaaaaaaaaaaaaaaaaaaaaaaabbbbbbbb', 0), ('aaaaaaaaaaaaaaaaaaaaaaaaaaaaaaaaaaaaaaaaaaaaaaaaaaaaaaaaaaaaaaaaaaaaaaaabbbbbbbbbbb', 0), ('aaaaaaaaaaabbbbbbbbbbbbbbbbbbbbbbbccccccccccccc', 0), ('aaaaaaaaaaaaaaaaaaaaaaaaaaaaaaaaaaaaaaaaaaaaaaaaaaaaaaaaaaaaaaaaaaaaaaaaaaaabbbbbbb', 0), ('aaaaaaaaaaaaaaaaaaaaaaaaaaaaaaaaaaaaaaaaaaaaaaaaaaaaaaaaaaaaaaaaaaaaaaaaaaaaaaaaaaaaaaaaaa', 0), ('aaaaaaaaaaaaaaaaaaaaaaaaaaaaaaaaaaaaaaaaaaaaaaaaaaaaaaaaaaaaaaaaaaaaaaaaaaaaaaaaaaaaaaabbbbbbbbb', 0), ('aaaaaaaaaaaaaaaabbbbbbbbbbbbbbbbbbbbbbbbbbbbbbbbbbbbbbbbbbbbbbbbbbbbbbbbbbbbbbbbbbbbbbbbbbbbbbbbb', 0), ('aaaaaaaaaaaaaaaaaaaaaaaaaaaaaaaaaaaaaaaaaaaaaaaaaaaaaaaaaaaaccccccccccccccccccccccc', 0), ('aaaaaaaaaaabbbbbbbbbbbbbbbbbbbbbbbbbbbbbbbbbbbbbbbbbbbbbbbbbbbbbbbbccccccccccccccccccccccccccccccccc', 0), ('aaaaaaaaaaaaabbbbbbbbbbbbbccccccccccccc', 1), ('aaaaaaaaaaaaaaaaaaaaaaaaaaaaaaaaaaaaaaaaaaaaaaabbbbbbbbbbcccccc', 0), ('aaaaaaaaaaaaaaaaaaaaaaaaaaaaaaaaaaabbbbbbbbbbbbbbbbbbbbbbbbbbbbbbbbbbbbbbbbbbbbbbbbbbbbbb', 0), ('aaaaaaaaaaaaaaaaaaaaaaaaaaaaaaaaaaaaaaaaaaaaaaaaaaaaaaaaaaaaaaaaaaaaaaaaaaaaaaaaaaaaaaaaaaaaaaaaab', 0), ('aaaaaaaaaaaaaaaaaaaaaaaaaabbbbbbbbbbbbbbbbbbbbbbbbbbbbbbbbbbbbb', 0), ('aaaaaaaaaaaaaaaaaaaaaaaaaaaaaaaaaaaaaaaaaaaaaaaaaaaaaaaaaaaaaaaaaabbbbbbbbbbbbbbbbbbbbbb', 0), ('aaaaaaaaaaaaaaaaaaaaaaaaaaaaaaaaaaaaaaaaaaaaaaaaaaaaaaaaaaaaaaaaaaaaaaaaaaaaabbbbbbbbbb', 0), ('aaaaaaaaaaaaaaaaaaaaaabbbbbbbbbbbbbbbbbbbbbbcccccccccccccccccccccc', 1), ('aaaaaaaaaaaaaaaaaaaaaaaaaaaaaaaaaaaaaaaaaaaaaaaaaaaaaaaaaaaaaaaaabbbbbbbbbbbbbbb', 0), ('aaaaaaaaaaaaaaaaaaaaaaaaaaaaaaaaaaaaaaaaaaaaaaaaaaaaaaaaaaaaaabbbbbbbbbbbb', 0), ('aaaaaaaaaaaaaaaaaaaaaaaaaaaaaaaaaaaaabbbbbbbbbbbbbbbccccccccccc', 0), ('aaaaaaaaaaaaaaaaaaaaaaabbbbbbbbbbbbbbbbbbbbbbbbbbbbbbbbbbbbbbbbbbbbbbcccccccccccccccccccccccccccc', 0), ('aaaaaaaaaaaaaaaaaaaaaaaaaaaaaaaaaaaaaaaaaaaaaaaaaaaaaaabbbbbbbbbbbbbbccccccccccccccccccccccccccccc', 0), ('aaaaaaaaaaaaaaaaaaaaaaaaabbbbbbbbbbbbbbbbbbbbbbbbbbbbbbbbbbb', 0), ('aaaaaaaaaaaaaaaaaaaaaaaaaaaaaaaaaaaaaaaaaaaaaaaaaaaaaaaaaaaaaaaaaaaaaaaaaaaaaaaaaaabb', 0), ('aaaaaaaabbcccccccccccccccccccccccccccccccccccccccccccccccccccccccccccccccccccccccccccccccccccccc', 0), ('aaaaaaaaaaaaaaaaaaaaaaaaaaaaaabbbbbbbbbbbbbbbbbbbbbbbbbbbbbbcccccccccccccccccccccccccccccc', 1), ('aaaaaaaaaaaaaaaaaaaaaaaaaaaaaaaaaaaaaaaaaaaaaaaaaaaaaaaaaabbbbbbbbbbbbbbbbbbbbbbbbbbbbbbbbbcc', 0), ('aaaaaaaabbbbbbbbbbbbbbbbbbbbbbbbbbbbbbbbbbbbbbbbbbbcccccccccccccccccccccccccccccccccccccccccccccc', 0), ('aaaaaaaaaaaaaaaabbbbbbbbbbbbbbbbcccccccccccccccc', 1), ('aaaaaaaaaaaaaaaaaaaaaaaaaaaaaaaaaaaaaaaaaaaaaaaaaaaaaaaaaaaaaaaaaaaaaaaaaaaabbbbbbbbbbcccccccccccccc', 0), ('aaaaaaaaaaaaaaaaaaaaaaaaaaaaaaaaaaaaaaaaaaaaaaaaaaaaabbbbbbbb', 0), ('aaaaaaaaaaaaaaaaaaaaaaaaaaaaaaaaaaaaaaaaaaaaaaaaaaaaaaaaaaaabbbbbbbbbbbbbb', 0), ('aaaaaaaaaaaabbbbbbbbbbbbcccccccccccc', 1), ('aaaabbbbbbbbbbbbbbbbbbbbbbbbbbbbbbbbbbbbbbbbbbbbbbbbbbbbbbbbbbcccccccccccccccccccccccccccccccccc', 0), ('aaaaaaaaaaaaabbbbbbbbbbbbbccccccccccccc', 1), ('bbbbbbbbbbbbbbbcccccccccccccccccccccccccccccccccccc', 0), ('aaaaaabbbbbbbbbbbbbbbbbcccccccccccccccccccccccccccccccccccccccccccc', 0), ('aaaaaaaaaaaaaaaaaaaaaaaaaaaaaaaaaaaaaaaaaaaaaaaaaaaaaaaaaaaaaaaab', 0), ('aaaaaaaaaaaaaaaaaaaaaaaaaaaaaaaaaaaaaaabbbbbbbbbbbbbbccccccccccccccccccccccccccccccccccccccc', 0), ('aaaaaaaaaaaaaaaaaaaaaaaaaaaaaaaaaaaaaaaaaaaaaaaaaaaaaaabbbbbbbbb', 0), ('aaaaaaaaaaaaaaaaaaaaaaaaaaaaaaaaaaaaaaaaaaaaaaaaaaaaaaaaaaaaaaaaaaaaaaaaabbbbbbbbbbbbbbbbbbbbbb', 0), ('aaaaaaaaaaaaaaaaaaaaaaaaaaaaaaaaaaaaaaaaaaaaabbbbbbbbbbbbbbbbbbbbbbbbbbbbbbbbbbbbbbbbbbbbbbbbbbbbbbb', 0), ('aaaaaaaaaaaaaaaaaaaaaaaaaaaaaaaaaaaaaaaaaaaaaaaaaaaaaaaaaaaabbbbbbbbbbbbbbbbbbbbbbb', 0), ('aaaaaaaaaaaaaaaaaaaaaaaaaaaaaaaaaaaaaaaaaaaaaaaaaaaaaaaaaaaaaaaaaaaaaaaaaaaaaaaaaaaaaaaaaabbbbbbb', 0), ('aaaaaaaaaaaaaaaaabbbbbbbbbbbbbbbbbccccccccccccccccc', 1), ('aaaaaaaaaaaaaaaaaaaaaaaaaaaaaaaaaaaaaaccccccc', 0), ('aaaaaaaaaaaaaaaaaaaabbbbbbccccccccccccccccccccccccccccccccccccccccccccccccccccccccccccccccccc', 0), ('aaaaaaaaaaaaaaaaaaaaaaaaaaaaaaaaaaaaaaaaaaaaaaaaaaaaaaaaaaaaaaaaaaaaaaaaaaaaabbbbbbbbbbbbbb', 0), ('aaaaaaaaaaaaaaaaaaaaaaaaaaaaabbbbbbbbbbbbbbbbbbbbbbbbbbbbbbbbbbbbbbbbbbbbbbbbbbbbbbbbbbbbbbbbb', 0), ('aaaaaaaaaaaaaaaaaaaaaaaaaaaaaaaaaaaaaaaaaaaaaaaaaaaaaaaaaaaaaaaaaaaaaaaaaaaaaaaaaaaaaaaaaaaaaabbb', 0), ('aaaaaaaaaaaaaaaaaaaaaaaaaaaaaaaaaaaaaaaaaaaaaaaaaaaaaaaaaaaaaaaaaaaaaaaaaaaaaaaaaaaaaaaaaaaaaaaaabb', 0), ('aaaaaaaaaaaaaaaaaaaaaaaaaaaaaaaaaaaaaaaaaaaaaaaaaaaaaaaaabbbbbbbbbbbbbbbbbbbbbbbbbbbbbbbbbbbbbbb', 0), ('aaaaaaaaaaaaaaabbbbbbbbbbbbbbbbbbbbbbbbbbbbcccccccccccccccccccccccccccccccccccccccccccccc', 0), ('aaaaaaaaaaaaaaaaaaaaaaaaaaaaaaaaaaabbbbbbbbbbbbbbbbbbbbbbbbbbbbbbbbbbbbbbbbbbbbbbbbbbbbbbb', 0), ('aaaaaaaaaaaaaaaaaaaaaaabbbbbbbbbbbbbbbbbbbbbbbccccccccccccccccccccccc', 1), ('aaaaaaaaaaaaaaaaaaaaaaaaaaaaaaaaaaaaaaaaaaaaaaaaaaaaaaaaaaaaaaaaaaaaaaaaaaaaaaaaaaaaaaaaaaaaaabbb', 0), ('aaaaaaaaaaaaaaaaaaaaaaaaaaaaaaaaaaaaaaaaaaabbbbbbbbbbbbbbbbbbbbbbbbbbbbb', 0), ('aaaaaaaaaaaaaaaaaaaaaaaabbbbbbbbbbbbbbbbbbbbbbbbbccccccccccccc', 0), ('aaaaaaaaaaaaaaaaaaaaaaaaaaaaaaabbbbbbbbbbbbbbbbbbbbbbbbbbbbbbbccccccccccccccccccccccccccccccc', 1), ('aaaaaaaaaaaaaaaaaaaaaaaaaaaaaaaaaaaaaaaaaaaabbbbbbbbbbbbbbbbbbbbbbbbbbbbbb', 0), ('aaaaaaaaaaaaaaaaaaaaaaaaaaaaaaaaaaaaaaaaaaaaaaaaaaaaaaaaaabbbbbbbbbcccccccc', 0), ('aaaaaaaaaaaaaaabbbbbbbbbbbbbbbbbbbbbbbbbbbbbbbbbbbbbbbbbbbbbbbbbbbbbbbbbbbbbbbbbbbbbccccccc', 0), ('aaabbbbbbccccccccccccccccccccccccccccccccccccccccccccccccccccccccccccccccccccccccccccccccccccccc', 0), ('aaaaaaaaaaaaaaaaaaaabbbbbbbbbbbbbbbbbbbbcccccccccccccccccccc', 1), ('aaaaaaaaaaaaaaaaaaaaaaaaaaaaaaaaaaaaaaaaaaaaaaaaaaaaaaaaaaaaaaaaaaaaaaaaaaaaaaaaaaaaaaaaaaaabbbbbbb', 0), ('aaaaaaaaaaaaaaaaaaaaaaaaaaaaaaaaaaaaaaaaaaaaaaaaaaaaaaaaaaaaaaaaaaaaaaaaaaaaaaaaaabbbbbbbbbbbbbbbbb', 0), ('aaaaaaaaaaaaaaaaaaaaaaaaaaaaaaaaaaaaaaaaaaaaaaaaaaaaaaaaaaaaaaaaaaaaaaaaaaaabbbbbbbbbbbbbbbbbbbbb', 0), ('aaaaaaaaaaaaaaaaaaaaaaaaaaaaaaaaaaaaaaaaaaaaaaaaaaaaaaaaaaaaaaaaaaaaabbbbbbbbbbbbbbbbbbbbbbbbbb', 0), ('aaaaaaaaaaaaaaaaaaaaaaaaaaaaaabbbbbbbbbbbbbbbbbbbbbbbbbbbbbbbbbbbbbbbbbbbbbbbbbbbbbbbbbbbbbbbbbbbb', 0), ('aaaaaaaaaaaaaaaaaaaaaaaaaaaaaaaaaaaaaaaaaaaaaaaaaaaaaaaaaaaaaaaaaaaaaaaaaaaabbbbbbbbbbbbbb', 0), ('aaaaaaaaaaaaaaaaaaaaaaaaaaaaaaaaaaaaaaaaaaabbbbbbbbbbbbbbbbbbbbbbbbbbbbbbbbbccccccccccccccccc', 0), ('aaaaaaaaaaaaaaaaaaaaaaaaaaaaaaaabbbbbbbbbbbbbbbbbbbbbbbbbbbbbbbbbbbbbbbbbbbbbbbbbbbbbbbbbbbbbbbbbbb', 0), ('aaaaaaaaaaaaaaaaaaaaaaaaaaaaaaaaaaaaaaaaaaaaaaaaaaaaaaaaaaaaaaaaaaaaaaaaaaaaaaaaabbbbbbbb', 0), ('aaaaaaaaaaaaaaaaaaaaaaaaaaaaaabbbbbbbbbbbbbbbbbbbbbbbbbbbbbbbbbbbbbbbbbbbbbbbbbb', 0), ('aaaaaaaaaaaaaaaaaaaaaaaaaaaaaaaaaaaaaaaabbbbbbbbbbbbbbbbbbbbbbbbbbbbbbbbbbbbbbbbbbbbbbbbbbbbbb', 0), ('aaaaaaaaaaaaabbbbbbbbbbbbbbbbbbbbbbbbbbbbbbbbbbbbbbbbbbbbbbbbbbbbbbbbbbbbbbbbbbbbbbbbbb', 0), ('aaaaaaaaaaaaaaaaaabbbbbbbbbbbbbbbbbbcccccccccccccccccc', 1), ('aaaaaaaaaaaaaaaaaaaaabbbbbbbbbbbbbbbbbbbbbccccccccccccccccccccc', 1), ('aaaaaaaaaaaaaaaaaaaaaaaaaaaaaaaaaaaaaaaaabbbbbbbbbbbbbbbbbbbbbbbbbbbbbbb', 0), ('aaaaaaaaaaaaaaaaaabbbbbbbbbbbbbbbbbbbbbbbbbbbbbbbb', 0), ('aaaaaaaaaaaaaaaaaaaaaaaaaaaaaaaaaaaaaaaaaaaaaaaaaaaaaaaaaabbbbbbbbbbbbbbbbbbbb', 0), ('aaaaaaaaaaaaaaaaaaaaaaaaaaaaaaaaaaaaaaaaaaaaaaaaaaaaaaaaaaaaaaaaaaaaaaaaaaaaaaaaaaaaaaaaaaaaaabbbbbb', 0), ('aaaaaaaaaaaaaaaaaaaaaaaaaaaaaaaaaaaaaaaaaaaaaaaaaaaaaaaaaaaabbbbbbbbbbbbbbbbbbbbbbbbbbbbbbbbbbbbbbbb', 0), ('aaaaaaaaaaaaaaaaaaaaaaaaaaaaaaaaaaaaaaaaaaaaaaaaaaaaaaaaaaabbbbbbbbbbbbbccccccccccccc', 0), ('aaaaaaaaaaaaaaaaaaaaaaaaaaaaaaaaaaaaaaaaaaaaaaaaaaaaaaaaaaaaaaaaaaaaaaaaaaaaaaaaaaaaaaaaaabbbbbbbbbb', 0), ('aaaaaaaaaaaaaaaaaaaaaaaaaaaaaaaaaaaaaaaaaaaaaaabbbbbbbbbbbbbbbbbbbbbbbbbbbbbbbbbbbbbbb', 0), ('aaaaaaaaaaaaaaaaaaaaaaaaaaaaaaaaaaaaaaaaaaaaaaaaaaaaaaaaaabbbbbbbbbbbbbbbbbbbbbbbbbbbbbbbb', 0), ('aaaaaaaaaaaaaaaaaaaaaaaaaaaabbbbbbbbbbbbbbbbbbbbbbbbbbbbcccccccccccccccccccccccccccc', 1), ('aaaaaaaaaaaaaaaaaaaaaaaaaaaaaaaaaaaaaaaaaaaaaaaaaaaaaaaaaaaaaaaaaaaaaaaaaaabbbbbbbbbb', 0), ('aaaaaaaaaaaaaaaaaaaaaaaaaaaaaaaaaaaaaaaaaaaaaaaaaaaaaaaaaaaaaaaaaaaaaaa', 0), ('aaaaaaaaaaaaaaaaaaaabbbbbbbbbbbbbbbbbbbbcccccccccccccccccccc', 1), ('aaaaaaaaaaaaaaaaaaaaaaaaaaabbbbbbbbbbbbccccccccccccccccccccccc', 0), ('aaaaaaaaaaaaaaaaaaaaaaaaaaaaaaaaaaaaaaaabbbbbbbbbbbbbbbbbbbbbbbbbbbbbbbbbbbbb', 0), ('aaaabbbbbbbbbbbbbbbbbbbbbbbbbbbbbbbbbbbccccccccccccccccccccccccccccccccccccccccccccccccccccc', 0), ('aaaaaaaaaaaaaaaaaaaaaaaaaaaaaaaaaaaaaaaaaaaaaaaaaaaaaaaaaaaaaaaaaaaaaaaaaaaaaaaaaaaaaaaaaaaaaaabbbbb', 0), ('aaaaaaaaaaaaaaaaaaaaaaaaaaaaaaaaaaaaaaaaaaaaaaaaaaaaaaaaaaaaaaaaaaaaaaabbbbbbbbbbbbbbbbbbbbbb', 0), ('aaaaaaaaaaaaaaaaaaaaaaaaaaaaaaaaaaaaaaaaaaaaaaaaaaaaaaaaaaaaaaaaaaaaaaaaaaaaaaaaaaaaaaaaaaaaaaaaabb', 0), ('aaaaaaaaaaaaaaaaaaaaaaaaaaaaaaaaaaaaaaaaaaaaaaaaaaaaaaaaaaaaaaaaaaaaaaaaaaaaaab', 0), ('aaaaaaaaaaaaaaaaaaaaaaaaaaaaaaaabbbbbbbbbbbbbbbbbbbbbbbbbbbbbbbbcccccccccccccccccccccccccccccccc', 1), ('aaaaaaaaaaaaaaaaaaaaaaaaaaaaabccccccccccc', 0), ('aaaaaaaaaaaaaaaaaaaaaaaaaaaaaaaaaaaaaaaaaaaaaaaaaaaaaaaaaaaaaaaaaaaaaaaaaaaaaaaaaaaaaaaaaaaa', 0), ('aaaaaaaaaaaaaaaabbbbbbbbbbbbbbbbbcccccccccccccccccccccccccccccccccccccccccc', 0), ('aaaaaaaaaaaaaaaaaaaaaaaaaaaaaaaaabbbbbbbbbbbbbbbbbbbbbbbbbbbbbbbbbccccccccccccccccccccccccccccccccc', 1), ('aaaaaaaaabbbbbbbbbbbbbbbbbbbbbbbbbbbbbbbbbbbbbbbbbbbbbbbbbbbbbbbbbbb', 0), ('aaaaaaaaaaaaaaaaaaaaaaaaaaaaaaaaaaaaaaabbb', 0), ('aaaaabbbbbbbbbbbbbbbbbbbbbbbbbbbccc', 0), ('aaaaaaaaaaaaaaaaaaaaaaaaaaabbbbbbbbbbbbbbbbbbbbbbbbbbbbbbbbbbbbbbbbbbbbbbbbbbbbbbbbbbbbbbbbbbbbb', 0), ('aaaaaaaaaaaaaaaaaaaaaaaaaaaabbbbbbbbbbbbbbbbbbbbbbbbbbbbbbbbbbb', 0), ('aaaaaaaaaaaaaaaaaaaabbbbbbbbbbbbbbbbbbbbbbbbbbbbbbbbbbbbbbbbbbbbbbbbbbbbbbbbbbbbbbbbbbbbbbbbbbb', 0), ('aaaaaaaaaaaaaaaabbbbbbbbbbbbbbbbbbbbbbbbbccccccccccccccccccccccccccccccccccccccccccccccccccccccccc', 0), ('aaaaaaaaaaaaaaaaaaaaaaaaaaaaaaaaaaaaaaaaaaaaaaaaaaaaaaaaaaaaaaaaaaaaaaaaaaaaaaaaaaaaabbbbbbbbbbbbbb', 0), ('aabbbbbbbbbbbbbbbbbbbbbbbbbbbbbbbbbbbbbbbbbbbbbbbbbbbbbbbbbbbbbbbbbbbbbbbbbbbbbbbbb', 0), ('aaaaaaaaaaaaaaaaaaaaaaaaaaaaaaaaaaaaaaaaaaaaaaaaaaaaaaaaaaaaaaaaaaaaaaaaaaaaaaaaaaaaaaabbbbbbbbbbbbb', 0), ('aaaaaaaaaaaaaaaaaaabbbbbbbbbbbbbbbbbbbccccccccccccccccccc', 1), ('bbbbbbbbbbbbbbbbbbbbbbbbbbbbbbbbbbccccc', 0), ('aaaaaaaaaaaaaaaaaaaaaaaaaaaaaaaaaaaaaaaaaaaaaaaaaaaaaaaaaaaaaaaaaaaaaaaaaaaaaaaaaaaaaaaaaabbbbb', 0), ('aaaaaaaaaaaaaaaaaaaaaaaaaaaaaaaaaaaaaaaaaaaaaaaaaaaaaabbbbbbbbbbbbcccccccccccccccccc', 0), ('aaaaaaaaabbbbbbbbbccccccccc', 1), ('aaaaaaaaaaaaaaaaaaaaaaaaaaaaaaaaaaaaaaaaaaaaaaaaaaaaaaaaaaaaaaaaaaaaaaaaaaaaaaaaaaaaaaaaaaaaaaaaaaab', 0), ('aaaaaaaaaaaaaaaaaaaaaaaaaaaaaaaaaaaaaaaaaaaaaaabbbbbbbbbbbbbbbbbbbbbbbbbbbbbbbbbbbbbbbbbbbbbbbbbbbbb', 0), ('aaaaaaaaaaaaaaaaaaaaaaaaaaaaaaaaaaaaaaaaaaaaaaaaaaaaaaaaaaaaaaaaaaaaaaaaaaaaaaaaaaaaaaaaaaaaaaaab', 0), ('aaaaaaaaaaaaaaaaaaaaaaaaaaaaaaaaaaaaaaaaaaaaaaaaaaaaaaaaaaaaaaaaaaaaaaaaaaaabbbb', 0), ('aaaaaaaaaaaaaaaaaaaaaaaaaaaaaaaaaaaaaaaaaaaaaaaaaaaaaaaaaaaabbbbbbb', 0), ('aaaaaaaaaaaaaaaaaaaaabbbbbbbbbbbbbbbbbbbbbccccccccccccccccccccc', 1), ('aaaaaaaaaaaaaaaaaaaabbbbbbbbbbbbbbbbbbbbbbbbbbbbbbbbbbbbbbbbbbbbbbbbbbbccccccccccccc', 0), ('aaaaaaaaaaaaaaaaaaaaaaaaaaaaaaaaaaaaaaaaaaaaaaaabbbbbbb', 0), ('aaaaaaaaaaaaaaaaaaaaaaaaaaaaaaaaaaaaaaaaaaaaaaaaaaaaaaaaaaaaaaaabbbbbbbbbbb', 0), ('aaaaaaaaaaaaaaaaaaaaaaaaaaaaaaaaaaaaaaaaaaaaaaaaaaaaaaaaaaaaaaaabbbbbbbbbbbbbbbbbbbbbbbbbbbbbbb', 0), ('aaaaaaaaaaaaaaaaaaaaaaaaaaaaaaaaaaaaaaaaaaaaaaaaaaaaaaaaaaabbbbbbbbbbbbbbbbbbbbbbbbbbbbbbbb', 0), ('aaaaaaaaaaaaaaaaaaaaaaaaaaaaaaaaaaaaaaaaaaaaaaaaaaaabbbbbbbbbbbbbbcccccccccccc', 0), ('aaaaaaaaaaaaaaaabbbbbbbbbbbbbbbbbbbbbbcccccccccccccc', 0), ('aaaaaaaaaaaaaaaaaaaaaaaaaaaaaaaaaaaaaaaabbbbbbbbbbbbbbbbbbbbbbbbbbbbbbbbbbcccccccccc', 0), ('aaaaaaaaaaaaaaaaaaaaaaaaaaaaaaaaaaaaaaaaaaaaaaaaaaaaaaaaaaaaaaaaaaaaaaaaaabbbbbbbbbbbbbbbbccccc', 0), ('aaaaaaaaaaaaaaaaaaaaaaaaaaaaaaaaaaaaaaaaaaaaaaaaaaaaaaaaaaaaaaaaaaaaaaaaaaaabbbbbbbbb', 0), ('aaaaaaaaaaaaaaaaaaaaaaaaaaaaaaabbbbbbbbbbbbbbbbbbbbbbbbbbbbbbbbbbbbbbbbbbbbbbb', 0), ('aaaaaaaaaaaaaaaaaaaaaaaaabbbbbbbbbbbbbbbbbbbbbbbbbbbbbbbbbbbbbbbbbbbbbbbbbbbbbbbbbbbbbbbb', 0), ('aaaaaaaaaaaaaaaaaaaaaaaaaaaaaaaaaaaaaaaaaaaaaaaaaaaaabbbbbbbbbbbbbbbbbbbbbbbbbbbccccccccccc', 0), ('aaaaaaaaabbbbbbbbbccccccccc', 1), ('aaaaaaaaaaaaaaaaaaaaaaaaaaaaaaaaaaaaaaaaaaaaaaaaaaaaabbbbbbbbbbbbb', 0), ('aaaaaaaaaaaaaaaaaaaaaaaaaaaaaaaaaaaaaaaaaaaaaaaaaaaaaaaaaaaaaaaaaaaaaaaaaaaaaaabbbbbbbbbbbbb', 0), ('aaaaaaaaaaaaaaaaabbbbbbbbbccccccccccccc', 0), ('aaaaaaaaaaaaaaaaabbbbbbbbbbbbbbbbbbbcccccccccccccccccccccccccccccccc', 0), ('aaaaaaaaaaaaaaaaaaaaaaaaaaaaaaaaaaaaaaaac', 0), ('aaaaaaaaaaaaaaaaaaaaaaaaaaaaaaaaaaaaaaaaaaaaaaaaaaaaaaaaaaaaaaaaaaaaaaaaaaaaaaaaabbbbbbbbbbbccccc', 0), ('aaaaaaaaaaaaaaaaaaaaaaaaaaaaaaaaaaaaaaaaaaaaaaaaaaaaaaaaaaaaaaaaaaaaaaaaaaaaaaaaaaaaaaaaaaabbbbb', 0), ('aaaaaaaaaaaaaaaaaaaaaaaaaaaaaaaaaaaaaaaaaaaaaaaaaaaaaaaabbbbbbbbbbbbbbbbbbbbbbbbbbbbbbbbbbbbbb', 0), ('aaaaaaaaaaaaaaaaaaaaaaaaaaaaaaaaaaaaaaaaaaaaaaaaaaaaaaaaaabbbbbbbbbb', 0), ('aaaaaaaaaaaaaaaaaaaaaaaaaaaaaaaaaaaaaaaaaaaaaaaaaaaabbbbbbbbbbbbbcccccccccccccc', 0), ('aaaaaaaaaaaaaaaabbbbbbbbbbbbbbbbcccccccccccccccc', 1), ('aaaaaaaaaaaaaaaaaaaaaaaaaaaaaaaaaaaaaaaaaaaaaaaaaaaaaaaaaaaaaaaaaaaaaaaaaaaab', 0), ('aaaaaaaaaaaaaaaaaaaaaaaabbbbbbbbbbbbbbbbbbbbbbbbcccccccccccccccccccccccccccccc', 0), ('aaaaaaaaaaaaaaaabbbbbbbbbbbbbbbbbbbbbbbbbbbbbbbbbbbbbbbbbbbbbbbbbb', 0), ('aaaaaaaaaaaaaaaaaaaaaaaaaaaaaaaaaaaaaaaabbccccc', 0), ('aaaaaaaaaaaaaaaaabbbbbbbbbbbbbbbbbbbbbbbbbbbbbbbbbbbccccccccccccccccccccccc', 0), ('aaaaaaaaaaaaaaaaaaaaaaaaaaaaabbbbbbbbbbbbbbbbbbbbbbbbbbbbbccccccccccccccccccccccccccccc', 1), ('aaaaaaaaaaaaaaaaaaaaaaabbbbbbbbbbbbbbbbbbbbbbbbbbbbbbbbbbbbbbbbbbbbbbbbbbbb', 0), ('aaaaaaaaaaaaaaabbbbbbbbbbbbbbbccccccccccccccc', 1), ('aaaaaaaaaaaaaaaaabcccccccccccccccccccccccccccccccccccccccccccccccccccccc', 0), ('aaaaaaaaaaaaaaaaaaaaaaaaaaaaaaaaaaaaaaaaaaaaaaaaaaaaaaaaaaaaaaaaaaaaaaaaaaaaaaaaaaaabbbbbbbbb', 0), ('aaaaaaaabbcccccccccccccccccccccccccccccccccccccc', 0), ('aaaaaaaaaaaaaaaaaaaaaaaaaaaaaaaaaaaaaaaaaaaaaaaaaaaaaaaaaaaaaaaaaaaaaaabbbbbbbbbbbbbbbbb', 0), ('aaaaaaaaaaaaaaaaaaaaaaaaaaaaaaaaaaaaaaaaaaaaaaaaaaaaaaaaaaaaaaaaaaaaaaaaaaaaaaaaaaaaaaaaaaaabb', 0), ('aaaaaaaaaaaaaaaaaaaaaaaaaaaaaaaabbbbbbbbbbbbbbbbbbbbbbbbbbbbbbbbbccccccc', 0), ('aaaaaaaaaaaaaaaaaaaaaabbbbbbbbbbbbbbbbbb', 0), ('aaaaaaaaaaaaaaaaaaaaaaaaaaaaaaaaaaaaaaaaaaaaaaaaaaaaaaaaaaaaaaaaaabbbbbbbbb', 0), ('aaaaaaaaaaaaaaaaaaaaaaaaaaaaaaaaaaaaaaaaaaaaaaaaaaaaaaaaaaaaaaaaaaaaaaaaaaaabbbbbbbbbbbbbbbbbbbbbbb', 0), ('aaaaaaaaaaaaaaaaabbbbbbbbbbbbbbbbbbbbbbbbbbbbbbbbbbbbbbbbbbbbbbbbbbbbbbbbbbbbbbbbbbbbbbb', 0), ('aaaaaaaaaaaaaaaaaaaaabbbbbbbbbbbbbbbbbbbbbccccccccccccccccccccc', 1), ('aabbbbbbbbbbbbbbbbbbbbbbcccccccccccccccccccccccccccccccccccccccccccccccc', 0), ('aaaaaaaaaaaaaaaabbbbbbbbbbbbbbbbbbbbbbbbbbbbbbbbbbbbbbbbbbbbbbbbbbbbbbbbbbbbbbbbbbbbbbbbbb', 0), ('aaaaaaaaaaaaaaaaaaaaaaaaaaaaaaaaaaaaaaaaaaaaaaaaaaaaaaaaaaaaaaaaabbbbbbbbbbbbbbbbbbbbbbb', 0), ('aaaaaaaaabbbbbbbbbccccccccc', 1), ('aaaaaaaaaaaaaaaaaaaaaaaaabbbbbbbbbbbbbbbbbbbbbbbbbbbbbbbbbbbbbbbbbbbbbbbbbbbbbccccccccccccccccccc', 0), ('aaaaaaaaaaaabbbbbbbbbbbbbbbbbbbbbbbbbbbbbbbbbbbbbbbbbbbbbbbbbbbbbbbbbbbbbbbbbbbbbbbbbbbb', 0), ('aaaaaaaaaaaaaaaaaaaaaaaaaaaaaaaaaaaaaaaaaaaaaaaabbbbbbbbbbbbbbbbbbbbbbbbbb', 0), ('aaaaaaaaaaaaaaaaaaaaabbbbbbbbbbbbbbbbbbbbbccccccccccccccccccccc', 1), ('aaaaaaaaaaaaaaaaaaaaaaaaaaaaaaaaaaaaaaaaaaaaaaaaaaaaaaaaaaaaaaaaaaaaaaaaaaaaaaaaaaaaabbbb', 0), ('aaaaaaaaaaaaaaaaaaaaaaaaaaaaaaaabbbbbbbbbbbbbbbbbbbbbbbbbbbbbbbbcccccccccccccccccccccccccccccccc', 1), ('aaaaaaaaaaaaaaaaaaaaaaaaaaaaaaaaaaaaaaaaaaaaaaaaaaaabbbbbbbbbbbbbbbbbbbbbbbbbb', 0), ('aaaaaaaaaaaaaaaaaaaaaaaaaaaaaabbbbbbbbbbbbbbbbbbbbbbbbbbbbbbcccccccccccccccccccccccccccccc', 1), ('aaaaaaaabbbbbbbbcccccccc', 1), ('aaaaaaaaaaaaaaaaaaaaaaaaaaaaaaaaaaaaaaaaaaaaaaaaaaaaaaaaaaaaaaaabbbbbbbbbbbbbbbbbbbbbbb', 0), ('aaaaaaaaaaaaaaaaaaaaaaaabbbbbbbbbbbbbbbbbbbbbbbbcccccccccccccccccccccccc', 1), ('aaaaaaaaaaaaaaaaaaaaaaaaaaaaaaaaaaaaaaaaaaaaaaaaaaaaaaaaaaaaaaaaaaaaaaaaaaaaaaaaaaaaaaaaaaaaaaaaab', 0), ('aaaaaaaaaaaaaaaaaaaaaaaaaaaaaaaaaaaaaaaaaaaaaaaaaaaaaaaaaaaaaaaaaaaaaaaaaaaabbbbbbbbbbbb', 0), ('aaabbbbbbbbbbbbbbbbbbbbbbbbbbbbbbbbbbbbbbbbbbbbbbbbbbbbbbbbbbbbbbbb', 0), ('aaaaaaaaaabbbbbbbbbbcccccccccc', 1), ('aaaaaaaaaaaaaaaaaaaaaaaaaaaaaaaaaaaaaaaaaaaaaaaaaaaaaaaaaaaaaaaaaaaaaaaaaaaaaaaaaaaaaaaaaaaaabb', 0), ('aaaaaaaaaaaaaaaaaaaaaaaaaaaaaabbbbbbbbbbbbbbbbbbbbbbbbbbbbbbcccccccccccccccccccccccccccccc', 1), ('aaaaaaaaaaaaaaaaaaaaaaaabbbbbbbbbbbbbbbbbbbbbbbbbbbbbbbbbb', 0), ('aaaaaaaaaaaaaaaaaaaaaaaaaaabbbbbbbbbbbbbbbbbbbbbbbbbbbccccccccccccccccccccccccccc', 1), ('aaaaaaaaaaaaaaaaaaaaaaaaaaaaaaaaaaaaaaaaaaaaaaaaaaaaaaaaaaaaaaaaaaaaaaaaaaaabbbbbbbbbbbbb', 0), ('aaaaaaaaaaaabbbbbccccccccccccc', 0), ('aaaaaaaaaaaaaaaaaaaaaaaaaaaaaaaaaaaaaaaaaaaaaaaaaaaabbbbbbbbbbbbbbbccccccccccccccccccccccccccccc', 0), ('aaaaaaaaaaaaaaaaaaaaaaaaaaaaaaaaaaaaaaaaaaaaaaaabbcccccccccccccccccccccccccccccc', 0), ('aaaaaaaaaaaaaaaaaaaaaaaaaaaabbbbbbbbbbbbbbbbbbbbbbbbbbbbccccccccccccccccccccccccc', 0), ('aaaaaaaaaaaaaaaaaaaaaaaaaaaaabbbbbbbbbbbbbbbbbbbbbbbbbbbbbccccccccccccccccccccccccccccc', 1), ('aaaaaaaaaaaaaaaaaaaaaaaaaaaaaaaaaaaaaaaaaaaaaaaaaaaaaaaaaaaaaaaaaabb', 0), ('aaaaaaaaaaaaaaaaaaaaaaaaaaaaabbbbbbbbbbbbbbbbbbbbbbbbbbbbbccccccccccccccccccccccccccccc', 1), ('aaaaaaaaaaaaaaaaaaaaaaaaaaaaaaaaaaaaaaaaaaaaaaaaaaaaaaaaaaaaaaaaaaaaaaaaaaaaaaaaaaabbbbbbbbb', 0), ('aaaaaaaaaaaaaabbbbbbbbbbbbbbcccccccccccccc', 1), ('aaaaaaaaaaaaaaaaaaaaaaaaaaaaaaaaaaaaaaaaaaaaaaaaaaaaaaaaaaaaaaaaaaaaaaaaabccccccccccccccc', 0), ('aaaaaaaaaaaaaaaaaaaaaaaaaaaaaaaaaaaaaaaaaabbbbbbbbbbbbbbbbbbbbbbbbbbbbbbbbbbbbbbbbbbbb', 0), ('aaaaaaaaaaaaaaaaabbbbbbbbbbbbbbbbbccccccccccccccccc', 1), ('aaaaaaaaaaaaaaaaaaaaaaaaaaaaabbbbbbbbbbbbbbbbbbbbbbbbbbbbbccccccccccccccccccccccccccccc', 1), ('aaaaaaaaaaaaaaaaaaaaaaaaaaaaaaaaaaaaaaabbbbbbbbbbbbbbbbbbbbbbbbbbbbbbbbbbbbbbbbbbbbccccc', 0), ('aaaaaaaaaaaaaaaaaaaaaaaaaaaaaaaaaaaaaaaaaaaaaaaaaaaaaaaaaaaaaaaaabbbbbbbbbbbbbbbbbb', 0), ('aaaaaaaaaaaaaaaaaaaaaaaaaaaaaaaaaaaaaaaaaaaaaaaaaaaaaaaaaaaaaaaaabbbbbbbbbbbbbbbbbbbccccc', 0), ('aaaaaaaaaaaaaaaaaaaaaaaaaaaaaaaaaaaaaaaaaaaaaaaaaaaaaaaaaaaaaaaaaaaaaaaaabbbbbbbbbbbbbcccccccccccc', 0), ('aaaaaaaaaaaaaaaaaaaaaabbbbbbbbbbbbbbbbbbbbbbbbbbbbbbbbbbbbbbbbbbbbbbbb', 0), ('aaaaaaaaaaaaaaaaaaaaaaaaaaaaabbbbbbbbbbbbbbbbbbbbbbbbbbbbbbbbbbbbbbbbbbbbbbbbbbbbbbb', 0), ('aaaaaabbbbbbbbbbbbbbbbbbbbbbbbbbbbbbbbbbbbbbbbbbbbbbbbbbbbbbbbbbbbbbbbcccccc', 0), ('aaaaaaaaaaaaaaaaaaaaaaaaaaaaaaaaaaaaaaaaaaaaaaaaaaaaaaaaaaaaaaaaaaaabbbbbbbbbbbbbbbbbbbbbbbb', 0), ('aaaaaaaaaaaaaaaaaaaaaaaaaaaaaaaaaaaaaaaaaaaaaaaaaaaaaaaaaaaaaaaaabbbbbbbbbbbbbbbbbbbbbbbbb', 0), ('aaaaaaaaaaaaaaaaaaaaaaaaaaaaaaaaaaabbbbbbbbbbbbbccccccccccc', 0), ('aaaaaaaaaaaaaaaaaaaaaaaaaaaaaaaaaaaaaaaaaaaaaaaaabbbbbbbbbbbbbbbbbbbbbbbbbbbbbbbbbbbbbbbbbbbbb', 0), ('aaaaaaaaaaaaaaaaaaaaaaaaaaaaaaaaaaaaaaaaaaaaaaaaaaaaaaaaaaaaaaaaaaaaaaaaaaaaaaaaaaaaaaaaaaaaaaaccccc', 0), ('aaaaaaaaaaaaaaabbbbbbbbbbbbbbbccccccccccccccc', 1), ('aaaaaaaaaaaaaaaaaaaaaaaaaaaaaaaaaaaaaaaaaaaaaaaaaaabbbbbbbbbbbbbbbbbbbbbbbbbbbb', 0), ('aaaaaaaaaaaaaaaaaaaaaaaaaaaaaaaaabbbbbbbbbbbbbbbbbbbbbbbbbbbbbbbcccccccccccccccccccccccccccccc', 0), ('aaaaaaaaaaaaaabbbbbbbbbbbbbbbbbbbbbbbbbbbbbbbbbbbbbbbbbbbbbbbbbbbbbbbbbbbbb', 0), ('aaaaaaaaaaaaaaaaaaaaaaaaaaaaaaaaaaabbbbbbbbbbbbbbbbbccccccccccccccccccccccccccccccccccccc', 0), ('aaaaaaaaaaaaaaaaaaabbbbbbbbbbbbbbbbbbbccccccccccccccccccc', 1), ('aaaaaaaaaaaaaaabbbbbbbbbbbbbbbccccccccccccccc', 1), ('aaaaaaaaaaaaaaaaaaaaaaaaaaaaaaaaaaaaaaaaaaaaaaaaaaaaaaaaaaaaaaaaaaaaaaaaaaaaaaaaaaaaaaabbbbbbb', 0), ('aaaaaaaaaaaaaaaaaaaaaaaaaaaaaaaaaaaaaaaaaaaaaaaaaaaaaaaaaaaaaaaaaaaabb', 0), ('aaaaaaaaaaaaaaaaaaaaaaaaaaaaaaaaaaaaaaaaaaaaaaaaaaaaaaaaabcccccccccccccccccc', 0), ('aaaaaaaaaaaaaaaaaaaabbbbbbbbbbbbbbbbbbbbcccccccccccccccccccc', 1), ('aaaaaaaaaaaaaaaaaaaaaaaaaaaaaaabbbbbbbbbbbbbbbbbbbbbbbbbbbbbbbbbbbbbbbccccccccccccccccccccccccccccc', 0), ('aaaaaaaaaaaaaaaaaaaaaaaaaaaaaaaaaaaaaaaaaaaaaabbcccccccccccccccccccccccccccccccccccccccccccccccccc', 0), ('aaaaaaaaaaaaaaaaaaaaaaaaaabbbbbbbbbbbbbbbbbbbbbbbbbbcccccccccccccccccccccccccc', 1), ('aaaaaaaaaaaaaaaaaaaaaaabbbbbbbbbbbbbbbbbbbbbbbbbbbbbbbbbbbbbbbbbbbbbbbbbbbbbbbbbbbbbbbb', 0), ('aaaaaaaaaaaaaaaaaaaaaaaaaaaaaaaaaaaaaaabbbbbbbbbbbbbbbbbbbbbbbbbbbbbbbb', 0), ('aaaaaaaaaaaaaaaaaaaaaaaaaaaaaaaaaaaaaaaaaaaaaaaaaaaaaaaaaaaaaaaaaaaaaaaaaaaaaaaaaaaaaaaaaaaaaaaaaaa', 0), ('aaaaaaaaaaaaaaaaaaaaaaaaaaaaaaaaaaaaaaaaaaaaaaaaaaaaaaaaaaaaaaaaaaaaaaaaaaabbb', 0), ('aaaaaaaaaaaaaaaaaaaaaaaaaaaaaaaaaaaaaaaaaaaaaaaaaaabbbbbbbbbbbbbbbbbbbbbbbbbbbbbbbbbbbbbbbbbbccc', 0), ('aaaaaaaaaaaaaaaaaaaaaaaaaaaaaaaaaaaaaaaaaaaaaaaaaaaaaaaaabbbbbbbbbbbbbbbbbbbbbbbbbbbbbbbccccccc', 0), ('aaaaaaaaaaaaaaaaaaaaaaaaaaaaaaaaaaaaaaaaaaaaabcccccccccccccccccccccccccc', 0), ('aaaaaaaaaabbbbbccccccccccccccccccccccccccccccccccccccccccccccc', 0), ('aaaaaaaaaaaaaabbbbbbbbbbbbbbbbbbbbbbbbbbbbbbbbbbbbbbbbbbbbbbbbbbbbbbbbbbbbbbbbbbbbbbbbbbbb', 0), ('aaaaaaaaaaaabbbbbbbbbbbbbbbbbbbbbbbbbbbbbbbbbbbbbbbbbbbccccccccccccccccccccccccccccccccccccccccccc', 0), ('aaaaaaaaaaaaaaaaaaaaaaaaabbbbbbbbbbbbbbbbbbbbbbbbbbbbbbbbbb', 0), ('aaaaaaaaaaaaaaaaaaaaaaaaaaaaaaaaaaaaaaaaaaaaaaabbbbbbbbbbbbbbbbbbbbbbbbbb', 0), ('aaaaaaaaaaaaaaaaaaaaaaaaaaaaaaaaaaaaaaaaaaaaaaaaaaaaaabbbbbbbbbbbbbbbbbbbbbbbbbbbbbbbbbbb', 0), ('aaaaaaaaaaaaaaaaaaaaaaaaabbbbbbbbbbbbbbbbbbbbbbbbbccccccccccccccccccccccccc', 1), ('aaaaaaaaaaaaaaaaaaaaaaaaaaaaaaaaaaaaaaaaaaaaaaaaaaaaaaaaaaaaaaaaaaaaaaaabbbbbbbbbbbbbbbbbbbbbbbb', 0), ('aaaaaaaaabbbbbbbbbccccccccc', 1), ('aaaaaaaaaaaaaaaaaaaaaaaaaaaaaaaaaaaaaaaaaaaaaaaaaaaaaaaaaaaaaaabbbbbbbbbbbbbbbbbbbbbbbbbbb', 0), ('aaaaaaaaaaaaaaaaaaaaaaaabbbbbbbbbbbbbbbbbbbbbbbbcccccccccccccccccccccccc', 1), ('aaaaaaaaaaaaaaaaaaabbbbbbbbbbbbbbbbbbbccccccccccccccccccc', 1), ('aaaaaaaaaaaaaaaaaaaaaaaabbbbbbbbbbbbbbbbbbbbbbbbcccccccccccccccccccccccc', 1), ('aaaaaaaaaaaaaaaaaaaaaaaaaaaaaaaaaaaaaaaaaaaaaaaaaaaaaaaaaaaaaaaaaaaaaaaabbbbbbbbc', 0), ('aaaaaaaaaaaaaaaaaaabbbbbbbbbbbbbbbbbbbccccccccccccccccccc', 1), ('aaaaaaaaaaaaaaaaaaaaaaaaaaaaaaaabbbbbbbbbbbbbbbbbbb', 0), ('aaaaaaaaaaaaaaaaaaaaaaaaaaaaaaaaaaaaaaaaaaaaaaaaaaaaaaaaaaaabbbbbcccccccccccccccccc', 0), ('aaaaaaaaaaaaaaaaaaaaaaaaaaaaaaaaaaaaaaaaaaaaaaaaaaabbbbbbbbbbbbbbbbb', 0), ('aaabbbbbbbbbbbbbbbbbbbbbbbbbbbbbbbbbbbbbbccccccccccccccccccccc', 0), ('aaaaaaaaaaaaaaaaaaaaaaaaaaabbbbbbbbbbbbbbbbbbbbbbbbbbbbbbbbbbbbbbbbbbbbcccccccccccccccccccccccccccc', 0), ('aaaaaaaaaaaaaaaaaaaaaaaaaaaaaaaaaaaaaaaaaaaaaaaaaaaaaaaabbbbbbbbbbbbbbbbbbbbbbbbbbbbbbbbbb', 0), ('aaaaaaaaaaaaaaaaaaaaaaaaaaaaaaaaaaaaaaaaaaaaaaaaaaaaaaaaaaaaaaaaaaaaaaaaaaaaaaaaaaaaaaaaaaaaabbbb', 0), ('aaaaaaaaaaaaaaaaaaaaaaaaaaaaaaaaaaaaaaaaaaaaaaaaaaaaaaaaaaaabbbbbbbbbbbb', 0), ('aaaaaaaaaaabbbbcccccccccccccccccccccccccccccccccccccc', 0), ('aaaaaaaabbbbbbbbcccccccc', 1), ('aaaaaaaaaaaaaaaaaaaaaaaaaaaaaaaaabbbbbbbbbbbbbbbbbbbbbbbbbbbbbbbbbbbbbbbbbbbbbbbbbbbbbbbbb', 0), ('aaaaaaaaaaaaaaaaaaaaaaaaaaaaaaaaaaaaaaaaaaaaaaaaaaaaaaaaaaaaaaaaaaaaaabbbbbbbbbbbbbbbbbb', 0), ('aaaaaaaaaaaaaaaaaaaaaaaaaaaaaaaaaaaaaaaaaaaaaabbbbbbbbb', 0), ('aaaaaaaaaaaaaaaaaaaaaaaaaaaaaaaaaaaaaaaaabbbbbbbbbbbbbbbbbb', 0), ('aaaaaaaaaaaaaaaaaaaaaaaaaaaaaaaaaaaaaaaaaaaaaaaaaaaaaaabbbbbbbbbbbbbbbbbbbbbbbbbbbbbbbbbbbbbbb', 0), ('aaaaaaaaaaaaaaaaaaaaaaaaaaaaaaaaaaaaaaaaaaaaaaaaaaaaaaaaaaaaaaaaaaaaaaaaaaaaaaaaaaaaaaaaaaabbbb', 0), ('aaaaaaaaaaaaaaaaaaaaaaaaaaaaaaaaaaaaaaaaaaaaaaaaaaaaaaaabbbbbbbbbbbbbbbbbbbbbbbbbbbbb', 0), ('aaaaaaaaaaaaaaaaaaaaaaaaaaaaaaaaaaaaaaaaaaabbbbbbbbbbbbbbbbbbbbbbbbbbbbbbbbbbbbbbbbbbbbbbbbbb', 0), ('aaaaaaaaaabbbbbbbccccccccccccccccccccccccccccccccccccccccccccccccccccccccccccccccccccccccccc', 0), ('abbbbbbbbbbbbbbbbbbbbbbbbbbbbbbbbbbbbbbbbbbbbbbbbbbbbbbbbbbbbbbbbbbbbbbbbbbb', 0), ('aaaaaaaaaaaaaaaaaaaaaaaaaaaaaaaaaaaaaaaaaaaaaaaaaaaaaaaaaaaaaaaaaaaaaaaaaaabbbbbbbbbbbb', 0), ('aaaaaaaaaaaaaaaaaaaaaaaaaaaaaaaaaaaaaaaaabbbbbbbbbbbbbbbbbbcccccccccccccccccccccccccccccc', 0), ('aaaaaaaaaaaaaaaaaaaaaaaaaaaaaaaaaaaaaaaaaaaaaaaaaaaaaaaaaaaaaaaaaaaaaaaaaaaaaaaaaaaaaaaaaaaaabbb', 0), ('aaaaaaaaaaaaaaaaaaaaaaaaaaaaaaaaaaaaaaaaaaaaaaaaaaaaaaaaaaaaaaaaaaaaaaaaabbbbbbbbbbbccc', 0), ('aaaaaaaaaaaaaaaaaaaaaaaaaaaaabbbbbbbbbbbbbbbbbbbbbbbbbbbbbccccccccccccccccccccccccccccc', 1), ('aaaaaaaaaaaaaaaaaaaaaaaaaaaaaaaaaaaaaaaaaaaaaaaaaaaaaaaaaaaaaaaaaaaaaaaaaaaaaaaaaaaaaaaaaaaaaaaa', 0), ('aaaaabbbbbbbbbbbbbbbbbbbbcccccccccc', 0), ('aaaaaaaaaaaabbbbbbbbbbbbcccccccccccc', 1), ('aaaaaaaaaaaaaaaaaaaaaaaaaaaaaaaaaaaaaaaaaaaaaaaaaaaaaaaaaaaaaaaaaaaaaaaaaaaabbbbbbbbbb', 0), ('aaaaaaaaaaaaaaaaaaaaaabbbbbbbbbbbbbbbbbbbbbbcccccccccccccccccccccc', 1), ('aaaaaabbbbbbbbbbbbbbbbbbbbbbbbbbbbbbbbbbbbbbbbbbbbbbbbbbbbbbbbbbbbbbbbbbbbbbbbbbbbbbbbbbbbbbbbbbb', 0), ('aaaaaaaaaaaaaaaaaaaaaaaaaaaaaaaaaaaaaaaaaaaaaaaabbbbbbbbbbbbbbbbbbbbbbbbbbbbbbbbbbbb', 0), ('aaaaaaaaaaaaaaaaaaaaaaaaaaaaaaaaaaaaaaaaaaaaabbbbbbbbbbb', 0), ('aaaaaaaabbbbbbbbcccccccc', 1), ('aaaaaaaaaaaaaaaaaaaaaabbbbbbbbbbbbbbbbbbbbbbbbbbbbbbbbbbbbbbbbbbbbbbbb', 0), ('aaaaaaaaaaaaaaaaaaaaaaaaaaaaaaaaaaaaaaaaaaaaaaaaaaaaaaaaaaaaaaaaabbbbbbbbbbbcccccccccccccccccccccc', 0), ('aaaaaaaaaaaaaaaaaaaaaaaaaaaaaaaaaaaaaaaaaaaaaaaaaaaaaaaaaaaaaaaaaaaaaaaaaaaaaaaaaaaaaaaaaaaaaaaaaaa', 0), ('aaaaaaaaaaaaaaaaaaaaaaaaaaaaabbbbbbbbbbbbbbbbbbbbbbbbbbbbbccccccccccccccccccccccccccccc', 1), ('aabbbbbbbbbbbbbbbbbbbbbbbbbbbbbccccccccccccccccccccccccccccccccccccccccccccccccccccccccccccccccccccc', 0), ('aaaaaaaaaaaaaaaaaaaaaaaaaaaaaaaaaaaaaaaaaaaaaaaaaaaaaaaaaaaaaaaaaaaaaaaaaaaaaaaaaaaaaaaaabbbbbbbbb', 0), ('aaaaaaaaaaabbbbbbbbbbbccccccccccc', 1), ('aabbbbbbbbbbbbbbbbbbbbbbbbbbbbbbbbbbbbbbbbbb', 0), ('aaaaaaaaaaaaaabbbbbbbbbbbbbbcccccccccccccc', 1), ('aaaaaaaaaaaaaaaaaaabbbbbbbbbbbbbbbbbbbccccccccccccccccccc', 1), ('aaaaaaaaaaaaaaaaaaaaaaaaaaaaaaaaaaaaaaaaaaaaaaaaaaaaaaaaaaaaaaaaabbbbb', 0), ('aaaaaaaaaaaaaaaaaaaaaaaaaaaaaaaaaaaaaaaabbbbbbbbbbbbbbbbbbbbbbbbbbbbbbcccccc', 0), ('aaaaaaaaaaaaaaaaaaaaaaaaaaaaaaaaaaaaaaaaaaaaaaaaaaaaaaaaabbbbbbbbbbbbbbbbb', 0), ('aaaaaaaaaaaaaaaaaaaaaaaaaaaaaaaaaaaaaaaaaaaabbbbbbbbbbbbbbbbbbbbbbbbbbbbbbbbbbbbbbbbbbbbbbb', 0), ('aaaaaaaaaaaaaaaabbbbbbbbbbbbbbbbcccccccccccccccc', 1), ('aaaaaaaaaaaaaaaaaaaaaaaaaaaaaaaaaaaaaaaaaaaaaaaaaaaaaaaaaaaaaaaaaaaaccccccccccccccccccccccccccc', 0), ('aaaaaaaaaaaaaaabbbbbbccccccccccc', 0), ('aaaaaaaaaaaaaaaaaabbbbbbbbbbbbbbbbbbcccccccccccccccccc', 1), ('aaaaaaaaaaaaaaaaaaaaaaaaaaaaaaaaaaaaaaaaaaaaaabbbbbbbbbbbbbbbbbbbbbbbbbbbbbbbbbbbbbbbb', 0), ('aaaaaaaaaaaaaaaaaaaaaaaaaaaaaaaaaaaaaaaaaaaaaaaaaaaaaaaaaaaaaaaaaaaaaaaaaaaaaaaaaaaaaaaaaaaaaaaaaaa', 0), ('aaaaaaaaaaaaaaaaaaaaaaaaaaaaaaaaaaabbbbbbbbbbbbbbbbbbbbbbbbbbbbbbbbbbbbbbbbbbbbb', 0), ('aaaaaaaaaaaaaaaaaaaaaaaaaaaaaabbbbbbbbbbbbbbbbbbbbbbbbbbbbbbbbbbbbbbbbbbbbbbbbbbbbbbbb', 0), ('aaaaaaaaaaaaaaaaaaaaaaaaaabbbbbbbbbbbbbbbbbbbbbbbbbbbbbbbbbbbcccccccccccccccccccccccc', 0), ('aaaaaaaaaaaaaaaaaaaaaaaaaaaaabbbbbbbbbbbbbbbbbbbbbbbbbbbbbbbbbbbbbbbbbbbbbbbbbb', 0), ('aaaaaaaaaaaaaaaaaaaaaaaaaaaaaaaaaaaaaaaaaaaaaaaaaaaaaaaaaaaaaaaaaaaaaaaaaaaaaaabbbbbbbbbbbbbbbbbbbb', 0), ('aaaaaaaaaaaabbbbbbbbbbbbbbbbbbbbbbbbbbbbbbbbbbbbbbbbbbbbbbbbbbbbbbbbbbbbbbbbbbbbbbbbbbbbbbbb', 0), ('aaaaaaaaabbbbbbbbbbbbbbbbbbbbbbbbbbbbbbbbbbbbbcccccccccccccccccccccccccc', 0), ('aaaaaaaaabbbbbbbbbbbbbbbbcccccccccccccccccc', 0), ('aaaaaaaaaaaaaaaaaaaaaaaaaaaaaaaaaaaaaaaaabbbbbbbbbbbbbbbbbbbbbbbbbbbbbbbbbbbbbccccccccccccccccccccc', 0), ('aaaaaaaaaaaaaaaaaaaaaaaaaaaaaaaaaaaaaaaaaaabbbbbbbbbbbbbbbbbbbbbbbbbbbbbbbbbbbbbbbbbbbbbbbb', 0), ('aaaaaaaaaaaaaaaaaaaaaaaaaaaaaaaaaaaaaaaaaaaaaaaaaaaaaaaaaaaaaaaaaaaaaaaaaabbbbbbbbbbbb', 0), ('aaaaaaaaaaaaaaaaaaaaaaaabccccccccccccccccccccccccccccccccccccccccccccc', 0), ('aaaaaaaaaaaaaaaaaaaaaaaaabbbbbbbbbbbbbbbbbbbbbbbbbccccccccccccccccccccccccc', 1), ('bbbbccccccccccccccccccccccccccccccccccccccccccccccccccccccccccccccccc', 0), ('aaaaaaabbbbbbbccccccc', 1), ('aaaaaaaaaaaaaaaaaaaaaaaaabbbbbbbbbbbbbbbbbbbbbbbbbccccccccccccccccccccccccc', 1), ('aaaaaaaaaaaaaaaaaaaaaaaaaaaaaaaaaaaaaaaaaaaaaaaaaaaaaaaaaaaaaaaaaaaaaaabbb', 0), ('aaaaaaaaaaaaaaaaaaaaaaaaaaaaaaaaaaaaaaaaaaaaaaaaaaaaaaaaaaaaaaaaaaaaaaaaaaaaaaabbbbbbbbb', 0), ('aaaaaaaaaaaaaabbbbbbbbbbbbbbcccccccccccccc', 1), ('bbbbbbbbbbbbbbbbbbbbbbbbbbbbbbbbbbbbbbbbbbbbbbbbbbbbbbbbbbbbb', 0), ('aaaaaaaaaaaaaaaaaaaaaaaaaaaaabbbbbbbbbbbbbbbbbbbbbbbbbbbbbbbbbbbbbbbbbbbbbb', 0), ('aaaaaaaaaaaaaaaaaaaaaaaaaaaaaaaaaaaaaaaaaaaaaaaaaaaaabbbbbbbbbbbbbbbbbbbbbbbbbbbbbbbbbbbbbbbbb', 0), ('aaaaaaaaaaaaaaaaaaaaaaaaaaaaaaaaaaaaaaabbbbbbbbbbbbbbbbbbbbbbbbbbbbbbbbbbbbbbbbbbbbbbbb', 0), ('aaaaaaaaaaaabbcccccccccccccccccccccccccccccccccccccc', 0), ('aaaaaaaaaaaaaaaaaaaaaaaaaaaaaaaaaaaaaaaaaaaaaaaaaaaaaaaaaaaaaaaaaaaaaaaaaaaaaaaaaaaaaaaaabbbbbb', 0), ('aaaaaaaaaaaaaaabbbbbbbbbbbbbbbbbbbbbbbbbbbbbbbbbbbbbbbbbbbbbbbbbbbbbb', 0), ('aaaaaaaaaaaaaaaaaaaaaaaaabbbbbbbbbbbbbbbbbbbbbbbbbccccccccccccccccccccccccc', 1), ('aaaaaaaaaaaaaaaaaaaaaaaaaaaaaaaaaaaaaaaaaaaaaaaaaaaaaaaaaaaaaaaaaaaabbbbbbb', 0), ('aaaaaaaaaaaaaaaaaaaaaaaaaaaaaaaaaaaaaaaaaaaaaaaaaaaaaaaaaaaabbbbbbbbbbbbbbbbbbbbbbbbbbbbb', 0), ('aaaaaaaaaaaaaaaaaaaaaaaaabbbbbbbbbbbbbbbbbbbbbbbbbccccccccccccccccccccccccc', 1), ('aaaaaaaaaaaaaaabbbbbbbbbbbbbbbccccccccccccccc', 1), ('aaaaaaaaaaaaaaaaaaabbbbbbbbbbbbbbbbbbbbbbbbbccccccccccccccccccccccccccccccccccccccccccccc', 0), ('bbbbbbbbbbbbbbbbbbbbbbbbbbbbbbbbbbbbbbbbbbbbbbbbbbbbbbcccccccccc', 0), ('aaaaaaaaaaaaaaaaaaaaaaaaaaaaaabbbbbbbbbbccccccccccccccccccc', 0), ('aaaaaaaaaaaaaaaaaaaaaaaaaaaaaaaaaaaaaaaaaaaaaaaaaaaaaaaaaaaaaaaaaaaaaaaaaaaaaaaaaaaaabbbccccc', 0), ('aaaaaaaaaaaaaaaaaaaaaaaaaaaaaaaaaaaaaaaaaaaaaaaaaaaaaaaaaaaaaaaaabbbbbbbbbbbbbbbbbbbbbbbbbbbbbbb', 0), ('aaaaaaaaaaaaaaaaaaaaaaaaaaaaaaaaaaaaaaaaaaaaaaaaaaaaaaaaaaaaaaaaabbbbbbbbbbbb', 0), ('aaaaaaaaaaaaaaaaaaaaaaaaaaaaaaaaaaaaaaaaaaaaaaaaabbbbbbbbbbbbbbbbbbbbbbbbbbbbbb', 0), ('bbbbbbbbbbbbbbbbbbbbbbbbbbbbbbbbbbbbbbbbbbbbbbbbcccccccccccccccccccccccccccccccccccccccccccccc', 0), ('aaabbbbbbbbbbbbbbbbbbbbbbbbbbbbbbbbbbbbbbbbbbbbbbbbbbbbbbbbbbbbb', 0), ('aaaaaaaaaaaaaaaaaaaaaaaaaaaaaaaaaaaaaaaaaaaaaaaaaaaaaabbbbbbb', 0), ('aaaaaaaaaaaaaaaaaaaaaaaaaaaaaaaaaaaaaaaaaaaaaaaaaaaaaaabbbbbb', 0), ('aaaaaaaaaaaaaaaaaaaaaabbbbbbbbbbb', 0), ('aaaaaaaaaaaaaaaaaaaaaaaaaaaaaaaaaaaaaaaaaaaaaaaaaaaaaaaaabbbbbbbbbbbbb', 0), ('aaaaaaaaaaaaaaaaaaaaaaaaaaaaaaaaaaaaaaaaaaaaaaaaaaabbbbbbbbbbbbbbbbbbbbbbbbbbbbbbbbccc', 0), ('aaaaaaaaaaaaaaaaaaaaaaaaaaaaaaaaaaaaaaaaaaaaaaaaaaaaaaaaaaaaabbbbbbbbbbbbbbbb', 0), ('aaaaaaaaaaaaaaaaaaaaaaaaaaaaaaaaaaaaaaaaaaaaaaaaaaabbbbbbbbbbbbbbbbbbbbbbbbbbbbbbbbbbbbbbbbbbbbb', 0), ('aaaaaaaaaaaaaaaaaaaaaaaaaaaaaaaaaaaaaaaaaaaaaaaaaaaaaaaaaaaaaaaaaaaaaaaaaaaaaaaaaaaaabbbbbbbb', 0), ('aaaaaaaaaaaaaaaaaaaaaaaaaaaaaaaaaaaaaaaaaaaaaaaaaaaaaaaaaaaaaaaaaaaaaaaaaaaaaaaaaaaaaaaabbbbbbbbbbb', 0), ('bbbbbbbbbbbbbbbbbbbbbbbbbbbbbbbbbbbbbbbbbbbbbbbbbbbbbbbbbbbbbbbbbbbbbbbb', 0), ('aaaaaaaaaaaaaaaaaaaaaaaaaaabbbbbbbbbbbbbbbbbbbbbbbbbbbbbbbbbbbbbbbbbbbbbbbbbbbbbbbbbbbbb', 0), ('aaaaaaaaaaaabbbbbbbbbbbbbbbbbbbbbbbbbbbbbbbbbbbbbbbbbbbbbbbbbbbbbbbbbbbb', 0), ('aaaaaaaaaaaaaaaaabbbbbbbbbbbbbbbbbccccccccccccccccc', 1), ('aaaaaaaaaaaaaaaaaaaaaaaaaaaaaaaaaaaaaaaaaaaaaaaaaaaaaaaaaaaaabbbbbbbbbbbbbbb', 0), ('aaaaaaaaaaaaabbbbbbbbbbbbbccccccccccccc', 1), ('aaaaaaaaaaaabbbbbbbbbbbbbbbbbbbbbbbbbbbbbbbbbbbbbbbbbbbbbbbbbbbbbbbbbbbbbbbbbbbbbb', 0), ('aabbbbbbbbbbbbbbbbbbbbbbbbbbbbbbbbbbbbbbbbbbbbbbbbbbbbbbbbbbbbbbbbbbbbbbbbbbbbbbbbb', 0), ('aaaaaaaaaaaaaaaaaaaaaaaaaaaaaaaaaaaaaaaaaaaaaaaaaaaaaaaaaaaaaaaaaaaaaaaaaaaaaaaaaaaaaaaaaaaaaaaaab', 0), ('aaaaaaaaaaaaaaaaaabbbbbbbbbbbbbbbbbbcccccccccccccccccc', 1), ('aaaaaaaaaaaaaaaabbbbbbbbbbbbbbbbbbbbbbbbbbbbbbbbbbbbbbbbbbbbbbbbbbbbbbbbbbbbbbbbbbbbbbbbbbbb', 0), ('aaaaaaaaaaaaaaaaaaaaaaaaaaaaaaaaaaaaaaaaaaaaaaaaaaaaaaaaaaaaaaaaaaaabbbbbbbbbbbbbbbbbbbbb', 0), ('aaaaaaaaaaaaaaaaaabbbbbbbbbbbbbbbbbbcccccccccccccccccc', 1), ('bbbbbbbbbbbbbbccccccccccccccccccccccccccccccccccccccccccccccc', 0), ('aaaaaaaaaaaaaaaaaaaaaaaaabbbbbbbbbbb', 0), ('aaaaaaaaaaaaaaaaaaaaaaaaaaaaabbbbbbbbbbbbbbbbbbbbbbbbbbbbbccccccccccccccccccccccccccccc', 1), ('aaaabbbbbbbbbbbbbbbbbbbbbbbccccccccccc', 0), ('aaaaaaaaaaaaaaaaaaaaaaaaaaaaaaaaaaaaaaaaaaaaaaaaaaaaaaaaaaaaaaaaaaaaaaaaaaaaaaaaaaaaaaaaaaaaaaabb', 0), ('aaaaaaaaaaaaaaaaaaaaaaaaabbbbbbbbbbbbbbbbbbbbbbbbbbbbccccccccccccccccccccccccccccccccc', 0), ('aaaaaaaaabbbbbbbbbccccccccc', 1), ('aaaaaaaaaaaaaaaaaaaaaaaaaaaaaaaaaaaaaaaaaaaaaaaaaaaabbbbbbbbbbbbbbbbbbbbb', 0), ('aaaaaaaaaaaaaaaaaaaaaaaaaaaaaaaaaaaaaaaaaaaaaaaaaaaaaaaaaaaaaaaaaaaaaabbbbbbbbbbbbbbbbbbbbbbbbbbbbbb', 0), ('aaaaaaaaabbbbbbbbbbbbbbbbbbbbbbbbbbbbbbbbbbbbbbbbbbbbbbbbbbbbbbbbbbbbbbbbbb', 0), ('aaaaaaaaaaaaaaaaaaaaaaaaaaaaaaaaaaaaaaaaaaaaaaaaaaaaaaaaaaaaaaaaaaaaaaaaaabbbbbbbbbbbbbc', 0), ('aaaaaaaaaaaaaaaaaaaabbbbbbbbbbbbbbbbbbbbbbbbbbbbbbbbbbbbbbbbbbbbbbbbbbbbbbbbbbbbbbbbbbbbbbbbbbbbbbb', 0), ('aaaaaaaaaaaaaaaaaaaaaabbbbbbbbbbcccccccccccccccccccccccccccccccccccc', 0), ('aaaaaaaaaaaaaaaaaaaaaaaaaaaaaaaaaaaaaaabbbbbbbbbbbbbbbbbbbbbbbbbbbbbbbbbb', 0), ('aaaaaaaaaaaaaaaaaaabbbbbbbbbbbbbbbbbbbccccccccccccccccccc', 1), ('aaaaaaaaaaaaaaaaaaaaaaaaaabbbbbbbbbbbbbbbbbbbbbbbbbbcccccccccccccccccccccccccc', 1), ('aaaaaaaaaaaaaaaaaaaaaaaaaaaabbbbbbbbbbbbbbbbbbbbbbbbbbbbcccccccccccccccccccccccccccc', 1), ('aaaaaaaaaaaaaaaaaaaaaaaaaaaaaaaaaaaaaaaaaaaaaaaaaaaaaaaaaaaaaaaaaaaaaaaaaaaaaaaaaaaaaabbbbbbbbb', 0), ('aabbbbcccccccccccccccccccc', 0), ('aaaaabbbbbbbbbbbbcccccccccccccccc', 0), ('aaaaaaaaaaaaaaaaaaaaaaaaaaaaaaaaaaaaaaaaaaaaaaaaaaaaaaaaaaaaaaaaaaaaaaaaaaaaaaaaaaabbbbbbbbb', 0), ('aaaaaaaaaaaaaaaaaaaaaaaaaaaaaaaaabbbbbbbbbbbbbbbbbbbbbbbbbbbbbbbbbccccccccccccccccccccccccccccccccc', 1), ('aaaaaaaaaaaaaaaaaaaaaaaaaaaaaaaaaaaaaaaaaaaaaaaaaaaaaaabbbbbbbbbbbbbbbbbbbbbbbbbbbbbbbbbbbbb', 0), ('aaaaaaaaaaaaaaaaaaaaaaaaaaaaaaaaaaaaaaaaaaaaaaaaaaaaaaaaaaaaaaaaaaaaaaaabbbbbbbbbbbb', 0), ('aaaaaabbbbbbbbbbbbbbbbbbbbbbbbbbbbbbbbbbbbbbbbbbbbbbbbbbbbbbbbbbbbbbbbbbbbbbbbbbbbbbbbbbbbbbbb', 0), ('aaaaaaaaaaaaaaaaaaaaaaaaaaaaaaaaaaaaaaaaaaaaaaaaaaaaaaaaaaaaabbbbbbbbbbbbbbbbbbbb', 0), ('aaaaaaaaaaabbbbbbbbbbbbbb', 0), ('aaaaaaaaaaaaaaaaaaaaaaaaaaaaaaaaaaaaaaaaaaaaaaaaaaaaaaaaaaaaaaaaaaaaaaaaaaaaaaaaaaaaaaaaaaaaaaabb', 0), ('aaaaaaaaaaaaaaaaaaaaaaaaaaaaaaaaaaaaaaaaaaaaaaaaaaaaaaaaaaaaaaaaaaaaaaaaaaaaaaaaaaaaaaaaaaaaaaaabbbb', 0), ('aaaaaaaaaaaaaaaaaaaaabbbbbbbbbbbccccccccccccccccccccccccccccccccccccccccccccccccccccccc', 0), ('aaaaaaaaaaaaaaaaaaaaaaaaaaaaaaabbbbbbbbbbbbbbbbbbbbbbbbbbbbbbbccccccccccccccccccccccccccccccc', 1), ('bbbbbbbbbbbbbbbbbccccccccccccccccccccccccccccccccccccccccccc', 0), ('aaaaaaaaaaaaaaaaaaaaaaaaaaaaaaaaabbbbbbbbbbbbbbbbbbbbbbbb', 0), ('aaaaabbbbbbbbbbbbbbbbbbbbbbcccccccccccccccccccc', 0), ('aaaaaaaaaaaaaaaaaaaaaaaaaaaaaaaaaaaaaaaaaaaaaaaaaaaaaaaaaaaaaaaaaaaaaaaaaaaaabbbbbbbbbbbbbbbbbbbb', 0), ('aaaaaaaaaaaaaaaaaaaaaaaaaaaaabbbbbbbbcccccccccccccccccccccccccccccccccccccccc', 0), ('aaaaaaaaaaaaaaaaaaaaaaaaaaaaaaaaaabbbbbbbbbbbbbbbbbbbbbbbbbbbbbbbbbbbb', 0), ('aaaaaaaaaaaaaaaaaaaaaaaaaaaaaaaaaaaaaaaaaaaaaaaaaaaaaaaaaaaaaaaaaaaaaaaaaaaabbbbbbbbbbbb', 0), ('aaaaaaaaaaaaaaaaaaaaaaaaaaaaaaaaaaaaaaaaaaaaaaaaaaaaaaaaaaaaaaaaaaaaaaaaaaaaaaaaaaaaabbbbbbbbbbbbb', 0), ('aaaaaaaaaaaaaaaaaaaaaaaaaaaaaaaaaaaaaaaaaaaaaaaabbbbbbbbbbbbbbbbb', 0), ('aaaaaaaaaaaaaaaaaaaaaaaaaaaaaaaaaaaaaaaaaaaaaaaaaaaaaaaaaaaaaaaaaaaaaaaaaaaaabbbbbbbbbbbbbbbb', 0), ('aaaaaaaaaaaaaaaaaaaabbbbbbbbbbbbbbbbbbbbbbbbbbbbbbbbbbbbbbbb', 0), ('aaaaaaaaaaaaaaaaaaaaaaaaaaaaaaaaaaaaaaaaabbbbbbbbbbbbbbbbbbbbbbbbbbbbbbbbcccccccccc', 0), ('aaaaaaaaaaaaaaaaaaaaaaaaaabbbbbbbbbbbbbbbbbbbbbbbbbbbbbbbbbbbbbbbbbbbbbbbbbbbbbbbbbbbbbbb', 0), ('aaaaaaaaaaaaaaaaaaaaaaaaaaaaaaaaaaaaaaaaaaaaaaaaaaaaaaaaaaaaaabbbbbbbbbbbbbbbbbbbbbbbbbccc', 0), ('aaaaaaaaaaabbbbbbbbbbbbbbbbbbbccccc', 0), ('aaaaaaaaaaaaaaaaaaaaaaaaaaaaaaaaaaaaaaaabbbbbbbbbbbbbbbbbbbbbbbbbbbbbbbb', 0), ('aaaaaaabbbbbbbbbbbbbbbbbbbbbbbbbbbbbbbcccccccccccccc', 0), ('aaaaaaabbbbbbbccccccc', 1), ('aaaaabbbbbbbbbbbbbbbbbbbbbbbbbbbbbbbbbbbcccccccccccccccccccccccccccccc', 0), ('aaaaaaaaaaaaaaaaaaaaaaaaaaaaaaaaaaaaaaaaaaaaaabbbbbbbbbbbbbbbbbbbbbbbbb', 0), ('aaaaaaaaaaaaaaaaaaaaaaaaaaaaaaaaaaaaaabbbbbbbbbbbbbbbbbbbbbbbbbb', 0), ('aaaaaaaaaaaaaaaaaaaaaaaaaaaaaaaabbbbbbbbbbbbbbbbbbbbbbbbbbbbbbbbbbbbbbbbbbb', 0), ('aaaaaaaaaaaaaaaaaaaaaaaaaaaaaaaabbbbbbbbbbbbbbbbbbbbbbbbbbbbbbbbbbbbbbbbbbb', 0), ('aaaaabbbbbbbbbbbbbbbbbcccccccccccccccccccccccc', 0), ('aaaaaaaaaaaaaaaaaaaaaaaaaaaaaaaaaaaaaaaaaaaaaaaaaaaaaaaaaaaaaaaaaaaaaaaaaaaaaaaabbbbbbb', 0), ('aaaaaaaaaaaaaaaaaaaaaaaaabbbbbbbbbbbbbbbbbbbbbbbbbccccccccccccccccccccccccc', 1), ('aaaaaaaaaaaaaaaaaaaaaaaaaaaaaaaaaaaaaaaaaaaaaaaaaaaaaaaaaaaaaaaaaaaaaaaaaaaaaaaaaaaaaaaaaaaaaaabbb', 0), ('aaaaaaaaaaaaaaaaaaaaaaaaaaaaaaaaaaaaaaaaaaaaaaaaaaaaaaaaaaaaaaaaaaaaaaaaaaaaaaaaaaaabbbbbbbbbbbbbbb', 0), ('aaaaaaaaaaaaabbbccccccccccccccccccccccccccccccccccccccccccccccccccccccccccccc', 0), ('aaaaaaaaaaaaaaaaabbbbbbbbbbbbbbbbbbbbbbbbbccccccccccccccccc', 0), ('aaaaaaaaaaaaaaaaaaaaaaaabbbbbbbbbbbbbbbbbbbbbbbbbbbbb', 0), ('aaaaaaaaaaaaaaaaaaaaaaaaaaaaaaaaaaaaaaaaaaaaaaaaaaaaaaaaaaaaaaaaaaaaaaaaaaaaaaaabbbbbbbbbbbbbbbbb', 0), ('aaaaaaaaaaaaaaaaaaaaaaaaaaaaaaaaaaaaaaaaaaaaaaaaaaaaaaaaaaaaaaaaaaaaaaaaaaaaaaaaaaaaaaaaaaaaaaab', 0), ('aaaaaaaaaaaaaaaaaaaaaaaaaaaaaaaaaaaaaaaaaaaabbbbbbbbbbbbbbbbbbbbbbbbbbbbbbbbbbbbbbbbbbbbbbbbbbbbbbbb', 0), ('aaaaaaaaaaaaaaaaaaaaaaaaaaaaaaaaaaaaaaaaaaabbbbbbbbbbbbbbbbbbbbbbbbccccccccccccccccccccccccc', 0), ('aaaaaaaaaaaaaaaaaaaaaabbbbbbbbbbbbbbbbbbbbbbcccccccccccccccccccccc', 1), ('aaaaaaaaabbbbbbbbbbbbbbbbbbbbbbbbbbbbbbbbbbbbbbbbbbbbbbbbbbbbbbbbbbbbbbbbbbbbbbbbbbbbbbbbbbbbbbb', 0), ('aaaaaaaaaaaaaaaaaaaaaaaaaaaaabbbbbbbbbbbbbbbbbbbbbbbbbbbbbccccccccccccccccccccccccccccc', 1), ('aaaaaaaaaaaaaaaaaaaaaaabbbbbbbbbbbbbbbbbbbbbbbbbbbbbbbbbbbcc', 0), ('aaaaaaaaaaaaaaaaaaaaaaaaaaaaaaaaaaaaaaaaaaaaaaaaaaaaaaaaaaaaaaaaaaaaaaaaaaaaaaaaaaaaaabbbbbbbbbbbbbb', 0), ('aaaaaaaaaaaaaaaaaaaaaaaaaaaaaaaaaaaaaaaaaaaaaaaaaaaaaaaaaaaaaaaaaaaaaaaabbbbbbbbbbbbbbcc', 0), ('aaaaaaaaaaaaaaaaaaaaaaaaaaaaaaaaaaaaaaaaaaaaaaaaaaaaaaaaaaaaaaaaaaaaaabbbbbbbbbbbbbbbbbbb', 0), ('aaaaaaaaaaaaaaaaaaaaaaaaaaaaaaaaaaaaaaaaaaaaaaaaaaaaaaaaaaaaaaaaabbbbbbbbbbbbbbbbbbbbbbbbbbbb', 0), ('aaaaaaaaaaaaaaaaaaaaaaaaaaaaaaaaaaaaaaaaaaaaaaaaaaaaaaaaaaaaaaaaaaaaaaaaaaaaabbbbbbbbbbb', 0), ('aaaaaaaaaaaaaaaaaaaaaabbbbbbbbbbbbbbbbbbbbbbcccccccccccccccccccccc', 1), ('aaaaaaaaaaaaaaaaaaaaaaaaaaaaaaaabbbbbbbbbbbbbbbbbbbbbbbbbbbbbbbbbbbbbbbbbbbbb', 0), ('aaaaaaaaaaaaaaaaaaaaaabbbccccccccccccccccccccccccccccccc', 0), ('aaaaaaaaaaaaaaaaaaaaaaaaaaaaaaaaaaaaaaaaaaaaaaaaaaabbbbbbbbbbbbbbbbbbbbcc', 0), ('aaaaaaaaaaaaaaaaaaaaaaaaaaaaaaaaaaaaaaaaaaaaaaaaaaaaaaaaaaaaaaaaaaaaaaaaaaaaaaaaaaaaaaaaaaabbb', 0), ('aaaaaaaaaaaaaabbbbbbbbbbbbbbcccccccccccccc', 1), ('aaaaaaaaaaaaaaaaaaaaabbbbbbbbbbbbbbbbbbbbbbbbbbbbbbbbbbbbbb', 0), ('aaabbbbbbbcccccccccccccccccccccccccccccccccccccccccccccccccccccccccccccc', 0), ('aaaaaaaabbbbbbbbbbccccccccccccccccccccccccccccccccccccccccccccccccccccccccccccccccc', 0), ('aaaaaaaaaaaaaaaaaaaaabbbbbbbbbbbbbbbbbbbbbbbbbbbbbbbbbb', 0), ('aaaaaaaaaaaaaaaaaaaaaaaaaaaaaaaaaaaaaaaaaaaaaaaaaaaaaaaaaaaaabbbbbbbbbbbbbbbbbbbbbbbbbbbbbbbbb', 0), ('aaaaaaaaaaaaaaaaaaaabbbbbbbbbbbbbbbbbbbbcccccccccccccccccccc', 1), ('aaaaaaaaaaaaaaaaaaaaaaaaaaabbbbbbbbbbbbbbbbbbbbbbbbbbbbbbbbbbbbbbbbbcccccccccccccccccccccc', 0), ('bccccccccccccccccccccccccccccccccccccccccccccccccccccccccccccccccc', 0), ('aaaaaaaaaaaaaaaaaaaaaaaaaaaaaaaaaaaaaaaaaaaabbbbbbbbbbbbbbbbbbbbbbbbbbbbbbbbbbbbbbbbbbbbbbbbbbbbbb', 0), ('aaaaaaaaaaaaaaaaaaaaaaaaaaaaaaaaabbbbbbbbbbbbbbbbbbbbbbbbbbbbbbbbbccccccccccccccccccccccccccccccccc', 1), ('aaaaaaabbbbbbbccccccc', 1), ('aaaaaaaaaaaaaaaaaaaaaaaaaaaaaaaaaaaaaaaaaaaaaaaaaaaaaaaaaaaaaaaaaabbbbbbbbbbbbbbbbbbbbbbbbbbbbbcc', 0), ('aaaaaaaaaaaaaaaaaaaaaaaaaaaaaaaaaaaaaaaaaaaaaaaaaaaaaaaaaaaaaaaaaaaaaaaaaaabbbbbbbbbbbb', 0), ('aaaaaaaaaaaaaaaaaaaaaaaaaaaaaaaabbbbbbbbbbbbbbbbbbbbbbbbbbbbbbbbcccccccccccccccccccccccccccccccc', 1), ('aaaaaaaaaaaaaaaaaaaaaaaaaaaaaabbbbbbbbbbbbbbbbbbbbbbbbbbbbbbbbbbbbbbbbbbbbbbbbbbbbbbb', 0), ('aaaaaaaaaaaaaaaaaaaaaaaaaaaaaaaaaaaaaaaaaaaaaaaaaaaaaabbbbbbb', 0), ('aaaaaaaaaaaaaaaaaaaaaaaaaaaaaaaaaaabbbbbbbbb', 0), ('aaaaaaaaaaaaaaaaaaabbbbbbbbbbbbbbbbbbbccccccccccccccccccc', 1), ('aaaaaaaaaaaaaaaaaaaaaaaaaabbbbbbbbbbbbbbbbbbbbbbbbbbbbbbbbbbbbbbbbbbbbbbbbbbbbbbccccccccccc', 0), ('aaaaaaaaaaaaaaaaaaaaaaaaaaaaaaaaaaaaaaaaaaaaaaaaaaaaaaaaaaaaaaaaaaaaaaaaaaaabbbbbbbbbbbbbbbbbbbbb', 0), ('aaaaaaaaaaaaaaaaaaaaaaaaaaaaaaaaaaaaaaaaaaaaaaaaaaaaaaaaaaaaaaaaaaaaaaaaaaaaaaaaaaaaaaaaaab', 0), ('aaaaaaaaaaaaaaaaaaaaaaaaaaaaaaaaaaaaaaaaaaaaaaaaaaaaaaaaaabbb', 0), ('aaaaaaaaaaaaaaaaaaaaaaaaaaaaaaaaaaaaaaaaaaaaaaaaaaaaaaaaaaaaaaaaaaaaaaaaaaaaaaaaaaaabbbb', 0), ('aaaaaaaaaaaabbbbbbbbbbbbcccccccccccc', 1), ('aaaaaaaaaaaaaaaaaaaaaaaaaaaaaaaaaaaaaaaaaaaaaaaaaaaaaaaaaaaabbbbbbbbbbbbbbbbbbbbbbbbbbbbbbbbbbbbbbbb', 0), ('aaaaaaaaaaaaaaaaaaaaaaaaaaaaaaaaaaaaaaaaaaaaaaaaaaaaaaaaaaaaaaaaaaaaaaaaaaaaaaaaaaaaabbbbb', 0), ('aaaaaaaaaaaaaaaaaaaaaaaaaaaaaaaaaaaaaaaaaaaaaaaaaaaaaaaaaaaaaaaaaaaaaaaaaaaaaaaaaaaaaaaaaaaaaaaabb', 0), ('aaaaaaaaaaaaaaaaaaaaaaaaaaaaaaaaaaaaaaaaaaaaaabbbbbbbbbbbbbbbbbbbbbbbbbbbbbbbbbbbbbb', 0), ('aaaaaaabbbbbbbbbbbbbbbbbbbbbbbbbbbbbbbbbbbbbccccccccccccccccccccccccccccccccccccccccccccccccc', 0), ('aaaaaaaaaaaaaaaccccccccccccccccccccccccccccccccccc', 0), ('aaaaaaaaaaaaaaaaaaaaaaaaaaaaaaaaaaaaaaaaaaaaaaaaaaaabbbbbbbbbbbbbbbbbbbbbbbbbbbbbbbbbbbbbbbbccccccc', 0), ('aaaaaaaaaaaaabbbbbbbbbbbbbbbbbbbbbbbbbbbbbbbbbbbbbbbbbbbbbbbbbbbbbbbbbccccccccccccccccccccc', 0), ('aaaaaaaaaaaaaaaaaaaaaaaaaaaaaaaaaaaaaaaaaaabbbbbbbbbbbbbbbbbbb', 0), ('aaaaaaaaaaaaaaaaabbbbbbbbbbbbbbbbbbbbbbbbbbbbbbbbbbbbbbbbbbbbbbbbbbbbbbbbcccccccccccccccccccccc', 0), ('aaaaaaaaaaaaaaaaaaaaaaaaaaaabbbbbbbbbbbbbbbbbbbbbbbbbbbbbbbbbbbbcccccccccccccccccccccc', 0), ('aaaaaaaaaaaaaaaaaaaaaaaaaaaaaaaaaaaaaaaaaaaaaaaaaaaaaaaaaaaaaaaaaaaaaaabbbbbbbbbbbbbbbbbbb', 0), ('aaaaaaaaaaaaaaaaaaaaaaaaaaaaaaaaaaaaaaaaaaaaaaaaaaaaaaaaaaaaaaaaaaaaaaaabbbbbbbbbbbbbbbbbbbbbbb', 0), ('aaaaaaaaaaaaaaaabbbbbbbbbbbbbccccccccc', 0), ('aaaaaaaaaaaaaaaaaaaaaaaaaaaaaaaaaaaaaaaaaaaaaaaaaaaacccccccccccccccccccccccc', 0), ('aaaaaaaaaaaaaaaaaaaaaaaaaaaaaaaaaaaaaaaaaaaaaaaaaaaaaaaaaaaaaaaaaaaaaaaaaaaaaaaaaaaaaaaaaaaaaabbbbbb', 0), ('aaaaaaaaaaaaaaaaaaabbbbbbbbbbbbbbbbbbbbbbbbbbbbbbbbbbbcccccccccccccccccccccccccccccccccccc', 0), ('aaaaaaaaaaaaaaaaaabbbbbbbbbbbbbbbbbbcccccccccccccccccc', 1), ('aaaaaaaaaaaaaaaaaaaaaaaaaaaaaaaaaaaaabbbbbbbbbbbbbbbbbbbbbbbbbbbbbbbbbbbbbbbbccccccccccccccccccccccc', 0), ('aaaaaaaaaaaaaaaaaaaaaaaaaaaaaaaaaaaaaaaaaaaabbbbbbbbbbbbbbbbbbbbbbbbbbbbbbbbbbbbbbbbbbbbbbbbbbbbb', 0), ('aaaaaaaaaaaaaaaaaaaaaaaaaaabbbbbbbbbbbbbbbbbbbbbbbbbbbccccccccccccccccccccccccccc', 1), ('aaaaaaaaabbbbbbbbbbbbbbbbbbbbbbbbbbbbbbbbbbbbbbbbbbbbbbbbcccccccccccccccccccccccccccccccc', 0), ('aaaaaaaaaaaaaaaaaabbbbbbbbbbbbbbbbbbbbbbbbbbb', 0), ('aaaaaaaaaaaaaaaaaaaaaaaaaaaaaaaaaaaaaaaaaaaaaaaaabbbbbbbbbbbbbbbbbbbbbbbbbbbbbbbbb', 0), ('aaaaaaaaaaaaaaaaaaaaaaaaaaaaaaaaaaaaaaaaaaaaaaaaaaaaaaaaaabbbbbbbbbbbbbbbbbbbbbbbccccccccccccc', 0), ('aaaaaaaaaaaaaaaaaaaaaaaaaaaaaaaaaaaaaaaaaaaaaaaabbbbbbbbbbbbbbbbbbbbbbbbbbbbbbbbbb', 0), ('aaaaaaaaaaaaaaaaaaaaaaaaaaaaabbbbbbbbbbbbbbbbbbbbbbbbbbbbbbbbbbbbbbbbbbbbbbbbbbbbbbbbb', 0), ('aaaaaaaaaaaaaaaaaaaaaaaaaaaaaaaaaaaaaaaaaaaaaaaaaaaaaaaaaaaaaaaaaaaaaaaaaaaaaaaaaaaaaaaaaabbbbbbbb', 0), ('aaaabbbbbbbbbbbbbbbbbbbbbbbbbbbccccccccccccccccccc', 0), ('aaaaaaaaaaaaaaabbbbbbbbbbbbbbbccccccccccccccc', 1), ('aaaaaaaaaaaaaaaaaaabbbbbbbbbbbbbbbbbbbccccccccccccccccccc', 1), ('aaaaaaaaaaaaaaaaaaaaaabbbbbbbbbbbbbbbbbbbbbbcccccccccccccccccccccc', 1), ('aaaaaaaaaaaaaaaaaaaaaaaaaaaaaaaaaaaaaaaaaaaaaaaaaaaaaaaaaaaaaaaaaaaaaaaabbb', 0), ('aaaaaaaaaaaaaaaaaaaaaaaaaaaaaaaaaaaaaaaaaaaaaaaccccccccccccccccccccccccccccccccccccccc', 0), ('aaaaaaaaaaaaaaaaaaaaaaaaaaaaaabbbbbbbbbbbbbbbbbbbbbbbbbbbbbbbbbbbbbbbbbbbbbbbbbbbbbbbbbbbbbbb', 0), ('aaaaaaaaaaaaaaaaaaaaaaaaaaaaaaaaaaaaaaaaaaaaaaaaaaaaaaaaaaaaaaaaaaaaaaaaaaabbbbbbbbbbbbbbbbbb', 0), ('aaaaaaaaaaaaaaaaaaaaaaaaaaaaabbbbbbbbbbbbbbbb', 0), ('aaaaaaaaaaaaaaaaaaaaaaaaaaaaaaaaaaaaaaaaaaaaaabbbbbbbbbbbbbcccccccccccc', 0), ('aaaaaaaaaaaaaaaaaaaaabbbbbbbbbbbbbbbbbbbbbccccccccccccccccccccc', 1), ('aaaaaaaaaaaaabbbbbbbbbbbbbbbbbbbbbbbbbbbbbbbbbbbbbbbbbbbbbbbbbbbbbbbbbbbbbbbbbbbbbbbbbbbbbbbbbbbbbb', 0), ('aaaaaaaaaaaaaabbbbbbbbbbbbbbcccccccccccccc', 1), ('abbbbbbbbbbbbbcccccccccccccccccccc', 0), ('aaaaaaaaaaaaaaaaaaaaaaaaaaaaaaaaaaaaaaaaaaaaaaaaaaaaaaaaaaaaaaaaaaabbbbbbbbbbbbbbbbbbbbbcccccc', 0), ('aaaaaaaaaaaaaaaaaaaaaaaaaaaaaaaaaaaaaaaaaaaaaaaaaaaaaaaaaaaaaaaaaaaabbbbbbbcccc', 0), ('aaaaaaaaaaaaaaaaaaaaaaaaaaaaaaaaaaaaaaaaaaaaaaaaaaaaaaaaaaaaaaaaaaaaaaaaaaaaaaaab', 0), ('aaaaaaaaaaaaaaaaaaaaabbbbbbbbbbbbbbbbbbbbbccccccccccccccccccccc', 1), ('aaaaaaaaaaaaaaaaaaaaaaaaaaaaaaaaaaaaaaaaaaaaaaaaaaaaaaaaaaaaaaaaaaaaaaaaaaaaaaaaaaaaaaaaaaaaaaaabbbb', 0), ('aaaaaaaaaaaaaaaaaaaaaaaaaaaaaaaaaaaaaaaaaaaaaaaaaaaaaaaaaaaaaaaaaaaaaaaaaaaaaaaaaaaaaaaaaaaaaaaaabb', 0), ('aaaaaaaaaaaaaaaaaaaaaaaaaaaaaaaaaaaaaaaaaaaaaaaaaaaaaaaaaaaaaaaaaaaaaaaaabbbbbbbbbbbbbbbbbbbbbbb', 0), ('aaaaaaaaaaaaaaaaaaaaaaaaaaaaaaaaaaaaaaaaaaaaaaaaaaaaaaabbbbbbbbbbbbbbbbbbbbbbbbbbbbbbbbbbbbbbbbbbb', 0), ('aaaaaaaaaaaaaaaaaaabbbbbbbbbbbbbbbbbbbbbbbbbbbbbbbbbbbbbbbbbbbbbcccccccccccccccccccccccccccccc', 0), ('aaaaaaaaaaaaaaaaaaaaaaaaaaaaaaaaaaaaaaaaaaaaaaaaaaaaaaaaaaaaaaaaaaaaaaaaaaabbbbbbbbbbbbb', 0), ('aaaaaaaaaaaaaaaaaaaaaaaaaaaaaaaaaaaaaaaaaaaaaaaaaaaaaaaaaaaaaaaaaaaaaaaaaaaaaaaaaaaaaaaaaaaaaa', 0), ('aaaaaaaaaaaaaaaaaaaaaaaaaaaaaaaaaaaaaaaaaaaaaaaaaaaaaaaaaaaaaaaaaaaaaaaaaaaaaaaaaa', 0), ('aaaaaaaaaaaaaaaaaaaaaaaaaaaaaaaaaaaaaaaaaaaaaaaaaaaaaaaaaaaaaaaaaaaaaaaaaaaaabbbbbbb', 0), ('aaaaaaaaaaaaaaaaaaaaaaaaaaaaaaaaaaaaaaaaaaaaaaaaaaaaaaaaaaaaaaaaaaaaaaaaaaaaaaaaaaaaaaaabbbbbbbbbb', 0), ('aaaaaaaaaaaaaaaaaaaaaaaaaaaaaaaaaaaaaaaaaaaaaaaaaaaaaaaaaaaaaaaaaaaaaaaaaaaaaaaaaa', 0), ('aaaaaaaaaaaaaaaaaaaaaaaaaaaaaaaaaaaaaaaaaaaaaaaaaaaaaaaaaaaaaaaaaaaaaaaaaaaaabbbbb', 0), ('aaaaaaaaaaaaaaaaaaaaaaaaaaaaaaaabbbbbbbbbbbbbbbbbbccccccccccccccccccccccccccccc', 0), ('aaaaaaaaaaaaaaaaaabbbbbbbbbbbbbbbbbbbbbbbbbbbbbbbbbbbbbbbbbbbbbb', 0), ('aaaaaaaaaaaaaaaaaaaaaaaaaaaaaaaaaaaaaaaaaaaaaaaaaaaaaaaaaaaaaaaaaaaaaaaaaabbbbbbb', 0), ('aaaaaaaaaaaaaaaaaaaaaaaabbbbbbbbbbbbbbbbbb', 0), ('aaaaaaaaaaaaaaaaaaaaaaaaaaaaaaaaaaaaaaaaaaaaaaaaaaaaaaaaaaaaaaaaaaaaabbbbbbbbbbbbbbbbbb', 0), ('aaaaaaaaaaaaaaaaaaaaaaaaaaaaaaaaaaaaaaaaaaaaaaaaaaaaaaaaaaaaaaaaaaaaaaaaaaaaaaaaaaaaaaaaaaabbbbbb', 0), ('aaaaaaaaaaaaaaaaaabbbbbbbbbbbbbbbbbbbbbbbbbbbbbbbbbbbbbbbbbbbbbbbbbbbbbbbbbbbbbbbbbbbbbb', 0), ('aaaaaaaaaaaaaaaaaaaaaaaaaaaaaaaaaaaaaaaaaaaaaaaaaaaaaaaaaaaaaaaaaaaaaaaaaaaaaaaaabbbbbbbbbbbb', 0), ('aaaaaaaaaaaaaaaaaaaaaaaaaaaaaaaaaaaaaaaaaaaaaaaaaaaaaaaaaaaaaaaaaaaaaaaaaaaaaabbbbbbbbbbbbbbbbbbbb', 0), ('aaaaaaaaaaaaaaaaabbbbbbbbbbbbbbbbbccccccccccccccccc', 1), ('aaaaaaaaaaaaaaaaaaaaaaaaaabbbbbbbbbbbbbbbbbbbbbbbbbbcccccccccccccccccccccccccc', 1), ('aaaaaaaaaaaaaabbbbbbbbbbbbbbcccccccccccccc', 1), ('aaaaaaaaaaaaaaaaaaaaaaabbbbbbbbbbbbbbbbbbbbbbbbbbbbbbbbbbbbbbbbbbbbbbbbbbbbbbbbbbbbbbbbbbbbbbb', 0), ('aaaaaaaaaaaaaaaaaaaaaaaaaaaabbbb', 0), ('aaaaaaaaaaaaaaaaaaaaaaaaaaaaaaaaaaaaaaaaabbbbbbbbbbbbbbbbbbbbbbbbbbbbb', 0), ('aaaaaaaaaaaaaaaaaaaaaaaaaaaaaaaaaabbbbbbbbbbbbbbbbbbbbbb', 0), ('aaaaaaaaaaaaaaaaaaaaaaaaaaaaaaaaaaaaaaaaaaaaaaaaaaaaaaaaaaaaaaaaaaaaaaaaaaabbbbbbbbb', 0), ('aaaaaaaaaaaaaaaaaaaaaaaaaaaaaaaaaaaaaaaaaaaaaaaaaaaaaaaaaaaaaaaaaaaaaaaaaaaaaaaaaaaaaaaaaaaaaabbbbbb', 0), ('aaaaaaaaaaaaaaaaaabbbbbbbbbbbbbbbbbbcccccccccccccccccc', 1), ('aaaaaaaaaaaaaaaaaaaaaaaaaaaaaaaaaaaaaaaaaaaaaaaaaaaaaaaaaaaaaaaaaaaaaaaaaaaabbbbbbbbbbbbbbbb', 0), ('aaaaaaaaaaaaaaaaaaaaaaaaaaaaaaaaabbbbbbbbbbbbbbbbbbbbbbbbbbbbbbbbbccccccccccccccccccccccccccccccccc', 1), ('aaaaaaaaaaaaaaaaaabbbbbbbbbbbbbccccccccc', 0), ('aaaaaaaaaabbbbbbbbbbbbbbbbbbbbbbbbbbbbbbbbbbbbbbbbbbbbbccccccccccccccccccc', 0), ('aaaaaaaaaaaaabbbbbbbbbbbbbbbbbbbbbbbbbbbbbbbbbbbbbbbbbbbbccccccccccccc', 0), ('aaaaaaaaaaaaaaaaaaaaaaaabbbbbbbbbbbbbbbbbbbbbbbbbbbbbbbbbbbbbbbbbbbcccccccccccc', 0), ('aaaaaaaaaaaaaaaaaaaaaaaaaaaaaaaaaaaaaaaaaaaaaaaaaaaaaaaaaaaaaaaaaaaaaaaaaaaaaaaaaaaaaaaabbbbbbbbbb', 0), ('aaaaaaaaaaaaaaaaaaaaaaaaaaaaaaaaaaaaaaaaaaaaaaaaaaaaaaaaaaabbbbbb', 0), ('aaaaaaaaaaaaaaaaaabbbbbbbbbbbbbbbbbbcccccccccccccccccc', 1), ('aaaaaaaaaaaaaaaaaaaaaaaaaaaaaaaabbbbbbbbbbbbbbbbbbbbbbbbbbbbbbbbcccccccccccccccccccccccccccccccc', 1), ('aaaaaaaaaaaaaaaaaaaaaaaaaaaaaaaaaaaaaaaaaaaaaaaabbbbbbbbbbbbbbbbbbbbbbbbbbbbbbbbbbbbbbbbb', 0), ('aaaaaaaaaaaaaaabbbbbbbbbbbbbbbbbbbbbbbbbbbbbbbbbbbbbbbbbbbbbbbbbbbbbbbbbbbbbbbbbbbbbbbbb', 0), ('aaaaaaaaaaaaaaaaaaaaaaaaaaaaaaaaaaaaaaaaaaaaaaaaaaaaaaaaaaaaaaaaaaaaaabbbbbbbbbbbbbbbbbbbbbb', 0), ('aaaaaaaaaaaaaaaaaaaaaaaaaaaaaaaaaaabbbbbbbbbbbbbbbbbbbbbbbbbbbbbbbbbbbbbbbbbbbbbbbbbbbbbbbbbbbcccc', 0), ('aaaaaaaaaaaaaaaaaaaaaaaaaaaaaaaaaaaaaaaaaaaaaaaaaaaaaaaaaaaaaaaaaaaaaaaaaaaaaaaaaabbbbbbbb', 0), ('aaaaaaaaaaaaaaaaaaaaaaaaaaaaaaaaaaaaaaaaaaaaaaaaaaaaaaaaaaaaaaaaaaaaaaaaaaaaaaaabbbbbb', 0), ('aaaaaaaaaaaaaaaabbbbbbbbbbbbbbbbbbbbbbbbbbbbbbbbbbbbbbbbbbbbbbbbbbbbbbbbbbbbbbbbbbbbbbbbbbbbbbb', 0), ('aaaaaaaaaaaaaaaaaaaaaaaaaaaaaaaaaaaaaaaabbbbbbbbbbbbbbbbbbbbbbbbbbbbbbbbbbbbbbbbbbbbbbbbbbb', 0), ('aaaaaaaaaaaaaaaaaaaaaaaaaaaaaaaaaaaaaaaaaaaaaaaaaaaaaaaaaaaaaaaaaaaaaaaaaaaaaaaaaaaaaaaaaaaaaabbb', 0), ('aaaaaaaaaaaaaaaaaaaaaaaaaaaaaaaaaaaaaaaaaaaaaaaaaaaaaabbbbbbbbbbb', 0), ('aaaaaaaaaaaaaabbbbbbbbbbbbbbcccccccccccccc', 1), ('aaaaabbbbbbbbbbbbbbbbbccccccccccccccccccccc', 0), ('aaaaaaaaaaaaaaaaaabbbbbbbbbbbbbbbbbbbbbbbbbbbbbbbbbbccccccccccc', 0), ('aaaaaaaaaaaaaaaaaaaaaaaaaaaaaaaaaaaaaaaaaaaaaaaaaaaaaaaaaaaaaaaaaaaaaaaaaaabbbbbbbbbbbbbbbbbbbb', 0), ('aaaaaaaaaaaaaaaaaaaaaaaaaaaaabbbbbbbbbbbbbbbbbbbbbbbbbbbbbb', 0), ('aaaaaaaaaaaaaaaaaaaaaaaaaaaaaaaaaaaaaaaaaaaaaaaaaaaaaaaaaaabbb', 0), ('aaaaaaabbbcccccccccccccccccccccccccc', 0), ('aaaaaaaaaaaaaaaaaaaaaaaaaaaaaaaaaaaaaaaaaaaaaaaaaaaaaaaaaaabbbbbbbbb', 0), ('aaaaaaaaaaaaaaaaaaaaaaaaaaaaaaaaaaaaabbbbbbcccccccccccccccccccccccccccccccccccccccccccccccccccccccc', 0), ('aaaaaaaaaaaaaaaaaaaabbbbbbbbbbbbbbbbbbbbcccccccccccccccccccc', 1), ('aaaaaaaaaaaaaaaaaaaaabbbbbbbbbbbbbbbbbbbbbbbbbbbbbbbbbbbbbbbbbbbbbbbbccccccccc', 0), ('abbbbccccccccccccccccccccccccccccccccccccccccccccccccccccccccccccccccccccc', 0), ('aaaaaaaaaaaaaaaaaaaaaaaaaaaaaaaaaaaaaaaaaaaaaaaaaaaaaaaaaaaaaaaaaaaabbbbbbbbbbbbbbbbbbbbbbbbbbbbb', 0), ('aaaaaaaaaaaaaaaaaaaaaaaaaaaaaaaaaaaaaaaaaaaaaaaaaaaaaaaaaaaaaaaaaaaabbbbbbbbcccccccccccccccccc', 0), ('aaaaaaaaaaaaaaaaaaaaaaaaaaaaaaaaaaaaaaaabbbbbbbbbbbbbbbbbbbbbbbbbbbbbbbbbbbbbbbbbbbbbbbbbbbbbbbb', 0), ('aaaaaaaaaaaaaaaaaaaaaaaaaaaaaaaaaaaaaaaaaaaaabbbbbbbbbbbbbbbbbbbbbbbbbbbbbbbbbbbbbbbbbbbbbbbbbbbbb', 0), ('aaaaaaaaaaaaaaaaaaaaaaaaaaabbbbbbbbbbbbbbbbbbbccccccccccccccccccccccccccccccccccccccccccccc', 0), ('aaaaaaaaaaaaabbbbbbbbbbbbbbbbbbbbcccccccccccccccccccccccccccccccccccccccccccccccccc', 0), ('aaaaaaaaaaaaaaaaaaaaaaaaaaaaaaaaaaaaaaaaaaaaaaaaaaaaaaaaaaaaaaabbbbbbbbbbbbbbbbbbbbbbbbbbbbbbbbbbbbb', 0), ('aaaaaaaaaaaaaaaaaaaaaaaaaaaaaaabbbbbbbbbbbbbbcccccccccccccccccccccccccccccccccccc', 0), ('aaaaaaaaaaaaaaaaaaaaaaaaaaaaaaaabbbbbbbbbbbbbbbbbbbbbbbbbbbbbbbbcccccccccccccccccccccccccccccccc', 1), ('aaaaaaaaaaaaaaaaaaaaaaaaaaaaaaabbbbbbbbbbbbb', 0), ('aaaaaaaaaaaaaaaaaaaaaaaaaaaaaaabbbbbbbbbbbbbbbbbbbbbbbbbbbbbbbccccccccccccccccccccccccccccccc', 1), ('aaaaaaaaaaaaaaaaaaaaaaaaaaaaaaaaaaaaaaaaaaaaaaaaaaaaaaaaaaaaaaaaaaaaaabbbbbbbbbbbbbbb', 0), ('aaaaaaaaaaaaaaaaaaaaaaaaaaaaaaaaaaaaaaaaaaaaaaaaaaaaaaaaaaaaaaaaaaaaaaaaaaaaaaaaaabbbbbbb', 0), ('aaaaaaaaaaaaaaaaaaaaaaabbbbbbbbbbbbbbbbbbbbbbbbbbbbbbbbbbbbbbbbbbbb', 0), ('aaaaaaaaaaaaaaaaaaaaaaaaaaabbbbbbbbbbbbbbbbbbbbbbbbbbbccccccccccccccccccccccccccc', 1), ('aaaaaaaaaaaaaaaaaaaaaaaaaaaaaaaaaaaaaaaaabbbbbbbbbbbbbbbbbbbbbbbbbbbbbb', 0), ('aaaaaaaaaaaaaaaaaaaccccccccccccccccccccccccccccccccccccccccccccccccccccccccccccccccccccccccccccccc', 0), ('aaaaaaaaaaaaaaaaaaaaaaaaaaaaaaaaaaaaaaaaaaaaaaaabbbbbbbbcccccccccccccccccccc', 0), ('aaaaaaaaaaaabbbbbbbbbbbbcccccccccccc', 1), ('aaaaaaaaaaaaaaaaaaaaaaaaaaaaaaaaaaaaaaaaaaaaaaaaaaaaaaaaaaaaaaaaaaaaaaaaaaaaaaaaabbbbbbbbbbbbbbbbbbb', 0), ('aaaaabbbbbbbbbbbbbbbbbbbbbbbbbbbbbbbbbbbbbbbbbbbbbbbbbbbbbbbbbbbbbbbbbbbbbbbbbbbbbbbbbbbbbc', 0), ('aaaaaaaaaaaaaaaaaaaaaaaaaaaaaaaaaaaaaaaaaaaaaaaaaaaaacccccccccccccccccccccccccccccccccccccccccccc', 0), ('aaaaaaaaaaaaaaaaaaaaaaabbbbbbbbbbbbbbbbbbbbbbbccccccccccccccccccccccc', 1), ('aaaaaaaaaaaaaaaaaaaaaaaaaaaaabbbbbbbbbbbbbbbbbbbbbbbbbbbbbccccccccccccccccccccccccccccc', 1), ('aaaaaaaaaaaaaaaaaaaaaaaaaaaaaaaaaaaaaaaaaaaaaaabbbbbbbbbbbbbbbbbbbbbbbbbbbbbbbbbbbbbbbbbbbbbbbbbb', 0), ('aaaaaaaaaaaaaaaaabbbbbbbbbbbbbbbbbccccccccccccccccc', 1), ('aaaaaaaaaaaaaabbbbbbbbbbbbbbbbbbbbbbbbbbbbbbbbbbbbbbbbbbbbbbbbbbbbbbbbbbbbbbbbbbbbbbbbbbb', 0), ('aaaaaaaaaaaaabbbbbbbbbbbbbbbbbbbbbbbbbbbbbbbbbbbbbbbbbbbbbbbbbbbbbbbbbbbbbbbbbbbbbbbbbbbbbbbbb', 0), ('aaaaaaaaaaaaaaaaaaaaaaaaaaaaaabbbbbbbbbbbbbbbbbbbbbbbbbbbbbbcccccccccccccccccccccccccccccc', 1), ('aaaaaaaaaaaaaaaaaabbbbbbbbbbbbbbbbbbcccccccccccccccccc', 1), ('aaaaaaaaaaaaaaaaaaaaaaaaaaaaaaaaaaaaaaaaaaaaaaaaaaaaaaaaaaaaaaaaaaaaaaaabbbbbbbbbbbbbbbbbbbbb', 0), ('aaaaaaaaaaaaaaaaaaaaaaaaaaaaaaaaaaaaaaaaaaaaabbbbbbbbbbbbbbbbccccccccccccccccccccccccccccccc', 0), ('aaaaaaaaaaaaaaaaaaaaaaaaaaaaaabbbbbbbbbbbbbbbbbbbbbbbbbbbbbbcccccccccccccccccccccccccccccc', 1), ('aaaaaaaaaaaaaaaaaaaaaaaabbbbbbbbbbbbbbbbbbbbbbbbbbbbbbbbbbbb', 0), ('aaaaaaaaaaaaaaaaaaaaaaaaaaaaaaaaaaaaaaaaaaaaaaaaaaaaaaaaaaaaaaaaaaaaaaaaaabbbbbbbb', 0), ('aaaaaaaaaaaaaaaaaaabbbbbbbbbbbbbbbbbbbbbbbbbbbbbbbbbbbbbbbbbbbbbbbbbbbcccccccccccccccccccccccccccc', 0), ('aaaaaaaaaaaaaaaaaaaaaaaaaaaaaaaaaaaaaaaaaaaaaaaabbbb', 0), ('aaaaaaaaaaaaaaaaaaaaaaaaaaaaaaaaaaaaaaaaaaaaaaaaaaaaaaaaaaaaaaaaaaaaaabbbbbbbbbbbbcccccccc', 0), ('aaaaaaaaaaaaaaaaaaaaaaaaaaaaaaaaaaaaaaaaabbbbbbbbbbbbbbbbbbbbbbbbbbbbbbbbbbbbbbbbbbbbbbbbbbbbbbbbbbb', 0), ('aaaaaaaaaaaaaaaaaaaaaaaaaaaaaaaaaaaaaaaaaaaaaaaaaaaaaaaaaaaaaaaaaaaaaaaaaaaaaaaaaaaaaaaa', 0), ('aaaaaaaaaaaaaaaaaaaaaaaaaaaaaaaaaaaaaaaaaaaaaaaaaaaaaaaaaaaaaaaaaaaaaaaaaaaaaaaaaabbbbccc', 0), ('aaaaaaaaaaaaaaaaaaaaaaaaaaaaaaaaaaaaaaaaaaaaaaaaaaaaaaaaaaaaaaaaaaaaaaaaaaaaaaaaaaaaabbbbbbbbbbbb', 0), ('aaaaaaaaaaaaaaabbbbbbbbbbbbbbbccccccccccccccc', 1), ('aaaaaaaaaaaaaaaaaaaaaaaaaaaaaaaaaaaaaaaaaaaaaaaaaaaaaaaaaabbbbbbbbbbbbbbbbbbbbbbbbbbbbbbbbbbbbbbbb', 0), ('aaaaaaaaaaaaaaaaaaaaaaaabbbbbbbbbbbbbbbcccccccccccccc', 0), ('aaaaaaaaaaaaaaaaaaaaaaaaaaaaaaaaaaaaaaaaaaaaaaaaaaaaaaaaaabbbbbbbbbbbbbb', 0), ('aaaaaaaaaaaabbbbbbbbbbbbcccccccccccc', 1), ('aaaaaaaaaaaaaaaaaabbbbbbbbbbbbbbbbbbbbbbbbbbbbbbbbbbbbbbbbbbbbbbbbbbbbbbbbbbbbbb', 0), ('aaaaaaaaaabbbbbbbbbbcccccccccc', 1), ('aaaaaaaaaaaaaaaaaaaaaaaaaaaaaaaaaaaaaaaaaaaaaaaaaaaaaaaaaaaaaaaaaaaaaaaaaaaaaaaaaaaaaaabbbbbbbbbbb', 0), ('aaaaaaaaaaaaaaaaaaaaaaaaaaaaaaaaaaaaaaaaaaaaaaaaaaaaaaaaaaaaaaaaaaaaaaaaaaaaaaaaaaaaaaaaaaaaaaab', 0), ('aaaaaaaaaaaaaaaaaabbbbbbbbbbbbbbbbbbcccccccccccccccccc', 1), ('aaaaaaaaaaaaaaaaaaaaaaaaaaaaaaaaaaaaaaaaaaaaaaaaaaaaaaaaaaaaaaaaaaaaaaaaaaaaaaaaaaaaabbbbbbbbbbbbb', 0), ('aaaaaaaaaaaaaaaaaaaaaaaaaaaaaaaaaaaaaaaaaaaaaaaaaaaaaaaaaaaaaaaaaaaaaaaaaaaaaaaaaaaaaaaaaaaaaaaaaaa', 0), ('aaaaaaaaaaaaaaaaaaaaaaaaaaaaaaaaaaaaaaaaaaaaaaaaaaaaaaaaaaaaaaaaaaaaaaaaaaaaaaaaaaaaaaaaaaabbbbbbbb', 0), ('aaaaaaaaaaaaaaaaaaaaabbbbbbbbbbbbbbbbbbbbbccccccccccccccccccccc', 1), ('aaaaaaaaaaaaaaaaaaaaaaaaaaaaaaaaaaaaaaaaaaaaaaaaaaaaaaaaaaaaaaaabbbbbbbbbbbbb', 0), ('aaaaaaaaaaaaaaaaaaaaaaaaaaaaaaaaaaaaaaaaabbbbbb', 0), ('aaaaaaabbbbbbbbbbbbbbbbbbbbbbbbbbbb', 0), ('aaaaaaaaaaaabbbbbbbbbbbbbbbbbccc', 0), ('aaaaaaaaaaabbbbbbbbbbbbbbbbbbbbbbbbbbbbbbbbbbbbbbbbbbbbbbbbbbbbbbbbbbbbbbbbbbbbb', 0), ('aaaaaaaaaaaaaaaaaaaaaaaaaaaaaaaaaaaaaaaaaaaaaaaaaaaaaaaaaaaaaaaaaaaaaaaaaaaaaaaaaaaaaaaaaaaaaaaaaab', 0), ('aaaaaaaaaaaaaaaaaaaaaaaaaaaaaaaaaaaaaaaaaaaaaaaaaaaaaaaaaaaabbbbbbbbbbbbbbbbbbb', 0), ('aaaaaaaaaaaaaaaaaaaaaaaaaaaaaaaaaaaaaaaaaaaaaaaaaaaaaaaaaaaaaaaaaaaaaaaaaaaabbbbbbbbbbbbbbbb', 0), ('aaaaaaaaaaaaaaaaaaaaaaaaaaaaabbbbbbbbbbbbbbbbbbbbbbbbbbbbbbbbbbbbbbbbbbbbbbbbbbbbbbccccccccccc', 0), ('aaaaaaaaaaaaaaaaaaaaaaaaaaaaaaaaaaaaaaaaaaaaaaaaaaaaaaaaaaaaaaaaaaaaaaaaaaaaaaabbbbbbbbbbb', 0), ('aaaaaaaaaaaaaaaaaaaaaaaaaaaaaaaaaaaaaaaaaaaaaaaaaaaaaaaaaaaaaaaaaabbbbbbbbbbbbbbbbbbbbbbbbbbbbbbbb', 0), ('aaaaaaaaaaaaaaaaaaaaaaaaaaaaaaaaaaaaaaaaaaaabbbbbbbbbbbbbbbbbbbbbbbbbbbbbbbbbbbbbbbbbbbbbbbb', 0), ('aaaaaaaaaaaaaaaaaaabbbbbbbbbbbbbbbbbbbccccccccccccccccccc', 1), ('aaaaaaaaaaaaaaaaaaaaaaaaaaaaaaaaaaaaaaaaaaaaaaaaaaaaaaaaaaaaabbbbbbbbbbbbbbbbccccccccccccc', 0), ('aaaaaaabbbbbbbbbbbbbbbbbbbbbbbbbbbbbbbbbbbbbbbbbbbbbbbbbbbbbbbbbbbbbbbbb', 0), ('aaaaaaabbbbbbbbbbbbbbbbbbbbbbbbbbbbbbbbbbbccccccccccccccccccccccccccccccccccccccccc', 0), ('aaaaaaaaaaaaaaaaaaaaaaaaaaaaaaaaaaaaaaabbbbbbbb', 0), ('aaaaaaaaaaaaaaaaaaaaaaaaaaaaaaaaaaaaaaaaaaaaaaaaaaabbbbbbbbbbbbbbbbbbbbbbbbbbbbbbbbbbbbbbbbbb', 0), ('aaaaaaaaaaaaaaaaaaaaaaaaaab', 0), ('aaaaaaaaaaaaaaaaaaaaaaaaaaaaaaaaaaaaaaaaaaaaaaaaaaaaaaaaaaaaaaaaaabbbbb', 0), ('aaaaaaaaaaaaaaaaaaaaaaaaaaaaaaaaaaaaaaaaaaaaaaaaaaaaaaaaaaaaaaaaaaaaaaaaaaaaaaaaaaaaaaaaaaaaaaaaaaab', 0), ('aaaaaaaaaaaaaaaaaaaaaaaaaaaaaaaaaaaaaaaaaaaaaaaaaaaaaaaaaaaaaaaaaaaaaaaaaaaaaaaaaaaaaabbbbb', 0), ('aaaaaaaaaaaaaaaaaaaaaaaaaaaaaaccccccccccccccccccccccccccccccccccc', 0), ('aaaaaaaaaaaaaaaaaabbbbbbbbbbbbbbbbbbcccccccccccccccccc', 1), ('aaaaaaaaaaaaaaaaaaaaaaabbbbbbbbbbbbbbbbbbbbbbbbbbbbbbbbbbbbbbbbbbb', 0), ('aaaaaaaaaaaaaaaaaaaaaaaaaaaaaaaaaaaaaaaaaaaaaaaaaaaaaaaaaaaaaaaaaaaaaaaaaaaaaaaaaaaaaaaaaaaabbbbbb', 0), ('aaaaaaaaaaaaaaaaaaaaaaaaaaaaaaaaaaaaaaaaaaaaaaaaaaaaaaaaaaaaaaaaaaaaaaaaaaaaaabbbbbbbbbbbb', 0), ('aaaaaaaaaaaaaaaaaaaaaaaaaaaaaaaaaaaaaaaaaaaaaaaaaaaaaaaaaaaaaaaaaaaaaaaaaaaaaaaaaaaaaaaaabbbbbbbb', 0), ('aaaaaaaaaaaaaaaaaaaaaaaaaaaaaaaaaaaaaaaaaaaaaaaaaaaaaaaaaaaaaaaaaaaaaaaaaaaaabbbbbbbbbbbbbbbbbbbb', 0), ('aaaaaaaaaaaaaaaaabbbbbbbbbbbbbbbbbccccccccccccccccc', 1), ('aaaaaaaaaaaaaaaaaaaaaaaaaaaaaaaaaaaaaaaaaaaaaaaaaaaaaaaaaaaaaaaaaaaaaaaaaaaaaaaaaaaaaaaaaaaaaaaaabb', 0), ('aaaaaaaaaaaaaaaaaaaaaaaaaaaaaaabbbbbbbbbbbbbbbbbbbbbbbbbbbbbbbbbbbbbbbbbbbbbbbbbbbbbbbbbbbbcc', 0), ('aaaaaaaaaaaaaaaaaaaaaaaaaaaaaaaaaabbbbbbbbbbbbbbbbbbbbbbbbbbbbbbbbbbbbbbbbbbbbbbbccccccc', 0), ('aaaaaaaaaaabbbbbbbbbbbbbbbbbbbbbbbbbbbbbbbbbbbbbbbbbbbbbbbbbbbbbbbbbbbbbbbbbbbbbbbbbbbbbbbb', 0), ('aaaaaaaaaaaaaaaaabbbbbbbbbbbbbbbbbccccccccccccccccc', 1), ('aaaaaaaaaaaaaaaabbbbbbbbbbbbbbbbcccccccccccccccc', 1), ('aaaaaaaaaaaaaaaaaaaaaaaaacccccccccc', 0), ('aaaaaaaaaaaaaaaaaaaaaaaaaaaaaaaaaaaaaaaaaaaaaaaaaaaaaaaaaaaaaaaaaaaaaaaabbbbbbbbbbb', 0), ('aaaaaaaaaaaaaaaaaaaaaaaaaaaaaaaaaaaaaaaaaaaaaaaaaaaaaaaaaaaaaaaaaaaaaaaaaaaaaaaaaaaaaaaaaaaaaaa', 0), ('aaaaaaaaaaaaaaaaaaabbbbbbbbbbbbbbbbbbbccccccccccccccccccc', 1), ('aaaaaaaaaaaaaaaaaaaaaaaaaaabbbbbbbbbbbbbbbbbbbbbbbbbbbccccccccccccccccccccccccccc', 1), ('aaaaaaaaaaaaaaaaaaaaaaaaaaaabbbbbbbbbbbbbbbbbbbbbbbbbbbbcccccccccccccccccccccccccccc', 1), ('aaaaaaaaaaaaaaaaaaaaaaaaabbbbbbbbbbbbbbbbbbbbbbbbbbbbbbbbbbbbbbbbbbbbbbbbbbbbbbbbbbbbbbbbbcccccccccc', 0), ('aaaaaaaaaaaaaaaaaaaaaaaaaaaaaaaaaaaaaaaaaaaaaaaaaaaaaaaaaaaaaaaaaaaabbbbbbbbbbbbbbbbbbbbbb', 0), ('aaaaaaaaaaaaaaaaaaaaaaaaaaaaaaaaaaaaaaaaaaaaaaaaaaaaaaaaaaaaccccccccccccccccccccccc', 0)]\n",
      "Average Sentence Length:\n",
      "77.334\n"
     ]
    }
   ],
   "source": [
    "MAX_LEN = 100\n",
    "\n",
    "def generate_sentence(min_len=0, max_len=20, pos=True):\n",
    "    if pos:\n",
    "        n = np.random.randint(np.ceil(min_len / 3), np.ceil((max_len) / 3))\n",
    "        sentence = n*\"a\" + n*\"b\" + n*\"c\"\n",
    "        return sentence, len(sentence)\n",
    "    else:\n",
    "        n_0 = np.random.randint(0, max_len)\n",
    "        n_1 = np.random.randint(0, max_len - n_0 + 1)\n",
    "        n_2 = np.random.randint(min_len - n_0 - n_1, max_len - n_0 - n_1 + 1)\n",
    "        sentence = n_0 * \"a\" + n_1 * \"b\" + n_2 * \"c\"\n",
    "        return sentence, len(sentence)\n",
    "\n",
    "def create_data(size=10000, balance=0.1, min_len=0, max_len=20, train=True):\n",
    "    data = []\n",
    "    sentence_lengths = []\n",
    "\n",
    "    for i in range(int(size*balance)):\n",
    "        sentence, sentence_length = generate_sentence(min_len=min_len, max_len=max_len, pos=True)\n",
    "        while sentence == \"aabbcc\" and train:\n",
    "            sentence, sentence_length = generate_sentence(min_len=min_len, max_len=max_len, pos=True)\n",
    "        if not train:\n",
    "            sentence, sentence_length = \"aabbcc\", 6\n",
    "        data.append((sentence, 1))\n",
    "        sentence_lengths.append(sentence_length)\n",
    "    for i in range(int((size - (size*balance)))):\n",
    "        sentence, sentence_length = generate_sentence(min_len=min_len, max_len=max_len, pos=False)\n",
    "        data.append((sentence, 0))\n",
    "        sentence_lengths.append(sentence_length)\n",
    "    \n",
    "    random.shuffle(data)\n",
    "    average_length = sum(sentence_lengths) / len(sentence_lengths)\n",
    "    return data, average_length\n",
    "\n",
    "train_data, avg_sent_length_train = create_data(size=1000, balance=0.2, min_len=0, max_len=20, train=True)\n",
    "val_data, avg_sent_length_val = create_data(size=1000, balance=0.2, min_len=0, max_len=20, train=False)\n",
    "test_data, avg_sent_length_test = create_data(size=1000, balance=0.2, min_len=21, max_len=MAX_LEN, train=True)\n",
    "\n",
    "print(f\"Train Data Sample:\\n{train_data}\")\n",
    "print(f\"Average Sentence Length:\\n{avg_sent_length_train}\")\n",
    "print(f\"Val Data Sample:\\n{val_data}\")\n",
    "print(f\"Average Sentence Length:\\n{avg_sent_length_val}\")\n",
    "print(f\"Test Data Sample:\\n{test_data}\")\n",
    "print(f\"Average Sentence Length:\\n{avg_sent_length_test}\")\n"
   ]
  },
  {
   "cell_type": "code",
   "execution_count": 3,
   "metadata": {},
   "outputs": [],
   "source": [
    "# Dependencies\n",
    "import torch\n",
    "import torch.nn as nn\n",
    "import torch.optim as optim\n",
    "from torch.utils.data import Dataset, DataLoader\n"
   ]
  },
  {
   "cell_type": "code",
   "execution_count": 4,
   "metadata": {},
   "outputs": [],
   "source": [
    "# Encoding data\n",
    "class TextDataset(Dataset):\n",
    "    \n",
    "    def __init__(self, data):\n",
    "        self.sentence = [d[0] for d in data]\n",
    "        self.label = [d[1] for d in data]\n",
    "        \n",
    "        self.char_to_index = {'a':1, 'b':2, 'c':3}\n",
    "\n",
    "    def __len__(self):\n",
    "        return len(self.label)\n",
    "\n",
    "    def __getitem__(self, idx):\n",
    "        sentence = self.sentence[idx]\n",
    "        label = self.label[idx]\n",
    "        \n",
    "        sentence_encoded = [self.char_to_index[char] for char in sentence]\n",
    "        \n",
    "        return torch.tensor(sentence_encoded, dtype=torch.int64), torch.tensor(label)\n",
    "    \n",
    "train_dataset = TextDataset(train_data)\n",
    "\n",
    "def collate_fn(data):\n",
    "    sentences, labels = zip(*data)\n",
    "    sentences = nn.utils.rnn.pad_sequence(sentences, batch_first=True, padding_value=0)\n",
    "    labels = torch.stack(labels)\n",
    "    \n",
    "    return sentences, labels\n",
    "\n",
    "# train_loader = DataLoader(train_dataset, batch_size=32, shuffle=True, collate_fn=collate_fn)"
   ]
  },
  {
   "cell_type": "code",
   "execution_count": 5,
   "metadata": {},
   "outputs": [],
   "source": [
    "train_loader = DataLoader(TextDataset(train_data), batch_size=32, shuffle=True, collate_fn=collate_fn)\n",
    "val_loader = DataLoader(TextDataset(val_data), batch_size=32, shuffle=False, collate_fn=collate_fn)\n",
    "test_loader = DataLoader(TextDataset(test_data), batch_size=32, shuffle=False, collate_fn=collate_fn)"
   ]
  },
  {
   "cell_type": "markdown",
   "metadata": {},
   "source": [
    "## Train and define model"
   ]
  },
  {
   "cell_type": "code",
   "execution_count": 6,
   "metadata": {},
   "outputs": [
    {
     "name": "stdout",
     "output_type": "stream",
     "text": [
      "GPU State: mps:0\n"
     ]
    }
   ],
   "source": [
    "# Set device\n",
    "if torch.cuda.is_available():\n",
    "    device = 'cuda:0'\n",
    "elif torch.backends.mps.is_available():\n",
    "    device = 'mps:0'\n",
    "else:\n",
    "    device = 'cpu'\n",
    "print('GPU State:', device)"
   ]
  },
  {
   "cell_type": "code",
   "execution_count": 7,
   "metadata": {},
   "outputs": [],
   "source": [
    "class RNN(nn.Module):\n",
    "    def __init__(self, embedding_dim, hidden_dim, hidden_depth) -> None:\n",
    "        super().__init__()\n",
    "        self.embedding = nn.Embedding(4, embedding_dim)\n",
    "        self.rnn = nn.RNN(embedding_dim, hidden_dim, hidden_depth, batch_first=True)\n",
    "        self.classification= nn.Sequential(\n",
    "            nn.Linear(hidden_dim, 1),\n",
    "            nn.Sigmoid()\n",
    "        )\n",
    "    \n",
    "    def forward(self, x):\n",
    "        embedded = self.embedding(x)\n",
    "        output, _= self.rnn(embedded)\n",
    "        logits = self.classification(output[:,-1,:])\n",
    "        #print(logits.size())\n",
    "        return torch.squeeze(logits)"
   ]
  },
  {
   "cell_type": "code",
   "execution_count": 19,
   "metadata": {},
   "outputs": [
    {
     "name": "stdout",
     "output_type": "stream",
     "text": [
      "Epoch [10/300], Loss: 0.4937\n",
      "Epoch [20/300], Loss: 0.4501\n",
      "Epoch [30/300], Loss: 0.2619\n",
      "Epoch [40/300], Loss: 0.2366\n",
      "Epoch [50/300], Loss: 0.2204\n",
      "Epoch [60/300], Loss: 0.2032\n",
      "Epoch [70/300], Loss: 0.1931\n",
      "Epoch [80/300], Loss: 0.1909\n",
      "Epoch [90/300], Loss: 0.1859\n",
      "Epoch [100/300], Loss: 0.1818\n",
      "Epoch [110/300], Loss: 0.1861\n",
      "Epoch [120/300], Loss: 0.1845\n",
      "Epoch [130/300], Loss: 0.1798\n",
      "Epoch [140/300], Loss: 0.1759\n",
      "Epoch [150/300], Loss: 0.1743\n",
      "Epoch [160/300], Loss: 0.1753\n",
      "Epoch [170/300], Loss: 0.1752\n",
      "Epoch [180/300], Loss: 0.1815\n",
      "Epoch [190/300], Loss: 0.1741\n",
      "Epoch [200/300], Loss: 0.1740\n",
      "Epoch [210/300], Loss: 0.1732\n",
      "Epoch [220/300], Loss: 0.1749\n",
      "Epoch [230/300], Loss: 0.1783\n",
      "Epoch [240/300], Loss: 0.1859\n",
      "Epoch [250/300], Loss: 0.1745\n",
      "Epoch [260/300], Loss: 0.1749\n",
      "Epoch [270/300], Loss: 0.1753\n",
      "Epoch [280/300], Loss: 0.1693\n",
      "Epoch [290/300], Loss: 0.1697\n",
      "Epoch [300/300], Loss: 0.1701\n"
     ]
    }
   ],
   "source": [
    "embedding_dim = 3\n",
    "hidden_size = 3\n",
    "hidden_depth = 1\n",
    "num_epochs = 300\n",
    "lr=0.001\n",
    "\n",
    "model = RNN(embedding_dim, hidden_size, hidden_depth)\n",
    "criterion = nn.BCELoss()\n",
    "optimizer = torch.optim.Adam(model.parameters(), lr=lr)\n",
    "\n",
    "for epoch in range(num_epochs):\n",
    "    model.train()\n",
    "    epoch_loss = 0\n",
    "\n",
    "    for batch_idx, (inputs, targets) in enumerate(train_loader):\n",
    "        #inputs = inputs.unsqueeze(-1)  # Add input_size dimension\n",
    "        # Forward pass\n",
    "        #print(inputs)\n",
    "        outputs = model(inputs)\n",
    "        \n",
    "        loss = criterion(outputs, targets.to(torch.float32))\n",
    "        \n",
    "        # Backward pass and optimization\n",
    "        optimizer.zero_grad()\n",
    "        loss.backward()\n",
    "        \n",
    "        optimizer.step()\n",
    "        \n",
    "        epoch_loss += loss.item()\n",
    "    \n",
    "    if (epoch + 1) % 10 == 0:\n",
    "        print(f'Epoch [{epoch + 1}/{num_epochs}], Loss: {epoch_loss / len(train_loader):.4f}')\n",
    "\n",
    "# for param in model.parameters():\n",
    "#     print(param5"
   ]
  },
  {
   "cell_type": "markdown",
   "metadata": {},
   "source": [
    "## Testing"
   ]
  },
  {
   "cell_type": "code",
   "execution_count": 20,
   "metadata": {},
   "outputs": [
    {
     "name": "stdout",
     "output_type": "stream",
     "text": [
      "Test Error: \n",
      " Accuracy: 92.7%, F1-score: 0.8456659913063049, Avg loss: 0.157604 \n",
      "\n"
     ]
    }
   ],
   "source": [
    "from torcheval.metrics import BinaryF1Score\n",
    "\n",
    "def test_loop(dataloader, model, loss_fn):\n",
    "    # Set the model to evaluation mode - important for batch normalization and dropout layers\n",
    "    # Unnecessary in this situation but added for best practices\n",
    "    model.eval()\n",
    "    size = len(dataloader.dataset)\n",
    "    num_batches = len(dataloader)\n",
    "    test_loss, correct = 0, 0\n",
    "    \n",
    "    metric = BinaryF1Score()\n",
    "\n",
    "    # Evaluating the model with torch.no_grad() ensures that no gradients are computed during test mode\n",
    "    # also serves to reduce unnecessary gradient computations and memory usage for tensors with requires_grad=True\n",
    "    with torch.no_grad():\n",
    "        for X, y in dataloader:\n",
    "            pred = model(X)\n",
    "            metric.update(pred, y)\n",
    "            #print(pred)\n",
    "            #print(y)\n",
    "            #print(\"\\n\")\n",
    "\n",
    "            test_loss += loss_fn(pred, y.to(torch.float32)).item()\n",
    "            correct += (torch.round(pred) == y).type(torch.float32).sum().item()\n",
    "            \n",
    "\n",
    "\n",
    "    test_loss /= num_batches\n",
    "    \n",
    "    correct /= size\n",
    "    print(f\"Test Error: \\n Accuracy: {(100*correct):>0.1f}%, F1-score: {metric.compute()}, Avg loss: {test_loss:>8f} \\n\")\n",
    "    \n",
    "loss_fn = nn.BCELoss()\n",
    "optimizer = torch.optim.Adam(model.parameters(), lr=lr)\n",
    "\n",
    "\n",
    "test_loop(val_loader, model, loss_fn)\n"
   ]
  },
  {
   "cell_type": "code",
   "execution_count": 21,
   "metadata": {},
   "outputs": [
    {
     "name": "stdout",
     "output_type": "stream",
     "text": [
      "Test Error: \n",
      " Accuracy: 77.0%, F1-score: 0.6278316974639893, Avg loss: 0.388998 \n",
      "\n"
     ]
    }
   ],
   "source": [
    "test_loop(test_loader, model, loss_fn)"
   ]
  },
  {
   "cell_type": "code",
   "execution_count": 22,
   "metadata": {},
   "outputs": [
    {
     "name": "stderr",
     "output_type": "stream",
     "text": [
      "WARNING:root:Warning: Some classes do not exist in the target. F1 scores for these classes will be cast to zeros.\n",
      "WARNING:root:Warning: Some classes do not exist in the target. F1 scores for these classes will be cast to zeros.\n",
      "WARNING:root:Warning: Some classes do not exist in the target. F1 scores for these classes will be cast to zeros.\n",
      "WARNING:root:Warning: Some classes do not exist in the target. F1 scores for these classes will be cast to zeros.\n",
      "WARNING:root:Warning: Some classes do not exist in the target. F1 scores for these classes will be cast to zeros.\n"
     ]
    },
    {
     "name": "stdout",
     "output_type": "stream",
     "text": [
      "Test Error: \n",
      " Accuracy: 77.0%, F1-score: 0.6278316974639893, Avg loss: 0.388998 \n",
      "\n"
     ]
    },
    {
     "data": {
      "text/plain": [
       "Text(0.5, 1.0, 'Vanilla RNN')"
      ]
     },
     "execution_count": 22,
     "metadata": {},
     "output_type": "execute_result"
    },
    {
     "data": {
      "image/png": "[encoded data removed]",
      "text/plain": [
       "<Figure size 640x480 with 1 Axes>"
      ]
     },
     "metadata": {},
     "output_type": "display_data"
    }
   ],
   "source": [
    "from torcheval.metrics import BinaryF1Score\n",
    "\n",
    "def get_plot(dataloader, model, loss_fn):\n",
    "    # Set the model to evaluation mode - important for batch normalization and dropout layers\n",
    "    # Unnecessary in this situation but added for best practices\n",
    "    model.eval()\n",
    "    size = len(dataloader.dataset)\n",
    "    num_batches = len(dataloader)\n",
    "    test_loss, correct = 0, 0\n",
    "    \n",
    "    metric = BinaryF1Score()\n",
    "\n",
    "    metric_per_len = [BinaryF1Score() for i in range(21, MAX_LEN + 1)]\n",
    "    #print(len(metric_per_len))\n",
    "    # Evaluating the model with torch.no_grad() ensures that no gradients are computed during test mode\n",
    "    # also serves to reduce unnecessary gradient computations and memory usage for tensors with requires_grad=True\n",
    "    with torch.no_grad():\n",
    "        for X, y in dataloader:\n",
    "            pred = model(X)\n",
    "            metric.update(pred, y)\n",
    "            #print(pred)\n",
    "            #print(y)\n",
    "            #print(\"\\n\")\n",
    "            for i in range(X.shape[0]):\n",
    "                sent_len = int((X[i].flatten() != 0).sum().item())\n",
    "                metric_per_len[sent_len - 21].update(pred, y)\n",
    "\n",
    "            test_loss += loss_fn(pred, y.to(torch.float32)).item()\n",
    "            correct += (torch.round(pred) == y).type(torch.float).sum().item()\n",
    "            \n",
    "\n",
    "\n",
    "    test_loss /= num_batches\n",
    "    \n",
    "    correct /= size\n",
    "    print(f\"Test Error: \\n Accuracy: {(100*correct):>0.1f}%, F1-score: {metric.compute()}, Avg loss: {test_loss:>8f} \\n\")\n",
    "    \n",
    "    return metric_per_len\n",
    "\n",
    "loss_fn = nn.BCELoss()\n",
    "optimizer = torch.optim.Adam(model.parameters(), lr=lr)\n",
    "\n",
    "metrics = get_plot(test_loader, model, loss_fn)\n",
    "\n",
    "f1_scores = [metric.compute() for metric in metrics]\n",
    "f1_scores\n",
    "\n",
    "plt.plot(range(21, MAX_LEN + 1), f1_scores)\n",
    "plt.xlabel('Sentence length')\n",
    "plt.ylabel('F1 Score')\n",
    "plt.title('Vanilla RNN')\n",
    "#plt.xticks(range(21, MAX_LEN + 1))"
   ]
  },
  {
   "cell_type": "markdown",
   "metadata": {},
   "source": [
    "## Parameter sweep"
   ]
  },
  {
   "cell_type": "code",
   "execution_count": 12,
   "metadata": {},
   "outputs": [
    {
     "name": "stdout",
     "output_type": "stream",
     "text": [
      "{'method': 'random',\n",
      " 'metric': {'goal': 'minimize', 'name': 'loss'},\n",
      " 'parameters': {'hidden_depth': {'values': [1, 2, 3]},\n",
      "                'hidden_size': {'values': [3, 5, 10, 20]},\n",
      "                'lr': {'values': [0.01, 0.001, 0.0001]},\n",
      "                'num_epochs': {'values': [100, 200, 300]}}}\n"
     ]
    }
   ],
   "source": [
    "sweep_config = {\n",
    "    'method': 'random',\n",
    "}\n",
    "\n",
    "metric = {\n",
    "    'name': 'loss',\n",
    "    'goal': 'minimize'   \n",
    "    }\n",
    "\n",
    "sweep_config['metric'] = metric\n",
    "\n",
    "parameters_dict = {\n",
    "    'hidden_size': {\n",
    "        'values': [3, 5, 10, 20]\n",
    "    },\n",
    "    'hidden_depth': {\n",
    "        'values': [1, 2, 3]\n",
    "    },\n",
    "    'lr': {\n",
    "        'values': [1e-2, 1e-3, 1e-4]\n",
    "    },\n",
    "    'num_epochs': {\n",
    "        'values': [100, 200, 300]\n",
    "    },\n",
    "}\n",
    "\n",
    "sweep_config['parameters'] = parameters_dict\n",
    "\n",
    "import pprint\n",
    "\n",
    "pprint.pprint(sweep_config)"
   ]
  },
  {
   "cell_type": "code",
   "execution_count": 13,
   "metadata": {},
   "outputs": [
    {
     "name": "stderr",
     "output_type": "stream",
     "text": [
      "ERROR:wandb.jupyter:Failed to detect the name of this notebook, you can set it manually with the WANDB_NOTEBOOK_NAME environment variable to enable code saving.\n"
     ]
    },
    {
     "name": "stdout",
     "output_type": "stream",
     "text": [
      "Create sweep with ID: kcjqebdg\n",
      "Sweep URL: https://wandb.ai/cyrkrytaku/rnn-v3/sweeps/kcjqebdg\n"
     ]
    }
   ],
   "source": [
    "import wandb\n",
    "sweep_id = wandb.sweep(sweep_config, project='rnn-v3')"
   ]
  },
  {
   "cell_type": "code",
   "execution_count": 14,
   "metadata": {},
   "outputs": [],
   "source": [
    "\n",
    "def train_wandb(config=None):\n",
    "    with wandb.init(config=config):\n",
    "        config = wandb.config\n",
    "        \n",
    "        train_loader = DataLoader(train_dataset, batch_size=32, shuffle=True, collate_fn=collate_fn)\n",
    "        val_loader = DataLoader(TextDataset(val_data), batch_size=32, shuffle=False, collate_fn=collate_fn)\n",
    "        \n",
    "        model = RNN(embedding_dim, config.hidden_size, config.hidden_depth)\n",
    "        optimizer = torch.optim.Adam(model.parameters(), lr=config.lr)\n",
    "        criterion = nn.BCELoss()\n",
    "        \n",
    "\n",
    "        for epoch in range(config.num_epochs):\n",
    "            model.train()\n",
    "            epoch_loss = 0\n",
    "\n",
    "            for _, (inputs, targets) in enumerate(train_loader):\n",
    "                #inputs = inputs.unsqueeze(-1)  # Add input_size dimension\n",
    "                # Forward pass\n",
    "                outputs = model(inputs)\n",
    "                #print(outputs)\n",
    "                loss = criterion(outputs, targets.to(torch.float32))\n",
    "                \n",
    "                # Backward pass and optimization\n",
    "                optimizer.zero_grad()\n",
    "                loss.backward()\n",
    "                optimizer.step()\n",
    "                \n",
    "                epoch_loss += loss.item()\n",
    "            \n",
    "            wandb.log({'loss': epoch_loss / len(train_loader)})\n",
    "            if (epoch + 1) % 10 == 0:\n",
    "                print(f'Epoch [{epoch + 1}/{config.num_epochs}], Loss: {epoch_loss / len(train_loader):.4f}')\n",
    "        \n",
    "        metric = BinaryF1Score()\n",
    "        for inputs, targets in val_loader:\n",
    "            outputs = model(inputs)\n",
    "            loss = criterion(outputs, targets.to(torch.float32))\n",
    "            wandb.log({'val_loss': loss})\n",
    "            metric.update(outputs, targets)\n",
    "            wandb.log({'val_f1': metric.compute()})\n",
    "            \n",
    "            "
   ]
  },
  {
   "cell_type": "markdown",
   "metadata": {},
   "source": [
    "wandb.agent(sweep_id, train, count=5)"
   ]
  },
  {
   "cell_type": "code",
   "execution_count": 15,
   "metadata": {},
   "outputs": [
    {
     "name": "stderr",
     "output_type": "stream",
     "text": [
      "\u001b[34m\u001b[1mwandb\u001b[0m: Agent Starting Run: s7m5pszx with config:\n",
      "\u001b[34m\u001b[1mwandb\u001b[0m: \thidden_depth: 1\n",
      "\u001b[34m\u001b[1mwandb\u001b[0m: \thidden_size: 20\n",
      "\u001b[34m\u001b[1mwandb\u001b[0m: \tlr: 0.01\n",
      "\u001b[34m\u001b[1mwandb\u001b[0m: \tnum_epochs: 200\n",
      "ERROR:wandb.jupyter:Failed to detect the name of this notebook, you can set it manually with the WANDB_NOTEBOOK_NAME environment variable to enable code saving.\n",
      "\u001b[34m\u001b[1mwandb\u001b[0m: Currently logged in as: \u001b[33mmagnus-lindberg-christensen\u001b[0m (\u001b[33mcyrkrytaku\u001b[0m). Use \u001b[1m`wandb login --relogin`\u001b[0m to force relogin\n"
     ]
    },
    {
     "data": {
      "text/html": [
       "wandb version 0.17.0 is available!  To upgrade, please run:\n",
       " $ pip install wandb --upgrade"
      ],
      "text/plain": [
       "<IPython.core.display.HTML object>"
      ]
     },
     "metadata": {},
     "output_type": "display_data"
    },
    {
     "data": {
      "text/html": [
       "Tracking run with wandb version 0.16.6"
      ],
      "text/plain": [
       "<IPython.core.display.HTML object>"
      ]
     },
     "metadata": {},
     "output_type": "display_data"
    },
    {
     "data": {
      "text/html": [
       "Run data is saved locally in <code>/Users/mlc/projects/university-of-copenhagen/advanced-deep-learning/GROUP/ADL/assignment_3/wandb/run-20240527_203154-s7m5pszx</code>"
      ],
      "text/plain": [
       "<IPython.core.display.HTML object>"
      ]
     },
     "metadata": {},
     "output_type": "display_data"
    },
    {
     "data": {
      "text/html": [
       "Syncing run <strong><a href='https://wandb.ai/cyrkrytaku/rnn-v3/runs/s7m5pszx' target=\"_blank\">clear-sweep-1</a></strong> to <a href='https://wandb.ai/cyrkrytaku/rnn-v3' target=\"_blank\">Weights & Biases</a> (<a href='https://wandb.me/run' target=\"_blank\">docs</a>)<br/>Sweep page: <a href='https://wandb.ai/cyrkrytaku/rnn-v3/sweeps/kcjqebdg' target=\"_blank\">https://wandb.ai/cyrkrytaku/rnn-v3/sweeps/kcjqebdg</a>"
      ],
      "text/plain": [
       "<IPython.core.display.HTML object>"
      ]
     },
     "metadata": {},
     "output_type": "display_data"
    },
    {
     "data": {
      "text/html": [
       " View project at <a href='https://wandb.ai/cyrkrytaku/rnn-v3' target=\"_blank\">https://wandb.ai/cyrkrytaku/rnn-v3</a>"
      ],
      "text/plain": [
       "<IPython.core.display.HTML object>"
      ]
     },
     "metadata": {},
     "output_type": "display_data"
    },
    {
     "data": {
      "text/html": [
       " View sweep at <a href='https://wandb.ai/cyrkrytaku/rnn-v3/sweeps/kcjqebdg' target=\"_blank\">https://wandb.ai/cyrkrytaku/rnn-v3/sweeps/kcjqebdg</a>"
      ],
      "text/plain": [
       "<IPython.core.display.HTML object>"
      ]
     },
     "metadata": {},
     "output_type": "display_data"
    },
    {
     "data": {
      "text/html": [
       " View run at <a href='https://wandb.ai/cyrkrytaku/rnn-v3/runs/s7m5pszx' target=\"_blank\">https://wandb.ai/cyrkrytaku/rnn-v3/runs/s7m5pszx</a>"
      ],
      "text/plain": [
       "<IPython.core.display.HTML object>"
      ]
     },
     "metadata": {},
     "output_type": "display_data"
    },
    {
     "name": "stdout",
     "output_type": "stream",
     "text": [
      "Epoch [10/200], Loss: 0.1777\n",
      "Epoch [20/200], Loss: 0.1434\n",
      "Epoch [30/200], Loss: 0.2657\n",
      "Epoch [40/200], Loss: 0.1599\n",
      "Epoch [50/200], Loss: 0.1409\n",
      "Epoch [60/200], Loss: 0.1109\n",
      "Epoch [70/200], Loss: 0.1554\n",
      "Epoch [80/200], Loss: 0.1006\n",
      "Epoch [90/200], Loss: 0.1100\n",
      "Epoch [100/200], Loss: 0.0924\n",
      "Epoch [110/200], Loss: 0.1178\n",
      "Epoch [120/200], Loss: 0.2482\n",
      "Epoch [130/200], Loss: 0.1260\n",
      "Epoch [140/200], Loss: 0.2623\n",
      "Epoch [150/200], Loss: 0.1721\n",
      "Epoch [160/200], Loss: 0.1543\n",
      "Epoch [170/200], Loss: 0.2055\n",
      "Epoch [180/200], Loss: 0.1579\n",
      "Epoch [190/200], Loss: 0.3265\n",
      "Epoch [200/200], Loss: 0.3699\n"
     ]
    },
    {
     "data": {
      "text/html": [
       "<style>\n",
       "    table.wandb td:nth-child(1) { padding: 0 10px; text-align: left ; width: auto;} td:nth-child(2) {text-align: left ; width: 100%}\n",
       "    .wandb-row { display: flex; flex-direction: row; flex-wrap: wrap; justify-content: flex-start; width: 100% }\n",
       "    .wandb-col { display: flex; flex-direction: column; flex-basis: 100%; flex: 1; padding: 10px; }\n",
       "    </style>\n",
       "<div class=\"wandb-row\"><div class=\"wandb-col\"><h3>Run history:</h3><br/><table class=\"wandb\"><tr><td>loss</td><td>██▃▁▁▁▂▄▂▂▂▁▁▂▂▂▂▁▂▁▂▁▃▄▂▂▃▂▇▄▁▃▂▃▁▁▃▁▁▆</td></tr><tr><td>val_f1</td><td>▁▁▁▁▁▁▁▁▁▁▁▁▁▁▁▁▁▁▁▁▁▁▁▁▁▁▁▁▁▁▁▁</td></tr><tr><td>val_loss</td><td>▄▃▂▃▃▄▆▄▄▁▅▁▆▂▄█▃▄▂▂▃▂▅▄▇▄▄▄▄▇▅█</td></tr></table><br/></div><div class=\"wandb-col\"><h3>Run summary:</h3><br/><table class=\"wandb\"><tr><td>loss</td><td>0.36986</td></tr><tr><td>val_f1</td><td>0.0</td></tr><tr><td>val_loss</td><td>0.64317</td></tr></table><br/></div></div>"
      ],
      "text/plain": [
       "<IPython.core.display.HTML object>"
      ]
     },
     "metadata": {},
     "output_type": "display_data"
    },
    {
     "data": {
      "text/html": [
       " View run <strong style=\"color:#cdcd00\">clear-sweep-1</strong> at: <a href='https://wandb.ai/cyrkrytaku/rnn-v3/runs/s7m5pszx' target=\"_blank\">https://wandb.ai/cyrkrytaku/rnn-v3/runs/s7m5pszx</a><br/> View project at: <a href='https://wandb.ai/cyrkrytaku/rnn-v3' target=\"_blank\">https://wandb.ai/cyrkrytaku/rnn-v3</a><br/>Synced 6 W&B file(s), 0 media file(s), 0 artifact file(s) and 0 other file(s)"
      ],
      "text/plain": [
       "<IPython.core.display.HTML object>"
      ]
     },
     "metadata": {},
     "output_type": "display_data"
    },
    {
     "data": {
      "text/html": [
       "Find logs at: <code>./wandb/run-20240527_203154-s7m5pszx/logs</code>"
      ],
      "text/plain": [
       "<IPython.core.display.HTML object>"
      ]
     },
     "metadata": {},
     "output_type": "display_data"
    },
    {
     "name": "stderr",
     "output_type": "stream",
     "text": [
      "\u001b[34m\u001b[1mwandb\u001b[0m: Agent Starting Run: pta49hvk with config:\n",
      "\u001b[34m\u001b[1mwandb\u001b[0m: \thidden_depth: 3\n",
      "\u001b[34m\u001b[1mwandb\u001b[0m: \thidden_size: 3\n",
      "\u001b[34m\u001b[1mwandb\u001b[0m: \tlr: 0.0001\n",
      "\u001b[34m\u001b[1mwandb\u001b[0m: \tnum_epochs: 300\n",
      "Failed to detect the name of this notebook, you can set it manually with the WANDB_NOTEBOOK_NAME environment variable to enable code saving.\n"
     ]
    },
    {
     "data": {
      "text/html": [
       "wandb version 0.17.0 is available!  To upgrade, please run:\n",
       " $ pip install wandb --upgrade"
      ],
      "text/plain": [
       "<IPython.core.display.HTML object>"
      ]
     },
     "metadata": {},
     "output_type": "display_data"
    },
    {
     "data": {
      "text/html": [
       "Tracking run with wandb version 0.16.6"
      ],
      "text/plain": [
       "<IPython.core.display.HTML object>"
      ]
     },
     "metadata": {},
     "output_type": "display_data"
    },
    {
     "data": {
      "text/html": [
       "Run data is saved locally in <code>/Users/mlc/projects/university-of-copenhagen/advanced-deep-learning/GROUP/ADL/assignment_3/wandb/run-20240527_203215-pta49hvk</code>"
      ],
      "text/plain": [
       "<IPython.core.display.HTML object>"
      ]
     },
     "metadata": {},
     "output_type": "display_data"
    },
    {
     "data": {
      "text/html": [
       "Syncing run <strong><a href='https://wandb.ai/cyrkrytaku/rnn-v3/runs/pta49hvk' target=\"_blank\">pleasant-sweep-2</a></strong> to <a href='https://wandb.ai/cyrkrytaku/rnn-v3' target=\"_blank\">Weights & Biases</a> (<a href='https://wandb.me/run' target=\"_blank\">docs</a>)<br/>Sweep page: <a href='https://wandb.ai/cyrkrytaku/rnn-v3/sweeps/kcjqebdg' target=\"_blank\">https://wandb.ai/cyrkrytaku/rnn-v3/sweeps/kcjqebdg</a>"
      ],
      "text/plain": [
       "<IPython.core.display.HTML object>"
      ]
     },
     "metadata": {},
     "output_type": "display_data"
    },
    {
     "data": {
      "text/html": [
       " View project at <a href='https://wandb.ai/cyrkrytaku/rnn-v3' target=\"_blank\">https://wandb.ai/cyrkrytaku/rnn-v3</a>"
      ],
      "text/plain": [
       "<IPython.core.display.HTML object>"
      ]
     },
     "metadata": {},
     "output_type": "display_data"
    },
    {
     "data": {
      "text/html": [
       " View sweep at <a href='https://wandb.ai/cyrkrytaku/rnn-v3/sweeps/kcjqebdg' target=\"_blank\">https://wandb.ai/cyrkrytaku/rnn-v3/sweeps/kcjqebdg</a>"
      ],
      "text/plain": [
       "<IPython.core.display.HTML object>"
      ]
     },
     "metadata": {},
     "output_type": "display_data"
    },
    {
     "data": {
      "text/html": [
       " View run at <a href='https://wandb.ai/cyrkrytaku/rnn-v3/runs/pta49hvk' target=\"_blank\">https://wandb.ai/cyrkrytaku/rnn-v3/runs/pta49hvk</a>"
      ],
      "text/plain": [
       "<IPython.core.display.HTML object>"
      ]
     },
     "metadata": {},
     "output_type": "display_data"
    },
    {
     "name": "stdout",
     "output_type": "stream",
     "text": [
      "Epoch [10/300], Loss: 0.6162\n",
      "Epoch [20/300], Loss: 0.5629\n",
      "Epoch [30/300], Loss: 0.5300\n",
      "Epoch [40/300], Loss: 0.5171\n",
      "Epoch [50/300], Loss: 0.5087\n",
      "Epoch [60/300], Loss: 0.5042\n",
      "Epoch [70/300], Loss: 0.5086\n",
      "Epoch [80/300], Loss: 0.5038\n",
      "Epoch [90/300], Loss: 0.5069\n",
      "Epoch [100/300], Loss: 0.5065\n",
      "Epoch [110/300], Loss: 0.4985\n",
      "Epoch [120/300], Loss: 0.4944\n",
      "Epoch [130/300], Loss: 0.4983\n",
      "Epoch [140/300], Loss: 0.5022\n",
      "Epoch [150/300], Loss: 0.4982\n",
      "Epoch [160/300], Loss: 0.4941\n",
      "Epoch [170/300], Loss: 0.4940\n",
      "Epoch [180/300], Loss: 0.4940\n",
      "Epoch [190/300], Loss: 0.5062\n",
      "Epoch [200/300], Loss: 0.4980\n",
      "Epoch [210/300], Loss: 0.5020\n",
      "Epoch [220/300], Loss: 0.5020\n",
      "Epoch [230/300], Loss: 0.5099\n",
      "Epoch [240/300], Loss: 0.5015\n",
      "Epoch [250/300], Loss: 0.4922\n",
      "Epoch [260/300], Loss: 0.4302\n",
      "Epoch [270/300], Loss: 0.3967\n",
      "Epoch [280/300], Loss: 0.3773\n",
      "Epoch [290/300], Loss: 0.3634\n",
      "Epoch [300/300], Loss: 0.3546\n"
     ]
    },
    {
     "data": {
      "text/html": [
       "<style>\n",
       "    table.wandb td:nth-child(1) { padding: 0 10px; text-align: left ; width: auto;} td:nth-child(2) {text-align: left ; width: 100%}\n",
       "    .wandb-row { display: flex; flex-direction: row; flex-wrap: wrap; justify-content: flex-start; width: 100% }\n",
       "    .wandb-col { display: flex; flex-direction: column; flex-basis: 100%; flex: 1; padding: 10px; }\n",
       "    </style>\n",
       "<div class=\"wandb-row\"><div class=\"wandb-col\"><h3>Run history:</h3><br/><table class=\"wandb\"><tr><td>loss</td><td>█▇▆▅▅▅▄▄▄▄▄▄▄▄▄▄▄▄▄▄▄▄▄▄▄▄▄▄▄▄▄▄▄▄▃▂▂▁▁▁</td></tr><tr><td>val_f1</td><td>▁▂▂▃▄▆██▆▆▆▅▅▅▅▅▅▅▅▅▅▅▆▆▆▆▆▆▆▇▇▇</td></tr><tr><td>val_loss</td><td>▃▃▃▄▁▃▃▃▅▂▄▂▅▃▆▆▄▂▄▃▅▁▄▄▅▃▃▄▃▄▄█</td></tr></table><br/></div><div class=\"wandb-col\"><h3>Run summary:</h3><br/><table class=\"wandb\"><tr><td>loss</td><td>0.35456</td></tr><tr><td>val_f1</td><td>0.93023</td></tr><tr><td>val_loss</td><td>0.38733</td></tr></table><br/></div></div>"
      ],
      "text/plain": [
       "<IPython.core.display.HTML object>"
      ]
     },
     "metadata": {},
     "output_type": "display_data"
    },
    {
     "data": {
      "text/html": [
       " View run <strong style=\"color:#cdcd00\">pleasant-sweep-2</strong> at: <a href='https://wandb.ai/cyrkrytaku/rnn-v3/runs/pta49hvk' target=\"_blank\">https://wandb.ai/cyrkrytaku/rnn-v3/runs/pta49hvk</a><br/> View project at: <a href='https://wandb.ai/cyrkrytaku/rnn-v3' target=\"_blank\">https://wandb.ai/cyrkrytaku/rnn-v3</a><br/>Synced 6 W&B file(s), 0 media file(s), 0 artifact file(s) and 0 other file(s)"
      ],
      "text/plain": [
       "<IPython.core.display.HTML object>"
      ]
     },
     "metadata": {},
     "output_type": "display_data"
    },
    {
     "data": {
      "text/html": [
       "Find logs at: <code>./wandb/run-20240527_203215-pta49hvk/logs</code>"
      ],
      "text/plain": [
       "<IPython.core.display.HTML object>"
      ]
     },
     "metadata": {},
     "output_type": "display_data"
    },
    {
     "name": "stderr",
     "output_type": "stream",
     "text": [
      "\u001b[34m\u001b[1mwandb\u001b[0m: Agent Starting Run: g63ic4f3 with config:\n",
      "\u001b[34m\u001b[1mwandb\u001b[0m: \thidden_depth: 1\n",
      "\u001b[34m\u001b[1mwandb\u001b[0m: \thidden_size: 10\n",
      "\u001b[34m\u001b[1mwandb\u001b[0m: \tlr: 0.0001\n",
      "\u001b[34m\u001b[1mwandb\u001b[0m: \tnum_epochs: 100\n",
      "Failed to detect the name of this notebook, you can set it manually with the WANDB_NOTEBOOK_NAME environment variable to enable code saving.\n"
     ]
    },
    {
     "data": {
      "text/html": [
       "wandb version 0.17.0 is available!  To upgrade, please run:\n",
       " $ pip install wandb --upgrade"
      ],
      "text/plain": [
       "<IPython.core.display.HTML object>"
      ]
     },
     "metadata": {},
     "output_type": "display_data"
    },
    {
     "data": {
      "text/html": [
       "Tracking run with wandb version 0.16.6"
      ],
      "text/plain": [
       "<IPython.core.display.HTML object>"
      ]
     },
     "metadata": {},
     "output_type": "display_data"
    },
    {
     "data": {
      "text/html": [
       "Run data is saved locally in <code>/Users/mlc/projects/university-of-copenhagen/advanced-deep-learning/GROUP/ADL/assignment_3/wandb/run-20240527_203252-g63ic4f3</code>"
      ],
      "text/plain": [
       "<IPython.core.display.HTML object>"
      ]
     },
     "metadata": {},
     "output_type": "display_data"
    },
    {
     "data": {
      "text/html": [
       "Syncing run <strong><a href='https://wandb.ai/cyrkrytaku/rnn-v3/runs/g63ic4f3' target=\"_blank\">kind-sweep-3</a></strong> to <a href='https://wandb.ai/cyrkrytaku/rnn-v3' target=\"_blank\">Weights & Biases</a> (<a href='https://wandb.me/run' target=\"_blank\">docs</a>)<br/>Sweep page: <a href='https://wandb.ai/cyrkrytaku/rnn-v3/sweeps/kcjqebdg' target=\"_blank\">https://wandb.ai/cyrkrytaku/rnn-v3/sweeps/kcjqebdg</a>"
      ],
      "text/plain": [
       "<IPython.core.display.HTML object>"
      ]
     },
     "metadata": {},
     "output_type": "display_data"
    },
    {
     "data": {
      "text/html": [
       " View project at <a href='https://wandb.ai/cyrkrytaku/rnn-v3' target=\"_blank\">https://wandb.ai/cyrkrytaku/rnn-v3</a>"
      ],
      "text/plain": [
       "<IPython.core.display.HTML object>"
      ]
     },
     "metadata": {},
     "output_type": "display_data"
    },
    {
     "data": {
      "text/html": [
       " View sweep at <a href='https://wandb.ai/cyrkrytaku/rnn-v3/sweeps/kcjqebdg' target=\"_blank\">https://wandb.ai/cyrkrytaku/rnn-v3/sweeps/kcjqebdg</a>"
      ],
      "text/plain": [
       "<IPython.core.display.HTML object>"
      ]
     },
     "metadata": {},
     "output_type": "display_data"
    },
    {
     "data": {
      "text/html": [
       " View run at <a href='https://wandb.ai/cyrkrytaku/rnn-v3/runs/g63ic4f3' target=\"_blank\">https://wandb.ai/cyrkrytaku/rnn-v3/runs/g63ic4f3</a>"
      ],
      "text/plain": [
       "<IPython.core.display.HTML object>"
      ]
     },
     "metadata": {},
     "output_type": "display_data"
    },
    {
     "name": "stdout",
     "output_type": "stream",
     "text": [
      "Epoch [10/100], Loss: 0.6277\n",
      "Epoch [20/100], Loss: 0.5565\n",
      "Epoch [30/100], Loss: 0.5113\n",
      "Epoch [40/100], Loss: 0.4929\n",
      "Epoch [50/100], Loss: 0.4917\n",
      "Epoch [60/100], Loss: 0.4818\n",
      "Epoch [70/100], Loss: 0.4122\n",
      "Epoch [80/100], Loss: 0.3770\n",
      "Epoch [90/100], Loss: 0.3765\n",
      "Epoch [100/100], Loss: 0.3756\n"
     ]
    },
    {
     "data": {
      "text/html": [
       "<style>\n",
       "    table.wandb td:nth-child(1) { padding: 0 10px; text-align: left ; width: auto;} td:nth-child(2) {text-align: left ; width: 100%}\n",
       "    .wandb-row { display: flex; flex-direction: row; flex-wrap: wrap; justify-content: flex-start; width: 100% }\n",
       "    .wandb-col { display: flex; flex-direction: column; flex-basis: 100%; flex: 1; padding: 10px; }\n",
       "    </style>\n",
       "<div class=\"wandb-row\"><div class=\"wandb-col\"><h3>Run history:</h3><br/><table class=\"wandb\"><tr><td>loss</td><td>██▇▇▆▆▆▅▅▅▄▄▄▄▄▄▄▄▄▄▄▄▄▄▄▃▂▂▂▁▁▁▁▁▁▁▁▁▁▁</td></tr><tr><td>val_f1</td><td>▁▁▁▁▁▁▁▁▁▁▁▁▁▁▁▁▁▁▁▁▁▁▁▁▁▁▁▁▁▁▁▁</td></tr><tr><td>val_loss</td><td>▃▂▂▃▁▄▅▃▄▂▅▁▅▂▅▇▄▂▄▃▃▁▅▄▆▃▃▃▃▆▅█</td></tr></table><br/></div><div class=\"wandb-col\"><h3>Run summary:</h3><br/><table class=\"wandb\"><tr><td>loss</td><td>0.3756</td></tr><tr><td>val_f1</td><td>0.0</td></tr><tr><td>val_loss</td><td>0.44309</td></tr></table><br/></div></div>"
      ],
      "text/plain": [
       "<IPython.core.display.HTML object>"
      ]
     },
     "metadata": {},
     "output_type": "display_data"
    },
    {
     "data": {
      "text/html": [
       " View run <strong style=\"color:#cdcd00\">kind-sweep-3</strong> at: <a href='https://wandb.ai/cyrkrytaku/rnn-v3/runs/g63ic4f3' target=\"_blank\">https://wandb.ai/cyrkrytaku/rnn-v3/runs/g63ic4f3</a><br/> View project at: <a href='https://wandb.ai/cyrkrytaku/rnn-v3' target=\"_blank\">https://wandb.ai/cyrkrytaku/rnn-v3</a><br/>Synced 6 W&B file(s), 0 media file(s), 0 artifact file(s) and 0 other file(s)"
      ],
      "text/plain": [
       "<IPython.core.display.HTML object>"
      ]
     },
     "metadata": {},
     "output_type": "display_data"
    },
    {
     "data": {
      "text/html": [
       "Find logs at: <code>./wandb/run-20240527_203252-g63ic4f3/logs</code>"
      ],
      "text/plain": [
       "<IPython.core.display.HTML object>"
      ]
     },
     "metadata": {},
     "output_type": "display_data"
    },
    {
     "name": "stderr",
     "output_type": "stream",
     "text": [
      "\u001b[34m\u001b[1mwandb\u001b[0m: Agent Starting Run: lubj3i6l with config:\n",
      "\u001b[34m\u001b[1mwandb\u001b[0m: \thidden_depth: 1\n",
      "\u001b[34m\u001b[1mwandb\u001b[0m: \thidden_size: 20\n",
      "\u001b[34m\u001b[1mwandb\u001b[0m: \tlr: 0.01\n",
      "\u001b[34m\u001b[1mwandb\u001b[0m: \tnum_epochs: 300\n",
      "Failed to detect the name of this notebook, you can set it manually with the WANDB_NOTEBOOK_NAME environment variable to enable code saving.\n"
     ]
    },
    {
     "data": {
      "text/html": [
       "wandb version 0.17.0 is available!  To upgrade, please run:\n",
       " $ pip install wandb --upgrade"
      ],
      "text/plain": [
       "<IPython.core.display.HTML object>"
      ]
     },
     "metadata": {},
     "output_type": "display_data"
    },
    {
     "data": {
      "text/html": [
       "Tracking run with wandb version 0.16.6"
      ],
      "text/plain": [
       "<IPython.core.display.HTML object>"
      ]
     },
     "metadata": {},
     "output_type": "display_data"
    },
    {
     "data": {
      "text/html": [
       "Run data is saved locally in <code>/Users/mlc/projects/university-of-copenhagen/advanced-deep-learning/GROUP/ADL/assignment_3/wandb/run-20240527_203307-lubj3i6l</code>"
      ],
      "text/plain": [
       "<IPython.core.display.HTML object>"
      ]
     },
     "metadata": {},
     "output_type": "display_data"
    },
    {
     "data": {
      "text/html": [
       "Syncing run <strong><a href='https://wandb.ai/cyrkrytaku/rnn-v3/runs/lubj3i6l' target=\"_blank\">clear-sweep-4</a></strong> to <a href='https://wandb.ai/cyrkrytaku/rnn-v3' target=\"_blank\">Weights & Biases</a> (<a href='https://wandb.me/run' target=\"_blank\">docs</a>)<br/>Sweep page: <a href='https://wandb.ai/cyrkrytaku/rnn-v3/sweeps/kcjqebdg' target=\"_blank\">https://wandb.ai/cyrkrytaku/rnn-v3/sweeps/kcjqebdg</a>"
      ],
      "text/plain": [
       "<IPython.core.display.HTML object>"
      ]
     },
     "metadata": {},
     "output_type": "display_data"
    },
    {
     "data": {
      "text/html": [
       " View project at <a href='https://wandb.ai/cyrkrytaku/rnn-v3' target=\"_blank\">https://wandb.ai/cyrkrytaku/rnn-v3</a>"
      ],
      "text/plain": [
       "<IPython.core.display.HTML object>"
      ]
     },
     "metadata": {},
     "output_type": "display_data"
    },
    {
     "data": {
      "text/html": [
       " View sweep at <a href='https://wandb.ai/cyrkrytaku/rnn-v3/sweeps/kcjqebdg' target=\"_blank\">https://wandb.ai/cyrkrytaku/rnn-v3/sweeps/kcjqebdg</a>"
      ],
      "text/plain": [
       "<IPython.core.display.HTML object>"
      ]
     },
     "metadata": {},
     "output_type": "display_data"
    },
    {
     "data": {
      "text/html": [
       " View run at <a href='https://wandb.ai/cyrkrytaku/rnn-v3/runs/lubj3i6l' target=\"_blank\">https://wandb.ai/cyrkrytaku/rnn-v3/runs/lubj3i6l</a>"
      ],
      "text/plain": [
       "<IPython.core.display.HTML object>"
      ]
     },
     "metadata": {},
     "output_type": "display_data"
    },
    {
     "name": "stdout",
     "output_type": "stream",
     "text": [
      "Epoch [10/300], Loss: 0.2398\n",
      "Epoch [20/300], Loss: 0.1536\n",
      "Epoch [30/300], Loss: 0.1485\n",
      "Epoch [40/300], Loss: 0.5125\n",
      "Epoch [50/300], Loss: 0.5029\n",
      "Epoch [60/300], Loss: 0.4885\n",
      "Epoch [70/300], Loss: 0.4570\n",
      "Epoch [80/300], Loss: 0.3847\n",
      "Epoch [90/300], Loss: 0.4415\n",
      "Epoch [100/300], Loss: 0.3507\n",
      "Epoch [110/300], Loss: 0.2495\n",
      "Epoch [120/300], Loss: 0.1740\n",
      "Epoch [130/300], Loss: 0.1820\n",
      "Epoch [140/300], Loss: 0.1495\n",
      "Epoch [150/300], Loss: 0.2069\n",
      "Epoch [160/300], Loss: 0.3456\n",
      "Epoch [170/300], Loss: 0.0861\n",
      "Epoch [180/300], Loss: 0.0541\n",
      "Epoch [190/300], Loss: 0.3242\n",
      "Epoch [200/300], Loss: 0.2092\n",
      "Epoch [210/300], Loss: 0.1872\n",
      "Epoch [220/300], Loss: 0.4088\n",
      "Epoch [230/300], Loss: 0.1374\n",
      "Epoch [240/300], Loss: 0.0823\n",
      "Epoch [250/300], Loss: 0.1656\n",
      "Epoch [260/300], Loss: 0.2796\n",
      "Epoch [270/300], Loss: 0.3725\n",
      "Epoch [280/300], Loss: 0.5642\n",
      "Epoch [290/300], Loss: 0.1910\n",
      "Epoch [300/300], Loss: 0.4174\n"
     ]
    },
    {
     "data": {
      "text/html": [
       "<style>\n",
       "    table.wandb td:nth-child(1) { padding: 0 10px; text-align: left ; width: auto;} td:nth-child(2) {text-align: left ; width: 100%}\n",
       "    .wandb-row { display: flex; flex-direction: row; flex-wrap: wrap; justify-content: flex-start; width: 100% }\n",
       "    .wandb-col { display: flex; flex-direction: column; flex-basis: 100%; flex: 1; padding: 10px; }\n",
       "    </style>\n",
       "<div class=\"wandb-row\"><div class=\"wandb-col\"><h3>Run history:</h3><br/><table class=\"wandb\"><tr><td>loss</td><td>▇▃█▂▃███▇▇▆█▆▆▄▄▃▂▂▄▃▅▂▁▁▄▃▃▃▃▃▃▂▅▄▄▄▅▄▇</td></tr><tr><td>val_f1</td><td>▁▁▁▁▁▁▁▁▁▁▁▁▁▁▁▁▁▁▁▁▁▁▁▁▁▁▁▁▁▁▁▁</td></tr><tr><td>val_loss</td><td>▄▃▂▃▂▄▆▃▄▁▅▁▆▃▃█▃▃▃▄▄▂▅▄▇▃▄▃▃▇▅█</td></tr></table><br/></div><div class=\"wandb-col\"><h3>Run summary:</h3><br/><table class=\"wandb\"><tr><td>loss</td><td>0.41741</td></tr><tr><td>val_f1</td><td>0.0</td></tr><tr><td>val_loss</td><td>0.66421</td></tr></table><br/></div></div>"
      ],
      "text/plain": [
       "<IPython.core.display.HTML object>"
      ]
     },
     "metadata": {},
     "output_type": "display_data"
    },
    {
     "data": {
      "text/html": [
       " View run <strong style=\"color:#cdcd00\">clear-sweep-4</strong> at: <a href='https://wandb.ai/cyrkrytaku/rnn-v3/runs/lubj3i6l' target=\"_blank\">https://wandb.ai/cyrkrytaku/rnn-v3/runs/lubj3i6l</a><br/> View project at: <a href='https://wandb.ai/cyrkrytaku/rnn-v3' target=\"_blank\">https://wandb.ai/cyrkrytaku/rnn-v3</a><br/>Synced 6 W&B file(s), 0 media file(s), 0 artifact file(s) and 0 other file(s)"
      ],
      "text/plain": [
       "<IPython.core.display.HTML object>"
      ]
     },
     "metadata": {},
     "output_type": "display_data"
    },
    {
     "data": {
      "text/html": [
       "Find logs at: <code>./wandb/run-20240527_203307-lubj3i6l/logs</code>"
      ],
      "text/plain": [
       "<IPython.core.display.HTML object>"
      ]
     },
     "metadata": {},
     "output_type": "display_data"
    },
    {
     "name": "stderr",
     "output_type": "stream",
     "text": [
      "\u001b[34m\u001b[1mwandb\u001b[0m: Agent Starting Run: ygxcaymj with config:\n",
      "\u001b[34m\u001b[1mwandb\u001b[0m: \thidden_depth: 2\n",
      "\u001b[34m\u001b[1mwandb\u001b[0m: \thidden_size: 5\n",
      "\u001b[34m\u001b[1mwandb\u001b[0m: \tlr: 0.01\n",
      "\u001b[34m\u001b[1mwandb\u001b[0m: \tnum_epochs: 200\n",
      "Failed to detect the name of this notebook, you can set it manually with the WANDB_NOTEBOOK_NAME environment variable to enable code saving.\n"
     ]
    },
    {
     "data": {
      "text/html": [
       "wandb version 0.17.0 is available!  To upgrade, please run:\n",
       " $ pip install wandb --upgrade"
      ],
      "text/plain": [
       "<IPython.core.display.HTML object>"
      ]
     },
     "metadata": {},
     "output_type": "display_data"
    },
    {
     "data": {
      "text/html": [
       "Tracking run with wandb version 0.16.6"
      ],
      "text/plain": [
       "<IPython.core.display.HTML object>"
      ]
     },
     "metadata": {},
     "output_type": "display_data"
    },
    {
     "data": {
      "text/html": [
       "Run data is saved locally in <code>/Users/mlc/projects/university-of-copenhagen/advanced-deep-learning/GROUP/ADL/assignment_3/wandb/run-20240527_203333-ygxcaymj</code>"
      ],
      "text/plain": [
       "<IPython.core.display.HTML object>"
      ]
     },
     "metadata": {},
     "output_type": "display_data"
    },
    {
     "data": {
      "text/html": [
       "Syncing run <strong><a href='https://wandb.ai/cyrkrytaku/rnn-v3/runs/ygxcaymj' target=\"_blank\">vibrant-sweep-5</a></strong> to <a href='https://wandb.ai/cyrkrytaku/rnn-v3' target=\"_blank\">Weights & Biases</a> (<a href='https://wandb.me/run' target=\"_blank\">docs</a>)<br/>Sweep page: <a href='https://wandb.ai/cyrkrytaku/rnn-v3/sweeps/kcjqebdg' target=\"_blank\">https://wandb.ai/cyrkrytaku/rnn-v3/sweeps/kcjqebdg</a>"
      ],
      "text/plain": [
       "<IPython.core.display.HTML object>"
      ]
     },
     "metadata": {},
     "output_type": "display_data"
    },
    {
     "data": {
      "text/html": [
       " View project at <a href='https://wandb.ai/cyrkrytaku/rnn-v3' target=\"_blank\">https://wandb.ai/cyrkrytaku/rnn-v3</a>"
      ],
      "text/plain": [
       "<IPython.core.display.HTML object>"
      ]
     },
     "metadata": {},
     "output_type": "display_data"
    },
    {
     "data": {
      "text/html": [
       " View sweep at <a href='https://wandb.ai/cyrkrytaku/rnn-v3/sweeps/kcjqebdg' target=\"_blank\">https://wandb.ai/cyrkrytaku/rnn-v3/sweeps/kcjqebdg</a>"
      ],
      "text/plain": [
       "<IPython.core.display.HTML object>"
      ]
     },
     "metadata": {},
     "output_type": "display_data"
    },
    {
     "data": {
      "text/html": [
       " View run at <a href='https://wandb.ai/cyrkrytaku/rnn-v3/runs/ygxcaymj' target=\"_blank\">https://wandb.ai/cyrkrytaku/rnn-v3/runs/ygxcaymj</a>"
      ],
      "text/plain": [
       "<IPython.core.display.HTML object>"
      ]
     },
     "metadata": {},
     "output_type": "display_data"
    },
    {
     "name": "stdout",
     "output_type": "stream",
     "text": [
      "Epoch [10/200], Loss: 0.4128\n",
      "Epoch [20/200], Loss: 0.3382\n",
      "Epoch [30/200], Loss: 0.3515\n",
      "Epoch [40/200], Loss: 0.2363\n",
      "Epoch [50/200], Loss: 0.1948\n",
      "Epoch [60/200], Loss: 0.2132\n",
      "Epoch [70/200], Loss: 0.2085\n",
      "Epoch [80/200], Loss: 0.1927\n",
      "Epoch [90/200], Loss: 0.3456\n",
      "Epoch [100/200], Loss: 0.3109\n",
      "Epoch [110/200], Loss: 0.2316\n",
      "Epoch [120/200], Loss: 0.2124\n",
      "Epoch [130/200], Loss: 0.1972\n",
      "Epoch [140/200], Loss: 0.2132\n",
      "Epoch [150/200], Loss: 0.3534\n",
      "Epoch [160/200], Loss: 0.2096\n",
      "Epoch [170/200], Loss: 0.2078\n",
      "Epoch [180/200], Loss: 0.1803\n",
      "Epoch [190/200], Loss: 0.4759\n",
      "Epoch [200/200], Loss: 0.4828\n"
     ]
    },
    {
     "data": {
      "text/html": [
       "<style>\n",
       "    table.wandb td:nth-child(1) { padding: 0 10px; text-align: left ; width: auto;} td:nth-child(2) {text-align: left ; width: 100%}\n",
       "    .wandb-row { display: flex; flex-direction: row; flex-wrap: wrap; justify-content: flex-start; width: 100% }\n",
       "    .wandb-col { display: flex; flex-direction: column; flex-basis: 100%; flex: 1; padding: 10px; }\n",
       "    </style>\n",
       "<div class=\"wandb-row\"><div class=\"wandb-col\"><h3>Run history:</h3><br/><table class=\"wandb\"><tr><td>loss</td><td>█▅▆▆▂▂▄▃▁▁▂▁▃▁▁▁▁▃▅▅▂▄▂▂▂▂▂▂▂▆▆▂▂▃▁▁▂▇▇█</td></tr><tr><td>val_f1</td><td>▁▁▁▁▁▁▁▁▁▁▁▁▁▁▁▁▁▁▁▁▁▁▁▁▁▁▁▁▁▁▁▁</td></tr><tr><td>val_loss</td><td>▄▃▂▂▂▄▆▄▄▁▅▁▅▂▃█▂▃▃▃▃▂▅▃▆▄▄▃▂▇▅█</td></tr></table><br/></div><div class=\"wandb-col\"><h3>Run summary:</h3><br/><table class=\"wandb\"><tr><td>loss</td><td>0.48276</td></tr><tr><td>val_f1</td><td>0.0</td></tr><tr><td>val_loss</td><td>0.77942</td></tr></table><br/></div></div>"
      ],
      "text/plain": [
       "<IPython.core.display.HTML object>"
      ]
     },
     "metadata": {},
     "output_type": "display_data"
    },
    {
     "data": {
      "text/html": [
       " View run <strong style=\"color:#cdcd00\">vibrant-sweep-5</strong> at: <a href='https://wandb.ai/cyrkrytaku/rnn-v3/runs/ygxcaymj' target=\"_blank\">https://wandb.ai/cyrkrytaku/rnn-v3/runs/ygxcaymj</a><br/> View project at: <a href='https://wandb.ai/cyrkrytaku/rnn-v3' target=\"_blank\">https://wandb.ai/cyrkrytaku/rnn-v3</a><br/>Synced 6 W&B file(s), 0 media file(s), 0 artifact file(s) and 0 other file(s)"
      ],
      "text/plain": [
       "<IPython.core.display.HTML object>"
      ]
     },
     "metadata": {},
     "output_type": "display_data"
    },
    {
     "data": {
      "text/html": [
       "Find logs at: <code>./wandb/run-20240527_203333-ygxcaymj/logs</code>"
      ],
      "text/plain": [
       "<IPython.core.display.HTML object>"
      ]
     },
     "metadata": {},
     "output_type": "display_data"
    },
    {
     "name": "stderr",
     "output_type": "stream",
     "text": [
      "\u001b[34m\u001b[1mwandb\u001b[0m: Sweep Agent: Waiting for job.\n",
      "\u001b[34m\u001b[1mwandb\u001b[0m: Job received.\n",
      "\u001b[34m\u001b[1mwandb\u001b[0m: Agent Starting Run: x2tsnhyy with config:\n",
      "\u001b[34m\u001b[1mwandb\u001b[0m: \thidden_depth: 3\n",
      "\u001b[34m\u001b[1mwandb\u001b[0m: \thidden_size: 3\n",
      "\u001b[34m\u001b[1mwandb\u001b[0m: \tlr: 0.01\n",
      "\u001b[34m\u001b[1mwandb\u001b[0m: \tnum_epochs: 200\n",
      "Failed to detect the name of this notebook, you can set it manually with the WANDB_NOTEBOOK_NAME environment variable to enable code saving.\n"
     ]
    },
    {
     "data": {
      "text/html": [
       "wandb version 0.17.0 is available!  To upgrade, please run:\n",
       " $ pip install wandb --upgrade"
      ],
      "text/plain": [
       "<IPython.core.display.HTML object>"
      ]
     },
     "metadata": {},
     "output_type": "display_data"
    },
    {
     "data": {
      "text/html": [
       "Tracking run with wandb version 0.16.6"
      ],
      "text/plain": [
       "<IPython.core.display.HTML object>"
      ]
     },
     "metadata": {},
     "output_type": "display_data"
    },
    {
     "data": {
      "text/html": [
       "Run data is saved locally in <code>/Users/mlc/projects/university-of-copenhagen/advanced-deep-learning/GROUP/ADL/assignment_3/wandb/run-20240527_203404-x2tsnhyy</code>"
      ],
      "text/plain": [
       "<IPython.core.display.HTML object>"
      ]
     },
     "metadata": {},
     "output_type": "display_data"
    },
    {
     "data": {
      "text/html": [
       "Syncing run <strong><a href='https://wandb.ai/cyrkrytaku/rnn-v3/runs/x2tsnhyy' target=\"_blank\">bumbling-sweep-6</a></strong> to <a href='https://wandb.ai/cyrkrytaku/rnn-v3' target=\"_blank\">Weights & Biases</a> (<a href='https://wandb.me/run' target=\"_blank\">docs</a>)<br/>Sweep page: <a href='https://wandb.ai/cyrkrytaku/rnn-v3/sweeps/kcjqebdg' target=\"_blank\">https://wandb.ai/cyrkrytaku/rnn-v3/sweeps/kcjqebdg</a>"
      ],
      "text/plain": [
       "<IPython.core.display.HTML object>"
      ]
     },
     "metadata": {},
     "output_type": "display_data"
    },
    {
     "data": {
      "text/html": [
       " View project at <a href='https://wandb.ai/cyrkrytaku/rnn-v3' target=\"_blank\">https://wandb.ai/cyrkrytaku/rnn-v3</a>"
      ],
      "text/plain": [
       "<IPython.core.display.HTML object>"
      ]
     },
     "metadata": {},
     "output_type": "display_data"
    },
    {
     "data": {
      "text/html": [
       " View sweep at <a href='https://wandb.ai/cyrkrytaku/rnn-v3/sweeps/kcjqebdg' target=\"_blank\">https://wandb.ai/cyrkrytaku/rnn-v3/sweeps/kcjqebdg</a>"
      ],
      "text/plain": [
       "<IPython.core.display.HTML object>"
      ]
     },
     "metadata": {},
     "output_type": "display_data"
    },
    {
     "data": {
      "text/html": [
       " View run at <a href='https://wandb.ai/cyrkrytaku/rnn-v3/runs/x2tsnhyy' target=\"_blank\">https://wandb.ai/cyrkrytaku/rnn-v3/runs/x2tsnhyy</a>"
      ],
      "text/plain": [
       "<IPython.core.display.HTML object>"
      ]
     },
     "metadata": {},
     "output_type": "display_data"
    },
    {
     "name": "stdout",
     "output_type": "stream",
     "text": [
      "Epoch [10/200], Loss: 0.4987\n",
      "Epoch [20/200], Loss: 0.4517\n",
      "Epoch [30/200], Loss: 0.4945\n",
      "Epoch [40/200], Loss: 0.5093\n",
      "Epoch [50/200], Loss: 0.4144\n",
      "Epoch [60/200], Loss: 0.2937\n",
      "Epoch [70/200], Loss: 0.4063\n",
      "Epoch [80/200], Loss: 0.2502\n",
      "Epoch [90/200], Loss: 0.2196\n",
      "Epoch [100/200], Loss: 0.3642\n",
      "Epoch [110/200], Loss: 0.3843\n",
      "Epoch [120/200], Loss: 0.4963\n",
      "Epoch [130/200], Loss: 0.2070\n",
      "Epoch [140/200], Loss: 0.1699\n",
      "Epoch [150/200], Loss: 0.1560\n",
      "Epoch [160/200], Loss: 0.2013\n",
      "Epoch [170/200], Loss: 0.1912\n",
      "Epoch [180/200], Loss: 0.1866\n",
      "Epoch [190/200], Loss: 0.1804\n",
      "Epoch [200/200], Loss: 0.1484\n"
     ]
    },
    {
     "data": {
      "text/html": [
       "<style>\n",
       "    table.wandb td:nth-child(1) { padding: 0 10px; text-align: left ; width: auto;} td:nth-child(2) {text-align: left ; width: 100%}\n",
       "    .wandb-row { display: flex; flex-direction: row; flex-wrap: wrap; justify-content: flex-start; width: 100% }\n",
       "    .wandb-col { display: flex; flex-direction: column; flex-basis: 100%; flex: 1; padding: 10px; }\n",
       "    </style>\n",
       "<div class=\"wandb-row\"><div class=\"wandb-col\"><h3>Run history:</h3><br/><table class=\"wandb\"><tr><td>loss</td><td>████▄▄████▆▆▄▇▆▃▃▃▃▅▄▆▆▃▇▃▂▁▁▁▁▃▂▂▂▂▃▃▂▁</td></tr><tr><td>val_f1</td><td>▁▁▁▁▁▁▁▁▁▁▁▁▁▁▁▁▁▁▁██▇▇▇▆▆▆▆▆▆▅▅</td></tr><tr><td>val_loss</td><td>▅▄▃▄▃▅▇▅▅▂▅▂▇▄▃█▄▄▄▁▅▄▆▄▇▄▅▅▄▇▅█</td></tr></table><br/></div><div class=\"wandb-col\"><h3>Run summary:</h3><br/><table class=\"wandb\"><tr><td>loss</td><td>0.14839</td></tr><tr><td>val_f1</td><td>0.04511</td></tr><tr><td>val_loss</td><td>1.24876</td></tr></table><br/></div></div>"
      ],
      "text/plain": [
       "<IPython.core.display.HTML object>"
      ]
     },
     "metadata": {},
     "output_type": "display_data"
    },
    {
     "data": {
      "text/html": [
       " View run <strong style=\"color:#cdcd00\">bumbling-sweep-6</strong> at: <a href='https://wandb.ai/cyrkrytaku/rnn-v3/runs/x2tsnhyy' target=\"_blank\">https://wandb.ai/cyrkrytaku/rnn-v3/runs/x2tsnhyy</a><br/> View project at: <a href='https://wandb.ai/cyrkrytaku/rnn-v3' target=\"_blank\">https://wandb.ai/cyrkrytaku/rnn-v3</a><br/>Synced 6 W&B file(s), 0 media file(s), 0 artifact file(s) and 0 other file(s)"
      ],
      "text/plain": [
       "<IPython.core.display.HTML object>"
      ]
     },
     "metadata": {},
     "output_type": "display_data"
    },
    {
     "data": {
      "text/html": [
       "Find logs at: <code>./wandb/run-20240527_203404-x2tsnhyy/logs</code>"
      ],
      "text/plain": [
       "<IPython.core.display.HTML object>"
      ]
     },
     "metadata": {},
     "output_type": "display_data"
    },
    {
     "name": "stderr",
     "output_type": "stream",
     "text": [
      "\u001b[34m\u001b[1mwandb\u001b[0m: Agent Starting Run: tu71h6x3 with config:\n",
      "\u001b[34m\u001b[1mwandb\u001b[0m: \thidden_depth: 2\n",
      "\u001b[34m\u001b[1mwandb\u001b[0m: \thidden_size: 3\n",
      "\u001b[34m\u001b[1mwandb\u001b[0m: \tlr: 0.0001\n",
      "\u001b[34m\u001b[1mwandb\u001b[0m: \tnum_epochs: 100\n",
      "Failed to detect the name of this notebook, you can set it manually with the WANDB_NOTEBOOK_NAME environment variable to enable code saving.\n"
     ]
    },
    {
     "data": {
      "text/html": [
       "wandb version 0.17.0 is available!  To upgrade, please run:\n",
       " $ pip install wandb --upgrade"
      ],
      "text/plain": [
       "<IPython.core.display.HTML object>"
      ]
     },
     "metadata": {},
     "output_type": "display_data"
    },
    {
     "data": {
      "text/html": [
       "Tracking run with wandb version 0.16.6"
      ],
      "text/plain": [
       "<IPython.core.display.HTML object>"
      ]
     },
     "metadata": {},
     "output_type": "display_data"
    },
    {
     "data": {
      "text/html": [
       "Run data is saved locally in <code>/Users/mlc/projects/university-of-copenhagen/advanced-deep-learning/GROUP/ADL/assignment_3/wandb/run-20240527_203431-tu71h6x3</code>"
      ],
      "text/plain": [
       "<IPython.core.display.HTML object>"
      ]
     },
     "metadata": {},
     "output_type": "display_data"
    },
    {
     "data": {
      "text/html": [
       "Syncing run <strong><a href='https://wandb.ai/cyrkrytaku/rnn-v3/runs/tu71h6x3' target=\"_blank\">treasured-sweep-7</a></strong> to <a href='https://wandb.ai/cyrkrytaku/rnn-v3' target=\"_blank\">Weights & Biases</a> (<a href='https://wandb.me/run' target=\"_blank\">docs</a>)<br/>Sweep page: <a href='https://wandb.ai/cyrkrytaku/rnn-v3/sweeps/kcjqebdg' target=\"_blank\">https://wandb.ai/cyrkrytaku/rnn-v3/sweeps/kcjqebdg</a>"
      ],
      "text/plain": [
       "<IPython.core.display.HTML object>"
      ]
     },
     "metadata": {},
     "output_type": "display_data"
    },
    {
     "data": {
      "text/html": [
       " View project at <a href='https://wandb.ai/cyrkrytaku/rnn-v3' target=\"_blank\">https://wandb.ai/cyrkrytaku/rnn-v3</a>"
      ],
      "text/plain": [
       "<IPython.core.display.HTML object>"
      ]
     },
     "metadata": {},
     "output_type": "display_data"
    },
    {
     "data": {
      "text/html": [
       " View sweep at <a href='https://wandb.ai/cyrkrytaku/rnn-v3/sweeps/kcjqebdg' target=\"_blank\">https://wandb.ai/cyrkrytaku/rnn-v3/sweeps/kcjqebdg</a>"
      ],
      "text/plain": [
       "<IPython.core.display.HTML object>"
      ]
     },
     "metadata": {},
     "output_type": "display_data"
    },
    {
     "data": {
      "text/html": [
       " View run at <a href='https://wandb.ai/cyrkrytaku/rnn-v3/runs/tu71h6x3' target=\"_blank\">https://wandb.ai/cyrkrytaku/rnn-v3/runs/tu71h6x3</a>"
      ],
      "text/plain": [
       "<IPython.core.display.HTML object>"
      ]
     },
     "metadata": {},
     "output_type": "display_data"
    },
    {
     "name": "stdout",
     "output_type": "stream",
     "text": [
      "Epoch [10/100], Loss: 0.6136\n",
      "Epoch [20/100], Loss: 0.5585\n",
      "Epoch [30/100], Loss: 0.5324\n",
      "Epoch [40/100], Loss: 0.5215\n",
      "Epoch [50/100], Loss: 0.5115\n",
      "Epoch [60/100], Loss: 0.5176\n",
      "Epoch [70/100], Loss: 0.5053\n",
      "Epoch [80/100], Loss: 0.5001\n",
      "Epoch [90/100], Loss: 0.4953\n",
      "Epoch [100/100], Loss: 0.5058\n"
     ]
    },
    {
     "data": {
      "text/html": [
       "<style>\n",
       "    table.wandb td:nth-child(1) { padding: 0 10px; text-align: left ; width: auto;} td:nth-child(2) {text-align: left ; width: 100%}\n",
       "    .wandb-row { display: flex; flex-direction: row; flex-wrap: wrap; justify-content: flex-start; width: 100% }\n",
       "    .wandb-col { display: flex; flex-direction: column; flex-basis: 100%; flex: 1; padding: 10px; }\n",
       "    </style>\n",
       "<div class=\"wandb-row\"><div class=\"wandb-col\"><h3>Run history:</h3><br/><table class=\"wandb\"><tr><td>loss</td><td>█▇▆▅▄▄▄▃▃▃▃▂▂▂▂▂▂▂▁▁▁▁▁▁▂▁▁▁▁▁▁▁▁▁▁▁▁▁▁▁</td></tr><tr><td>val_f1</td><td>▁▁▁▁▁▁▁▁▁▁▁▁▁▁▁▁▁▁▁▁▁▁▁▁▁▁▁▁▁▁▁▁</td></tr><tr><td>val_loss</td><td>▄▃▂▃▂▄▆▃▃▁▅▁▆▃▃█▃▃▃▃▃▂▅▃▆▃▄▃▃▇▅█</td></tr></table><br/></div><div class=\"wandb-col\"><h3>Run summary:</h3><br/><table class=\"wandb\"><tr><td>loss</td><td>0.50579</td></tr><tr><td>val_f1</td><td>0.0</td></tr><tr><td>val_loss</td><td>0.72932</td></tr></table><br/></div></div>"
      ],
      "text/plain": [
       "<IPython.core.display.HTML object>"
      ]
     },
     "metadata": {},
     "output_type": "display_data"
    },
    {
     "data": {
      "text/html": [
       " View run <strong style=\"color:#cdcd00\">treasured-sweep-7</strong> at: <a href='https://wandb.ai/cyrkrytaku/rnn-v3/runs/tu71h6x3' target=\"_blank\">https://wandb.ai/cyrkrytaku/rnn-v3/runs/tu71h6x3</a><br/> View project at: <a href='https://wandb.ai/cyrkrytaku/rnn-v3' target=\"_blank\">https://wandb.ai/cyrkrytaku/rnn-v3</a><br/>Synced 6 W&B file(s), 0 media file(s), 0 artifact file(s) and 0 other file(s)"
      ],
      "text/plain": [
       "<IPython.core.display.HTML object>"
      ]
     },
     "metadata": {},
     "output_type": "display_data"
    },
    {
     "data": {
      "text/html": [
       "Find logs at: <code>./wandb/run-20240527_203431-tu71h6x3/logs</code>"
      ],
      "text/plain": [
       "<IPython.core.display.HTML object>"
      ]
     },
     "metadata": {},
     "output_type": "display_data"
    },
    {
     "name": "stderr",
     "output_type": "stream",
     "text": [
      "\u001b[34m\u001b[1mwandb\u001b[0m: Sweep Agent: Waiting for job.\n",
      "\u001b[34m\u001b[1mwandb\u001b[0m: Job received.\n",
      "\u001b[34m\u001b[1mwandb\u001b[0m: Agent Starting Run: 485k5q2c with config:\n",
      "\u001b[34m\u001b[1mwandb\u001b[0m: \thidden_depth: 1\n",
      "\u001b[34m\u001b[1mwandb\u001b[0m: \thidden_size: 3\n",
      "\u001b[34m\u001b[1mwandb\u001b[0m: \tlr: 0.0001\n",
      "\u001b[34m\u001b[1mwandb\u001b[0m: \tnum_epochs: 100\n",
      "Failed to detect the name of this notebook, you can set it manually with the WANDB_NOTEBOOK_NAME environment variable to enable code saving.\n"
     ]
    },
    {
     "data": {
      "text/html": [
       "wandb version 0.17.0 is available!  To upgrade, please run:\n",
       " $ pip install wandb --upgrade"
      ],
      "text/plain": [
       "<IPython.core.display.HTML object>"
      ]
     },
     "metadata": {},
     "output_type": "display_data"
    },
    {
     "data": {
      "text/html": [
       "Tracking run with wandb version 0.16.6"
      ],
      "text/plain": [
       "<IPython.core.display.HTML object>"
      ]
     },
     "metadata": {},
     "output_type": "display_data"
    },
    {
     "data": {
      "text/html": [
       "Run data is saved locally in <code>/Users/mlc/projects/university-of-copenhagen/advanced-deep-learning/GROUP/ADL/assignment_3/wandb/run-20240527_203457-485k5q2c</code>"
      ],
      "text/plain": [
       "<IPython.core.display.HTML object>"
      ]
     },
     "metadata": {},
     "output_type": "display_data"
    },
    {
     "data": {
      "text/html": [
       "Syncing run <strong><a href='https://wandb.ai/cyrkrytaku/rnn-v3/runs/485k5q2c' target=\"_blank\">clear-sweep-8</a></strong> to <a href='https://wandb.ai/cyrkrytaku/rnn-v3' target=\"_blank\">Weights & Biases</a> (<a href='https://wandb.me/run' target=\"_blank\">docs</a>)<br/>Sweep page: <a href='https://wandb.ai/cyrkrytaku/rnn-v3/sweeps/kcjqebdg' target=\"_blank\">https://wandb.ai/cyrkrytaku/rnn-v3/sweeps/kcjqebdg</a>"
      ],
      "text/plain": [
       "<IPython.core.display.HTML object>"
      ]
     },
     "metadata": {},
     "output_type": "display_data"
    },
    {
     "data": {
      "text/html": [
       " View project at <a href='https://wandb.ai/cyrkrytaku/rnn-v3' target=\"_blank\">https://wandb.ai/cyrkrytaku/rnn-v3</a>"
      ],
      "text/plain": [
       "<IPython.core.display.HTML object>"
      ]
     },
     "metadata": {},
     "output_type": "display_data"
    },
    {
     "data": {
      "text/html": [
       " View sweep at <a href='https://wandb.ai/cyrkrytaku/rnn-v3/sweeps/kcjqebdg' target=\"_blank\">https://wandb.ai/cyrkrytaku/rnn-v3/sweeps/kcjqebdg</a>"
      ],
      "text/plain": [
       "<IPython.core.display.HTML object>"
      ]
     },
     "metadata": {},
     "output_type": "display_data"
    },
    {
     "data": {
      "text/html": [
       " View run at <a href='https://wandb.ai/cyrkrytaku/rnn-v3/runs/485k5q2c' target=\"_blank\">https://wandb.ai/cyrkrytaku/rnn-v3/runs/485k5q2c</a>"
      ],
      "text/plain": [
       "<IPython.core.display.HTML object>"
      ]
     },
     "metadata": {},
     "output_type": "display_data"
    },
    {
     "name": "stdout",
     "output_type": "stream",
     "text": [
      "Epoch [10/100], Loss: 0.7083\n",
      "Epoch [20/100], Loss: 0.6033\n",
      "Epoch [30/100], Loss: 0.5669\n",
      "Epoch [40/100], Loss: 0.5451\n",
      "Epoch [50/100], Loss: 0.5229\n",
      "Epoch [60/100], Loss: 0.5029\n",
      "Epoch [70/100], Loss: 0.4871\n",
      "Epoch [80/100], Loss: 0.4713\n",
      "Epoch [90/100], Loss: 0.4647\n",
      "Epoch [100/100], Loss: 0.4283\n"
     ]
    },
    {
     "data": {
      "text/html": [
       "<style>\n",
       "    table.wandb td:nth-child(1) { padding: 0 10px; text-align: left ; width: auto;} td:nth-child(2) {text-align: left ; width: 100%}\n",
       "    .wandb-row { display: flex; flex-direction: row; flex-wrap: wrap; justify-content: flex-start; width: 100% }\n",
       "    .wandb-col { display: flex; flex-direction: column; flex-basis: 100%; flex: 1; padding: 10px; }\n",
       "    </style>\n",
       "<div class=\"wandb-row\"><div class=\"wandb-col\"><h3>Run history:</h3><br/><table class=\"wandb\"><tr><td>loss</td><td>██▇▇▇▆▅▅▄▄▄▄▄▄▄▃▃▃▃▃▃▃▃▃▂▂▂▂▂▂▂▂▂▂▂▂▂▂▁▁</td></tr><tr><td>val_f1</td><td>▁▁▁▁▁▁▁▁▁▁▁▁▁▁▁▁▁▁▁▁▁▁▁▁▁▁▁▁▁▁▁▁</td></tr><tr><td>val_loss</td><td>▅▂▂▃▁▄▆▄▅▁▄▁▆▃▂█▃▃▃▂▄▃▄▄▇▄▃▄▂▇▅█</td></tr></table><br/></div><div class=\"wandb-col\"><h3>Run summary:</h3><br/><table class=\"wandb\"><tr><td>loss</td><td>0.42834</td></tr><tr><td>val_f1</td><td>0.0</td></tr><tr><td>val_loss</td><td>0.78276</td></tr></table><br/></div></div>"
      ],
      "text/plain": [
       "<IPython.core.display.HTML object>"
      ]
     },
     "metadata": {},
     "output_type": "display_data"
    },
    {
     "data": {
      "text/html": [
       " View run <strong style=\"color:#cdcd00\">clear-sweep-8</strong> at: <a href='https://wandb.ai/cyrkrytaku/rnn-v3/runs/485k5q2c' target=\"_blank\">https://wandb.ai/cyrkrytaku/rnn-v3/runs/485k5q2c</a><br/> View project at: <a href='https://wandb.ai/cyrkrytaku/rnn-v3' target=\"_blank\">https://wandb.ai/cyrkrytaku/rnn-v3</a><br/>Synced 6 W&B file(s), 0 media file(s), 0 artifact file(s) and 0 other file(s)"
      ],
      "text/plain": [
       "<IPython.core.display.HTML object>"
      ]
     },
     "metadata": {},
     "output_type": "display_data"
    },
    {
     "data": {
      "text/html": [
       "Find logs at: <code>./wandb/run-20240527_203457-485k5q2c/logs</code>"
      ],
      "text/plain": [
       "<IPython.core.display.HTML object>"
      ]
     },
     "metadata": {},
     "output_type": "display_data"
    },
    {
     "name": "stderr",
     "output_type": "stream",
     "text": [
      "\u001b[34m\u001b[1mwandb\u001b[0m: Agent Starting Run: vh9bby1k with config:\n",
      "\u001b[34m\u001b[1mwandb\u001b[0m: \thidden_depth: 2\n",
      "\u001b[34m\u001b[1mwandb\u001b[0m: \thidden_size: 20\n",
      "\u001b[34m\u001b[1mwandb\u001b[0m: \tlr: 0.0001\n",
      "\u001b[34m\u001b[1mwandb\u001b[0m: \tnum_epochs: 100\n",
      "Failed to detect the name of this notebook, you can set it manually with the WANDB_NOTEBOOK_NAME environment variable to enable code saving.\n"
     ]
    },
    {
     "data": {
      "text/html": [
       "wandb version 0.17.0 is available!  To upgrade, please run:\n",
       " $ pip install wandb --upgrade"
      ],
      "text/plain": [
       "<IPython.core.display.HTML object>"
      ]
     },
     "metadata": {},
     "output_type": "display_data"
    },
    {
     "data": {
      "text/html": [
       "Tracking run with wandb version 0.16.6"
      ],
      "text/plain": [
       "<IPython.core.display.HTML object>"
      ]
     },
     "metadata": {},
     "output_type": "display_data"
    },
    {
     "data": {
      "text/html": [
       "Run data is saved locally in <code>/Users/mlc/projects/university-of-copenhagen/advanced-deep-learning/GROUP/ADL/assignment_3/wandb/run-20240527_203512-vh9bby1k</code>"
      ],
      "text/plain": [
       "<IPython.core.display.HTML object>"
      ]
     },
     "metadata": {},
     "output_type": "display_data"
    },
    {
     "data": {
      "text/html": [
       "Syncing run <strong><a href='https://wandb.ai/cyrkrytaku/rnn-v3/runs/vh9bby1k' target=\"_blank\">generous-sweep-9</a></strong> to <a href='https://wandb.ai/cyrkrytaku/rnn-v3' target=\"_blank\">Weights & Biases</a> (<a href='https://wandb.me/run' target=\"_blank\">docs</a>)<br/>Sweep page: <a href='https://wandb.ai/cyrkrytaku/rnn-v3/sweeps/kcjqebdg' target=\"_blank\">https://wandb.ai/cyrkrytaku/rnn-v3/sweeps/kcjqebdg</a>"
      ],
      "text/plain": [
       "<IPython.core.display.HTML object>"
      ]
     },
     "metadata": {},
     "output_type": "display_data"
    },
    {
     "data": {
      "text/html": [
       " View project at <a href='https://wandb.ai/cyrkrytaku/rnn-v3' target=\"_blank\">https://wandb.ai/cyrkrytaku/rnn-v3</a>"
      ],
      "text/plain": [
       "<IPython.core.display.HTML object>"
      ]
     },
     "metadata": {},
     "output_type": "display_data"
    },
    {
     "data": {
      "text/html": [
       " View sweep at <a href='https://wandb.ai/cyrkrytaku/rnn-v3/sweeps/kcjqebdg' target=\"_blank\">https://wandb.ai/cyrkrytaku/rnn-v3/sweeps/kcjqebdg</a>"
      ],
      "text/plain": [
       "<IPython.core.display.HTML object>"
      ]
     },
     "metadata": {},
     "output_type": "display_data"
    },
    {
     "data": {
      "text/html": [
       " View run at <a href='https://wandb.ai/cyrkrytaku/rnn-v3/runs/vh9bby1k' target=\"_blank\">https://wandb.ai/cyrkrytaku/rnn-v3/runs/vh9bby1k</a>"
      ],
      "text/plain": [
       "<IPython.core.display.HTML object>"
      ]
     },
     "metadata": {},
     "output_type": "display_data"
    },
    {
     "name": "stdout",
     "output_type": "stream",
     "text": [
      "Epoch [10/100], Loss: 0.4967\n",
      "Epoch [20/100], Loss: 0.3178\n",
      "Epoch [30/100], Loss: 0.2803\n",
      "Epoch [40/100], Loss: 0.2436\n",
      "Epoch [50/100], Loss: 0.2219\n",
      "Epoch [60/100], Loss: 0.1976\n",
      "Epoch [70/100], Loss: 0.1853\n",
      "Epoch [80/100], Loss: 0.1982\n",
      "Epoch [90/100], Loss: 0.1796\n",
      "Epoch [100/100], Loss: 0.1522\n"
     ]
    },
    {
     "data": {
      "text/html": [
       "<style>\n",
       "    table.wandb td:nth-child(1) { padding: 0 10px; text-align: left ; width: auto;} td:nth-child(2) {text-align: left ; width: 100%}\n",
       "    .wandb-row { display: flex; flex-direction: row; flex-wrap: wrap; justify-content: flex-start; width: 100% }\n",
       "    .wandb-col { display: flex; flex-direction: column; flex-basis: 100%; flex: 1; padding: 10px; }\n",
       "    </style>\n",
       "<div class=\"wandb-row\"><div class=\"wandb-col\"><h3>Run history:</h3><br/><table class=\"wandb\"><tr><td>loss</td><td>█▇▆▆▅▅▄▄▃▃▃▃▃▃▂▂▂▂▂▂▂▂▂▂▂▂▂▂▂▁▁▁▁▁▁▁▁▁▁▁</td></tr><tr><td>val_f1</td><td>▁█▃▇▄▇█▄▂▂▄▃▃▃▂▃▃▄▂▃▂▂▂▂▃▃▃▃▃▃▄▄</td></tr><tr><td>val_loss</td><td>▅▁▃▁▃▃▄█▆▃▂▄▅▅▄▅▄▁█▁▆▄▅▄▅▅▂▅▂▄▄▅</td></tr></table><br/></div><div class=\"wandb-col\"><h3>Run summary:</h3><br/><table class=\"wandb\"><tr><td>loss</td><td>0.15224</td></tr><tr><td>val_f1</td><td>0.89485</td></tr><tr><td>val_loss</td><td>0.18376</td></tr></table><br/></div></div>"
      ],
      "text/plain": [
       "<IPython.core.display.HTML object>"
      ]
     },
     "metadata": {},
     "output_type": "display_data"
    },
    {
     "data": {
      "text/html": [
       " View run <strong style=\"color:#cdcd00\">generous-sweep-9</strong> at: <a href='https://wandb.ai/cyrkrytaku/rnn-v3/runs/vh9bby1k' target=\"_blank\">https://wandb.ai/cyrkrytaku/rnn-v3/runs/vh9bby1k</a><br/> View project at: <a href='https://wandb.ai/cyrkrytaku/rnn-v3' target=\"_blank\">https://wandb.ai/cyrkrytaku/rnn-v3</a><br/>Synced 6 W&B file(s), 0 media file(s), 0 artifact file(s) and 0 other file(s)"
      ],
      "text/plain": [
       "<IPython.core.display.HTML object>"
      ]
     },
     "metadata": {},
     "output_type": "display_data"
    },
    {
     "data": {
      "text/html": [
       "Find logs at: <code>./wandb/run-20240527_203512-vh9bby1k/logs</code>"
      ],
      "text/plain": [
       "<IPython.core.display.HTML object>"
      ]
     },
     "metadata": {},
     "output_type": "display_data"
    },
    {
     "name": "stderr",
     "output_type": "stream",
     "text": [
      "\u001b[34m\u001b[1mwandb\u001b[0m: Sweep Agent: Waiting for job.\n",
      "\u001b[34m\u001b[1mwandb\u001b[0m: Job received.\n",
      "\u001b[34m\u001b[1mwandb\u001b[0m: Agent Starting Run: n14g815v with config:\n",
      "\u001b[34m\u001b[1mwandb\u001b[0m: \thidden_depth: 1\n",
      "\u001b[34m\u001b[1mwandb\u001b[0m: \thidden_size: 3\n",
      "\u001b[34m\u001b[1mwandb\u001b[0m: \tlr: 0.001\n",
      "\u001b[34m\u001b[1mwandb\u001b[0m: \tnum_epochs: 300\n",
      "Failed to detect the name of this notebook, you can set it manually with the WANDB_NOTEBOOK_NAME environment variable to enable code saving.\n"
     ]
    },
    {
     "data": {
      "text/html": [
       "wandb version 0.17.0 is available!  To upgrade, please run:\n",
       " $ pip install wandb --upgrade"
      ],
      "text/plain": [
       "<IPython.core.display.HTML object>"
      ]
     },
     "metadata": {},
     "output_type": "display_data"
    },
    {
     "data": {
      "text/html": [
       "Tracking run with wandb version 0.16.6"
      ],
      "text/plain": [
       "<IPython.core.display.HTML object>"
      ]
     },
     "metadata": {},
     "output_type": "display_data"
    },
    {
     "data": {
      "text/html": [
       "Run data is saved locally in <code>/Users/mlc/projects/university-of-copenhagen/advanced-deep-learning/GROUP/ADL/assignment_3/wandb/run-20240527_203538-n14g815v</code>"
      ],
      "text/plain": [
       "<IPython.core.display.HTML object>"
      ]
     },
     "metadata": {},
     "output_type": "display_data"
    },
    {
     "data": {
      "text/html": [
       "Syncing run <strong><a href='https://wandb.ai/cyrkrytaku/rnn-v3/runs/n14g815v' target=\"_blank\">distinctive-sweep-10</a></strong> to <a href='https://wandb.ai/cyrkrytaku/rnn-v3' target=\"_blank\">Weights & Biases</a> (<a href='https://wandb.me/run' target=\"_blank\">docs</a>)<br/>Sweep page: <a href='https://wandb.ai/cyrkrytaku/rnn-v3/sweeps/kcjqebdg' target=\"_blank\">https://wandb.ai/cyrkrytaku/rnn-v3/sweeps/kcjqebdg</a>"
      ],
      "text/plain": [
       "<IPython.core.display.HTML object>"
      ]
     },
     "metadata": {},
     "output_type": "display_data"
    },
    {
     "data": {
      "text/html": [
       " View project at <a href='https://wandb.ai/cyrkrytaku/rnn-v3' target=\"_blank\">https://wandb.ai/cyrkrytaku/rnn-v3</a>"
      ],
      "text/plain": [
       "<IPython.core.display.HTML object>"
      ]
     },
     "metadata": {},
     "output_type": "display_data"
    },
    {
     "data": {
      "text/html": [
       " View sweep at <a href='https://wandb.ai/cyrkrytaku/rnn-v3/sweeps/kcjqebdg' target=\"_blank\">https://wandb.ai/cyrkrytaku/rnn-v3/sweeps/kcjqebdg</a>"
      ],
      "text/plain": [
       "<IPython.core.display.HTML object>"
      ]
     },
     "metadata": {},
     "output_type": "display_data"
    },
    {
     "data": {
      "text/html": [
       " View run at <a href='https://wandb.ai/cyrkrytaku/rnn-v3/runs/n14g815v' target=\"_blank\">https://wandb.ai/cyrkrytaku/rnn-v3/runs/n14g815v</a>"
      ],
      "text/plain": [
       "<IPython.core.display.HTML object>"
      ]
     },
     "metadata": {},
     "output_type": "display_data"
    },
    {
     "name": "stdout",
     "output_type": "stream",
     "text": [
      "Epoch [10/300], Loss: 0.5070\n",
      "Epoch [20/300], Loss: 0.4579\n",
      "Epoch [30/300], Loss: 0.4093\n",
      "Epoch [40/300], Loss: 0.3900\n",
      "Epoch [50/300], Loss: 0.2581\n",
      "Epoch [60/300], Loss: 0.2252\n",
      "Epoch [70/300], Loss: 0.2095\n",
      "Epoch [80/300], Loss: 0.2122\n",
      "Epoch [90/300], Loss: 0.2028\n",
      "Epoch [100/300], Loss: 0.1979\n",
      "Epoch [110/300], Loss: 0.2067\n",
      "Epoch [120/300], Loss: 0.1956\n",
      "Epoch [130/300], Loss: 0.1874\n",
      "Epoch [140/300], Loss: 0.1609\n",
      "Epoch [150/300], Loss: 0.1368\n",
      "Epoch [160/300], Loss: 0.1330\n",
      "Epoch [170/300], Loss: 0.1276\n",
      "Epoch [180/300], Loss: 0.1216\n",
      "Epoch [190/300], Loss: 0.1189\n",
      "Epoch [200/300], Loss: 0.1929\n",
      "Epoch [210/300], Loss: 0.1115\n",
      "Epoch [220/300], Loss: 0.1112\n",
      "Epoch [230/300], Loss: 0.1057\n",
      "Epoch [240/300], Loss: 0.1176\n",
      "Epoch [250/300], Loss: 0.1005\n",
      "Epoch [260/300], Loss: 0.1131\n",
      "Epoch [270/300], Loss: 0.0965\n",
      "Epoch [280/300], Loss: 0.1349\n",
      "Epoch [290/300], Loss: 0.0891\n",
      "Epoch [300/300], Loss: 0.1060\n"
     ]
    },
    {
     "data": {
      "text/html": [
       "<style>\n",
       "    table.wandb td:nth-child(1) { padding: 0 10px; text-align: left ; width: auto;} td:nth-child(2) {text-align: left ; width: 100%}\n",
       "    .wandb-row { display: flex; flex-direction: row; flex-wrap: wrap; justify-content: flex-start; width: 100% }\n",
       "    .wandb-col { display: flex; flex-direction: column; flex-basis: 100%; flex: 1; padding: 10px; }\n",
       "    </style>\n",
       "<div class=\"wandb-row\"><div class=\"wandb-col\"><h3>Run history:</h3><br/><table class=\"wandb\"><tr><td>loss</td><td>██▇▆▆▆▄▃▃▃▃▃▃▃▃▃▂▃▂▂▂▂▂▂▂▂▃▁▂▁▁▂▁▁▁▁▁▁▂▁</td></tr><tr><td>val_f1</td><td>█▇▃▁▃▃▄▃▂▂▃▃▂▂▂▃▂▂▂▃▂▂▃▂▂▂▃▃▃▄▄▄</td></tr><tr><td>val_loss</td><td>▄▂▅▅▁▇▄▆▅▃▄▂▇▄▅▆▇▂▆▁▅▄▂▇█▃▂▄▁▅▂▃</td></tr></table><br/></div><div class=\"wandb-col\"><h3>Run summary:</h3><br/><table class=\"wandb\"><tr><td>loss</td><td>0.106</td></tr><tr><td>val_f1</td><td>0.90293</td></tr><tr><td>val_loss</td><td>0.09776</td></tr></table><br/></div></div>"
      ],
      "text/plain": [
       "<IPython.core.display.HTML object>"
      ]
     },
     "metadata": {},
     "output_type": "display_data"
    },
    {
     "data": {
      "text/html": [
       " View run <strong style=\"color:#cdcd00\">distinctive-sweep-10</strong> at: <a href='https://wandb.ai/cyrkrytaku/rnn-v3/runs/n14g815v' target=\"_blank\">https://wandb.ai/cyrkrytaku/rnn-v3/runs/n14g815v</a><br/> View project at: <a href='https://wandb.ai/cyrkrytaku/rnn-v3' target=\"_blank\">https://wandb.ai/cyrkrytaku/rnn-v3</a><br/>Synced 6 W&B file(s), 0 media file(s), 0 artifact file(s) and 0 other file(s)"
      ],
      "text/plain": [
       "<IPython.core.display.HTML object>"
      ]
     },
     "metadata": {},
     "output_type": "display_data"
    },
    {
     "data": {
      "text/html": [
       "Find logs at: <code>./wandb/run-20240527_203538-n14g815v/logs</code>"
      ],
      "text/plain": [
       "<IPython.core.display.HTML object>"
      ]
     },
     "metadata": {},
     "output_type": "display_data"
    }
   ],
   "source": [
    "wandb.agent(sweep_id, train_wandb, count=10)"
   ]
  },
  {
   "cell_type": "code",
   "execution_count": null,
   "metadata": {},
   "outputs": [],
   "source": []
  }
 ],
 "metadata": {
  "kernelspec": {
   "display_name": "torch",
   "language": "python",
   "name": "python3"
  },
  "language_info": {
   "codemirror_mode": {
    "name": "ipython",
    "version": 3
   },
   "file_extension": ".py",
   "mimetype": "text/x-python",
   "name": "python",
   "nbconvert_exporter": "python",
   "pygments_lexer": "ipython3",
   "version": "3.10.13"
  }
 },
 "nbformat": 4,
 "nbformat_minor": 2
}
