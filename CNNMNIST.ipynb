{
 "cells": [
  {
   "cell_type": "code",
   "execution_count": 1,
   "metadata": {},
   "outputs": [],
   "source": [
    "try:\n",
    "  import google.colab\n",
    "  IN_COLAB = True\n",
    "except:\n",
    "  IN_COLAB = False\n",
    "if IN_COLAB:\n",
    "    !pip3 install torch matplotlib torchmetrics scikit-image segmentation-models-pytorch"
   ]
  },
  {
   "cell_type": "markdown",
   "metadata": {},
   "source": [
    "## Import"
   ]
  },
  {
   "cell_type": "code",
   "execution_count": 2,
   "metadata": {},
   "outputs": [],
   "source": [
    "import torch\n",
    "import torch.nn as nn\n",
    "import torch.optim as optim\n",
    "import torch.utils.data as dset\n",
    "from torchvision import datasets, transforms"
   ]
  },
  {
   "cell_type": "markdown",
   "metadata": {},
   "source": [
    "## Set global device"
   ]
  },
  {
   "cell_type": "code",
   "execution_count": 4,
   "metadata": {},
   "outputs": [
    {
     "name": "stdout",
     "output_type": "stream",
     "text": [
      "GPU State: mps:0\n"
     ]
    }
   ],
   "source": [
    "# GPU\n",
    "# device = 'cuda:0' if torch.cuda.is_available() else 'cpu'\n",
    "\n",
    "if torch.cuda.is_available():\n",
    "    device = 'cuda:0'\n",
    "elif torch.backends.mps.is_available():\n",
    "    device = 'mps:0'\n",
    "else:\n",
    "    device = 'cpu'\n",
    "\n",
    "print('GPU State:', device)"
   ]
  },
  {
   "cell_type": "markdown",
   "metadata": {},
   "source": [
    "## Functions"
   ]
  },
  {
   "cell_type": "code",
   "execution_count": 5,
   "metadata": {},
   "outputs": [],
   "source": [
    "def training_loop(model, loss, optimizer, loader, epochs, verbose=True, device=device):\n",
    "    \"\"\"\n",
    "    Run training of CNN model given a loss function, optimizer, and set of training and validation data\n",
    "    \"\"\"\n",
    "\n",
    "    # Train\n",
    "    for epoch in range(epochs):\n",
    "        # Setting initial loss\n",
    "        running_loss = 0.0\n",
    "\n",
    "        for times, data in enumerate(loader):\n",
    "            # Retrieve inputs and labels\n",
    "            inputs, labels = data[0].to(device), data[1].to(device)\n",
    "            #inputs = inputs.view(inputs.shape[0], -1)\n",
    "            #print(inputs)\n",
    "        \n",
    "            # Resetting optimizer gradients\n",
    "            optimizer.zero_grad()\n",
    "\n",
    "            # Forward + backward + steps\n",
    "            outputs = model(inputs)\n",
    "            loss_tensor = loss(outputs, labels)\n",
    "            loss_tensor.backward()\n",
    "            optimizer.step()\n",
    "\n",
    "            # Print statistics\n",
    "            running_loss += loss_tensor.item()\n",
    "            if verbose:\n",
    "                if times % 100 == 99 or times+1 == len(loader):\n",
    "                    print('[%d/%d, %d/%d] loss: %.3f' % (epoch+1, epochs, times+1, len(loader), running_loss/2000))"
   ]
  },
  {
   "cell_type": "code",
   "execution_count": 6,
   "metadata": {},
   "outputs": [],
   "source": [
    "def evaluate_model(model, loader, device):\n",
    "    \"\"\"\n",
    "    Evaluate a model on all batches of a torch DataLoader\n",
    "\n",
    "    Returns:\n",
    "        Total number of correct classifications\n",
    "        Total number of images\n",
    "        List of the per class correct classification\n",
    "        List of hte per class total number of images\n",
    "    \"\"\"\n",
    "\n",
    "    # Test\n",
    "    correct = 0\n",
    "    total = 0\n",
    "\n",
    "    with torch.no_grad():\n",
    "        for data in loader:\n",
    "            inputs, labels = data\n",
    "            inputs, labels = inputs.to(device), labels.to(device)\n",
    "            #inputs = inputs.view(inputs.shape[0], -1)\n",
    "\n",
    "            outputs = model(inputs)\n",
    "            _, predicted = torch.max(outputs.data, 1)\n",
    "            total += labels.size(0)\n",
    "            correct += (predicted == labels).sum().item()\n",
    "\n",
    "    class_correct = [0 for i in range(10)]\n",
    "    class_total = [0 for i in range(10)]\n",
    "\n",
    "    with torch.no_grad():\n",
    "        for data in loader:\n",
    "            inputs, labels = data[0].to(device), data[1].to(device)\n",
    "            #inputs = inputs.view(inputs.shape[0], -1)\n",
    "\n",
    "            outputs = model(inputs)\n",
    "            _, predicted = torch.max(outputs, 1)\n",
    "            c = (predicted == labels).squeeze()\n",
    "            for i in range(10):\n",
    "                label = labels[i]\n",
    "                class_correct[label] += c[i].item()\n",
    "                class_total[label] += 1 \n",
    "    \n",
    "    return (correct, total, class_correct, class_total)\n",
    "            "
   ]
  },
  {
   "cell_type": "markdown",
   "metadata": {},
   "source": [
    "## Main program"
   ]
  },
  {
   "cell_type": "code",
   "execution_count": 7,
   "metadata": {},
   "outputs": [],
   "source": [
    "# Transform\n",
    "transform = transforms.Compose(\n",
    "    [transforms.ToTensor(),\n",
    "     transforms.Normalize((0.5,), (0.5,)),]\n",
    ")"
   ]
  },
  {
   "cell_type": "code",
   "execution_count": 8,
   "metadata": {},
   "outputs": [],
   "source": [
    "# Data\n",
    "trainSet = datasets.MNIST(root='MNIST', download=True, train=True, transform=transform)\n",
    "testSet = datasets.MNIST(root='MNIST', download=True, train=False, transform=transform)\n",
    "trainLoader = dset.DataLoader(trainSet, batch_size=64, shuffle=True)\n",
    "testLoader = dset.DataLoader(testSet, batch_size=64, shuffle=False)"
   ]
  },
  {
   "cell_type": "code",
   "execution_count": 9,
   "metadata": {},
   "outputs": [
    {
     "name": "stdout",
     "output_type": "stream",
     "text": [
      "Net(\n",
      "  (main): Sequential(\n",
      "    (0): Conv2d(1, 16, kernel_size=(3, 3), stride=(1, 1))\n",
      "    (1): ReLU()\n",
      "    (2): MaxPool2d(kernel_size=2, stride=2, padding=0, dilation=1, ceil_mode=False)\n",
      "    (3): Conv2d(16, 32, kernel_size=(3, 3), stride=(1, 1))\n",
      "    (4): ReLU()\n",
      "    (5): MaxPool2d(kernel_size=2, stride=2, padding=0, dilation=1, ceil_mode=False)\n",
      "    (6): Flatten(start_dim=1, end_dim=-1)\n",
      "    (7): Linear(in_features=800, out_features=10, bias=True)\n",
      "    (8): LogSoftmax(dim=1)\n",
      "  )\n",
      ")\n"
     ]
    }
   ],
   "source": [
    "# Model\n",
    "class Net(nn.Module):\n",
    "    def __init__(self):\n",
    "        super(Net, self).__init__()\n",
    "        self.main = nn.Sequential(\n",
    "            nn.Conv2d(1, 16, kernel_size=(3, 3), stride=(1, 1)),\n",
    "            nn.ReLU(),\n",
    "            nn.MaxPool2d(kernel_size=2, stride=2, padding=0, dilation=1, ceil_mode=False),\n",
    "            nn.Conv2d(16, 32, kernel_size=(3, 3), stride=(1, 1)),\n",
    "            nn.ReLU(),\n",
    "            nn.MaxPool2d(kernel_size=2, stride=2, padding=0, dilation=1, ceil_mode=False),\n",
    "            nn.Flatten(start_dim=1, end_dim=-1), \n",
    "            nn.Linear(in_features=800, out_features=10, bias=True),\n",
    "            nn.LogSoftmax(dim=1)\n",
    "        )\n",
    "    \n",
    "    def forward(self, input):\n",
    "        return self.main(input)\n",
    "    \n",
    "net = Net().to(device)\n",
    "print(net)"
   ]
  },
  {
   "cell_type": "code",
   "execution_count": 20,
   "metadata": {},
   "outputs": [
    {
     "data": {
      "text/plain": [
       "12810"
      ]
     },
     "execution_count": 20,
     "metadata": {},
     "output_type": "execute_result"
    }
   ],
   "source": [
    "calculated_parameters = (3*3*1+1)*16 + (3*3*16+1)*32 + (800*10)+10\n",
    "calculated_parameters"
   ]
  },
  {
   "cell_type": "code",
   "execution_count": 21,
   "metadata": {},
   "outputs": [
    {
     "name": "stdout",
     "output_type": "stream",
     "text": [
      "4800\n"
     ]
    }
   ],
   "source": [
    "print((3*3*1+1)*16 + (3*3*16+1)*32)"
   ]
  },
  {
   "cell_type": "code",
   "execution_count": 19,
   "metadata": {},
   "outputs": [
    {
     "data": {
      "text/plain": [
       "12810"
      ]
     },
     "execution_count": 19,
     "metadata": {},
     "output_type": "execute_result"
    }
   ],
   "source": [
    "def count_parameters(model):\n",
    "    return sum(p.numel() for p in model.parameters())\n",
    "params = count_parameters(net)\n",
    "params"
   ]
  },
  {
   "cell_type": "code",
   "execution_count": 10,
   "metadata": {},
   "outputs": [
    {
     "data": {
      "text/plain": [
       "[('main.0.weight', torch.Size([16, 1, 3, 3])),\n",
       " ('main.0.bias', torch.Size([16])),\n",
       " ('main.3.weight', torch.Size([32, 16, 3, 3])),\n",
       " ('main.3.bias', torch.Size([32])),\n",
       " ('main.7.weight', torch.Size([10, 800])),\n",
       " ('main.7.bias', torch.Size([10]))]"
      ]
     },
     "execution_count": 10,
     "metadata": {},
     "output_type": "execute_result"
    }
   ],
   "source": [
    "# Checking parameters\n",
    "[(name, param.shape) for name, param in net.named_parameters()]"
   ]
  },
  {
   "cell_type": "code",
   "execution_count": 9,
   "metadata": {},
   "outputs": [
    {
     "name": "stdout",
     "output_type": "stream",
     "text": [
      "Training on 60000 images\n",
      "[1/4, 100/938] loss: 0.098\n",
      "[1/4, 200/938] loss: 0.132\n",
      "[1/4, 300/938] loss: 0.151\n",
      "[1/4, 400/938] loss: 0.166\n",
      "[1/4, 500/938] loss: 0.179\n",
      "[1/4, 600/938] loss: 0.190\n",
      "[1/4, 700/938] loss: 0.200\n",
      "[1/4, 800/938] loss: 0.210\n",
      "[1/4, 900/938] loss: 0.219\n",
      "[1/4, 938/938] loss: 0.222\n",
      "[2/4, 100/938] loss: 0.008\n",
      "[2/4, 200/938] loss: 0.015\n",
      "[2/4, 300/938] loss: 0.022\n",
      "[2/4, 400/938] loss: 0.029\n",
      "[2/4, 500/938] loss: 0.035\n",
      "[2/4, 600/938] loss: 0.040\n",
      "[2/4, 700/938] loss: 0.046\n",
      "[2/4, 800/938] loss: 0.051\n",
      "[2/4, 900/938] loss: 0.057\n",
      "[2/4, 938/938] loss: 0.059\n",
      "[3/4, 100/938] loss: 0.005\n",
      "[3/4, 200/938] loss: 0.010\n",
      "[3/4, 300/938] loss: 0.015\n",
      "[3/4, 400/938] loss: 0.020\n",
      "[3/4, 500/938] loss: 0.025\n",
      "[3/4, 600/938] loss: 0.029\n",
      "[3/4, 700/938] loss: 0.034\n",
      "[3/4, 800/938] loss: 0.038\n",
      "[3/4, 900/938] loss: 0.042\n",
      "[3/4, 938/938] loss: 0.044\n",
      "[4/4, 100/938] loss: 0.004\n",
      "[4/4, 200/938] loss: 0.008\n",
      "[4/4, 300/938] loss: 0.012\n",
      "[4/4, 400/938] loss: 0.015\n",
      "[4/4, 500/938] loss: 0.018\n",
      "[4/4, 600/938] loss: 0.023\n",
      "[4/4, 700/938] loss: 0.028\n",
      "[4/4, 800/938] loss: 0.031\n",
      "[4/4, 900/938] loss: 0.035\n",
      "[4/4, 938/938] loss: 0.037\n",
      "Training Finished.\n",
      "\n",
      "Accuracy of the network on the 10000 test images: 98 %\n",
      "Accuracy of 0: 0.993421\n",
      "Accuracy of 1: 0.983784\n",
      "Accuracy of 2: 0.982558\n",
      "Accuracy of 3: 0.980769\n",
      "Accuracy of 4: 0.977401\n",
      "Accuracy of 5: 0.984127\n",
      "Accuracy of 6: 0.968750\n",
      "Accuracy of 7: 0.963415\n",
      "Accuracy of 8: 0.972028\n",
      "Accuracy of 9: 0.982036\n"
     ]
    }
   ],
   "source": [
    "# Parameters\n",
    "epochs = 4\n",
    "lr = 0.002\n",
    "loss = nn.NLLLoss()\n",
    "optimizer = optim.SGD(net.parameters(), lr=0.002, momentum=0.9)\n",
    "\n",
    "# Train\n",
    "print('Training on %d images' % trainSet.data.shape[0])\n",
    "training_loop(net, loss, optimizer, trainLoader, epochs)\n",
    "print('Training Finished.\\n')\n",
    "\n",
    "# Test\n",
    "correct, total, class_correct, class_total = evaluate_model(net, testLoader, device)\n",
    "print('Accuracy of the network on the %d test images: %d %%' % (testSet.data.shape[0], (100*correct / total)))\n",
    "for i in range(10):\n",
    "    print('Accuracy of %d: %3f' % (i, (class_correct[i]/class_total[i])))"
   ]
  },
  {
   "cell_type": "code",
   "execution_count": null,
   "metadata": {},
   "outputs": [],
   "source": []
  }
 ],
 "metadata": {
  "kernelspec": {
   "display_name": "adl",
   "language": "python",
   "name": "python3"
  },
  "language_info": {
   "codemirror_mode": {
    "name": "ipython",
    "version": 3
   },
   "file_extension": ".py",
   "mimetype": "text/x-python",
   "name": "python",
   "nbconvert_exporter": "python",
   "pygments_lexer": "ipython3",
   "version": "3.10.13"
  }
 },
 "nbformat": 4,
 "nbformat_minor": 2
}
