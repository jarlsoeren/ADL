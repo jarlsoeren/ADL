{
 "cells": [
  {
   "cell_type": "code",
   "execution_count": null,
   "metadata": {
    "id": "0Uj6zeRHmSaZ"
   },
   "outputs": [],
   "source": [
    "import torch\n",
    "import torch.nn as nn\n",
    "import torch.utils\n",
    "from torchvision import datasets, transforms\n",
    "import numpy as np\n",
    "import matplotlib.pyplot as plt"
   ]
  },
  {
   "cell_type": "code",
   "execution_count": null,
   "metadata": {
    "colab": {
     "base_uri": "https://localhost:8080/"
    },
    "id": "xyZCTRrXmZQi",
    "outputId": "249ffbba-ff83-4bf1-cad7-8df6df08b746"
   },
   "outputs": [],
   "source": [
    "device = 'cuda' if torch.cuda.is_available() else 'cpu'\n",
    "print(device)"
   ]
  },
  {
   "cell_type": "code",
   "execution_count": null,
   "metadata": {
    "id": "jXErBx69mdBl"
   },
   "outputs": [],
   "source": [
    "class FF(nn.Module):\n",
    "    def __init__(self, dim1, dim2, dim3):\n",
    "        super().__init__()\n",
    "        self.main = nn.Sequential(\n",
    "            nn.Linear(in_features=dim1, out_features=dim2),\n",
    "            nn.ReLU(),\n",
    "            nn.Linear(in_features=dim2, out_features=dim3)\n",
    "        )\n",
    "\n",
    "    def forward(self, input):\n",
    "        return self.main(input)"
   ]
  },
  {
   "cell_type": "code",
   "execution_count": null,
   "metadata": {
    "id": "owle7hnUmekP"
   },
   "outputs": [],
   "source": [
    "class VAE(nn.Module):\n",
    "    def __init__(self, dim1, dim2, dim3):\n",
    "        super(VAE, self).__init__()\n",
    "\n",
    "        self.fc1 = nn.Linear(dim1, dim2)\n",
    "        self.fc21 = nn.Linear(dim2, dim3)  # Mean\n",
    "        self.fc22 = nn.Linear(dim2, dim3)  # Variance\n",
    "        self.fc3 = nn.Linear(dim3, dim2)\n",
    "        self.fc4 = nn.Linear(dim2, dim1)\n",
    "\n",
    "    def encode(self, x):\n",
    "        h1 = torch.relu(self.fc1(x))\n",
    "        return self.fc21(h1), self.fc22(h1)\n",
    "\n",
    "    def reparameterize(self, mu, logvar):\n",
    "        std = torch.exp(0.5 * logvar)\n",
    "        eps = torch.randn_like(std)\n",
    "        return mu + eps * std\n",
    "\n",
    "    def decode(self, z):\n",
    "        h3 = torch.relu(self.fc3(z))\n",
    "        return torch.sigmoid(self.fc4(h3))\n",
    "\n",
    "    def forward(self, x):\n",
    "        mu, logvar = self.encode(x.view(-1, 784))\n",
    "        z = self.reparameterize(mu, logvar)\n",
    "        return self.decode(z), mu, logvar"
   ]
  },
  {
   "cell_type": "code",
   "execution_count": null,
   "metadata": {
    "id": "zzQiv8lYmelX"
   },
   "outputs": [],
   "source": [
    "def loss_function(recon_x, x, mu, logvar):\n",
    "    BCE = nn.functional.binary_cross_entropy(recon_x, x.view(-1, 28*28), reduction='sum')\n",
    "    KLD = -0.5 * torch.sum(1 + logvar - mu.pow(2) - logvar.exp())\n",
    "    return BCE + KLD"
   ]
  },
  {
   "cell_type": "code",
   "execution_count": null,
   "metadata": {
    "id": "s20BgzTUmjoJ"
   },
   "outputs": [],
   "source": [
    "def train(data_loader, model, optimizer, epochs=20):\n",
    "    model.to(device)  # GPU\n",
    "    model.train()\n",
    "    losses = []\n",
    "    for epoch in range(epochs):\n",
    "        for i, (x, _) in enumerate(data_loader):\n",
    "            x = x.to(device)  # GPU\n",
    "            optimizer.zero_grad()\n",
    "            recon_batch, mu, logvar = model(x)\n",
    "            loss = loss_function(recon_batch, x, mu, logvar)\n",
    "            losses.append(loss.item())\n",
    "            loss.backward()\n",
    "            optimizer.step()\n",
    "            if i % 100 == 0:\n",
    "                print(f\"{epoch}/{i}: {loss.item()}\")\n",
    "    return model, losses"
   ]
  },
  {
   "cell_type": "code",
   "execution_count": null,
   "metadata": {
    "id": "1TcvK1Shmnbx"
   },
   "outputs": [],
   "source": [
    "def plot_latent(data_loader, model, num_batches=100):\n",
    "    model.eval()\n",
    "    with torch.no_grad():\n",
    "        for i, (x, y) in enumerate(data_loader):\n",
    "            x = x.to(device)\n",
    "            mu, logvar = model.encode(x.view(-1, 28*28))\n",
    "            z = model.reparameterize(mu, logvar)\n",
    "            z = z.to('cpu').detach().numpy()\n",
    "            plt.scatter(z[:, 0], z[:, 1], c=y, alpha=0.5)\n",
    "            if i > num_batches:\n",
    "                plt.colorbar()\n",
    "                break"
   ]
  },
  {
   "cell_type": "code",
   "execution_count": null,
   "metadata": {
    "colab": {
     "base_uri": "https://localhost:8080/"
    },
    "id": "YLF6p_6smrA1",
    "outputId": "094eb416-4ee6-4f0b-a1b3-17e601ed4d4d"
   },
   "outputs": [],
   "source": [
    "# Load MNIST dataset\n",
    "transform_vae = transforms.Compose([\n",
    "    transforms.ToTensor(),\n",
    "    transforms.Lambda(lambda x: torch.flatten(x, start_dim=-2))\n",
    "])\n",
    "\n",
    "data_vae = datasets.MNIST('./data', transform=transform_vae, download=True)\n",
    "\n",
    "data_loader_vae = torch.utils.data.DataLoader(data_vae, batch_size=128, shuffle=True)\n",
    "\n",
    "# Initialize VAE model\n",
    "vae_model = VAE(dim1=28*28, dim2=512, dim3=2)\n",
    "\n",
    "# Initialize optimizer\n",
    "optimizer = torch.optim.Adam(vae_model.parameters(), lr=1e-3)\n",
    "\n",
    "# Train VAE model\n",
    "trained_model, losses = train(data_loader_vae, vae_model, optimizer)"
   ]
  },
  {
   "cell_type": "code",
   "execution_count": null,
   "metadata": {
    "colab": {
     "base_uri": "https://localhost:8080/",
     "height": 435
    },
    "id": "2VmC6rLlmuFd",
    "outputId": "f78a81d3-3c4d-4737-d7de-8b0880136da2"
   },
   "outputs": [],
   "source": [
    "# Plot latent space\n",
    "plot_latent(data_loader_vae, trained_model)\n",
    "plt.show()"
   ]
  },
  {
   "cell_type": "code",
   "execution_count": null,
   "metadata": {
    "colab": {
     "base_uri": "https://localhost:8080/",
     "height": 168
    },
    "id": "mfDyh_lWq_XM",
    "outputId": "a2869279-b1da-48b9-fa12-e56dcffe62a6"
   },
   "outputs": [],
   "source": [
    "def plot_generated_samples(model, num_samples=10):\n",
    "    with torch.no_grad():\n",
    "        z = torch.randn(num_samples, model.fc21.out_features).to(device)  # Sample from standard normal distribution\n",
    "        generated_samples = model.decode(z).cpu().view(-1, 1, 28, 28)  # Pass through decoder\n",
    "        generated_samples = generated_samples.numpy()\n",
    "\n",
    "        fig, axs = plt.subplots(1, num_samples, figsize=(20, 2))\n",
    "        for i, sample in enumerate(generated_samples):\n",
    "            axs[i].imshow(sample[0], cmap='gray')\n",
    "            axs[i].axis('off')\n",
    "        plt.show()\n",
    "\n",
    "# Plot generated samples\n",
    "plot_generated_samples(trained_model)\n",
    "plt.savefig('generated.pdf')"
   ]
  }
 ],
 "metadata": {
  "colab": {
   "provenance": []
  },
  "kernelspec": {
   "display_name": "Python 3 (ipykernel)",
   "language": "python",
   "name": "python3"
  },
  "language_info": {
   "codemirror_mode": {
    "name": "ipython",
    "version": 3
   },
   "file_extension": ".py",
   "mimetype": "text/x-python",
   "name": "python",
   "nbconvert_exporter": "python",
   "pygments_lexer": "ipython3",
   "version": "3.11.4"
  }
 },
 "nbformat": 4,
 "nbformat_minor": 1
}
