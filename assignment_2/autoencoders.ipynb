{
 "cells": [
  {
   "cell_type": "code",
   "execution_count": null,
   "metadata": {
    "id": "hIHxOr52ssUN"
   },
   "outputs": [],
   "source": [
    "#Inspired by https://avandekleut.github.io/vae/\n",
    "import torch;\n",
    "import torch.nn as nn\n",
    "import torch.utils\n",
    "from torchvision import datasets, transforms\n",
    "import numpy as np\n",
    "import matplotlib.pyplot as plt"
   ]
  },
  {
   "cell_type": "code",
   "execution_count": null,
   "metadata": {
    "colab": {
     "base_uri": "https://localhost:8080/"
    },
    "id": "B1NBXcKis9Za",
    "outputId": "dddea4f9-b8e4-4901-a03b-31548df33d1a"
   },
   "outputs": [],
   "source": [
    "device = 'cuda' if torch.cuda.is_available() else 'cpu'\n",
    "print(device)"
   ]
  },
  {
   "cell_type": "code",
   "execution_count": null,
   "metadata": {
    "colab": {
     "base_uri": "https://localhost:8080/"
    },
    "id": "sQJcLXEMs_iy",
    "outputId": "1388269a-71df-486d-d9cf-50deb1bfbc6e"
   },
   "outputs": [],
   "source": [
    "class FF(nn.Module):\n",
    "    def __init__(self,dim1,dim2,dim3):\n",
    "        super().__init__()\n",
    "        self.main = nn.Sequential(\n",
    "            nn.Linear(in_features=dim1, out_features=dim2),\n",
    "            nn.ReLU(),\n",
    "            nn.Linear(in_features=dim2, out_features=dim3)\n",
    "        )\n",
    "\n",
    "    def forward(self, input):\n",
    "        return self.main(input)\n",
    "tmp = FF(28*28,512,2)\n",
    "print(tmp)\n",
    "print(tmp(torch.rand(10,1,28*28)).shape)"
   ]
  },
  {
   "cell_type": "code",
   "execution_count": null,
   "metadata": {
    "colab": {
     "base_uri": "https://localhost:8080/"
    },
    "id": "7ne6vzRutCcq",
    "outputId": "22579d13-d643-45ee-ac15-b3dded9a0efe"
   },
   "outputs": [],
   "source": [
    "class Autoencoder(nn.Module):\n",
    "    def __init__(self, dim1, dim2, dim3):\n",
    "        super().__init__()\n",
    "        self.encoder = FF(dim1, dim2, dim3)\n",
    "        self.decoder = nn.Sequential(\n",
    "            FF(dim3, dim2, dim1),\n",
    "            nn.Sigmoid()\n",
    "        )\n",
    "\n",
    "    def forward(self, x):\n",
    "        x = self.encoder(x)\n",
    "        x = self.decoder(x)\n",
    "        return x\n",
    "tmp = Autoencoder(28*28,512,2)\n",
    "print(tmp)\n",
    "print(tmp(torch.rand(10,1,28*28)).shape)"
   ]
  },
  {
   "cell_type": "code",
   "execution_count": null,
   "metadata": {
    "id": "2bUI42f1tGLX"
   },
   "outputs": [],
   "source": [
    "def train(data_loader, model, optimizer, loss_function, epochs=20):\n",
    "    model.to(device) # GPU\n",
    "    losses = []\n",
    "    for epoch in range(epochs):\n",
    "        for i, (x, y) in enumerate(data_loader):\n",
    "            x = x.to(device) # GPU\n",
    "            optimizer.zero_grad()\n",
    "            x_hat = model(x)\n",
    "            loss = loss_function(x, x_hat)\n",
    "            losses.append(loss.clone().detach().cpu().numpy())\n",
    "            loss.backward()\n",
    "            optimizer.step()\n",
    "            if i % 100 == 0:\n",
    "                print(f\"{epoch}/{i}: {loss}\")\n",
    "    return (model, losses)"
   ]
  },
  {
   "cell_type": "code",
   "execution_count": null,
   "metadata": {
    "id": "nmlk4sXKtJUp"
   },
   "outputs": [],
   "source": [
    "def plot_latent(data_loader, encoder, dim1=0, dim2=1, num_batches=100):\n",
    "    for i, (x, y) in enumerate(data_loader):\n",
    "        z = encoder(x.to(device))\n",
    "        z = z.to('cpu').detach().numpy()\n",
    "        plt.scatter(z[:, 0, dim1], z[:, 0, dim2], c=y, alpha=0.5)\n",
    "        if i > num_batches:\n",
    "            plt.colorbar()\n",
    "            break"
   ]
  },
  {
   "cell_type": "code",
   "execution_count": null,
   "metadata": {
    "id": "qeGEzIPktMKK"
   },
   "outputs": [],
   "source": [
    "def plot_reconstructed(decoder, w, h, r0=(-10, 10), r1=(-10, 10), n=12):\n",
    "    img = np.zeros((n*w, n*h))\n",
    "    for i, y in enumerate(np.linspace(*r1, n)):\n",
    "        for j, x in enumerate(np.linspace(*r0, n)):\n",
    "            z = torch.Tensor([[x, y]]).view(1,1,2).to(device)\n",
    "            x_hat = decoder(z)\n",
    "            x_hat = x_hat.reshape(w, h).to('cpu').detach().numpy()\n",
    "            img[(n-1-i)*w:(n-1-i+1)*w, j*w:(j+1)*w] = x_hat\n",
    "    plt.imshow(img, extent=[*r0, *r1])"
   ]
  },
  {
   "cell_type": "code",
   "execution_count": null,
   "metadata": {
    "colab": {
     "base_uri": "https://localhost:8080/"
    },
    "id": "8EMnjpTAtOi2",
    "outputId": "8d5bdefc-3834-44ba-d7d1-236e6c9b8be0"
   },
   "outputs": [],
   "source": [
    "# Transform\n",
    "transform = transforms.Compose([\n",
    "    transforms.ToTensor(),\n",
    "    transforms.Lambda(lambda x: torch.flatten(x,start_dim=-2))\n",
    "])\n",
    "\n",
    "data = datasets.MNIST('./data',transform=transform,download=True)\n",
    "\n",
    "n, w, h = data.data.shape\n",
    "\n",
    "data_loader = torch.utils.data.DataLoader(data,batch_size=128,shuffle=True)\n",
    "\n",
    "model = Autoencoder(w*h, 512, 2)\n",
    "\n",
    "optimizer = torch.optim.Adam(model.parameters())\n",
    "\n",
    "loss_function = torch.nn.MSELoss()\n",
    "\n",
    "(autoencoder, losses) = train(data_loader, model, optimizer, loss_function,20)"
   ]
  },
  {
   "cell_type": "code",
   "execution_count": null,
   "metadata": {
    "id": "lwCAfSOm-1IS"
   },
   "outputs": [],
   "source": [
    "# Defining the Plot Style\n",
    "plt.xlabel('Iterations')\n",
    "plt.ylabel('Loss')\n",
    "\n",
    "# Plotting the losses\n",
    "plt.plot(losses)"
   ]
  },
  {
   "cell_type": "code",
   "execution_count": null,
   "metadata": {
    "colab": {
     "base_uri": "https://localhost:8080/",
     "height": 435
    },
    "id": "NSnUIzSjtSsZ",
    "outputId": "0bfc2d63-020d-4843-c9da-08f52912246f"
   },
   "outputs": [],
   "source": [
    "# Plot latent space\n",
    "plot_latent(data_loader, autoencoder.encoder)\n",
    "plt.savefig('latent.pdf')"
   ]
  },
  {
   "cell_type": "code",
   "execution_count": null,
   "metadata": {
    "colab": {
     "base_uri": "https://localhost:8080/",
     "height": 435
    },
    "id": "Tunh1e1gtZ7C",
    "outputId": "12c94371-dd9e-4c3a-e790-aa29d1b59a78"
   },
   "outputs": [],
   "source": [
    "# Generate samples from latent space\n",
    "plot_reconstructed(autoencoder.decoder,w,h)\n",
    "plt.savefig('reconstruction.pdf')"
   ]
  },
  {
   "cell_type": "code",
   "execution_count": null,
   "metadata": {
    "colab": {
     "base_uri": "https://localhost:8080/",
     "height": 1000
    },
    "id": "0DceCH8qtaVO",
    "outputId": "1f79dc3b-c081-49ab-fab4-7dccbae8b72a"
   },
   "outputs": [],
   "source": [
    "# Plot reconstruction error versus number of latent nodes\n"
   ]
  }
 ],
 "metadata": {
  "colab": {
   "provenance": []
  },
  "kernelspec": {
   "display_name": "Python 3 (ipykernel)",
   "language": "python",
   "name": "python3"
  },
  "language_info": {
   "codemirror_mode": {
    "name": "ipython",
    "version": 3
   },
   "file_extension": ".py",
   "mimetype": "text/x-python",
   "name": "python",
   "nbconvert_exporter": "python",
   "pygments_lexer": "ipython3",
   "version": "3.11.4"
  }
 },
 "nbformat": 4,
 "nbformat_minor": 1
}
